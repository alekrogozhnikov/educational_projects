{
 "cells": [
  {
   "cell_type": "markdown",
   "metadata": {},
   "source": [
    "**Основная задача:** Приоритизировать гипотезы.\n",
    "\n",
    "Этапы достижения основной задачи:\n",
    " - применить фреймворк ICE для приоритизации гипотез\n",
    " - применить фреймворк RICE для приоритизации гипотез\n",
    " - указать, как изменилась приоритизация гипотез при применении RICE вместо ICE"
   ]
  },
  {
   "cell_type": "markdown",
   "metadata": {},
   "source": [
    "# Часть 1. Приоритизация гипотез\n",
    "\n",
    "## Изучение данных"
   ]
  },
  {
   "cell_type": "code",
   "execution_count": 1,
   "metadata": {},
   "outputs": [],
   "source": [
    "# Импортируем необходимые библиотеки\n",
    "import pandas as pd\n",
    "import numpy as np\n",
    "import plotly.graph_objects as go\n",
    "import plotly.express as px\n",
    "import scipy.stats as stats"
   ]
  },
  {
   "cell_type": "markdown",
   "metadata": {},
   "source": [
    "Структура **data_hypothesis**:\n",
    "- **Hypothesis** — краткое описание гипотезы;\n",
    "- **Reach** — охват пользователей по 10-балльной шкале;\n",
    "- **Impact** — влияние на пользователей по 10-балльной шкале;\n",
    "- **Confidence** — уверенность в гипотезе по 10-балльной шкале;\n",
    "- **Efforts** — затраты ресурсов на проверку гипотезы по 10-балльной шкале. Чем больше значение Efforts, тем дороже проверка гипотезы."
   ]
  },
  {
   "cell_type": "code",
   "execution_count": 2,
   "metadata": {},
   "outputs": [
    {
     "name": "stdout",
     "output_type": "stream",
     "text": [
      "<class 'pandas.core.frame.DataFrame'>\n",
      "RangeIndex: 9 entries, 0 to 8\n",
      "Data columns (total 5 columns):\n",
      " #   Column      Non-Null Count  Dtype \n",
      "---  ------      --------------  ----- \n",
      " 0   Hypothesis  9 non-null      object\n",
      " 1   Reach       9 non-null      int64 \n",
      " 2   Impact      9 non-null      int64 \n",
      " 3   Confidence  9 non-null      int64 \n",
      " 4   Efforts     9 non-null      int64 \n",
      "dtypes: int64(4), object(1)\n",
      "memory usage: 488.0+ bytes\n"
     ]
    }
   ],
   "source": [
    "# оценим данные\n",
    "pd.options.display.max_colwidth = 120\n",
    "pd.read_csv('hypothesis.csv').info()"
   ]
  },
  {
   "cell_type": "code",
   "execution_count": 3,
   "metadata": {},
   "outputs": [
    {
     "name": "stdout",
     "output_type": "stream",
     "text": [
      "<class 'pandas.core.frame.DataFrame'>\n",
      "RangeIndex: 9 entries, 0 to 8\n",
      "Data columns (total 5 columns):\n",
      " #   Column      Non-Null Count  Dtype \n",
      "---  ------      --------------  ----- \n",
      " 0   hypothesis  9 non-null      object\n",
      " 1   reach       9 non-null      int64 \n",
      " 2   impact      9 non-null      int64 \n",
      " 3   сonfidence  9 non-null      int64 \n",
      " 4   efforts     9 non-null      int64 \n",
      "dtypes: int64(4), object(1)\n",
      "memory usage: 488.0+ bytes\n"
     ]
    }
   ],
   "source": [
    "# оценив данные, создадим пайплайн для загрузки полного датасета:    \n",
    "data_hypothesis = pd.read_csv('hypothesis.csv',\n",
    "    names=['hypothesis','reach','impact','сonfidence','efforts'], header=0\n",
    ") \n",
    "data_hypothesis.info() "
   ]
  },
  {
   "cell_type": "markdown",
   "metadata": {},
   "source": [
    "## Фреймворк ICE"
   ]
  },
  {
   "cell_type": "markdown",
   "metadata": {},
   "source": [
    "Рассчет произведем по формуле:\n",
    "    $$ICE = \\frac{Impact * Confidence}{Efforts}$$"
   ]
  },
  {
   "cell_type": "code",
   "execution_count": 4,
   "metadata": {},
   "outputs": [
    {
     "data": {
      "text/html": [
       "<div>\n",
       "<style scoped>\n",
       "    .dataframe tbody tr th:only-of-type {\n",
       "        vertical-align: middle;\n",
       "    }\n",
       "\n",
       "    .dataframe tbody tr th {\n",
       "        vertical-align: top;\n",
       "    }\n",
       "\n",
       "    .dataframe thead th {\n",
       "        text-align: right;\n",
       "    }\n",
       "</style>\n",
       "<table border=\"1\" class=\"dataframe\">\n",
       "  <thead>\n",
       "    <tr style=\"text-align: right;\">\n",
       "      <th></th>\n",
       "      <th>hypothesis</th>\n",
       "      <th>ICE</th>\n",
       "    </tr>\n",
       "  </thead>\n",
       "  <tbody>\n",
       "    <tr>\n",
       "      <th>8</th>\n",
       "      <td>Запустить акцию, дающую скидку на товар в день рождения</td>\n",
       "      <td>16.20</td>\n",
       "    </tr>\n",
       "    <tr>\n",
       "      <th>0</th>\n",
       "      <td>Добавить два новых канала привлечения трафика, что позволит привлекать на 30% больше пользователей</td>\n",
       "      <td>13.33</td>\n",
       "    </tr>\n",
       "    <tr>\n",
       "      <th>7</th>\n",
       "      <td>Добавить форму подписки на все основные страницы, чтобы собрать базу клиентов для email-рассылок</td>\n",
       "      <td>11.20</td>\n",
       "    </tr>\n",
       "    <tr>\n",
       "      <th>6</th>\n",
       "      <td>Показать на главной странице баннеры с актуальными акциями и распродажами, чтобы увеличить конверсию</td>\n",
       "      <td>8.00</td>\n",
       "    </tr>\n",
       "    <tr>\n",
       "      <th>2</th>\n",
       "      <td>Добавить блоки рекомендаций товаров на сайт интернет магазина, чтобы повысить конверсию и средний чек заказа</td>\n",
       "      <td>7.00</td>\n",
       "    </tr>\n",
       "    <tr>\n",
       "      <th>1</th>\n",
       "      <td>Запустить собственную службу доставки, что сократит срок доставки заказов</td>\n",
       "      <td>2.00</td>\n",
       "    </tr>\n",
       "    <tr>\n",
       "      <th>5</th>\n",
       "      <td>Добавить страницу отзывов клиентов о магазине, что позволит увеличить количество заказов</td>\n",
       "      <td>1.33</td>\n",
       "    </tr>\n",
       "    <tr>\n",
       "      <th>3</th>\n",
       "      <td>Изменить структура категорий, что увеличит конверсию, т.к. пользователи быстрее найдут нужный товар</td>\n",
       "      <td>1.12</td>\n",
       "    </tr>\n",
       "    <tr>\n",
       "      <th>4</th>\n",
       "      <td>Изменить цвет фона главной страницы, чтобы увеличить вовлеченность пользователей</td>\n",
       "      <td>1.00</td>\n",
       "    </tr>\n",
       "  </tbody>\n",
       "</table>\n",
       "</div>"
      ],
      "text/plain": [
       "                                                                                                     hypothesis  \\\n",
       "8                                                       Запустить акцию, дающую скидку на товар в день рождения   \n",
       "0            Добавить два новых канала привлечения трафика, что позволит привлекать на 30% больше пользователей   \n",
       "7              Добавить форму подписки на все основные страницы, чтобы собрать базу клиентов для email-рассылок   \n",
       "6          Показать на главной странице баннеры с актуальными акциями и распродажами, чтобы увеличить конверсию   \n",
       "2  Добавить блоки рекомендаций товаров на сайт интернет магазина, чтобы повысить конверсию и средний чек заказа   \n",
       "1                                     Запустить собственную службу доставки, что сократит срок доставки заказов   \n",
       "5                      Добавить страницу отзывов клиентов о магазине, что позволит увеличить количество заказов   \n",
       "3           Изменить структура категорий, что увеличит конверсию, т.к. пользователи быстрее найдут нужный товар   \n",
       "4                              Изменить цвет фона главной страницы, чтобы увеличить вовлеченность пользователей   \n",
       "\n",
       "     ICE  \n",
       "8  16.20  \n",
       "0  13.33  \n",
       "7  11.20  \n",
       "6   8.00  \n",
       "2   7.00  \n",
       "1   2.00  \n",
       "5   1.33  \n",
       "3   1.12  \n",
       "4   1.00  "
      ]
     },
     "execution_count": 4,
     "metadata": {},
     "output_type": "execute_result"
    }
   ],
   "source": [
    "data_hypothesis['ICE'] = (data_hypothesis['impact'] * data_hypothesis['сonfidence'] / data_hypothesis['efforts']).round(2)\n",
    "data_hypothesis.sort_values('ICE', ascending=False)[['hypothesis','ICE']]"
   ]
  },
  {
   "cell_type": "markdown",
   "metadata": {},
   "source": [
    "## Фреймворк RICE"
   ]
  },
  {
   "cell_type": "markdown",
   "metadata": {},
   "source": [
    "Рассчет произведем по формуле:\n",
    "$$RICE = \\frac{Rearch * Impact * Confidence}{Efforts}$$"
   ]
  },
  {
   "cell_type": "code",
   "execution_count": 5,
   "metadata": {
    "scrolled": true
   },
   "outputs": [
    {
     "data": {
      "text/html": [
       "<div>\n",
       "<style scoped>\n",
       "    .dataframe tbody tr th:only-of-type {\n",
       "        vertical-align: middle;\n",
       "    }\n",
       "\n",
       "    .dataframe tbody tr th {\n",
       "        vertical-align: top;\n",
       "    }\n",
       "\n",
       "    .dataframe thead th {\n",
       "        text-align: right;\n",
       "    }\n",
       "</style>\n",
       "<table border=\"1\" class=\"dataframe\">\n",
       "  <thead>\n",
       "    <tr style=\"text-align: right;\">\n",
       "      <th></th>\n",
       "      <th>hypothesis</th>\n",
       "      <th>RICE</th>\n",
       "    </tr>\n",
       "  </thead>\n",
       "  <tbody>\n",
       "    <tr>\n",
       "      <th>7</th>\n",
       "      <td>Добавить форму подписки на все основные страницы, чтобы собрать базу клиентов для email-рассылок</td>\n",
       "      <td>112.0</td>\n",
       "    </tr>\n",
       "    <tr>\n",
       "      <th>2</th>\n",
       "      <td>Добавить блоки рекомендаций товаров на сайт интернет магазина, чтобы повысить конверсию и средний чек заказа</td>\n",
       "      <td>56.0</td>\n",
       "    </tr>\n",
       "    <tr>\n",
       "      <th>0</th>\n",
       "      <td>Добавить два новых канала привлечения трафика, что позволит привлекать на 30% больше пользователей</td>\n",
       "      <td>40.0</td>\n",
       "    </tr>\n",
       "    <tr>\n",
       "      <th>6</th>\n",
       "      <td>Показать на главной странице баннеры с актуальными акциями и распродажами, чтобы увеличить конверсию</td>\n",
       "      <td>40.0</td>\n",
       "    </tr>\n",
       "    <tr>\n",
       "      <th>8</th>\n",
       "      <td>Запустить акцию, дающую скидку на товар в день рождения</td>\n",
       "      <td>16.2</td>\n",
       "    </tr>\n",
       "    <tr>\n",
       "      <th>3</th>\n",
       "      <td>Изменить структура категорий, что увеличит конверсию, т.к. пользователи быстрее найдут нужный товар</td>\n",
       "      <td>9.0</td>\n",
       "    </tr>\n",
       "    <tr>\n",
       "      <th>1</th>\n",
       "      <td>Запустить собственную службу доставки, что сократит срок доставки заказов</td>\n",
       "      <td>4.0</td>\n",
       "    </tr>\n",
       "    <tr>\n",
       "      <th>5</th>\n",
       "      <td>Добавить страницу отзывов клиентов о магазине, что позволит увеличить количество заказов</td>\n",
       "      <td>4.0</td>\n",
       "    </tr>\n",
       "    <tr>\n",
       "      <th>4</th>\n",
       "      <td>Изменить цвет фона главной страницы, чтобы увеличить вовлеченность пользователей</td>\n",
       "      <td>3.0</td>\n",
       "    </tr>\n",
       "  </tbody>\n",
       "</table>\n",
       "</div>"
      ],
      "text/plain": [
       "                                                                                                     hypothesis  \\\n",
       "7              Добавить форму подписки на все основные страницы, чтобы собрать базу клиентов для email-рассылок   \n",
       "2  Добавить блоки рекомендаций товаров на сайт интернет магазина, чтобы повысить конверсию и средний чек заказа   \n",
       "0            Добавить два новых канала привлечения трафика, что позволит привлекать на 30% больше пользователей   \n",
       "6          Показать на главной странице баннеры с актуальными акциями и распродажами, чтобы увеличить конверсию   \n",
       "8                                                       Запустить акцию, дающую скидку на товар в день рождения   \n",
       "3           Изменить структура категорий, что увеличит конверсию, т.к. пользователи быстрее найдут нужный товар   \n",
       "1                                     Запустить собственную службу доставки, что сократит срок доставки заказов   \n",
       "5                      Добавить страницу отзывов клиентов о магазине, что позволит увеличить количество заказов   \n",
       "4                              Изменить цвет фона главной страницы, чтобы увеличить вовлеченность пользователей   \n",
       "\n",
       "    RICE  \n",
       "7  112.0  \n",
       "2   56.0  \n",
       "0   40.0  \n",
       "6   40.0  \n",
       "8   16.2  \n",
       "3    9.0  \n",
       "1    4.0  \n",
       "5    4.0  \n",
       "4    3.0  "
      ]
     },
     "execution_count": 5,
     "metadata": {},
     "output_type": "execute_result"
    }
   ],
   "source": [
    "data_hypothesis['RICE'] = ((data_hypothesis['сonfidence'] * data_hypothesis['reach'] * data_hypothesis['impact']) / data_hypothesis['efforts']).round(2)\n",
    "data_hypothesis.sort_values('RICE', ascending=False)[['hypothesis', 'RICE']]"
   ]
  },
  {
   "cell_type": "markdown",
   "metadata": {},
   "source": [
    "**Вывод:** В фреймворк RICE входит переменная, которая учитывает насколько сильно изменение повлияет на пользователей. Поэтому, приоритизация нововедений фреймворком RICE имееет первоочередные пункты, связанные напрямую с клиентами, в отличии от фреймворка ICE. Для клиентоориентированности первоочередными тремя гипотезами являются: \n",
    "- Добавить форму подписки на все основные страницы, чтобы собрать базу клиентов для email-рассылок;\n",
    "- Добавить блоки рекомендаций товаров на сайт интернет магазина, чтобы повысить конверсию и средний чек заказа;\n",
    "- Добавить два новых канала привлечения трафика, что позволит привлекать на 30% больше пользователей;\n",
    "- Показать на главной странице баннеры с актуальными акциями и распродажами, чтобы увеличить конверсию."
   ]
  },
  {
   "cell_type": "markdown",
   "metadata": {},
   "source": [
    "# Часть 2. Анализ A/B-теста\n",
    "\n",
    "## Изучение данных\n"
   ]
  },
  {
   "cell_type": "markdown",
   "metadata": {},
   "source": [
    "Структура **visits**:\n",
    "- **date** — дата;\n",
    "- **group** — группа A/B-теста;\n",
    "- **visitors** — количество пользователей в указанную дату в указанной группе A/B-теста\n",
    "\n",
    "Структура **visitors**:\n",
    "- **transactionId** — идентификатор заказа;\n",
    "- **visitorId** — идентификатор пользователя, совершившего заказ;\n",
    "- **date** — дата, когда был совершён заказ;\n",
    "- **revenue** — выручка заказа;\n",
    "- **group** — группа A/B-теста, в которую попал заказ."
   ]
  },
  {
   "cell_type": "code",
   "execution_count": 6,
   "metadata": {},
   "outputs": [
    {
     "name": "stdout",
     "output_type": "stream",
     "text": [
      "<class 'pandas.core.frame.DataFrame'>\n",
      "RangeIndex: 1197 entries, 0 to 1196\n",
      "Data columns (total 5 columns):\n",
      " #   Column         Non-Null Count  Dtype \n",
      "---  ------         --------------  ----- \n",
      " 0   transactionId  1197 non-null   int64 \n",
      " 1   visitorId      1197 non-null   int64 \n",
      " 2   date           1197 non-null   object\n",
      " 3   revenue        1197 non-null   int64 \n",
      " 4   group          1197 non-null   object\n",
      "dtypes: int64(3), object(2)\n",
      "memory usage: 46.9+ KB\n"
     ]
    }
   ],
   "source": [
    "# оценим данные orders\n",
    "pd.read_csv('orders.csv').info()"
   ]
  },
  {
   "cell_type": "code",
   "execution_count": 7,
   "metadata": {},
   "outputs": [
    {
     "name": "stdout",
     "output_type": "stream",
     "text": [
      "<class 'pandas.core.frame.DataFrame'>\n",
      "RangeIndex: 62 entries, 0 to 61\n",
      "Data columns (total 3 columns):\n",
      " #   Column    Non-Null Count  Dtype \n",
      "---  ------    --------------  ----- \n",
      " 0   date      62 non-null     object\n",
      " 1   group     62 non-null     object\n",
      " 2   visitors  62 non-null     int64 \n",
      "dtypes: int64(1), object(2)\n",
      "memory usage: 1.6+ KB\n"
     ]
    }
   ],
   "source": [
    "# оценим данные visitors\n",
    "pd.read_csv('visitors.csv').info()"
   ]
  },
  {
   "cell_type": "markdown",
   "metadata": {},
   "source": [
    "Оценив данные, создадим пайплайн для загрузки полного датасета:"
   ]
  },
  {
   "cell_type": "code",
   "execution_count": 8,
   "metadata": {},
   "outputs": [],
   "source": [
    "orders = pd.read_csv('orders.csv',\n",
    "    names=['transaction_id','visitor_id','date','revenue','group'], header=0,\n",
    "    parse_dates=['date']\n",
    ") \n",
    "visitors = pd.read_csv('visitors.csv',\n",
    "    names=['date','group','visitors'], header=0,\n",
    "    parse_dates=['date']  \n",
    ") "
   ]
  },
  {
   "cell_type": "markdown",
   "metadata": {},
   "source": [
    "Выполним проверку и удаление дубликатов в каждом DF:"
   ]
  },
  {
   "cell_type": "code",
   "execution_count": 9,
   "metadata": {},
   "outputs": [
    {
     "data": {
      "text/plain": [
       "0"
      ]
     },
     "execution_count": 9,
     "metadata": {},
     "output_type": "execute_result"
    }
   ],
   "source": [
    "orders.duplicated().sum()"
   ]
  },
  {
   "cell_type": "code",
   "execution_count": 10,
   "metadata": {
    "scrolled": true
   },
   "outputs": [
    {
     "data": {
      "text/plain": [
       "0"
      ]
     },
     "execution_count": 10,
     "metadata": {},
     "output_type": "execute_result"
    }
   ],
   "source": [
    "\n",
    "visitors.duplicated().sum()"
   ]
  },
  {
   "cell_type": "markdown",
   "metadata": {},
   "source": [
    "Убедимся, что все данные удовлетворяют нашим условиям:"
   ]
  },
  {
   "cell_type": "code",
   "execution_count": 11,
   "metadata": {},
   "outputs": [
    {
     "name": "stdout",
     "output_type": "stream",
     "text": [
      "<class 'pandas.core.frame.DataFrame'>\n",
      "RangeIndex: 1197 entries, 0 to 1196\n",
      "Data columns (total 5 columns):\n",
      " #   Column          Non-Null Count  Dtype         \n",
      "---  ------          --------------  -----         \n",
      " 0   transaction_id  1197 non-null   int64         \n",
      " 1   visitor_id      1197 non-null   int64         \n",
      " 2   date            1197 non-null   datetime64[ns]\n",
      " 3   revenue         1197 non-null   int64         \n",
      " 4   group           1197 non-null   object        \n",
      "dtypes: datetime64[ns](1), int64(3), object(1)\n",
      "memory usage: 46.9+ KB\n"
     ]
    }
   ],
   "source": [
    "orders.info()"
   ]
  },
  {
   "cell_type": "code",
   "execution_count": 12,
   "metadata": {},
   "outputs": [
    {
     "name": "stdout",
     "output_type": "stream",
     "text": [
      "<class 'pandas.core.frame.DataFrame'>\n",
      "RangeIndex: 62 entries, 0 to 61\n",
      "Data columns (total 3 columns):\n",
      " #   Column    Non-Null Count  Dtype         \n",
      "---  ------    --------------  -----         \n",
      " 0   date      62 non-null     datetime64[ns]\n",
      " 1   group     62 non-null     object        \n",
      " 2   visitors  62 non-null     int64         \n",
      "dtypes: datetime64[ns](1), int64(1), object(1)\n",
      "memory usage: 1.6+ KB\n"
     ]
    }
   ],
   "source": [
    "visitors.info()"
   ]
  },
  {
   "cell_type": "markdown",
   "metadata": {},
   "source": [
    "**Вывод:** Данные обоих DF переведенены в необходимые типы. Дубликатов нет. Пропусков нет. "
   ]
  },
  {
   "cell_type": "code",
   "execution_count": 13,
   "metadata": {},
   "outputs": [],
   "source": [
    "# посчитаем число уникальных значений в группе, для каждого пользователя\n",
    "uniq_visitorId  = orders.groupby('visitor_id').agg({'group':'nunique'}).reset_index()\n",
    "# пользователи попавшие в обе группы\n",
    "no_uniq_visitorId = uniq_visitorId.query('group > 1')['visitor_id'].reset_index()['visitor_id']\n",
    "# исключим пользователей из обеих групп\n",
    "orders = orders.query('visitor_id not in @no_uniq_visitorId')"
   ]
  },
  {
   "cell_type": "markdown",
   "metadata": {},
   "source": [
    " ## 2.1. График кумулятивной выручки по группам"
   ]
  },
  {
   "cell_type": "markdown",
   "metadata": {},
   "source": [
    "Cоздаем массив уникальных пар значений дат и групп теста:"
   ]
  },
  {
   "cell_type": "code",
   "execution_count": 14,
   "metadata": {},
   "outputs": [],
   "source": [
    "datesGroups = orders[['date', 'group']].drop_duplicates()"
   ]
  },
  {
   "cell_type": "markdown",
   "metadata": {},
   "source": [
    "Собирем агрегированные кумулятивные по дням данные о заказах:"
   ]
  },
  {
   "cell_type": "code",
   "execution_count": 15,
   "metadata": {},
   "outputs": [],
   "source": [
    "ordersAggregated = datesGroups.apply(\n",
    "    lambda x: orders[\n",
    "        np.logical_and(\n",
    "            orders['date'] <= x['date'], orders['group'] == x['group']\n",
    "        )\n",
    "    ].agg(\n",
    "        {\n",
    "            'date': 'max',\n",
    "            'group': 'max',\n",
    "            'transaction_id': pd.Series.nunique,\n",
    "            'visitor_id': pd.Series.nunique,\n",
    "            'revenue': 'sum',\n",
    "        }\n",
    "    ),\n",
    "    axis=1,\n",
    ").sort_values(by=['date', 'group'])"
   ]
  },
  {
   "cell_type": "markdown",
   "metadata": {},
   "source": [
    "Получаем агрегированные кумулятивные по дням данные о посетителях:"
   ]
  },
  {
   "cell_type": "code",
   "execution_count": 16,
   "metadata": {},
   "outputs": [],
   "source": [
    "visitorsAggregated = datesGroups.apply(\n",
    "    lambda x: visitors[\n",
    "        np.logical_and(\n",
    "            visitors['date'] <= x['date'], visitors['group'] == x['group']\n",
    "        )\n",
    "    ].agg({'date': 'max', 'group': 'max', 'visitors': 'sum'}),\n",
    "    axis=1,\n",
    ").sort_values(by=['date', 'group'])"
   ]
  },
  {
   "cell_type": "markdown",
   "metadata": {},
   "source": [
    "Мержим и меняем название колонок в основной куммулятивной таблице данных:"
   ]
  },
  {
   "cell_type": "code",
   "execution_count": 17,
   "metadata": {},
   "outputs": [],
   "source": [
    "cumulativeData = ordersAggregated.merge(\n",
    "    visitorsAggregated, left_on=['date', 'group'], right_on=['date', 'group']\n",
    ")\n",
    "cumulativeData.columns = [\n",
    "    'date',\n",
    "    'group',\n",
    "    'orders',\n",
    "    'buyers',\n",
    "    'revenue',\n",
    "    'visitors',\n",
    "]"
   ]
  },
  {
   "cell_type": "markdown",
   "metadata": {},
   "source": [
    "Определим величину среднего чека:"
   ]
  },
  {
   "cell_type": "code",
   "execution_count": 18,
   "metadata": {},
   "outputs": [],
   "source": [
    "cumulativeData['mean_price'] = cumulativeData['revenue'] / cumulativeData['orders']"
   ]
  },
  {
   "cell_type": "markdown",
   "metadata": {},
   "source": [
    "Сделаем выборку по группе:"
   ]
  },
  {
   "cell_type": "code",
   "execution_count": 19,
   "metadata": {},
   "outputs": [],
   "source": [
    "cumulativeRevenueA = cumulativeData[cumulativeData['group'] == 'A'][\n",
    "    ['date', 'revenue', 'mean_price']\n",
    "]\n",
    "cumulativeRevenueB = cumulativeData[cumulativeData['group'] == 'B'][\n",
    "    ['date', 'revenue', 'mean_price']\n",
    "]"
   ]
  },
  {
   "cell_type": "markdown",
   "metadata": {},
   "source": [
    "Построим граффик куммулятивной выручки по группам:"
   ]
  },
  {
   "cell_type": "code",
   "execution_count": 20,
   "metadata": {},
   "outputs": [
    {
     "data": {
      "image/svg+xml": [
       "<svg class=\"main-svg\" xmlns=\"http://www.w3.org/2000/svg\" xmlns:xlink=\"http://www.w3.org/1999/xlink\" width=\"900\" height=\"500\" style=\"\" viewBox=\"0 0 900 500\"><rect x=\"0\" y=\"0\" width=\"900\" height=\"500\" style=\"fill: rgb(255, 255, 255); fill-opacity: 1;\"/><defs id=\"defs-d3b99c\"><g class=\"clips\"><clipPath id=\"clipd3b99cxyplot\" class=\"plotclip\"><rect width=\"693\" height=\"320\"/></clipPath><clipPath class=\"axesclip\" id=\"clipd3b99cx\"><rect x=\"80\" y=\"0\" width=\"693\" height=\"500\"/></clipPath><clipPath class=\"axesclip\" id=\"clipd3b99cy\"><rect x=\"0\" y=\"100\" width=\"900\" height=\"320\"/></clipPath><clipPath class=\"axesclip\" id=\"clipd3b99cxy\"><rect x=\"80\" y=\"100\" width=\"693\" height=\"320\"/></clipPath></g><g class=\"gradients\"/><g class=\"patterns\"/></defs><g class=\"bglayer\"><rect class=\"bg\" x=\"80\" y=\"100\" width=\"693\" height=\"320\" style=\"fill: rgb(229, 236, 246); fill-opacity: 1; stroke-width: 0;\"/></g><g class=\"layer-below\"><g class=\"imagelayer\"/><g class=\"shapelayer\"/></g><g class=\"cartesianlayer\"><g class=\"subplot xy\"><g class=\"layer-subplot\"><g class=\"shapelayer\"/><g class=\"imagelayer\"/></g><g class=\"gridlayer\"><g class=\"x\"><path class=\"xgrid crisp\" transform=\"translate(149.3,0)\" d=\"M0,100v320\" style=\"stroke: rgb(255, 255, 255); stroke-opacity: 1; stroke-width: 1px;\"/><path class=\"xgrid crisp\" transform=\"translate(311,0)\" d=\"M0,100v320\" style=\"stroke: rgb(255, 255, 255); stroke-opacity: 1; stroke-width: 1px;\"/><path class=\"xgrid crisp\" transform=\"translate(472.7,0)\" d=\"M0,100v320\" style=\"stroke: rgb(255, 255, 255); stroke-opacity: 1; stroke-width: 1px;\"/><path class=\"xgrid crisp\" transform=\"translate(634.4,0)\" d=\"M0,100v320\" style=\"stroke: rgb(255, 255, 255); stroke-opacity: 1; stroke-width: 1px;\"/></g><g class=\"y\"><path class=\"ygrid crisp\" transform=\"translate(0,349.94)\" d=\"M80,0h693\" style=\"stroke: rgb(255, 255, 255); stroke-opacity: 1; stroke-width: 1px;\"/><path class=\"ygrid crisp\" transform=\"translate(0,292.45)\" d=\"M80,0h693\" style=\"stroke: rgb(255, 255, 255); stroke-opacity: 1; stroke-width: 1px;\"/><path class=\"ygrid crisp\" transform=\"translate(0,234.95)\" d=\"M80,0h693\" style=\"stroke: rgb(255, 255, 255); stroke-opacity: 1; stroke-width: 1px;\"/><path class=\"ygrid crisp\" transform=\"translate(0,177.45999999999998)\" d=\"M80,0h693\" style=\"stroke: rgb(255, 255, 255); stroke-opacity: 1; stroke-width: 1px;\"/><path class=\"ygrid crisp\" transform=\"translate(0,119.97)\" d=\"M80,0h693\" style=\"stroke: rgb(255, 255, 255); stroke-opacity: 1; stroke-width: 1px;\"/></g></g><g class=\"zerolinelayer\"><path class=\"yzl zl crisp\" transform=\"translate(0,407.44)\" d=\"M80,0h693\" style=\"stroke: rgb(255, 255, 255); stroke-opacity: 1; stroke-width: 2px;\"/></g><path class=\"xlines-below\"/><path class=\"ylines-below\"/><g class=\"overlines-below\"/><g class=\"xaxislayer-below\"/><g class=\"yaxislayer-below\"/><g class=\"overaxes-below\"/><g class=\"plot\" transform=\"translate(80,100)\" clip-path=\"url(#clipd3b99cxyplot)\"><g class=\"scatterlayer mlayer\"><g class=\"trace scatter traceea362f\" style=\"stroke-miterlimit: 2; opacity: 1;\"><g class=\"fills\"/><g class=\"errorbars\"/><g class=\"lines\"><path class=\"js-line\" d=\"M0,299.23L23.1,293.96L46.2,287.49L69.3,285.13L92.4,280.16L115.5,277.81L138.6,270.72L161.7,265.62L184.8,257.91L207.9,249.15L231,245.66L254.1,232.99L277.2,217.84L300.3,215.35L323.4,210.7L346.5,204.96L369.6,202.96L392.7,199.53L415.8,189.86L438.9,186.49L462,176.71L485.1,171.4L508.2,168.07L531.3,161.05L554.4,158.07L577.5,149.03L600.6,138.38L623.7,132.83L646.8,121.54L669.9,117.05L693,113.99\" style=\"vector-effect: non-scaling-stroke; fill: none; stroke: rgb(0, 0, 255); stroke-opacity: 1; stroke-width: 2px; opacity: 1;\"/></g><g class=\"points\"/><g class=\"text\"/></g><g class=\"trace scatter tracee2c14c\" style=\"stroke-miterlimit: 2; opacity: 1;\"><g class=\"fills\"/><g class=\"errorbars\"/><g class=\"lines\"><path class=\"js-line\" d=\"M0,304L23.1,294.68L46.2,290.83L92.4,280.09L115.5,267.74L138.6,255.14L161.7,246.5L207.9,234.53L231,231.48L277.2,218.73L300.3,212.56L323.4,194.72L346.5,188.15L369.6,183.5L392.7,181.47L415.8,99.26L438.9,90.79L485.1,74.58L508.2,70.13L554.4,60.53L577.5,50.55L600.6,44.15L623.7,40.63L646.8,34.53L669.9,22.5L693,16\" style=\"vector-effect: non-scaling-stroke; fill: none; stroke: rgb(255, 0, 0); stroke-opacity: 1; stroke-width: 2px; opacity: 1;\"/></g><g class=\"points\"/><g class=\"text\"/></g></g></g><g class=\"overplot\"/><path class=\"xlines-above crisp\" d=\"M0,0\" style=\"fill: none;\"/><path class=\"ylines-above crisp\" d=\"M0,0\" style=\"fill: none;\"/><g class=\"overlines-above\"/><g class=\"xaxislayer-above\"><g class=\"xtick\"><text text-anchor=\"middle\" x=\"0\" y=\"433\" transform=\"translate(149.3,0)\" style=\"font-family: 'Open Sans', verdana, arial, sans-serif; font-size: 12px; fill: rgb(42, 63, 95); fill-opacity: 1; white-space: pre; opacity: 1;\"><tspan class=\"line\" dy=\"0em\" x=\"0\" y=\"433\">Aug 4</tspan><tspan class=\"line\" dy=\"1.3em\" x=\"0\" y=\"433\">2019</tspan></text></g><g class=\"xtick\"><text text-anchor=\"middle\" x=\"0\" y=\"433\" style=\"font-family: 'Open Sans', verdana, arial, sans-serif; font-size: 12px; fill: rgb(42, 63, 95); fill-opacity: 1; white-space: pre; opacity: 1;\" transform=\"translate(311,0)\">Aug 11</text></g><g class=\"xtick\"><text text-anchor=\"middle\" x=\"0\" y=\"433\" style=\"font-family: 'Open Sans', verdana, arial, sans-serif; font-size: 12px; fill: rgb(42, 63, 95); fill-opacity: 1; white-space: pre; opacity: 1;\" transform=\"translate(472.7,0)\">Aug 18</text></g><g class=\"xtick\"><text text-anchor=\"middle\" x=\"0\" y=\"433\" style=\"font-family: 'Open Sans', verdana, arial, sans-serif; font-size: 12px; fill: rgb(42, 63, 95); fill-opacity: 1; white-space: pre; opacity: 1;\" transform=\"translate(634.4,0)\">Aug 25</text></g></g><g class=\"yaxislayer-above\"><g class=\"ytick\"><text text-anchor=\"end\" x=\"79\" y=\"4.199999999999999\" transform=\"translate(0,407.44)\" style=\"font-family: 'Open Sans', verdana, arial, sans-serif; font-size: 12px; fill: rgb(42, 63, 95); fill-opacity: 1; white-space: pre; opacity: 1;\">0</text></g><g class=\"ytick\"><text text-anchor=\"end\" x=\"79\" y=\"4.199999999999999\" style=\"font-family: 'Open Sans', verdana, arial, sans-serif; font-size: 12px; fill: rgb(42, 63, 95); fill-opacity: 1; white-space: pre; opacity: 1;\" transform=\"translate(0,349.94)\">1M</text></g><g class=\"ytick\"><text text-anchor=\"end\" x=\"79\" y=\"4.199999999999999\" style=\"font-family: 'Open Sans', verdana, arial, sans-serif; font-size: 12px; fill: rgb(42, 63, 95); fill-opacity: 1; white-space: pre; opacity: 1;\" transform=\"translate(0,292.45)\">2M</text></g><g class=\"ytick\"><text text-anchor=\"end\" x=\"79\" y=\"4.199999999999999\" style=\"font-family: 'Open Sans', verdana, arial, sans-serif; font-size: 12px; fill: rgb(42, 63, 95); fill-opacity: 1; white-space: pre; opacity: 1;\" transform=\"translate(0,234.95)\">3M</text></g><g class=\"ytick\"><text text-anchor=\"end\" x=\"79\" y=\"4.199999999999999\" style=\"font-family: 'Open Sans', verdana, arial, sans-serif; font-size: 12px; fill: rgb(42, 63, 95); fill-opacity: 1; white-space: pre; opacity: 1;\" transform=\"translate(0,177.45999999999998)\">4M</text></g><g class=\"ytick\"><text text-anchor=\"end\" x=\"79\" y=\"4.199999999999999\" style=\"font-family: 'Open Sans', verdana, arial, sans-serif; font-size: 12px; fill: rgb(42, 63, 95); fill-opacity: 1; white-space: pre; opacity: 1;\" transform=\"translate(0,119.97)\">5M</text></g></g><g class=\"overaxes-above\"/></g></g><g class=\"polarlayer\"/><g class=\"ternarylayer\"/><g class=\"geolayer\"/><g class=\"funnelarealayer\"/><g class=\"pielayer\"/><g class=\"iciclelayer\"/><g class=\"treemaplayer\"/><g class=\"sunburstlayer\"/><g class=\"glimages\"/><defs id=\"topdefs-d3b99c\"><g class=\"clips\"/><clipPath id=\"legendd3b99c\"><rect width=\"101\" height=\"48\" x=\"0\" y=\"0\"/></clipPath></defs><g class=\"layer-above\"><g class=\"imagelayer\"/><g class=\"shapelayer\"/></g><g class=\"infolayer\"><g class=\"legend\" pointer-events=\"all\" transform=\"translate(786.86,100)\"><rect class=\"bg\" shape-rendering=\"crispEdges\" style=\"stroke: rgb(68, 68, 68); stroke-opacity: 1; fill: rgb(255, 255, 255); fill-opacity: 1; stroke-width: 0px;\" width=\"101\" height=\"48\" x=\"0\" y=\"0\"/><g class=\"scrollbox\" transform=\"\" clip-path=\"url(#legendd3b99c)\"><g class=\"groups\"><g class=\"traces\" transform=\"translate(0,14.5)\" style=\"opacity: 1;\"><text class=\"legendtext\" text-anchor=\"start\" x=\"40\" y=\"4.680000000000001\" style=\"font-family: 'Open Sans', verdana, arial, sans-serif; font-size: 12px; fill: rgb(42, 63, 95); fill-opacity: 1; white-space: pre;\">группа А</text><g class=\"layers\" style=\"opacity: 1;\"><g class=\"legendfill\"/><g class=\"legendlines\"><path class=\"js-line\" d=\"M5,0h30\" style=\"fill: none; stroke: rgb(0, 0, 255); stroke-opacity: 1; stroke-width: 2px;\"/></g><g class=\"legendsymbols\"><g class=\"legendpoints\"/></g></g><rect class=\"legendtoggle\" x=\"0\" y=\"-9.5\" width=\"95.953125\" height=\"19\" style=\"fill: rgb(0, 0, 0); fill-opacity: 0;\"/></g><g class=\"traces\" transform=\"translate(0,33.5)\" style=\"opacity: 1;\"><text class=\"legendtext\" text-anchor=\"start\" x=\"40\" y=\"4.680000000000001\" style=\"font-family: 'Open Sans', verdana, arial, sans-serif; font-size: 12px; fill: rgb(42, 63, 95); fill-opacity: 1; white-space: pre;\">группа B</text><g class=\"layers\" style=\"opacity: 1;\"><g class=\"legendfill\"/><g class=\"legendlines\"><path class=\"js-line\" d=\"M5,0h30\" style=\"fill: none; stroke: rgb(255, 0, 0); stroke-opacity: 1; stroke-width: 2px;\"/></g><g class=\"legendsymbols\"><g class=\"legendpoints\"/></g></g><rect class=\"legendtoggle\" x=\"0\" y=\"-9.5\" width=\"95.953125\" height=\"19\" style=\"fill: rgb(0, 0, 0); fill-opacity: 0;\"/></g></g></g><rect class=\"scrollbar\" rx=\"20\" ry=\"3\" width=\"0\" height=\"0\" style=\"fill: rgb(128, 139, 164); fill-opacity: 1;\" x=\"0\" y=\"0\"/></g><g class=\"g-gtitle\"><text class=\"gtitle\" x=\"45\" y=\"50\" text-anchor=\"start\" dy=\"0em\" style=\"font-family: 'Open Sans', verdana, arial, sans-serif; font-size: 17px; fill: rgb(42, 63, 95); opacity: 1; font-weight: normal; white-space: pre;\">График кумулятивной выручки по группам</text></g><g class=\"g-xtitle\"><text class=\"xtitle\" x=\"426.5\" y=\"476.409375\" text-anchor=\"middle\" style=\"font-family: 'Open Sans', verdana, arial, sans-serif; font-size: 14px; fill: rgb(42, 63, 95); opacity: 1; font-weight: normal; white-space: pre;\">Дата</text></g><g class=\"g-ytitle\"><text class=\"ytitle\" transform=\"rotate(-90,36.45,260)\" x=\"36.45\" y=\"260\" text-anchor=\"middle\" style=\"font-family: 'Open Sans', verdana, arial, sans-serif; font-size: 14px; fill: rgb(42, 63, 95); opacity: 1; font-weight: normal; white-space: pre;\">Выручка, у.е.</text></g></g></svg>"
      ]
     },
     "metadata": {},
     "output_type": "display_data"
    }
   ],
   "source": [
    "fig = go.Figure()\n",
    "# Create and style traces\n",
    "fig.add_trace(go.Scatter(x=cumulativeRevenueA['date'], y=cumulativeRevenueA['revenue'], name='группа А',\n",
    "                         line=dict(color='blue', width=2)))\n",
    "fig.add_trace(go.Scatter(x=cumulativeRevenueB['date'], y=cumulativeRevenueB['revenue'], name='группа B',\n",
    "                         line=dict(color='red', width=2)))\n",
    "fig.update_layout(title='График кумулятивной выручки по группам',\n",
    "                  xaxis_title='Дата',\n",
    "                  yaxis_title='Выручка, у.е.',\n",
    "                  width=900, height=500)\n",
    "fig.show('svg')"
   ]
  },
  {
   "cell_type": "markdown",
   "metadata": {},
   "source": [
    "**Вывод:** Выручка почти равномерно увеличивается в течение всего теста. Хороший знак.\n",
    "Однако график выручки группы В резко вырос 18 августа 2019г. Это может сигнализировать о всплеске числа заказов, либо о появлении очень дорогих заказов в выборке."
   ]
  },
  {
   "cell_type": "markdown",
   "metadata": {},
   "source": [
    "## 2.2. График кумулятивного среднего чека по группам"
   ]
  },
  {
   "cell_type": "code",
   "execution_count": 21,
   "metadata": {},
   "outputs": [
    {
     "data": {
      "image/svg+xml": [
       "<svg class=\"main-svg\" xmlns=\"http://www.w3.org/2000/svg\" xmlns:xlink=\"http://www.w3.org/1999/xlink\" width=\"900\" height=\"500\" style=\"\" viewBox=\"0 0 900 500\"><rect x=\"0\" y=\"0\" width=\"900\" height=\"500\" style=\"fill: rgb(255, 255, 255); fill-opacity: 1;\"/><defs id=\"defs-394581\"><g class=\"clips\"><clipPath id=\"clip394581xyplot\" class=\"plotclip\"><rect width=\"693\" height=\"320\"/></clipPath><clipPath class=\"axesclip\" id=\"clip394581x\"><rect x=\"80\" y=\"0\" width=\"693\" height=\"500\"/></clipPath><clipPath class=\"axesclip\" id=\"clip394581y\"><rect x=\"0\" y=\"100\" width=\"900\" height=\"320\"/></clipPath><clipPath class=\"axesclip\" id=\"clip394581xy\"><rect x=\"80\" y=\"100\" width=\"693\" height=\"320\"/></clipPath></g><g class=\"gradients\"/><g class=\"patterns\"/></defs><g class=\"bglayer\"><rect class=\"bg\" x=\"80\" y=\"100\" width=\"693\" height=\"320\" style=\"fill: rgb(229, 236, 246); fill-opacity: 1; stroke-width: 0;\"/></g><g class=\"layer-below\"><g class=\"imagelayer\"/><g class=\"shapelayer\"/></g><g class=\"cartesianlayer\"><g class=\"subplot xy\"><g class=\"layer-subplot\"><g class=\"shapelayer\"/><g class=\"imagelayer\"/></g><g class=\"gridlayer\"><g class=\"x\"><path class=\"xgrid crisp\" transform=\"translate(149.3,0)\" d=\"M0,100v320\" style=\"stroke: rgb(255, 255, 255); stroke-opacity: 1; stroke-width: 1px;\"/><path class=\"xgrid crisp\" transform=\"translate(311,0)\" d=\"M0,100v320\" style=\"stroke: rgb(255, 255, 255); stroke-opacity: 1; stroke-width: 1px;\"/><path class=\"xgrid crisp\" transform=\"translate(472.7,0)\" d=\"M0,100v320\" style=\"stroke: rgb(255, 255, 255); stroke-opacity: 1; stroke-width: 1px;\"/><path class=\"xgrid crisp\" transform=\"translate(634.4,0)\" d=\"M0,100v320\" style=\"stroke: rgb(255, 255, 255); stroke-opacity: 1; stroke-width: 1px;\"/></g><g class=\"y\"><path class=\"ygrid crisp\" transform=\"translate(0,383.73)\" d=\"M80,0h693\" style=\"stroke: rgb(255, 255, 255); stroke-opacity: 1; stroke-width: 1px;\"/><path class=\"ygrid crisp\" transform=\"translate(0,341.93)\" d=\"M80,0h693\" style=\"stroke: rgb(255, 255, 255); stroke-opacity: 1; stroke-width: 1px;\"/><path class=\"ygrid crisp\" transform=\"translate(0,300.13)\" d=\"M80,0h693\" style=\"stroke: rgb(255, 255, 255); stroke-opacity: 1; stroke-width: 1px;\"/><path class=\"ygrid crisp\" transform=\"translate(0,258.32)\" d=\"M80,0h693\" style=\"stroke: rgb(255, 255, 255); stroke-opacity: 1; stroke-width: 1px;\"/><path class=\"ygrid crisp\" transform=\"translate(0,216.51999999999998)\" d=\"M80,0h693\" style=\"stroke: rgb(255, 255, 255); stroke-opacity: 1; stroke-width: 1px;\"/><path class=\"ygrid crisp\" transform=\"translate(0,174.72)\" d=\"M80,0h693\" style=\"stroke: rgb(255, 255, 255); stroke-opacity: 1; stroke-width: 1px;\"/><path class=\"ygrid crisp\" transform=\"translate(0,132.91)\" d=\"M80,0h693\" style=\"stroke: rgb(255, 255, 255); stroke-opacity: 1; stroke-width: 1px;\"/></g></g><g class=\"zerolinelayer\"/><path class=\"xlines-below\"/><path class=\"ylines-below\"/><g class=\"overlines-below\"/><g class=\"xaxislayer-below\"/><g class=\"yaxislayer-below\"/><g class=\"overaxes-below\"/><g class=\"plot\" transform=\"translate(80,100)\" clip-path=\"url(#clip394581xyplot)\"><g class=\"scatterlayer mlayer\"><g class=\"trace scatter tracec15652\" style=\"stroke-miterlimit: 2; opacity: 1;\"><g class=\"fills\"/><g class=\"errorbars\"/><g class=\"lines\"><path class=\"js-line\" d=\"M0,191.44L23.1,217.66L46.2,231.25L69.3,240.28L92.4,250.62L115.5,261.98L138.6,245.6L161.7,239.83L184.8,218.61L207.9,201.67L231,202.81L254.1,180.31L277.2,146.52L300.3,161.09L323.4,159.09L346.5,163.26L369.6,164.29L392.7,168.74L415.8,165.04L438.9,166.36L462,162.03L485.1,159.17L508.2,168.68L531.3,164.84L554.4,165.15L577.5,160.1L600.6,157.58L623.7,158.43L646.8,151.26L669.9,150.01L693,150.4\" style=\"vector-effect: non-scaling-stroke; fill: none; stroke: rgb(0, 0, 255); stroke-opacity: 1; stroke-width: 2px; opacity: 1;\"/></g><g class=\"points\"/><g class=\"text\"/></g><g class=\"trace scatter traced5fd4b\" style=\"stroke-miterlimit: 2; opacity: 1;\"><g class=\"fills\"/><g class=\"errorbars\"/><g class=\"lines\"><path class=\"js-line\" d=\"M0,304L23.1,219.15L46.2,227.34L69.3,213.81L92.4,227.53L115.5,193.22L138.6,169.27L161.7,168.76L184.8,174.72L207.9,183.21L231,187.95L254.1,190.77L277.2,191.91L300.3,188.64L323.4,167.37L392.7,170.87L415.8,16L438.9,22.91L462,20.99L485.1,28.73L508.2,34.18L531.3,39.23L554.4,42.93L577.5,46.67L600.6,46.23L623.7,59.05L646.8,61.88L669.9,60.79L693,64.27\" style=\"vector-effect: non-scaling-stroke; fill: none; stroke: rgb(255, 0, 0); stroke-opacity: 1; stroke-width: 2px; opacity: 1;\"/></g><g class=\"points\"/><g class=\"text\"/></g></g></g><g class=\"overplot\"/><path class=\"xlines-above crisp\" d=\"M0,0\" style=\"fill: none;\"/><path class=\"ylines-above crisp\" d=\"M0,0\" style=\"fill: none;\"/><g class=\"overlines-above\"/><g class=\"xaxislayer-above\"><g class=\"xtick\"><text text-anchor=\"middle\" x=\"0\" y=\"433\" transform=\"translate(149.3,0)\" style=\"font-family: 'Open Sans', verdana, arial, sans-serif; font-size: 12px; fill: rgb(42, 63, 95); fill-opacity: 1; white-space: pre; opacity: 1;\"><tspan class=\"line\" dy=\"0em\" x=\"0\" y=\"433\">Aug 4</tspan><tspan class=\"line\" dy=\"1.3em\" x=\"0\" y=\"433\">2019</tspan></text></g><g class=\"xtick\"><text text-anchor=\"middle\" x=\"0\" y=\"433\" style=\"font-family: 'Open Sans', verdana, arial, sans-serif; font-size: 12px; fill: rgb(42, 63, 95); fill-opacity: 1; white-space: pre; opacity: 1;\" transform=\"translate(311,0)\">Aug 11</text></g><g class=\"xtick\"><text text-anchor=\"middle\" x=\"0\" y=\"433\" style=\"font-family: 'Open Sans', verdana, arial, sans-serif; font-size: 12px; fill: rgb(42, 63, 95); fill-opacity: 1; white-space: pre; opacity: 1;\" transform=\"translate(472.7,0)\">Aug 18</text></g><g class=\"xtick\"><text text-anchor=\"middle\" x=\"0\" y=\"433\" style=\"font-family: 'Open Sans', verdana, arial, sans-serif; font-size: 12px; fill: rgb(42, 63, 95); fill-opacity: 1; white-space: pre; opacity: 1;\" transform=\"translate(634.4,0)\">Aug 25</text></g></g><g class=\"yaxislayer-above\"><g class=\"ytick\"><text text-anchor=\"end\" x=\"79\" y=\"4.199999999999999\" transform=\"translate(0,383.73)\" style=\"font-family: 'Open Sans', verdana, arial, sans-serif; font-size: 12px; fill: rgb(42, 63, 95); fill-opacity: 1; white-space: pre; opacity: 1;\">4k</text></g><g class=\"ytick\"><text text-anchor=\"end\" x=\"79\" y=\"4.199999999999999\" style=\"font-family: 'Open Sans', verdana, arial, sans-serif; font-size: 12px; fill: rgb(42, 63, 95); fill-opacity: 1; white-space: pre; opacity: 1;\" transform=\"translate(0,341.93)\">5k</text></g><g class=\"ytick\"><text text-anchor=\"end\" x=\"79\" y=\"4.199999999999999\" style=\"font-family: 'Open Sans', verdana, arial, sans-serif; font-size: 12px; fill: rgb(42, 63, 95); fill-opacity: 1; white-space: pre; opacity: 1;\" transform=\"translate(0,300.13)\">6k</text></g><g class=\"ytick\"><text text-anchor=\"end\" x=\"79\" y=\"4.199999999999999\" style=\"font-family: 'Open Sans', verdana, arial, sans-serif; font-size: 12px; fill: rgb(42, 63, 95); fill-opacity: 1; white-space: pre; opacity: 1;\" transform=\"translate(0,258.32)\">7k</text></g><g class=\"ytick\"><text text-anchor=\"end\" x=\"79\" y=\"4.199999999999999\" style=\"font-family: 'Open Sans', verdana, arial, sans-serif; font-size: 12px; fill: rgb(42, 63, 95); fill-opacity: 1; white-space: pre; opacity: 1;\" transform=\"translate(0,216.51999999999998)\">8k</text></g><g class=\"ytick\"><text text-anchor=\"end\" x=\"79\" y=\"4.199999999999999\" style=\"font-family: 'Open Sans', verdana, arial, sans-serif; font-size: 12px; fill: rgb(42, 63, 95); fill-opacity: 1; white-space: pre; opacity: 1;\" transform=\"translate(0,174.72)\">9k</text></g><g class=\"ytick\"><text text-anchor=\"end\" x=\"79\" y=\"4.199999999999999\" style=\"font-family: 'Open Sans', verdana, arial, sans-serif; font-size: 12px; fill: rgb(42, 63, 95); fill-opacity: 1; white-space: pre; opacity: 1;\" transform=\"translate(0,132.91)\">10k</text></g></g><g class=\"overaxes-above\"/></g></g><g class=\"polarlayer\"/><g class=\"ternarylayer\"/><g class=\"geolayer\"/><g class=\"funnelarealayer\"/><g class=\"pielayer\"/><g class=\"iciclelayer\"/><g class=\"treemaplayer\"/><g class=\"sunburstlayer\"/><g class=\"glimages\"/><defs id=\"topdefs-394581\"><g class=\"clips\"/><clipPath id=\"legend394581\"><rect width=\"101\" height=\"48\" x=\"0\" y=\"0\"/></clipPath></defs><g class=\"layer-above\"><g class=\"imagelayer\"/><g class=\"shapelayer\"/></g><g class=\"infolayer\"><g class=\"legend\" pointer-events=\"all\" transform=\"translate(786.86,100)\"><rect class=\"bg\" shape-rendering=\"crispEdges\" width=\"101\" height=\"48\" x=\"0\" y=\"0\" style=\"stroke: rgb(68, 68, 68); stroke-opacity: 1; fill: rgb(255, 255, 255); fill-opacity: 1; stroke-width: 0px;\"/><g class=\"scrollbox\" transform=\"\" clip-path=\"url(#legend394581)\"><g class=\"groups\"><g class=\"traces\" transform=\"translate(0,14.5)\" style=\"opacity: 1;\"><text class=\"legendtext\" text-anchor=\"start\" x=\"40\" y=\"4.680000000000001\" style=\"font-family: 'Open Sans', verdana, arial, sans-serif; font-size: 12px; fill: rgb(42, 63, 95); fill-opacity: 1; white-space: pre;\">группа А</text><g class=\"layers\" style=\"opacity: 1;\"><g class=\"legendfill\"/><g class=\"legendlines\"><path class=\"js-line\" d=\"M5,0h30\" style=\"fill: none; stroke: rgb(0, 0, 255); stroke-opacity: 1; stroke-width: 2px;\"/></g><g class=\"legendsymbols\"><g class=\"legendpoints\"/></g></g><rect class=\"legendtoggle\" x=\"0\" y=\"-9.5\" width=\"95.953125\" height=\"19\" style=\"fill: rgb(0, 0, 0); fill-opacity: 0;\"/></g><g class=\"traces\" transform=\"translate(0,33.5)\" style=\"opacity: 1;\"><text class=\"legendtext\" text-anchor=\"start\" x=\"40\" y=\"4.680000000000001\" style=\"font-family: 'Open Sans', verdana, arial, sans-serif; font-size: 12px; fill: rgb(42, 63, 95); fill-opacity: 1; white-space: pre;\">группа B</text><g class=\"layers\" style=\"opacity: 1;\"><g class=\"legendfill\"/><g class=\"legendlines\"><path class=\"js-line\" d=\"M5,0h30\" style=\"fill: none; stroke: rgb(255, 0, 0); stroke-opacity: 1; stroke-width: 2px;\"/></g><g class=\"legendsymbols\"><g class=\"legendpoints\"/></g></g><rect class=\"legendtoggle\" x=\"0\" y=\"-9.5\" width=\"95.953125\" height=\"19\" style=\"fill: rgb(0, 0, 0); fill-opacity: 0;\"/></g></g></g><rect class=\"scrollbar\" rx=\"20\" ry=\"3\" width=\"0\" height=\"0\" x=\"0\" y=\"0\" style=\"fill: rgb(128, 139, 164); fill-opacity: 1;\"/></g><g class=\"g-gtitle\"><text class=\"gtitle\" x=\"45\" y=\"50\" text-anchor=\"start\" dy=\"0em\" style=\"font-family: 'Open Sans', verdana, arial, sans-serif; font-size: 17px; fill: rgb(42, 63, 95); opacity: 1; font-weight: normal; white-space: pre;\">График среднего чека по группам</text></g><g class=\"g-xtitle\"><text class=\"xtitle\" x=\"426.5\" y=\"476.409375\" text-anchor=\"middle\" style=\"font-family: 'Open Sans', verdana, arial, sans-serif; font-size: 14px; fill: rgb(42, 63, 95); opacity: 1; font-weight: normal; white-space: pre;\">Дата</text></g><g class=\"g-ytitle\"><text class=\"ytitle\" transform=\"rotate(-90,31.840625000000003,260)\" x=\"31.840625000000003\" y=\"260\" text-anchor=\"middle\" style=\"font-family: 'Open Sans', verdana, arial, sans-serif; font-size: 14px; fill: rgb(42, 63, 95); opacity: 1; font-weight: normal; white-space: pre;\">Средний чек, у.е.</text></g></g></svg>"
      ]
     },
     "metadata": {},
     "output_type": "display_data"
    }
   ],
   "source": [
    "fig = go.Figure()\n",
    "# Create and style traces\n",
    "fig.add_trace(go.Scatter(x=cumulativeRevenueA['date'], y=cumulativeRevenueA['mean_price'], name='группа А',\n",
    "                         line=dict(color='blue', width=2)))\n",
    "fig.add_trace(go.Scatter(x=cumulativeRevenueB['date'], y=cumulativeRevenueB['mean_price'], name='группа B',\n",
    "                         line=dict(color='red', width=2)))\n",
    "fig.update_layout(title='График среднего чека по группам',\n",
    "                  xaxis_title='Дата',\n",
    "                  yaxis_title='Средний чек, у.е.',\n",
    "                  width=900, height=500)\n",
    "fig.show('svg')"
   ]
  },
  {
   "cell_type": "markdown",
   "metadata": {},
   "source": [
    "**Вывод:** 18 августа 2019 года произошел всплес в группе B. Скорее всего, в этот день были произведенены крупные заказы. На протяжении всего исследуемого периода однозначно нельзя сказать величину среднего значения, поскольку графики сильно колеблются. Необходимо произвести фильрацию на выбросы или необходио больше данных."
   ]
  },
  {
   "cell_type": "markdown",
   "metadata": {},
   "source": [
    "##  2.3. График относительного изменения кумулятивного среднего чека"
   ]
  },
  {
   "cell_type": "markdown",
   "metadata": {},
   "source": [
    "Смержим данные в одном датафрейме по каждой группе:"
   ]
  },
  {
   "cell_type": "code",
   "execution_count": 22,
   "metadata": {},
   "outputs": [],
   "source": [
    "mergedCumulativeRevenue = cumulativeRevenueA.merge(\n",
    "    cumulativeRevenueB, left_on='date', right_on='date', how='left', suffixes=['_A', '_B'])"
   ]
  },
  {
   "cell_type": "markdown",
   "metadata": {},
   "source": [
    "Рассчитаем относительную величину среднего чека:"
   ]
  },
  {
   "cell_type": "code",
   "execution_count": 23,
   "metadata": {},
   "outputs": [],
   "source": [
    "mergedCumulativeRevenue['cumul_revenue'] = (\n",
    "    mergedCumulativeRevenue['mean_price_B'] / mergedCumulativeRevenue['mean_price_A']) - 1"
   ]
  },
  {
   "cell_type": "code",
   "execution_count": 24,
   "metadata": {},
   "outputs": [
    {
     "data": {
      "image/svg+xml": [
       "<svg class=\"main-svg\" xmlns=\"http://www.w3.org/2000/svg\" xmlns:xlink=\"http://www.w3.org/1999/xlink\" width=\"900\" height=\"500\" style=\"\" viewBox=\"0 0 900 500\"><rect x=\"0\" y=\"0\" width=\"900\" height=\"500\" style=\"fill: rgb(255, 255, 255); fill-opacity: 1;\"/><defs id=\"defs-6242bd\"><g class=\"clips\"><clipPath id=\"clip6242bdxyplot\" class=\"plotclip\"><rect width=\"740\" height=\"320\"/></clipPath><clipPath class=\"axesclip\" id=\"clip6242bdx\"><rect x=\"80\" y=\"0\" width=\"740\" height=\"500\"/></clipPath><clipPath class=\"axesclip\" id=\"clip6242bdy\"><rect x=\"0\" y=\"100\" width=\"900\" height=\"320\"/></clipPath><clipPath class=\"axesclip\" id=\"clip6242bdxy\"><rect x=\"80\" y=\"100\" width=\"740\" height=\"320\"/></clipPath></g><g class=\"gradients\"/><g class=\"patterns\"/></defs><g class=\"bglayer\"><rect class=\"bg\" x=\"80\" y=\"100\" width=\"740\" height=\"320\" style=\"fill: rgb(229, 236, 246); fill-opacity: 1; stroke-width: 0;\"/></g><g class=\"layer-below\"><g class=\"imagelayer\"/><g class=\"shapelayer\"/></g><g class=\"cartesianlayer\"><g class=\"subplot xy\"><g class=\"layer-subplot\"><g class=\"shapelayer\"/><g class=\"imagelayer\"/></g><g class=\"gridlayer\"><g class=\"x\"><path class=\"xgrid crisp\" transform=\"translate(154,0)\" d=\"M0,100v320\" style=\"stroke: rgb(255, 255, 255); stroke-opacity: 1; stroke-width: 1px;\"/><path class=\"xgrid crisp\" transform=\"translate(326.66999999999996,0)\" d=\"M0,100v320\" style=\"stroke: rgb(255, 255, 255); stroke-opacity: 1; stroke-width: 1px;\"/><path class=\"xgrid crisp\" transform=\"translate(499.33,0)\" d=\"M0,100v320\" style=\"stroke: rgb(255, 255, 255); stroke-opacity: 1; stroke-width: 1px;\"/><path class=\"xgrid crisp\" transform=\"translate(672,0)\" d=\"M0,100v320\" style=\"stroke: rgb(255, 255, 255); stroke-opacity: 1; stroke-width: 1px;\"/></g><g class=\"y\"><path class=\"ygrid crisp\" transform=\"translate(0,393.82)\" d=\"M80,0h740\" style=\"stroke: rgb(255, 255, 255); stroke-opacity: 1; stroke-width: 1px;\"/><path class=\"ygrid crisp\" transform=\"translate(0,333.51)\" d=\"M80,0h740\" style=\"stroke: rgb(255, 255, 255); stroke-opacity: 1; stroke-width: 1px;\"/><path class=\"ygrid crisp\" transform=\"translate(0,212.89)\" d=\"M80,0h740\" style=\"stroke: rgb(255, 255, 255); stroke-opacity: 1; stroke-width: 1px;\"/><path class=\"ygrid crisp\" transform=\"translate(0,152.57999999999998)\" d=\"M80,0h740\" style=\"stroke: rgb(255, 255, 255); stroke-opacity: 1; stroke-width: 1px;\"/></g></g><g class=\"zerolinelayer\"><path class=\"yzl zl crisp\" transform=\"translate(0,273.2)\" d=\"M80,0h740\" style=\"stroke: rgb(0, 128, 0); stroke-opacity: 1; stroke-width: 2px;\"/></g><path class=\"xlines-below\"/><path class=\"ylines-below\"/><g class=\"overlines-below\"/><g class=\"xaxislayer-below\"/><g class=\"yaxislayer-below\"/><g class=\"overaxes-below\"/><g class=\"plot\" transform=\"translate(80,100)\" clip-path=\"url(#clip6242bdxyplot)\"><g class=\"scatterlayer mlayer\"><g class=\"trace scatter tracec7d39d\" style=\"stroke-miterlimit: 2; opacity: 1;\"><g class=\"fills\"/><g class=\"errorbars\"/><g class=\"lines\"><path class=\"js-line\" d=\"M0,304L24.67,175.12L49.33,167.82L74,135.3L98.67,138.45L123.33,63.49L148,61.1L172.67,71.68L197.33,116.23L222,150.87L246.67,155.14L271.33,184.86L296,218.17L320.67,201.86L345.33,181.76L370,178.64L394.67,178.53L419.33,175.48L444,16L493.33,25.98L518,38.39L542.67,29.51L567.33,40.82L592,44.24L616.67,55.59L641.33,58.75L666,70.76L690.67,83.27L715.33,83.8L740,86.77\" style=\"vector-effect: non-scaling-stroke; fill: none; stroke: rgb(0, 0, 255); stroke-opacity: 1; stroke-width: 2px; opacity: 1;\"/></g><g class=\"points\"/><g class=\"text\"/></g></g></g><g class=\"overplot\"/><path class=\"xlines-above crisp\" d=\"M0,0\" style=\"fill: none;\"/><path class=\"ylines-above crisp\" d=\"M0,0\" style=\"fill: none;\"/><g class=\"overlines-above\"/><g class=\"xaxislayer-above\"><g class=\"xtick\"><text text-anchor=\"middle\" x=\"0\" y=\"433\" transform=\"translate(154,0)\" style=\"font-family: 'Open Sans', verdana, arial, sans-serif; font-size: 12px; fill: rgb(42, 63, 95); fill-opacity: 1; white-space: pre; opacity: 1;\"><tspan class=\"line\" dy=\"0em\" x=\"0\" y=\"433\">Aug 4</tspan><tspan class=\"line\" dy=\"1.3em\" x=\"0\" y=\"433\">2019</tspan></text></g><g class=\"xtick\"><text text-anchor=\"middle\" x=\"0\" y=\"433\" style=\"font-family: 'Open Sans', verdana, arial, sans-serif; font-size: 12px; fill: rgb(42, 63, 95); fill-opacity: 1; white-space: pre; opacity: 1;\" transform=\"translate(326.66999999999996,0)\">Aug 11</text></g><g class=\"xtick\"><text text-anchor=\"middle\" x=\"0\" y=\"433\" style=\"font-family: 'Open Sans', verdana, arial, sans-serif; font-size: 12px; fill: rgb(42, 63, 95); fill-opacity: 1; white-space: pre; opacity: 1;\" transform=\"translate(499.33,0)\">Aug 18</text></g><g class=\"xtick\"><text text-anchor=\"middle\" x=\"0\" y=\"433\" style=\"font-family: 'Open Sans', verdana, arial, sans-serif; font-size: 12px; fill: rgb(42, 63, 95); fill-opacity: 1; white-space: pre; opacity: 1;\" transform=\"translate(672,0)\">Aug 25</text></g></g><g class=\"yaxislayer-above\"><g class=\"ytick\"><text text-anchor=\"end\" x=\"79\" y=\"4.199999999999999\" transform=\"translate(0,393.82)\" style=\"font-family: 'Open Sans', verdana, arial, sans-serif; font-size: 12px; fill: rgb(42, 63, 95); fill-opacity: 1; white-space: pre; opacity: 1;\">−0.4</text></g><g class=\"ytick\"><text text-anchor=\"end\" x=\"79\" y=\"4.199999999999999\" style=\"font-family: 'Open Sans', verdana, arial, sans-serif; font-size: 12px; fill: rgb(42, 63, 95); fill-opacity: 1; white-space: pre; opacity: 1;\" transform=\"translate(0,333.51)\">−0.2</text></g><g class=\"ytick\"><text text-anchor=\"end\" x=\"79\" y=\"4.199999999999999\" style=\"font-family: 'Open Sans', verdana, arial, sans-serif; font-size: 12px; fill: rgb(42, 63, 95); fill-opacity: 1; white-space: pre; opacity: 1;\" transform=\"translate(0,273.2)\">0</text></g><g class=\"ytick\"><text text-anchor=\"end\" x=\"79\" y=\"4.199999999999999\" style=\"font-family: 'Open Sans', verdana, arial, sans-serif; font-size: 12px; fill: rgb(42, 63, 95); fill-opacity: 1; white-space: pre; opacity: 1;\" transform=\"translate(0,212.89)\">0.2</text></g><g class=\"ytick\"><text text-anchor=\"end\" x=\"79\" y=\"4.199999999999999\" style=\"font-family: 'Open Sans', verdana, arial, sans-serif; font-size: 12px; fill: rgb(42, 63, 95); fill-opacity: 1; white-space: pre; opacity: 1;\" transform=\"translate(0,152.57999999999998)\">0.4</text></g></g><g class=\"overaxes-above\"/></g></g><g class=\"polarlayer\"/><g class=\"ternarylayer\"/><g class=\"geolayer\"/><g class=\"funnelarealayer\"/><g class=\"pielayer\"/><g class=\"iciclelayer\"/><g class=\"treemaplayer\"/><g class=\"sunburstlayer\"/><g class=\"glimages\"/><defs id=\"topdefs-6242bd\"><g class=\"clips\"/></defs><g class=\"layer-above\"><g class=\"imagelayer\"/><g class=\"shapelayer\"/></g><g class=\"infolayer\"><g class=\"g-gtitle\"><text class=\"gtitle\" x=\"45\" y=\"50\" text-anchor=\"start\" dy=\"0em\" style=\"font-family: 'Open Sans', verdana, arial, sans-serif; font-size: 17px; fill: rgb(42, 63, 95); opacity: 1; font-weight: normal; white-space: pre;\">График относительного изменения куммулятивного среднего чека группы В к группе А</text></g><g class=\"g-xtitle\"><text class=\"xtitle\" x=\"450\" y=\"476.409375\" text-anchor=\"middle\" style=\"font-family: 'Open Sans', verdana, arial, sans-serif; font-size: 14px; fill: rgb(42, 63, 95); opacity: 1; font-weight: normal; white-space: pre;\">Дата</text></g><g class=\"g-ytitle\"><text class=\"ytitle\" transform=\"rotate(-90,24.746875000000003,260)\" x=\"24.746875000000003\" y=\"260\" text-anchor=\"middle\" style=\"font-family: 'Open Sans', verdana, arial, sans-serif; font-size: 14px; fill: rgb(42, 63, 95); opacity: 1; font-weight: normal; white-space: pre;\">Относительная величина</text></g></g></svg>"
      ]
     },
     "metadata": {},
     "output_type": "display_data"
    }
   ],
   "source": [
    "fig = go.Figure()\n",
    "# Create and style traces\n",
    "fig.add_trace(go.Scatter(x=mergedCumulativeRevenue['date'], y=mergedCumulativeRevenue['cumul_revenue'],\n",
    "                         line=dict(color='blue', width=2)))\n",
    "fig.update_layout(title='График относительного изменения куммулятивного среднего чека группы В к группе А',\n",
    "                  xaxis_title='Дата',\n",
    "                  yaxis_title='Относительная величина',\n",
    "                  width=900, height=500)\n",
    "fig.update_yaxes(zeroline=True, zerolinewidth=2, zerolinecolor='#008000')\n",
    "fig.show('svg')"
   ]
  },
  {
   "cell_type": "markdown",
   "metadata": {},
   "source": [
    "**Вывод:** Результаты теста менялись в несколько дат. Видимо, именно тогда были совершены аномальные заказы."
   ]
  },
  {
   "cell_type": "markdown",
   "metadata": {},
   "source": [
    "## 2.4. График кумулятивной конверсии по группам:"
   ]
  },
  {
   "cell_type": "markdown",
   "metadata": {},
   "source": [
    "Поссчитаем конверсию:"
   ]
  },
  {
   "cell_type": "code",
   "execution_count": 25,
   "metadata": {},
   "outputs": [],
   "source": [
    "cumulativeData['conversion'] = cumulativeData['orders'] / cumulativeData['visitors']\n",
    "# сделаем срез по группе А\n",
    "cumulativeDataA = cumulativeData[cumulativeData['group']=='A']\n",
    "# сделаем срез по группе В\n",
    "cumulativeDataB = cumulativeData[cumulativeData['group']=='B']"
   ]
  },
  {
   "cell_type": "code",
   "execution_count": 26,
   "metadata": {},
   "outputs": [
    {
     "data": {
      "image/svg+xml": [
       "<svg class=\"main-svg\" xmlns=\"http://www.w3.org/2000/svg\" xmlns:xlink=\"http://www.w3.org/1999/xlink\" width=\"900\" height=\"500\" style=\"\" viewBox=\"0 0 900 500\"><rect x=\"0\" y=\"0\" width=\"900\" height=\"500\" style=\"fill: rgb(255, 255, 255); fill-opacity: 1;\"/><defs id=\"defs-3d18f7\"><g class=\"clips\"><clipPath id=\"clip3d18f7xyplot\" class=\"plotclip\"><rect width=\"693\" height=\"320\"/></clipPath><clipPath class=\"axesclip\" id=\"clip3d18f7x\"><rect x=\"80\" y=\"0\" width=\"693\" height=\"500\"/></clipPath><clipPath class=\"axesclip\" id=\"clip3d18f7y\"><rect x=\"0\" y=\"100\" width=\"900\" height=\"320\"/></clipPath><clipPath class=\"axesclip\" id=\"clip3d18f7xy\"><rect x=\"80\" y=\"100\" width=\"693\" height=\"320\"/></clipPath></g><g class=\"gradients\"/><g class=\"patterns\"/></defs><g class=\"bglayer\"><rect class=\"bg\" x=\"80\" y=\"100\" width=\"693\" height=\"320\" style=\"fill: rgb(229, 236, 246); fill-opacity: 1; stroke-width: 0;\"/></g><g class=\"layer-below\"><g class=\"imagelayer\"/><g class=\"shapelayer\"/></g><g class=\"cartesianlayer\"><g class=\"subplot xy\"><g class=\"layer-subplot\"><g class=\"shapelayer\"/><g class=\"imagelayer\"/></g><g class=\"gridlayer\"><g class=\"x\"><path class=\"xgrid crisp\" transform=\"translate(149.3,0)\" d=\"M0,100v320\" style=\"stroke: rgb(255, 255, 255); stroke-opacity: 1; stroke-width: 1px;\"/><path class=\"xgrid crisp\" transform=\"translate(311,0)\" d=\"M0,100v320\" style=\"stroke: rgb(255, 255, 255); stroke-opacity: 1; stroke-width: 1px;\"/><path class=\"xgrid crisp\" transform=\"translate(472.7,0)\" d=\"M0,100v320\" style=\"stroke: rgb(255, 255, 255); stroke-opacity: 1; stroke-width: 1px;\"/><path class=\"xgrid crisp\" transform=\"translate(634.4,0)\" d=\"M0,100v320\" style=\"stroke: rgb(255, 255, 255); stroke-opacity: 1; stroke-width: 1px;\"/></g><g class=\"y\"><path class=\"ygrid crisp\" transform=\"translate(0,400.21)\" d=\"M80,0h693\" style=\"stroke: rgb(255, 255, 255); stroke-opacity: 1; stroke-width: 1px;\"/><path class=\"ygrid crisp\" transform=\"translate(0,351.91999999999996)\" d=\"M80,0h693\" style=\"stroke: rgb(255, 255, 255); stroke-opacity: 1; stroke-width: 1px;\"/><path class=\"ygrid crisp\" transform=\"translate(0,303.64)\" d=\"M80,0h693\" style=\"stroke: rgb(255, 255, 255); stroke-opacity: 1; stroke-width: 1px;\"/><path class=\"ygrid crisp\" transform=\"translate(0,255.36)\" d=\"M80,0h693\" style=\"stroke: rgb(255, 255, 255); stroke-opacity: 1; stroke-width: 1px;\"/><path class=\"ygrid crisp\" transform=\"translate(0,207.07)\" d=\"M80,0h693\" style=\"stroke: rgb(255, 255, 255); stroke-opacity: 1; stroke-width: 1px;\"/><path class=\"ygrid crisp\" transform=\"translate(0,158.79)\" d=\"M80,0h693\" style=\"stroke: rgb(255, 255, 255); stroke-opacity: 1; stroke-width: 1px;\"/><path class=\"ygrid crisp\" transform=\"translate(0,110.5)\" d=\"M80,0h693\" style=\"stroke: rgb(255, 255, 255); stroke-opacity: 1; stroke-width: 1px;\"/></g></g><g class=\"zerolinelayer\"/><path class=\"xlines-below\"/><path class=\"ylines-below\"/><g class=\"overlines-below\"/><g class=\"xaxislayer-below\"/><g class=\"yaxislayer-below\"/><g class=\"overaxes-below\"/><g class=\"plot\" transform=\"translate(80,100)\" clip-path=\"url(#clip3d18f7xyplot)\"><g class=\"scatterlayer mlayer\"><g class=\"trace scatter trace794112\" style=\"stroke-miterlimit: 2; opacity: 1;\"><g class=\"fills\"/><g class=\"errorbars\"/><g class=\"lines\"><path class=\"js-line\" d=\"M0,107.34L23.1,121.8L46.2,16L69.3,154.04L92.4,159.29L115.5,188.98L138.6,201.62L161.7,216.04L184.8,240.61L207.9,224.21L231,253.58L254.1,242.2L277.2,258.88L300.3,263.94L323.4,278.93L346.5,257.26L369.6,267.93L392.7,276.45L415.8,258.89L438.9,268.35L462,261.51L485.1,271.54L508.2,257.3L531.3,252.55L554.4,265.69L577.5,269.32L600.6,261.91L623.7,262.2L646.8,259.11L669.9,263.92L693,276.58\" style=\"vector-effect: non-scaling-stroke; fill: none; stroke: rgb(0, 0, 255); stroke-opacity: 1; stroke-width: 2px; opacity: 1;\"/></g><g class=\"points\"/><g class=\"text\"/></g><g class=\"trace scatter trace1bdb13\" style=\"stroke-miterlimit: 2; opacity: 1;\"><g class=\"fills\"/><g class=\"errorbars\"/><g class=\"lines\"><path class=\"js-line\" d=\"M0,304L23.1,133.34L46.2,156.56L69.3,241.58L92.4,224.54L115.5,192.47L138.6,177.81L161.7,164.2L184.8,160.42L207.9,118.09L231,155.15L254.1,146.49L277.2,156.23L300.3,178.5L323.4,152.84L346.5,139.42L369.6,139.21L392.7,172.93L415.8,158.96L438.9,152.47L462,167.02L485.1,163.78L508.2,169.25L531.3,164.45L554.4,177.4L577.5,173.83L600.6,188.51L623.7,183.9L646.8,184.31L669.9,175.18L693,180.22\" style=\"vector-effect: non-scaling-stroke; fill: none; stroke: rgb(255, 0, 0); stroke-opacity: 1; stroke-width: 2px; opacity: 1;\"/></g><g class=\"points\"/><g class=\"text\"/></g></g></g><g class=\"overplot\"/><path class=\"xlines-above crisp\" d=\"M0,0\" style=\"fill: none;\"/><path class=\"ylines-above crisp\" d=\"M0,0\" style=\"fill: none;\"/><g class=\"overlines-above\"/><g class=\"xaxislayer-above\"><g class=\"xtick\"><text text-anchor=\"middle\" x=\"0\" y=\"433\" transform=\"translate(149.3,0)\" style=\"font-family: 'Open Sans', verdana, arial, sans-serif; font-size: 12px; fill: rgb(42, 63, 95); fill-opacity: 1; white-space: pre; opacity: 1;\"><tspan class=\"line\" dy=\"0em\" x=\"0\" y=\"433\">Aug 4</tspan><tspan class=\"line\" dy=\"1.3em\" x=\"0\" y=\"433\">2019</tspan></text></g><g class=\"xtick\"><text text-anchor=\"middle\" x=\"0\" y=\"433\" style=\"font-family: 'Open Sans', verdana, arial, sans-serif; font-size: 12px; fill: rgb(42, 63, 95); fill-opacity: 1; white-space: pre; opacity: 1;\" transform=\"translate(311,0)\">Aug 11</text></g><g class=\"xtick\"><text text-anchor=\"middle\" x=\"0\" y=\"433\" style=\"font-family: 'Open Sans', verdana, arial, sans-serif; font-size: 12px; fill: rgb(42, 63, 95); fill-opacity: 1; white-space: pre; opacity: 1;\" transform=\"translate(472.7,0)\">Aug 18</text></g><g class=\"xtick\"><text text-anchor=\"middle\" x=\"0\" y=\"433\" style=\"font-family: 'Open Sans', verdana, arial, sans-serif; font-size: 12px; fill: rgb(42, 63, 95); fill-opacity: 1; white-space: pre; opacity: 1;\" transform=\"translate(634.4,0)\">Aug 25</text></g></g><g class=\"yaxislayer-above\"><g class=\"ytick\"><text text-anchor=\"end\" x=\"79\" y=\"4.199999999999999\" transform=\"translate(0,400.21)\" style=\"font-family: 'Open Sans', verdana, arial, sans-serif; font-size: 12px; fill: rgb(42, 63, 95); fill-opacity: 1; white-space: pre; opacity: 1;\">0.024</text></g><g class=\"ytick\"><text text-anchor=\"end\" x=\"79\" y=\"4.199999999999999\" style=\"font-family: 'Open Sans', verdana, arial, sans-serif; font-size: 12px; fill: rgb(42, 63, 95); fill-opacity: 1; white-space: pre; opacity: 1;\" transform=\"translate(0,351.91999999999996)\">0.026</text></g><g class=\"ytick\"><text text-anchor=\"end\" x=\"79\" y=\"4.199999999999999\" style=\"font-family: 'Open Sans', verdana, arial, sans-serif; font-size: 12px; fill: rgb(42, 63, 95); fill-opacity: 1; white-space: pre; opacity: 1;\" transform=\"translate(0,303.64)\">0.028</text></g><g class=\"ytick\"><text text-anchor=\"end\" x=\"79\" y=\"4.199999999999999\" style=\"font-family: 'Open Sans', verdana, arial, sans-serif; font-size: 12px; fill: rgb(42, 63, 95); fill-opacity: 1; white-space: pre; opacity: 1;\" transform=\"translate(0,255.36)\">0.03</text></g><g class=\"ytick\"><text text-anchor=\"end\" x=\"79\" y=\"4.199999999999999\" style=\"font-family: 'Open Sans', verdana, arial, sans-serif; font-size: 12px; fill: rgb(42, 63, 95); fill-opacity: 1; white-space: pre; opacity: 1;\" transform=\"translate(0,207.07)\">0.032</text></g><g class=\"ytick\"><text text-anchor=\"end\" x=\"79\" y=\"4.199999999999999\" style=\"font-family: 'Open Sans', verdana, arial, sans-serif; font-size: 12px; fill: rgb(42, 63, 95); fill-opacity: 1; white-space: pre; opacity: 1;\" transform=\"translate(0,158.79)\">0.034</text></g><g class=\"ytick\"><text text-anchor=\"end\" x=\"79\" y=\"4.199999999999999\" style=\"font-family: 'Open Sans', verdana, arial, sans-serif; font-size: 12px; fill: rgb(42, 63, 95); fill-opacity: 1; white-space: pre; opacity: 1;\" transform=\"translate(0,110.5)\">0.036</text></g></g><g class=\"overaxes-above\"/></g></g><g class=\"polarlayer\"/><g class=\"ternarylayer\"/><g class=\"geolayer\"/><g class=\"funnelarealayer\"/><g class=\"pielayer\"/><g class=\"iciclelayer\"/><g class=\"treemaplayer\"/><g class=\"sunburstlayer\"/><g class=\"glimages\"/><defs id=\"topdefs-3d18f7\"><g class=\"clips\"/><clipPath id=\"legend3d18f7\"><rect width=\"101\" height=\"48\" x=\"0\" y=\"0\"/></clipPath></defs><g class=\"layer-above\"><g class=\"imagelayer\"/><g class=\"shapelayer\"/></g><g class=\"infolayer\"><g class=\"legend\" pointer-events=\"all\" transform=\"translate(786.86,100)\"><rect class=\"bg\" shape-rendering=\"crispEdges\" width=\"101\" height=\"48\" x=\"0\" y=\"0\" style=\"stroke: rgb(68, 68, 68); stroke-opacity: 1; fill: rgb(255, 255, 255); fill-opacity: 1; stroke-width: 0px;\"/><g class=\"scrollbox\" transform=\"\" clip-path=\"url(#legend3d18f7)\"><g class=\"groups\"><g class=\"traces\" transform=\"translate(0,14.5)\" style=\"opacity: 1;\"><text class=\"legendtext\" text-anchor=\"start\" x=\"40\" y=\"4.680000000000001\" style=\"font-family: 'Open Sans', verdana, arial, sans-serif; font-size: 12px; fill: rgb(42, 63, 95); fill-opacity: 1; white-space: pre;\">группа А</text><g class=\"layers\" style=\"opacity: 1;\"><g class=\"legendfill\"/><g class=\"legendlines\"><path class=\"js-line\" d=\"M5,0h30\" style=\"fill: none; stroke: rgb(0, 0, 255); stroke-opacity: 1; stroke-width: 2px;\"/></g><g class=\"legendsymbols\"><g class=\"legendpoints\"/></g></g><rect class=\"legendtoggle\" x=\"0\" y=\"-9.5\" width=\"95.953125\" height=\"19\" style=\"fill: rgb(0, 0, 0); fill-opacity: 0;\"/></g><g class=\"traces\" transform=\"translate(0,33.5)\" style=\"opacity: 1;\"><text class=\"legendtext\" text-anchor=\"start\" x=\"40\" y=\"4.680000000000001\" style=\"font-family: 'Open Sans', verdana, arial, sans-serif; font-size: 12px; fill: rgb(42, 63, 95); fill-opacity: 1; white-space: pre;\">группа B</text><g class=\"layers\" style=\"opacity: 1;\"><g class=\"legendfill\"/><g class=\"legendlines\"><path class=\"js-line\" d=\"M5,0h30\" style=\"fill: none; stroke: rgb(255, 0, 0); stroke-opacity: 1; stroke-width: 2px;\"/></g><g class=\"legendsymbols\"><g class=\"legendpoints\"/></g></g><rect class=\"legendtoggle\" x=\"0\" y=\"-9.5\" width=\"95.953125\" height=\"19\" style=\"fill: rgb(0, 0, 0); fill-opacity: 0;\"/></g></g></g><rect class=\"scrollbar\" rx=\"20\" ry=\"3\" width=\"0\" height=\"0\" x=\"0\" y=\"0\" style=\"fill: rgb(128, 139, 164); fill-opacity: 1;\"/></g><g class=\"g-gtitle\"><text class=\"gtitle\" x=\"45\" y=\"50\" text-anchor=\"start\" dy=\"0em\" style=\"font-family: 'Open Sans', verdana, arial, sans-serif; font-size: 17px; fill: rgb(42, 63, 95); opacity: 1; font-weight: normal; white-space: pre;\">График изменения конверсии по группам</text></g><g class=\"g-xtitle\"><text class=\"xtitle\" x=\"426.5\" y=\"476.409375\" text-anchor=\"middle\" style=\"font-family: 'Open Sans', verdana, arial, sans-serif; font-size: 14px; fill: rgb(42, 63, 95); opacity: 1; font-weight: normal; white-space: pre;\">Дата</text></g><g class=\"g-ytitle\"><text class=\"ytitle\" transform=\"rotate(-90,19.309375000000003,260)\" x=\"19.309375000000003\" y=\"260\" text-anchor=\"middle\" style=\"font-family: 'Open Sans', verdana, arial, sans-serif; font-size: 14px; fill: rgb(42, 63, 95); opacity: 1; font-weight: normal; white-space: pre;\">Конверсия</text></g></g></svg>"
      ]
     },
     "metadata": {},
     "output_type": "display_data"
    }
   ],
   "source": [
    "fig = go.Figure()\n",
    "# Create and style traces\n",
    "fig.add_trace(go.Scatter(x=cumulativeDataA['date'], y=cumulativeDataA['conversion'], name='группа А',\n",
    "                         line=dict(color='blue', width=2)))\n",
    "fig.add_trace(go.Scatter(x=cumulativeDataB['date'], y=cumulativeDataB['conversion'], name='группа B',\n",
    "                         line=dict(color='red', width=2)))\n",
    "fig.update_layout(title='График изменения конверсии по группам',\n",
    "                  xaxis_title='Дата',\n",
    "                  yaxis_title='Конверсия',\n",
    "                  width=900, height=500)\n",
    "fig.show('svg')"
   ]
  },
  {
   "cell_type": "markdown",
   "metadata": {},
   "source": [
    "**Вывод:** С опредленного момента графики имеют симметричный вид и начинают колебаться вокруг определнных значений. У группы В конверсия больше, чем у группы А. "
   ]
  },
  {
   "cell_type": "markdown",
   "metadata": {},
   "source": [
    "## 2.5. График относительного изменения кумулятивной конверсии"
   ]
  },
  {
   "cell_type": "markdown",
   "metadata": {},
   "source": [
    "Смержим данные в одном датафрейме по каждой группе:"
   ]
  },
  {
   "cell_type": "code",
   "execution_count": 27,
   "metadata": {},
   "outputs": [],
   "source": [
    "mergedCumulativeConversions = cumulativeDataA[['date','conversion']].merge(\n",
    "    cumulativeDataB[['date','conversion']], left_on='date', right_on='date', how='left', suffixes=['_A', '_B'])"
   ]
  },
  {
   "cell_type": "code",
   "execution_count": 28,
   "metadata": {},
   "outputs": [],
   "source": [
    "mergedCumulativeConversions['cumul_convers'] = (\n",
    "    mergedCumulativeConversions['conversion_B'] / mergedCumulativeConversions['conversion_A']) - 1"
   ]
  },
  {
   "cell_type": "code",
   "execution_count": 29,
   "metadata": {},
   "outputs": [
    {
     "data": {
      "image/svg+xml": [
       "<svg class=\"main-svg\" xmlns=\"http://www.w3.org/2000/svg\" xmlns:xlink=\"http://www.w3.org/1999/xlink\" width=\"900\" height=\"500\" style=\"\" viewBox=\"0 0 900 500\"><rect x=\"0\" y=\"0\" width=\"900\" height=\"500\" style=\"fill: rgb(255, 255, 255); fill-opacity: 1;\"/><defs id=\"defs-11cdde\"><g class=\"clips\"><clipPath id=\"clip11cddexyplot\" class=\"plotclip\"><rect width=\"740\" height=\"320\"/></clipPath><clipPath class=\"axesclip\" id=\"clip11cddex\"><rect x=\"80\" y=\"0\" width=\"740\" height=\"500\"/></clipPath><clipPath class=\"axesclip\" id=\"clip11cddey\"><rect x=\"0\" y=\"100\" width=\"900\" height=\"320\"/></clipPath><clipPath class=\"axesclip\" id=\"clip11cddexy\"><rect x=\"80\" y=\"100\" width=\"740\" height=\"320\"/></clipPath></g><g class=\"gradients\"/><g class=\"patterns\"/></defs><g class=\"bglayer\"><rect class=\"bg\" x=\"80\" y=\"100\" width=\"740\" height=\"320\" style=\"fill: rgb(229, 236, 246); fill-opacity: 1; stroke-width: 0;\"/></g><g class=\"layer-below\"><g class=\"imagelayer\"/><g class=\"shapelayer\"/></g><g class=\"cartesianlayer\"><g class=\"subplot xy\"><g class=\"layer-subplot\"><g class=\"shapelayer\"/><g class=\"imagelayer\"/></g><g class=\"gridlayer\"><g class=\"x\"><path class=\"xgrid crisp\" transform=\"translate(154,0)\" d=\"M0,100v320\" style=\"stroke: rgb(255, 255, 255); stroke-opacity: 1; stroke-width: 1px;\"/><path class=\"xgrid crisp\" transform=\"translate(326.66999999999996,0)\" d=\"M0,100v320\" style=\"stroke: rgb(255, 255, 255); stroke-opacity: 1; stroke-width: 1px;\"/><path class=\"xgrid crisp\" transform=\"translate(499.33,0)\" d=\"M0,100v320\" style=\"stroke: rgb(255, 255, 255); stroke-opacity: 1; stroke-width: 1px;\"/><path class=\"xgrid crisp\" transform=\"translate(672,0)\" d=\"M0,100v320\" style=\"stroke: rgb(255, 255, 255); stroke-opacity: 1; stroke-width: 1px;\"/></g><g class=\"y\"><path class=\"ygrid crisp\" transform=\"translate(0,370.16)\" d=\"M80,0h740\" style=\"stroke: rgb(255, 255, 255); stroke-opacity: 1; stroke-width: 1px;\"/><path class=\"ygrid crisp\" transform=\"translate(0,308.24)\" d=\"M80,0h740\" style=\"stroke: rgb(255, 255, 255); stroke-opacity: 1; stroke-width: 1px;\"/><path class=\"ygrid crisp\" transform=\"translate(0,184.39)\" d=\"M80,0h740\" style=\"stroke: rgb(255, 255, 255); stroke-opacity: 1; stroke-width: 1px;\"/><path class=\"ygrid crisp\" transform=\"translate(0,122.47)\" d=\"M80,0h740\" style=\"stroke: rgb(255, 255, 255); stroke-opacity: 1; stroke-width: 1px;\"/></g></g><g class=\"zerolinelayer\"><path class=\"yzl zl crisp\" transform=\"translate(0,246.31)\" d=\"M80,0h740\" style=\"stroke: rgb(0, 128, 0); stroke-opacity: 1; stroke-width: 2px;\"/></g><path class=\"xlines-below\"/><path class=\"ylines-below\"/><g class=\"overlines-below\"/><g class=\"xaxislayer-below\"/><g class=\"yaxislayer-below\"/><g class=\"overaxes-below\"/><g class=\"plot\" transform=\"translate(80,100)\" clip-path=\"url(#clip11cddexyplot)\"><g class=\"scatterlayer mlayer\"><g class=\"trace scatter trace3d21de\" style=\"stroke-miterlimit: 2; opacity: 1;\"><g class=\"fills\"/><g class=\"errorbars\"/><g class=\"lines\"><path class=\"js-line\" d=\"M0,304L24.67,155.75L49.33,247.1L74,221.03L98.67,202.41L123.33,149.45L148,124.57L172.67,97.93L197.33,68.6L222,46.04L246.67,48.95L271.33,53.33L296,43.91L320.67,60.37L345.33,16.33L370,29.06L394.67,16L419.33,40.04L444,46.62L468.67,28.92L493.33,51.65L518,36.58L542.67,58.7L567.33,59.31L592,57.26L616.67,49.41L641.33,72.73L666,67.79L690.67,71.67L715.33,57.06L740,47.36\" style=\"vector-effect: non-scaling-stroke; fill: none; stroke: rgb(0, 0, 255); stroke-opacity: 1; stroke-width: 2px; opacity: 1;\"/></g><g class=\"points\"/><g class=\"text\"/></g></g></g><g class=\"overplot\"/><path class=\"xlines-above crisp\" d=\"M0,0\" style=\"fill: none;\"/><path class=\"ylines-above crisp\" d=\"M0,0\" style=\"fill: none;\"/><g class=\"overlines-above\"/><g class=\"xaxislayer-above\"><g class=\"xtick\"><text text-anchor=\"middle\" x=\"0\" y=\"433\" transform=\"translate(154,0)\" style=\"font-family: 'Open Sans', verdana, arial, sans-serif; font-size: 12px; fill: rgb(42, 63, 95); fill-opacity: 1; white-space: pre; opacity: 1;\"><tspan class=\"line\" dy=\"0em\" x=\"0\" y=\"433\">Aug 4</tspan><tspan class=\"line\" dy=\"1.3em\" x=\"0\" y=\"433\">2019</tspan></text></g><g class=\"xtick\"><text text-anchor=\"middle\" x=\"0\" y=\"433\" style=\"font-family: 'Open Sans', verdana, arial, sans-serif; font-size: 12px; fill: rgb(42, 63, 95); fill-opacity: 1; white-space: pre; opacity: 1;\" transform=\"translate(326.66999999999996,0)\">Aug 11</text></g><g class=\"xtick\"><text text-anchor=\"middle\" x=\"0\" y=\"433\" style=\"font-family: 'Open Sans', verdana, arial, sans-serif; font-size: 12px; fill: rgb(42, 63, 95); fill-opacity: 1; white-space: pre; opacity: 1;\" transform=\"translate(499.33,0)\">Aug 18</text></g><g class=\"xtick\"><text text-anchor=\"middle\" x=\"0\" y=\"433\" style=\"font-family: 'Open Sans', verdana, arial, sans-serif; font-size: 12px; fill: rgb(42, 63, 95); fill-opacity: 1; white-space: pre; opacity: 1;\" transform=\"translate(672,0)\">Aug 25</text></g></g><g class=\"yaxislayer-above\"><g class=\"ytick\"><text text-anchor=\"end\" x=\"79\" y=\"4.199999999999999\" transform=\"translate(0,370.16)\" style=\"font-family: 'Open Sans', verdana, arial, sans-serif; font-size: 12px; fill: rgb(42, 63, 95); fill-opacity: 1; white-space: pre; opacity: 1;\">−0.2</text></g><g class=\"ytick\"><text text-anchor=\"end\" x=\"79\" y=\"4.199999999999999\" style=\"font-family: 'Open Sans', verdana, arial, sans-serif; font-size: 12px; fill: rgb(42, 63, 95); fill-opacity: 1; white-space: pre; opacity: 1;\" transform=\"translate(0,308.24)\">−0.1</text></g><g class=\"ytick\"><text text-anchor=\"end\" x=\"79\" y=\"4.199999999999999\" style=\"font-family: 'Open Sans', verdana, arial, sans-serif; font-size: 12px; fill: rgb(42, 63, 95); fill-opacity: 1; white-space: pre; opacity: 1;\" transform=\"translate(0,246.31)\">0</text></g><g class=\"ytick\"><text text-anchor=\"end\" x=\"79\" y=\"4.199999999999999\" style=\"font-family: 'Open Sans', verdana, arial, sans-serif; font-size: 12px; fill: rgb(42, 63, 95); fill-opacity: 1; white-space: pre; opacity: 1;\" transform=\"translate(0,184.39)\">0.1</text></g><g class=\"ytick\"><text text-anchor=\"end\" x=\"79\" y=\"4.199999999999999\" style=\"font-family: 'Open Sans', verdana, arial, sans-serif; font-size: 12px; fill: rgb(42, 63, 95); fill-opacity: 1; white-space: pre; opacity: 1;\" transform=\"translate(0,122.47)\">0.2</text></g></g><g class=\"overaxes-above\"/></g></g><g class=\"polarlayer\"/><g class=\"ternarylayer\"/><g class=\"geolayer\"/><g class=\"funnelarealayer\"/><g class=\"pielayer\"/><g class=\"iciclelayer\"/><g class=\"treemaplayer\"/><g class=\"sunburstlayer\"/><g class=\"glimages\"/><defs id=\"topdefs-11cdde\"><g class=\"clips\"/></defs><g class=\"layer-above\"><g class=\"imagelayer\"/><g class=\"shapelayer\"/></g><g class=\"infolayer\"><g class=\"g-gtitle\"><text class=\"gtitle\" x=\"45\" y=\"50\" text-anchor=\"start\" dy=\"0em\" style=\"font-family: 'Open Sans', verdana, arial, sans-serif; font-size: 17px; fill: rgb(42, 63, 95); opacity: 1; font-weight: normal; white-space: pre;\">График относительного изменения куммулятивной конверсии группы В к группе А</text></g><g class=\"g-xtitle\"><text class=\"xtitle\" x=\"450\" y=\"476.409375\" text-anchor=\"middle\" style=\"font-family: 'Open Sans', verdana, arial, sans-serif; font-size: 14px; fill: rgb(42, 63, 95); opacity: 1; font-weight: normal; white-space: pre;\">Дата</text></g><g class=\"g-ytitle\"><text class=\"ytitle\" transform=\"rotate(-90,24.746875000000003,260)\" x=\"24.746875000000003\" y=\"260\" text-anchor=\"middle\" style=\"font-family: 'Open Sans', verdana, arial, sans-serif; font-size: 14px; fill: rgb(42, 63, 95); opacity: 1; font-weight: normal; white-space: pre;\">Относительная величина</text></g></g></svg>"
      ]
     },
     "metadata": {},
     "output_type": "display_data"
    }
   ],
   "source": [
    "fig = go.Figure()\n",
    "# Create and style traces\n",
    "fig.add_trace(go.Scatter(x=mergedCumulativeConversions['date'],\n",
    "                         y=mergedCumulativeConversions['cumul_convers'],\n",
    "                         line=dict(color='blue', width=2)))\n",
    "fig.update_layout(title='График относительного изменения куммулятивной конверсии группы В к группе А',\n",
    "                  xaxis_title='Дата',\n",
    "                  yaxis_title='Относительная величина',\n",
    "                  width=900, height=500)\n",
    "fig.update_yaxes(zeroline=True, zerolinewidth=2, zerolinecolor='#008000')\n",
    "fig.show('svg')"
   ]
  },
  {
   "cell_type": "markdown",
   "metadata": {},
   "source": [
    "**Вывод:** Группа В изначально начала лидерство. Пытается зафиксироваться в районе 14% относительно группы А. "
   ]
  },
  {
   "cell_type": "markdown",
   "metadata": {},
   "source": [
    "## 2.6. Точечный график количества заказов по пользователям"
   ]
  },
  {
   "cell_type": "markdown",
   "metadata": {},
   "source": [
    "Поссчитаем по каждому пользователю количество заказов:"
   ]
  },
  {
   "cell_type": "code",
   "execution_count": 30,
   "metadata": {},
   "outputs": [],
   "source": [
    "orders_id = orders.groupby('visitor_id').agg({'transaction_id':'nunique'}).reset_index()"
   ]
  },
  {
   "cell_type": "code",
   "execution_count": 31,
   "metadata": {},
   "outputs": [
    {
     "data": {
      "image/svg+xml": [
       "<svg class=\"main-svg\" xmlns=\"http://www.w3.org/2000/svg\" xmlns:xlink=\"http://www.w3.org/1999/xlink\" width=\"900\" height=\"500\" style=\"\" viewBox=\"0 0 900 500\"><rect x=\"0\" y=\"0\" width=\"900\" height=\"500\" style=\"fill: rgb(255, 255, 255); fill-opacity: 1;\"/><defs id=\"defs-0f08f4\"><g class=\"clips\"><clipPath id=\"clip0f08f4xyplot\" class=\"plotclip\"><rect width=\"740\" height=\"360\"/></clipPath><clipPath class=\"axesclip\" id=\"clip0f08f4x\"><rect x=\"80\" y=\"0\" width=\"740\" height=\"500\"/></clipPath><clipPath class=\"axesclip\" id=\"clip0f08f4y\"><rect x=\"0\" y=\"60\" width=\"900\" height=\"360\"/></clipPath><clipPath class=\"axesclip\" id=\"clip0f08f4xy\"><rect x=\"80\" y=\"60\" width=\"740\" height=\"360\"/></clipPath></g><g class=\"gradients\"/><g class=\"patterns\"/></defs><g class=\"bglayer\"><rect class=\"bg\" x=\"80\" y=\"60\" width=\"740\" height=\"360\" style=\"fill: rgb(229, 236, 246); fill-opacity: 1; stroke-width: 0;\"/></g><g class=\"layer-below\"><g class=\"imagelayer\"/><g class=\"shapelayer\"/></g><g class=\"cartesianlayer\"><g class=\"subplot xy\"><g class=\"layer-subplot\"><g class=\"shapelayer\"/><g class=\"imagelayer\"/></g><g class=\"gridlayer\"><g class=\"x\"><path class=\"xgrid crisp\" transform=\"translate(256.24,0)\" d=\"M0,60v360\" style=\"stroke: rgb(255, 255, 255); stroke-opacity: 1; stroke-width: 1px;\"/><path class=\"xgrid crisp\" transform=\"translate(391.74,0)\" d=\"M0,60v360\" style=\"stroke: rgb(255, 255, 255); stroke-opacity: 1; stroke-width: 1px;\"/><path class=\"xgrid crisp\" transform=\"translate(527.23,0)\" d=\"M0,60v360\" style=\"stroke: rgb(255, 255, 255); stroke-opacity: 1; stroke-width: 1px;\"/><path class=\"xgrid crisp\" transform=\"translate(662.73,0)\" d=\"M0,60v360\" style=\"stroke: rgb(255, 255, 255); stroke-opacity: 1; stroke-width: 1px;\"/><path class=\"xgrid crisp\" transform=\"translate(798.22,0)\" d=\"M0,60v360\" style=\"stroke: rgb(255, 255, 255); stroke-opacity: 1; stroke-width: 1px;\"/></g><g class=\"y\"><path class=\"ygrid crisp\" transform=\"translate(0,398.25)\" d=\"M80,0h740\" style=\"stroke: rgb(255, 255, 255); stroke-opacity: 1; stroke-width: 1px;\"/><path class=\"ygrid crisp\" transform=\"translate(0,319.13)\" d=\"M80,0h740\" style=\"stroke: rgb(255, 255, 255); stroke-opacity: 1; stroke-width: 1px;\"/><path class=\"ygrid crisp\" transform=\"translate(0,240)\" d=\"M80,0h740\" style=\"stroke: rgb(255, 255, 255); stroke-opacity: 1; stroke-width: 1px;\"/><path class=\"ygrid crisp\" transform=\"translate(0,160.88)\" d=\"M80,0h740\" style=\"stroke: rgb(255, 255, 255); stroke-opacity: 1; stroke-width: 1px;\"/><path class=\"ygrid crisp\" transform=\"translate(0,81.75)\" d=\"M80,0h740\" style=\"stroke: rgb(255, 255, 255); stroke-opacity: 1; stroke-width: 1px;\"/></g></g><g class=\"zerolinelayer\"><path class=\"xzl zl crisp\" transform=\"translate(120.75,0)\" d=\"M0,60v360\" style=\"stroke: rgb(255, 255, 255); stroke-opacity: 1; stroke-width: 2px;\"/></g><path class=\"xlines-below\"/><path class=\"ylines-below\"/><g class=\"overlines-below\"/><g class=\"xaxislayer-below\"/><g class=\"yaxislayer-below\"/><g class=\"overaxes-below\"/><g class=\"plot\" transform=\"translate(80,60)\" clip-path=\"url(#clip0f08f4xyplot)\"><g class=\"scatterlayer mlayer\"><g class=\"trace scatter traceae966a\" style=\"stroke-miterlimit: 2; opacity: 1;\"><g class=\"fills\"/><g class=\"errorbars\"/><g class=\"lines\"/><g class=\"points\"><path class=\"point\" transform=\"translate(40.75,338.25)\" d=\"M3,0A3,3 0 1,1 0,-3A3,3 0 0,1 3,0Z\" style=\"opacity: 1; stroke-width: 0px; fill: rgb(99, 110, 250); fill-opacity: 1;\"/><path class=\"point\" transform=\"translate(41.43,338.25)\" d=\"M3,0A3,3 0 1,1 0,-3A3,3 0 0,1 3,0Z\" style=\"opacity: 1; stroke-width: 0px; fill: rgb(99, 110, 250); fill-opacity: 1;\"/><path class=\"point\" transform=\"translate(42.1,338.25)\" d=\"M3,0A3,3 0 1,1 0,-3A3,3 0 0,1 3,0Z\" style=\"opacity: 1; stroke-width: 0px; fill: rgb(99, 110, 250); fill-opacity: 1;\"/><path class=\"point\" transform=\"translate(42.78,338.25)\" d=\"M3,0A3,3 0 1,1 0,-3A3,3 0 0,1 3,0Z\" style=\"opacity: 1; stroke-width: 0px; fill: rgb(99, 110, 250); fill-opacity: 1;\"/><path class=\"point\" transform=\"translate(43.46,338.25)\" d=\"M3,0A3,3 0 1,1 0,-3A3,3 0 0,1 3,0Z\" style=\"opacity: 1; stroke-width: 0px; fill: rgb(99, 110, 250); fill-opacity: 1;\"/><path class=\"point\" transform=\"translate(44.14,338.25)\" d=\"M3,0A3,3 0 1,1 0,-3A3,3 0 0,1 3,0Z\" style=\"opacity: 1; stroke-width: 0px; fill: rgb(99, 110, 250); fill-opacity: 1;\"/><path class=\"point\" transform=\"translate(44.81,338.25)\" d=\"M3,0A3,3 0 1,1 0,-3A3,3 0 0,1 3,0Z\" style=\"opacity: 1; stroke-width: 0px; fill: rgb(99, 110, 250); fill-opacity: 1;\"/><path class=\"point\" transform=\"translate(45.49,338.25)\" d=\"M3,0A3,3 0 1,1 0,-3A3,3 0 0,1 3,0Z\" style=\"opacity: 1; stroke-width: 0px; fill: rgb(99, 110, 250); fill-opacity: 1;\"/><path class=\"point\" transform=\"translate(46.17,338.25)\" d=\"M3,0A3,3 0 1,1 0,-3A3,3 0 0,1 3,0Z\" style=\"opacity: 1; stroke-width: 0px; fill: rgb(99, 110, 250); fill-opacity: 1;\"/><path class=\"point\" transform=\"translate(46.85,338.25)\" d=\"M3,0A3,3 0 1,1 0,-3A3,3 0 0,1 3,0Z\" style=\"opacity: 1; stroke-width: 0px; fill: rgb(99, 110, 250); fill-opacity: 1;\"/><path class=\"point\" transform=\"translate(47.52,338.25)\" d=\"M3,0A3,3 0 1,1 0,-3A3,3 0 0,1 3,0Z\" style=\"opacity: 1; stroke-width: 0px; fill: rgb(99, 110, 250); fill-opacity: 1;\"/><path class=\"point\" transform=\"translate(48.2,338.25)\" d=\"M3,0A3,3 0 1,1 0,-3A3,3 0 0,1 3,0Z\" style=\"opacity: 1; stroke-width: 0px; fill: rgb(99, 110, 250); fill-opacity: 1;\"/><path class=\"point\" transform=\"translate(48.88,338.25)\" d=\"M3,0A3,3 0 1,1 0,-3A3,3 0 0,1 3,0Z\" style=\"opacity: 1; stroke-width: 0px; fill: rgb(99, 110, 250); fill-opacity: 1;\"/><path class=\"point\" transform=\"translate(49.56,338.25)\" d=\"M3,0A3,3 0 1,1 0,-3A3,3 0 0,1 3,0Z\" style=\"opacity: 1; stroke-width: 0px; fill: rgb(99, 110, 250); fill-opacity: 1;\"/><path class=\"point\" transform=\"translate(50.23,338.25)\" d=\"M3,0A3,3 0 1,1 0,-3A3,3 0 0,1 3,0Z\" style=\"opacity: 1; stroke-width: 0px; fill: rgb(99, 110, 250); fill-opacity: 1;\"/><path class=\"point\" transform=\"translate(50.91,338.25)\" d=\"M3,0A3,3 0 1,1 0,-3A3,3 0 0,1 3,0Z\" style=\"opacity: 1; stroke-width: 0px; fill: rgb(99, 110, 250); fill-opacity: 1;\"/><path class=\"point\" transform=\"translate(51.59,338.25)\" d=\"M3,0A3,3 0 1,1 0,-3A3,3 0 0,1 3,0Z\" style=\"opacity: 1; stroke-width: 0px; fill: rgb(99, 110, 250); fill-opacity: 1;\"/><path class=\"point\" transform=\"translate(52.27,338.25)\" d=\"M3,0A3,3 0 1,1 0,-3A3,3 0 0,1 3,0Z\" style=\"opacity: 1; stroke-width: 0px; fill: rgb(99, 110, 250); fill-opacity: 1;\"/><path class=\"point\" transform=\"translate(52.94,338.25)\" d=\"M3,0A3,3 0 1,1 0,-3A3,3 0 0,1 3,0Z\" style=\"opacity: 1; stroke-width: 0px; fill: rgb(99, 110, 250); fill-opacity: 1;\"/><path class=\"point\" transform=\"translate(53.62,338.25)\" d=\"M3,0A3,3 0 1,1 0,-3A3,3 0 0,1 3,0Z\" style=\"opacity: 1; stroke-width: 0px; fill: rgb(99, 110, 250); fill-opacity: 1;\"/><path class=\"point\" transform=\"translate(54.3,338.25)\" d=\"M3,0A3,3 0 1,1 0,-3A3,3 0 0,1 3,0Z\" style=\"opacity: 1; stroke-width: 0px; fill: rgb(99, 110, 250); fill-opacity: 1;\"/><path class=\"point\" transform=\"translate(54.98,338.25)\" d=\"M3,0A3,3 0 1,1 0,-3A3,3 0 0,1 3,0Z\" style=\"opacity: 1; stroke-width: 0px; fill: rgb(99, 110, 250); fill-opacity: 1;\"/><path class=\"point\" transform=\"translate(55.65,338.25)\" d=\"M3,0A3,3 0 1,1 0,-3A3,3 0 0,1 3,0Z\" style=\"opacity: 1; stroke-width: 0px; fill: rgb(99, 110, 250); fill-opacity: 1;\"/><path class=\"point\" transform=\"translate(56.33,338.25)\" d=\"M3,0A3,3 0 1,1 0,-3A3,3 0 0,1 3,0Z\" style=\"opacity: 1; stroke-width: 0px; fill: rgb(99, 110, 250); fill-opacity: 1;\"/><path class=\"point\" transform=\"translate(57.01,338.25)\" d=\"M3,0A3,3 0 1,1 0,-3A3,3 0 0,1 3,0Z\" style=\"opacity: 1; stroke-width: 0px; fill: rgb(99, 110, 250); fill-opacity: 1;\"/><path class=\"point\" transform=\"translate(57.69,338.25)\" d=\"M3,0A3,3 0 1,1 0,-3A3,3 0 0,1 3,0Z\" style=\"opacity: 1; stroke-width: 0px; fill: rgb(99, 110, 250); fill-opacity: 1;\"/><path class=\"point\" transform=\"translate(58.36,338.25)\" d=\"M3,0A3,3 0 1,1 0,-3A3,3 0 0,1 3,0Z\" style=\"opacity: 1; stroke-width: 0px; fill: rgb(99, 110, 250); fill-opacity: 1;\"/><path class=\"point\" transform=\"translate(59.04,338.25)\" d=\"M3,0A3,3 0 1,1 0,-3A3,3 0 0,1 3,0Z\" style=\"opacity: 1; stroke-width: 0px; fill: rgb(99, 110, 250); fill-opacity: 1;\"/><path class=\"point\" transform=\"translate(59.72,338.25)\" d=\"M3,0A3,3 0 1,1 0,-3A3,3 0 0,1 3,0Z\" style=\"opacity: 1; stroke-width: 0px; fill: rgb(99, 110, 250); fill-opacity: 1;\"/><path class=\"point\" transform=\"translate(60.4,338.25)\" d=\"M3,0A3,3 0 1,1 0,-3A3,3 0 0,1 3,0Z\" style=\"opacity: 1; stroke-width: 0px; fill: rgb(99, 110, 250); fill-opacity: 1;\"/><path class=\"point\" transform=\"translate(61.07,338.25)\" d=\"M3,0A3,3 0 1,1 0,-3A3,3 0 0,1 3,0Z\" style=\"opacity: 1; stroke-width: 0px; fill: rgb(99, 110, 250); fill-opacity: 1;\"/><path class=\"point\" transform=\"translate(61.75,338.25)\" d=\"M3,0A3,3 0 1,1 0,-3A3,3 0 0,1 3,0Z\" style=\"opacity: 1; stroke-width: 0px; fill: rgb(99, 110, 250); fill-opacity: 1;\"/><path class=\"point\" transform=\"translate(62.43,338.25)\" d=\"M3,0A3,3 0 1,1 0,-3A3,3 0 0,1 3,0Z\" style=\"opacity: 1; stroke-width: 0px; fill: rgb(99, 110, 250); fill-opacity: 1;\"/><path class=\"point\" transform=\"translate(63.11,338.25)\" d=\"M3,0A3,3 0 1,1 0,-3A3,3 0 0,1 3,0Z\" style=\"opacity: 1; stroke-width: 0px; fill: rgb(99, 110, 250); fill-opacity: 1;\"/><path class=\"point\" transform=\"translate(63.78,338.25)\" d=\"M3,0A3,3 0 1,1 0,-3A3,3 0 0,1 3,0Z\" style=\"opacity: 1; stroke-width: 0px; fill: rgb(99, 110, 250); fill-opacity: 1;\"/><path class=\"point\" transform=\"translate(64.46,338.25)\" d=\"M3,0A3,3 0 1,1 0,-3A3,3 0 0,1 3,0Z\" style=\"opacity: 1; stroke-width: 0px; fill: rgb(99, 110, 250); fill-opacity: 1;\"/><path class=\"point\" transform=\"translate(65.14,338.25)\" d=\"M3,0A3,3 0 1,1 0,-3A3,3 0 0,1 3,0Z\" style=\"opacity: 1; stroke-width: 0px; fill: rgb(99, 110, 250); fill-opacity: 1;\"/><path class=\"point\" transform=\"translate(65.82,338.25)\" d=\"M3,0A3,3 0 1,1 0,-3A3,3 0 0,1 3,0Z\" style=\"opacity: 1; stroke-width: 0px; fill: rgb(99, 110, 250); fill-opacity: 1;\"/><path class=\"point\" transform=\"translate(66.49,338.25)\" d=\"M3,0A3,3 0 1,1 0,-3A3,3 0 0,1 3,0Z\" style=\"opacity: 1; stroke-width: 0px; fill: rgb(99, 110, 250); fill-opacity: 1;\"/><path class=\"point\" transform=\"translate(67.17,338.25)\" d=\"M3,0A3,3 0 1,1 0,-3A3,3 0 0,1 3,0Z\" style=\"opacity: 1; stroke-width: 0px; fill: rgb(99, 110, 250); fill-opacity: 1;\"/><path class=\"point\" transform=\"translate(67.85,338.25)\" d=\"M3,0A3,3 0 1,1 0,-3A3,3 0 0,1 3,0Z\" style=\"opacity: 1; stroke-width: 0px; fill: rgb(99, 110, 250); fill-opacity: 1;\"/><path class=\"point\" transform=\"translate(68.53,338.25)\" d=\"M3,0A3,3 0 1,1 0,-3A3,3 0 0,1 3,0Z\" style=\"opacity: 1; stroke-width: 0px; fill: rgb(99, 110, 250); fill-opacity: 1;\"/><path class=\"point\" transform=\"translate(69.2,338.25)\" d=\"M3,0A3,3 0 1,1 0,-3A3,3 0 0,1 3,0Z\" style=\"opacity: 1; stroke-width: 0px; fill: rgb(99, 110, 250); fill-opacity: 1;\"/><path class=\"point\" transform=\"translate(69.88,338.25)\" d=\"M3,0A3,3 0 1,1 0,-3A3,3 0 0,1 3,0Z\" style=\"opacity: 1; stroke-width: 0px; fill: rgb(99, 110, 250); fill-opacity: 1;\"/><path class=\"point\" transform=\"translate(70.56,338.25)\" d=\"M3,0A3,3 0 1,1 0,-3A3,3 0 0,1 3,0Z\" style=\"opacity: 1; stroke-width: 0px; fill: rgb(99, 110, 250); fill-opacity: 1;\"/><path class=\"point\" transform=\"translate(71.24,338.25)\" d=\"M3,0A3,3 0 1,1 0,-3A3,3 0 0,1 3,0Z\" style=\"opacity: 1; stroke-width: 0px; fill: rgb(99, 110, 250); fill-opacity: 1;\"/><path class=\"point\" transform=\"translate(71.91,338.25)\" d=\"M3,0A3,3 0 1,1 0,-3A3,3 0 0,1 3,0Z\" style=\"opacity: 1; stroke-width: 0px; fill: rgb(99, 110, 250); fill-opacity: 1;\"/><path class=\"point\" transform=\"translate(72.59,338.25)\" d=\"M3,0A3,3 0 1,1 0,-3A3,3 0 0,1 3,0Z\" style=\"opacity: 1; stroke-width: 0px; fill: rgb(99, 110, 250); fill-opacity: 1;\"/><path class=\"point\" transform=\"translate(73.27,338.25)\" d=\"M3,0A3,3 0 1,1 0,-3A3,3 0 0,1 3,0Z\" style=\"opacity: 1; stroke-width: 0px; fill: rgb(99, 110, 250); fill-opacity: 1;\"/><path class=\"point\" transform=\"translate(73.95,338.25)\" d=\"M3,0A3,3 0 1,1 0,-3A3,3 0 0,1 3,0Z\" style=\"opacity: 1; stroke-width: 0px; fill: rgb(99, 110, 250); fill-opacity: 1;\"/><path class=\"point\" transform=\"translate(74.62,338.25)\" d=\"M3,0A3,3 0 1,1 0,-3A3,3 0 0,1 3,0Z\" style=\"opacity: 1; stroke-width: 0px; fill: rgb(99, 110, 250); fill-opacity: 1;\"/><path class=\"point\" transform=\"translate(75.3,338.25)\" d=\"M3,0A3,3 0 1,1 0,-3A3,3 0 0,1 3,0Z\" style=\"opacity: 1; stroke-width: 0px; fill: rgb(99, 110, 250); fill-opacity: 1;\"/><path class=\"point\" transform=\"translate(75.98,338.25)\" d=\"M3,0A3,3 0 1,1 0,-3A3,3 0 0,1 3,0Z\" style=\"opacity: 1; stroke-width: 0px; fill: rgb(99, 110, 250); fill-opacity: 1;\"/><path class=\"point\" transform=\"translate(76.66,338.25)\" d=\"M3,0A3,3 0 1,1 0,-3A3,3 0 0,1 3,0Z\" style=\"opacity: 1; stroke-width: 0px; fill: rgb(99, 110, 250); fill-opacity: 1;\"/><path class=\"point\" transform=\"translate(77.33,338.25)\" d=\"M3,0A3,3 0 1,1 0,-3A3,3 0 0,1 3,0Z\" style=\"opacity: 1; stroke-width: 0px; fill: rgb(99, 110, 250); fill-opacity: 1;\"/><path class=\"point\" transform=\"translate(78.01,21.75)\" d=\"M3,0A3,3 0 1,1 0,-3A3,3 0 0,1 3,0Z\" style=\"opacity: 1; stroke-width: 0px; fill: rgb(99, 110, 250); fill-opacity: 1;\"/><path class=\"point\" transform=\"translate(78.69,338.25)\" d=\"M3,0A3,3 0 1,1 0,-3A3,3 0 0,1 3,0Z\" style=\"opacity: 1; stroke-width: 0px; fill: rgb(99, 110, 250); fill-opacity: 1;\"/><path class=\"point\" transform=\"translate(79.37,338.25)\" d=\"M3,0A3,3 0 1,1 0,-3A3,3 0 0,1 3,0Z\" style=\"opacity: 1; stroke-width: 0px; fill: rgb(99, 110, 250); fill-opacity: 1;\"/><path class=\"point\" transform=\"translate(80.04,338.25)\" d=\"M3,0A3,3 0 1,1 0,-3A3,3 0 0,1 3,0Z\" style=\"opacity: 1; stroke-width: 0px; fill: rgb(99, 110, 250); fill-opacity: 1;\"/><path class=\"point\" transform=\"translate(80.72,338.25)\" d=\"M3,0A3,3 0 1,1 0,-3A3,3 0 0,1 3,0Z\" style=\"opacity: 1; stroke-width: 0px; fill: rgb(99, 110, 250); fill-opacity: 1;\"/><path class=\"point\" transform=\"translate(81.4,338.25)\" d=\"M3,0A3,3 0 1,1 0,-3A3,3 0 0,1 3,0Z\" style=\"opacity: 1; stroke-width: 0px; fill: rgb(99, 110, 250); fill-opacity: 1;\"/><path class=\"point\" transform=\"translate(82.08,338.25)\" d=\"M3,0A3,3 0 1,1 0,-3A3,3 0 0,1 3,0Z\" style=\"opacity: 1; stroke-width: 0px; fill: rgb(99, 110, 250); fill-opacity: 1;\"/><path class=\"point\" transform=\"translate(82.75,338.25)\" d=\"M3,0A3,3 0 1,1 0,-3A3,3 0 0,1 3,0Z\" style=\"opacity: 1; stroke-width: 0px; fill: rgb(99, 110, 250); fill-opacity: 1;\"/><path class=\"point\" transform=\"translate(83.43,338.25)\" d=\"M3,0A3,3 0 1,1 0,-3A3,3 0 0,1 3,0Z\" style=\"opacity: 1; stroke-width: 0px; fill: rgb(99, 110, 250); fill-opacity: 1;\"/><path class=\"point\" transform=\"translate(84.11,338.25)\" d=\"M3,0A3,3 0 1,1 0,-3A3,3 0 0,1 3,0Z\" style=\"opacity: 1; stroke-width: 0px; fill: rgb(99, 110, 250); fill-opacity: 1;\"/><path class=\"point\" transform=\"translate(84.79,338.25)\" d=\"M3,0A3,3 0 1,1 0,-3A3,3 0 0,1 3,0Z\" style=\"opacity: 1; stroke-width: 0px; fill: rgb(99, 110, 250); fill-opacity: 1;\"/><path class=\"point\" transform=\"translate(85.46,338.25)\" d=\"M3,0A3,3 0 1,1 0,-3A3,3 0 0,1 3,0Z\" style=\"opacity: 1; stroke-width: 0px; fill: rgb(99, 110, 250); fill-opacity: 1;\"/><path class=\"point\" transform=\"translate(86.14,338.25)\" d=\"M3,0A3,3 0 1,1 0,-3A3,3 0 0,1 3,0Z\" style=\"opacity: 1; stroke-width: 0px; fill: rgb(99, 110, 250); fill-opacity: 1;\"/><path class=\"point\" transform=\"translate(86.82,338.25)\" d=\"M3,0A3,3 0 1,1 0,-3A3,3 0 0,1 3,0Z\" style=\"opacity: 1; stroke-width: 0px; fill: rgb(99, 110, 250); fill-opacity: 1;\"/><path class=\"point\" transform=\"translate(87.5,338.25)\" d=\"M3,0A3,3 0 1,1 0,-3A3,3 0 0,1 3,0Z\" style=\"opacity: 1; stroke-width: 0px; fill: rgb(99, 110, 250); fill-opacity: 1;\"/><path class=\"point\" transform=\"translate(88.17,338.25)\" d=\"M3,0A3,3 0 1,1 0,-3A3,3 0 0,1 3,0Z\" style=\"opacity: 1; stroke-width: 0px; fill: rgb(99, 110, 250); fill-opacity: 1;\"/><path class=\"point\" transform=\"translate(88.85,338.25)\" d=\"M3,0A3,3 0 1,1 0,-3A3,3 0 0,1 3,0Z\" style=\"opacity: 1; stroke-width: 0px; fill: rgb(99, 110, 250); fill-opacity: 1;\"/><path class=\"point\" transform=\"translate(89.53,338.25)\" d=\"M3,0A3,3 0 1,1 0,-3A3,3 0 0,1 3,0Z\" style=\"opacity: 1; stroke-width: 0px; fill: rgb(99, 110, 250); fill-opacity: 1;\"/><path class=\"point\" transform=\"translate(90.21,338.25)\" d=\"M3,0A3,3 0 1,1 0,-3A3,3 0 0,1 3,0Z\" style=\"opacity: 1; stroke-width: 0px; fill: rgb(99, 110, 250); fill-opacity: 1;\"/><path class=\"point\" transform=\"translate(90.88,338.25)\" d=\"M3,0A3,3 0 1,1 0,-3A3,3 0 0,1 3,0Z\" style=\"opacity: 1; stroke-width: 0px; fill: rgb(99, 110, 250); fill-opacity: 1;\"/><path class=\"point\" transform=\"translate(91.56,338.25)\" d=\"M3,0A3,3 0 1,1 0,-3A3,3 0 0,1 3,0Z\" style=\"opacity: 1; stroke-width: 0px; fill: rgb(99, 110, 250); fill-opacity: 1;\"/><path class=\"point\" transform=\"translate(92.24,338.25)\" d=\"M3,0A3,3 0 1,1 0,-3A3,3 0 0,1 3,0Z\" style=\"opacity: 1; stroke-width: 0px; fill: rgb(99, 110, 250); fill-opacity: 1;\"/><path class=\"point\" transform=\"translate(92.92,338.25)\" d=\"M3,0A3,3 0 1,1 0,-3A3,3 0 0,1 3,0Z\" style=\"opacity: 1; stroke-width: 0px; fill: rgb(99, 110, 250); fill-opacity: 1;\"/><path class=\"point\" transform=\"translate(93.59,338.25)\" d=\"M3,0A3,3 0 1,1 0,-3A3,3 0 0,1 3,0Z\" style=\"opacity: 1; stroke-width: 0px; fill: rgb(99, 110, 250); fill-opacity: 1;\"/><path class=\"point\" transform=\"translate(94.27,338.25)\" d=\"M3,0A3,3 0 1,1 0,-3A3,3 0 0,1 3,0Z\" style=\"opacity: 1; stroke-width: 0px; fill: rgb(99, 110, 250); fill-opacity: 1;\"/><path class=\"point\" transform=\"translate(94.95,338.25)\" d=\"M3,0A3,3 0 1,1 0,-3A3,3 0 0,1 3,0Z\" style=\"opacity: 1; stroke-width: 0px; fill: rgb(99, 110, 250); fill-opacity: 1;\"/><path class=\"point\" transform=\"translate(95.63,338.25)\" d=\"M3,0A3,3 0 1,1 0,-3A3,3 0 0,1 3,0Z\" style=\"opacity: 1; stroke-width: 0px; fill: rgb(99, 110, 250); fill-opacity: 1;\"/><path class=\"point\" transform=\"translate(96.3,180)\" d=\"M3,0A3,3 0 1,1 0,-3A3,3 0 0,1 3,0Z\" style=\"opacity: 1; stroke-width: 0px; fill: rgb(99, 110, 250); fill-opacity: 1;\"/><path class=\"point\" transform=\"translate(96.98,338.25)\" d=\"M3,0A3,3 0 1,1 0,-3A3,3 0 0,1 3,0Z\" style=\"opacity: 1; stroke-width: 0px; fill: rgb(99, 110, 250); fill-opacity: 1;\"/><path class=\"point\" transform=\"translate(97.66,338.25)\" d=\"M3,0A3,3 0 1,1 0,-3A3,3 0 0,1 3,0Z\" style=\"opacity: 1; stroke-width: 0px; fill: rgb(99, 110, 250); fill-opacity: 1;\"/><path class=\"point\" transform=\"translate(98.33,338.25)\" d=\"M3,0A3,3 0 1,1 0,-3A3,3 0 0,1 3,0Z\" style=\"opacity: 1; stroke-width: 0px; fill: rgb(99, 110, 250); fill-opacity: 1;\"/><path class=\"point\" transform=\"translate(99.01,338.25)\" d=\"M3,0A3,3 0 1,1 0,-3A3,3 0 0,1 3,0Z\" style=\"opacity: 1; stroke-width: 0px; fill: rgb(99, 110, 250); fill-opacity: 1;\"/><path class=\"point\" transform=\"translate(99.69,338.25)\" d=\"M3,0A3,3 0 1,1 0,-3A3,3 0 0,1 3,0Z\" style=\"opacity: 1; stroke-width: 0px; fill: rgb(99, 110, 250); fill-opacity: 1;\"/><path class=\"point\" transform=\"translate(100.37,338.25)\" d=\"M3,0A3,3 0 1,1 0,-3A3,3 0 0,1 3,0Z\" style=\"opacity: 1; stroke-width: 0px; fill: rgb(99, 110, 250); fill-opacity: 1;\"/><path class=\"point\" transform=\"translate(101.04,338.25)\" d=\"M3,0A3,3 0 1,1 0,-3A3,3 0 0,1 3,0Z\" style=\"opacity: 1; stroke-width: 0px; fill: rgb(99, 110, 250); fill-opacity: 1;\"/><path class=\"point\" transform=\"translate(101.72,338.25)\" d=\"M3,0A3,3 0 1,1 0,-3A3,3 0 0,1 3,0Z\" style=\"opacity: 1; stroke-width: 0px; fill: rgb(99, 110, 250); fill-opacity: 1;\"/><path class=\"point\" transform=\"translate(102.4,338.25)\" d=\"M3,0A3,3 0 1,1 0,-3A3,3 0 0,1 3,0Z\" style=\"opacity: 1; stroke-width: 0px; fill: rgb(99, 110, 250); fill-opacity: 1;\"/><path class=\"point\" transform=\"translate(103.08,338.25)\" d=\"M3,0A3,3 0 1,1 0,-3A3,3 0 0,1 3,0Z\" style=\"opacity: 1; stroke-width: 0px; fill: rgb(99, 110, 250); fill-opacity: 1;\"/><path class=\"point\" transform=\"translate(103.75,338.25)\" d=\"M3,0A3,3 0 1,1 0,-3A3,3 0 0,1 3,0Z\" style=\"opacity: 1; stroke-width: 0px; fill: rgb(99, 110, 250); fill-opacity: 1;\"/><path class=\"point\" transform=\"translate(104.43,180)\" d=\"M3,0A3,3 0 1,1 0,-3A3,3 0 0,1 3,0Z\" style=\"opacity: 1; stroke-width: 0px; fill: rgb(99, 110, 250); fill-opacity: 1;\"/><path class=\"point\" transform=\"translate(105.11,338.25)\" d=\"M3,0A3,3 0 1,1 0,-3A3,3 0 0,1 3,0Z\" style=\"opacity: 1; stroke-width: 0px; fill: rgb(99, 110, 250); fill-opacity: 1;\"/><path class=\"point\" transform=\"translate(105.79,338.25)\" d=\"M3,0A3,3 0 1,1 0,-3A3,3 0 0,1 3,0Z\" style=\"opacity: 1; stroke-width: 0px; fill: rgb(99, 110, 250); fill-opacity: 1;\"/><path class=\"point\" transform=\"translate(106.46,338.25)\" d=\"M3,0A3,3 0 1,1 0,-3A3,3 0 0,1 3,0Z\" style=\"opacity: 1; stroke-width: 0px; fill: rgb(99, 110, 250); fill-opacity: 1;\"/><path class=\"point\" transform=\"translate(107.14,338.25)\" d=\"M3,0A3,3 0 1,1 0,-3A3,3 0 0,1 3,0Z\" style=\"opacity: 1; stroke-width: 0px; fill: rgb(99, 110, 250); fill-opacity: 1;\"/><path class=\"point\" transform=\"translate(107.82,338.25)\" d=\"M3,0A3,3 0 1,1 0,-3A3,3 0 0,1 3,0Z\" style=\"opacity: 1; stroke-width: 0px; fill: rgb(99, 110, 250); fill-opacity: 1;\"/><path class=\"point\" transform=\"translate(108.5,338.25)\" d=\"M3,0A3,3 0 1,1 0,-3A3,3 0 0,1 3,0Z\" style=\"opacity: 1; stroke-width: 0px; fill: rgb(99, 110, 250); fill-opacity: 1;\"/><path class=\"point\" transform=\"translate(109.17,338.25)\" d=\"M3,0A3,3 0 1,1 0,-3A3,3 0 0,1 3,0Z\" style=\"opacity: 1; stroke-width: 0px; fill: rgb(99, 110, 250); fill-opacity: 1;\"/><path class=\"point\" transform=\"translate(109.85,338.25)\" d=\"M3,0A3,3 0 1,1 0,-3A3,3 0 0,1 3,0Z\" style=\"opacity: 1; stroke-width: 0px; fill: rgb(99, 110, 250); fill-opacity: 1;\"/><path class=\"point\" transform=\"translate(110.53,338.25)\" d=\"M3,0A3,3 0 1,1 0,-3A3,3 0 0,1 3,0Z\" style=\"opacity: 1; stroke-width: 0px; fill: rgb(99, 110, 250); fill-opacity: 1;\"/><path class=\"point\" transform=\"translate(111.21,338.25)\" d=\"M3,0A3,3 0 1,1 0,-3A3,3 0 0,1 3,0Z\" style=\"opacity: 1; stroke-width: 0px; fill: rgb(99, 110, 250); fill-opacity: 1;\"/><path class=\"point\" transform=\"translate(111.88,338.25)\" d=\"M3,0A3,3 0 1,1 0,-3A3,3 0 0,1 3,0Z\" style=\"opacity: 1; stroke-width: 0px; fill: rgb(99, 110, 250); fill-opacity: 1;\"/><path class=\"point\" transform=\"translate(112.56,338.25)\" d=\"M3,0A3,3 0 1,1 0,-3A3,3 0 0,1 3,0Z\" style=\"opacity: 1; stroke-width: 0px; fill: rgb(99, 110, 250); fill-opacity: 1;\"/><path class=\"point\" transform=\"translate(113.24,338.25)\" d=\"M3,0A3,3 0 1,1 0,-3A3,3 0 0,1 3,0Z\" style=\"opacity: 1; stroke-width: 0px; fill: rgb(99, 110, 250); fill-opacity: 1;\"/><path class=\"point\" transform=\"translate(113.92,338.25)\" d=\"M3,0A3,3 0 1,1 0,-3A3,3 0 0,1 3,0Z\" style=\"opacity: 1; stroke-width: 0px; fill: rgb(99, 110, 250); fill-opacity: 1;\"/><path class=\"point\" transform=\"translate(114.59,338.25)\" d=\"M3,0A3,3 0 1,1 0,-3A3,3 0 0,1 3,0Z\" style=\"opacity: 1; stroke-width: 0px; fill: rgb(99, 110, 250); fill-opacity: 1;\"/><path class=\"point\" transform=\"translate(115.27,338.25)\" d=\"M3,0A3,3 0 1,1 0,-3A3,3 0 0,1 3,0Z\" style=\"opacity: 1; stroke-width: 0px; fill: rgb(99, 110, 250); fill-opacity: 1;\"/><path class=\"point\" transform=\"translate(115.95,338.25)\" d=\"M3,0A3,3 0 1,1 0,-3A3,3 0 0,1 3,0Z\" style=\"opacity: 1; stroke-width: 0px; fill: rgb(99, 110, 250); fill-opacity: 1;\"/><path class=\"point\" transform=\"translate(116.63,338.25)\" d=\"M3,0A3,3 0 1,1 0,-3A3,3 0 0,1 3,0Z\" style=\"opacity: 1; stroke-width: 0px; fill: rgb(99, 110, 250); fill-opacity: 1;\"/><path class=\"point\" transform=\"translate(117.3,338.25)\" d=\"M3,0A3,3 0 1,1 0,-3A3,3 0 0,1 3,0Z\" style=\"opacity: 1; stroke-width: 0px; fill: rgb(99, 110, 250); fill-opacity: 1;\"/><path class=\"point\" transform=\"translate(117.98,338.25)\" d=\"M3,0A3,3 0 1,1 0,-3A3,3 0 0,1 3,0Z\" style=\"opacity: 1; stroke-width: 0px; fill: rgb(99, 110, 250); fill-opacity: 1;\"/><path class=\"point\" transform=\"translate(118.66,338.25)\" d=\"M3,0A3,3 0 1,1 0,-3A3,3 0 0,1 3,0Z\" style=\"opacity: 1; stroke-width: 0px; fill: rgb(99, 110, 250); fill-opacity: 1;\"/><path class=\"point\" transform=\"translate(119.34,338.25)\" d=\"M3,0A3,3 0 1,1 0,-3A3,3 0 0,1 3,0Z\" style=\"opacity: 1; stroke-width: 0px; fill: rgb(99, 110, 250); fill-opacity: 1;\"/><path class=\"point\" transform=\"translate(120.01,338.25)\" d=\"M3,0A3,3 0 1,1 0,-3A3,3 0 0,1 3,0Z\" style=\"opacity: 1; stroke-width: 0px; fill: rgb(99, 110, 250); fill-opacity: 1;\"/><path class=\"point\" transform=\"translate(120.69,180)\" d=\"M3,0A3,3 0 1,1 0,-3A3,3 0 0,1 3,0Z\" style=\"opacity: 1; stroke-width: 0px; fill: rgb(99, 110, 250); fill-opacity: 1;\"/><path class=\"point\" transform=\"translate(121.37,338.25)\" d=\"M3,0A3,3 0 1,1 0,-3A3,3 0 0,1 3,0Z\" style=\"opacity: 1; stroke-width: 0px; fill: rgb(99, 110, 250); fill-opacity: 1;\"/><path class=\"point\" transform=\"translate(122.05,338.25)\" d=\"M3,0A3,3 0 1,1 0,-3A3,3 0 0,1 3,0Z\" style=\"opacity: 1; stroke-width: 0px; fill: rgb(99, 110, 250); fill-opacity: 1;\"/><path class=\"point\" transform=\"translate(122.72,338.25)\" d=\"M3,0A3,3 0 1,1 0,-3A3,3 0 0,1 3,0Z\" style=\"opacity: 1; stroke-width: 0px; fill: rgb(99, 110, 250); fill-opacity: 1;\"/><path class=\"point\" transform=\"translate(123.4,338.25)\" d=\"M3,0A3,3 0 1,1 0,-3A3,3 0 0,1 3,0Z\" style=\"opacity: 1; stroke-width: 0px; fill: rgb(99, 110, 250); fill-opacity: 1;\"/><path class=\"point\" transform=\"translate(124.08,338.25)\" d=\"M3,0A3,3 0 1,1 0,-3A3,3 0 0,1 3,0Z\" style=\"opacity: 1; stroke-width: 0px; fill: rgb(99, 110, 250); fill-opacity: 1;\"/><path class=\"point\" transform=\"translate(124.76,338.25)\" d=\"M3,0A3,3 0 1,1 0,-3A3,3 0 0,1 3,0Z\" style=\"opacity: 1; stroke-width: 0px; fill: rgb(99, 110, 250); fill-opacity: 1;\"/><path class=\"point\" transform=\"translate(125.43,338.25)\" d=\"M3,0A3,3 0 1,1 0,-3A3,3 0 0,1 3,0Z\" style=\"opacity: 1; stroke-width: 0px; fill: rgb(99, 110, 250); fill-opacity: 1;\"/><path class=\"point\" transform=\"translate(126.11,338.25)\" d=\"M3,0A3,3 0 1,1 0,-3A3,3 0 0,1 3,0Z\" style=\"opacity: 1; stroke-width: 0px; fill: rgb(99, 110, 250); fill-opacity: 1;\"/><path class=\"point\" transform=\"translate(126.79,338.25)\" d=\"M3,0A3,3 0 1,1 0,-3A3,3 0 0,1 3,0Z\" style=\"opacity: 1; stroke-width: 0px; fill: rgb(99, 110, 250); fill-opacity: 1;\"/><path class=\"point\" transform=\"translate(127.47,338.25)\" d=\"M3,0A3,3 0 1,1 0,-3A3,3 0 0,1 3,0Z\" style=\"opacity: 1; stroke-width: 0px; fill: rgb(99, 110, 250); fill-opacity: 1;\"/><path class=\"point\" transform=\"translate(128.14,338.25)\" d=\"M3,0A3,3 0 1,1 0,-3A3,3 0 0,1 3,0Z\" style=\"opacity: 1; stroke-width: 0px; fill: rgb(99, 110, 250); fill-opacity: 1;\"/><path class=\"point\" transform=\"translate(128.82,338.25)\" d=\"M3,0A3,3 0 1,1 0,-3A3,3 0 0,1 3,0Z\" style=\"opacity: 1; stroke-width: 0px; fill: rgb(99, 110, 250); fill-opacity: 1;\"/><path class=\"point\" transform=\"translate(129.5,338.25)\" d=\"M3,0A3,3 0 1,1 0,-3A3,3 0 0,1 3,0Z\" style=\"opacity: 1; stroke-width: 0px; fill: rgb(99, 110, 250); fill-opacity: 1;\"/><path class=\"point\" transform=\"translate(130.18,338.25)\" d=\"M3,0A3,3 0 1,1 0,-3A3,3 0 0,1 3,0Z\" style=\"opacity: 1; stroke-width: 0px; fill: rgb(99, 110, 250); fill-opacity: 1;\"/><path class=\"point\" transform=\"translate(130.85,338.25)\" d=\"M3,0A3,3 0 1,1 0,-3A3,3 0 0,1 3,0Z\" style=\"opacity: 1; stroke-width: 0px; fill: rgb(99, 110, 250); fill-opacity: 1;\"/><path class=\"point\" transform=\"translate(131.53,338.25)\" d=\"M3,0A3,3 0 1,1 0,-3A3,3 0 0,1 3,0Z\" style=\"opacity: 1; stroke-width: 0px; fill: rgb(99, 110, 250); fill-opacity: 1;\"/><path class=\"point\" transform=\"translate(132.21,338.25)\" d=\"M3,0A3,3 0 1,1 0,-3A3,3 0 0,1 3,0Z\" style=\"opacity: 1; stroke-width: 0px; fill: rgb(99, 110, 250); fill-opacity: 1;\"/><path class=\"point\" transform=\"translate(132.89,338.25)\" d=\"M3,0A3,3 0 1,1 0,-3A3,3 0 0,1 3,0Z\" style=\"opacity: 1; stroke-width: 0px; fill: rgb(99, 110, 250); fill-opacity: 1;\"/><path class=\"point\" transform=\"translate(133.56,338.25)\" d=\"M3,0A3,3 0 1,1 0,-3A3,3 0 0,1 3,0Z\" style=\"opacity: 1; stroke-width: 0px; fill: rgb(99, 110, 250); fill-opacity: 1;\"/><path class=\"point\" transform=\"translate(134.24,21.75)\" d=\"M3,0A3,3 0 1,1 0,-3A3,3 0 0,1 3,0Z\" style=\"opacity: 1; stroke-width: 0px; fill: rgb(99, 110, 250); fill-opacity: 1;\"/><path class=\"point\" transform=\"translate(134.92,338.25)\" d=\"M3,0A3,3 0 1,1 0,-3A3,3 0 0,1 3,0Z\" style=\"opacity: 1; stroke-width: 0px; fill: rgb(99, 110, 250); fill-opacity: 1;\"/><path class=\"point\" transform=\"translate(135.6,338.25)\" d=\"M3,0A3,3 0 1,1 0,-3A3,3 0 0,1 3,0Z\" style=\"opacity: 1; stroke-width: 0px; fill: rgb(99, 110, 250); fill-opacity: 1;\"/><path class=\"point\" transform=\"translate(136.27,338.25)\" d=\"M3,0A3,3 0 1,1 0,-3A3,3 0 0,1 3,0Z\" style=\"opacity: 1; stroke-width: 0px; fill: rgb(99, 110, 250); fill-opacity: 1;\"/><path class=\"point\" transform=\"translate(136.95,338.25)\" d=\"M3,0A3,3 0 1,1 0,-3A3,3 0 0,1 3,0Z\" style=\"opacity: 1; stroke-width: 0px; fill: rgb(99, 110, 250); fill-opacity: 1;\"/><path class=\"point\" transform=\"translate(137.63,338.25)\" d=\"M3,0A3,3 0 1,1 0,-3A3,3 0 0,1 3,0Z\" style=\"opacity: 1; stroke-width: 0px; fill: rgb(99, 110, 250); fill-opacity: 1;\"/><path class=\"point\" transform=\"translate(138.31,338.25)\" d=\"M3,0A3,3 0 1,1 0,-3A3,3 0 0,1 3,0Z\" style=\"opacity: 1; stroke-width: 0px; fill: rgb(99, 110, 250); fill-opacity: 1;\"/><path class=\"point\" transform=\"translate(138.98,338.25)\" d=\"M3,0A3,3 0 1,1 0,-3A3,3 0 0,1 3,0Z\" style=\"opacity: 1; stroke-width: 0px; fill: rgb(99, 110, 250); fill-opacity: 1;\"/><path class=\"point\" transform=\"translate(139.66,338.25)\" d=\"M3,0A3,3 0 1,1 0,-3A3,3 0 0,1 3,0Z\" style=\"opacity: 1; stroke-width: 0px; fill: rgb(99, 110, 250); fill-opacity: 1;\"/><path class=\"point\" transform=\"translate(140.34,338.25)\" d=\"M3,0A3,3 0 1,1 0,-3A3,3 0 0,1 3,0Z\" style=\"opacity: 1; stroke-width: 0px; fill: rgb(99, 110, 250); fill-opacity: 1;\"/><path class=\"point\" transform=\"translate(141.02,338.25)\" d=\"M3,0A3,3 0 1,1 0,-3A3,3 0 0,1 3,0Z\" style=\"opacity: 1; stroke-width: 0px; fill: rgb(99, 110, 250); fill-opacity: 1;\"/><path class=\"point\" transform=\"translate(141.69,338.25)\" d=\"M3,0A3,3 0 1,1 0,-3A3,3 0 0,1 3,0Z\" style=\"opacity: 1; stroke-width: 0px; fill: rgb(99, 110, 250); fill-opacity: 1;\"/><path class=\"point\" transform=\"translate(142.37,338.25)\" d=\"M3,0A3,3 0 1,1 0,-3A3,3 0 0,1 3,0Z\" style=\"opacity: 1; stroke-width: 0px; fill: rgb(99, 110, 250); fill-opacity: 1;\"/><path class=\"point\" transform=\"translate(143.05,338.25)\" d=\"M3,0A3,3 0 1,1 0,-3A3,3 0 0,1 3,0Z\" style=\"opacity: 1; stroke-width: 0px; fill: rgb(99, 110, 250); fill-opacity: 1;\"/><path class=\"point\" transform=\"translate(143.73,338.25)\" d=\"M3,0A3,3 0 1,1 0,-3A3,3 0 0,1 3,0Z\" style=\"opacity: 1; stroke-width: 0px; fill: rgb(99, 110, 250); fill-opacity: 1;\"/><path class=\"point\" transform=\"translate(144.4,338.25)\" d=\"M3,0A3,3 0 1,1 0,-3A3,3 0 0,1 3,0Z\" style=\"opacity: 1; stroke-width: 0px; fill: rgb(99, 110, 250); fill-opacity: 1;\"/><path class=\"point\" transform=\"translate(145.08,338.25)\" d=\"M3,0A3,3 0 1,1 0,-3A3,3 0 0,1 3,0Z\" style=\"opacity: 1; stroke-width: 0px; fill: rgb(99, 110, 250); fill-opacity: 1;\"/><path class=\"point\" transform=\"translate(145.76,338.25)\" d=\"M3,0A3,3 0 1,1 0,-3A3,3 0 0,1 3,0Z\" style=\"opacity: 1; stroke-width: 0px; fill: rgb(99, 110, 250); fill-opacity: 1;\"/><path class=\"point\" transform=\"translate(146.44,338.25)\" d=\"M3,0A3,3 0 1,1 0,-3A3,3 0 0,1 3,0Z\" style=\"opacity: 1; stroke-width: 0px; fill: rgb(99, 110, 250); fill-opacity: 1;\"/><path class=\"point\" transform=\"translate(147.11,180)\" d=\"M3,0A3,3 0 1,1 0,-3A3,3 0 0,1 3,0Z\" style=\"opacity: 1; stroke-width: 0px; fill: rgb(99, 110, 250); fill-opacity: 1;\"/><path class=\"point\" transform=\"translate(147.79,338.25)\" d=\"M3,0A3,3 0 1,1 0,-3A3,3 0 0,1 3,0Z\" style=\"opacity: 1; stroke-width: 0px; fill: rgb(99, 110, 250); fill-opacity: 1;\"/><path class=\"point\" transform=\"translate(148.47,338.25)\" d=\"M3,0A3,3 0 1,1 0,-3A3,3 0 0,1 3,0Z\" style=\"opacity: 1; stroke-width: 0px; fill: rgb(99, 110, 250); fill-opacity: 1;\"/><path class=\"point\" transform=\"translate(149.15,338.25)\" d=\"M3,0A3,3 0 1,1 0,-3A3,3 0 0,1 3,0Z\" style=\"opacity: 1; stroke-width: 0px; fill: rgb(99, 110, 250); fill-opacity: 1;\"/><path class=\"point\" transform=\"translate(149.82,338.25)\" d=\"M3,0A3,3 0 1,1 0,-3A3,3 0 0,1 3,0Z\" style=\"opacity: 1; stroke-width: 0px; fill: rgb(99, 110, 250); fill-opacity: 1;\"/><path class=\"point\" transform=\"translate(150.5,338.25)\" d=\"M3,0A3,3 0 1,1 0,-3A3,3 0 0,1 3,0Z\" style=\"opacity: 1; stroke-width: 0px; fill: rgb(99, 110, 250); fill-opacity: 1;\"/><path class=\"point\" transform=\"translate(151.18,338.25)\" d=\"M3,0A3,3 0 1,1 0,-3A3,3 0 0,1 3,0Z\" style=\"opacity: 1; stroke-width: 0px; fill: rgb(99, 110, 250); fill-opacity: 1;\"/><path class=\"point\" transform=\"translate(151.85,338.25)\" d=\"M3,0A3,3 0 1,1 0,-3A3,3 0 0,1 3,0Z\" style=\"opacity: 1; stroke-width: 0px; fill: rgb(99, 110, 250); fill-opacity: 1;\"/><path class=\"point\" transform=\"translate(152.53,338.25)\" d=\"M3,0A3,3 0 1,1 0,-3A3,3 0 0,1 3,0Z\" style=\"opacity: 1; stroke-width: 0px; fill: rgb(99, 110, 250); fill-opacity: 1;\"/><path class=\"point\" transform=\"translate(153.21,338.25)\" d=\"M3,0A3,3 0 1,1 0,-3A3,3 0 0,1 3,0Z\" style=\"opacity: 1; stroke-width: 0px; fill: rgb(99, 110, 250); fill-opacity: 1;\"/><path class=\"point\" transform=\"translate(153.89,338.25)\" d=\"M3,0A3,3 0 1,1 0,-3A3,3 0 0,1 3,0Z\" style=\"opacity: 1; stroke-width: 0px; fill: rgb(99, 110, 250); fill-opacity: 1;\"/><path class=\"point\" transform=\"translate(154.56,338.25)\" d=\"M3,0A3,3 0 1,1 0,-3A3,3 0 0,1 3,0Z\" style=\"opacity: 1; stroke-width: 0px; fill: rgb(99, 110, 250); fill-opacity: 1;\"/><path class=\"point\" transform=\"translate(155.24,338.25)\" d=\"M3,0A3,3 0 1,1 0,-3A3,3 0 0,1 3,0Z\" style=\"opacity: 1; stroke-width: 0px; fill: rgb(99, 110, 250); fill-opacity: 1;\"/><path class=\"point\" transform=\"translate(155.92,338.25)\" d=\"M3,0A3,3 0 1,1 0,-3A3,3 0 0,1 3,0Z\" style=\"opacity: 1; stroke-width: 0px; fill: rgb(99, 110, 250); fill-opacity: 1;\"/><path class=\"point\" transform=\"translate(156.6,338.25)\" d=\"M3,0A3,3 0 1,1 0,-3A3,3 0 0,1 3,0Z\" style=\"opacity: 1; stroke-width: 0px; fill: rgb(99, 110, 250); fill-opacity: 1;\"/><path class=\"point\" transform=\"translate(157.27,338.25)\" d=\"M3,0A3,3 0 1,1 0,-3A3,3 0 0,1 3,0Z\" style=\"opacity: 1; stroke-width: 0px; fill: rgb(99, 110, 250); fill-opacity: 1;\"/><path class=\"point\" transform=\"translate(157.95,338.25)\" d=\"M3,0A3,3 0 1,1 0,-3A3,3 0 0,1 3,0Z\" style=\"opacity: 1; stroke-width: 0px; fill: rgb(99, 110, 250); fill-opacity: 1;\"/><path class=\"point\" transform=\"translate(158.63,338.25)\" d=\"M3,0A3,3 0 1,1 0,-3A3,3 0 0,1 3,0Z\" style=\"opacity: 1; stroke-width: 0px; fill: rgb(99, 110, 250); fill-opacity: 1;\"/><path class=\"point\" transform=\"translate(159.31,338.25)\" d=\"M3,0A3,3 0 1,1 0,-3A3,3 0 0,1 3,0Z\" style=\"opacity: 1; stroke-width: 0px; fill: rgb(99, 110, 250); fill-opacity: 1;\"/><path class=\"point\" transform=\"translate(159.98,180)\" d=\"M3,0A3,3 0 1,1 0,-3A3,3 0 0,1 3,0Z\" style=\"opacity: 1; stroke-width: 0px; fill: rgb(99, 110, 250); fill-opacity: 1;\"/><path class=\"point\" transform=\"translate(160.66,338.25)\" d=\"M3,0A3,3 0 1,1 0,-3A3,3 0 0,1 3,0Z\" style=\"opacity: 1; stroke-width: 0px; fill: rgb(99, 110, 250); fill-opacity: 1;\"/><path class=\"point\" transform=\"translate(161.34,338.25)\" d=\"M3,0A3,3 0 1,1 0,-3A3,3 0 0,1 3,0Z\" style=\"opacity: 1; stroke-width: 0px; fill: rgb(99, 110, 250); fill-opacity: 1;\"/><path class=\"point\" transform=\"translate(162.02,338.25)\" d=\"M3,0A3,3 0 1,1 0,-3A3,3 0 0,1 3,0Z\" style=\"opacity: 1; stroke-width: 0px; fill: rgb(99, 110, 250); fill-opacity: 1;\"/><path class=\"point\" transform=\"translate(162.69,338.25)\" d=\"M3,0A3,3 0 1,1 0,-3A3,3 0 0,1 3,0Z\" style=\"opacity: 1; stroke-width: 0px; fill: rgb(99, 110, 250); fill-opacity: 1;\"/><path class=\"point\" transform=\"translate(163.37,338.25)\" d=\"M3,0A3,3 0 1,1 0,-3A3,3 0 0,1 3,0Z\" style=\"opacity: 1; stroke-width: 0px; fill: rgb(99, 110, 250); fill-opacity: 1;\"/><path class=\"point\" transform=\"translate(164.05,338.25)\" d=\"M3,0A3,3 0 1,1 0,-3A3,3 0 0,1 3,0Z\" style=\"opacity: 1; stroke-width: 0px; fill: rgb(99, 110, 250); fill-opacity: 1;\"/><path class=\"point\" transform=\"translate(164.73,338.25)\" d=\"M3,0A3,3 0 1,1 0,-3A3,3 0 0,1 3,0Z\" style=\"opacity: 1; stroke-width: 0px; fill: rgb(99, 110, 250); fill-opacity: 1;\"/><path class=\"point\" transform=\"translate(165.4,338.25)\" d=\"M3,0A3,3 0 1,1 0,-3A3,3 0 0,1 3,0Z\" style=\"opacity: 1; stroke-width: 0px; fill: rgb(99, 110, 250); fill-opacity: 1;\"/><path class=\"point\" transform=\"translate(166.08,338.25)\" d=\"M3,0A3,3 0 1,1 0,-3A3,3 0 0,1 3,0Z\" style=\"opacity: 1; stroke-width: 0px; fill: rgb(99, 110, 250); fill-opacity: 1;\"/><path class=\"point\" transform=\"translate(166.76,338.25)\" d=\"M3,0A3,3 0 1,1 0,-3A3,3 0 0,1 3,0Z\" style=\"opacity: 1; stroke-width: 0px; fill: rgb(99, 110, 250); fill-opacity: 1;\"/><path class=\"point\" transform=\"translate(167.44,338.25)\" d=\"M3,0A3,3 0 1,1 0,-3A3,3 0 0,1 3,0Z\" style=\"opacity: 1; stroke-width: 0px; fill: rgb(99, 110, 250); fill-opacity: 1;\"/><path class=\"point\" transform=\"translate(168.11,338.25)\" d=\"M3,0A3,3 0 1,1 0,-3A3,3 0 0,1 3,0Z\" style=\"opacity: 1; stroke-width: 0px; fill: rgb(99, 110, 250); fill-opacity: 1;\"/><path class=\"point\" transform=\"translate(168.79,338.25)\" d=\"M3,0A3,3 0 1,1 0,-3A3,3 0 0,1 3,0Z\" style=\"opacity: 1; stroke-width: 0px; fill: rgb(99, 110, 250); fill-opacity: 1;\"/><path class=\"point\" transform=\"translate(169.47,338.25)\" d=\"M3,0A3,3 0 1,1 0,-3A3,3 0 0,1 3,0Z\" style=\"opacity: 1; stroke-width: 0px; fill: rgb(99, 110, 250); fill-opacity: 1;\"/><path class=\"point\" transform=\"translate(170.15,338.25)\" d=\"M3,0A3,3 0 1,1 0,-3A3,3 0 0,1 3,0Z\" style=\"opacity: 1; stroke-width: 0px; fill: rgb(99, 110, 250); fill-opacity: 1;\"/><path class=\"point\" transform=\"translate(170.82,338.25)\" d=\"M3,0A3,3 0 1,1 0,-3A3,3 0 0,1 3,0Z\" style=\"opacity: 1; stroke-width: 0px; fill: rgb(99, 110, 250); fill-opacity: 1;\"/><path class=\"point\" transform=\"translate(171.5,338.25)\" d=\"M3,0A3,3 0 1,1 0,-3A3,3 0 0,1 3,0Z\" style=\"opacity: 1; stroke-width: 0px; fill: rgb(99, 110, 250); fill-opacity: 1;\"/><path class=\"point\" transform=\"translate(172.18,338.25)\" d=\"M3,0A3,3 0 1,1 0,-3A3,3 0 0,1 3,0Z\" style=\"opacity: 1; stroke-width: 0px; fill: rgb(99, 110, 250); fill-opacity: 1;\"/><path class=\"point\" transform=\"translate(172.86,338.25)\" d=\"M3,0A3,3 0 1,1 0,-3A3,3 0 0,1 3,0Z\" style=\"opacity: 1; stroke-width: 0px; fill: rgb(99, 110, 250); fill-opacity: 1;\"/><path class=\"point\" transform=\"translate(173.53,338.25)\" d=\"M3,0A3,3 0 1,1 0,-3A3,3 0 0,1 3,0Z\" style=\"opacity: 1; stroke-width: 0px; fill: rgb(99, 110, 250); fill-opacity: 1;\"/><path class=\"point\" transform=\"translate(174.21,338.25)\" d=\"M3,0A3,3 0 1,1 0,-3A3,3 0 0,1 3,0Z\" style=\"opacity: 1; stroke-width: 0px; fill: rgb(99, 110, 250); fill-opacity: 1;\"/><path class=\"point\" transform=\"translate(174.89,338.25)\" d=\"M3,0A3,3 0 1,1 0,-3A3,3 0 0,1 3,0Z\" style=\"opacity: 1; stroke-width: 0px; fill: rgb(99, 110, 250); fill-opacity: 1;\"/><path class=\"point\" transform=\"translate(175.57,338.25)\" d=\"M3,0A3,3 0 1,1 0,-3A3,3 0 0,1 3,0Z\" style=\"opacity: 1; stroke-width: 0px; fill: rgb(99, 110, 250); fill-opacity: 1;\"/><path class=\"point\" transform=\"translate(176.24,338.25)\" d=\"M3,0A3,3 0 1,1 0,-3A3,3 0 0,1 3,0Z\" style=\"opacity: 1; stroke-width: 0px; fill: rgb(99, 110, 250); fill-opacity: 1;\"/><path class=\"point\" transform=\"translate(176.92,338.25)\" d=\"M3,0A3,3 0 1,1 0,-3A3,3 0 0,1 3,0Z\" style=\"opacity: 1; stroke-width: 0px; fill: rgb(99, 110, 250); fill-opacity: 1;\"/><path class=\"point\" transform=\"translate(177.6,338.25)\" d=\"M3,0A3,3 0 1,1 0,-3A3,3 0 0,1 3,0Z\" style=\"opacity: 1; stroke-width: 0px; fill: rgb(99, 110, 250); fill-opacity: 1;\"/><path class=\"point\" transform=\"translate(178.28,338.25)\" d=\"M3,0A3,3 0 1,1 0,-3A3,3 0 0,1 3,0Z\" style=\"opacity: 1; stroke-width: 0px; fill: rgb(99, 110, 250); fill-opacity: 1;\"/><path class=\"point\" transform=\"translate(178.95,338.25)\" d=\"M3,0A3,3 0 1,1 0,-3A3,3 0 0,1 3,0Z\" style=\"opacity: 1; stroke-width: 0px; fill: rgb(99, 110, 250); fill-opacity: 1;\"/><path class=\"point\" transform=\"translate(179.63,338.25)\" d=\"M3,0A3,3 0 1,1 0,-3A3,3 0 0,1 3,0Z\" style=\"opacity: 1; stroke-width: 0px; fill: rgb(99, 110, 250); fill-opacity: 1;\"/><path class=\"point\" transform=\"translate(180.31,338.25)\" d=\"M3,0A3,3 0 1,1 0,-3A3,3 0 0,1 3,0Z\" style=\"opacity: 1; stroke-width: 0px; fill: rgb(99, 110, 250); fill-opacity: 1;\"/><path class=\"point\" transform=\"translate(180.99,338.25)\" d=\"M3,0A3,3 0 1,1 0,-3A3,3 0 0,1 3,0Z\" style=\"opacity: 1; stroke-width: 0px; fill: rgb(99, 110, 250); fill-opacity: 1;\"/><path class=\"point\" transform=\"translate(181.66,338.25)\" d=\"M3,0A3,3 0 1,1 0,-3A3,3 0 0,1 3,0Z\" style=\"opacity: 1; stroke-width: 0px; fill: rgb(99, 110, 250); fill-opacity: 1;\"/><path class=\"point\" transform=\"translate(182.34,338.25)\" d=\"M3,0A3,3 0 1,1 0,-3A3,3 0 0,1 3,0Z\" style=\"opacity: 1; stroke-width: 0px; fill: rgb(99, 110, 250); fill-opacity: 1;\"/><path class=\"point\" transform=\"translate(183.02,338.25)\" d=\"M3,0A3,3 0 1,1 0,-3A3,3 0 0,1 3,0Z\" style=\"opacity: 1; stroke-width: 0px; fill: rgb(99, 110, 250); fill-opacity: 1;\"/><path class=\"point\" transform=\"translate(183.7,338.25)\" d=\"M3,0A3,3 0 1,1 0,-3A3,3 0 0,1 3,0Z\" style=\"opacity: 1; stroke-width: 0px; fill: rgb(99, 110, 250); fill-opacity: 1;\"/><path class=\"point\" transform=\"translate(184.37,338.25)\" d=\"M3,0A3,3 0 1,1 0,-3A3,3 0 0,1 3,0Z\" style=\"opacity: 1; stroke-width: 0px; fill: rgb(99, 110, 250); fill-opacity: 1;\"/><path class=\"point\" transform=\"translate(185.05,338.25)\" d=\"M3,0A3,3 0 1,1 0,-3A3,3 0 0,1 3,0Z\" style=\"opacity: 1; stroke-width: 0px; fill: rgb(99, 110, 250); fill-opacity: 1;\"/><path class=\"point\" transform=\"translate(185.73,338.25)\" d=\"M3,0A3,3 0 1,1 0,-3A3,3 0 0,1 3,0Z\" style=\"opacity: 1; stroke-width: 0px; fill: rgb(99, 110, 250); fill-opacity: 1;\"/><path class=\"point\" transform=\"translate(186.41,338.25)\" d=\"M3,0A3,3 0 1,1 0,-3A3,3 0 0,1 3,0Z\" style=\"opacity: 1; stroke-width: 0px; fill: rgb(99, 110, 250); fill-opacity: 1;\"/><path class=\"point\" transform=\"translate(187.08,338.25)\" d=\"M3,0A3,3 0 1,1 0,-3A3,3 0 0,1 3,0Z\" style=\"opacity: 1; stroke-width: 0px; fill: rgb(99, 110, 250); fill-opacity: 1;\"/><path class=\"point\" transform=\"translate(187.76,338.25)\" d=\"M3,0A3,3 0 1,1 0,-3A3,3 0 0,1 3,0Z\" style=\"opacity: 1; stroke-width: 0px; fill: rgb(99, 110, 250); fill-opacity: 1;\"/><path class=\"point\" transform=\"translate(188.44,338.25)\" d=\"M3,0A3,3 0 1,1 0,-3A3,3 0 0,1 3,0Z\" style=\"opacity: 1; stroke-width: 0px; fill: rgb(99, 110, 250); fill-opacity: 1;\"/><path class=\"point\" transform=\"translate(189.12,338.25)\" d=\"M3,0A3,3 0 1,1 0,-3A3,3 0 0,1 3,0Z\" style=\"opacity: 1; stroke-width: 0px; fill: rgb(99, 110, 250); fill-opacity: 1;\"/><path class=\"point\" transform=\"translate(189.79,338.25)\" d=\"M3,0A3,3 0 1,1 0,-3A3,3 0 0,1 3,0Z\" style=\"opacity: 1; stroke-width: 0px; fill: rgb(99, 110, 250); fill-opacity: 1;\"/><path class=\"point\" transform=\"translate(190.47,338.25)\" d=\"M3,0A3,3 0 1,1 0,-3A3,3 0 0,1 3,0Z\" style=\"opacity: 1; stroke-width: 0px; fill: rgb(99, 110, 250); fill-opacity: 1;\"/><path class=\"point\" transform=\"translate(191.15,338.25)\" d=\"M3,0A3,3 0 1,1 0,-3A3,3 0 0,1 3,0Z\" style=\"opacity: 1; stroke-width: 0px; fill: rgb(99, 110, 250); fill-opacity: 1;\"/><path class=\"point\" transform=\"translate(191.83,338.25)\" d=\"M3,0A3,3 0 1,1 0,-3A3,3 0 0,1 3,0Z\" style=\"opacity: 1; stroke-width: 0px; fill: rgb(99, 110, 250); fill-opacity: 1;\"/><path class=\"point\" transform=\"translate(192.5,338.25)\" d=\"M3,0A3,3 0 1,1 0,-3A3,3 0 0,1 3,0Z\" style=\"opacity: 1; stroke-width: 0px; fill: rgb(99, 110, 250); fill-opacity: 1;\"/><path class=\"point\" transform=\"translate(193.18,338.25)\" d=\"M3,0A3,3 0 1,1 0,-3A3,3 0 0,1 3,0Z\" style=\"opacity: 1; stroke-width: 0px; fill: rgb(99, 110, 250); fill-opacity: 1;\"/><path class=\"point\" transform=\"translate(193.86,338.25)\" d=\"M3,0A3,3 0 1,1 0,-3A3,3 0 0,1 3,0Z\" style=\"opacity: 1; stroke-width: 0px; fill: rgb(99, 110, 250); fill-opacity: 1;\"/><path class=\"point\" transform=\"translate(194.54,338.25)\" d=\"M3,0A3,3 0 1,1 0,-3A3,3 0 0,1 3,0Z\" style=\"opacity: 1; stroke-width: 0px; fill: rgb(99, 110, 250); fill-opacity: 1;\"/><path class=\"point\" transform=\"translate(195.21,338.25)\" d=\"M3,0A3,3 0 1,1 0,-3A3,3 0 0,1 3,0Z\" style=\"opacity: 1; stroke-width: 0px; fill: rgb(99, 110, 250); fill-opacity: 1;\"/><path class=\"point\" transform=\"translate(195.89,338.25)\" d=\"M3,0A3,3 0 1,1 0,-3A3,3 0 0,1 3,0Z\" style=\"opacity: 1; stroke-width: 0px; fill: rgb(99, 110, 250); fill-opacity: 1;\"/><path class=\"point\" transform=\"translate(196.57,338.25)\" d=\"M3,0A3,3 0 1,1 0,-3A3,3 0 0,1 3,0Z\" style=\"opacity: 1; stroke-width: 0px; fill: rgb(99, 110, 250); fill-opacity: 1;\"/><path class=\"point\" transform=\"translate(197.25,338.25)\" d=\"M3,0A3,3 0 1,1 0,-3A3,3 0 0,1 3,0Z\" style=\"opacity: 1; stroke-width: 0px; fill: rgb(99, 110, 250); fill-opacity: 1;\"/><path class=\"point\" transform=\"translate(197.92,338.25)\" d=\"M3,0A3,3 0 1,1 0,-3A3,3 0 0,1 3,0Z\" style=\"opacity: 1; stroke-width: 0px; fill: rgb(99, 110, 250); fill-opacity: 1;\"/><path class=\"point\" transform=\"translate(198.6,338.25)\" d=\"M3,0A3,3 0 1,1 0,-3A3,3 0 0,1 3,0Z\" style=\"opacity: 1; stroke-width: 0px; fill: rgb(99, 110, 250); fill-opacity: 1;\"/><path class=\"point\" transform=\"translate(199.28,338.25)\" d=\"M3,0A3,3 0 1,1 0,-3A3,3 0 0,1 3,0Z\" style=\"opacity: 1; stroke-width: 0px; fill: rgb(99, 110, 250); fill-opacity: 1;\"/><path class=\"point\" transform=\"translate(199.96,338.25)\" d=\"M3,0A3,3 0 1,1 0,-3A3,3 0 0,1 3,0Z\" style=\"opacity: 1; stroke-width: 0px; fill: rgb(99, 110, 250); fill-opacity: 1;\"/><path class=\"point\" transform=\"translate(200.63,338.25)\" d=\"M3,0A3,3 0 1,1 0,-3A3,3 0 0,1 3,0Z\" style=\"opacity: 1; stroke-width: 0px; fill: rgb(99, 110, 250); fill-opacity: 1;\"/><path class=\"point\" transform=\"translate(201.31,338.25)\" d=\"M3,0A3,3 0 1,1 0,-3A3,3 0 0,1 3,0Z\" style=\"opacity: 1; stroke-width: 0px; fill: rgb(99, 110, 250); fill-opacity: 1;\"/><path class=\"point\" transform=\"translate(201.99,338.25)\" d=\"M3,0A3,3 0 1,1 0,-3A3,3 0 0,1 3,0Z\" style=\"opacity: 1; stroke-width: 0px; fill: rgb(99, 110, 250); fill-opacity: 1;\"/><path class=\"point\" transform=\"translate(202.67,338.25)\" d=\"M3,0A3,3 0 1,1 0,-3A3,3 0 0,1 3,0Z\" style=\"opacity: 1; stroke-width: 0px; fill: rgb(99, 110, 250); fill-opacity: 1;\"/><path class=\"point\" transform=\"translate(203.34,338.25)\" d=\"M3,0A3,3 0 1,1 0,-3A3,3 0 0,1 3,0Z\" style=\"opacity: 1; stroke-width: 0px; fill: rgb(99, 110, 250); fill-opacity: 1;\"/><path class=\"point\" transform=\"translate(204.02,338.25)\" d=\"M3,0A3,3 0 1,1 0,-3A3,3 0 0,1 3,0Z\" style=\"opacity: 1; stroke-width: 0px; fill: rgb(99, 110, 250); fill-opacity: 1;\"/><path class=\"point\" transform=\"translate(204.7,338.25)\" d=\"M3,0A3,3 0 1,1 0,-3A3,3 0 0,1 3,0Z\" style=\"opacity: 1; stroke-width: 0px; fill: rgb(99, 110, 250); fill-opacity: 1;\"/><path class=\"point\" transform=\"translate(205.38,338.25)\" d=\"M3,0A3,3 0 1,1 0,-3A3,3 0 0,1 3,0Z\" style=\"opacity: 1; stroke-width: 0px; fill: rgb(99, 110, 250); fill-opacity: 1;\"/><path class=\"point\" transform=\"translate(206.05,338.25)\" d=\"M3,0A3,3 0 1,1 0,-3A3,3 0 0,1 3,0Z\" style=\"opacity: 1; stroke-width: 0px; fill: rgb(99, 110, 250); fill-opacity: 1;\"/><path class=\"point\" transform=\"translate(206.73,338.25)\" d=\"M3,0A3,3 0 1,1 0,-3A3,3 0 0,1 3,0Z\" style=\"opacity: 1; stroke-width: 0px; fill: rgb(99, 110, 250); fill-opacity: 1;\"/><path class=\"point\" transform=\"translate(207.41,338.25)\" d=\"M3,0A3,3 0 1,1 0,-3A3,3 0 0,1 3,0Z\" style=\"opacity: 1; stroke-width: 0px; fill: rgb(99, 110, 250); fill-opacity: 1;\"/><path class=\"point\" transform=\"translate(208.08,338.25)\" d=\"M3,0A3,3 0 1,1 0,-3A3,3 0 0,1 3,0Z\" style=\"opacity: 1; stroke-width: 0px; fill: rgb(99, 110, 250); fill-opacity: 1;\"/><path class=\"point\" transform=\"translate(208.76,338.25)\" d=\"M3,0A3,3 0 1,1 0,-3A3,3 0 0,1 3,0Z\" style=\"opacity: 1; stroke-width: 0px; fill: rgb(99, 110, 250); fill-opacity: 1;\"/><path class=\"point\" transform=\"translate(209.44,338.25)\" d=\"M3,0A3,3 0 1,1 0,-3A3,3 0 0,1 3,0Z\" style=\"opacity: 1; stroke-width: 0px; fill: rgb(99, 110, 250); fill-opacity: 1;\"/><path class=\"point\" transform=\"translate(210.12,338.25)\" d=\"M3,0A3,3 0 1,1 0,-3A3,3 0 0,1 3,0Z\" style=\"opacity: 1; stroke-width: 0px; fill: rgb(99, 110, 250); fill-opacity: 1;\"/><path class=\"point\" transform=\"translate(210.79,338.25)\" d=\"M3,0A3,3 0 1,1 0,-3A3,3 0 0,1 3,0Z\" style=\"opacity: 1; stroke-width: 0px; fill: rgb(99, 110, 250); fill-opacity: 1;\"/><path class=\"point\" transform=\"translate(211.47,338.25)\" d=\"M3,0A3,3 0 1,1 0,-3A3,3 0 0,1 3,0Z\" style=\"opacity: 1; stroke-width: 0px; fill: rgb(99, 110, 250); fill-opacity: 1;\"/><path class=\"point\" transform=\"translate(212.15,338.25)\" d=\"M3,0A3,3 0 1,1 0,-3A3,3 0 0,1 3,0Z\" style=\"opacity: 1; stroke-width: 0px; fill: rgb(99, 110, 250); fill-opacity: 1;\"/><path class=\"point\" transform=\"translate(212.83,338.25)\" d=\"M3,0A3,3 0 1,1 0,-3A3,3 0 0,1 3,0Z\" style=\"opacity: 1; stroke-width: 0px; fill: rgb(99, 110, 250); fill-opacity: 1;\"/><path class=\"point\" transform=\"translate(213.5,338.25)\" d=\"M3,0A3,3 0 1,1 0,-3A3,3 0 0,1 3,0Z\" style=\"opacity: 1; stroke-width: 0px; fill: rgb(99, 110, 250); fill-opacity: 1;\"/><path class=\"point\" transform=\"translate(214.18,338.25)\" d=\"M3,0A3,3 0 1,1 0,-3A3,3 0 0,1 3,0Z\" style=\"opacity: 1; stroke-width: 0px; fill: rgb(99, 110, 250); fill-opacity: 1;\"/><path class=\"point\" transform=\"translate(214.86,338.25)\" d=\"M3,0A3,3 0 1,1 0,-3A3,3 0 0,1 3,0Z\" style=\"opacity: 1; stroke-width: 0px; fill: rgb(99, 110, 250); fill-opacity: 1;\"/><path class=\"point\" transform=\"translate(215.54,338.25)\" d=\"M3,0A3,3 0 1,1 0,-3A3,3 0 0,1 3,0Z\" style=\"opacity: 1; stroke-width: 0px; fill: rgb(99, 110, 250); fill-opacity: 1;\"/><path class=\"point\" transform=\"translate(216.21,338.25)\" d=\"M3,0A3,3 0 1,1 0,-3A3,3 0 0,1 3,0Z\" style=\"opacity: 1; stroke-width: 0px; fill: rgb(99, 110, 250); fill-opacity: 1;\"/><path class=\"point\" transform=\"translate(216.89,338.25)\" d=\"M3,0A3,3 0 1,1 0,-3A3,3 0 0,1 3,0Z\" style=\"opacity: 1; stroke-width: 0px; fill: rgb(99, 110, 250); fill-opacity: 1;\"/><path class=\"point\" transform=\"translate(217.57,338.25)\" d=\"M3,0A3,3 0 1,1 0,-3A3,3 0 0,1 3,0Z\" style=\"opacity: 1; stroke-width: 0px; fill: rgb(99, 110, 250); fill-opacity: 1;\"/><path class=\"point\" transform=\"translate(218.25,338.25)\" d=\"M3,0A3,3 0 1,1 0,-3A3,3 0 0,1 3,0Z\" style=\"opacity: 1; stroke-width: 0px; fill: rgb(99, 110, 250); fill-opacity: 1;\"/><path class=\"point\" transform=\"translate(218.92,338.25)\" d=\"M3,0A3,3 0 1,1 0,-3A3,3 0 0,1 3,0Z\" style=\"opacity: 1; stroke-width: 0px; fill: rgb(99, 110, 250); fill-opacity: 1;\"/><path class=\"point\" transform=\"translate(219.6,338.25)\" d=\"M3,0A3,3 0 1,1 0,-3A3,3 0 0,1 3,0Z\" style=\"opacity: 1; stroke-width: 0px; fill: rgb(99, 110, 250); fill-opacity: 1;\"/><path class=\"point\" transform=\"translate(220.28,338.25)\" d=\"M3,0A3,3 0 1,1 0,-3A3,3 0 0,1 3,0Z\" style=\"opacity: 1; stroke-width: 0px; fill: rgb(99, 110, 250); fill-opacity: 1;\"/><path class=\"point\" transform=\"translate(220.96,338.25)\" d=\"M3,0A3,3 0 1,1 0,-3A3,3 0 0,1 3,0Z\" style=\"opacity: 1; stroke-width: 0px; fill: rgb(99, 110, 250); fill-opacity: 1;\"/><path class=\"point\" transform=\"translate(221.63,338.25)\" d=\"M3,0A3,3 0 1,1 0,-3A3,3 0 0,1 3,0Z\" style=\"opacity: 1; stroke-width: 0px; fill: rgb(99, 110, 250); fill-opacity: 1;\"/><path class=\"point\" transform=\"translate(222.31,338.25)\" d=\"M3,0A3,3 0 1,1 0,-3A3,3 0 0,1 3,0Z\" style=\"opacity: 1; stroke-width: 0px; fill: rgb(99, 110, 250); fill-opacity: 1;\"/><path class=\"point\" transform=\"translate(222.99,338.25)\" d=\"M3,0A3,3 0 1,1 0,-3A3,3 0 0,1 3,0Z\" style=\"opacity: 1; stroke-width: 0px; fill: rgb(99, 110, 250); fill-opacity: 1;\"/><path class=\"point\" transform=\"translate(223.67,338.25)\" d=\"M3,0A3,3 0 1,1 0,-3A3,3 0 0,1 3,0Z\" style=\"opacity: 1; stroke-width: 0px; fill: rgb(99, 110, 250); fill-opacity: 1;\"/><path class=\"point\" transform=\"translate(224.34,338.25)\" d=\"M3,0A3,3 0 1,1 0,-3A3,3 0 0,1 3,0Z\" style=\"opacity: 1; stroke-width: 0px; fill: rgb(99, 110, 250); fill-opacity: 1;\"/><path class=\"point\" transform=\"translate(225.02,338.25)\" d=\"M3,0A3,3 0 1,1 0,-3A3,3 0 0,1 3,0Z\" style=\"opacity: 1; stroke-width: 0px; fill: rgb(99, 110, 250); fill-opacity: 1;\"/><path class=\"point\" transform=\"translate(225.7,338.25)\" d=\"M3,0A3,3 0 1,1 0,-3A3,3 0 0,1 3,0Z\" style=\"opacity: 1; stroke-width: 0px; fill: rgb(99, 110, 250); fill-opacity: 1;\"/><path class=\"point\" transform=\"translate(226.38,338.25)\" d=\"M3,0A3,3 0 1,1 0,-3A3,3 0 0,1 3,0Z\" style=\"opacity: 1; stroke-width: 0px; fill: rgb(99, 110, 250); fill-opacity: 1;\"/><path class=\"point\" transform=\"translate(227.05,338.25)\" d=\"M3,0A3,3 0 1,1 0,-3A3,3 0 0,1 3,0Z\" style=\"opacity: 1; stroke-width: 0px; fill: rgb(99, 110, 250); fill-opacity: 1;\"/><path class=\"point\" transform=\"translate(227.73,338.25)\" d=\"M3,0A3,3 0 1,1 0,-3A3,3 0 0,1 3,0Z\" style=\"opacity: 1; stroke-width: 0px; fill: rgb(99, 110, 250); fill-opacity: 1;\"/><path class=\"point\" transform=\"translate(228.41,338.25)\" d=\"M3,0A3,3 0 1,1 0,-3A3,3 0 0,1 3,0Z\" style=\"opacity: 1; stroke-width: 0px; fill: rgb(99, 110, 250); fill-opacity: 1;\"/><path class=\"point\" transform=\"translate(229.09,338.25)\" d=\"M3,0A3,3 0 1,1 0,-3A3,3 0 0,1 3,0Z\" style=\"opacity: 1; stroke-width: 0px; fill: rgb(99, 110, 250); fill-opacity: 1;\"/><path class=\"point\" transform=\"translate(229.76,338.25)\" d=\"M3,0A3,3 0 1,1 0,-3A3,3 0 0,1 3,0Z\" style=\"opacity: 1; stroke-width: 0px; fill: rgb(99, 110, 250); fill-opacity: 1;\"/><path class=\"point\" transform=\"translate(230.44,338.25)\" d=\"M3,0A3,3 0 1,1 0,-3A3,3 0 0,1 3,0Z\" style=\"opacity: 1; stroke-width: 0px; fill: rgb(99, 110, 250); fill-opacity: 1;\"/><path class=\"point\" transform=\"translate(231.12,338.25)\" d=\"M3,0A3,3 0 1,1 0,-3A3,3 0 0,1 3,0Z\" style=\"opacity: 1; stroke-width: 0px; fill: rgb(99, 110, 250); fill-opacity: 1;\"/><path class=\"point\" transform=\"translate(231.8,338.25)\" d=\"M3,0A3,3 0 1,1 0,-3A3,3 0 0,1 3,0Z\" style=\"opacity: 1; stroke-width: 0px; fill: rgb(99, 110, 250); fill-opacity: 1;\"/><path class=\"point\" transform=\"translate(232.47,338.25)\" d=\"M3,0A3,3 0 1,1 0,-3A3,3 0 0,1 3,0Z\" style=\"opacity: 1; stroke-width: 0px; fill: rgb(99, 110, 250); fill-opacity: 1;\"/><path class=\"point\" transform=\"translate(233.15,338.25)\" d=\"M3,0A3,3 0 1,1 0,-3A3,3 0 0,1 3,0Z\" style=\"opacity: 1; stroke-width: 0px; fill: rgb(99, 110, 250); fill-opacity: 1;\"/><path class=\"point\" transform=\"translate(233.83,338.25)\" d=\"M3,0A3,3 0 1,1 0,-3A3,3 0 0,1 3,0Z\" style=\"opacity: 1; stroke-width: 0px; fill: rgb(99, 110, 250); fill-opacity: 1;\"/><path class=\"point\" transform=\"translate(234.51,338.25)\" d=\"M3,0A3,3 0 1,1 0,-3A3,3 0 0,1 3,0Z\" style=\"opacity: 1; stroke-width: 0px; fill: rgb(99, 110, 250); fill-opacity: 1;\"/><path class=\"point\" transform=\"translate(235.18,338.25)\" d=\"M3,0A3,3 0 1,1 0,-3A3,3 0 0,1 3,0Z\" style=\"opacity: 1; stroke-width: 0px; fill: rgb(99, 110, 250); fill-opacity: 1;\"/><path class=\"point\" transform=\"translate(235.86,338.25)\" d=\"M3,0A3,3 0 1,1 0,-3A3,3 0 0,1 3,0Z\" style=\"opacity: 1; stroke-width: 0px; fill: rgb(99, 110, 250); fill-opacity: 1;\"/><path class=\"point\" transform=\"translate(236.54,338.25)\" d=\"M3,0A3,3 0 1,1 0,-3A3,3 0 0,1 3,0Z\" style=\"opacity: 1; stroke-width: 0px; fill: rgb(99, 110, 250); fill-opacity: 1;\"/><path class=\"point\" transform=\"translate(237.22,338.25)\" d=\"M3,0A3,3 0 1,1 0,-3A3,3 0 0,1 3,0Z\" style=\"opacity: 1; stroke-width: 0px; fill: rgb(99, 110, 250); fill-opacity: 1;\"/><path class=\"point\" transform=\"translate(237.89,338.25)\" d=\"M3,0A3,3 0 1,1 0,-3A3,3 0 0,1 3,0Z\" style=\"opacity: 1; stroke-width: 0px; fill: rgb(99, 110, 250); fill-opacity: 1;\"/><path class=\"point\" transform=\"translate(238.57,338.25)\" d=\"M3,0A3,3 0 1,1 0,-3A3,3 0 0,1 3,0Z\" style=\"opacity: 1; stroke-width: 0px; fill: rgb(99, 110, 250); fill-opacity: 1;\"/><path class=\"point\" transform=\"translate(239.25,338.25)\" d=\"M3,0A3,3 0 1,1 0,-3A3,3 0 0,1 3,0Z\" style=\"opacity: 1; stroke-width: 0px; fill: rgb(99, 110, 250); fill-opacity: 1;\"/><path class=\"point\" transform=\"translate(239.93,338.25)\" d=\"M3,0A3,3 0 1,1 0,-3A3,3 0 0,1 3,0Z\" style=\"opacity: 1; stroke-width: 0px; fill: rgb(99, 110, 250); fill-opacity: 1;\"/><path class=\"point\" transform=\"translate(240.6,338.25)\" d=\"M3,0A3,3 0 1,1 0,-3A3,3 0 0,1 3,0Z\" style=\"opacity: 1; stroke-width: 0px; fill: rgb(99, 110, 250); fill-opacity: 1;\"/><path class=\"point\" transform=\"translate(241.28,338.25)\" d=\"M3,0A3,3 0 1,1 0,-3A3,3 0 0,1 3,0Z\" style=\"opacity: 1; stroke-width: 0px; fill: rgb(99, 110, 250); fill-opacity: 1;\"/><path class=\"point\" transform=\"translate(241.96,338.25)\" d=\"M3,0A3,3 0 1,1 0,-3A3,3 0 0,1 3,0Z\" style=\"opacity: 1; stroke-width: 0px; fill: rgb(99, 110, 250); fill-opacity: 1;\"/><path class=\"point\" transform=\"translate(242.64,338.25)\" d=\"M3,0A3,3 0 1,1 0,-3A3,3 0 0,1 3,0Z\" style=\"opacity: 1; stroke-width: 0px; fill: rgb(99, 110, 250); fill-opacity: 1;\"/><path class=\"point\" transform=\"translate(243.31,338.25)\" d=\"M3,0A3,3 0 1,1 0,-3A3,3 0 0,1 3,0Z\" style=\"opacity: 1; stroke-width: 0px; fill: rgb(99, 110, 250); fill-opacity: 1;\"/><path class=\"point\" transform=\"translate(243.99,338.25)\" d=\"M3,0A3,3 0 1,1 0,-3A3,3 0 0,1 3,0Z\" style=\"opacity: 1; stroke-width: 0px; fill: rgb(99, 110, 250); fill-opacity: 1;\"/><path class=\"point\" transform=\"translate(244.67,338.25)\" d=\"M3,0A3,3 0 1,1 0,-3A3,3 0 0,1 3,0Z\" style=\"opacity: 1; stroke-width: 0px; fill: rgb(99, 110, 250); fill-opacity: 1;\"/><path class=\"point\" transform=\"translate(245.35,338.25)\" d=\"M3,0A3,3 0 1,1 0,-3A3,3 0 0,1 3,0Z\" style=\"opacity: 1; stroke-width: 0px; fill: rgb(99, 110, 250); fill-opacity: 1;\"/><path class=\"point\" transform=\"translate(246.02,338.25)\" d=\"M3,0A3,3 0 1,1 0,-3A3,3 0 0,1 3,0Z\" style=\"opacity: 1; stroke-width: 0px; fill: rgb(99, 110, 250); fill-opacity: 1;\"/><path class=\"point\" transform=\"translate(246.7,338.25)\" d=\"M3,0A3,3 0 1,1 0,-3A3,3 0 0,1 3,0Z\" style=\"opacity: 1; stroke-width: 0px; fill: rgb(99, 110, 250); fill-opacity: 1;\"/><path class=\"point\" transform=\"translate(247.38,338.25)\" d=\"M3,0A3,3 0 1,1 0,-3A3,3 0 0,1 3,0Z\" style=\"opacity: 1; stroke-width: 0px; fill: rgb(99, 110, 250); fill-opacity: 1;\"/><path class=\"point\" transform=\"translate(248.06,338.25)\" d=\"M3,0A3,3 0 1,1 0,-3A3,3 0 0,1 3,0Z\" style=\"opacity: 1; stroke-width: 0px; fill: rgb(99, 110, 250); fill-opacity: 1;\"/><path class=\"point\" transform=\"translate(248.73,338.25)\" d=\"M3,0A3,3 0 1,1 0,-3A3,3 0 0,1 3,0Z\" style=\"opacity: 1; stroke-width: 0px; fill: rgb(99, 110, 250); fill-opacity: 1;\"/><path class=\"point\" transform=\"translate(249.41,338.25)\" d=\"M3,0A3,3 0 1,1 0,-3A3,3 0 0,1 3,0Z\" style=\"opacity: 1; stroke-width: 0px; fill: rgb(99, 110, 250); fill-opacity: 1;\"/><path class=\"point\" transform=\"translate(250.09,338.25)\" d=\"M3,0A3,3 0 1,1 0,-3A3,3 0 0,1 3,0Z\" style=\"opacity: 1; stroke-width: 0px; fill: rgb(99, 110, 250); fill-opacity: 1;\"/><path class=\"point\" transform=\"translate(250.77,338.25)\" d=\"M3,0A3,3 0 1,1 0,-3A3,3 0 0,1 3,0Z\" style=\"opacity: 1; stroke-width: 0px; fill: rgb(99, 110, 250); fill-opacity: 1;\"/><path class=\"point\" transform=\"translate(251.44,338.25)\" d=\"M3,0A3,3 0 1,1 0,-3A3,3 0 0,1 3,0Z\" style=\"opacity: 1; stroke-width: 0px; fill: rgb(99, 110, 250); fill-opacity: 1;\"/><path class=\"point\" transform=\"translate(252.12,338.25)\" d=\"M3,0A3,3 0 1,1 0,-3A3,3 0 0,1 3,0Z\" style=\"opacity: 1; stroke-width: 0px; fill: rgb(99, 110, 250); fill-opacity: 1;\"/><path class=\"point\" transform=\"translate(252.8,338.25)\" d=\"M3,0A3,3 0 1,1 0,-3A3,3 0 0,1 3,0Z\" style=\"opacity: 1; stroke-width: 0px; fill: rgb(99, 110, 250); fill-opacity: 1;\"/><path class=\"point\" transform=\"translate(253.48,338.25)\" d=\"M3,0A3,3 0 1,1 0,-3A3,3 0 0,1 3,0Z\" style=\"opacity: 1; stroke-width: 0px; fill: rgb(99, 110, 250); fill-opacity: 1;\"/><path class=\"point\" transform=\"translate(254.15,338.25)\" d=\"M3,0A3,3 0 1,1 0,-3A3,3 0 0,1 3,0Z\" style=\"opacity: 1; stroke-width: 0px; fill: rgb(99, 110, 250); fill-opacity: 1;\"/><path class=\"point\" transform=\"translate(254.83,338.25)\" d=\"M3,0A3,3 0 1,1 0,-3A3,3 0 0,1 3,0Z\" style=\"opacity: 1; stroke-width: 0px; fill: rgb(99, 110, 250); fill-opacity: 1;\"/><path class=\"point\" transform=\"translate(255.51,338.25)\" d=\"M3,0A3,3 0 1,1 0,-3A3,3 0 0,1 3,0Z\" style=\"opacity: 1; stroke-width: 0px; fill: rgb(99, 110, 250); fill-opacity: 1;\"/><path class=\"point\" transform=\"translate(256.19,338.25)\" d=\"M3,0A3,3 0 1,1 0,-3A3,3 0 0,1 3,0Z\" style=\"opacity: 1; stroke-width: 0px; fill: rgb(99, 110, 250); fill-opacity: 1;\"/><path class=\"point\" transform=\"translate(256.86,338.25)\" d=\"M3,0A3,3 0 1,1 0,-3A3,3 0 0,1 3,0Z\" style=\"opacity: 1; stroke-width: 0px; fill: rgb(99, 110, 250); fill-opacity: 1;\"/><path class=\"point\" transform=\"translate(257.54,338.25)\" d=\"M3,0A3,3 0 1,1 0,-3A3,3 0 0,1 3,0Z\" style=\"opacity: 1; stroke-width: 0px; fill: rgb(99, 110, 250); fill-opacity: 1;\"/><path class=\"point\" transform=\"translate(258.22,338.25)\" d=\"M3,0A3,3 0 1,1 0,-3A3,3 0 0,1 3,0Z\" style=\"opacity: 1; stroke-width: 0px; fill: rgb(99, 110, 250); fill-opacity: 1;\"/><path class=\"point\" transform=\"translate(258.9,338.25)\" d=\"M3,0A3,3 0 1,1 0,-3A3,3 0 0,1 3,0Z\" style=\"opacity: 1; stroke-width: 0px; fill: rgb(99, 110, 250); fill-opacity: 1;\"/><path class=\"point\" transform=\"translate(259.57,180)\" d=\"M3,0A3,3 0 1,1 0,-3A3,3 0 0,1 3,0Z\" style=\"opacity: 1; stroke-width: 0px; fill: rgb(99, 110, 250); fill-opacity: 1;\"/><path class=\"point\" transform=\"translate(260.25,338.25)\" d=\"M3,0A3,3 0 1,1 0,-3A3,3 0 0,1 3,0Z\" style=\"opacity: 1; stroke-width: 0px; fill: rgb(99, 110, 250); fill-opacity: 1;\"/><path class=\"point\" transform=\"translate(260.93,338.25)\" d=\"M3,0A3,3 0 1,1 0,-3A3,3 0 0,1 3,0Z\" style=\"opacity: 1; stroke-width: 0px; fill: rgb(99, 110, 250); fill-opacity: 1;\"/><path class=\"point\" transform=\"translate(261.6,338.25)\" d=\"M3,0A3,3 0 1,1 0,-3A3,3 0 0,1 3,0Z\" style=\"opacity: 1; stroke-width: 0px; fill: rgb(99, 110, 250); fill-opacity: 1;\"/><path class=\"point\" transform=\"translate(262.28,338.25)\" d=\"M3,0A3,3 0 1,1 0,-3A3,3 0 0,1 3,0Z\" style=\"opacity: 1; stroke-width: 0px; fill: rgb(99, 110, 250); fill-opacity: 1;\"/><path class=\"point\" transform=\"translate(262.96,338.25)\" d=\"M3,0A3,3 0 1,1 0,-3A3,3 0 0,1 3,0Z\" style=\"opacity: 1; stroke-width: 0px; fill: rgb(99, 110, 250); fill-opacity: 1;\"/><path class=\"point\" transform=\"translate(263.64,338.25)\" d=\"M3,0A3,3 0 1,1 0,-3A3,3 0 0,1 3,0Z\" style=\"opacity: 1; stroke-width: 0px; fill: rgb(99, 110, 250); fill-opacity: 1;\"/><path class=\"point\" transform=\"translate(264.31,338.25)\" d=\"M3,0A3,3 0 1,1 0,-3A3,3 0 0,1 3,0Z\" style=\"opacity: 1; stroke-width: 0px; fill: rgb(99, 110, 250); fill-opacity: 1;\"/><path class=\"point\" transform=\"translate(264.99,338.25)\" d=\"M3,0A3,3 0 1,1 0,-3A3,3 0 0,1 3,0Z\" style=\"opacity: 1; stroke-width: 0px; fill: rgb(99, 110, 250); fill-opacity: 1;\"/><path class=\"point\" transform=\"translate(265.67,338.25)\" d=\"M3,0A3,3 0 1,1 0,-3A3,3 0 0,1 3,0Z\" style=\"opacity: 1; stroke-width: 0px; fill: rgb(99, 110, 250); fill-opacity: 1;\"/><path class=\"point\" transform=\"translate(266.35,338.25)\" d=\"M3,0A3,3 0 1,1 0,-3A3,3 0 0,1 3,0Z\" style=\"opacity: 1; stroke-width: 0px; fill: rgb(99, 110, 250); fill-opacity: 1;\"/><path class=\"point\" transform=\"translate(267.02,338.25)\" d=\"M3,0A3,3 0 1,1 0,-3A3,3 0 0,1 3,0Z\" style=\"opacity: 1; stroke-width: 0px; fill: rgb(99, 110, 250); fill-opacity: 1;\"/><path class=\"point\" transform=\"translate(267.7,338.25)\" d=\"M3,0A3,3 0 1,1 0,-3A3,3 0 0,1 3,0Z\" style=\"opacity: 1; stroke-width: 0px; fill: rgb(99, 110, 250); fill-opacity: 1;\"/><path class=\"point\" transform=\"translate(268.38,338.25)\" d=\"M3,0A3,3 0 1,1 0,-3A3,3 0 0,1 3,0Z\" style=\"opacity: 1; stroke-width: 0px; fill: rgb(99, 110, 250); fill-opacity: 1;\"/><path class=\"point\" transform=\"translate(269.06,338.25)\" d=\"M3,0A3,3 0 1,1 0,-3A3,3 0 0,1 3,0Z\" style=\"opacity: 1; stroke-width: 0px; fill: rgb(99, 110, 250); fill-opacity: 1;\"/><path class=\"point\" transform=\"translate(269.73,338.25)\" d=\"M3,0A3,3 0 1,1 0,-3A3,3 0 0,1 3,0Z\" style=\"opacity: 1; stroke-width: 0px; fill: rgb(99, 110, 250); fill-opacity: 1;\"/><path class=\"point\" transform=\"translate(270.41,338.25)\" d=\"M3,0A3,3 0 1,1 0,-3A3,3 0 0,1 3,0Z\" style=\"opacity: 1; stroke-width: 0px; fill: rgb(99, 110, 250); fill-opacity: 1;\"/><path class=\"point\" transform=\"translate(271.09,338.25)\" d=\"M3,0A3,3 0 1,1 0,-3A3,3 0 0,1 3,0Z\" style=\"opacity: 1; stroke-width: 0px; fill: rgb(99, 110, 250); fill-opacity: 1;\"/><path class=\"point\" transform=\"translate(271.77,338.25)\" d=\"M3,0A3,3 0 1,1 0,-3A3,3 0 0,1 3,0Z\" style=\"opacity: 1; stroke-width: 0px; fill: rgb(99, 110, 250); fill-opacity: 1;\"/><path class=\"point\" transform=\"translate(272.44,338.25)\" d=\"M3,0A3,3 0 1,1 0,-3A3,3 0 0,1 3,0Z\" style=\"opacity: 1; stroke-width: 0px; fill: rgb(99, 110, 250); fill-opacity: 1;\"/><path class=\"point\" transform=\"translate(273.12,338.25)\" d=\"M3,0A3,3 0 1,1 0,-3A3,3 0 0,1 3,0Z\" style=\"opacity: 1; stroke-width: 0px; fill: rgb(99, 110, 250); fill-opacity: 1;\"/><path class=\"point\" transform=\"translate(273.8,338.25)\" d=\"M3,0A3,3 0 1,1 0,-3A3,3 0 0,1 3,0Z\" style=\"opacity: 1; stroke-width: 0px; fill: rgb(99, 110, 250); fill-opacity: 1;\"/><path class=\"point\" transform=\"translate(274.48,338.25)\" d=\"M3,0A3,3 0 1,1 0,-3A3,3 0 0,1 3,0Z\" style=\"opacity: 1; stroke-width: 0px; fill: rgb(99, 110, 250); fill-opacity: 1;\"/><path class=\"point\" transform=\"translate(275.15,338.25)\" d=\"M3,0A3,3 0 1,1 0,-3A3,3 0 0,1 3,0Z\" style=\"opacity: 1; stroke-width: 0px; fill: rgb(99, 110, 250); fill-opacity: 1;\"/><path class=\"point\" transform=\"translate(275.83,338.25)\" d=\"M3,0A3,3 0 1,1 0,-3A3,3 0 0,1 3,0Z\" style=\"opacity: 1; stroke-width: 0px; fill: rgb(99, 110, 250); fill-opacity: 1;\"/><path class=\"point\" transform=\"translate(276.51,338.25)\" d=\"M3,0A3,3 0 1,1 0,-3A3,3 0 0,1 3,0Z\" style=\"opacity: 1; stroke-width: 0px; fill: rgb(99, 110, 250); fill-opacity: 1;\"/><path class=\"point\" transform=\"translate(277.19,338.25)\" d=\"M3,0A3,3 0 1,1 0,-3A3,3 0 0,1 3,0Z\" style=\"opacity: 1; stroke-width: 0px; fill: rgb(99, 110, 250); fill-opacity: 1;\"/><path class=\"point\" transform=\"translate(277.86,338.25)\" d=\"M3,0A3,3 0 1,1 0,-3A3,3 0 0,1 3,0Z\" style=\"opacity: 1; stroke-width: 0px; fill: rgb(99, 110, 250); fill-opacity: 1;\"/><path class=\"point\" transform=\"translate(278.54,338.25)\" d=\"M3,0A3,3 0 1,1 0,-3A3,3 0 0,1 3,0Z\" style=\"opacity: 1; stroke-width: 0px; fill: rgb(99, 110, 250); fill-opacity: 1;\"/><path class=\"point\" transform=\"translate(279.22,338.25)\" d=\"M3,0A3,3 0 1,1 0,-3A3,3 0 0,1 3,0Z\" style=\"opacity: 1; stroke-width: 0px; fill: rgb(99, 110, 250); fill-opacity: 1;\"/><path class=\"point\" transform=\"translate(279.9,338.25)\" d=\"M3,0A3,3 0 1,1 0,-3A3,3 0 0,1 3,0Z\" style=\"opacity: 1; stroke-width: 0px; fill: rgb(99, 110, 250); fill-opacity: 1;\"/><path class=\"point\" transform=\"translate(280.57,338.25)\" d=\"M3,0A3,3 0 1,1 0,-3A3,3 0 0,1 3,0Z\" style=\"opacity: 1; stroke-width: 0px; fill: rgb(99, 110, 250); fill-opacity: 1;\"/><path class=\"point\" transform=\"translate(281.25,338.25)\" d=\"M3,0A3,3 0 1,1 0,-3A3,3 0 0,1 3,0Z\" style=\"opacity: 1; stroke-width: 0px; fill: rgb(99, 110, 250); fill-opacity: 1;\"/><path class=\"point\" transform=\"translate(281.93,338.25)\" d=\"M3,0A3,3 0 1,1 0,-3A3,3 0 0,1 3,0Z\" style=\"opacity: 1; stroke-width: 0px; fill: rgb(99, 110, 250); fill-opacity: 1;\"/><path class=\"point\" transform=\"translate(282.61,338.25)\" d=\"M3,0A3,3 0 1,1 0,-3A3,3 0 0,1 3,0Z\" style=\"opacity: 1; stroke-width: 0px; fill: rgb(99, 110, 250); fill-opacity: 1;\"/><path class=\"point\" transform=\"translate(283.28,338.25)\" d=\"M3,0A3,3 0 1,1 0,-3A3,3 0 0,1 3,0Z\" style=\"opacity: 1; stroke-width: 0px; fill: rgb(99, 110, 250); fill-opacity: 1;\"/><path class=\"point\" transform=\"translate(283.96,338.25)\" d=\"M3,0A3,3 0 1,1 0,-3A3,3 0 0,1 3,0Z\" style=\"opacity: 1; stroke-width: 0px; fill: rgb(99, 110, 250); fill-opacity: 1;\"/><path class=\"point\" transform=\"translate(284.64,338.25)\" d=\"M3,0A3,3 0 1,1 0,-3A3,3 0 0,1 3,0Z\" style=\"opacity: 1; stroke-width: 0px; fill: rgb(99, 110, 250); fill-opacity: 1;\"/><path class=\"point\" transform=\"translate(285.32,338.25)\" d=\"M3,0A3,3 0 1,1 0,-3A3,3 0 0,1 3,0Z\" style=\"opacity: 1; stroke-width: 0px; fill: rgb(99, 110, 250); fill-opacity: 1;\"/><path class=\"point\" transform=\"translate(285.99,338.25)\" d=\"M3,0A3,3 0 1,1 0,-3A3,3 0 0,1 3,0Z\" style=\"opacity: 1; stroke-width: 0px; fill: rgb(99, 110, 250); fill-opacity: 1;\"/><path class=\"point\" transform=\"translate(286.67,338.25)\" d=\"M3,0A3,3 0 1,1 0,-3A3,3 0 0,1 3,0Z\" style=\"opacity: 1; stroke-width: 0px; fill: rgb(99, 110, 250); fill-opacity: 1;\"/><path class=\"point\" transform=\"translate(287.35,338.25)\" d=\"M3,0A3,3 0 1,1 0,-3A3,3 0 0,1 3,0Z\" style=\"opacity: 1; stroke-width: 0px; fill: rgb(99, 110, 250); fill-opacity: 1;\"/><path class=\"point\" transform=\"translate(288.03,338.25)\" d=\"M3,0A3,3 0 1,1 0,-3A3,3 0 0,1 3,0Z\" style=\"opacity: 1; stroke-width: 0px; fill: rgb(99, 110, 250); fill-opacity: 1;\"/><path class=\"point\" transform=\"translate(288.7,338.25)\" d=\"M3,0A3,3 0 1,1 0,-3A3,3 0 0,1 3,0Z\" style=\"opacity: 1; stroke-width: 0px; fill: rgb(99, 110, 250); fill-opacity: 1;\"/><path class=\"point\" transform=\"translate(289.38,338.25)\" d=\"M3,0A3,3 0 1,1 0,-3A3,3 0 0,1 3,0Z\" style=\"opacity: 1; stroke-width: 0px; fill: rgb(99, 110, 250); fill-opacity: 1;\"/><path class=\"point\" transform=\"translate(290.06,338.25)\" d=\"M3,0A3,3 0 1,1 0,-3A3,3 0 0,1 3,0Z\" style=\"opacity: 1; stroke-width: 0px; fill: rgb(99, 110, 250); fill-opacity: 1;\"/><path class=\"point\" transform=\"translate(290.74,338.25)\" d=\"M3,0A3,3 0 1,1 0,-3A3,3 0 0,1 3,0Z\" style=\"opacity: 1; stroke-width: 0px; fill: rgb(99, 110, 250); fill-opacity: 1;\"/><path class=\"point\" transform=\"translate(291.41,338.25)\" d=\"M3,0A3,3 0 1,1 0,-3A3,3 0 0,1 3,0Z\" style=\"opacity: 1; stroke-width: 0px; fill: rgb(99, 110, 250); fill-opacity: 1;\"/><path class=\"point\" transform=\"translate(292.09,338.25)\" d=\"M3,0A3,3 0 1,1 0,-3A3,3 0 0,1 3,0Z\" style=\"opacity: 1; stroke-width: 0px; fill: rgb(99, 110, 250); fill-opacity: 1;\"/><path class=\"point\" transform=\"translate(292.77,338.25)\" d=\"M3,0A3,3 0 1,1 0,-3A3,3 0 0,1 3,0Z\" style=\"opacity: 1; stroke-width: 0px; fill: rgb(99, 110, 250); fill-opacity: 1;\"/><path class=\"point\" transform=\"translate(293.45,338.25)\" d=\"M3,0A3,3 0 1,1 0,-3A3,3 0 0,1 3,0Z\" style=\"opacity: 1; stroke-width: 0px; fill: rgb(99, 110, 250); fill-opacity: 1;\"/><path class=\"point\" transform=\"translate(294.12,338.25)\" d=\"M3,0A3,3 0 1,1 0,-3A3,3 0 0,1 3,0Z\" style=\"opacity: 1; stroke-width: 0px; fill: rgb(99, 110, 250); fill-opacity: 1;\"/><path class=\"point\" transform=\"translate(294.8,180)\" d=\"M3,0A3,3 0 1,1 0,-3A3,3 0 0,1 3,0Z\" style=\"opacity: 1; stroke-width: 0px; fill: rgb(99, 110, 250); fill-opacity: 1;\"/><path class=\"point\" transform=\"translate(295.48,338.25)\" d=\"M3,0A3,3 0 1,1 0,-3A3,3 0 0,1 3,0Z\" style=\"opacity: 1; stroke-width: 0px; fill: rgb(99, 110, 250); fill-opacity: 1;\"/><path class=\"point\" transform=\"translate(296.16,338.25)\" d=\"M3,0A3,3 0 1,1 0,-3A3,3 0 0,1 3,0Z\" style=\"opacity: 1; stroke-width: 0px; fill: rgb(99, 110, 250); fill-opacity: 1;\"/><path class=\"point\" transform=\"translate(296.83,338.25)\" d=\"M3,0A3,3 0 1,1 0,-3A3,3 0 0,1 3,0Z\" style=\"opacity: 1; stroke-width: 0px; fill: rgb(99, 110, 250); fill-opacity: 1;\"/><path class=\"point\" transform=\"translate(297.51,338.25)\" d=\"M3,0A3,3 0 1,1 0,-3A3,3 0 0,1 3,0Z\" style=\"opacity: 1; stroke-width: 0px; fill: rgb(99, 110, 250); fill-opacity: 1;\"/><path class=\"point\" transform=\"translate(298.19,180)\" d=\"M3,0A3,3 0 1,1 0,-3A3,3 0 0,1 3,0Z\" style=\"opacity: 1; stroke-width: 0px; fill: rgb(99, 110, 250); fill-opacity: 1;\"/><path class=\"point\" transform=\"translate(298.87,338.25)\" d=\"M3,0A3,3 0 1,1 0,-3A3,3 0 0,1 3,0Z\" style=\"opacity: 1; stroke-width: 0px; fill: rgb(99, 110, 250); fill-opacity: 1;\"/><path class=\"point\" transform=\"translate(299.54,338.25)\" d=\"M3,0A3,3 0 1,1 0,-3A3,3 0 0,1 3,0Z\" style=\"opacity: 1; stroke-width: 0px; fill: rgb(99, 110, 250); fill-opacity: 1;\"/><path class=\"point\" transform=\"translate(300.22,338.25)\" d=\"M3,0A3,3 0 1,1 0,-3A3,3 0 0,1 3,0Z\" style=\"opacity: 1; stroke-width: 0px; fill: rgb(99, 110, 250); fill-opacity: 1;\"/><path class=\"point\" transform=\"translate(300.9,338.25)\" d=\"M3,0A3,3 0 1,1 0,-3A3,3 0 0,1 3,0Z\" style=\"opacity: 1; stroke-width: 0px; fill: rgb(99, 110, 250); fill-opacity: 1;\"/><path class=\"point\" transform=\"translate(301.58,338.25)\" d=\"M3,0A3,3 0 1,1 0,-3A3,3 0 0,1 3,0Z\" style=\"opacity: 1; stroke-width: 0px; fill: rgb(99, 110, 250); fill-opacity: 1;\"/><path class=\"point\" transform=\"translate(302.25,338.25)\" d=\"M3,0A3,3 0 1,1 0,-3A3,3 0 0,1 3,0Z\" style=\"opacity: 1; stroke-width: 0px; fill: rgb(99, 110, 250); fill-opacity: 1;\"/><path class=\"point\" transform=\"translate(302.93,338.25)\" d=\"M3,0A3,3 0 1,1 0,-3A3,3 0 0,1 3,0Z\" style=\"opacity: 1; stroke-width: 0px; fill: rgb(99, 110, 250); fill-opacity: 1;\"/><path class=\"point\" transform=\"translate(303.61,338.25)\" d=\"M3,0A3,3 0 1,1 0,-3A3,3 0 0,1 3,0Z\" style=\"opacity: 1; stroke-width: 0px; fill: rgb(99, 110, 250); fill-opacity: 1;\"/><path class=\"point\" transform=\"translate(304.29,338.25)\" d=\"M3,0A3,3 0 1,1 0,-3A3,3 0 0,1 3,0Z\" style=\"opacity: 1; stroke-width: 0px; fill: rgb(99, 110, 250); fill-opacity: 1;\"/><path class=\"point\" transform=\"translate(304.96,338.25)\" d=\"M3,0A3,3 0 1,1 0,-3A3,3 0 0,1 3,0Z\" style=\"opacity: 1; stroke-width: 0px; fill: rgb(99, 110, 250); fill-opacity: 1;\"/><path class=\"point\" transform=\"translate(305.64,338.25)\" d=\"M3,0A3,3 0 1,1 0,-3A3,3 0 0,1 3,0Z\" style=\"opacity: 1; stroke-width: 0px; fill: rgb(99, 110, 250); fill-opacity: 1;\"/><path class=\"point\" transform=\"translate(306.32,338.25)\" d=\"M3,0A3,3 0 1,1 0,-3A3,3 0 0,1 3,0Z\" style=\"opacity: 1; stroke-width: 0px; fill: rgb(99, 110, 250); fill-opacity: 1;\"/><path class=\"point\" transform=\"translate(307,338.25)\" d=\"M3,0A3,3 0 1,1 0,-3A3,3 0 0,1 3,0Z\" style=\"opacity: 1; stroke-width: 0px; fill: rgb(99, 110, 250); fill-opacity: 1;\"/><path class=\"point\" transform=\"translate(307.67,338.25)\" d=\"M3,0A3,3 0 1,1 0,-3A3,3 0 0,1 3,0Z\" style=\"opacity: 1; stroke-width: 0px; fill: rgb(99, 110, 250); fill-opacity: 1;\"/><path class=\"point\" transform=\"translate(308.35,338.25)\" d=\"M3,0A3,3 0 1,1 0,-3A3,3 0 0,1 3,0Z\" style=\"opacity: 1; stroke-width: 0px; fill: rgb(99, 110, 250); fill-opacity: 1;\"/><path class=\"point\" transform=\"translate(309.03,338.25)\" d=\"M3,0A3,3 0 1,1 0,-3A3,3 0 0,1 3,0Z\" style=\"opacity: 1; stroke-width: 0px; fill: rgb(99, 110, 250); fill-opacity: 1;\"/><path class=\"point\" transform=\"translate(309.71,338.25)\" d=\"M3,0A3,3 0 1,1 0,-3A3,3 0 0,1 3,0Z\" style=\"opacity: 1; stroke-width: 0px; fill: rgb(99, 110, 250); fill-opacity: 1;\"/><path class=\"point\" transform=\"translate(310.38,338.25)\" d=\"M3,0A3,3 0 1,1 0,-3A3,3 0 0,1 3,0Z\" style=\"opacity: 1; stroke-width: 0px; fill: rgb(99, 110, 250); fill-opacity: 1;\"/><path class=\"point\" transform=\"translate(311.06,338.25)\" d=\"M3,0A3,3 0 1,1 0,-3A3,3 0 0,1 3,0Z\" style=\"opacity: 1; stroke-width: 0px; fill: rgb(99, 110, 250); fill-opacity: 1;\"/><path class=\"point\" transform=\"translate(311.74,338.25)\" d=\"M3,0A3,3 0 1,1 0,-3A3,3 0 0,1 3,0Z\" style=\"opacity: 1; stroke-width: 0px; fill: rgb(99, 110, 250); fill-opacity: 1;\"/><path class=\"point\" transform=\"translate(312.42,338.25)\" d=\"M3,0A3,3 0 1,1 0,-3A3,3 0 0,1 3,0Z\" style=\"opacity: 1; stroke-width: 0px; fill: rgb(99, 110, 250); fill-opacity: 1;\"/><path class=\"point\" transform=\"translate(313.09,338.25)\" d=\"M3,0A3,3 0 1,1 0,-3A3,3 0 0,1 3,0Z\" style=\"opacity: 1; stroke-width: 0px; fill: rgb(99, 110, 250); fill-opacity: 1;\"/><path class=\"point\" transform=\"translate(313.77,338.25)\" d=\"M3,0A3,3 0 1,1 0,-3A3,3 0 0,1 3,0Z\" style=\"opacity: 1; stroke-width: 0px; fill: rgb(99, 110, 250); fill-opacity: 1;\"/><path class=\"point\" transform=\"translate(314.45,338.25)\" d=\"M3,0A3,3 0 1,1 0,-3A3,3 0 0,1 3,0Z\" style=\"opacity: 1; stroke-width: 0px; fill: rgb(99, 110, 250); fill-opacity: 1;\"/><path class=\"point\" transform=\"translate(315.13,338.25)\" d=\"M3,0A3,3 0 1,1 0,-3A3,3 0 0,1 3,0Z\" style=\"opacity: 1; stroke-width: 0px; fill: rgb(99, 110, 250); fill-opacity: 1;\"/><path class=\"point\" transform=\"translate(315.8,338.25)\" d=\"M3,0A3,3 0 1,1 0,-3A3,3 0 0,1 3,0Z\" style=\"opacity: 1; stroke-width: 0px; fill: rgb(99, 110, 250); fill-opacity: 1;\"/><path class=\"point\" transform=\"translate(316.48,180)\" d=\"M3,0A3,3 0 1,1 0,-3A3,3 0 0,1 3,0Z\" style=\"opacity: 1; stroke-width: 0px; fill: rgb(99, 110, 250); fill-opacity: 1;\"/><path class=\"point\" transform=\"translate(317.16,338.25)\" d=\"M3,0A3,3 0 1,1 0,-3A3,3 0 0,1 3,0Z\" style=\"opacity: 1; stroke-width: 0px; fill: rgb(99, 110, 250); fill-opacity: 1;\"/><path class=\"point\" transform=\"translate(317.83,338.25)\" d=\"M3,0A3,3 0 1,1 0,-3A3,3 0 0,1 3,0Z\" style=\"opacity: 1; stroke-width: 0px; fill: rgb(99, 110, 250); fill-opacity: 1;\"/><path class=\"point\" transform=\"translate(318.51,338.25)\" d=\"M3,0A3,3 0 1,1 0,-3A3,3 0 0,1 3,0Z\" style=\"opacity: 1; stroke-width: 0px; fill: rgb(99, 110, 250); fill-opacity: 1;\"/><path class=\"point\" transform=\"translate(319.19,338.25)\" d=\"M3,0A3,3 0 1,1 0,-3A3,3 0 0,1 3,0Z\" style=\"opacity: 1; stroke-width: 0px; fill: rgb(99, 110, 250); fill-opacity: 1;\"/><path class=\"point\" transform=\"translate(319.87,338.25)\" d=\"M3,0A3,3 0 1,1 0,-3A3,3 0 0,1 3,0Z\" style=\"opacity: 1; stroke-width: 0px; fill: rgb(99, 110, 250); fill-opacity: 1;\"/><path class=\"point\" transform=\"translate(320.54,338.25)\" d=\"M3,0A3,3 0 1,1 0,-3A3,3 0 0,1 3,0Z\" style=\"opacity: 1; stroke-width: 0px; fill: rgb(99, 110, 250); fill-opacity: 1;\"/><path class=\"point\" transform=\"translate(321.22,338.25)\" d=\"M3,0A3,3 0 1,1 0,-3A3,3 0 0,1 3,0Z\" style=\"opacity: 1; stroke-width: 0px; fill: rgb(99, 110, 250); fill-opacity: 1;\"/><path class=\"point\" transform=\"translate(321.9,338.25)\" d=\"M3,0A3,3 0 1,1 0,-3A3,3 0 0,1 3,0Z\" style=\"opacity: 1; stroke-width: 0px; fill: rgb(99, 110, 250); fill-opacity: 1;\"/><path class=\"point\" transform=\"translate(322.58,338.25)\" d=\"M3,0A3,3 0 1,1 0,-3A3,3 0 0,1 3,0Z\" style=\"opacity: 1; stroke-width: 0px; fill: rgb(99, 110, 250); fill-opacity: 1;\"/><path class=\"point\" transform=\"translate(323.25,338.25)\" d=\"M3,0A3,3 0 1,1 0,-3A3,3 0 0,1 3,0Z\" style=\"opacity: 1; stroke-width: 0px; fill: rgb(99, 110, 250); fill-opacity: 1;\"/><path class=\"point\" transform=\"translate(323.93,338.25)\" d=\"M3,0A3,3 0 1,1 0,-3A3,3 0 0,1 3,0Z\" style=\"opacity: 1; stroke-width: 0px; fill: rgb(99, 110, 250); fill-opacity: 1;\"/><path class=\"point\" transform=\"translate(324.61,338.25)\" d=\"M3,0A3,3 0 1,1 0,-3A3,3 0 0,1 3,0Z\" style=\"opacity: 1; stroke-width: 0px; fill: rgb(99, 110, 250); fill-opacity: 1;\"/><path class=\"point\" transform=\"translate(325.29,338.25)\" d=\"M3,0A3,3 0 1,1 0,-3A3,3 0 0,1 3,0Z\" style=\"opacity: 1; stroke-width: 0px; fill: rgb(99, 110, 250); fill-opacity: 1;\"/><path class=\"point\" transform=\"translate(325.96,338.25)\" d=\"M3,0A3,3 0 1,1 0,-3A3,3 0 0,1 3,0Z\" style=\"opacity: 1; stroke-width: 0px; fill: rgb(99, 110, 250); fill-opacity: 1;\"/><path class=\"point\" transform=\"translate(326.64,338.25)\" d=\"M3,0A3,3 0 1,1 0,-3A3,3 0 0,1 3,0Z\" style=\"opacity: 1; stroke-width: 0px; fill: rgb(99, 110, 250); fill-opacity: 1;\"/><path class=\"point\" transform=\"translate(327.32,338.25)\" d=\"M3,0A3,3 0 1,1 0,-3A3,3 0 0,1 3,0Z\" style=\"opacity: 1; stroke-width: 0px; fill: rgb(99, 110, 250); fill-opacity: 1;\"/><path class=\"point\" transform=\"translate(328,338.25)\" d=\"M3,0A3,3 0 1,1 0,-3A3,3 0 0,1 3,0Z\" style=\"opacity: 1; stroke-width: 0px; fill: rgb(99, 110, 250); fill-opacity: 1;\"/><path class=\"point\" transform=\"translate(328.67,338.25)\" d=\"M3,0A3,3 0 1,1 0,-3A3,3 0 0,1 3,0Z\" style=\"opacity: 1; stroke-width: 0px; fill: rgb(99, 110, 250); fill-opacity: 1;\"/><path class=\"point\" transform=\"translate(329.35,338.25)\" d=\"M3,0A3,3 0 1,1 0,-3A3,3 0 0,1 3,0Z\" style=\"opacity: 1; stroke-width: 0px; fill: rgb(99, 110, 250); fill-opacity: 1;\"/><path class=\"point\" transform=\"translate(330.03,338.25)\" d=\"M3,0A3,3 0 1,1 0,-3A3,3 0 0,1 3,0Z\" style=\"opacity: 1; stroke-width: 0px; fill: rgb(99, 110, 250); fill-opacity: 1;\"/><path class=\"point\" transform=\"translate(330.71,338.25)\" d=\"M3,0A3,3 0 1,1 0,-3A3,3 0 0,1 3,0Z\" style=\"opacity: 1; stroke-width: 0px; fill: rgb(99, 110, 250); fill-opacity: 1;\"/><path class=\"point\" transform=\"translate(331.38,338.25)\" d=\"M3,0A3,3 0 1,1 0,-3A3,3 0 0,1 3,0Z\" style=\"opacity: 1; stroke-width: 0px; fill: rgb(99, 110, 250); fill-opacity: 1;\"/><path class=\"point\" transform=\"translate(332.06,338.25)\" d=\"M3,0A3,3 0 1,1 0,-3A3,3 0 0,1 3,0Z\" style=\"opacity: 1; stroke-width: 0px; fill: rgb(99, 110, 250); fill-opacity: 1;\"/><path class=\"point\" transform=\"translate(332.74,338.25)\" d=\"M3,0A3,3 0 1,1 0,-3A3,3 0 0,1 3,0Z\" style=\"opacity: 1; stroke-width: 0px; fill: rgb(99, 110, 250); fill-opacity: 1;\"/><path class=\"point\" transform=\"translate(333.42,338.25)\" d=\"M3,0A3,3 0 1,1 0,-3A3,3 0 0,1 3,0Z\" style=\"opacity: 1; stroke-width: 0px; fill: rgb(99, 110, 250); fill-opacity: 1;\"/><path class=\"point\" transform=\"translate(334.09,338.25)\" d=\"M3,0A3,3 0 1,1 0,-3A3,3 0 0,1 3,0Z\" style=\"opacity: 1; stroke-width: 0px; fill: rgb(99, 110, 250); fill-opacity: 1;\"/><path class=\"point\" transform=\"translate(334.77,338.25)\" d=\"M3,0A3,3 0 1,1 0,-3A3,3 0 0,1 3,0Z\" style=\"opacity: 1; stroke-width: 0px; fill: rgb(99, 110, 250); fill-opacity: 1;\"/><path class=\"point\" transform=\"translate(335.45,338.25)\" d=\"M3,0A3,3 0 1,1 0,-3A3,3 0 0,1 3,0Z\" style=\"opacity: 1; stroke-width: 0px; fill: rgb(99, 110, 250); fill-opacity: 1;\"/><path class=\"point\" transform=\"translate(336.13,338.25)\" d=\"M3,0A3,3 0 1,1 0,-3A3,3 0 0,1 3,0Z\" style=\"opacity: 1; stroke-width: 0px; fill: rgb(99, 110, 250); fill-opacity: 1;\"/><path class=\"point\" transform=\"translate(336.8,338.25)\" d=\"M3,0A3,3 0 1,1 0,-3A3,3 0 0,1 3,0Z\" style=\"opacity: 1; stroke-width: 0px; fill: rgb(99, 110, 250); fill-opacity: 1;\"/><path class=\"point\" transform=\"translate(337.48,338.25)\" d=\"M3,0A3,3 0 1,1 0,-3A3,3 0 0,1 3,0Z\" style=\"opacity: 1; stroke-width: 0px; fill: rgb(99, 110, 250); fill-opacity: 1;\"/><path class=\"point\" transform=\"translate(338.16,338.25)\" d=\"M3,0A3,3 0 1,1 0,-3A3,3 0 0,1 3,0Z\" style=\"opacity: 1; stroke-width: 0px; fill: rgb(99, 110, 250); fill-opacity: 1;\"/><path class=\"point\" transform=\"translate(338.84,338.25)\" d=\"M3,0A3,3 0 1,1 0,-3A3,3 0 0,1 3,0Z\" style=\"opacity: 1; stroke-width: 0px; fill: rgb(99, 110, 250); fill-opacity: 1;\"/><path class=\"point\" transform=\"translate(339.51,338.25)\" d=\"M3,0A3,3 0 1,1 0,-3A3,3 0 0,1 3,0Z\" style=\"opacity: 1; stroke-width: 0px; fill: rgb(99, 110, 250); fill-opacity: 1;\"/><path class=\"point\" transform=\"translate(340.19,338.25)\" d=\"M3,0A3,3 0 1,1 0,-3A3,3 0 0,1 3,0Z\" style=\"opacity: 1; stroke-width: 0px; fill: rgb(99, 110, 250); fill-opacity: 1;\"/><path class=\"point\" transform=\"translate(340.87,338.25)\" d=\"M3,0A3,3 0 1,1 0,-3A3,3 0 0,1 3,0Z\" style=\"opacity: 1; stroke-width: 0px; fill: rgb(99, 110, 250); fill-opacity: 1;\"/><path class=\"point\" transform=\"translate(341.55,338.25)\" d=\"M3,0A3,3 0 1,1 0,-3A3,3 0 0,1 3,0Z\" style=\"opacity: 1; stroke-width: 0px; fill: rgb(99, 110, 250); fill-opacity: 1;\"/><path class=\"point\" transform=\"translate(342.22,338.25)\" d=\"M3,0A3,3 0 1,1 0,-3A3,3 0 0,1 3,0Z\" style=\"opacity: 1; stroke-width: 0px; fill: rgb(99, 110, 250); fill-opacity: 1;\"/><path class=\"point\" transform=\"translate(342.9,338.25)\" d=\"M3,0A3,3 0 1,1 0,-3A3,3 0 0,1 3,0Z\" style=\"opacity: 1; stroke-width: 0px; fill: rgb(99, 110, 250); fill-opacity: 1;\"/><path class=\"point\" transform=\"translate(343.58,338.25)\" d=\"M3,0A3,3 0 1,1 0,-3A3,3 0 0,1 3,0Z\" style=\"opacity: 1; stroke-width: 0px; fill: rgb(99, 110, 250); fill-opacity: 1;\"/><path class=\"point\" transform=\"translate(344.26,338.25)\" d=\"M3,0A3,3 0 1,1 0,-3A3,3 0 0,1 3,0Z\" style=\"opacity: 1; stroke-width: 0px; fill: rgb(99, 110, 250); fill-opacity: 1;\"/><path class=\"point\" transform=\"translate(344.93,338.25)\" d=\"M3,0A3,3 0 1,1 0,-3A3,3 0 0,1 3,0Z\" style=\"opacity: 1; stroke-width: 0px; fill: rgb(99, 110, 250); fill-opacity: 1;\"/><path class=\"point\" transform=\"translate(345.61,338.25)\" d=\"M3,0A3,3 0 1,1 0,-3A3,3 0 0,1 3,0Z\" style=\"opacity: 1; stroke-width: 0px; fill: rgb(99, 110, 250); fill-opacity: 1;\"/><path class=\"point\" transform=\"translate(346.29,338.25)\" d=\"M3,0A3,3 0 1,1 0,-3A3,3 0 0,1 3,0Z\" style=\"opacity: 1; stroke-width: 0px; fill: rgb(99, 110, 250); fill-opacity: 1;\"/><path class=\"point\" transform=\"translate(346.97,180)\" d=\"M3,0A3,3 0 1,1 0,-3A3,3 0 0,1 3,0Z\" style=\"opacity: 1; stroke-width: 0px; fill: rgb(99, 110, 250); fill-opacity: 1;\"/><path class=\"point\" transform=\"translate(347.64,338.25)\" d=\"M3,0A3,3 0 1,1 0,-3A3,3 0 0,1 3,0Z\" style=\"opacity: 1; stroke-width: 0px; fill: rgb(99, 110, 250); fill-opacity: 1;\"/><path class=\"point\" transform=\"translate(348.32,338.25)\" d=\"M3,0A3,3 0 1,1 0,-3A3,3 0 0,1 3,0Z\" style=\"opacity: 1; stroke-width: 0px; fill: rgb(99, 110, 250); fill-opacity: 1;\"/><path class=\"point\" transform=\"translate(349,338.25)\" d=\"M3,0A3,3 0 1,1 0,-3A3,3 0 0,1 3,0Z\" style=\"opacity: 1; stroke-width: 0px; fill: rgb(99, 110, 250); fill-opacity: 1;\"/><path class=\"point\" transform=\"translate(349.68,338.25)\" d=\"M3,0A3,3 0 1,1 0,-3A3,3 0 0,1 3,0Z\" style=\"opacity: 1; stroke-width: 0px; fill: rgb(99, 110, 250); fill-opacity: 1;\"/><path class=\"point\" transform=\"translate(350.35,338.25)\" d=\"M3,0A3,3 0 1,1 0,-3A3,3 0 0,1 3,0Z\" style=\"opacity: 1; stroke-width: 0px; fill: rgb(99, 110, 250); fill-opacity: 1;\"/><path class=\"point\" transform=\"translate(351.03,338.25)\" d=\"M3,0A3,3 0 1,1 0,-3A3,3 0 0,1 3,0Z\" style=\"opacity: 1; stroke-width: 0px; fill: rgb(99, 110, 250); fill-opacity: 1;\"/><path class=\"point\" transform=\"translate(351.71,180)\" d=\"M3,0A3,3 0 1,1 0,-3A3,3 0 0,1 3,0Z\" style=\"opacity: 1; stroke-width: 0px; fill: rgb(99, 110, 250); fill-opacity: 1;\"/><path class=\"point\" transform=\"translate(352.39,338.25)\" d=\"M3,0A3,3 0 1,1 0,-3A3,3 0 0,1 3,0Z\" style=\"opacity: 1; stroke-width: 0px; fill: rgb(99, 110, 250); fill-opacity: 1;\"/><path class=\"point\" transform=\"translate(353.06,338.25)\" d=\"M3,0A3,3 0 1,1 0,-3A3,3 0 0,1 3,0Z\" style=\"opacity: 1; stroke-width: 0px; fill: rgb(99, 110, 250); fill-opacity: 1;\"/><path class=\"point\" transform=\"translate(353.74,338.25)\" d=\"M3,0A3,3 0 1,1 0,-3A3,3 0 0,1 3,0Z\" style=\"opacity: 1; stroke-width: 0px; fill: rgb(99, 110, 250); fill-opacity: 1;\"/><path class=\"point\" transform=\"translate(354.42,338.25)\" d=\"M3,0A3,3 0 1,1 0,-3A3,3 0 0,1 3,0Z\" style=\"opacity: 1; stroke-width: 0px; fill: rgb(99, 110, 250); fill-opacity: 1;\"/><path class=\"point\" transform=\"translate(355.1,338.25)\" d=\"M3,0A3,3 0 1,1 0,-3A3,3 0 0,1 3,0Z\" style=\"opacity: 1; stroke-width: 0px; fill: rgb(99, 110, 250); fill-opacity: 1;\"/><path class=\"point\" transform=\"translate(355.77,338.25)\" d=\"M3,0A3,3 0 1,1 0,-3A3,3 0 0,1 3,0Z\" style=\"opacity: 1; stroke-width: 0px; fill: rgb(99, 110, 250); fill-opacity: 1;\"/><path class=\"point\" transform=\"translate(356.45,338.25)\" d=\"M3,0A3,3 0 1,1 0,-3A3,3 0 0,1 3,0Z\" style=\"opacity: 1; stroke-width: 0px; fill: rgb(99, 110, 250); fill-opacity: 1;\"/><path class=\"point\" transform=\"translate(357.13,338.25)\" d=\"M3,0A3,3 0 1,1 0,-3A3,3 0 0,1 3,0Z\" style=\"opacity: 1; stroke-width: 0px; fill: rgb(99, 110, 250); fill-opacity: 1;\"/><path class=\"point\" transform=\"translate(357.81,338.25)\" d=\"M3,0A3,3 0 1,1 0,-3A3,3 0 0,1 3,0Z\" style=\"opacity: 1; stroke-width: 0px; fill: rgb(99, 110, 250); fill-opacity: 1;\"/><path class=\"point\" transform=\"translate(358.48,338.25)\" d=\"M3,0A3,3 0 1,1 0,-3A3,3 0 0,1 3,0Z\" style=\"opacity: 1; stroke-width: 0px; fill: rgb(99, 110, 250); fill-opacity: 1;\"/><path class=\"point\" transform=\"translate(359.16,338.25)\" d=\"M3,0A3,3 0 1,1 0,-3A3,3 0 0,1 3,0Z\" style=\"opacity: 1; stroke-width: 0px; fill: rgb(99, 110, 250); fill-opacity: 1;\"/><path class=\"point\" transform=\"translate(359.84,338.25)\" d=\"M3,0A3,3 0 1,1 0,-3A3,3 0 0,1 3,0Z\" style=\"opacity: 1; stroke-width: 0px; fill: rgb(99, 110, 250); fill-opacity: 1;\"/><path class=\"point\" transform=\"translate(360.52,338.25)\" d=\"M3,0A3,3 0 1,1 0,-3A3,3 0 0,1 3,0Z\" style=\"opacity: 1; stroke-width: 0px; fill: rgb(99, 110, 250); fill-opacity: 1;\"/><path class=\"point\" transform=\"translate(361.19,338.25)\" d=\"M3,0A3,3 0 1,1 0,-3A3,3 0 0,1 3,0Z\" style=\"opacity: 1; stroke-width: 0px; fill: rgb(99, 110, 250); fill-opacity: 1;\"/><path class=\"point\" transform=\"translate(361.87,338.25)\" d=\"M3,0A3,3 0 1,1 0,-3A3,3 0 0,1 3,0Z\" style=\"opacity: 1; stroke-width: 0px; fill: rgb(99, 110, 250); fill-opacity: 1;\"/><path class=\"point\" transform=\"translate(362.55,338.25)\" d=\"M3,0A3,3 0 1,1 0,-3A3,3 0 0,1 3,0Z\" style=\"opacity: 1; stroke-width: 0px; fill: rgb(99, 110, 250); fill-opacity: 1;\"/><path class=\"point\" transform=\"translate(363.23,180)\" d=\"M3,0A3,3 0 1,1 0,-3A3,3 0 0,1 3,0Z\" style=\"opacity: 1; stroke-width: 0px; fill: rgb(99, 110, 250); fill-opacity: 1;\"/><path class=\"point\" transform=\"translate(363.9,338.25)\" d=\"M3,0A3,3 0 1,1 0,-3A3,3 0 0,1 3,0Z\" style=\"opacity: 1; stroke-width: 0px; fill: rgb(99, 110, 250); fill-opacity: 1;\"/><path class=\"point\" transform=\"translate(364.58,21.75)\" d=\"M3,0A3,3 0 1,1 0,-3A3,3 0 0,1 3,0Z\" style=\"opacity: 1; stroke-width: 0px; fill: rgb(99, 110, 250); fill-opacity: 1;\"/><path class=\"point\" transform=\"translate(365.26,338.25)\" d=\"M3,0A3,3 0 1,1 0,-3A3,3 0 0,1 3,0Z\" style=\"opacity: 1; stroke-width: 0px; fill: rgb(99, 110, 250); fill-opacity: 1;\"/><path class=\"point\" transform=\"translate(365.94,338.25)\" d=\"M3,0A3,3 0 1,1 0,-3A3,3 0 0,1 3,0Z\" style=\"opacity: 1; stroke-width: 0px; fill: rgb(99, 110, 250); fill-opacity: 1;\"/><path class=\"point\" transform=\"translate(366.61,338.25)\" d=\"M3,0A3,3 0 1,1 0,-3A3,3 0 0,1 3,0Z\" style=\"opacity: 1; stroke-width: 0px; fill: rgb(99, 110, 250); fill-opacity: 1;\"/><path class=\"point\" transform=\"translate(367.29,338.25)\" d=\"M3,0A3,3 0 1,1 0,-3A3,3 0 0,1 3,0Z\" style=\"opacity: 1; stroke-width: 0px; fill: rgb(99, 110, 250); fill-opacity: 1;\"/><path class=\"point\" transform=\"translate(367.97,338.25)\" d=\"M3,0A3,3 0 1,1 0,-3A3,3 0 0,1 3,0Z\" style=\"opacity: 1; stroke-width: 0px; fill: rgb(99, 110, 250); fill-opacity: 1;\"/><path class=\"point\" transform=\"translate(368.65,338.25)\" d=\"M3,0A3,3 0 1,1 0,-3A3,3 0 0,1 3,0Z\" style=\"opacity: 1; stroke-width: 0px; fill: rgb(99, 110, 250); fill-opacity: 1;\"/><path class=\"point\" transform=\"translate(369.32,338.25)\" d=\"M3,0A3,3 0 1,1 0,-3A3,3 0 0,1 3,0Z\" style=\"opacity: 1; stroke-width: 0px; fill: rgb(99, 110, 250); fill-opacity: 1;\"/><path class=\"point\" transform=\"translate(370,338.25)\" d=\"M3,0A3,3 0 1,1 0,-3A3,3 0 0,1 3,0Z\" style=\"opacity: 1; stroke-width: 0px; fill: rgb(99, 110, 250); fill-opacity: 1;\"/><path class=\"point\" transform=\"translate(370.68,338.25)\" d=\"M3,0A3,3 0 1,1 0,-3A3,3 0 0,1 3,0Z\" style=\"opacity: 1; stroke-width: 0px; fill: rgb(99, 110, 250); fill-opacity: 1;\"/><path class=\"point\" transform=\"translate(371.35,338.25)\" d=\"M3,0A3,3 0 1,1 0,-3A3,3 0 0,1 3,0Z\" style=\"opacity: 1; stroke-width: 0px; fill: rgb(99, 110, 250); fill-opacity: 1;\"/><path class=\"point\" transform=\"translate(372.03,338.25)\" d=\"M3,0A3,3 0 1,1 0,-3A3,3 0 0,1 3,0Z\" style=\"opacity: 1; stroke-width: 0px; fill: rgb(99, 110, 250); fill-opacity: 1;\"/><path class=\"point\" transform=\"translate(372.71,338.25)\" d=\"M3,0A3,3 0 1,1 0,-3A3,3 0 0,1 3,0Z\" style=\"opacity: 1; stroke-width: 0px; fill: rgb(99, 110, 250); fill-opacity: 1;\"/><path class=\"point\" transform=\"translate(373.39,338.25)\" d=\"M3,0A3,3 0 1,1 0,-3A3,3 0 0,1 3,0Z\" style=\"opacity: 1; stroke-width: 0px; fill: rgb(99, 110, 250); fill-opacity: 1;\"/><path class=\"point\" transform=\"translate(374.06,338.25)\" d=\"M3,0A3,3 0 1,1 0,-3A3,3 0 0,1 3,0Z\" style=\"opacity: 1; stroke-width: 0px; fill: rgb(99, 110, 250); fill-opacity: 1;\"/><path class=\"point\" transform=\"translate(374.74,338.25)\" d=\"M3,0A3,3 0 1,1 0,-3A3,3 0 0,1 3,0Z\" style=\"opacity: 1; stroke-width: 0px; fill: rgb(99, 110, 250); fill-opacity: 1;\"/><path class=\"point\" transform=\"translate(375.42,338.25)\" d=\"M3,0A3,3 0 1,1 0,-3A3,3 0 0,1 3,0Z\" style=\"opacity: 1; stroke-width: 0px; fill: rgb(99, 110, 250); fill-opacity: 1;\"/><path class=\"point\" transform=\"translate(376.1,338.25)\" d=\"M3,0A3,3 0 1,1 0,-3A3,3 0 0,1 3,0Z\" style=\"opacity: 1; stroke-width: 0px; fill: rgb(99, 110, 250); fill-opacity: 1;\"/><path class=\"point\" transform=\"translate(376.77,338.25)\" d=\"M3,0A3,3 0 1,1 0,-3A3,3 0 0,1 3,0Z\" style=\"opacity: 1; stroke-width: 0px; fill: rgb(99, 110, 250); fill-opacity: 1;\"/><path class=\"point\" transform=\"translate(377.45,338.25)\" d=\"M3,0A3,3 0 1,1 0,-3A3,3 0 0,1 3,0Z\" style=\"opacity: 1; stroke-width: 0px; fill: rgb(99, 110, 250); fill-opacity: 1;\"/><path class=\"point\" transform=\"translate(378.13,338.25)\" d=\"M3,0A3,3 0 1,1 0,-3A3,3 0 0,1 3,0Z\" style=\"opacity: 1; stroke-width: 0px; fill: rgb(99, 110, 250); fill-opacity: 1;\"/><path class=\"point\" transform=\"translate(378.81,338.25)\" d=\"M3,0A3,3 0 1,1 0,-3A3,3 0 0,1 3,0Z\" style=\"opacity: 1; stroke-width: 0px; fill: rgb(99, 110, 250); fill-opacity: 1;\"/><path class=\"point\" transform=\"translate(379.48,338.25)\" d=\"M3,0A3,3 0 1,1 0,-3A3,3 0 0,1 3,0Z\" style=\"opacity: 1; stroke-width: 0px; fill: rgb(99, 110, 250); fill-opacity: 1;\"/><path class=\"point\" transform=\"translate(380.16,338.25)\" d=\"M3,0A3,3 0 1,1 0,-3A3,3 0 0,1 3,0Z\" style=\"opacity: 1; stroke-width: 0px; fill: rgb(99, 110, 250); fill-opacity: 1;\"/><path class=\"point\" transform=\"translate(380.84,338.25)\" d=\"M3,0A3,3 0 1,1 0,-3A3,3 0 0,1 3,0Z\" style=\"opacity: 1; stroke-width: 0px; fill: rgb(99, 110, 250); fill-opacity: 1;\"/><path class=\"point\" transform=\"translate(381.52,338.25)\" d=\"M3,0A3,3 0 1,1 0,-3A3,3 0 0,1 3,0Z\" style=\"opacity: 1; stroke-width: 0px; fill: rgb(99, 110, 250); fill-opacity: 1;\"/><path class=\"point\" transform=\"translate(382.19,338.25)\" d=\"M3,0A3,3 0 1,1 0,-3A3,3 0 0,1 3,0Z\" style=\"opacity: 1; stroke-width: 0px; fill: rgb(99, 110, 250); fill-opacity: 1;\"/><path class=\"point\" transform=\"translate(382.87,338.25)\" d=\"M3,0A3,3 0 1,1 0,-3A3,3 0 0,1 3,0Z\" style=\"opacity: 1; stroke-width: 0px; fill: rgb(99, 110, 250); fill-opacity: 1;\"/><path class=\"point\" transform=\"translate(383.55,338.25)\" d=\"M3,0A3,3 0 1,1 0,-3A3,3 0 0,1 3,0Z\" style=\"opacity: 1; stroke-width: 0px; fill: rgb(99, 110, 250); fill-opacity: 1;\"/><path class=\"point\" transform=\"translate(384.23,338.25)\" d=\"M3,0A3,3 0 1,1 0,-3A3,3 0 0,1 3,0Z\" style=\"opacity: 1; stroke-width: 0px; fill: rgb(99, 110, 250); fill-opacity: 1;\"/><path class=\"point\" transform=\"translate(384.9,338.25)\" d=\"M3,0A3,3 0 1,1 0,-3A3,3 0 0,1 3,0Z\" style=\"opacity: 1; stroke-width: 0px; fill: rgb(99, 110, 250); fill-opacity: 1;\"/><path class=\"point\" transform=\"translate(385.58,180)\" d=\"M3,0A3,3 0 1,1 0,-3A3,3 0 0,1 3,0Z\" style=\"opacity: 1; stroke-width: 0px; fill: rgb(99, 110, 250); fill-opacity: 1;\"/><path class=\"point\" transform=\"translate(386.26,338.25)\" d=\"M3,0A3,3 0 1,1 0,-3A3,3 0 0,1 3,0Z\" style=\"opacity: 1; stroke-width: 0px; fill: rgb(99, 110, 250); fill-opacity: 1;\"/><path class=\"point\" transform=\"translate(386.94,338.25)\" d=\"M3,0A3,3 0 1,1 0,-3A3,3 0 0,1 3,0Z\" style=\"opacity: 1; stroke-width: 0px; fill: rgb(99, 110, 250); fill-opacity: 1;\"/><path class=\"point\" transform=\"translate(387.61,338.25)\" d=\"M3,0A3,3 0 1,1 0,-3A3,3 0 0,1 3,0Z\" style=\"opacity: 1; stroke-width: 0px; fill: rgb(99, 110, 250); fill-opacity: 1;\"/><path class=\"point\" transform=\"translate(388.29,338.25)\" d=\"M3,0A3,3 0 1,1 0,-3A3,3 0 0,1 3,0Z\" style=\"opacity: 1; stroke-width: 0px; fill: rgb(99, 110, 250); fill-opacity: 1;\"/><path class=\"point\" transform=\"translate(388.97,338.25)\" d=\"M3,0A3,3 0 1,1 0,-3A3,3 0 0,1 3,0Z\" style=\"opacity: 1; stroke-width: 0px; fill: rgb(99, 110, 250); fill-opacity: 1;\"/><path class=\"point\" transform=\"translate(389.65,338.25)\" d=\"M3,0A3,3 0 1,1 0,-3A3,3 0 0,1 3,0Z\" style=\"opacity: 1; stroke-width: 0px; fill: rgb(99, 110, 250); fill-opacity: 1;\"/><path class=\"point\" transform=\"translate(390.32,338.25)\" d=\"M3,0A3,3 0 1,1 0,-3A3,3 0 0,1 3,0Z\" style=\"opacity: 1; stroke-width: 0px; fill: rgb(99, 110, 250); fill-opacity: 1;\"/><path class=\"point\" transform=\"translate(391,338.25)\" d=\"M3,0A3,3 0 1,1 0,-3A3,3 0 0,1 3,0Z\" style=\"opacity: 1; stroke-width: 0px; fill: rgb(99, 110, 250); fill-opacity: 1;\"/><path class=\"point\" transform=\"translate(391.68,338.25)\" d=\"M3,0A3,3 0 1,1 0,-3A3,3 0 0,1 3,0Z\" style=\"opacity: 1; stroke-width: 0px; fill: rgb(99, 110, 250); fill-opacity: 1;\"/><path class=\"point\" transform=\"translate(392.36,338.25)\" d=\"M3,0A3,3 0 1,1 0,-3A3,3 0 0,1 3,0Z\" style=\"opacity: 1; stroke-width: 0px; fill: rgb(99, 110, 250); fill-opacity: 1;\"/><path class=\"point\" transform=\"translate(393.03,338.25)\" d=\"M3,0A3,3 0 1,1 0,-3A3,3 0 0,1 3,0Z\" style=\"opacity: 1; stroke-width: 0px; fill: rgb(99, 110, 250); fill-opacity: 1;\"/><path class=\"point\" transform=\"translate(393.71,338.25)\" d=\"M3,0A3,3 0 1,1 0,-3A3,3 0 0,1 3,0Z\" style=\"opacity: 1; stroke-width: 0px; fill: rgb(99, 110, 250); fill-opacity: 1;\"/><path class=\"point\" transform=\"translate(394.39,338.25)\" d=\"M3,0A3,3 0 1,1 0,-3A3,3 0 0,1 3,0Z\" style=\"opacity: 1; stroke-width: 0px; fill: rgb(99, 110, 250); fill-opacity: 1;\"/><path class=\"point\" transform=\"translate(395.07,338.25)\" d=\"M3,0A3,3 0 1,1 0,-3A3,3 0 0,1 3,0Z\" style=\"opacity: 1; stroke-width: 0px; fill: rgb(99, 110, 250); fill-opacity: 1;\"/><path class=\"point\" transform=\"translate(395.74,338.25)\" d=\"M3,0A3,3 0 1,1 0,-3A3,3 0 0,1 3,0Z\" style=\"opacity: 1; stroke-width: 0px; fill: rgb(99, 110, 250); fill-opacity: 1;\"/><path class=\"point\" transform=\"translate(396.42,338.25)\" d=\"M3,0A3,3 0 1,1 0,-3A3,3 0 0,1 3,0Z\" style=\"opacity: 1; stroke-width: 0px; fill: rgb(99, 110, 250); fill-opacity: 1;\"/><path class=\"point\" transform=\"translate(397.1,338.25)\" d=\"M3,0A3,3 0 1,1 0,-3A3,3 0 0,1 3,0Z\" style=\"opacity: 1; stroke-width: 0px; fill: rgb(99, 110, 250); fill-opacity: 1;\"/><path class=\"point\" transform=\"translate(397.78,338.25)\" d=\"M3,0A3,3 0 1,1 0,-3A3,3 0 0,1 3,0Z\" style=\"opacity: 1; stroke-width: 0px; fill: rgb(99, 110, 250); fill-opacity: 1;\"/><path class=\"point\" transform=\"translate(398.45,338.25)\" d=\"M3,0A3,3 0 1,1 0,-3A3,3 0 0,1 3,0Z\" style=\"opacity: 1; stroke-width: 0px; fill: rgb(99, 110, 250); fill-opacity: 1;\"/><path class=\"point\" transform=\"translate(399.13,180)\" d=\"M3,0A3,3 0 1,1 0,-3A3,3 0 0,1 3,0Z\" style=\"opacity: 1; stroke-width: 0px; fill: rgb(99, 110, 250); fill-opacity: 1;\"/><path class=\"point\" transform=\"translate(399.81,338.25)\" d=\"M3,0A3,3 0 1,1 0,-3A3,3 0 0,1 3,0Z\" style=\"opacity: 1; stroke-width: 0px; fill: rgb(99, 110, 250); fill-opacity: 1;\"/><path class=\"point\" transform=\"translate(400.49,338.25)\" d=\"M3,0A3,3 0 1,1 0,-3A3,3 0 0,1 3,0Z\" style=\"opacity: 1; stroke-width: 0px; fill: rgb(99, 110, 250); fill-opacity: 1;\"/><path class=\"point\" transform=\"translate(401.16,338.25)\" d=\"M3,0A3,3 0 1,1 0,-3A3,3 0 0,1 3,0Z\" style=\"opacity: 1; stroke-width: 0px; fill: rgb(99, 110, 250); fill-opacity: 1;\"/><path class=\"point\" transform=\"translate(401.84,338.25)\" d=\"M3,0A3,3 0 1,1 0,-3A3,3 0 0,1 3,0Z\" style=\"opacity: 1; stroke-width: 0px; fill: rgb(99, 110, 250); fill-opacity: 1;\"/><path class=\"point\" transform=\"translate(402.52,338.25)\" d=\"M3,0A3,3 0 1,1 0,-3A3,3 0 0,1 3,0Z\" style=\"opacity: 1; stroke-width: 0px; fill: rgb(99, 110, 250); fill-opacity: 1;\"/><path class=\"point\" transform=\"translate(403.2,338.25)\" d=\"M3,0A3,3 0 1,1 0,-3A3,3 0 0,1 3,0Z\" style=\"opacity: 1; stroke-width: 0px; fill: rgb(99, 110, 250); fill-opacity: 1;\"/><path class=\"point\" transform=\"translate(403.87,338.25)\" d=\"M3,0A3,3 0 1,1 0,-3A3,3 0 0,1 3,0Z\" style=\"opacity: 1; stroke-width: 0px; fill: rgb(99, 110, 250); fill-opacity: 1;\"/><path class=\"point\" transform=\"translate(404.55,338.25)\" d=\"M3,0A3,3 0 1,1 0,-3A3,3 0 0,1 3,0Z\" style=\"opacity: 1; stroke-width: 0px; fill: rgb(99, 110, 250); fill-opacity: 1;\"/><path class=\"point\" transform=\"translate(405.23,338.25)\" d=\"M3,0A3,3 0 1,1 0,-3A3,3 0 0,1 3,0Z\" style=\"opacity: 1; stroke-width: 0px; fill: rgb(99, 110, 250); fill-opacity: 1;\"/><path class=\"point\" transform=\"translate(405.91,180)\" d=\"M3,0A3,3 0 1,1 0,-3A3,3 0 0,1 3,0Z\" style=\"opacity: 1; stroke-width: 0px; fill: rgb(99, 110, 250); fill-opacity: 1;\"/><path class=\"point\" transform=\"translate(406.58,338.25)\" d=\"M3,0A3,3 0 1,1 0,-3A3,3 0 0,1 3,0Z\" style=\"opacity: 1; stroke-width: 0px; fill: rgb(99, 110, 250); fill-opacity: 1;\"/><path class=\"point\" transform=\"translate(407.26,338.25)\" d=\"M3,0A3,3 0 1,1 0,-3A3,3 0 0,1 3,0Z\" style=\"opacity: 1; stroke-width: 0px; fill: rgb(99, 110, 250); fill-opacity: 1;\"/><path class=\"point\" transform=\"translate(407.94,338.25)\" d=\"M3,0A3,3 0 1,1 0,-3A3,3 0 0,1 3,0Z\" style=\"opacity: 1; stroke-width: 0px; fill: rgb(99, 110, 250); fill-opacity: 1;\"/><path class=\"point\" transform=\"translate(408.62,338.25)\" d=\"M3,0A3,3 0 1,1 0,-3A3,3 0 0,1 3,0Z\" style=\"opacity: 1; stroke-width: 0px; fill: rgb(99, 110, 250); fill-opacity: 1;\"/><path class=\"point\" transform=\"translate(409.29,338.25)\" d=\"M3,0A3,3 0 1,1 0,-3A3,3 0 0,1 3,0Z\" style=\"opacity: 1; stroke-width: 0px; fill: rgb(99, 110, 250); fill-opacity: 1;\"/><path class=\"point\" transform=\"translate(409.97,338.25)\" d=\"M3,0A3,3 0 1,1 0,-3A3,3 0 0,1 3,0Z\" style=\"opacity: 1; stroke-width: 0px; fill: rgb(99, 110, 250); fill-opacity: 1;\"/><path class=\"point\" transform=\"translate(410.65,338.25)\" d=\"M3,0A3,3 0 1,1 0,-3A3,3 0 0,1 3,0Z\" style=\"opacity: 1; stroke-width: 0px; fill: rgb(99, 110, 250); fill-opacity: 1;\"/><path class=\"point\" transform=\"translate(411.33,338.25)\" d=\"M3,0A3,3 0 1,1 0,-3A3,3 0 0,1 3,0Z\" style=\"opacity: 1; stroke-width: 0px; fill: rgb(99, 110, 250); fill-opacity: 1;\"/><path class=\"point\" transform=\"translate(412,180)\" d=\"M3,0A3,3 0 1,1 0,-3A3,3 0 0,1 3,0Z\" style=\"opacity: 1; stroke-width: 0px; fill: rgb(99, 110, 250); fill-opacity: 1;\"/><path class=\"point\" transform=\"translate(412.68,338.25)\" d=\"M3,0A3,3 0 1,1 0,-3A3,3 0 0,1 3,0Z\" style=\"opacity: 1; stroke-width: 0px; fill: rgb(99, 110, 250); fill-opacity: 1;\"/><path class=\"point\" transform=\"translate(413.36,338.25)\" d=\"M3,0A3,3 0 1,1 0,-3A3,3 0 0,1 3,0Z\" style=\"opacity: 1; stroke-width: 0px; fill: rgb(99, 110, 250); fill-opacity: 1;\"/><path class=\"point\" transform=\"translate(414.04,338.25)\" d=\"M3,0A3,3 0 1,1 0,-3A3,3 0 0,1 3,0Z\" style=\"opacity: 1; stroke-width: 0px; fill: rgb(99, 110, 250); fill-opacity: 1;\"/><path class=\"point\" transform=\"translate(414.71,338.25)\" d=\"M3,0A3,3 0 1,1 0,-3A3,3 0 0,1 3,0Z\" style=\"opacity: 1; stroke-width: 0px; fill: rgb(99, 110, 250); fill-opacity: 1;\"/><path class=\"point\" transform=\"translate(415.39,338.25)\" d=\"M3,0A3,3 0 1,1 0,-3A3,3 0 0,1 3,0Z\" style=\"opacity: 1; stroke-width: 0px; fill: rgb(99, 110, 250); fill-opacity: 1;\"/><path class=\"point\" transform=\"translate(416.07,338.25)\" d=\"M3,0A3,3 0 1,1 0,-3A3,3 0 0,1 3,0Z\" style=\"opacity: 1; stroke-width: 0px; fill: rgb(99, 110, 250); fill-opacity: 1;\"/><path class=\"point\" transform=\"translate(416.75,338.25)\" d=\"M3,0A3,3 0 1,1 0,-3A3,3 0 0,1 3,0Z\" style=\"opacity: 1; stroke-width: 0px; fill: rgb(99, 110, 250); fill-opacity: 1;\"/><path class=\"point\" transform=\"translate(417.42,338.25)\" d=\"M3,0A3,3 0 1,1 0,-3A3,3 0 0,1 3,0Z\" style=\"opacity: 1; stroke-width: 0px; fill: rgb(99, 110, 250); fill-opacity: 1;\"/><path class=\"point\" transform=\"translate(418.1,338.25)\" d=\"M3,0A3,3 0 1,1 0,-3A3,3 0 0,1 3,0Z\" style=\"opacity: 1; stroke-width: 0px; fill: rgb(99, 110, 250); fill-opacity: 1;\"/><path class=\"point\" transform=\"translate(418.78,338.25)\" d=\"M3,0A3,3 0 1,1 0,-3A3,3 0 0,1 3,0Z\" style=\"opacity: 1; stroke-width: 0px; fill: rgb(99, 110, 250); fill-opacity: 1;\"/><path class=\"point\" transform=\"translate(419.46,338.25)\" d=\"M3,0A3,3 0 1,1 0,-3A3,3 0 0,1 3,0Z\" style=\"opacity: 1; stroke-width: 0px; fill: rgb(99, 110, 250); fill-opacity: 1;\"/><path class=\"point\" transform=\"translate(420.13,338.25)\" d=\"M3,0A3,3 0 1,1 0,-3A3,3 0 0,1 3,0Z\" style=\"opacity: 1; stroke-width: 0px; fill: rgb(99, 110, 250); fill-opacity: 1;\"/><path class=\"point\" transform=\"translate(420.81,338.25)\" d=\"M3,0A3,3 0 1,1 0,-3A3,3 0 0,1 3,0Z\" style=\"opacity: 1; stroke-width: 0px; fill: rgb(99, 110, 250); fill-opacity: 1;\"/><path class=\"point\" transform=\"translate(421.49,338.25)\" d=\"M3,0A3,3 0 1,1 0,-3A3,3 0 0,1 3,0Z\" style=\"opacity: 1; stroke-width: 0px; fill: rgb(99, 110, 250); fill-opacity: 1;\"/><path class=\"point\" transform=\"translate(422.17,338.25)\" d=\"M3,0A3,3 0 1,1 0,-3A3,3 0 0,1 3,0Z\" style=\"opacity: 1; stroke-width: 0px; fill: rgb(99, 110, 250); fill-opacity: 1;\"/><path class=\"point\" transform=\"translate(422.84,338.25)\" d=\"M3,0A3,3 0 1,1 0,-3A3,3 0 0,1 3,0Z\" style=\"opacity: 1; stroke-width: 0px; fill: rgb(99, 110, 250); fill-opacity: 1;\"/><path class=\"point\" transform=\"translate(423.52,338.25)\" d=\"M3,0A3,3 0 1,1 0,-3A3,3 0 0,1 3,0Z\" style=\"opacity: 1; stroke-width: 0px; fill: rgb(99, 110, 250); fill-opacity: 1;\"/><path class=\"point\" transform=\"translate(424.2,338.25)\" d=\"M3,0A3,3 0 1,1 0,-3A3,3 0 0,1 3,0Z\" style=\"opacity: 1; stroke-width: 0px; fill: rgb(99, 110, 250); fill-opacity: 1;\"/><path class=\"point\" transform=\"translate(424.88,338.25)\" d=\"M3,0A3,3 0 1,1 0,-3A3,3 0 0,1 3,0Z\" style=\"opacity: 1; stroke-width: 0px; fill: rgb(99, 110, 250); fill-opacity: 1;\"/><path class=\"point\" transform=\"translate(425.55,338.25)\" d=\"M3,0A3,3 0 1,1 0,-3A3,3 0 0,1 3,0Z\" style=\"opacity: 1; stroke-width: 0px; fill: rgb(99, 110, 250); fill-opacity: 1;\"/><path class=\"point\" transform=\"translate(426.23,338.25)\" d=\"M3,0A3,3 0 1,1 0,-3A3,3 0 0,1 3,0Z\" style=\"opacity: 1; stroke-width: 0px; fill: rgb(99, 110, 250); fill-opacity: 1;\"/><path class=\"point\" transform=\"translate(426.91,338.25)\" d=\"M3,0A3,3 0 1,1 0,-3A3,3 0 0,1 3,0Z\" style=\"opacity: 1; stroke-width: 0px; fill: rgb(99, 110, 250); fill-opacity: 1;\"/><path class=\"point\" transform=\"translate(427.58,338.25)\" d=\"M3,0A3,3 0 1,1 0,-3A3,3 0 0,1 3,0Z\" style=\"opacity: 1; stroke-width: 0px; fill: rgb(99, 110, 250); fill-opacity: 1;\"/><path class=\"point\" transform=\"translate(428.26,338.25)\" d=\"M3,0A3,3 0 1,1 0,-3A3,3 0 0,1 3,0Z\" style=\"opacity: 1; stroke-width: 0px; fill: rgb(99, 110, 250); fill-opacity: 1;\"/><path class=\"point\" transform=\"translate(428.94,338.25)\" d=\"M3,0A3,3 0 1,1 0,-3A3,3 0 0,1 3,0Z\" style=\"opacity: 1; stroke-width: 0px; fill: rgb(99, 110, 250); fill-opacity: 1;\"/><path class=\"point\" transform=\"translate(429.62,338.25)\" d=\"M3,0A3,3 0 1,1 0,-3A3,3 0 0,1 3,0Z\" style=\"opacity: 1; stroke-width: 0px; fill: rgb(99, 110, 250); fill-opacity: 1;\"/><path class=\"point\" transform=\"translate(430.29,338.25)\" d=\"M3,0A3,3 0 1,1 0,-3A3,3 0 0,1 3,0Z\" style=\"opacity: 1; stroke-width: 0px; fill: rgb(99, 110, 250); fill-opacity: 1;\"/><path class=\"point\" transform=\"translate(430.97,338.25)\" d=\"M3,0A3,3 0 1,1 0,-3A3,3 0 0,1 3,0Z\" style=\"opacity: 1; stroke-width: 0px; fill: rgb(99, 110, 250); fill-opacity: 1;\"/><path class=\"point\" transform=\"translate(431.65,338.25)\" d=\"M3,0A3,3 0 1,1 0,-3A3,3 0 0,1 3,0Z\" style=\"opacity: 1; stroke-width: 0px; fill: rgb(99, 110, 250); fill-opacity: 1;\"/><path class=\"point\" transform=\"translate(432.33,338.25)\" d=\"M3,0A3,3 0 1,1 0,-3A3,3 0 0,1 3,0Z\" style=\"opacity: 1; stroke-width: 0px; fill: rgb(99, 110, 250); fill-opacity: 1;\"/><path class=\"point\" transform=\"translate(433,338.25)\" d=\"M3,0A3,3 0 1,1 0,-3A3,3 0 0,1 3,0Z\" style=\"opacity: 1; stroke-width: 0px; fill: rgb(99, 110, 250); fill-opacity: 1;\"/><path class=\"point\" transform=\"translate(433.68,338.25)\" d=\"M3,0A3,3 0 1,1 0,-3A3,3 0 0,1 3,0Z\" style=\"opacity: 1; stroke-width: 0px; fill: rgb(99, 110, 250); fill-opacity: 1;\"/><path class=\"point\" transform=\"translate(434.36,338.25)\" d=\"M3,0A3,3 0 1,1 0,-3A3,3 0 0,1 3,0Z\" style=\"opacity: 1; stroke-width: 0px; fill: rgb(99, 110, 250); fill-opacity: 1;\"/><path class=\"point\" transform=\"translate(435.04,338.25)\" d=\"M3,0A3,3 0 1,1 0,-3A3,3 0 0,1 3,0Z\" style=\"opacity: 1; stroke-width: 0px; fill: rgb(99, 110, 250); fill-opacity: 1;\"/><path class=\"point\" transform=\"translate(435.71,338.25)\" d=\"M3,0A3,3 0 1,1 0,-3A3,3 0 0,1 3,0Z\" style=\"opacity: 1; stroke-width: 0px; fill: rgb(99, 110, 250); fill-opacity: 1;\"/><path class=\"point\" transform=\"translate(436.39,338.25)\" d=\"M3,0A3,3 0 1,1 0,-3A3,3 0 0,1 3,0Z\" style=\"opacity: 1; stroke-width: 0px; fill: rgb(99, 110, 250); fill-opacity: 1;\"/><path class=\"point\" transform=\"translate(437.07,338.25)\" d=\"M3,0A3,3 0 1,1 0,-3A3,3 0 0,1 3,0Z\" style=\"opacity: 1; stroke-width: 0px; fill: rgb(99, 110, 250); fill-opacity: 1;\"/><path class=\"point\" transform=\"translate(437.75,338.25)\" d=\"M3,0A3,3 0 1,1 0,-3A3,3 0 0,1 3,0Z\" style=\"opacity: 1; stroke-width: 0px; fill: rgb(99, 110, 250); fill-opacity: 1;\"/><path class=\"point\" transform=\"translate(438.42,338.25)\" d=\"M3,0A3,3 0 1,1 0,-3A3,3 0 0,1 3,0Z\" style=\"opacity: 1; stroke-width: 0px; fill: rgb(99, 110, 250); fill-opacity: 1;\"/><path class=\"point\" transform=\"translate(439.1,338.25)\" d=\"M3,0A3,3 0 1,1 0,-3A3,3 0 0,1 3,0Z\" style=\"opacity: 1; stroke-width: 0px; fill: rgb(99, 110, 250); fill-opacity: 1;\"/><path class=\"point\" transform=\"translate(439.78,338.25)\" d=\"M3,0A3,3 0 1,1 0,-3A3,3 0 0,1 3,0Z\" style=\"opacity: 1; stroke-width: 0px; fill: rgb(99, 110, 250); fill-opacity: 1;\"/><path class=\"point\" transform=\"translate(440.46,338.25)\" d=\"M3,0A3,3 0 1,1 0,-3A3,3 0 0,1 3,0Z\" style=\"opacity: 1; stroke-width: 0px; fill: rgb(99, 110, 250); fill-opacity: 1;\"/><path class=\"point\" transform=\"translate(441.13,338.25)\" d=\"M3,0A3,3 0 1,1 0,-3A3,3 0 0,1 3,0Z\" style=\"opacity: 1; stroke-width: 0px; fill: rgb(99, 110, 250); fill-opacity: 1;\"/><path class=\"point\" transform=\"translate(441.81,338.25)\" d=\"M3,0A3,3 0 1,1 0,-3A3,3 0 0,1 3,0Z\" style=\"opacity: 1; stroke-width: 0px; fill: rgb(99, 110, 250); fill-opacity: 1;\"/><path class=\"point\" transform=\"translate(442.49,338.25)\" d=\"M3,0A3,3 0 1,1 0,-3A3,3 0 0,1 3,0Z\" style=\"opacity: 1; stroke-width: 0px; fill: rgb(99, 110, 250); fill-opacity: 1;\"/><path class=\"point\" transform=\"translate(443.17,338.25)\" d=\"M3,0A3,3 0 1,1 0,-3A3,3 0 0,1 3,0Z\" style=\"opacity: 1; stroke-width: 0px; fill: rgb(99, 110, 250); fill-opacity: 1;\"/><path class=\"point\" transform=\"translate(443.84,338.25)\" d=\"M3,0A3,3 0 1,1 0,-3A3,3 0 0,1 3,0Z\" style=\"opacity: 1; stroke-width: 0px; fill: rgb(99, 110, 250); fill-opacity: 1;\"/><path class=\"point\" transform=\"translate(444.52,338.25)\" d=\"M3,0A3,3 0 1,1 0,-3A3,3 0 0,1 3,0Z\" style=\"opacity: 1; stroke-width: 0px; fill: rgb(99, 110, 250); fill-opacity: 1;\"/><path class=\"point\" transform=\"translate(445.2,338.25)\" d=\"M3,0A3,3 0 1,1 0,-3A3,3 0 0,1 3,0Z\" style=\"opacity: 1; stroke-width: 0px; fill: rgb(99, 110, 250); fill-opacity: 1;\"/><path class=\"point\" transform=\"translate(445.88,338.25)\" d=\"M3,0A3,3 0 1,1 0,-3A3,3 0 0,1 3,0Z\" style=\"opacity: 1; stroke-width: 0px; fill: rgb(99, 110, 250); fill-opacity: 1;\"/><path class=\"point\" transform=\"translate(446.55,338.25)\" d=\"M3,0A3,3 0 1,1 0,-3A3,3 0 0,1 3,0Z\" style=\"opacity: 1; stroke-width: 0px; fill: rgb(99, 110, 250); fill-opacity: 1;\"/><path class=\"point\" transform=\"translate(447.23,338.25)\" d=\"M3,0A3,3 0 1,1 0,-3A3,3 0 0,1 3,0Z\" style=\"opacity: 1; stroke-width: 0px; fill: rgb(99, 110, 250); fill-opacity: 1;\"/><path class=\"point\" transform=\"translate(447.91,338.25)\" d=\"M3,0A3,3 0 1,1 0,-3A3,3 0 0,1 3,0Z\" style=\"opacity: 1; stroke-width: 0px; fill: rgb(99, 110, 250); fill-opacity: 1;\"/><path class=\"point\" transform=\"translate(448.59,338.25)\" d=\"M3,0A3,3 0 1,1 0,-3A3,3 0 0,1 3,0Z\" style=\"opacity: 1; stroke-width: 0px; fill: rgb(99, 110, 250); fill-opacity: 1;\"/><path class=\"point\" transform=\"translate(449.26,338.25)\" d=\"M3,0A3,3 0 1,1 0,-3A3,3 0 0,1 3,0Z\" style=\"opacity: 1; stroke-width: 0px; fill: rgb(99, 110, 250); fill-opacity: 1;\"/><path class=\"point\" transform=\"translate(449.94,338.25)\" d=\"M3,0A3,3 0 1,1 0,-3A3,3 0 0,1 3,0Z\" style=\"opacity: 1; stroke-width: 0px; fill: rgb(99, 110, 250); fill-opacity: 1;\"/><path class=\"point\" transform=\"translate(450.62,338.25)\" d=\"M3,0A3,3 0 1,1 0,-3A3,3 0 0,1 3,0Z\" style=\"opacity: 1; stroke-width: 0px; fill: rgb(99, 110, 250); fill-opacity: 1;\"/><path class=\"point\" transform=\"translate(451.3,338.25)\" d=\"M3,0A3,3 0 1,1 0,-3A3,3 0 0,1 3,0Z\" style=\"opacity: 1; stroke-width: 0px; fill: rgb(99, 110, 250); fill-opacity: 1;\"/><path class=\"point\" transform=\"translate(451.97,338.25)\" d=\"M3,0A3,3 0 1,1 0,-3A3,3 0 0,1 3,0Z\" style=\"opacity: 1; stroke-width: 0px; fill: rgb(99, 110, 250); fill-opacity: 1;\"/><path class=\"point\" transform=\"translate(452.65,338.25)\" d=\"M3,0A3,3 0 1,1 0,-3A3,3 0 0,1 3,0Z\" style=\"opacity: 1; stroke-width: 0px; fill: rgb(99, 110, 250); fill-opacity: 1;\"/><path class=\"point\" transform=\"translate(453.33,338.25)\" d=\"M3,0A3,3 0 1,1 0,-3A3,3 0 0,1 3,0Z\" style=\"opacity: 1; stroke-width: 0px; fill: rgb(99, 110, 250); fill-opacity: 1;\"/><path class=\"point\" transform=\"translate(454.01,338.25)\" d=\"M3,0A3,3 0 1,1 0,-3A3,3 0 0,1 3,0Z\" style=\"opacity: 1; stroke-width: 0px; fill: rgb(99, 110, 250); fill-opacity: 1;\"/><path class=\"point\" transform=\"translate(454.68,338.25)\" d=\"M3,0A3,3 0 1,1 0,-3A3,3 0 0,1 3,0Z\" style=\"opacity: 1; stroke-width: 0px; fill: rgb(99, 110, 250); fill-opacity: 1;\"/><path class=\"point\" transform=\"translate(455.36,338.25)\" d=\"M3,0A3,3 0 1,1 0,-3A3,3 0 0,1 3,0Z\" style=\"opacity: 1; stroke-width: 0px; fill: rgb(99, 110, 250); fill-opacity: 1;\"/><path class=\"point\" transform=\"translate(456.04,338.25)\" d=\"M3,0A3,3 0 1,1 0,-3A3,3 0 0,1 3,0Z\" style=\"opacity: 1; stroke-width: 0px; fill: rgb(99, 110, 250); fill-opacity: 1;\"/><path class=\"point\" transform=\"translate(456.72,338.25)\" d=\"M3,0A3,3 0 1,1 0,-3A3,3 0 0,1 3,0Z\" style=\"opacity: 1; stroke-width: 0px; fill: rgb(99, 110, 250); fill-opacity: 1;\"/><path class=\"point\" transform=\"translate(457.39,338.25)\" d=\"M3,0A3,3 0 1,1 0,-3A3,3 0 0,1 3,0Z\" style=\"opacity: 1; stroke-width: 0px; fill: rgb(99, 110, 250); fill-opacity: 1;\"/><path class=\"point\" transform=\"translate(458.07,338.25)\" d=\"M3,0A3,3 0 1,1 0,-3A3,3 0 0,1 3,0Z\" style=\"opacity: 1; stroke-width: 0px; fill: rgb(99, 110, 250); fill-opacity: 1;\"/><path class=\"point\" transform=\"translate(458.75,338.25)\" d=\"M3,0A3,3 0 1,1 0,-3A3,3 0 0,1 3,0Z\" style=\"opacity: 1; stroke-width: 0px; fill: rgb(99, 110, 250); fill-opacity: 1;\"/><path class=\"point\" transform=\"translate(459.43,338.25)\" d=\"M3,0A3,3 0 1,1 0,-3A3,3 0 0,1 3,0Z\" style=\"opacity: 1; stroke-width: 0px; fill: rgb(99, 110, 250); fill-opacity: 1;\"/><path class=\"point\" transform=\"translate(460.1,338.25)\" d=\"M3,0A3,3 0 1,1 0,-3A3,3 0 0,1 3,0Z\" style=\"opacity: 1; stroke-width: 0px; fill: rgb(99, 110, 250); fill-opacity: 1;\"/><path class=\"point\" transform=\"translate(460.78,338.25)\" d=\"M3,0A3,3 0 1,1 0,-3A3,3 0 0,1 3,0Z\" style=\"opacity: 1; stroke-width: 0px; fill: rgb(99, 110, 250); fill-opacity: 1;\"/><path class=\"point\" transform=\"translate(461.46,338.25)\" d=\"M3,0A3,3 0 1,1 0,-3A3,3 0 0,1 3,0Z\" style=\"opacity: 1; stroke-width: 0px; fill: rgb(99, 110, 250); fill-opacity: 1;\"/><path class=\"point\" transform=\"translate(462.14,338.25)\" d=\"M3,0A3,3 0 1,1 0,-3A3,3 0 0,1 3,0Z\" style=\"opacity: 1; stroke-width: 0px; fill: rgb(99, 110, 250); fill-opacity: 1;\"/><path class=\"point\" transform=\"translate(462.81,338.25)\" d=\"M3,0A3,3 0 1,1 0,-3A3,3 0 0,1 3,0Z\" style=\"opacity: 1; stroke-width: 0px; fill: rgb(99, 110, 250); fill-opacity: 1;\"/><path class=\"point\" transform=\"translate(463.49,180)\" d=\"M3,0A3,3 0 1,1 0,-3A3,3 0 0,1 3,0Z\" style=\"opacity: 1; stroke-width: 0px; fill: rgb(99, 110, 250); fill-opacity: 1;\"/><path class=\"point\" transform=\"translate(464.17,338.25)\" d=\"M3,0A3,3 0 1,1 0,-3A3,3 0 0,1 3,0Z\" style=\"opacity: 1; stroke-width: 0px; fill: rgb(99, 110, 250); fill-opacity: 1;\"/><path class=\"point\" transform=\"translate(464.85,338.25)\" d=\"M3,0A3,3 0 1,1 0,-3A3,3 0 0,1 3,0Z\" style=\"opacity: 1; stroke-width: 0px; fill: rgb(99, 110, 250); fill-opacity: 1;\"/><path class=\"point\" transform=\"translate(465.52,338.25)\" d=\"M3,0A3,3 0 1,1 0,-3A3,3 0 0,1 3,0Z\" style=\"opacity: 1; stroke-width: 0px; fill: rgb(99, 110, 250); fill-opacity: 1;\"/><path class=\"point\" transform=\"translate(466.2,180)\" d=\"M3,0A3,3 0 1,1 0,-3A3,3 0 0,1 3,0Z\" style=\"opacity: 1; stroke-width: 0px; fill: rgb(99, 110, 250); fill-opacity: 1;\"/><path class=\"point\" transform=\"translate(466.88,338.25)\" d=\"M3,0A3,3 0 1,1 0,-3A3,3 0 0,1 3,0Z\" style=\"opacity: 1; stroke-width: 0px; fill: rgb(99, 110, 250); fill-opacity: 1;\"/><path class=\"point\" transform=\"translate(467.56,338.25)\" d=\"M3,0A3,3 0 1,1 0,-3A3,3 0 0,1 3,0Z\" style=\"opacity: 1; stroke-width: 0px; fill: rgb(99, 110, 250); fill-opacity: 1;\"/><path class=\"point\" transform=\"translate(468.23,338.25)\" d=\"M3,0A3,3 0 1,1 0,-3A3,3 0 0,1 3,0Z\" style=\"opacity: 1; stroke-width: 0px; fill: rgb(99, 110, 250); fill-opacity: 1;\"/><path class=\"point\" transform=\"translate(468.91,21.75)\" d=\"M3,0A3,3 0 1,1 0,-3A3,3 0 0,1 3,0Z\" style=\"opacity: 1; stroke-width: 0px; fill: rgb(99, 110, 250); fill-opacity: 1;\"/><path class=\"point\" transform=\"translate(469.59,338.25)\" d=\"M3,0A3,3 0 1,1 0,-3A3,3 0 0,1 3,0Z\" style=\"opacity: 1; stroke-width: 0px; fill: rgb(99, 110, 250); fill-opacity: 1;\"/><path class=\"point\" transform=\"translate(470.27,180)\" d=\"M3,0A3,3 0 1,1 0,-3A3,3 0 0,1 3,0Z\" style=\"opacity: 1; stroke-width: 0px; fill: rgb(99, 110, 250); fill-opacity: 1;\"/><path class=\"point\" transform=\"translate(470.94,338.25)\" d=\"M3,0A3,3 0 1,1 0,-3A3,3 0 0,1 3,0Z\" style=\"opacity: 1; stroke-width: 0px; fill: rgb(99, 110, 250); fill-opacity: 1;\"/><path class=\"point\" transform=\"translate(471.62,338.25)\" d=\"M3,0A3,3 0 1,1 0,-3A3,3 0 0,1 3,0Z\" style=\"opacity: 1; stroke-width: 0px; fill: rgb(99, 110, 250); fill-opacity: 1;\"/><path class=\"point\" transform=\"translate(472.3,338.25)\" d=\"M3,0A3,3 0 1,1 0,-3A3,3 0 0,1 3,0Z\" style=\"opacity: 1; stroke-width: 0px; fill: rgb(99, 110, 250); fill-opacity: 1;\"/><path class=\"point\" transform=\"translate(472.98,338.25)\" d=\"M3,0A3,3 0 1,1 0,-3A3,3 0 0,1 3,0Z\" style=\"opacity: 1; stroke-width: 0px; fill: rgb(99, 110, 250); fill-opacity: 1;\"/><path class=\"point\" transform=\"translate(473.65,338.25)\" d=\"M3,0A3,3 0 1,1 0,-3A3,3 0 0,1 3,0Z\" style=\"opacity: 1; stroke-width: 0px; fill: rgb(99, 110, 250); fill-opacity: 1;\"/><path class=\"point\" transform=\"translate(474.33,338.25)\" d=\"M3,0A3,3 0 1,1 0,-3A3,3 0 0,1 3,0Z\" style=\"opacity: 1; stroke-width: 0px; fill: rgb(99, 110, 250); fill-opacity: 1;\"/><path class=\"point\" transform=\"translate(475.01,338.25)\" d=\"M3,0A3,3 0 1,1 0,-3A3,3 0 0,1 3,0Z\" style=\"opacity: 1; stroke-width: 0px; fill: rgb(99, 110, 250); fill-opacity: 1;\"/><path class=\"point\" transform=\"translate(475.69,338.25)\" d=\"M3,0A3,3 0 1,1 0,-3A3,3 0 0,1 3,0Z\" style=\"opacity: 1; stroke-width: 0px; fill: rgb(99, 110, 250); fill-opacity: 1;\"/><path class=\"point\" transform=\"translate(476.36,338.25)\" d=\"M3,0A3,3 0 1,1 0,-3A3,3 0 0,1 3,0Z\" style=\"opacity: 1; stroke-width: 0px; fill: rgb(99, 110, 250); fill-opacity: 1;\"/><path class=\"point\" transform=\"translate(477.04,338.25)\" d=\"M3,0A3,3 0 1,1 0,-3A3,3 0 0,1 3,0Z\" style=\"opacity: 1; stroke-width: 0px; fill: rgb(99, 110, 250); fill-opacity: 1;\"/><path class=\"point\" transform=\"translate(477.72,338.25)\" d=\"M3,0A3,3 0 1,1 0,-3A3,3 0 0,1 3,0Z\" style=\"opacity: 1; stroke-width: 0px; fill: rgb(99, 110, 250); fill-opacity: 1;\"/><path class=\"point\" transform=\"translate(478.4,338.25)\" d=\"M3,0A3,3 0 1,1 0,-3A3,3 0 0,1 3,0Z\" style=\"opacity: 1; stroke-width: 0px; fill: rgb(99, 110, 250); fill-opacity: 1;\"/><path class=\"point\" transform=\"translate(479.07,338.25)\" d=\"M3,0A3,3 0 1,1 0,-3A3,3 0 0,1 3,0Z\" style=\"opacity: 1; stroke-width: 0px; fill: rgb(99, 110, 250); fill-opacity: 1;\"/><path class=\"point\" transform=\"translate(479.75,338.25)\" d=\"M3,0A3,3 0 1,1 0,-3A3,3 0 0,1 3,0Z\" style=\"opacity: 1; stroke-width: 0px; fill: rgb(99, 110, 250); fill-opacity: 1;\"/><path class=\"point\" transform=\"translate(480.43,338.25)\" d=\"M3,0A3,3 0 1,1 0,-3A3,3 0 0,1 3,0Z\" style=\"opacity: 1; stroke-width: 0px; fill: rgb(99, 110, 250); fill-opacity: 1;\"/><path class=\"point\" transform=\"translate(481.1,338.25)\" d=\"M3,0A3,3 0 1,1 0,-3A3,3 0 0,1 3,0Z\" style=\"opacity: 1; stroke-width: 0px; fill: rgb(99, 110, 250); fill-opacity: 1;\"/><path class=\"point\" transform=\"translate(481.78,338.25)\" d=\"M3,0A3,3 0 1,1 0,-3A3,3 0 0,1 3,0Z\" style=\"opacity: 1; stroke-width: 0px; fill: rgb(99, 110, 250); fill-opacity: 1;\"/><path class=\"point\" transform=\"translate(482.46,338.25)\" d=\"M3,0A3,3 0 1,1 0,-3A3,3 0 0,1 3,0Z\" style=\"opacity: 1; stroke-width: 0px; fill: rgb(99, 110, 250); fill-opacity: 1;\"/><path class=\"point\" transform=\"translate(483.14,338.25)\" d=\"M3,0A3,3 0 1,1 0,-3A3,3 0 0,1 3,0Z\" style=\"opacity: 1; stroke-width: 0px; fill: rgb(99, 110, 250); fill-opacity: 1;\"/><path class=\"point\" transform=\"translate(483.81,338.25)\" d=\"M3,0A3,3 0 1,1 0,-3A3,3 0 0,1 3,0Z\" style=\"opacity: 1; stroke-width: 0px; fill: rgb(99, 110, 250); fill-opacity: 1;\"/><path class=\"point\" transform=\"translate(484.49,338.25)\" d=\"M3,0A3,3 0 1,1 0,-3A3,3 0 0,1 3,0Z\" style=\"opacity: 1; stroke-width: 0px; fill: rgb(99, 110, 250); fill-opacity: 1;\"/><path class=\"point\" transform=\"translate(485.17,338.25)\" d=\"M3,0A3,3 0 1,1 0,-3A3,3 0 0,1 3,0Z\" style=\"opacity: 1; stroke-width: 0px; fill: rgb(99, 110, 250); fill-opacity: 1;\"/><path class=\"point\" transform=\"translate(485.85,338.25)\" d=\"M3,0A3,3 0 1,1 0,-3A3,3 0 0,1 3,0Z\" style=\"opacity: 1; stroke-width: 0px; fill: rgb(99, 110, 250); fill-opacity: 1;\"/><path class=\"point\" transform=\"translate(486.52,338.25)\" d=\"M3,0A3,3 0 1,1 0,-3A3,3 0 0,1 3,0Z\" style=\"opacity: 1; stroke-width: 0px; fill: rgb(99, 110, 250); fill-opacity: 1;\"/><path class=\"point\" transform=\"translate(487.2,338.25)\" d=\"M3,0A3,3 0 1,1 0,-3A3,3 0 0,1 3,0Z\" style=\"opacity: 1; stroke-width: 0px; fill: rgb(99, 110, 250); fill-opacity: 1;\"/><path class=\"point\" transform=\"translate(487.88,338.25)\" d=\"M3,0A3,3 0 1,1 0,-3A3,3 0 0,1 3,0Z\" style=\"opacity: 1; stroke-width: 0px; fill: rgb(99, 110, 250); fill-opacity: 1;\"/><path class=\"point\" transform=\"translate(488.56,338.25)\" d=\"M3,0A3,3 0 1,1 0,-3A3,3 0 0,1 3,0Z\" style=\"opacity: 1; stroke-width: 0px; fill: rgb(99, 110, 250); fill-opacity: 1;\"/><path class=\"point\" transform=\"translate(489.23,338.25)\" d=\"M3,0A3,3 0 1,1 0,-3A3,3 0 0,1 3,0Z\" style=\"opacity: 1; stroke-width: 0px; fill: rgb(99, 110, 250); fill-opacity: 1;\"/><path class=\"point\" transform=\"translate(489.91,338.25)\" d=\"M3,0A3,3 0 1,1 0,-3A3,3 0 0,1 3,0Z\" style=\"opacity: 1; stroke-width: 0px; fill: rgb(99, 110, 250); fill-opacity: 1;\"/><path class=\"point\" transform=\"translate(490.59,180)\" d=\"M3,0A3,3 0 1,1 0,-3A3,3 0 0,1 3,0Z\" style=\"opacity: 1; stroke-width: 0px; fill: rgb(99, 110, 250); fill-opacity: 1;\"/><path class=\"point\" transform=\"translate(491.27,338.25)\" d=\"M3,0A3,3 0 1,1 0,-3A3,3 0 0,1 3,0Z\" style=\"opacity: 1; stroke-width: 0px; fill: rgb(99, 110, 250); fill-opacity: 1;\"/><path class=\"point\" transform=\"translate(491.94,338.25)\" d=\"M3,0A3,3 0 1,1 0,-3A3,3 0 0,1 3,0Z\" style=\"opacity: 1; stroke-width: 0px; fill: rgb(99, 110, 250); fill-opacity: 1;\"/><path class=\"point\" transform=\"translate(492.62,338.25)\" d=\"M3,0A3,3 0 1,1 0,-3A3,3 0 0,1 3,0Z\" style=\"opacity: 1; stroke-width: 0px; fill: rgb(99, 110, 250); fill-opacity: 1;\"/><path class=\"point\" transform=\"translate(493.3,338.25)\" d=\"M3,0A3,3 0 1,1 0,-3A3,3 0 0,1 3,0Z\" style=\"opacity: 1; stroke-width: 0px; fill: rgb(99, 110, 250); fill-opacity: 1;\"/><path class=\"point\" transform=\"translate(493.98,338.25)\" d=\"M3,0A3,3 0 1,1 0,-3A3,3 0 0,1 3,0Z\" style=\"opacity: 1; stroke-width: 0px; fill: rgb(99, 110, 250); fill-opacity: 1;\"/><path class=\"point\" transform=\"translate(494.65,338.25)\" d=\"M3,0A3,3 0 1,1 0,-3A3,3 0 0,1 3,0Z\" style=\"opacity: 1; stroke-width: 0px; fill: rgb(99, 110, 250); fill-opacity: 1;\"/><path class=\"point\" transform=\"translate(495.33,338.25)\" d=\"M3,0A3,3 0 1,1 0,-3A3,3 0 0,1 3,0Z\" style=\"opacity: 1; stroke-width: 0px; fill: rgb(99, 110, 250); fill-opacity: 1;\"/><path class=\"point\" transform=\"translate(496.01,338.25)\" d=\"M3,0A3,3 0 1,1 0,-3A3,3 0 0,1 3,0Z\" style=\"opacity: 1; stroke-width: 0px; fill: rgb(99, 110, 250); fill-opacity: 1;\"/><path class=\"point\" transform=\"translate(496.69,338.25)\" d=\"M3,0A3,3 0 1,1 0,-3A3,3 0 0,1 3,0Z\" style=\"opacity: 1; stroke-width: 0px; fill: rgb(99, 110, 250); fill-opacity: 1;\"/><path class=\"point\" transform=\"translate(497.36,338.25)\" d=\"M3,0A3,3 0 1,1 0,-3A3,3 0 0,1 3,0Z\" style=\"opacity: 1; stroke-width: 0px; fill: rgb(99, 110, 250); fill-opacity: 1;\"/><path class=\"point\" transform=\"translate(498.04,338.25)\" d=\"M3,0A3,3 0 1,1 0,-3A3,3 0 0,1 3,0Z\" style=\"opacity: 1; stroke-width: 0px; fill: rgb(99, 110, 250); fill-opacity: 1;\"/><path class=\"point\" transform=\"translate(498.72,338.25)\" d=\"M3,0A3,3 0 1,1 0,-3A3,3 0 0,1 3,0Z\" style=\"opacity: 1; stroke-width: 0px; fill: rgb(99, 110, 250); fill-opacity: 1;\"/><path class=\"point\" transform=\"translate(499.4,338.25)\" d=\"M3,0A3,3 0 1,1 0,-3A3,3 0 0,1 3,0Z\" style=\"opacity: 1; stroke-width: 0px; fill: rgb(99, 110, 250); fill-opacity: 1;\"/><path class=\"point\" transform=\"translate(500.07,338.25)\" d=\"M3,0A3,3 0 1,1 0,-3A3,3 0 0,1 3,0Z\" style=\"opacity: 1; stroke-width: 0px; fill: rgb(99, 110, 250); fill-opacity: 1;\"/><path class=\"point\" transform=\"translate(500.75,338.25)\" d=\"M3,0A3,3 0 1,1 0,-3A3,3 0 0,1 3,0Z\" style=\"opacity: 1; stroke-width: 0px; fill: rgb(99, 110, 250); fill-opacity: 1;\"/><path class=\"point\" transform=\"translate(501.43,338.25)\" d=\"M3,0A3,3 0 1,1 0,-3A3,3 0 0,1 3,0Z\" style=\"opacity: 1; stroke-width: 0px; fill: rgb(99, 110, 250); fill-opacity: 1;\"/><path class=\"point\" transform=\"translate(502.11,338.25)\" d=\"M3,0A3,3 0 1,1 0,-3A3,3 0 0,1 3,0Z\" style=\"opacity: 1; stroke-width: 0px; fill: rgb(99, 110, 250); fill-opacity: 1;\"/><path class=\"point\" transform=\"translate(502.78,338.25)\" d=\"M3,0A3,3 0 1,1 0,-3A3,3 0 0,1 3,0Z\" style=\"opacity: 1; stroke-width: 0px; fill: rgb(99, 110, 250); fill-opacity: 1;\"/><path class=\"point\" transform=\"translate(503.46,338.25)\" d=\"M3,0A3,3 0 1,1 0,-3A3,3 0 0,1 3,0Z\" style=\"opacity: 1; stroke-width: 0px; fill: rgb(99, 110, 250); fill-opacity: 1;\"/><path class=\"point\" transform=\"translate(504.14,338.25)\" d=\"M3,0A3,3 0 1,1 0,-3A3,3 0 0,1 3,0Z\" style=\"opacity: 1; stroke-width: 0px; fill: rgb(99, 110, 250); fill-opacity: 1;\"/><path class=\"point\" transform=\"translate(504.82,338.25)\" d=\"M3,0A3,3 0 1,1 0,-3A3,3 0 0,1 3,0Z\" style=\"opacity: 1; stroke-width: 0px; fill: rgb(99, 110, 250); fill-opacity: 1;\"/><path class=\"point\" transform=\"translate(505.49,338.25)\" d=\"M3,0A3,3 0 1,1 0,-3A3,3 0 0,1 3,0Z\" style=\"opacity: 1; stroke-width: 0px; fill: rgb(99, 110, 250); fill-opacity: 1;\"/><path class=\"point\" transform=\"translate(506.17,21.75)\" d=\"M3,0A3,3 0 1,1 0,-3A3,3 0 0,1 3,0Z\" style=\"opacity: 1; stroke-width: 0px; fill: rgb(99, 110, 250); fill-opacity: 1;\"/><path class=\"point\" transform=\"translate(506.85,338.25)\" d=\"M3,0A3,3 0 1,1 0,-3A3,3 0 0,1 3,0Z\" style=\"opacity: 1; stroke-width: 0px; fill: rgb(99, 110, 250); fill-opacity: 1;\"/><path class=\"point\" transform=\"translate(507.53,338.25)\" d=\"M3,0A3,3 0 1,1 0,-3A3,3 0 0,1 3,0Z\" style=\"opacity: 1; stroke-width: 0px; fill: rgb(99, 110, 250); fill-opacity: 1;\"/><path class=\"point\" transform=\"translate(508.2,338.25)\" d=\"M3,0A3,3 0 1,1 0,-3A3,3 0 0,1 3,0Z\" style=\"opacity: 1; stroke-width: 0px; fill: rgb(99, 110, 250); fill-opacity: 1;\"/><path class=\"point\" transform=\"translate(508.88,338.25)\" d=\"M3,0A3,3 0 1,1 0,-3A3,3 0 0,1 3,0Z\" style=\"opacity: 1; stroke-width: 0px; fill: rgb(99, 110, 250); fill-opacity: 1;\"/><path class=\"point\" transform=\"translate(509.56,338.25)\" d=\"M3,0A3,3 0 1,1 0,-3A3,3 0 0,1 3,0Z\" style=\"opacity: 1; stroke-width: 0px; fill: rgb(99, 110, 250); fill-opacity: 1;\"/><path class=\"point\" transform=\"translate(510.24,338.25)\" d=\"M3,0A3,3 0 1,1 0,-3A3,3 0 0,1 3,0Z\" style=\"opacity: 1; stroke-width: 0px; fill: rgb(99, 110, 250); fill-opacity: 1;\"/><path class=\"point\" transform=\"translate(510.91,338.25)\" d=\"M3,0A3,3 0 1,1 0,-3A3,3 0 0,1 3,0Z\" style=\"opacity: 1; stroke-width: 0px; fill: rgb(99, 110, 250); fill-opacity: 1;\"/><path class=\"point\" transform=\"translate(511.59,338.25)\" d=\"M3,0A3,3 0 1,1 0,-3A3,3 0 0,1 3,0Z\" style=\"opacity: 1; stroke-width: 0px; fill: rgb(99, 110, 250); fill-opacity: 1;\"/><path class=\"point\" transform=\"translate(512.27,338.25)\" d=\"M3,0A3,3 0 1,1 0,-3A3,3 0 0,1 3,0Z\" style=\"opacity: 1; stroke-width: 0px; fill: rgb(99, 110, 250); fill-opacity: 1;\"/><path class=\"point\" transform=\"translate(512.95,338.25)\" d=\"M3,0A3,3 0 1,1 0,-3A3,3 0 0,1 3,0Z\" style=\"opacity: 1; stroke-width: 0px; fill: rgb(99, 110, 250); fill-opacity: 1;\"/><path class=\"point\" transform=\"translate(513.62,338.25)\" d=\"M3,0A3,3 0 1,1 0,-3A3,3 0 0,1 3,0Z\" style=\"opacity: 1; stroke-width: 0px; fill: rgb(99, 110, 250); fill-opacity: 1;\"/><path class=\"point\" transform=\"translate(514.3,338.25)\" d=\"M3,0A3,3 0 1,1 0,-3A3,3 0 0,1 3,0Z\" style=\"opacity: 1; stroke-width: 0px; fill: rgb(99, 110, 250); fill-opacity: 1;\"/><path class=\"point\" transform=\"translate(514.98,338.25)\" d=\"M3,0A3,3 0 1,1 0,-3A3,3 0 0,1 3,0Z\" style=\"opacity: 1; stroke-width: 0px; fill: rgb(99, 110, 250); fill-opacity: 1;\"/><path class=\"point\" transform=\"translate(515.66,338.25)\" d=\"M3,0A3,3 0 1,1 0,-3A3,3 0 0,1 3,0Z\" style=\"opacity: 1; stroke-width: 0px; fill: rgb(99, 110, 250); fill-opacity: 1;\"/><path class=\"point\" transform=\"translate(516.33,338.25)\" d=\"M3,0A3,3 0 1,1 0,-3A3,3 0 0,1 3,0Z\" style=\"opacity: 1; stroke-width: 0px; fill: rgb(99, 110, 250); fill-opacity: 1;\"/><path class=\"point\" transform=\"translate(517.01,338.25)\" d=\"M3,0A3,3 0 1,1 0,-3A3,3 0 0,1 3,0Z\" style=\"opacity: 1; stroke-width: 0px; fill: rgb(99, 110, 250); fill-opacity: 1;\"/><path class=\"point\" transform=\"translate(517.69,338.25)\" d=\"M3,0A3,3 0 1,1 0,-3A3,3 0 0,1 3,0Z\" style=\"opacity: 1; stroke-width: 0px; fill: rgb(99, 110, 250); fill-opacity: 1;\"/><path class=\"point\" transform=\"translate(518.37,338.25)\" d=\"M3,0A3,3 0 1,1 0,-3A3,3 0 0,1 3,0Z\" style=\"opacity: 1; stroke-width: 0px; fill: rgb(99, 110, 250); fill-opacity: 1;\"/><path class=\"point\" transform=\"translate(519.04,338.25)\" d=\"M3,0A3,3 0 1,1 0,-3A3,3 0 0,1 3,0Z\" style=\"opacity: 1; stroke-width: 0px; fill: rgb(99, 110, 250); fill-opacity: 1;\"/><path class=\"point\" transform=\"translate(519.72,338.25)\" d=\"M3,0A3,3 0 1,1 0,-3A3,3 0 0,1 3,0Z\" style=\"opacity: 1; stroke-width: 0px; fill: rgb(99, 110, 250); fill-opacity: 1;\"/><path class=\"point\" transform=\"translate(520.4,338.25)\" d=\"M3,0A3,3 0 1,1 0,-3A3,3 0 0,1 3,0Z\" style=\"opacity: 1; stroke-width: 0px; fill: rgb(99, 110, 250); fill-opacity: 1;\"/><path class=\"point\" transform=\"translate(521.08,180)\" d=\"M3,0A3,3 0 1,1 0,-3A3,3 0 0,1 3,0Z\" style=\"opacity: 1; stroke-width: 0px; fill: rgb(99, 110, 250); fill-opacity: 1;\"/><path class=\"point\" transform=\"translate(521.75,338.25)\" d=\"M3,0A3,3 0 1,1 0,-3A3,3 0 0,1 3,0Z\" style=\"opacity: 1; stroke-width: 0px; fill: rgb(99, 110, 250); fill-opacity: 1;\"/><path class=\"point\" transform=\"translate(522.43,338.25)\" d=\"M3,0A3,3 0 1,1 0,-3A3,3 0 0,1 3,0Z\" style=\"opacity: 1; stroke-width: 0px; fill: rgb(99, 110, 250); fill-opacity: 1;\"/><path class=\"point\" transform=\"translate(523.11,338.25)\" d=\"M3,0A3,3 0 1,1 0,-3A3,3 0 0,1 3,0Z\" style=\"opacity: 1; stroke-width: 0px; fill: rgb(99, 110, 250); fill-opacity: 1;\"/><path class=\"point\" transform=\"translate(523.79,338.25)\" d=\"M3,0A3,3 0 1,1 0,-3A3,3 0 0,1 3,0Z\" style=\"opacity: 1; stroke-width: 0px; fill: rgb(99, 110, 250); fill-opacity: 1;\"/><path class=\"point\" transform=\"translate(524.46,338.25)\" d=\"M3,0A3,3 0 1,1 0,-3A3,3 0 0,1 3,0Z\" style=\"opacity: 1; stroke-width: 0px; fill: rgb(99, 110, 250); fill-opacity: 1;\"/><path class=\"point\" transform=\"translate(525.14,338.25)\" d=\"M3,0A3,3 0 1,1 0,-3A3,3 0 0,1 3,0Z\" style=\"opacity: 1; stroke-width: 0px; fill: rgb(99, 110, 250); fill-opacity: 1;\"/><path class=\"point\" transform=\"translate(525.82,338.25)\" d=\"M3,0A3,3 0 1,1 0,-3A3,3 0 0,1 3,0Z\" style=\"opacity: 1; stroke-width: 0px; fill: rgb(99, 110, 250); fill-opacity: 1;\"/><path class=\"point\" transform=\"translate(526.5,338.25)\" d=\"M3,0A3,3 0 1,1 0,-3A3,3 0 0,1 3,0Z\" style=\"opacity: 1; stroke-width: 0px; fill: rgb(99, 110, 250); fill-opacity: 1;\"/><path class=\"point\" transform=\"translate(527.17,338.25)\" d=\"M3,0A3,3 0 1,1 0,-3A3,3 0 0,1 3,0Z\" style=\"opacity: 1; stroke-width: 0px; fill: rgb(99, 110, 250); fill-opacity: 1;\"/><path class=\"point\" transform=\"translate(527.85,338.25)\" d=\"M3,0A3,3 0 1,1 0,-3A3,3 0 0,1 3,0Z\" style=\"opacity: 1; stroke-width: 0px; fill: rgb(99, 110, 250); fill-opacity: 1;\"/><path class=\"point\" transform=\"translate(528.53,338.25)\" d=\"M3,0A3,3 0 1,1 0,-3A3,3 0 0,1 3,0Z\" style=\"opacity: 1; stroke-width: 0px; fill: rgb(99, 110, 250); fill-opacity: 1;\"/><path class=\"point\" transform=\"translate(529.21,338.25)\" d=\"M3,0A3,3 0 1,1 0,-3A3,3 0 0,1 3,0Z\" style=\"opacity: 1; stroke-width: 0px; fill: rgb(99, 110, 250); fill-opacity: 1;\"/><path class=\"point\" transform=\"translate(529.88,338.25)\" d=\"M3,0A3,3 0 1,1 0,-3A3,3 0 0,1 3,0Z\" style=\"opacity: 1; stroke-width: 0px; fill: rgb(99, 110, 250); fill-opacity: 1;\"/><path class=\"point\" transform=\"translate(530.56,338.25)\" d=\"M3,0A3,3 0 1,1 0,-3A3,3 0 0,1 3,0Z\" style=\"opacity: 1; stroke-width: 0px; fill: rgb(99, 110, 250); fill-opacity: 1;\"/><path class=\"point\" transform=\"translate(531.24,338.25)\" d=\"M3,0A3,3 0 1,1 0,-3A3,3 0 0,1 3,0Z\" style=\"opacity: 1; stroke-width: 0px; fill: rgb(99, 110, 250); fill-opacity: 1;\"/><path class=\"point\" transform=\"translate(531.92,338.25)\" d=\"M3,0A3,3 0 1,1 0,-3A3,3 0 0,1 3,0Z\" style=\"opacity: 1; stroke-width: 0px; fill: rgb(99, 110, 250); fill-opacity: 1;\"/><path class=\"point\" transform=\"translate(532.59,338.25)\" d=\"M3,0A3,3 0 1,1 0,-3A3,3 0 0,1 3,0Z\" style=\"opacity: 1; stroke-width: 0px; fill: rgb(99, 110, 250); fill-opacity: 1;\"/><path class=\"point\" transform=\"translate(533.27,338.25)\" d=\"M3,0A3,3 0 1,1 0,-3A3,3 0 0,1 3,0Z\" style=\"opacity: 1; stroke-width: 0px; fill: rgb(99, 110, 250); fill-opacity: 1;\"/><path class=\"point\" transform=\"translate(533.95,338.25)\" d=\"M3,0A3,3 0 1,1 0,-3A3,3 0 0,1 3,0Z\" style=\"opacity: 1; stroke-width: 0px; fill: rgb(99, 110, 250); fill-opacity: 1;\"/><path class=\"point\" transform=\"translate(534.63,338.25)\" d=\"M3,0A3,3 0 1,1 0,-3A3,3 0 0,1 3,0Z\" style=\"opacity: 1; stroke-width: 0px; fill: rgb(99, 110, 250); fill-opacity: 1;\"/><path class=\"point\" transform=\"translate(535.3,338.25)\" d=\"M3,0A3,3 0 1,1 0,-3A3,3 0 0,1 3,0Z\" style=\"opacity: 1; stroke-width: 0px; fill: rgb(99, 110, 250); fill-opacity: 1;\"/><path class=\"point\" transform=\"translate(535.98,338.25)\" d=\"M3,0A3,3 0 1,1 0,-3A3,3 0 0,1 3,0Z\" style=\"opacity: 1; stroke-width: 0px; fill: rgb(99, 110, 250); fill-opacity: 1;\"/><path class=\"point\" transform=\"translate(536.66,338.25)\" d=\"M3,0A3,3 0 1,1 0,-3A3,3 0 0,1 3,0Z\" style=\"opacity: 1; stroke-width: 0px; fill: rgb(99, 110, 250); fill-opacity: 1;\"/><path class=\"point\" transform=\"translate(537.33,338.25)\" d=\"M3,0A3,3 0 1,1 0,-3A3,3 0 0,1 3,0Z\" style=\"opacity: 1; stroke-width: 0px; fill: rgb(99, 110, 250); fill-opacity: 1;\"/><path class=\"point\" transform=\"translate(538.01,338.25)\" d=\"M3,0A3,3 0 1,1 0,-3A3,3 0 0,1 3,0Z\" style=\"opacity: 1; stroke-width: 0px; fill: rgb(99, 110, 250); fill-opacity: 1;\"/><path class=\"point\" transform=\"translate(538.69,338.25)\" d=\"M3,0A3,3 0 1,1 0,-3A3,3 0 0,1 3,0Z\" style=\"opacity: 1; stroke-width: 0px; fill: rgb(99, 110, 250); fill-opacity: 1;\"/><path class=\"point\" transform=\"translate(539.37,338.25)\" d=\"M3,0A3,3 0 1,1 0,-3A3,3 0 0,1 3,0Z\" style=\"opacity: 1; stroke-width: 0px; fill: rgb(99, 110, 250); fill-opacity: 1;\"/><path class=\"point\" transform=\"translate(540.04,338.25)\" d=\"M3,0A3,3 0 1,1 0,-3A3,3 0 0,1 3,0Z\" style=\"opacity: 1; stroke-width: 0px; fill: rgb(99, 110, 250); fill-opacity: 1;\"/><path class=\"point\" transform=\"translate(540.72,338.25)\" d=\"M3,0A3,3 0 1,1 0,-3A3,3 0 0,1 3,0Z\" style=\"opacity: 1; stroke-width: 0px; fill: rgb(99, 110, 250); fill-opacity: 1;\"/><path class=\"point\" transform=\"translate(541.4,338.25)\" d=\"M3,0A3,3 0 1,1 0,-3A3,3 0 0,1 3,0Z\" style=\"opacity: 1; stroke-width: 0px; fill: rgb(99, 110, 250); fill-opacity: 1;\"/><path class=\"point\" transform=\"translate(542.08,338.25)\" d=\"M3,0A3,3 0 1,1 0,-3A3,3 0 0,1 3,0Z\" style=\"opacity: 1; stroke-width: 0px; fill: rgb(99, 110, 250); fill-opacity: 1;\"/><path class=\"point\" transform=\"translate(542.75,338.25)\" d=\"M3,0A3,3 0 1,1 0,-3A3,3 0 0,1 3,0Z\" style=\"opacity: 1; stroke-width: 0px; fill: rgb(99, 110, 250); fill-opacity: 1;\"/><path class=\"point\" transform=\"translate(543.43,338.25)\" d=\"M3,0A3,3 0 1,1 0,-3A3,3 0 0,1 3,0Z\" style=\"opacity: 1; stroke-width: 0px; fill: rgb(99, 110, 250); fill-opacity: 1;\"/><path class=\"point\" transform=\"translate(544.11,338.25)\" d=\"M3,0A3,3 0 1,1 0,-3A3,3 0 0,1 3,0Z\" style=\"opacity: 1; stroke-width: 0px; fill: rgb(99, 110, 250); fill-opacity: 1;\"/><path class=\"point\" transform=\"translate(544.79,338.25)\" d=\"M3,0A3,3 0 1,1 0,-3A3,3 0 0,1 3,0Z\" style=\"opacity: 1; stroke-width: 0px; fill: rgb(99, 110, 250); fill-opacity: 1;\"/><path class=\"point\" transform=\"translate(545.46,338.25)\" d=\"M3,0A3,3 0 1,1 0,-3A3,3 0 0,1 3,0Z\" style=\"opacity: 1; stroke-width: 0px; fill: rgb(99, 110, 250); fill-opacity: 1;\"/><path class=\"point\" transform=\"translate(546.14,338.25)\" d=\"M3,0A3,3 0 1,1 0,-3A3,3 0 0,1 3,0Z\" style=\"opacity: 1; stroke-width: 0px; fill: rgb(99, 110, 250); fill-opacity: 1;\"/><path class=\"point\" transform=\"translate(546.82,338.25)\" d=\"M3,0A3,3 0 1,1 0,-3A3,3 0 0,1 3,0Z\" style=\"opacity: 1; stroke-width: 0px; fill: rgb(99, 110, 250); fill-opacity: 1;\"/><path class=\"point\" transform=\"translate(547.5,338.25)\" d=\"M3,0A3,3 0 1,1 0,-3A3,3 0 0,1 3,0Z\" style=\"opacity: 1; stroke-width: 0px; fill: rgb(99, 110, 250); fill-opacity: 1;\"/><path class=\"point\" transform=\"translate(548.17,338.25)\" d=\"M3,0A3,3 0 1,1 0,-3A3,3 0 0,1 3,0Z\" style=\"opacity: 1; stroke-width: 0px; fill: rgb(99, 110, 250); fill-opacity: 1;\"/><path class=\"point\" transform=\"translate(548.85,338.25)\" d=\"M3,0A3,3 0 1,1 0,-3A3,3 0 0,1 3,0Z\" style=\"opacity: 1; stroke-width: 0px; fill: rgb(99, 110, 250); fill-opacity: 1;\"/><path class=\"point\" transform=\"translate(549.53,338.25)\" d=\"M3,0A3,3 0 1,1 0,-3A3,3 0 0,1 3,0Z\" style=\"opacity: 1; stroke-width: 0px; fill: rgb(99, 110, 250); fill-opacity: 1;\"/><path class=\"point\" transform=\"translate(550.21,338.25)\" d=\"M3,0A3,3 0 1,1 0,-3A3,3 0 0,1 3,0Z\" style=\"opacity: 1; stroke-width: 0px; fill: rgb(99, 110, 250); fill-opacity: 1;\"/><path class=\"point\" transform=\"translate(550.88,338.25)\" d=\"M3,0A3,3 0 1,1 0,-3A3,3 0 0,1 3,0Z\" style=\"opacity: 1; stroke-width: 0px; fill: rgb(99, 110, 250); fill-opacity: 1;\"/><path class=\"point\" transform=\"translate(551.56,338.25)\" d=\"M3,0A3,3 0 1,1 0,-3A3,3 0 0,1 3,0Z\" style=\"opacity: 1; stroke-width: 0px; fill: rgb(99, 110, 250); fill-opacity: 1;\"/><path class=\"point\" transform=\"translate(552.24,338.25)\" d=\"M3,0A3,3 0 1,1 0,-3A3,3 0 0,1 3,0Z\" style=\"opacity: 1; stroke-width: 0px; fill: rgb(99, 110, 250); fill-opacity: 1;\"/><path class=\"point\" transform=\"translate(552.92,338.25)\" d=\"M3,0A3,3 0 1,1 0,-3A3,3 0 0,1 3,0Z\" style=\"opacity: 1; stroke-width: 0px; fill: rgb(99, 110, 250); fill-opacity: 1;\"/><path class=\"point\" transform=\"translate(553.59,338.25)\" d=\"M3,0A3,3 0 1,1 0,-3A3,3 0 0,1 3,0Z\" style=\"opacity: 1; stroke-width: 0px; fill: rgb(99, 110, 250); fill-opacity: 1;\"/><path class=\"point\" transform=\"translate(554.27,338.25)\" d=\"M3,0A3,3 0 1,1 0,-3A3,3 0 0,1 3,0Z\" style=\"opacity: 1; stroke-width: 0px; fill: rgb(99, 110, 250); fill-opacity: 1;\"/><path class=\"point\" transform=\"translate(554.95,338.25)\" d=\"M3,0A3,3 0 1,1 0,-3A3,3 0 0,1 3,0Z\" style=\"opacity: 1; stroke-width: 0px; fill: rgb(99, 110, 250); fill-opacity: 1;\"/><path class=\"point\" transform=\"translate(555.63,338.25)\" d=\"M3,0A3,3 0 1,1 0,-3A3,3 0 0,1 3,0Z\" style=\"opacity: 1; stroke-width: 0px; fill: rgb(99, 110, 250); fill-opacity: 1;\"/><path class=\"point\" transform=\"translate(556.3,338.25)\" d=\"M3,0A3,3 0 1,1 0,-3A3,3 0 0,1 3,0Z\" style=\"opacity: 1; stroke-width: 0px; fill: rgb(99, 110, 250); fill-opacity: 1;\"/><path class=\"point\" transform=\"translate(556.98,338.25)\" d=\"M3,0A3,3 0 1,1 0,-3A3,3 0 0,1 3,0Z\" style=\"opacity: 1; stroke-width: 0px; fill: rgb(99, 110, 250); fill-opacity: 1;\"/><path class=\"point\" transform=\"translate(557.66,338.25)\" d=\"M3,0A3,3 0 1,1 0,-3A3,3 0 0,1 3,0Z\" style=\"opacity: 1; stroke-width: 0px; fill: rgb(99, 110, 250); fill-opacity: 1;\"/><path class=\"point\" transform=\"translate(558.34,338.25)\" d=\"M3,0A3,3 0 1,1 0,-3A3,3 0 0,1 3,0Z\" style=\"opacity: 1; stroke-width: 0px; fill: rgb(99, 110, 250); fill-opacity: 1;\"/><path class=\"point\" transform=\"translate(559.01,338.25)\" d=\"M3,0A3,3 0 1,1 0,-3A3,3 0 0,1 3,0Z\" style=\"opacity: 1; stroke-width: 0px; fill: rgb(99, 110, 250); fill-opacity: 1;\"/><path class=\"point\" transform=\"translate(559.69,338.25)\" d=\"M3,0A3,3 0 1,1 0,-3A3,3 0 0,1 3,0Z\" style=\"opacity: 1; stroke-width: 0px; fill: rgb(99, 110, 250); fill-opacity: 1;\"/><path class=\"point\" transform=\"translate(560.37,338.25)\" d=\"M3,0A3,3 0 1,1 0,-3A3,3 0 0,1 3,0Z\" style=\"opacity: 1; stroke-width: 0px; fill: rgb(99, 110, 250); fill-opacity: 1;\"/><path class=\"point\" transform=\"translate(561.05,338.25)\" d=\"M3,0A3,3 0 1,1 0,-3A3,3 0 0,1 3,0Z\" style=\"opacity: 1; stroke-width: 0px; fill: rgb(99, 110, 250); fill-opacity: 1;\"/><path class=\"point\" transform=\"translate(561.72,338.25)\" d=\"M3,0A3,3 0 1,1 0,-3A3,3 0 0,1 3,0Z\" style=\"opacity: 1; stroke-width: 0px; fill: rgb(99, 110, 250); fill-opacity: 1;\"/><path class=\"point\" transform=\"translate(562.4,338.25)\" d=\"M3,0A3,3 0 1,1 0,-3A3,3 0 0,1 3,0Z\" style=\"opacity: 1; stroke-width: 0px; fill: rgb(99, 110, 250); fill-opacity: 1;\"/><path class=\"point\" transform=\"translate(563.08,338.25)\" d=\"M3,0A3,3 0 1,1 0,-3A3,3 0 0,1 3,0Z\" style=\"opacity: 1; stroke-width: 0px; fill: rgb(99, 110, 250); fill-opacity: 1;\"/><path class=\"point\" transform=\"translate(563.76,338.25)\" d=\"M3,0A3,3 0 1,1 0,-3A3,3 0 0,1 3,0Z\" style=\"opacity: 1; stroke-width: 0px; fill: rgb(99, 110, 250); fill-opacity: 1;\"/><path class=\"point\" transform=\"translate(564.43,338.25)\" d=\"M3,0A3,3 0 1,1 0,-3A3,3 0 0,1 3,0Z\" style=\"opacity: 1; stroke-width: 0px; fill: rgb(99, 110, 250); fill-opacity: 1;\"/><path class=\"point\" transform=\"translate(565.11,338.25)\" d=\"M3,0A3,3 0 1,1 0,-3A3,3 0 0,1 3,0Z\" style=\"opacity: 1; stroke-width: 0px; fill: rgb(99, 110, 250); fill-opacity: 1;\"/><path class=\"point\" transform=\"translate(565.79,338.25)\" d=\"M3,0A3,3 0 1,1 0,-3A3,3 0 0,1 3,0Z\" style=\"opacity: 1; stroke-width: 0px; fill: rgb(99, 110, 250); fill-opacity: 1;\"/><path class=\"point\" transform=\"translate(566.47,338.25)\" d=\"M3,0A3,3 0 1,1 0,-3A3,3 0 0,1 3,0Z\" style=\"opacity: 1; stroke-width: 0px; fill: rgb(99, 110, 250); fill-opacity: 1;\"/><path class=\"point\" transform=\"translate(567.14,338.25)\" d=\"M3,0A3,3 0 1,1 0,-3A3,3 0 0,1 3,0Z\" style=\"opacity: 1; stroke-width: 0px; fill: rgb(99, 110, 250); fill-opacity: 1;\"/><path class=\"point\" transform=\"translate(567.82,338.25)\" d=\"M3,0A3,3 0 1,1 0,-3A3,3 0 0,1 3,0Z\" style=\"opacity: 1; stroke-width: 0px; fill: rgb(99, 110, 250); fill-opacity: 1;\"/><path class=\"point\" transform=\"translate(568.5,338.25)\" d=\"M3,0A3,3 0 1,1 0,-3A3,3 0 0,1 3,0Z\" style=\"opacity: 1; stroke-width: 0px; fill: rgb(99, 110, 250); fill-opacity: 1;\"/><path class=\"point\" transform=\"translate(569.18,180)\" d=\"M3,0A3,3 0 1,1 0,-3A3,3 0 0,1 3,0Z\" style=\"opacity: 1; stroke-width: 0px; fill: rgb(99, 110, 250); fill-opacity: 1;\"/><path class=\"point\" transform=\"translate(569.85,338.25)\" d=\"M3,0A3,3 0 1,1 0,-3A3,3 0 0,1 3,0Z\" style=\"opacity: 1; stroke-width: 0px; fill: rgb(99, 110, 250); fill-opacity: 1;\"/><path class=\"point\" transform=\"translate(570.53,338.25)\" d=\"M3,0A3,3 0 1,1 0,-3A3,3 0 0,1 3,0Z\" style=\"opacity: 1; stroke-width: 0px; fill: rgb(99, 110, 250); fill-opacity: 1;\"/><path class=\"point\" transform=\"translate(571.21,338.25)\" d=\"M3,0A3,3 0 1,1 0,-3A3,3 0 0,1 3,0Z\" style=\"opacity: 1; stroke-width: 0px; fill: rgb(99, 110, 250); fill-opacity: 1;\"/><path class=\"point\" transform=\"translate(571.89,338.25)\" d=\"M3,0A3,3 0 1,1 0,-3A3,3 0 0,1 3,0Z\" style=\"opacity: 1; stroke-width: 0px; fill: rgb(99, 110, 250); fill-opacity: 1;\"/><path class=\"point\" transform=\"translate(572.56,338.25)\" d=\"M3,0A3,3 0 1,1 0,-3A3,3 0 0,1 3,0Z\" style=\"opacity: 1; stroke-width: 0px; fill: rgb(99, 110, 250); fill-opacity: 1;\"/><path class=\"point\" transform=\"translate(573.24,338.25)\" d=\"M3,0A3,3 0 1,1 0,-3A3,3 0 0,1 3,0Z\" style=\"opacity: 1; stroke-width: 0px; fill: rgb(99, 110, 250); fill-opacity: 1;\"/><path class=\"point\" transform=\"translate(573.92,180)\" d=\"M3,0A3,3 0 1,1 0,-3A3,3 0 0,1 3,0Z\" style=\"opacity: 1; stroke-width: 0px; fill: rgb(99, 110, 250); fill-opacity: 1;\"/><path class=\"point\" transform=\"translate(574.6,338.25)\" d=\"M3,0A3,3 0 1,1 0,-3A3,3 0 0,1 3,0Z\" style=\"opacity: 1; stroke-width: 0px; fill: rgb(99, 110, 250); fill-opacity: 1;\"/><path class=\"point\" transform=\"translate(575.27,338.25)\" d=\"M3,0A3,3 0 1,1 0,-3A3,3 0 0,1 3,0Z\" style=\"opacity: 1; stroke-width: 0px; fill: rgb(99, 110, 250); fill-opacity: 1;\"/><path class=\"point\" transform=\"translate(575.95,338.25)\" d=\"M3,0A3,3 0 1,1 0,-3A3,3 0 0,1 3,0Z\" style=\"opacity: 1; stroke-width: 0px; fill: rgb(99, 110, 250); fill-opacity: 1;\"/><path class=\"point\" transform=\"translate(576.63,338.25)\" d=\"M3,0A3,3 0 1,1 0,-3A3,3 0 0,1 3,0Z\" style=\"opacity: 1; stroke-width: 0px; fill: rgb(99, 110, 250); fill-opacity: 1;\"/><path class=\"point\" transform=\"translate(577.31,180)\" d=\"M3,0A3,3 0 1,1 0,-3A3,3 0 0,1 3,0Z\" style=\"opacity: 1; stroke-width: 0px; fill: rgb(99, 110, 250); fill-opacity: 1;\"/><path class=\"point\" transform=\"translate(577.98,338.25)\" d=\"M3,0A3,3 0 1,1 0,-3A3,3 0 0,1 3,0Z\" style=\"opacity: 1; stroke-width: 0px; fill: rgb(99, 110, 250); fill-opacity: 1;\"/><path class=\"point\" transform=\"translate(578.66,338.25)\" d=\"M3,0A3,3 0 1,1 0,-3A3,3 0 0,1 3,0Z\" style=\"opacity: 1; stroke-width: 0px; fill: rgb(99, 110, 250); fill-opacity: 1;\"/><path class=\"point\" transform=\"translate(579.34,338.25)\" d=\"M3,0A3,3 0 1,1 0,-3A3,3 0 0,1 3,0Z\" style=\"opacity: 1; stroke-width: 0px; fill: rgb(99, 110, 250); fill-opacity: 1;\"/><path class=\"point\" transform=\"translate(580.02,338.25)\" d=\"M3,0A3,3 0 1,1 0,-3A3,3 0 0,1 3,0Z\" style=\"opacity: 1; stroke-width: 0px; fill: rgb(99, 110, 250); fill-opacity: 1;\"/><path class=\"point\" transform=\"translate(580.69,338.25)\" d=\"M3,0A3,3 0 1,1 0,-3A3,3 0 0,1 3,0Z\" style=\"opacity: 1; stroke-width: 0px; fill: rgb(99, 110, 250); fill-opacity: 1;\"/><path class=\"point\" transform=\"translate(581.37,338.25)\" d=\"M3,0A3,3 0 1,1 0,-3A3,3 0 0,1 3,0Z\" style=\"opacity: 1; stroke-width: 0px; fill: rgb(99, 110, 250); fill-opacity: 1;\"/><path class=\"point\" transform=\"translate(582.05,338.25)\" d=\"M3,0A3,3 0 1,1 0,-3A3,3 0 0,1 3,0Z\" style=\"opacity: 1; stroke-width: 0px; fill: rgb(99, 110, 250); fill-opacity: 1;\"/><path class=\"point\" transform=\"translate(582.73,338.25)\" d=\"M3,0A3,3 0 1,1 0,-3A3,3 0 0,1 3,0Z\" style=\"opacity: 1; stroke-width: 0px; fill: rgb(99, 110, 250); fill-opacity: 1;\"/><path class=\"point\" transform=\"translate(583.4,338.25)\" d=\"M3,0A3,3 0 1,1 0,-3A3,3 0 0,1 3,0Z\" style=\"opacity: 1; stroke-width: 0px; fill: rgb(99, 110, 250); fill-opacity: 1;\"/><path class=\"point\" transform=\"translate(584.08,338.25)\" d=\"M3,0A3,3 0 1,1 0,-3A3,3 0 0,1 3,0Z\" style=\"opacity: 1; stroke-width: 0px; fill: rgb(99, 110, 250); fill-opacity: 1;\"/><path class=\"point\" transform=\"translate(584.76,338.25)\" d=\"M3,0A3,3 0 1,1 0,-3A3,3 0 0,1 3,0Z\" style=\"opacity: 1; stroke-width: 0px; fill: rgb(99, 110, 250); fill-opacity: 1;\"/><path class=\"point\" transform=\"translate(585.44,338.25)\" d=\"M3,0A3,3 0 1,1 0,-3A3,3 0 0,1 3,0Z\" style=\"opacity: 1; stroke-width: 0px; fill: rgb(99, 110, 250); fill-opacity: 1;\"/><path class=\"point\" transform=\"translate(586.11,338.25)\" d=\"M3,0A3,3 0 1,1 0,-3A3,3 0 0,1 3,0Z\" style=\"opacity: 1; stroke-width: 0px; fill: rgb(99, 110, 250); fill-opacity: 1;\"/><path class=\"point\" transform=\"translate(586.79,338.25)\" d=\"M3,0A3,3 0 1,1 0,-3A3,3 0 0,1 3,0Z\" style=\"opacity: 1; stroke-width: 0px; fill: rgb(99, 110, 250); fill-opacity: 1;\"/><path class=\"point\" transform=\"translate(587.47,180)\" d=\"M3,0A3,3 0 1,1 0,-3A3,3 0 0,1 3,0Z\" style=\"opacity: 1; stroke-width: 0px; fill: rgb(99, 110, 250); fill-opacity: 1;\"/><path class=\"point\" transform=\"translate(588.15,338.25)\" d=\"M3,0A3,3 0 1,1 0,-3A3,3 0 0,1 3,0Z\" style=\"opacity: 1; stroke-width: 0px; fill: rgb(99, 110, 250); fill-opacity: 1;\"/><path class=\"point\" transform=\"translate(588.82,338.25)\" d=\"M3,0A3,3 0 1,1 0,-3A3,3 0 0,1 3,0Z\" style=\"opacity: 1; stroke-width: 0px; fill: rgb(99, 110, 250); fill-opacity: 1;\"/><path class=\"point\" transform=\"translate(589.5,338.25)\" d=\"M3,0A3,3 0 1,1 0,-3A3,3 0 0,1 3,0Z\" style=\"opacity: 1; stroke-width: 0px; fill: rgb(99, 110, 250); fill-opacity: 1;\"/><path class=\"point\" transform=\"translate(590.18,338.25)\" d=\"M3,0A3,3 0 1,1 0,-3A3,3 0 0,1 3,0Z\" style=\"opacity: 1; stroke-width: 0px; fill: rgb(99, 110, 250); fill-opacity: 1;\"/><path class=\"point\" transform=\"translate(590.85,338.25)\" d=\"M3,0A3,3 0 1,1 0,-3A3,3 0 0,1 3,0Z\" style=\"opacity: 1; stroke-width: 0px; fill: rgb(99, 110, 250); fill-opacity: 1;\"/><path class=\"point\" transform=\"translate(591.53,338.25)\" d=\"M3,0A3,3 0 1,1 0,-3A3,3 0 0,1 3,0Z\" style=\"opacity: 1; stroke-width: 0px; fill: rgb(99, 110, 250); fill-opacity: 1;\"/><path class=\"point\" transform=\"translate(592.21,338.25)\" d=\"M3,0A3,3 0 1,1 0,-3A3,3 0 0,1 3,0Z\" style=\"opacity: 1; stroke-width: 0px; fill: rgb(99, 110, 250); fill-opacity: 1;\"/><path class=\"point\" transform=\"translate(592.89,338.25)\" d=\"M3,0A3,3 0 1,1 0,-3A3,3 0 0,1 3,0Z\" style=\"opacity: 1; stroke-width: 0px; fill: rgb(99, 110, 250); fill-opacity: 1;\"/><path class=\"point\" transform=\"translate(593.56,338.25)\" d=\"M3,0A3,3 0 1,1 0,-3A3,3 0 0,1 3,0Z\" style=\"opacity: 1; stroke-width: 0px; fill: rgb(99, 110, 250); fill-opacity: 1;\"/><path class=\"point\" transform=\"translate(594.24,338.25)\" d=\"M3,0A3,3 0 1,1 0,-3A3,3 0 0,1 3,0Z\" style=\"opacity: 1; stroke-width: 0px; fill: rgb(99, 110, 250); fill-opacity: 1;\"/><path class=\"point\" transform=\"translate(594.92,338.25)\" d=\"M3,0A3,3 0 1,1 0,-3A3,3 0 0,1 3,0Z\" style=\"opacity: 1; stroke-width: 0px; fill: rgb(99, 110, 250); fill-opacity: 1;\"/><path class=\"point\" transform=\"translate(595.6,338.25)\" d=\"M3,0A3,3 0 1,1 0,-3A3,3 0 0,1 3,0Z\" style=\"opacity: 1; stroke-width: 0px; fill: rgb(99, 110, 250); fill-opacity: 1;\"/><path class=\"point\" transform=\"translate(596.27,338.25)\" d=\"M3,0A3,3 0 1,1 0,-3A3,3 0 0,1 3,0Z\" style=\"opacity: 1; stroke-width: 0px; fill: rgb(99, 110, 250); fill-opacity: 1;\"/><path class=\"point\" transform=\"translate(596.95,338.25)\" d=\"M3,0A3,3 0 1,1 0,-3A3,3 0 0,1 3,0Z\" style=\"opacity: 1; stroke-width: 0px; fill: rgb(99, 110, 250); fill-opacity: 1;\"/><path class=\"point\" transform=\"translate(597.63,338.25)\" d=\"M3,0A3,3 0 1,1 0,-3A3,3 0 0,1 3,0Z\" style=\"opacity: 1; stroke-width: 0px; fill: rgb(99, 110, 250); fill-opacity: 1;\"/><path class=\"point\" transform=\"translate(598.31,338.25)\" d=\"M3,0A3,3 0 1,1 0,-3A3,3 0 0,1 3,0Z\" style=\"opacity: 1; stroke-width: 0px; fill: rgb(99, 110, 250); fill-opacity: 1;\"/><path class=\"point\" transform=\"translate(598.98,338.25)\" d=\"M3,0A3,3 0 1,1 0,-3A3,3 0 0,1 3,0Z\" style=\"opacity: 1; stroke-width: 0px; fill: rgb(99, 110, 250); fill-opacity: 1;\"/><path class=\"point\" transform=\"translate(599.66,338.25)\" d=\"M3,0A3,3 0 1,1 0,-3A3,3 0 0,1 3,0Z\" style=\"opacity: 1; stroke-width: 0px; fill: rgb(99, 110, 250); fill-opacity: 1;\"/><path class=\"point\" transform=\"translate(600.34,338.25)\" d=\"M3,0A3,3 0 1,1 0,-3A3,3 0 0,1 3,0Z\" style=\"opacity: 1; stroke-width: 0px; fill: rgb(99, 110, 250); fill-opacity: 1;\"/><path class=\"point\" transform=\"translate(601.02,338.25)\" d=\"M3,0A3,3 0 1,1 0,-3A3,3 0 0,1 3,0Z\" style=\"opacity: 1; stroke-width: 0px; fill: rgb(99, 110, 250); fill-opacity: 1;\"/><path class=\"point\" transform=\"translate(601.69,338.25)\" d=\"M3,0A3,3 0 1,1 0,-3A3,3 0 0,1 3,0Z\" style=\"opacity: 1; stroke-width: 0px; fill: rgb(99, 110, 250); fill-opacity: 1;\"/><path class=\"point\" transform=\"translate(602.37,338.25)\" d=\"M3,0A3,3 0 1,1 0,-3A3,3 0 0,1 3,0Z\" style=\"opacity: 1; stroke-width: 0px; fill: rgb(99, 110, 250); fill-opacity: 1;\"/><path class=\"point\" transform=\"translate(603.05,338.25)\" d=\"M3,0A3,3 0 1,1 0,-3A3,3 0 0,1 3,0Z\" style=\"opacity: 1; stroke-width: 0px; fill: rgb(99, 110, 250); fill-opacity: 1;\"/><path class=\"point\" transform=\"translate(603.73,338.25)\" d=\"M3,0A3,3 0 1,1 0,-3A3,3 0 0,1 3,0Z\" style=\"opacity: 1; stroke-width: 0px; fill: rgb(99, 110, 250); fill-opacity: 1;\"/><path class=\"point\" transform=\"translate(604.4,338.25)\" d=\"M3,0A3,3 0 1,1 0,-3A3,3 0 0,1 3,0Z\" style=\"opacity: 1; stroke-width: 0px; fill: rgb(99, 110, 250); fill-opacity: 1;\"/><path class=\"point\" transform=\"translate(605.08,338.25)\" d=\"M3,0A3,3 0 1,1 0,-3A3,3 0 0,1 3,0Z\" style=\"opacity: 1; stroke-width: 0px; fill: rgb(99, 110, 250); fill-opacity: 1;\"/><path class=\"point\" transform=\"translate(605.76,338.25)\" d=\"M3,0A3,3 0 1,1 0,-3A3,3 0 0,1 3,0Z\" style=\"opacity: 1; stroke-width: 0px; fill: rgb(99, 110, 250); fill-opacity: 1;\"/><path class=\"point\" transform=\"translate(606.44,338.25)\" d=\"M3,0A3,3 0 1,1 0,-3A3,3 0 0,1 3,0Z\" style=\"opacity: 1; stroke-width: 0px; fill: rgb(99, 110, 250); fill-opacity: 1;\"/><path class=\"point\" transform=\"translate(607.11,338.25)\" d=\"M3,0A3,3 0 1,1 0,-3A3,3 0 0,1 3,0Z\" style=\"opacity: 1; stroke-width: 0px; fill: rgb(99, 110, 250); fill-opacity: 1;\"/><path class=\"point\" transform=\"translate(607.79,338.25)\" d=\"M3,0A3,3 0 1,1 0,-3A3,3 0 0,1 3,0Z\" style=\"opacity: 1; stroke-width: 0px; fill: rgb(99, 110, 250); fill-opacity: 1;\"/><path class=\"point\" transform=\"translate(608.47,338.25)\" d=\"M3,0A3,3 0 1,1 0,-3A3,3 0 0,1 3,0Z\" style=\"opacity: 1; stroke-width: 0px; fill: rgb(99, 110, 250); fill-opacity: 1;\"/><path class=\"point\" transform=\"translate(609.15,338.25)\" d=\"M3,0A3,3 0 1,1 0,-3A3,3 0 0,1 3,0Z\" style=\"opacity: 1; stroke-width: 0px; fill: rgb(99, 110, 250); fill-opacity: 1;\"/><path class=\"point\" transform=\"translate(609.82,338.25)\" d=\"M3,0A3,3 0 1,1 0,-3A3,3 0 0,1 3,0Z\" style=\"opacity: 1; stroke-width: 0px; fill: rgb(99, 110, 250); fill-opacity: 1;\"/><path class=\"point\" transform=\"translate(610.5,338.25)\" d=\"M3,0A3,3 0 1,1 0,-3A3,3 0 0,1 3,0Z\" style=\"opacity: 1; stroke-width: 0px; fill: rgb(99, 110, 250); fill-opacity: 1;\"/><path class=\"point\" transform=\"translate(611.18,338.25)\" d=\"M3,0A3,3 0 1,1 0,-3A3,3 0 0,1 3,0Z\" style=\"opacity: 1; stroke-width: 0px; fill: rgb(99, 110, 250); fill-opacity: 1;\"/><path class=\"point\" transform=\"translate(611.86,338.25)\" d=\"M3,0A3,3 0 1,1 0,-3A3,3 0 0,1 3,0Z\" style=\"opacity: 1; stroke-width: 0px; fill: rgb(99, 110, 250); fill-opacity: 1;\"/><path class=\"point\" transform=\"translate(612.53,338.25)\" d=\"M3,0A3,3 0 1,1 0,-3A3,3 0 0,1 3,0Z\" style=\"opacity: 1; stroke-width: 0px; fill: rgb(99, 110, 250); fill-opacity: 1;\"/><path class=\"point\" transform=\"translate(613.21,338.25)\" d=\"M3,0A3,3 0 1,1 0,-3A3,3 0 0,1 3,0Z\" style=\"opacity: 1; stroke-width: 0px; fill: rgb(99, 110, 250); fill-opacity: 1;\"/><path class=\"point\" transform=\"translate(613.89,338.25)\" d=\"M3,0A3,3 0 1,1 0,-3A3,3 0 0,1 3,0Z\" style=\"opacity: 1; stroke-width: 0px; fill: rgb(99, 110, 250); fill-opacity: 1;\"/><path class=\"point\" transform=\"translate(614.57,338.25)\" d=\"M3,0A3,3 0 1,1 0,-3A3,3 0 0,1 3,0Z\" style=\"opacity: 1; stroke-width: 0px; fill: rgb(99, 110, 250); fill-opacity: 1;\"/><path class=\"point\" transform=\"translate(615.24,338.25)\" d=\"M3,0A3,3 0 1,1 0,-3A3,3 0 0,1 3,0Z\" style=\"opacity: 1; stroke-width: 0px; fill: rgb(99, 110, 250); fill-opacity: 1;\"/><path class=\"point\" transform=\"translate(615.92,338.25)\" d=\"M3,0A3,3 0 1,1 0,-3A3,3 0 0,1 3,0Z\" style=\"opacity: 1; stroke-width: 0px; fill: rgb(99, 110, 250); fill-opacity: 1;\"/><path class=\"point\" transform=\"translate(616.6,338.25)\" d=\"M3,0A3,3 0 1,1 0,-3A3,3 0 0,1 3,0Z\" style=\"opacity: 1; stroke-width: 0px; fill: rgb(99, 110, 250); fill-opacity: 1;\"/><path class=\"point\" transform=\"translate(617.28,338.25)\" d=\"M3,0A3,3 0 1,1 0,-3A3,3 0 0,1 3,0Z\" style=\"opacity: 1; stroke-width: 0px; fill: rgb(99, 110, 250); fill-opacity: 1;\"/><path class=\"point\" transform=\"translate(617.95,338.25)\" d=\"M3,0A3,3 0 1,1 0,-3A3,3 0 0,1 3,0Z\" style=\"opacity: 1; stroke-width: 0px; fill: rgb(99, 110, 250); fill-opacity: 1;\"/><path class=\"point\" transform=\"translate(618.63,338.25)\" d=\"M3,0A3,3 0 1,1 0,-3A3,3 0 0,1 3,0Z\" style=\"opacity: 1; stroke-width: 0px; fill: rgb(99, 110, 250); fill-opacity: 1;\"/><path class=\"point\" transform=\"translate(619.31,338.25)\" d=\"M3,0A3,3 0 1,1 0,-3A3,3 0 0,1 3,0Z\" style=\"opacity: 1; stroke-width: 0px; fill: rgb(99, 110, 250); fill-opacity: 1;\"/><path class=\"point\" transform=\"translate(619.99,338.25)\" d=\"M3,0A3,3 0 1,1 0,-3A3,3 0 0,1 3,0Z\" style=\"opacity: 1; stroke-width: 0px; fill: rgb(99, 110, 250); fill-opacity: 1;\"/><path class=\"point\" transform=\"translate(620.66,338.25)\" d=\"M3,0A3,3 0 1,1 0,-3A3,3 0 0,1 3,0Z\" style=\"opacity: 1; stroke-width: 0px; fill: rgb(99, 110, 250); fill-opacity: 1;\"/><path class=\"point\" transform=\"translate(621.34,338.25)\" d=\"M3,0A3,3 0 1,1 0,-3A3,3 0 0,1 3,0Z\" style=\"opacity: 1; stroke-width: 0px; fill: rgb(99, 110, 250); fill-opacity: 1;\"/><path class=\"point\" transform=\"translate(622.02,338.25)\" d=\"M3,0A3,3 0 1,1 0,-3A3,3 0 0,1 3,0Z\" style=\"opacity: 1; stroke-width: 0px; fill: rgb(99, 110, 250); fill-opacity: 1;\"/><path class=\"point\" transform=\"translate(622.7,338.25)\" d=\"M3,0A3,3 0 1,1 0,-3A3,3 0 0,1 3,0Z\" style=\"opacity: 1; stroke-width: 0px; fill: rgb(99, 110, 250); fill-opacity: 1;\"/><path class=\"point\" transform=\"translate(623.37,338.25)\" d=\"M3,0A3,3 0 1,1 0,-3A3,3 0 0,1 3,0Z\" style=\"opacity: 1; stroke-width: 0px; fill: rgb(99, 110, 250); fill-opacity: 1;\"/><path class=\"point\" transform=\"translate(624.05,338.25)\" d=\"M3,0A3,3 0 1,1 0,-3A3,3 0 0,1 3,0Z\" style=\"opacity: 1; stroke-width: 0px; fill: rgb(99, 110, 250); fill-opacity: 1;\"/><path class=\"point\" transform=\"translate(624.73,338.25)\" d=\"M3,0A3,3 0 1,1 0,-3A3,3 0 0,1 3,0Z\" style=\"opacity: 1; stroke-width: 0px; fill: rgb(99, 110, 250); fill-opacity: 1;\"/><path class=\"point\" transform=\"translate(625.41,338.25)\" d=\"M3,0A3,3 0 1,1 0,-3A3,3 0 0,1 3,0Z\" style=\"opacity: 1; stroke-width: 0px; fill: rgb(99, 110, 250); fill-opacity: 1;\"/><path class=\"point\" transform=\"translate(626.08,338.25)\" d=\"M3,0A3,3 0 1,1 0,-3A3,3 0 0,1 3,0Z\" style=\"opacity: 1; stroke-width: 0px; fill: rgb(99, 110, 250); fill-opacity: 1;\"/><path class=\"point\" transform=\"translate(626.76,338.25)\" d=\"M3,0A3,3 0 1,1 0,-3A3,3 0 0,1 3,0Z\" style=\"opacity: 1; stroke-width: 0px; fill: rgb(99, 110, 250); fill-opacity: 1;\"/><path class=\"point\" transform=\"translate(627.44,338.25)\" d=\"M3,0A3,3 0 1,1 0,-3A3,3 0 0,1 3,0Z\" style=\"opacity: 1; stroke-width: 0px; fill: rgb(99, 110, 250); fill-opacity: 1;\"/><path class=\"point\" transform=\"translate(628.12,338.25)\" d=\"M3,0A3,3 0 1,1 0,-3A3,3 0 0,1 3,0Z\" style=\"opacity: 1; stroke-width: 0px; fill: rgb(99, 110, 250); fill-opacity: 1;\"/><path class=\"point\" transform=\"translate(628.79,338.25)\" d=\"M3,0A3,3 0 1,1 0,-3A3,3 0 0,1 3,0Z\" style=\"opacity: 1; stroke-width: 0px; fill: rgb(99, 110, 250); fill-opacity: 1;\"/><path class=\"point\" transform=\"translate(629.47,338.25)\" d=\"M3,0A3,3 0 1,1 0,-3A3,3 0 0,1 3,0Z\" style=\"opacity: 1; stroke-width: 0px; fill: rgb(99, 110, 250); fill-opacity: 1;\"/><path class=\"point\" transform=\"translate(630.15,338.25)\" d=\"M3,0A3,3 0 1,1 0,-3A3,3 0 0,1 3,0Z\" style=\"opacity: 1; stroke-width: 0px; fill: rgb(99, 110, 250); fill-opacity: 1;\"/><path class=\"point\" transform=\"translate(630.83,338.25)\" d=\"M3,0A3,3 0 1,1 0,-3A3,3 0 0,1 3,0Z\" style=\"opacity: 1; stroke-width: 0px; fill: rgb(99, 110, 250); fill-opacity: 1;\"/><path class=\"point\" transform=\"translate(631.5,338.25)\" d=\"M3,0A3,3 0 1,1 0,-3A3,3 0 0,1 3,0Z\" style=\"opacity: 1; stroke-width: 0px; fill: rgb(99, 110, 250); fill-opacity: 1;\"/><path class=\"point\" transform=\"translate(632.18,338.25)\" d=\"M3,0A3,3 0 1,1 0,-3A3,3 0 0,1 3,0Z\" style=\"opacity: 1; stroke-width: 0px; fill: rgb(99, 110, 250); fill-opacity: 1;\"/><path class=\"point\" transform=\"translate(632.86,338.25)\" d=\"M3,0A3,3 0 1,1 0,-3A3,3 0 0,1 3,0Z\" style=\"opacity: 1; stroke-width: 0px; fill: rgb(99, 110, 250); fill-opacity: 1;\"/><path class=\"point\" transform=\"translate(633.54,338.25)\" d=\"M3,0A3,3 0 1,1 0,-3A3,3 0 0,1 3,0Z\" style=\"opacity: 1; stroke-width: 0px; fill: rgb(99, 110, 250); fill-opacity: 1;\"/><path class=\"point\" transform=\"translate(634.21,338.25)\" d=\"M3,0A3,3 0 1,1 0,-3A3,3 0 0,1 3,0Z\" style=\"opacity: 1; stroke-width: 0px; fill: rgb(99, 110, 250); fill-opacity: 1;\"/><path class=\"point\" transform=\"translate(634.89,338.25)\" d=\"M3,0A3,3 0 1,1 0,-3A3,3 0 0,1 3,0Z\" style=\"opacity: 1; stroke-width: 0px; fill: rgb(99, 110, 250); fill-opacity: 1;\"/><path class=\"point\" transform=\"translate(635.57,338.25)\" d=\"M3,0A3,3 0 1,1 0,-3A3,3 0 0,1 3,0Z\" style=\"opacity: 1; stroke-width: 0px; fill: rgb(99, 110, 250); fill-opacity: 1;\"/><path class=\"point\" transform=\"translate(636.25,338.25)\" d=\"M3,0A3,3 0 1,1 0,-3A3,3 0 0,1 3,0Z\" style=\"opacity: 1; stroke-width: 0px; fill: rgb(99, 110, 250); fill-opacity: 1;\"/><path class=\"point\" transform=\"translate(636.92,338.25)\" d=\"M3,0A3,3 0 1,1 0,-3A3,3 0 0,1 3,0Z\" style=\"opacity: 1; stroke-width: 0px; fill: rgb(99, 110, 250); fill-opacity: 1;\"/><path class=\"point\" transform=\"translate(637.6,338.25)\" d=\"M3,0A3,3 0 1,1 0,-3A3,3 0 0,1 3,0Z\" style=\"opacity: 1; stroke-width: 0px; fill: rgb(99, 110, 250); fill-opacity: 1;\"/><path class=\"point\" transform=\"translate(638.28,338.25)\" d=\"M3,0A3,3 0 1,1 0,-3A3,3 0 0,1 3,0Z\" style=\"opacity: 1; stroke-width: 0px; fill: rgb(99, 110, 250); fill-opacity: 1;\"/><path class=\"point\" transform=\"translate(638.96,338.25)\" d=\"M3,0A3,3 0 1,1 0,-3A3,3 0 0,1 3,0Z\" style=\"opacity: 1; stroke-width: 0px; fill: rgb(99, 110, 250); fill-opacity: 1;\"/><path class=\"point\" transform=\"translate(639.63,338.25)\" d=\"M3,0A3,3 0 1,1 0,-3A3,3 0 0,1 3,0Z\" style=\"opacity: 1; stroke-width: 0px; fill: rgb(99, 110, 250); fill-opacity: 1;\"/><path class=\"point\" transform=\"translate(640.31,338.25)\" d=\"M3,0A3,3 0 1,1 0,-3A3,3 0 0,1 3,0Z\" style=\"opacity: 1; stroke-width: 0px; fill: rgb(99, 110, 250); fill-opacity: 1;\"/><path class=\"point\" transform=\"translate(640.99,338.25)\" d=\"M3,0A3,3 0 1,1 0,-3A3,3 0 0,1 3,0Z\" style=\"opacity: 1; stroke-width: 0px; fill: rgb(99, 110, 250); fill-opacity: 1;\"/><path class=\"point\" transform=\"translate(641.67,338.25)\" d=\"M3,0A3,3 0 1,1 0,-3A3,3 0 0,1 3,0Z\" style=\"opacity: 1; stroke-width: 0px; fill: rgb(99, 110, 250); fill-opacity: 1;\"/><path class=\"point\" transform=\"translate(642.34,338.25)\" d=\"M3,0A3,3 0 1,1 0,-3A3,3 0 0,1 3,0Z\" style=\"opacity: 1; stroke-width: 0px; fill: rgb(99, 110, 250); fill-opacity: 1;\"/><path class=\"point\" transform=\"translate(643.02,338.25)\" d=\"M3,0A3,3 0 1,1 0,-3A3,3 0 0,1 3,0Z\" style=\"opacity: 1; stroke-width: 0px; fill: rgb(99, 110, 250); fill-opacity: 1;\"/><path class=\"point\" transform=\"translate(643.7,21.75)\" d=\"M3,0A3,3 0 1,1 0,-3A3,3 0 0,1 3,0Z\" style=\"opacity: 1; stroke-width: 0px; fill: rgb(99, 110, 250); fill-opacity: 1;\"/><path class=\"point\" transform=\"translate(644.38,338.25)\" d=\"M3,0A3,3 0 1,1 0,-3A3,3 0 0,1 3,0Z\" style=\"opacity: 1; stroke-width: 0px; fill: rgb(99, 110, 250); fill-opacity: 1;\"/><path class=\"point\" transform=\"translate(645.05,338.25)\" d=\"M3,0A3,3 0 1,1 0,-3A3,3 0 0,1 3,0Z\" style=\"opacity: 1; stroke-width: 0px; fill: rgb(99, 110, 250); fill-opacity: 1;\"/><path class=\"point\" transform=\"translate(645.73,338.25)\" d=\"M3,0A3,3 0 1,1 0,-3A3,3 0 0,1 3,0Z\" style=\"opacity: 1; stroke-width: 0px; fill: rgb(99, 110, 250); fill-opacity: 1;\"/><path class=\"point\" transform=\"translate(646.41,338.25)\" d=\"M3,0A3,3 0 1,1 0,-3A3,3 0 0,1 3,0Z\" style=\"opacity: 1; stroke-width: 0px; fill: rgb(99, 110, 250); fill-opacity: 1;\"/><path class=\"point\" transform=\"translate(647.08,338.25)\" d=\"M3,0A3,3 0 1,1 0,-3A3,3 0 0,1 3,0Z\" style=\"opacity: 1; stroke-width: 0px; fill: rgb(99, 110, 250); fill-opacity: 1;\"/><path class=\"point\" transform=\"translate(647.76,338.25)\" d=\"M3,0A3,3 0 1,1 0,-3A3,3 0 0,1 3,0Z\" style=\"opacity: 1; stroke-width: 0px; fill: rgb(99, 110, 250); fill-opacity: 1;\"/><path class=\"point\" transform=\"translate(648.44,180)\" d=\"M3,0A3,3 0 1,1 0,-3A3,3 0 0,1 3,0Z\" style=\"opacity: 1; stroke-width: 0px; fill: rgb(99, 110, 250); fill-opacity: 1;\"/><path class=\"point\" transform=\"translate(649.12,338.25)\" d=\"M3,0A3,3 0 1,1 0,-3A3,3 0 0,1 3,0Z\" style=\"opacity: 1; stroke-width: 0px; fill: rgb(99, 110, 250); fill-opacity: 1;\"/><path class=\"point\" transform=\"translate(649.79,338.25)\" d=\"M3,0A3,3 0 1,1 0,-3A3,3 0 0,1 3,0Z\" style=\"opacity: 1; stroke-width: 0px; fill: rgb(99, 110, 250); fill-opacity: 1;\"/><path class=\"point\" transform=\"translate(650.47,338.25)\" d=\"M3,0A3,3 0 1,1 0,-3A3,3 0 0,1 3,0Z\" style=\"opacity: 1; stroke-width: 0px; fill: rgb(99, 110, 250); fill-opacity: 1;\"/><path class=\"point\" transform=\"translate(651.15,180)\" d=\"M3,0A3,3 0 1,1 0,-3A3,3 0 0,1 3,0Z\" style=\"opacity: 1; stroke-width: 0px; fill: rgb(99, 110, 250); fill-opacity: 1;\"/><path class=\"point\" transform=\"translate(651.83,338.25)\" d=\"M3,0A3,3 0 1,1 0,-3A3,3 0 0,1 3,0Z\" style=\"opacity: 1; stroke-width: 0px; fill: rgb(99, 110, 250); fill-opacity: 1;\"/><path class=\"point\" transform=\"translate(652.5,338.25)\" d=\"M3,0A3,3 0 1,1 0,-3A3,3 0 0,1 3,0Z\" style=\"opacity: 1; stroke-width: 0px; fill: rgb(99, 110, 250); fill-opacity: 1;\"/><path class=\"point\" transform=\"translate(653.18,338.25)\" d=\"M3,0A3,3 0 1,1 0,-3A3,3 0 0,1 3,0Z\" style=\"opacity: 1; stroke-width: 0px; fill: rgb(99, 110, 250); fill-opacity: 1;\"/><path class=\"point\" transform=\"translate(653.86,338.25)\" d=\"M3,0A3,3 0 1,1 0,-3A3,3 0 0,1 3,0Z\" style=\"opacity: 1; stroke-width: 0px; fill: rgb(99, 110, 250); fill-opacity: 1;\"/><path class=\"point\" transform=\"translate(654.54,338.25)\" d=\"M3,0A3,3 0 1,1 0,-3A3,3 0 0,1 3,0Z\" style=\"opacity: 1; stroke-width: 0px; fill: rgb(99, 110, 250); fill-opacity: 1;\"/><path class=\"point\" transform=\"translate(655.21,338.25)\" d=\"M3,0A3,3 0 1,1 0,-3A3,3 0 0,1 3,0Z\" style=\"opacity: 1; stroke-width: 0px; fill: rgb(99, 110, 250); fill-opacity: 1;\"/><path class=\"point\" transform=\"translate(655.89,21.75)\" d=\"M3,0A3,3 0 1,1 0,-3A3,3 0 0,1 3,0Z\" style=\"opacity: 1; stroke-width: 0px; fill: rgb(99, 110, 250); fill-opacity: 1;\"/><path class=\"point\" transform=\"translate(656.57,338.25)\" d=\"M3,0A3,3 0 1,1 0,-3A3,3 0 0,1 3,0Z\" style=\"opacity: 1; stroke-width: 0px; fill: rgb(99, 110, 250); fill-opacity: 1;\"/><path class=\"point\" transform=\"translate(657.25,338.25)\" d=\"M3,0A3,3 0 1,1 0,-3A3,3 0 0,1 3,0Z\" style=\"opacity: 1; stroke-width: 0px; fill: rgb(99, 110, 250); fill-opacity: 1;\"/><path class=\"point\" transform=\"translate(657.92,338.25)\" d=\"M3,0A3,3 0 1,1 0,-3A3,3 0 0,1 3,0Z\" style=\"opacity: 1; stroke-width: 0px; fill: rgb(99, 110, 250); fill-opacity: 1;\"/><path class=\"point\" transform=\"translate(658.6,338.25)\" d=\"M3,0A3,3 0 1,1 0,-3A3,3 0 0,1 3,0Z\" style=\"opacity: 1; stroke-width: 0px; fill: rgb(99, 110, 250); fill-opacity: 1;\"/><path class=\"point\" transform=\"translate(659.28,338.25)\" d=\"M3,0A3,3 0 1,1 0,-3A3,3 0 0,1 3,0Z\" style=\"opacity: 1; stroke-width: 0px; fill: rgb(99, 110, 250); fill-opacity: 1;\"/><path class=\"point\" transform=\"translate(659.96,338.25)\" d=\"M3,0A3,3 0 1,1 0,-3A3,3 0 0,1 3,0Z\" style=\"opacity: 1; stroke-width: 0px; fill: rgb(99, 110, 250); fill-opacity: 1;\"/><path class=\"point\" transform=\"translate(660.63,338.25)\" d=\"M3,0A3,3 0 1,1 0,-3A3,3 0 0,1 3,0Z\" style=\"opacity: 1; stroke-width: 0px; fill: rgb(99, 110, 250); fill-opacity: 1;\"/><path class=\"point\" transform=\"translate(661.31,338.25)\" d=\"M3,0A3,3 0 1,1 0,-3A3,3 0 0,1 3,0Z\" style=\"opacity: 1; stroke-width: 0px; fill: rgb(99, 110, 250); fill-opacity: 1;\"/><path class=\"point\" transform=\"translate(661.99,338.25)\" d=\"M3,0A3,3 0 1,1 0,-3A3,3 0 0,1 3,0Z\" style=\"opacity: 1; stroke-width: 0px; fill: rgb(99, 110, 250); fill-opacity: 1;\"/><path class=\"point\" transform=\"translate(662.67,338.25)\" d=\"M3,0A3,3 0 1,1 0,-3A3,3 0 0,1 3,0Z\" style=\"opacity: 1; stroke-width: 0px; fill: rgb(99, 110, 250); fill-opacity: 1;\"/><path class=\"point\" transform=\"translate(663.34,338.25)\" d=\"M3,0A3,3 0 1,1 0,-3A3,3 0 0,1 3,0Z\" style=\"opacity: 1; stroke-width: 0px; fill: rgb(99, 110, 250); fill-opacity: 1;\"/><path class=\"point\" transform=\"translate(664.02,338.25)\" d=\"M3,0A3,3 0 1,1 0,-3A3,3 0 0,1 3,0Z\" style=\"opacity: 1; stroke-width: 0px; fill: rgb(99, 110, 250); fill-opacity: 1;\"/><path class=\"point\" transform=\"translate(664.7,338.25)\" d=\"M3,0A3,3 0 1,1 0,-3A3,3 0 0,1 3,0Z\" style=\"opacity: 1; stroke-width: 0px; fill: rgb(99, 110, 250); fill-opacity: 1;\"/><path class=\"point\" transform=\"translate(665.38,338.25)\" d=\"M3,0A3,3 0 1,1 0,-3A3,3 0 0,1 3,0Z\" style=\"opacity: 1; stroke-width: 0px; fill: rgb(99, 110, 250); fill-opacity: 1;\"/><path class=\"point\" transform=\"translate(666.05,338.25)\" d=\"M3,0A3,3 0 1,1 0,-3A3,3 0 0,1 3,0Z\" style=\"opacity: 1; stroke-width: 0px; fill: rgb(99, 110, 250); fill-opacity: 1;\"/><path class=\"point\" transform=\"translate(666.73,338.25)\" d=\"M3,0A3,3 0 1,1 0,-3A3,3 0 0,1 3,0Z\" style=\"opacity: 1; stroke-width: 0px; fill: rgb(99, 110, 250); fill-opacity: 1;\"/><path class=\"point\" transform=\"translate(667.41,338.25)\" d=\"M3,0A3,3 0 1,1 0,-3A3,3 0 0,1 3,0Z\" style=\"opacity: 1; stroke-width: 0px; fill: rgb(99, 110, 250); fill-opacity: 1;\"/><path class=\"point\" transform=\"translate(668.09,338.25)\" d=\"M3,0A3,3 0 1,1 0,-3A3,3 0 0,1 3,0Z\" style=\"opacity: 1; stroke-width: 0px; fill: rgb(99, 110, 250); fill-opacity: 1;\"/><path class=\"point\" transform=\"translate(668.76,338.25)\" d=\"M3,0A3,3 0 1,1 0,-3A3,3 0 0,1 3,0Z\" style=\"opacity: 1; stroke-width: 0px; fill: rgb(99, 110, 250); fill-opacity: 1;\"/><path class=\"point\" transform=\"translate(669.44,338.25)\" d=\"M3,0A3,3 0 1,1 0,-3A3,3 0 0,1 3,0Z\" style=\"opacity: 1; stroke-width: 0px; fill: rgb(99, 110, 250); fill-opacity: 1;\"/><path class=\"point\" transform=\"translate(670.12,338.25)\" d=\"M3,0A3,3 0 1,1 0,-3A3,3 0 0,1 3,0Z\" style=\"opacity: 1; stroke-width: 0px; fill: rgb(99, 110, 250); fill-opacity: 1;\"/><path class=\"point\" transform=\"translate(670.8,338.25)\" d=\"M3,0A3,3 0 1,1 0,-3A3,3 0 0,1 3,0Z\" style=\"opacity: 1; stroke-width: 0px; fill: rgb(99, 110, 250); fill-opacity: 1;\"/><path class=\"point\" transform=\"translate(671.47,338.25)\" d=\"M3,0A3,3 0 1,1 0,-3A3,3 0 0,1 3,0Z\" style=\"opacity: 1; stroke-width: 0px; fill: rgb(99, 110, 250); fill-opacity: 1;\"/><path class=\"point\" transform=\"translate(672.15,338.25)\" d=\"M3,0A3,3 0 1,1 0,-3A3,3 0 0,1 3,0Z\" style=\"opacity: 1; stroke-width: 0px; fill: rgb(99, 110, 250); fill-opacity: 1;\"/><path class=\"point\" transform=\"translate(672.83,338.25)\" d=\"M3,0A3,3 0 1,1 0,-3A3,3 0 0,1 3,0Z\" style=\"opacity: 1; stroke-width: 0px; fill: rgb(99, 110, 250); fill-opacity: 1;\"/><path class=\"point\" transform=\"translate(673.51,338.25)\" d=\"M3,0A3,3 0 1,1 0,-3A3,3 0 0,1 3,0Z\" style=\"opacity: 1; stroke-width: 0px; fill: rgb(99, 110, 250); fill-opacity: 1;\"/><path class=\"point\" transform=\"translate(674.18,338.25)\" d=\"M3,0A3,3 0 1,1 0,-3A3,3 0 0,1 3,0Z\" style=\"opacity: 1; stroke-width: 0px; fill: rgb(99, 110, 250); fill-opacity: 1;\"/><path class=\"point\" transform=\"translate(674.86,338.25)\" d=\"M3,0A3,3 0 1,1 0,-3A3,3 0 0,1 3,0Z\" style=\"opacity: 1; stroke-width: 0px; fill: rgb(99, 110, 250); fill-opacity: 1;\"/><path class=\"point\" transform=\"translate(675.54,180)\" d=\"M3,0A3,3 0 1,1 0,-3A3,3 0 0,1 3,0Z\" style=\"opacity: 1; stroke-width: 0px; fill: rgb(99, 110, 250); fill-opacity: 1;\"/><path class=\"point\" transform=\"translate(676.22,338.25)\" d=\"M3,0A3,3 0 1,1 0,-3A3,3 0 0,1 3,0Z\" style=\"opacity: 1; stroke-width: 0px; fill: rgb(99, 110, 250); fill-opacity: 1;\"/><path class=\"point\" transform=\"translate(676.89,338.25)\" d=\"M3,0A3,3 0 1,1 0,-3A3,3 0 0,1 3,0Z\" style=\"opacity: 1; stroke-width: 0px; fill: rgb(99, 110, 250); fill-opacity: 1;\"/><path class=\"point\" transform=\"translate(677.57,180)\" d=\"M3,0A3,3 0 1,1 0,-3A3,3 0 0,1 3,0Z\" style=\"opacity: 1; stroke-width: 0px; fill: rgb(99, 110, 250); fill-opacity: 1;\"/><path class=\"point\" transform=\"translate(678.25,338.25)\" d=\"M3,0A3,3 0 1,1 0,-3A3,3 0 0,1 3,0Z\" style=\"opacity: 1; stroke-width: 0px; fill: rgb(99, 110, 250); fill-opacity: 1;\"/><path class=\"point\" transform=\"translate(678.93,338.25)\" d=\"M3,0A3,3 0 1,1 0,-3A3,3 0 0,1 3,0Z\" style=\"opacity: 1; stroke-width: 0px; fill: rgb(99, 110, 250); fill-opacity: 1;\"/><path class=\"point\" transform=\"translate(679.6,338.25)\" d=\"M3,0A3,3 0 1,1 0,-3A3,3 0 0,1 3,0Z\" style=\"opacity: 1; stroke-width: 0px; fill: rgb(99, 110, 250); fill-opacity: 1;\"/><path class=\"point\" transform=\"translate(680.28,338.25)\" d=\"M3,0A3,3 0 1,1 0,-3A3,3 0 0,1 3,0Z\" style=\"opacity: 1; stroke-width: 0px; fill: rgb(99, 110, 250); fill-opacity: 1;\"/><path class=\"point\" transform=\"translate(680.96,338.25)\" d=\"M3,0A3,3 0 1,1 0,-3A3,3 0 0,1 3,0Z\" style=\"opacity: 1; stroke-width: 0px; fill: rgb(99, 110, 250); fill-opacity: 1;\"/><path class=\"point\" transform=\"translate(681.64,338.25)\" d=\"M3,0A3,3 0 1,1 0,-3A3,3 0 0,1 3,0Z\" style=\"opacity: 1; stroke-width: 0px; fill: rgb(99, 110, 250); fill-opacity: 1;\"/><path class=\"point\" transform=\"translate(682.31,338.25)\" d=\"M3,0A3,3 0 1,1 0,-3A3,3 0 0,1 3,0Z\" style=\"opacity: 1; stroke-width: 0px; fill: rgb(99, 110, 250); fill-opacity: 1;\"/><path class=\"point\" transform=\"translate(682.99,338.25)\" d=\"M3,0A3,3 0 1,1 0,-3A3,3 0 0,1 3,0Z\" style=\"opacity: 1; stroke-width: 0px; fill: rgb(99, 110, 250); fill-opacity: 1;\"/><path class=\"point\" transform=\"translate(683.67,338.25)\" d=\"M3,0A3,3 0 1,1 0,-3A3,3 0 0,1 3,0Z\" style=\"opacity: 1; stroke-width: 0px; fill: rgb(99, 110, 250); fill-opacity: 1;\"/><path class=\"point\" transform=\"translate(684.35,338.25)\" d=\"M3,0A3,3 0 1,1 0,-3A3,3 0 0,1 3,0Z\" style=\"opacity: 1; stroke-width: 0px; fill: rgb(99, 110, 250); fill-opacity: 1;\"/><path class=\"point\" transform=\"translate(685.02,338.25)\" d=\"M3,0A3,3 0 1,1 0,-3A3,3 0 0,1 3,0Z\" style=\"opacity: 1; stroke-width: 0px; fill: rgb(99, 110, 250); fill-opacity: 1;\"/><path class=\"point\" transform=\"translate(685.7,338.25)\" d=\"M3,0A3,3 0 1,1 0,-3A3,3 0 0,1 3,0Z\" style=\"opacity: 1; stroke-width: 0px; fill: rgb(99, 110, 250); fill-opacity: 1;\"/><path class=\"point\" transform=\"translate(686.38,338.25)\" d=\"M3,0A3,3 0 1,1 0,-3A3,3 0 0,1 3,0Z\" style=\"opacity: 1; stroke-width: 0px; fill: rgb(99, 110, 250); fill-opacity: 1;\"/><path class=\"point\" transform=\"translate(687.06,338.25)\" d=\"M3,0A3,3 0 1,1 0,-3A3,3 0 0,1 3,0Z\" style=\"opacity: 1; stroke-width: 0px; fill: rgb(99, 110, 250); fill-opacity: 1;\"/><path class=\"point\" transform=\"translate(687.73,338.25)\" d=\"M3,0A3,3 0 1,1 0,-3A3,3 0 0,1 3,0Z\" style=\"opacity: 1; stroke-width: 0px; fill: rgb(99, 110, 250); fill-opacity: 1;\"/><path class=\"point\" transform=\"translate(688.41,338.25)\" d=\"M3,0A3,3 0 1,1 0,-3A3,3 0 0,1 3,0Z\" style=\"opacity: 1; stroke-width: 0px; fill: rgb(99, 110, 250); fill-opacity: 1;\"/><path class=\"point\" transform=\"translate(689.09,338.25)\" d=\"M3,0A3,3 0 1,1 0,-3A3,3 0 0,1 3,0Z\" style=\"opacity: 1; stroke-width: 0px; fill: rgb(99, 110, 250); fill-opacity: 1;\"/><path class=\"point\" transform=\"translate(689.77,338.25)\" d=\"M3,0A3,3 0 1,1 0,-3A3,3 0 0,1 3,0Z\" style=\"opacity: 1; stroke-width: 0px; fill: rgb(99, 110, 250); fill-opacity: 1;\"/><path class=\"point\" transform=\"translate(690.44,338.25)\" d=\"M3,0A3,3 0 1,1 0,-3A3,3 0 0,1 3,0Z\" style=\"opacity: 1; stroke-width: 0px; fill: rgb(99, 110, 250); fill-opacity: 1;\"/><path class=\"point\" transform=\"translate(691.12,338.25)\" d=\"M3,0A3,3 0 1,1 0,-3A3,3 0 0,1 3,0Z\" style=\"opacity: 1; stroke-width: 0px; fill: rgb(99, 110, 250); fill-opacity: 1;\"/><path class=\"point\" transform=\"translate(691.8,338.25)\" d=\"M3,0A3,3 0 1,1 0,-3A3,3 0 0,1 3,0Z\" style=\"opacity: 1; stroke-width: 0px; fill: rgb(99, 110, 250); fill-opacity: 1;\"/><path class=\"point\" transform=\"translate(692.48,338.25)\" d=\"M3,0A3,3 0 1,1 0,-3A3,3 0 0,1 3,0Z\" style=\"opacity: 1; stroke-width: 0px; fill: rgb(99, 110, 250); fill-opacity: 1;\"/><path class=\"point\" transform=\"translate(693.15,338.25)\" d=\"M3,0A3,3 0 1,1 0,-3A3,3 0 0,1 3,0Z\" style=\"opacity: 1; stroke-width: 0px; fill: rgb(99, 110, 250); fill-opacity: 1;\"/><path class=\"point\" transform=\"translate(693.83,338.25)\" d=\"M3,0A3,3 0 1,1 0,-3A3,3 0 0,1 3,0Z\" style=\"opacity: 1; stroke-width: 0px; fill: rgb(99, 110, 250); fill-opacity: 1;\"/><path class=\"point\" transform=\"translate(694.51,338.25)\" d=\"M3,0A3,3 0 1,1 0,-3A3,3 0 0,1 3,0Z\" style=\"opacity: 1; stroke-width: 0px; fill: rgb(99, 110, 250); fill-opacity: 1;\"/><path class=\"point\" transform=\"translate(695.19,338.25)\" d=\"M3,0A3,3 0 1,1 0,-3A3,3 0 0,1 3,0Z\" style=\"opacity: 1; stroke-width: 0px; fill: rgb(99, 110, 250); fill-opacity: 1;\"/><path class=\"point\" transform=\"translate(695.86,338.25)\" d=\"M3,0A3,3 0 1,1 0,-3A3,3 0 0,1 3,0Z\" style=\"opacity: 1; stroke-width: 0px; fill: rgb(99, 110, 250); fill-opacity: 1;\"/><path class=\"point\" transform=\"translate(696.54,338.25)\" d=\"M3,0A3,3 0 1,1 0,-3A3,3 0 0,1 3,0Z\" style=\"opacity: 1; stroke-width: 0px; fill: rgb(99, 110, 250); fill-opacity: 1;\"/><path class=\"point\" transform=\"translate(697.22,338.25)\" d=\"M3,0A3,3 0 1,1 0,-3A3,3 0 0,1 3,0Z\" style=\"opacity: 1; stroke-width: 0px; fill: rgb(99, 110, 250); fill-opacity: 1;\"/><path class=\"point\" transform=\"translate(697.9,338.25)\" d=\"M3,0A3,3 0 1,1 0,-3A3,3 0 0,1 3,0Z\" style=\"opacity: 1; stroke-width: 0px; fill: rgb(99, 110, 250); fill-opacity: 1;\"/><path class=\"point\" transform=\"translate(698.57,338.25)\" d=\"M3,0A3,3 0 1,1 0,-3A3,3 0 0,1 3,0Z\" style=\"opacity: 1; stroke-width: 0px; fill: rgb(99, 110, 250); fill-opacity: 1;\"/><path class=\"point\" transform=\"translate(699.25,338.25)\" d=\"M3,0A3,3 0 1,1 0,-3A3,3 0 0,1 3,0Z\" style=\"opacity: 1; stroke-width: 0px; fill: rgb(99, 110, 250); fill-opacity: 1;\"/></g><g class=\"text\"/></g></g></g><g class=\"overplot\"/><path class=\"xlines-above crisp\" d=\"M0,0\" style=\"fill: none;\"/><path class=\"ylines-above crisp\" d=\"M0,0\" style=\"fill: none;\"/><g class=\"overlines-above\"/><g class=\"xaxislayer-above\"><g class=\"xtick\"><text text-anchor=\"middle\" x=\"0\" y=\"433\" transform=\"translate(120.75,0)\" style=\"font-family: 'Open Sans', verdana, arial, sans-serif; font-size: 12px; fill: rgb(42, 63, 95); fill-opacity: 1; white-space: pre; opacity: 1;\">0</text></g><g class=\"xtick\"><text text-anchor=\"middle\" x=\"0\" y=\"433\" style=\"font-family: 'Open Sans', verdana, arial, sans-serif; font-size: 12px; fill: rgb(42, 63, 95); fill-opacity: 1; white-space: pre; opacity: 1;\" transform=\"translate(256.24,0)\">200</text></g><g class=\"xtick\"><text text-anchor=\"middle\" x=\"0\" y=\"433\" style=\"font-family: 'Open Sans', verdana, arial, sans-serif; font-size: 12px; fill: rgb(42, 63, 95); fill-opacity: 1; white-space: pre; opacity: 1;\" transform=\"translate(391.74,0)\">400</text></g><g class=\"xtick\"><text text-anchor=\"middle\" x=\"0\" y=\"433\" style=\"font-family: 'Open Sans', verdana, arial, sans-serif; font-size: 12px; fill: rgb(42, 63, 95); fill-opacity: 1; white-space: pre; opacity: 1;\" transform=\"translate(527.23,0)\">600</text></g><g class=\"xtick\"><text text-anchor=\"middle\" x=\"0\" y=\"433\" style=\"font-family: 'Open Sans', verdana, arial, sans-serif; font-size: 12px; fill: rgb(42, 63, 95); fill-opacity: 1; white-space: pre; opacity: 1;\" transform=\"translate(662.73,0)\">800</text></g><g class=\"xtick\"><text text-anchor=\"middle\" x=\"0\" y=\"433\" style=\"font-family: 'Open Sans', verdana, arial, sans-serif; font-size: 12px; fill: rgb(42, 63, 95); fill-opacity: 1; white-space: pre; opacity: 1;\" transform=\"translate(798.22,0)\">1000</text></g></g><g class=\"yaxislayer-above\"><g class=\"ytick\"><text text-anchor=\"end\" x=\"79\" y=\"4.199999999999999\" transform=\"translate(0,398.25)\" style=\"font-family: 'Open Sans', verdana, arial, sans-serif; font-size: 12px; fill: rgb(42, 63, 95); fill-opacity: 1; white-space: pre; opacity: 1;\">1</text></g><g class=\"ytick\"><text text-anchor=\"end\" x=\"79\" y=\"4.199999999999999\" style=\"font-family: 'Open Sans', verdana, arial, sans-serif; font-size: 12px; fill: rgb(42, 63, 95); fill-opacity: 1; white-space: pre; opacity: 1;\" transform=\"translate(0,319.13)\">1.5</text></g><g class=\"ytick\"><text text-anchor=\"end\" x=\"79\" y=\"4.199999999999999\" style=\"font-family: 'Open Sans', verdana, arial, sans-serif; font-size: 12px; fill: rgb(42, 63, 95); fill-opacity: 1; white-space: pre; opacity: 1;\" transform=\"translate(0,240)\">2</text></g><g class=\"ytick\"><text text-anchor=\"end\" x=\"79\" y=\"4.199999999999999\" style=\"font-family: 'Open Sans', verdana, arial, sans-serif; font-size: 12px; fill: rgb(42, 63, 95); fill-opacity: 1; white-space: pre; opacity: 1;\" transform=\"translate(0,160.88)\">2.5</text></g><g class=\"ytick\"><text text-anchor=\"end\" x=\"79\" y=\"4.199999999999999\" style=\"font-family: 'Open Sans', verdana, arial, sans-serif; font-size: 12px; fill: rgb(42, 63, 95); fill-opacity: 1; white-space: pre; opacity: 1;\" transform=\"translate(0,81.75)\">3</text></g></g><g class=\"overaxes-above\"/></g></g><g class=\"polarlayer\"/><g class=\"ternarylayer\"/><g class=\"geolayer\"/><g class=\"funnelarealayer\"/><g class=\"pielayer\"/><g class=\"iciclelayer\"/><g class=\"treemaplayer\"/><g class=\"sunburstlayer\"/><g class=\"glimages\"/><defs id=\"topdefs-0f08f4\"><g class=\"clips\"/></defs><g class=\"layer-above\"><g class=\"imagelayer\"/><g class=\"shapelayer\"/></g><g class=\"infolayer\"><g class=\"g-gtitle\"><text class=\"gtitle\" x=\"45\" y=\"30\" text-anchor=\"start\" dy=\"0em\" style=\"font-family: 'Open Sans', verdana, arial, sans-serif; font-size: 17px; fill: rgb(42, 63, 95); opacity: 1; font-weight: normal; white-space: pre;\">Точечный график распределения количества заказов по пользователям</text></g><g class=\"g-xtitle\"><text class=\"xtitle\" x=\"450\" y=\"460.8\" text-anchor=\"middle\" style=\"font-family: 'Open Sans', verdana, arial, sans-serif; font-size: 14px; fill: rgb(42, 63, 95); opacity: 1; font-weight: normal; white-space: pre;\">Порядковый номер пользователя</text></g><g class=\"g-ytitle\"><text class=\"ytitle\" transform=\"rotate(-90,34.575,240)\" x=\"34.575\" y=\"240\" text-anchor=\"middle\" style=\"font-family: 'Open Sans', verdana, arial, sans-serif; font-size: 14px; fill: rgb(42, 63, 95); opacity: 1; font-weight: normal; white-space: pre;\">Количество заказов</text></g></g></svg>"
      ]
     },
     "metadata": {},
     "output_type": "display_data"
    }
   ],
   "source": [
    "fig = px.scatter(orders_id, y='transaction_id')\n",
    "fig.update_layout(title='Точечный график распределения количества заказов по пользователям',\n",
    "                  xaxis_title='Порядковый номер пользователя',\n",
    "                  yaxis_title='Количество заказов',\n",
    "                  width=900, height=500)\n",
    "fig.show('svg')"
   ]
  },
  {
   "cell_type": "markdown",
   "metadata": {},
   "source": [
    "**Вывод:** Большинство пользователей, более 937, совершили по одному заказу. Как и предполагалось, есть пользователи с отличным от других пользователей количеством заказов. "
   ]
  },
  {
   "cell_type": "markdown",
   "metadata": {},
   "source": [
    "## 2.7. 95-й и 99-й перцентили количества заказов на пользователя"
   ]
  },
  {
   "cell_type": "markdown",
   "metadata": {},
   "source": [
    "Посчитаем 95 и 99 перцентиль методом percentile():"
   ]
  },
  {
   "cell_type": "code",
   "execution_count": 32,
   "metadata": {},
   "outputs": [
    {
     "name": "stdout",
     "output_type": "stream",
     "text": [
      "[1. 2.]\n"
     ]
    }
   ],
   "source": [
    "print(np.percentile(orders_id['transaction_id'], [95, 99])) "
   ]
  },
  {
   "cell_type": "markdown",
   "metadata": {},
   "source": [
    "**Вывод:** 5% пользователей совершили более 1 заказов. Возьмем 1 заказа на одного пользователя за нижнюю границу числа заказов, и отсеять аномальных пользователей по ней."
   ]
  },
  {
   "cell_type": "markdown",
   "metadata": {},
   "source": [
    "## 2.8. Точечный график стоимостей заказов"
   ]
  },
  {
   "cell_type": "code",
   "execution_count": 33,
   "metadata": {},
   "outputs": [
    {
     "data": {
      "image/svg+xml": [
       "<svg class=\"main-svg\" xmlns=\"http://www.w3.org/2000/svg\" xmlns:xlink=\"http://www.w3.org/1999/xlink\" width=\"900\" height=\"500\" style=\"\" viewBox=\"0 0 900 500\"><rect x=\"0\" y=\"0\" width=\"900\" height=\"500\" style=\"fill: rgb(255, 255, 255); fill-opacity: 1;\"/><defs id=\"defs-d87331\"><g class=\"clips\"><clipPath id=\"clipd87331xyplot\" class=\"plotclip\"><rect width=\"740\" height=\"360\"/></clipPath><clipPath class=\"axesclip\" id=\"clipd87331x\"><rect x=\"80\" y=\"0\" width=\"740\" height=\"500\"/></clipPath><clipPath class=\"axesclip\" id=\"clipd87331y\"><rect x=\"0\" y=\"60\" width=\"900\" height=\"360\"/></clipPath><clipPath class=\"axesclip\" id=\"clipd87331xy\"><rect x=\"80\" y=\"60\" width=\"740\" height=\"360\"/></clipPath></g><g class=\"gradients\"/><g class=\"patterns\"/></defs><g class=\"bglayer\"><rect class=\"bg\" x=\"80\" y=\"60\" width=\"740\" height=\"360\" style=\"fill: rgb(229, 236, 246); fill-opacity: 1; stroke-width: 0;\"/></g><g class=\"layer-below\"><g class=\"imagelayer\"/><g class=\"shapelayer\"/></g><g class=\"cartesianlayer\"><g class=\"subplot xy\"><g class=\"layer-subplot\"><g class=\"shapelayer\"/><g class=\"imagelayer\"/></g><g class=\"gridlayer\"><g class=\"x\"><path class=\"xgrid crisp\" transform=\"translate(230.87,0)\" d=\"M0,60v360\" style=\"stroke: rgb(255, 255, 255); stroke-opacity: 1; stroke-width: 1px;\"/><path class=\"xgrid crisp\" transform=\"translate(340.98,0)\" d=\"M0,60v360\" style=\"stroke: rgb(255, 255, 255); stroke-opacity: 1; stroke-width: 1px;\"/><path class=\"xgrid crisp\" transform=\"translate(451.1,0)\" d=\"M0,60v360\" style=\"stroke: rgb(255, 255, 255); stroke-opacity: 1; stroke-width: 1px;\"/><path class=\"xgrid crisp\" transform=\"translate(561.22,0)\" d=\"M0,60v360\" style=\"stroke: rgb(255, 255, 255); stroke-opacity: 1; stroke-width: 1px;\"/><path class=\"xgrid crisp\" transform=\"translate(671.34,0)\" d=\"M0,60v360\" style=\"stroke: rgb(255, 255, 255); stroke-opacity: 1; stroke-width: 1px;\"/><path class=\"xgrid crisp\" transform=\"translate(781.45,0)\" d=\"M0,60v360\" style=\"stroke: rgb(255, 255, 255); stroke-opacity: 1; stroke-width: 1px;\"/></g><g class=\"y\"><path class=\"ygrid crisp\" transform=\"translate(0,349.36)\" d=\"M80,0h740\" style=\"stroke: rgb(255, 255, 255); stroke-opacity: 1; stroke-width: 1px;\"/><path class=\"ygrid crisp\" transform=\"translate(0,300.46000000000004)\" d=\"M80,0h740\" style=\"stroke: rgb(255, 255, 255); stroke-opacity: 1; stroke-width: 1px;\"/><path class=\"ygrid crisp\" transform=\"translate(0,251.56)\" d=\"M80,0h740\" style=\"stroke: rgb(255, 255, 255); stroke-opacity: 1; stroke-width: 1px;\"/><path class=\"ygrid crisp\" transform=\"translate(0,202.66)\" d=\"M80,0h740\" style=\"stroke: rgb(255, 255, 255); stroke-opacity: 1; stroke-width: 1px;\"/><path class=\"ygrid crisp\" transform=\"translate(0,153.76)\" d=\"M80,0h740\" style=\"stroke: rgb(255, 255, 255); stroke-opacity: 1; stroke-width: 1px;\"/><path class=\"ygrid crisp\" transform=\"translate(0,104.86)\" d=\"M80,0h740\" style=\"stroke: rgb(255, 255, 255); stroke-opacity: 1; stroke-width: 1px;\"/></g></g><g class=\"zerolinelayer\"><path class=\"xzl zl crisp\" transform=\"translate(120.75,0)\" d=\"M0,60v360\" style=\"stroke: rgb(255, 255, 255); stroke-opacity: 1; stroke-width: 2px;\"/><path class=\"yzl zl crisp\" transform=\"translate(0,398.26)\" d=\"M80,0h740\" style=\"stroke: rgb(255, 255, 255); stroke-opacity: 1; stroke-width: 2px;\"/></g><path class=\"xlines-below\"/><path class=\"ylines-below\"/><g class=\"overlines-below\"/><g class=\"xaxislayer-below\"/><g class=\"yaxislayer-below\"/><g class=\"overaxes-below\"/><g class=\"plot\" transform=\"translate(80,60)\" clip-path=\"url(#clipd87331xyplot)\"/><g class=\"overplot\"/><path class=\"xlines-above crisp\" d=\"M0,0\" style=\"fill: none;\"/><path class=\"ylines-above crisp\" d=\"M0,0\" style=\"fill: none;\"/><g class=\"overlines-above\"/><g class=\"xaxislayer-above\"><g class=\"xtick\"><text text-anchor=\"middle\" x=\"0\" y=\"433\" transform=\"translate(120.75,0)\" style=\"font-family: 'Open Sans', verdana, arial, sans-serif; font-size: 12px; fill: rgb(42, 63, 95); fill-opacity: 1; white-space: pre; opacity: 1;\">0</text></g><g class=\"xtick\"><text text-anchor=\"middle\" x=\"0\" y=\"433\" style=\"font-family: 'Open Sans', verdana, arial, sans-serif; font-size: 12px; fill: rgb(42, 63, 95); fill-opacity: 1; white-space: pre; opacity: 1;\" transform=\"translate(230.87,0)\">200</text></g><g class=\"xtick\"><text text-anchor=\"middle\" x=\"0\" y=\"433\" style=\"font-family: 'Open Sans', verdana, arial, sans-serif; font-size: 12px; fill: rgb(42, 63, 95); fill-opacity: 1; white-space: pre; opacity: 1;\" transform=\"translate(340.98,0)\">400</text></g><g class=\"xtick\"><text text-anchor=\"middle\" x=\"0\" y=\"433\" style=\"font-family: 'Open Sans', verdana, arial, sans-serif; font-size: 12px; fill: rgb(42, 63, 95); fill-opacity: 1; white-space: pre; opacity: 1;\" transform=\"translate(451.1,0)\">600</text></g><g class=\"xtick\"><text text-anchor=\"middle\" x=\"0\" y=\"433\" style=\"font-family: 'Open Sans', verdana, arial, sans-serif; font-size: 12px; fill: rgb(42, 63, 95); fill-opacity: 1; white-space: pre; opacity: 1;\" transform=\"translate(561.22,0)\">800</text></g><g class=\"xtick\"><text text-anchor=\"middle\" x=\"0\" y=\"433\" style=\"font-family: 'Open Sans', verdana, arial, sans-serif; font-size: 12px; fill: rgb(42, 63, 95); fill-opacity: 1; white-space: pre; opacity: 1;\" transform=\"translate(671.34,0)\">1000</text></g><g class=\"xtick\"><text text-anchor=\"middle\" x=\"0\" y=\"433\" style=\"font-family: 'Open Sans', verdana, arial, sans-serif; font-size: 12px; fill: rgb(42, 63, 95); fill-opacity: 1; white-space: pre; opacity: 1;\" transform=\"translate(781.45,0)\">1200</text></g></g><g class=\"yaxislayer-above\"><g class=\"ytick\"><text text-anchor=\"end\" x=\"79\" y=\"4.199999999999999\" transform=\"translate(0,398.26)\" style=\"font-family: 'Open Sans', verdana, arial, sans-serif; font-size: 12px; fill: rgb(42, 63, 95); fill-opacity: 1; white-space: pre; opacity: 1;\">0</text></g><g class=\"ytick\"><text text-anchor=\"end\" x=\"79\" y=\"4.199999999999999\" style=\"font-family: 'Open Sans', verdana, arial, sans-serif; font-size: 12px; fill: rgb(42, 63, 95); fill-opacity: 1; white-space: pre; opacity: 1;\" transform=\"translate(0,349.36)\">0.2M</text></g><g class=\"ytick\"><text text-anchor=\"end\" x=\"79\" y=\"4.199999999999999\" style=\"font-family: 'Open Sans', verdana, arial, sans-serif; font-size: 12px; fill: rgb(42, 63, 95); fill-opacity: 1; white-space: pre; opacity: 1;\" transform=\"translate(0,300.46000000000004)\">0.4M</text></g><g class=\"ytick\"><text text-anchor=\"end\" x=\"79\" y=\"4.199999999999999\" style=\"font-family: 'Open Sans', verdana, arial, sans-serif; font-size: 12px; fill: rgb(42, 63, 95); fill-opacity: 1; white-space: pre; opacity: 1;\" transform=\"translate(0,251.56)\">0.6M</text></g><g class=\"ytick\"><text text-anchor=\"end\" x=\"79\" y=\"4.199999999999999\" style=\"font-family: 'Open Sans', verdana, arial, sans-serif; font-size: 12px; fill: rgb(42, 63, 95); fill-opacity: 1; white-space: pre; opacity: 1;\" transform=\"translate(0,202.66)\">0.8M</text></g><g class=\"ytick\"><text text-anchor=\"end\" x=\"79\" y=\"4.199999999999999\" style=\"font-family: 'Open Sans', verdana, arial, sans-serif; font-size: 12px; fill: rgb(42, 63, 95); fill-opacity: 1; white-space: pre; opacity: 1;\" transform=\"translate(0,153.76)\">1M</text></g><g class=\"ytick\"><text text-anchor=\"end\" x=\"79\" y=\"4.199999999999999\" style=\"font-family: 'Open Sans', verdana, arial, sans-serif; font-size: 12px; fill: rgb(42, 63, 95); fill-opacity: 1; white-space: pre; opacity: 1;\" transform=\"translate(0,104.86)\">1.2M</text></g></g><g class=\"overaxes-above\"/></g></g><g class=\"polarlayer\"/><g class=\"ternarylayer\"/><g class=\"geolayer\"/><g class=\"funnelarealayer\"/><g class=\"pielayer\"/><g class=\"iciclelayer\"/><g class=\"treemaplayer\"/><g class=\"sunburstlayer\"/><g class=\"glimages\"><image xmlns=\"http://www.w3.org/2000/svg\" xlink:href=\"data:image/png;base64,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\" preserveAspectRatio=\"none\" x=\"0\" y=\"0\" width=\"900\" height=\"500\"/><image xmlns=\"http://www.w3.org/2000/svg\" xlink:href=\"data:image/png;base64,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\" preserveAspectRatio=\"none\" x=\"0\" y=\"0\" width=\"900\" height=\"500\"/></g><defs id=\"topdefs-d87331\"><g class=\"clips\"/></defs><g class=\"layer-above\"><g class=\"imagelayer\"/><g class=\"shapelayer\"/></g><g class=\"infolayer\"><g class=\"g-gtitle\"><text class=\"gtitle\" x=\"45\" y=\"30\" text-anchor=\"start\" dy=\"0em\" style=\"font-family: 'Open Sans', verdana, arial, sans-serif; font-size: 17px; fill: rgb(42, 63, 95); opacity: 1; font-weight: normal; white-space: pre;\">Точечный график распределения стоимости заказов</text></g><g class=\"g-xtitle\"><text class=\"xtitle\" x=\"450\" y=\"460.8\" text-anchor=\"middle\" style=\"font-family: 'Open Sans', verdana, arial, sans-serif; font-size: 14px; fill: rgb(42, 63, 95); opacity: 1; font-weight: normal; white-space: pre;\">Порядковый номер заказа</text></g><g class=\"g-ytitle\"><text class=\"ytitle\" transform=\"rotate(-90,24.450000000000003,240)\" x=\"24.450000000000003\" y=\"240\" text-anchor=\"middle\" style=\"font-family: 'Open Sans', verdana, arial, sans-serif; font-size: 14px; fill: rgb(42, 63, 95); opacity: 1; font-weight: normal; white-space: pre;\">Стоимость заказа</text></g></g></svg>"
      ]
     },
     "metadata": {},
     "output_type": "display_data"
    }
   ],
   "source": [
    "fig = px.scatter(orders, y='revenue')\n",
    "fig.update_layout(title='Точечный график распределения стоимости заказов',\n",
    "                  xaxis_title='Порядковый номер заказа',\n",
    "                  yaxis_title='Стоимость заказа',\n",
    "                  width=900, height=500)\n",
    "fig.show('svg')"
   ]
  },
  {
   "cell_type": "markdown",
   "metadata": {},
   "source": [
    "**Вывод:** 1 заказ явно отличается от остальных. По данному графику сразу нельзя сказать границу аномальных значений."
   ]
  },
  {
   "cell_type": "markdown",
   "metadata": {},
   "source": [
    "## 2.9. 95-й и 99-й перцентили стоимости заказов"
   ]
  },
  {
   "cell_type": "code",
   "execution_count": 34,
   "metadata": {},
   "outputs": [
    {
     "name": "stdout",
     "output_type": "stream",
     "text": [
      "[26785. 53904.]\n"
     ]
    }
   ],
   "source": [
    "print(np.percentile(orders['revenue'], [95, 99])) "
   ]
  },
  {
   "cell_type": "markdown",
   "metadata": {},
   "source": [
    "**Вывод:** 5% заказов стоимостью выше 26785 у.е. Она и будет нижней границей аномальных значений стоимости заказов."
   ]
  },
  {
   "cell_type": "markdown",
   "metadata": {},
   "source": [
    "## 2.10. Cтатистическая значимость различий в конверсии между группами по «сырым» данным"
   ]
  },
  {
   "cell_type": "markdown",
   "metadata": {},
   "source": [
    "Соберем все необходимые данные в одну таблицу:"
   ]
  },
  {
   "cell_type": "code",
   "execution_count": 35,
   "metadata": {},
   "outputs": [],
   "source": [
    "# Количество покупателей в указанную дату в группе А\n",
    "visitorsADaily = visitors[visitors['group'] == 'A'][['date', 'visitors']]\n",
    "visitorsADaily.columns = ['date', 'visitorsPerDateA']\n",
    "\n",
    "# Количество покупателей в указанную дату в группе В\n",
    "visitorsBDaily = visitors[visitors['group'] == 'B'][['date', 'visitors']]\n",
    "visitorsBDaily.columns = ['date', 'visitorsPerDateB']\n",
    "\n",
    "# Количество заказов и их общая сумма в указанную дату в группе А\n",
    "ordersADaily = (\n",
    "    orders[orders['group'] == 'A'][['date', 'transaction_id', 'visitor_id', 'revenue']]\n",
    "    .groupby('date', as_index=False)\n",
    "    .agg({'transaction_id': pd.Series.nunique, 'revenue': 'sum'}))\n",
    "ordersADaily.columns = ['date', 'ordersPerDateA', 'revenuePerDateA']\n",
    "\n",
    "# Количество заказов и их общая сумма в указанную дату в группе В\n",
    "ordersBDaily = (\n",
    "    orders[orders['group'] == 'B'][['date', 'transaction_id', 'visitor_id', 'revenue']]\n",
    "    .groupby('date', as_index=False)\n",
    "    .agg({'transaction_id': pd.Series.nunique, 'revenue': 'sum'}))\n",
    "ordersBDaily.columns = ['date', 'ordersPerDateB', 'revenuePerDateB']\n",
    "\n",
    "# Получаем агрегированные кумулятивные по дням данные о заказах группы А\n",
    "ordersACummulative = ordersADaily.apply(\n",
    "    lambda x: ordersADaily[ordersADaily['date'] <= x['date']].agg(\n",
    "        {'date': 'max', 'ordersPerDateA': 'sum', 'revenuePerDateA': 'sum'}\n",
    "    ),\n",
    "    axis=1,\n",
    ").sort_values(by=['date'])\n",
    "ordersACummulative.columns = ['date','ordersCummulativeA','revenueCummulativeA']\n",
    "\n",
    "# Получаем агрегированные кумулятивные по дням данные о заказах группы В\n",
    "ordersBCummulative = ordersBDaily.apply(\n",
    "    lambda x: ordersBDaily[ordersBDaily['date'] <= x['date']].agg(\n",
    "        {'date': 'max', 'ordersPerDateB': 'sum', 'revenuePerDateB': 'sum'}\n",
    "    ),\n",
    "    axis=1,\n",
    ").sort_values(by=['date'])\n",
    "ordersBCummulative.columns = ['date','ordersCummulativeB','revenueCummulativeB']\n",
    "\n",
    "# Получаем агрегированные кумулятивные по дням данные о пользователях группы А\n",
    "visitorsACummulative = visitorsADaily.apply(\n",
    "    lambda x: visitorsADaily[visitorsADaily['date'] <= x['date']].agg(\n",
    "        {'date': 'max', 'visitorsPerDateA': 'sum'}\n",
    "    ),\n",
    "    axis=1,\n",
    ")\n",
    "visitorsACummulative.columns = ['date', 'visitorsCummulativeA']\n",
    "\n",
    "# Получаем агрегированные кумулятивные по дням данные о пользователях группы В\n",
    "visitorsBCummulative = visitorsBDaily.apply(\n",
    "    lambda x: visitorsBDaily[visitorsBDaily['date'] <= x['date']].agg(\n",
    "        {'date': 'max', 'visitorsPerDateB': 'sum'}\n",
    "    ),\n",
    "    axis=1,\n",
    ")\n",
    "visitorsBCummulative.columns = ['date', 'visitorsCummulativeB']\n",
    "\n",
    "# Общая таблица всех данных\n",
    "data = (\n",
    "    ordersADaily.merge(\n",
    "        ordersBDaily, left_on='date', right_on='date', how='left'\n",
    "    )\n",
    "    .merge(ordersACummulative, left_on='date', right_on='date', how='left')\n",
    "    .merge(ordersBCummulative, left_on='date', right_on='date', how='left')\n",
    "    .merge(visitorsADaily, left_on='date', right_on='date', how='left')\n",
    "    .merge(visitorsBDaily, left_on='date', right_on='date', how='left')\n",
    "    .merge(visitorsACummulative, left_on='date', right_on='date', how='left')\n",
    "    .merge(visitorsBCummulative, left_on='date', right_on='date', how='left')\n",
    ")"
   ]
  },
  {
   "cell_type": "markdown",
   "metadata": {},
   "source": [
    "Посчитаем количество заказов для каждого пользователя в каждой группе:"
   ]
  },
  {
   "cell_type": "code",
   "execution_count": 36,
   "metadata": {},
   "outputs": [],
   "source": [
    "# для группы А\n",
    "ordersByUsersA = (\n",
    "    orders[orders['group'] == 'A']\n",
    "    .groupby('visitor_id', as_index=False)\n",
    "    .agg({'transaction_id': pd.Series.nunique})\n",
    ")\n",
    "ordersByUsersA.columns = ['visitor_id', 'orders']\n",
    "\n",
    "# для группы В\n",
    "ordersByUsersB = (\n",
    "    orders[orders['group'] == 'B']\n",
    "    .groupby('visitor_id', as_index=False)\n",
    "    .agg({'transaction_id': pd.Series.nunique})\n",
    ")\n",
    "ordersByUsersB.columns = ['visitor_id', 'orders'] "
   ]
  },
  {
   "cell_type": "markdown",
   "metadata": {},
   "source": [
    "Количество заказов для каждого пользователя в каждой группе:"
   ]
  },
  {
   "cell_type": "code",
   "execution_count": 37,
   "metadata": {},
   "outputs": [],
   "source": [
    "sampleA = pd.concat(\n",
    "    [ordersByUsersA['orders'],\n",
    "     pd.Series(0, index=np.arange(data['visitorsPerDateA'].sum() - len(ordersByUsersA['orders'])),name='orders')],\n",
    "     axis=0)\n",
    "\n",
    "sampleB = pd.concat(\n",
    "    [ordersByUsersB['orders'],\n",
    "    pd.Series(0, index=np.arange(data['visitorsPerDateB'].sum() - len(ordersByUsersB['orders'])), name='orders')],\n",
    "    axis=0)"
   ]
  },
  {
   "cell_type": "markdown",
   "metadata": {},
   "source": [
    "Применим статистический критерий Манна-Уитни к полученным данным:"
   ]
  },
  {
   "cell_type": "code",
   "execution_count": 38,
   "metadata": {},
   "outputs": [
    {
     "name": "stdout",
     "output_type": "stream",
     "text": [
      "P-value = 0.011\n",
      "Отношение конверсии группы В к группе А = 15.980%\n"
     ]
    }
   ],
   "source": [
    "print(\"P-value = {0:.3f}\".format(stats.mannwhitneyu(sampleA, sampleB, alternative='two-sided')[1]))\n",
    "\n",
    "print(\"Отношение конверсии группы В к группе А = {0:.3%}\".format(sampleB.mean() / sampleA.mean() - 1))"
   ]
  },
  {
   "cell_type": "markdown",
   "metadata": {},
   "source": [
    "**Нулевая гипотеза:** конверсии между группами А и В равна\n",
    "\n",
    "**Альтернативная гипотеза:** конверсии между группами А и В различается\n",
    "\n",
    "**Вывод:** P-value меньше 0.05. Значит, отвергаем нулевую гипотезу и считаем, что в конверсии между группами есть различия. Также величина конверсии группы В выше, чем у группы А, на 16%."
   ]
  },
  {
   "cell_type": "markdown",
   "metadata": {},
   "source": [
    "## 2.11. Статистическая значимость различий в среднем чеке заказа между группами по «сырым» данным"
   ]
  },
  {
   "cell_type": "code",
   "execution_count": 39,
   "metadata": {
    "scrolled": false
   },
   "outputs": [
    {
     "name": "stdout",
     "output_type": "stream",
     "text": [
      "P-value = 0.829\n",
      "Отношение среднего чека группы В к группе А = 28.660%\n"
     ]
    }
   ],
   "source": [
    "print('P-value = {0:.3f}'.format(\n",
    "    stats.mannwhitneyu(orders[orders['group']=='A']['revenue'], orders[orders['group']=='B']['revenue'],\n",
    "                       alternative='two-sided')[1]))\n",
    "\n",
    "print('Отношение среднего чека группы В к группе А = {0:.3%}'.format(\n",
    "    orders[orders['group']=='B']['revenue'].mean()/orders[orders['group']=='A']['revenue'].mean()-1))"
   ]
  },
  {
   "cell_type": "markdown",
   "metadata": {},
   "source": [
    "**Нулевая гипотеза:** средний чек между группами А и В равен\n",
    "\n",
    "**Альтернативная гипотеза:** средний чек между группами А и В различается\n",
    "\n",
    "**Вывод:** P-value значительно больше 0.05. Значит считаем, что есть различия между средними чеками разных групп. Также средний чек группы В выше, чем у группы А, на 28.7%."
   ]
  },
  {
   "cell_type": "markdown",
   "metadata": {},
   "source": [
    "## 2.12. Cтатистическая значимость различий в конверсии между группами по «очищенным» данным."
   ]
  },
  {
   "cell_type": "markdown",
   "metadata": {},
   "source": [
    "Отфильтруем данные от анамальных значений, которые были выбраны выше:"
   ]
  },
  {
   "cell_type": "code",
   "execution_count": 40,
   "metadata": {},
   "outputs": [],
   "source": [
    "usersWithManyOrders = pd.concat(\n",
    "    [\n",
    "        ordersByUsersA[ordersByUsersA['orders'] > 1]['visitor_id'],\n",
    "        ordersByUsersB[ordersByUsersB['orders'] > 1]['visitor_id'],\n",
    "    ],\n",
    "    axis=0,\n",
    ")\n",
    "usersWithExpensiveOrders = orders[orders['revenue'] > 26785]['visitor_id']\n",
    "abnormalUsers = (\n",
    "    pd.concat([usersWithManyOrders, usersWithExpensiveOrders], axis=0)\n",
    "    .drop_duplicates()\n",
    "    .sort_values()\n",
    ") "
   ]
  },
  {
   "cell_type": "code",
   "execution_count": 41,
   "metadata": {},
   "outputs": [],
   "source": [
    "sampleAFiltered = pd.concat(\n",
    "    [\n",
    "        ordersByUsersA[\n",
    "            np.logical_not(ordersByUsersA['visitor_id'].isin(abnormalUsers))\n",
    "        ]['orders'],\n",
    "        pd.Series(\n",
    "            0,\n",
    "            index=np.arange(\n",
    "                data['visitorsPerDateA'].sum() - len(ordersByUsersA['orders'])\n",
    "            ),\n",
    "            name='orders',\n",
    "        ),\n",
    "    ],\n",
    "    axis=0,\n",
    ")\n",
    "\n",
    "sampleBFiltered = pd.concat(\n",
    "    [\n",
    "        ordersByUsersB[\n",
    "            np.logical_not(ordersByUsersB['visitor_id'].isin(abnormalUsers))\n",
    "        ]['orders'],\n",
    "        pd.Series(\n",
    "            0,\n",
    "            index=np.arange(\n",
    "                data['visitorsPerDateB'].sum() - len(ordersByUsersB['orders'])\n",
    "            ),\n",
    "            name='orders',\n",
    "        ),\n",
    "    ],\n",
    "    axis=0,\n",
    ")"
   ]
  },
  {
   "cell_type": "code",
   "execution_count": 42,
   "metadata": {
    "scrolled": false
   },
   "outputs": [
    {
     "name": "stdout",
     "output_type": "stream",
     "text": [
      "P-value = 0.016\n",
      "Отношение конверсии группы В к группе А = 17.393%\n"
     ]
    }
   ],
   "source": [
    "print(\"P-value = {0:.3f}\".format(stats.mannwhitneyu(sampleAFiltered, sampleBFiltered, alternative='two-sided')[1]))\n",
    "\n",
    "print(\"Отношение конверсии группы В к группе А = {0:.3%}\".format(sampleBFiltered.mean() / sampleAFiltered.mean() - 1))"
   ]
  },
  {
   "cell_type": "markdown",
   "metadata": {},
   "source": [
    "**Нулевая гипотеза:** конверсии между группами А и В равна\n",
    "\n",
    "**Альтернативная гипотеза:** конверсии между группами А и В различается\n",
    "\n",
    "**Вывод:** P-value значительно меньше 0.05. Значит, отвергаем нулевую гипотезу и считаем, что в конверсии между группами есть различия. Также величина конверсии группы В выше, чем у группы А, на 17.4%."
   ]
  },
  {
   "cell_type": "markdown",
   "metadata": {},
   "source": [
    "## 2.13. Cтатистическая значимость различий в среднем чеке заказа между группами по «очищенным» данным"
   ]
  },
  {
   "cell_type": "code",
   "execution_count": 43,
   "metadata": {},
   "outputs": [
    {
     "name": "stdout",
     "output_type": "stream",
     "text": [
      "P-value = 0.727\n",
      "Отношение среднего чека группы В к группе А = -3.373%\n"
     ]
    }
   ],
   "source": [
    "print('P-value = {0:.3f}'.format(\n",
    "        stats.mannwhitneyu(\n",
    "            orders[np.logical_and(\n",
    "                    orders['group'] == 'A',\n",
    "                    np.logical_not(orders['visitor_id'].isin(abnormalUsers)))]['revenue'],\n",
    "            orders[np.logical_and(\n",
    "                    orders['group'] == 'B',\n",
    "                    np.logical_not(orders['visitor_id'].isin(abnormalUsers)))]['revenue'],\n",
    "            alternative='two-sided')[1]))\n",
    "\n",
    "print(\"Отношение среднего чека группы В к группе А = {0:.3%}\".format(\n",
    "        orders[np.logical_and(\n",
    "                orders['group'] == 'B',\n",
    "                np.logical_not(orders['visitor_id'].isin(abnormalUsers)))]['revenue'].mean()\n",
    "        / orders[np.logical_and(\n",
    "                orders['group'] == 'A',\n",
    "                np.logical_not(orders['visitor_id'].isin(abnormalUsers)))]['revenue'].mean() - 1))"
   ]
  },
  {
   "cell_type": "markdown",
   "metadata": {},
   "source": [
    "**Нулевая гипотеза:** средние чеки между группами А и В равны\n",
    "\n",
    "**Альтернативная гипотеза:** средние чеки между группами А и В различаются\n",
    "\n",
    "**Вывод:** P-value значительно больше 0.05. Значит, причин отвергать нулевую гипотезу и считать, что в среднем чеке есть различия, нет. Впрочем, средний чек группы B стал ниже группы А на 3.4%."
   ]
  },
  {
   "cell_type": "markdown",
   "metadata": {},
   "source": [
    "# Заключение"
   ]
  },
  {
   "cell_type": "markdown",
   "metadata": {},
   "source": [
    "Имеющиеся факты:\n",
    "- Нет статистически значимого различия по конверсии между группами ни по «сырым», ни по данным после фильтрации аномалий;\n",
    "- Нет статистически значимого различия по среднему чеку между группами ни по «сырым», ни по данным после фильтрации аномалий;\n",
    "- График различия конверсии между группами (Пункт 2.5) сообщает, что результаты группы B лучше группы A на 15%.\n",
    "- График различия среднего чека говорит о том, что результаты группы B стабилизируется день ото дня и сейчас почти на 26% выше.\n",
    "\n",
    "Исходя из обнаруженных фактов, тест следует продолжить, чтоб необределенные значения стали опредленными и доконца убедиться в более положительных(выгодных) показателях группы В по отношению к группе А."
   ]
  }
 ],
 "metadata": {
  "ExecuteTimeLog": [
   {
    "duration": 790,
    "start_time": "2021-06-27T14:07:04.179Z"
   },
   {
    "duration": 25,
    "start_time": "2021-06-27T14:07:06.972Z"
   },
   {
    "duration": 39,
    "start_time": "2021-06-27T14:07:32.037Z"
   },
   {
    "duration": 23,
    "start_time": "2021-06-27T14:07:37.840Z"
   },
   {
    "duration": 25,
    "start_time": "2021-06-27T14:10:56.286Z"
   },
   {
    "duration": 724,
    "start_time": "2021-06-27T19:42:30.975Z"
   },
   {
    "duration": 25,
    "start_time": "2021-06-27T19:42:31.702Z"
   },
   {
    "duration": 21,
    "start_time": "2021-06-27T19:42:31.730Z"
   },
   {
    "duration": 33,
    "start_time": "2021-06-27T19:42:31.753Z"
   },
   {
    "duration": 727,
    "start_time": "2021-06-28T18:18:21.599Z"
   },
   {
    "duration": 24,
    "start_time": "2021-06-28T18:18:22.329Z"
   },
   {
    "duration": 14,
    "start_time": "2021-06-28T18:18:22.357Z"
   },
   {
    "duration": 33,
    "start_time": "2021-06-28T18:18:22.374Z"
   },
   {
    "duration": 7159,
    "start_time": "2021-06-28T18:18:22.409Z"
   },
   {
    "duration": 16,
    "start_time": "2021-06-28T18:20:34.724Z"
   },
   {
    "duration": 12,
    "start_time": "2021-06-28T18:21:08.200Z"
   },
   {
    "duration": 15,
    "start_time": "2021-06-28T18:23:36.909Z"
   },
   {
    "duration": 6730,
    "start_time": "2021-06-28T18:24:19.030Z"
   },
   {
    "duration": 16,
    "start_time": "2021-06-28T18:24:35.778Z"
   },
   {
    "duration": 16,
    "start_time": "2021-06-28T18:24:52.061Z"
   },
   {
    "duration": 13,
    "start_time": "2021-06-28T18:28:24.153Z"
   },
   {
    "duration": 20,
    "start_time": "2021-06-28T18:30:08.677Z"
   },
   {
    "duration": 21,
    "start_time": "2021-06-28T18:30:11.512Z"
   },
   {
    "duration": 16,
    "start_time": "2021-06-28T18:30:32.241Z"
   },
   {
    "duration": 13,
    "start_time": "2021-06-28T18:30:35.384Z"
   },
   {
    "duration": 84,
    "start_time": "2021-06-28T18:32:04.642Z"
   },
   {
    "duration": 15,
    "start_time": "2021-06-28T18:32:33.885Z"
   },
   {
    "duration": 15,
    "start_time": "2021-06-28T18:33:02.417Z"
   },
   {
    "duration": 707,
    "start_time": "2021-06-28T18:34:13.214Z"
   },
   {
    "duration": 24,
    "start_time": "2021-06-28T18:34:13.924Z"
   },
   {
    "duration": 13,
    "start_time": "2021-06-28T18:34:13.952Z"
   },
   {
    "duration": 37,
    "start_time": "2021-06-28T18:34:13.968Z"
   },
   {
    "duration": 13,
    "start_time": "2021-06-28T18:34:14.008Z"
   },
   {
    "duration": 13,
    "start_time": "2021-06-28T18:34:14.024Z"
   },
   {
    "duration": 722,
    "start_time": "2021-06-28T18:35:08.646Z"
   },
   {
    "duration": 26,
    "start_time": "2021-06-28T18:35:09.370Z"
   },
   {
    "duration": 465,
    "start_time": "2021-06-28T18:35:09.402Z"
   },
   {
    "duration": -339,
    "start_time": "2021-06-28T18:35:10.209Z"
   },
   {
    "duration": -340,
    "start_time": "2021-06-28T18:35:10.212Z"
   },
   {
    "duration": -342,
    "start_time": "2021-06-28T18:35:10.215Z"
   },
   {
    "duration": 739,
    "start_time": "2021-06-28T18:35:30.818Z"
   },
   {
    "duration": 26,
    "start_time": "2021-06-28T18:35:31.561Z"
   },
   {
    "duration": 16,
    "start_time": "2021-06-28T18:35:31.603Z"
   },
   {
    "duration": 25,
    "start_time": "2021-06-28T18:35:31.622Z"
   },
   {
    "duration": 50,
    "start_time": "2021-06-28T18:35:31.650Z"
   },
   {
    "duration": 367,
    "start_time": "2021-06-28T18:35:31.703Z"
   },
   {
    "duration": 13,
    "start_time": "2021-06-28T18:35:45.132Z"
   },
   {
    "duration": 14,
    "start_time": "2021-06-28T18:36:57.523Z"
   },
   {
    "duration": 14,
    "start_time": "2021-06-28T18:37:00.032Z"
   },
   {
    "duration": 17,
    "start_time": "2021-06-28T18:37:40.129Z"
   },
   {
    "duration": 15,
    "start_time": "2021-06-28T18:37:42.423Z"
   },
   {
    "duration": 15,
    "start_time": "2021-06-28T18:38:39.023Z"
   },
   {
    "duration": 14,
    "start_time": "2021-06-28T18:38:41.316Z"
   },
   {
    "duration": 98,
    "start_time": "2021-06-28T18:38:48.125Z"
   },
   {
    "duration": 14,
    "start_time": "2021-06-28T18:38:56.054Z"
   },
   {
    "duration": 15,
    "start_time": "2021-06-28T18:39:01.020Z"
   },
   {
    "duration": 15,
    "start_time": "2021-06-28T18:39:39.957Z"
   },
   {
    "duration": 13,
    "start_time": "2021-06-28T18:39:42.685Z"
   },
   {
    "duration": 16,
    "start_time": "2021-06-28T18:40:11.494Z"
   },
   {
    "duration": 24,
    "start_time": "2021-06-28T18:41:02.909Z"
   },
   {
    "duration": 721,
    "start_time": "2021-06-28T18:41:07.800Z"
   },
   {
    "duration": 25,
    "start_time": "2021-06-28T18:41:08.524Z"
   },
   {
    "duration": 12,
    "start_time": "2021-06-28T18:41:08.552Z"
   },
   {
    "duration": 39,
    "start_time": "2021-06-28T18:41:08.567Z"
   },
   {
    "duration": 16,
    "start_time": "2021-06-28T18:41:08.608Z"
   },
   {
    "duration": 14,
    "start_time": "2021-06-28T18:41:08.626Z"
   },
   {
    "duration": 3,
    "start_time": "2021-06-28T18:53:49.528Z"
   },
   {
    "duration": 23,
    "start_time": "2021-06-28T18:53:52.359Z"
   },
   {
    "duration": 57,
    "start_time": "2021-06-28T18:57:39.601Z"
   },
   {
    "duration": 37,
    "start_time": "2021-06-28T18:58:07.170Z"
   },
   {
    "duration": 45,
    "start_time": "2021-06-28T19:00:11.312Z"
   },
   {
    "duration": 27,
    "start_time": "2021-06-28T19:00:12.150Z"
   },
   {
    "duration": 456,
    "start_time": "2021-06-28T19:02:38.995Z"
   },
   {
    "duration": 285,
    "start_time": "2021-06-28T19:03:06.243Z"
   },
   {
    "duration": 292,
    "start_time": "2021-06-28T19:03:24.930Z"
   },
   {
    "duration": 56,
    "start_time": "2021-06-28T19:04:38.286Z"
   },
   {
    "duration": 19,
    "start_time": "2021-06-28T19:04:42.906Z"
   },
   {
    "duration": 14,
    "start_time": "2021-06-28T19:06:10.005Z"
   },
   {
    "duration": 61,
    "start_time": "2021-06-28T19:06:35.813Z"
   },
   {
    "duration": 17,
    "start_time": "2021-06-28T19:06:37.658Z"
   },
   {
    "duration": 101,
    "start_time": "2021-06-28T19:08:42.461Z"
   },
   {
    "duration": 13,
    "start_time": "2021-06-28T19:09:35.025Z"
   },
   {
    "duration": 12,
    "start_time": "2021-06-28T19:10:18.620Z"
   },
   {
    "duration": 9,
    "start_time": "2021-06-28T19:10:45.952Z"
   },
   {
    "duration": 18,
    "start_time": "2021-06-28T19:33:36.685Z"
   },
   {
    "duration": 1102,
    "start_time": "2021-06-28T19:50:56.601Z"
   },
   {
    "duration": 19,
    "start_time": "2021-06-28T19:51:25.738Z"
   },
   {
    "duration": 1176,
    "start_time": "2021-06-28T19:52:06.804Z"
   },
   {
    "duration": 593,
    "start_time": "2021-06-28T19:52:27.899Z"
   },
   {
    "duration": 776,
    "start_time": "2021-06-28T19:59:01.179Z"
   },
   {
    "duration": 25,
    "start_time": "2021-06-28T19:59:01.958Z"
   },
   {
    "duration": 22,
    "start_time": "2021-06-28T19:59:01.987Z"
   },
   {
    "duration": 44,
    "start_time": "2021-06-28T19:59:02.012Z"
   },
   {
    "duration": 20,
    "start_time": "2021-06-28T19:59:02.058Z"
   },
   {
    "duration": 53,
    "start_time": "2021-06-28T19:59:02.081Z"
   },
   {
    "duration": 23,
    "start_time": "2021-06-28T19:59:02.136Z"
   },
   {
    "duration": 14,
    "start_time": "2021-06-28T19:59:02.163Z"
   },
   {
    "duration": 11,
    "start_time": "2021-06-28T19:59:02.180Z"
   },
   {
    "duration": 9,
    "start_time": "2021-06-28T19:59:02.194Z"
   },
   {
    "duration": 12,
    "start_time": "2021-06-28T19:59:02.206Z"
   },
   {
    "duration": 20,
    "start_time": "2021-06-28T19:59:02.221Z"
   },
   {
    "duration": 386,
    "start_time": "2021-06-28T19:59:02.244Z"
   },
   {
    "duration": 16,
    "start_time": "2021-06-28T19:59:12.972Z"
   },
   {
    "duration": 1566,
    "start_time": "2021-06-28T20:00:26.238Z"
   },
   {
    "duration": 386,
    "start_time": "2021-06-28T20:01:03.459Z"
   },
   {
    "duration": 16,
    "start_time": "2021-06-28T20:01:05.848Z"
   },
   {
    "duration": 10,
    "start_time": "2021-06-28T20:06:47.999Z"
   },
   {
    "duration": 604,
    "start_time": "2021-06-28T20:07:50.153Z"
   },
   {
    "duration": 154,
    "start_time": "2021-06-28T20:08:03.469Z"
   },
   {
    "duration": 307,
    "start_time": "2021-06-28T20:08:07.032Z"
   },
   {
    "duration": 306,
    "start_time": "2021-06-28T20:08:15.421Z"
   },
   {
    "duration": 1507,
    "start_time": "2021-06-28T20:11:32.707Z"
   },
   {
    "duration": 881,
    "start_time": "2021-06-28T20:14:08.136Z"
   },
   {
    "duration": 424,
    "start_time": "2021-06-28T20:16:03.066Z"
   },
   {
    "duration": 269,
    "start_time": "2021-06-28T20:16:17.041Z"
   },
   {
    "duration": 13,
    "start_time": "2021-06-28T20:23:43.980Z"
   },
   {
    "duration": 8,
    "start_time": "2021-06-28T20:23:55.759Z"
   },
   {
    "duration": 8,
    "start_time": "2021-06-28T20:24:01.942Z"
   },
   {
    "duration": 179,
    "start_time": "2021-06-28T20:28:08.641Z"
   },
   {
    "duration": 190,
    "start_time": "2021-06-28T20:28:47.310Z"
   },
   {
    "duration": 187,
    "start_time": "2021-06-28T20:29:18.214Z"
   },
   {
    "duration": 333,
    "start_time": "2021-06-28T20:30:58.032Z"
   },
   {
    "duration": 191,
    "start_time": "2021-06-28T20:31:12.752Z"
   },
   {
    "duration": 432,
    "start_time": "2021-06-28T20:34:34.282Z"
   },
   {
    "duration": 437,
    "start_time": "2021-06-28T20:35:49.018Z"
   },
   {
    "duration": 93,
    "start_time": "2021-06-28T20:36:00.087Z"
   },
   {
    "duration": 591,
    "start_time": "2021-06-28T20:37:19.856Z"
   },
   {
    "duration": 309,
    "start_time": "2021-06-28T20:44:12.057Z"
   },
   {
    "duration": 339,
    "start_time": "2021-06-28T20:44:28.269Z"
   },
   {
    "duration": 195,
    "start_time": "2021-06-28T20:44:59.213Z"
   },
   {
    "duration": 735,
    "start_time": "2021-06-28T20:47:49.869Z"
   },
   {
    "duration": 468,
    "start_time": "2021-06-28T20:47:59.037Z"
   },
   {
    "duration": 462,
    "start_time": "2021-06-28T20:48:09.661Z"
   },
   {
    "duration": 625,
    "start_time": "2021-06-28T20:48:34.625Z"
   },
   {
    "duration": 447,
    "start_time": "2021-06-28T20:49:12.714Z"
   },
   {
    "duration": 451,
    "start_time": "2021-06-28T20:49:47.009Z"
   },
   {
    "duration": 194,
    "start_time": "2021-06-28T20:54:18.726Z"
   },
   {
    "duration": 426,
    "start_time": "2021-06-28T20:57:39.307Z"
   },
   {
    "duration": 373,
    "start_time": "2021-06-28T20:57:46.952Z"
   },
   {
    "duration": 1205,
    "start_time": "2021-06-28T20:58:14.183Z"
   },
   {
    "duration": 23,
    "start_time": "2021-06-28T20:58:15.391Z"
   },
   {
    "duration": 12,
    "start_time": "2021-06-28T20:58:15.417Z"
   },
   {
    "duration": 25,
    "start_time": "2021-06-28T20:58:15.433Z"
   },
   {
    "duration": 16,
    "start_time": "2021-06-28T20:58:15.460Z"
   },
   {
    "duration": 44,
    "start_time": "2021-06-28T20:58:15.501Z"
   },
   {
    "duration": 22,
    "start_time": "2021-06-28T20:58:15.548Z"
   },
   {
    "duration": 15,
    "start_time": "2021-06-28T20:58:15.574Z"
   },
   {
    "duration": 11,
    "start_time": "2021-06-28T20:58:15.591Z"
   },
   {
    "duration": 9,
    "start_time": "2021-06-28T20:58:15.604Z"
   },
   {
    "duration": 9,
    "start_time": "2021-06-28T20:58:15.615Z"
   },
   {
    "duration": 22,
    "start_time": "2021-06-28T20:58:15.626Z"
   },
   {
    "duration": 383,
    "start_time": "2021-06-28T20:58:15.651Z"
   },
   {
    "duration": 9,
    "start_time": "2021-06-28T20:58:16.037Z"
   },
   {
    "duration": 11,
    "start_time": "2021-06-28T20:58:16.049Z"
   },
   {
    "duration": 453,
    "start_time": "2021-06-28T20:58:16.063Z"
   },
   {
    "duration": -294,
    "start_time": "2021-06-28T20:58:16.814Z"
   },
   {
    "duration": 1137,
    "start_time": "2021-06-28T20:58:35.745Z"
   },
   {
    "duration": 24,
    "start_time": "2021-06-28T20:58:36.884Z"
   },
   {
    "duration": 11,
    "start_time": "2021-06-28T20:58:36.911Z"
   },
   {
    "duration": 23,
    "start_time": "2021-06-28T20:58:36.925Z"
   },
   {
    "duration": 15,
    "start_time": "2021-06-28T20:58:36.950Z"
   },
   {
    "duration": 75,
    "start_time": "2021-06-28T20:58:36.967Z"
   },
   {
    "duration": 22,
    "start_time": "2021-06-28T20:58:37.044Z"
   },
   {
    "duration": 13,
    "start_time": "2021-06-28T20:58:37.070Z"
   },
   {
    "duration": 10,
    "start_time": "2021-06-28T20:58:37.085Z"
   },
   {
    "duration": 9,
    "start_time": "2021-06-28T20:58:37.097Z"
   },
   {
    "duration": 9,
    "start_time": "2021-06-28T20:58:37.108Z"
   },
   {
    "duration": 18,
    "start_time": "2021-06-28T20:58:37.119Z"
   },
   {
    "duration": 353,
    "start_time": "2021-06-28T20:58:37.140Z"
   },
   {
    "duration": 9,
    "start_time": "2021-06-28T20:58:37.496Z"
   },
   {
    "duration": 697,
    "start_time": "2021-06-28T20:58:37.508Z"
   },
   {
    "duration": 894,
    "start_time": "2021-06-29T15:59:22.928Z"
   },
   {
    "duration": 22,
    "start_time": "2021-06-29T15:59:23.824Z"
   },
   {
    "duration": 9,
    "start_time": "2021-06-29T15:59:23.849Z"
   },
   {
    "duration": 18,
    "start_time": "2021-06-29T15:59:23.861Z"
   },
   {
    "duration": 16,
    "start_time": "2021-06-29T15:59:23.881Z"
   },
   {
    "duration": 43,
    "start_time": "2021-06-29T15:59:23.899Z"
   },
   {
    "duration": 18,
    "start_time": "2021-06-29T15:59:23.944Z"
   },
   {
    "duration": 11,
    "start_time": "2021-06-29T15:59:23.963Z"
   },
   {
    "duration": 7,
    "start_time": "2021-06-29T15:59:23.976Z"
   },
   {
    "duration": 10,
    "start_time": "2021-06-29T15:59:23.985Z"
   },
   {
    "duration": 7,
    "start_time": "2021-06-29T15:59:23.997Z"
   },
   {
    "duration": 14,
    "start_time": "2021-06-29T15:59:24.006Z"
   },
   {
    "duration": 250,
    "start_time": "2021-06-29T15:59:24.022Z"
   },
   {
    "duration": 17,
    "start_time": "2021-06-29T15:59:24.274Z"
   },
   {
    "duration": 551,
    "start_time": "2021-06-29T15:59:24.295Z"
   },
   {
    "duration": 12,
    "start_time": "2021-06-29T17:55:26.812Z"
   },
   {
    "duration": 203,
    "start_time": "2021-06-29T18:07:21.820Z"
   },
   {
    "duration": 837,
    "start_time": "2021-06-29T18:09:17.270Z"
   },
   {
    "duration": 20,
    "start_time": "2021-06-29T18:09:18.109Z"
   },
   {
    "duration": 10,
    "start_time": "2021-06-29T18:09:18.132Z"
   },
   {
    "duration": 17,
    "start_time": "2021-06-29T18:09:18.143Z"
   },
   {
    "duration": 10,
    "start_time": "2021-06-29T18:09:18.162Z"
   },
   {
    "duration": 74,
    "start_time": "2021-06-29T18:09:18.174Z"
   },
   {
    "duration": 18,
    "start_time": "2021-06-29T18:09:18.250Z"
   },
   {
    "duration": 9,
    "start_time": "2021-06-29T18:09:18.270Z"
   },
   {
    "duration": 7,
    "start_time": "2021-06-29T18:09:18.281Z"
   },
   {
    "duration": 10,
    "start_time": "2021-06-29T18:09:18.290Z"
   },
   {
    "duration": 7,
    "start_time": "2021-06-29T18:09:18.301Z"
   },
   {
    "duration": 7,
    "start_time": "2021-06-29T18:09:18.310Z"
   },
   {
    "duration": 213,
    "start_time": "2021-06-29T18:09:18.318Z"
   },
   {
    "duration": 61,
    "start_time": "2021-06-29T18:09:18.532Z"
   },
   {
    "duration": -375,
    "start_time": "2021-06-29T18:09:18.970Z"
   },
   {
    "duration": -379,
    "start_time": "2021-06-29T18:09:18.974Z"
   },
   {
    "duration": -381,
    "start_time": "2021-06-29T18:09:18.977Z"
   },
   {
    "duration": -383,
    "start_time": "2021-06-29T18:09:18.980Z"
   },
   {
    "duration": -408,
    "start_time": "2021-06-29T18:09:19.006Z"
   },
   {
    "duration": 793,
    "start_time": "2021-06-29T18:10:00.834Z"
   },
   {
    "duration": 20,
    "start_time": "2021-06-29T18:10:01.629Z"
   },
   {
    "duration": 13,
    "start_time": "2021-06-29T18:10:01.651Z"
   },
   {
    "duration": 37,
    "start_time": "2021-06-29T18:10:01.666Z"
   },
   {
    "duration": 19,
    "start_time": "2021-06-29T18:10:01.704Z"
   },
   {
    "duration": 78,
    "start_time": "2021-06-29T18:10:01.724Z"
   },
   {
    "duration": 22,
    "start_time": "2021-06-29T18:10:01.804Z"
   },
   {
    "duration": 30,
    "start_time": "2021-06-29T18:10:01.828Z"
   },
   {
    "duration": 9,
    "start_time": "2021-06-29T18:10:01.861Z"
   },
   {
    "duration": 17,
    "start_time": "2021-06-29T18:10:01.872Z"
   },
   {
    "duration": 9,
    "start_time": "2021-06-29T18:10:01.891Z"
   },
   {
    "duration": 8,
    "start_time": "2021-06-29T18:10:01.902Z"
   },
   {
    "duration": 225,
    "start_time": "2021-06-29T18:10:01.912Z"
   },
   {
    "duration": 170,
    "start_time": "2021-06-29T18:10:02.139Z"
   },
   {
    "duration": 6,
    "start_time": "2021-06-29T18:10:02.311Z"
   },
   {
    "duration": 296,
    "start_time": "2021-06-29T18:10:02.318Z"
   },
   {
    "duration": -412,
    "start_time": "2021-06-29T18:10:03.028Z"
   },
   {
    "duration": -415,
    "start_time": "2021-06-29T18:10:03.032Z"
   },
   {
    "duration": 844,
    "start_time": "2021-06-29T18:10:36.983Z"
   },
   {
    "duration": 20,
    "start_time": "2021-06-29T18:10:37.829Z"
   },
   {
    "duration": 9,
    "start_time": "2021-06-29T18:10:37.853Z"
   },
   {
    "duration": 21,
    "start_time": "2021-06-29T18:10:37.863Z"
   },
   {
    "duration": 11,
    "start_time": "2021-06-29T18:10:37.885Z"
   },
   {
    "duration": 47,
    "start_time": "2021-06-29T18:10:37.898Z"
   },
   {
    "duration": 17,
    "start_time": "2021-06-29T18:10:37.948Z"
   },
   {
    "duration": 10,
    "start_time": "2021-06-29T18:10:37.967Z"
   },
   {
    "duration": 8,
    "start_time": "2021-06-29T18:10:37.978Z"
   },
   {
    "duration": 6,
    "start_time": "2021-06-29T18:10:37.988Z"
   },
   {
    "duration": 6,
    "start_time": "2021-06-29T18:10:37.995Z"
   },
   {
    "duration": 9,
    "start_time": "2021-06-29T18:10:38.003Z"
   },
   {
    "duration": 212,
    "start_time": "2021-06-29T18:10:38.013Z"
   },
   {
    "duration": 168,
    "start_time": "2021-06-29T18:10:38.227Z"
   },
   {
    "duration": 6,
    "start_time": "2021-06-29T18:10:38.397Z"
   },
   {
    "duration": 9,
    "start_time": "2021-06-29T18:10:38.404Z"
   },
   {
    "duration": 493,
    "start_time": "2021-06-29T18:10:38.415Z"
   },
   {
    "duration": 10,
    "start_time": "2021-06-29T18:10:38.910Z"
   },
   {
    "duration": 4,
    "start_time": "2021-06-29T18:13:51.373Z"
   },
   {
    "duration": 4857,
    "start_time": "2021-06-29T18:16:37.682Z"
   },
   {
    "duration": 924,
    "start_time": "2021-06-29T18:16:52.633Z"
   },
   {
    "duration": 21,
    "start_time": "2021-06-29T18:16:53.559Z"
   },
   {
    "duration": 9,
    "start_time": "2021-06-29T18:16:53.583Z"
   },
   {
    "duration": 18,
    "start_time": "2021-06-29T18:16:53.595Z"
   },
   {
    "duration": 10,
    "start_time": "2021-06-29T18:16:53.614Z"
   },
   {
    "duration": 41,
    "start_time": "2021-06-29T18:16:53.626Z"
   },
   {
    "duration": 17,
    "start_time": "2021-06-29T18:16:53.669Z"
   },
   {
    "duration": 15,
    "start_time": "2021-06-29T18:16:53.695Z"
   },
   {
    "duration": 7,
    "start_time": "2021-06-29T18:16:53.712Z"
   },
   {
    "duration": 6,
    "start_time": "2021-06-29T18:16:53.720Z"
   },
   {
    "duration": 5,
    "start_time": "2021-06-29T18:16:53.728Z"
   },
   {
    "duration": 7,
    "start_time": "2021-06-29T18:16:53.735Z"
   },
   {
    "duration": 226,
    "start_time": "2021-06-29T18:16:53.743Z"
   },
   {
    "duration": 171,
    "start_time": "2021-06-29T18:16:53.971Z"
   },
   {
    "duration": 6,
    "start_time": "2021-06-29T18:16:54.144Z"
   },
   {
    "duration": 6,
    "start_time": "2021-06-29T18:16:54.151Z"
   },
   {
    "duration": 9,
    "start_time": "2021-06-29T18:16:54.159Z"
   },
   {
    "duration": 499,
    "start_time": "2021-06-29T18:16:54.170Z"
   },
   {
    "duration": 337,
    "start_time": "2021-06-29T18:16:54.671Z"
   },
   {
    "duration": 8,
    "start_time": "2021-06-29T18:29:52.301Z"
   },
   {
    "duration": 12,
    "start_time": "2021-06-29T18:29:55.980Z"
   },
   {
    "duration": 7,
    "start_time": "2021-06-29T18:30:38.544Z"
   },
   {
    "duration": 10,
    "start_time": "2021-06-29T18:30:41.360Z"
   },
   {
    "duration": 4,
    "start_time": "2021-06-29T18:32:24.514Z"
   },
   {
    "duration": 121,
    "start_time": "2021-06-29T18:34:57.746Z"
   },
   {
    "duration": 60,
    "start_time": "2021-06-29T18:37:23.692Z"
   },
   {
    "duration": 116,
    "start_time": "2021-06-29T18:37:42.618Z"
   },
   {
    "duration": 217,
    "start_time": "2021-06-29T18:37:56.191Z"
   },
   {
    "duration": 124,
    "start_time": "2021-06-29T18:38:04.882Z"
   },
   {
    "duration": 119,
    "start_time": "2021-06-29T18:38:32.695Z"
   },
   {
    "duration": 131,
    "start_time": "2021-06-29T18:40:07.302Z"
   },
   {
    "duration": 128,
    "start_time": "2021-06-29T18:40:39.042Z"
   },
   {
    "duration": 252,
    "start_time": "2021-06-29T18:40:48.109Z"
   },
   {
    "duration": 118,
    "start_time": "2021-06-29T18:41:07.844Z"
   },
   {
    "duration": 430,
    "start_time": "2021-06-29T18:43:12.740Z"
   },
   {
    "duration": 125,
    "start_time": "2021-06-29T18:43:24.229Z"
   },
   {
    "duration": 7,
    "start_time": "2021-06-29T18:58:05.667Z"
   },
   {
    "duration": 120,
    "start_time": "2021-06-29T18:58:43.578Z"
   },
   {
    "duration": 285,
    "start_time": "2021-06-29T19:00:29.228Z"
   },
   {
    "duration": 123,
    "start_time": "2021-06-29T19:01:27.696Z"
   },
   {
    "duration": 122,
    "start_time": "2021-06-29T19:02:44.597Z"
   },
   {
    "duration": 9,
    "start_time": "2021-06-29T19:12:24.170Z"
   },
   {
    "duration": 58,
    "start_time": "2021-06-29T19:15:23.122Z"
   },
   {
    "duration": 7,
    "start_time": "2021-06-29T19:15:28.197Z"
   },
   {
    "duration": 7,
    "start_time": "2021-06-29T19:17:00.798Z"
   },
   {
    "duration": 4,
    "start_time": "2021-06-29T19:17:06.833Z"
   },
   {
    "duration": 4,
    "start_time": "2021-06-29T19:17:34.061Z"
   },
   {
    "duration": 125,
    "start_time": "2021-06-29T19:17:36.986Z"
   },
   {
    "duration": 759,
    "start_time": "2021-06-29T19:25:06.623Z"
   },
   {
    "duration": 315,
    "start_time": "2021-06-29T19:25:35.624Z"
   },
   {
    "duration": 316,
    "start_time": "2021-06-29T19:33:09.117Z"
   },
   {
    "duration": 334,
    "start_time": "2021-06-29T19:33:38.902Z"
   },
   {
    "duration": 286,
    "start_time": "2021-06-29T19:34:40.772Z"
   },
   {
    "duration": 130,
    "start_time": "2021-06-29T19:37:21.697Z"
   },
   {
    "duration": 123,
    "start_time": "2021-06-29T19:37:54.666Z"
   },
   {
    "duration": 297,
    "start_time": "2021-06-29T19:38:36.806Z"
   },
   {
    "duration": 135,
    "start_time": "2021-06-29T19:38:44.405Z"
   },
   {
    "duration": 131,
    "start_time": "2021-06-29T19:39:21.618Z"
   },
   {
    "duration": 56,
    "start_time": "2021-06-29T19:40:56.124Z"
   },
   {
    "duration": 371,
    "start_time": "2021-06-29T19:41:12.693Z"
   },
   {
    "duration": 667,
    "start_time": "2021-06-29T19:45:06.577Z"
   },
   {
    "duration": 117,
    "start_time": "2021-06-29T19:46:30.227Z"
   },
   {
    "duration": 10,
    "start_time": "2021-06-29T19:52:40.551Z"
   },
   {
    "duration": 13,
    "start_time": "2021-06-29T19:52:49.154Z"
   },
   {
    "duration": 6,
    "start_time": "2021-06-29T19:54:33.279Z"
   },
   {
    "duration": 9,
    "start_time": "2021-06-29T19:54:37.191Z"
   },
   {
    "duration": 5,
    "start_time": "2021-06-29T19:57:11.815Z"
   },
   {
    "duration": 10,
    "start_time": "2021-06-29T19:57:13.807Z"
   },
   {
    "duration": 7,
    "start_time": "2021-06-29T19:59:19.846Z"
   },
   {
    "duration": 6,
    "start_time": "2021-06-29T19:59:23.344Z"
   },
   {
    "duration": 183,
    "start_time": "2021-06-29T20:14:24.719Z"
   },
   {
    "duration": 8,
    "start_time": "2021-06-29T20:14:35.638Z"
   },
   {
    "duration": 193,
    "start_time": "2021-06-29T20:14:40.670Z"
   },
   {
    "duration": 237,
    "start_time": "2021-06-29T20:22:49.316Z"
   },
   {
    "duration": 10,
    "start_time": "2021-06-29T20:23:02.312Z"
   },
   {
    "duration": 411,
    "start_time": "2021-06-29T20:23:26.265Z"
   },
   {
    "duration": 510,
    "start_time": "2021-06-29T20:25:58.747Z"
   },
   {
    "duration": 233,
    "start_time": "2021-06-29T20:26:06.685Z"
   },
   {
    "duration": 221,
    "start_time": "2021-06-29T20:26:13.313Z"
   },
   {
    "duration": 235,
    "start_time": "2021-06-29T20:26:54.701Z"
   },
   {
    "duration": 232,
    "start_time": "2021-06-29T20:27:32.496Z"
   },
   {
    "duration": 555,
    "start_time": "2021-06-29T20:32:17.655Z"
   },
   {
    "duration": 56,
    "start_time": "2021-06-29T20:33:25.030Z"
   },
   {
    "duration": 57,
    "start_time": "2021-06-29T20:33:30.507Z"
   },
   {
    "duration": 64,
    "start_time": "2021-06-29T20:33:34.866Z"
   },
   {
    "duration": 61,
    "start_time": "2021-06-29T20:33:56.562Z"
   },
   {
    "duration": 59,
    "start_time": "2021-06-29T20:34:10.420Z"
   },
   {
    "duration": 232,
    "start_time": "2021-06-29T20:34:21.746Z"
   },
   {
    "duration": 225,
    "start_time": "2021-06-29T20:35:29.069Z"
   },
   {
    "duration": 232,
    "start_time": "2021-06-29T20:35:46.592Z"
   },
   {
    "duration": 230,
    "start_time": "2021-06-29T20:35:53.558Z"
   },
   {
    "duration": 63,
    "start_time": "2021-06-29T20:38:14.213Z"
   },
   {
    "duration": 559,
    "start_time": "2021-06-29T20:38:29.296Z"
   },
   {
    "duration": 1331,
    "start_time": "2021-06-30T18:37:18.037Z"
   },
   {
    "duration": 25,
    "start_time": "2021-06-30T18:37:19.371Z"
   },
   {
    "duration": 16,
    "start_time": "2021-06-30T18:37:19.401Z"
   },
   {
    "duration": 58,
    "start_time": "2021-06-30T18:37:19.421Z"
   },
   {
    "duration": 28,
    "start_time": "2021-06-30T18:37:19.482Z"
   },
   {
    "duration": 75,
    "start_time": "2021-06-30T18:37:19.513Z"
   },
   {
    "duration": 24,
    "start_time": "2021-06-30T18:37:19.590Z"
   },
   {
    "duration": 19,
    "start_time": "2021-06-30T18:37:19.619Z"
   },
   {
    "duration": 20,
    "start_time": "2021-06-30T18:37:19.642Z"
   },
   {
    "duration": 12,
    "start_time": "2021-06-30T18:37:19.665Z"
   },
   {
    "duration": 11,
    "start_time": "2021-06-30T18:37:19.679Z"
   },
   {
    "duration": 10,
    "start_time": "2021-06-30T18:37:19.692Z"
   },
   {
    "duration": 385,
    "start_time": "2021-06-30T18:37:19.704Z"
   },
   {
    "duration": 272,
    "start_time": "2021-06-30T18:37:20.091Z"
   },
   {
    "duration": 8,
    "start_time": "2021-06-30T18:37:20.366Z"
   },
   {
    "duration": 8,
    "start_time": "2021-06-30T18:37:20.377Z"
   },
   {
    "duration": 13,
    "start_time": "2021-06-30T18:37:20.387Z"
   },
   {
    "duration": 761,
    "start_time": "2021-06-30T18:37:20.402Z"
   },
   {
    "duration": 487,
    "start_time": "2021-06-30T18:37:21.165Z"
   },
   {
    "duration": 15,
    "start_time": "2021-06-30T18:37:21.662Z"
   },
   {
    "duration": 10,
    "start_time": "2021-06-30T18:37:21.679Z"
   },
   {
    "duration": 217,
    "start_time": "2021-06-30T18:37:21.691Z"
   },
   {
    "duration": 10,
    "start_time": "2021-06-30T18:37:21.912Z"
   },
   {
    "duration": 232,
    "start_time": "2021-06-30T18:37:21.925Z"
   },
   {
    "duration": 18,
    "start_time": "2021-06-30T18:37:22.159Z"
   },
   {
    "duration": 8,
    "start_time": "2021-06-30T18:37:22.181Z"
   },
   {
    "duration": 491,
    "start_time": "2021-06-30T18:37:22.192Z"
   },
   {
    "duration": 7,
    "start_time": "2021-06-30T18:37:22.685Z"
   },
   {
    "duration": 434,
    "start_time": "2021-06-30T18:37:22.695Z"
   },
   {
    "duration": 526,
    "start_time": "2021-06-30T18:43:49.292Z"
   },
   {
    "duration": 18,
    "start_time": "2021-06-30T18:44:08.160Z"
   },
   {
    "duration": 8,
    "start_time": "2021-06-30T18:44:45.278Z"
   },
   {
    "duration": 13,
    "start_time": "2021-06-30T18:44:50.505Z"
   },
   {
    "duration": 4,
    "start_time": "2021-06-30T18:46:11.277Z"
   },
   {
    "duration": 521,
    "start_time": "2021-06-30T18:46:52.717Z"
   },
   {
    "duration": 337,
    "start_time": "2021-06-30T18:48:12.381Z"
   },
   {
    "duration": 5,
    "start_time": "2021-06-30T18:48:30.446Z"
   },
   {
    "duration": 370,
    "start_time": "2021-06-30T18:48:32.225Z"
   },
   {
    "duration": 379,
    "start_time": "2021-06-30T18:49:53.567Z"
   },
   {
    "duration": 6,
    "start_time": "2021-06-30T18:50:36.871Z"
   },
   {
    "duration": 12,
    "start_time": "2021-06-30T18:50:52.029Z"
   },
   {
    "duration": 292,
    "start_time": "2021-06-30T18:53:19.828Z"
   },
   {
    "duration": 575,
    "start_time": "2021-06-30T18:55:19.835Z"
   },
   {
    "duration": 781,
    "start_time": "2021-06-30T18:57:06.923Z"
   },
   {
    "duration": 7,
    "start_time": "2021-06-30T19:12:34.902Z"
   },
   {
    "duration": 26,
    "start_time": "2021-06-30T19:22:34.052Z"
   },
   {
    "duration": 591,
    "start_time": "2021-06-30T19:23:14.350Z"
   },
   {
    "duration": 7,
    "start_time": "2021-06-30T20:03:51.139Z"
   },
   {
    "duration": 779,
    "start_time": "2021-06-30T20:07:27.028Z"
   },
   {
    "duration": 1219,
    "start_time": "2021-07-01T16:37:58.496Z"
   },
   {
    "duration": 23,
    "start_time": "2021-07-01T16:37:59.717Z"
   },
   {
    "duration": 13,
    "start_time": "2021-07-01T16:37:59.743Z"
   },
   {
    "duration": 25,
    "start_time": "2021-07-01T16:37:59.759Z"
   },
   {
    "duration": 16,
    "start_time": "2021-07-01T16:37:59.786Z"
   },
   {
    "duration": 58,
    "start_time": "2021-07-01T16:37:59.804Z"
   },
   {
    "duration": 20,
    "start_time": "2021-07-01T16:37:59.864Z"
   },
   {
    "duration": 15,
    "start_time": "2021-07-01T16:37:59.888Z"
   },
   {
    "duration": 10,
    "start_time": "2021-07-01T16:37:59.906Z"
   },
   {
    "duration": 8,
    "start_time": "2021-07-01T16:37:59.919Z"
   },
   {
    "duration": 15,
    "start_time": "2021-07-01T16:37:59.930Z"
   },
   {
    "duration": 29,
    "start_time": "2021-07-01T16:37:59.947Z"
   },
   {
    "duration": 368,
    "start_time": "2021-07-01T16:37:59.978Z"
   },
   {
    "duration": 274,
    "start_time": "2021-07-01T16:38:00.348Z"
   },
   {
    "duration": 9,
    "start_time": "2021-07-01T16:38:00.624Z"
   },
   {
    "duration": 21,
    "start_time": "2021-07-01T16:38:00.635Z"
   },
   {
    "duration": 10,
    "start_time": "2021-07-01T16:38:00.668Z"
   },
   {
    "duration": 753,
    "start_time": "2021-07-01T16:38:00.680Z"
   },
   {
    "duration": 419,
    "start_time": "2021-07-01T16:38:01.435Z"
   },
   {
    "duration": 18,
    "start_time": "2021-07-01T16:38:01.856Z"
   },
   {
    "duration": 29,
    "start_time": "2021-07-01T16:38:01.877Z"
   },
   {
    "duration": 195,
    "start_time": "2021-07-01T16:38:01.908Z"
   },
   {
    "duration": 10,
    "start_time": "2021-07-01T16:38:02.107Z"
   },
   {
    "duration": 216,
    "start_time": "2021-07-01T16:38:02.119Z"
   },
   {
    "duration": 11,
    "start_time": "2021-07-01T16:38:02.338Z"
   },
   {
    "duration": 5,
    "start_time": "2021-07-01T16:38:02.367Z"
   },
   {
    "duration": 360,
    "start_time": "2021-07-01T16:38:02.375Z"
   },
   {
    "duration": 10,
    "start_time": "2021-07-01T16:38:02.738Z"
   },
   {
    "duration": 382,
    "start_time": "2021-07-01T16:38:02.767Z"
   },
   {
    "duration": 14,
    "start_time": "2021-07-01T16:38:03.152Z"
   },
   {
    "duration": 513,
    "start_time": "2021-07-01T16:38:03.169Z"
   },
   {
    "duration": 5,
    "start_time": "2021-07-01T16:38:03.685Z"
   },
   {
    "duration": 1164,
    "start_time": "2021-07-01T16:40:53.903Z"
   },
   {
    "duration": 23,
    "start_time": "2021-07-01T16:40:55.070Z"
   },
   {
    "duration": 14,
    "start_time": "2021-07-01T16:40:55.096Z"
   },
   {
    "duration": 45,
    "start_time": "2021-07-01T16:40:55.113Z"
   },
   {
    "duration": 18,
    "start_time": "2021-07-01T16:40:55.161Z"
   },
   {
    "duration": 61,
    "start_time": "2021-07-01T16:40:55.181Z"
   },
   {
    "duration": 22,
    "start_time": "2021-07-01T16:40:55.245Z"
   },
   {
    "duration": 14,
    "start_time": "2021-07-01T16:40:55.271Z"
   },
   {
    "duration": 10,
    "start_time": "2021-07-01T16:40:55.288Z"
   },
   {
    "duration": 12,
    "start_time": "2021-07-01T16:40:55.300Z"
   },
   {
    "duration": 19,
    "start_time": "2021-07-01T16:40:55.314Z"
   },
   {
    "duration": 13,
    "start_time": "2021-07-01T16:40:55.335Z"
   },
   {
    "duration": 359,
    "start_time": "2021-07-01T16:40:55.368Z"
   },
   {
    "duration": 281,
    "start_time": "2021-07-01T16:40:55.729Z"
   },
   {
    "duration": 9,
    "start_time": "2021-07-01T16:40:56.012Z"
   },
   {
    "duration": 7,
    "start_time": "2021-07-01T16:40:56.023Z"
   },
   {
    "duration": 39,
    "start_time": "2021-07-01T16:40:56.033Z"
   },
   {
    "duration": 725,
    "start_time": "2021-07-01T16:40:56.075Z"
   },
   {
    "duration": 413,
    "start_time": "2021-07-01T16:40:56.802Z"
   },
   {
    "duration": 10,
    "start_time": "2021-07-01T16:40:57.217Z"
   },
   {
    "duration": 13,
    "start_time": "2021-07-01T16:40:57.229Z"
   },
   {
    "duration": 207,
    "start_time": "2021-07-01T16:40:57.244Z"
   },
   {
    "duration": 11,
    "start_time": "2021-07-01T16:40:57.468Z"
   },
   {
    "duration": 205,
    "start_time": "2021-07-01T16:40:57.482Z"
   },
   {
    "duration": 11,
    "start_time": "2021-07-01T16:40:57.690Z"
   },
   {
    "duration": 12,
    "start_time": "2021-07-01T16:40:57.704Z"
   },
   {
    "duration": 327,
    "start_time": "2021-07-01T16:40:57.718Z"
   },
   {
    "duration": 20,
    "start_time": "2021-07-01T16:40:58.048Z"
   },
   {
    "duration": 389,
    "start_time": "2021-07-01T16:40:58.070Z"
   },
   {
    "duration": 10,
    "start_time": "2021-07-01T16:40:58.462Z"
   },
   {
    "duration": 515,
    "start_time": "2021-07-01T16:40:58.474Z"
   },
   {
    "duration": 5,
    "start_time": "2021-07-01T16:40:58.992Z"
   },
   {
    "duration": 546,
    "start_time": "2021-07-01T16:41:10.543Z"
   },
   {
    "duration": 341,
    "start_time": "2021-07-01T16:42:20.581Z"
   },
   {
    "duration": 416,
    "start_time": "2021-07-01T16:43:52.529Z"
   },
   {
    "duration": 391,
    "start_time": "2021-07-01T16:45:57.021Z"
   },
   {
    "duration": 581,
    "start_time": "2021-07-01T16:48:51.597Z"
   },
   {
    "duration": 436,
    "start_time": "2021-07-01T16:50:26.103Z"
   },
   {
    "duration": 25,
    "start_time": "2021-07-01T16:50:32.338Z"
   },
   {
    "duration": 433,
    "start_time": "2021-07-01T17:17:36.514Z"
   },
   {
    "duration": 351,
    "start_time": "2021-07-01T17:26:55.071Z"
   },
   {
    "duration": 329,
    "start_time": "2021-07-01T17:27:37.874Z"
   },
   {
    "duration": 8,
    "start_time": "2021-07-01T17:30:44.511Z"
   },
   {
    "duration": 7,
    "start_time": "2021-07-01T17:31:53.621Z"
   },
   {
    "duration": 443,
    "start_time": "2021-07-01T17:47:17.838Z"
   },
   {
    "duration": 11,
    "start_time": "2021-07-01T17:49:32.962Z"
   },
   {
    "duration": 9,
    "start_time": "2021-07-01T18:10:57.704Z"
   },
   {
    "duration": 13,
    "start_time": "2021-07-01T18:11:05.358Z"
   },
   {
    "duration": 3,
    "start_time": "2021-07-01T18:28:38.701Z"
   },
   {
    "duration": 16,
    "start_time": "2021-07-01T18:35:48.081Z"
   },
   {
    "duration": 16,
    "start_time": "2021-07-01T18:36:37.198Z"
   },
   {
    "duration": 14,
    "start_time": "2021-07-01T18:38:02.193Z"
   },
   {
    "duration": 1616,
    "start_time": "2021-07-02T19:07:55.909Z"
   },
   {
    "duration": 24,
    "start_time": "2021-07-02T19:07:57.528Z"
   },
   {
    "duration": 20,
    "start_time": "2021-07-02T19:07:57.555Z"
   },
   {
    "duration": 29,
    "start_time": "2021-07-02T19:07:57.578Z"
   },
   {
    "duration": 16,
    "start_time": "2021-07-02T19:07:57.610Z"
   },
   {
    "duration": 50,
    "start_time": "2021-07-02T19:07:57.629Z"
   },
   {
    "duration": 24,
    "start_time": "2021-07-02T19:07:57.682Z"
   },
   {
    "duration": 18,
    "start_time": "2021-07-02T19:07:57.709Z"
   },
   {
    "duration": 11,
    "start_time": "2021-07-02T19:07:57.730Z"
   },
   {
    "duration": 17,
    "start_time": "2021-07-02T19:07:57.743Z"
   },
   {
    "duration": 19,
    "start_time": "2021-07-02T19:07:57.762Z"
   },
   {
    "duration": 14,
    "start_time": "2021-07-02T19:07:57.783Z"
   },
   {
    "duration": 372,
    "start_time": "2021-07-02T19:07:57.799Z"
   },
   {
    "duration": 291,
    "start_time": "2021-07-02T19:07:58.173Z"
   },
   {
    "duration": 13,
    "start_time": "2021-07-02T19:07:58.467Z"
   },
   {
    "duration": 11,
    "start_time": "2021-07-02T19:07:58.482Z"
   },
   {
    "duration": 13,
    "start_time": "2021-07-02T19:07:58.495Z"
   },
   {
    "duration": 845,
    "start_time": "2021-07-02T19:07:58.510Z"
   },
   {
    "duration": 372,
    "start_time": "2021-07-02T19:07:59.357Z"
   },
   {
    "duration": 27,
    "start_time": "2021-07-02T19:07:59.731Z"
   },
   {
    "duration": 10,
    "start_time": "2021-07-02T19:07:59.760Z"
   },
   {
    "duration": 225,
    "start_time": "2021-07-02T19:07:59.773Z"
   },
   {
    "duration": 9,
    "start_time": "2021-07-02T19:08:00.003Z"
   },
   {
    "duration": 343,
    "start_time": "2021-07-02T19:08:00.015Z"
   },
   {
    "duration": 12,
    "start_time": "2021-07-02T19:08:00.360Z"
   },
   {
    "duration": 14,
    "start_time": "2021-07-02T19:08:00.374Z"
   },
   {
    "duration": 208,
    "start_time": "2021-07-02T19:08:00.390Z"
   },
   {
    "duration": 7,
    "start_time": "2021-07-02T19:08:00.601Z"
   },
   {
    "duration": 538,
    "start_time": "2021-07-02T19:08:00.611Z"
   },
   {
    "duration": 6,
    "start_time": "2021-07-02T19:08:01.155Z"
   },
   {
    "duration": 416,
    "start_time": "2021-07-02T19:08:01.163Z"
   },
   {
    "duration": 6,
    "start_time": "2021-07-02T19:08:01.581Z"
   },
   {
    "duration": 465,
    "start_time": "2021-07-02T19:08:01.589Z"
   },
   {
    "duration": 219,
    "start_time": "2021-07-02T19:08:02.056Z"
   },
   {
    "duration": 7,
    "start_time": "2021-07-02T19:08:02.278Z"
   },
   {
    "duration": 13,
    "start_time": "2021-07-02T19:08:02.288Z"
   },
   {
    "duration": 15,
    "start_time": "2021-07-02T19:08:02.303Z"
   },
   {
    "duration": 14,
    "start_time": "2021-07-02T19:12:33.103Z"
   },
   {
    "duration": 13,
    "start_time": "2021-07-02T19:14:00.648Z"
   },
   {
    "duration": 12,
    "start_time": "2021-07-02T19:14:33.413Z"
   },
   {
    "duration": 10,
    "start_time": "2021-07-02T19:15:33.666Z"
   },
   {
    "duration": 6399,
    "start_time": "2021-07-02T19:29:35.780Z"
   },
   {
    "duration": 20,
    "start_time": "2021-07-02T19:30:08.617Z"
   },
   {
    "duration": 20,
    "start_time": "2021-07-02T19:31:02.420Z"
   },
   {
    "duration": 1937,
    "start_time": "2021-07-03T11:25:01.269Z"
   },
   {
    "duration": 24,
    "start_time": "2021-07-03T11:25:03.210Z"
   },
   {
    "duration": 12,
    "start_time": "2021-07-03T11:25:03.242Z"
   },
   {
    "duration": 51,
    "start_time": "2021-07-03T11:25:03.257Z"
   },
   {
    "duration": 19,
    "start_time": "2021-07-03T11:25:03.310Z"
   },
   {
    "duration": 109,
    "start_time": "2021-07-03T11:25:03.331Z"
   },
   {
    "duration": 25,
    "start_time": "2021-07-03T11:25:03.445Z"
   },
   {
    "duration": 27,
    "start_time": "2021-07-03T11:25:03.473Z"
   },
   {
    "duration": 30,
    "start_time": "2021-07-03T11:25:03.503Z"
   },
   {
    "duration": 19,
    "start_time": "2021-07-03T11:25:03.535Z"
   },
   {
    "duration": 25,
    "start_time": "2021-07-03T11:25:03.556Z"
   },
   {
    "duration": 17,
    "start_time": "2021-07-03T11:25:03.584Z"
   },
   {
    "duration": 371,
    "start_time": "2021-07-03T11:25:03.603Z"
   },
   {
    "duration": 308,
    "start_time": "2021-07-03T11:25:03.977Z"
   },
   {
    "duration": 10,
    "start_time": "2021-07-03T11:25:04.288Z"
   },
   {
    "duration": 13,
    "start_time": "2021-07-03T11:25:04.300Z"
   },
   {
    "duration": 15,
    "start_time": "2021-07-03T11:25:04.315Z"
   },
   {
    "duration": 874,
    "start_time": "2021-07-03T11:25:04.333Z"
   },
   {
    "duration": 337,
    "start_time": "2021-07-03T11:25:05.209Z"
   },
   {
    "duration": 10,
    "start_time": "2021-07-03T11:25:05.548Z"
   },
   {
    "duration": 27,
    "start_time": "2021-07-03T11:25:05.560Z"
   },
   {
    "duration": 197,
    "start_time": "2021-07-03T11:25:05.592Z"
   },
   {
    "duration": 9,
    "start_time": "2021-07-03T11:25:05.792Z"
   },
   {
    "duration": 328,
    "start_time": "2021-07-03T11:25:05.804Z"
   },
   {
    "duration": 12,
    "start_time": "2021-07-03T11:25:06.135Z"
   },
   {
    "duration": 14,
    "start_time": "2021-07-03T11:25:06.149Z"
   },
   {
    "duration": 205,
    "start_time": "2021-07-03T11:25:06.166Z"
   },
   {
    "duration": 16,
    "start_time": "2021-07-03T11:25:06.373Z"
   },
   {
    "duration": 532,
    "start_time": "2021-07-03T11:25:06.392Z"
   },
   {
    "duration": 5,
    "start_time": "2021-07-03T11:25:06.927Z"
   },
   {
    "duration": 414,
    "start_time": "2021-07-03T11:25:06.935Z"
   },
   {
    "duration": 5,
    "start_time": "2021-07-03T11:25:07.351Z"
   },
   {
    "duration": 455,
    "start_time": "2021-07-03T11:25:07.359Z"
   },
   {
    "duration": 215,
    "start_time": "2021-07-03T11:25:07.817Z"
   },
   {
    "duration": 8,
    "start_time": "2021-07-03T11:25:08.034Z"
   },
   {
    "duration": 31,
    "start_time": "2021-07-03T11:25:08.044Z"
   },
   {
    "duration": 23,
    "start_time": "2021-07-03T11:25:08.077Z"
   },
   {
    "duration": 21,
    "start_time": "2021-07-03T11:25:08.102Z"
   },
   {
    "duration": 17,
    "start_time": "2021-07-03T11:25:08.125Z"
   },
   {
    "duration": 39,
    "start_time": "2021-07-03T11:25:08.145Z"
   },
   {
    "duration": 34,
    "start_time": "2021-07-03T11:25:08.186Z"
   },
   {
    "duration": 1822,
    "start_time": "2021-07-03T16:21:39.007Z"
   },
   {
    "duration": 24,
    "start_time": "2021-07-03T16:21:40.832Z"
   },
   {
    "duration": 15,
    "start_time": "2021-07-03T16:21:40.860Z"
   },
   {
    "duration": 44,
    "start_time": "2021-07-03T16:21:40.878Z"
   },
   {
    "duration": 18,
    "start_time": "2021-07-03T16:21:40.925Z"
   },
   {
    "duration": 79,
    "start_time": "2021-07-03T16:21:40.946Z"
   },
   {
    "duration": 35,
    "start_time": "2021-07-03T16:21:41.028Z"
   },
   {
    "duration": 14,
    "start_time": "2021-07-03T16:21:41.067Z"
   },
   {
    "duration": 42,
    "start_time": "2021-07-03T16:21:41.084Z"
   },
   {
    "duration": 9,
    "start_time": "2021-07-03T16:21:41.128Z"
   },
   {
    "duration": 10,
    "start_time": "2021-07-03T16:21:41.140Z"
   },
   {
    "duration": 9,
    "start_time": "2021-07-03T16:21:41.152Z"
   },
   {
    "duration": 361,
    "start_time": "2021-07-03T16:21:41.163Z"
   },
   {
    "duration": 286,
    "start_time": "2021-07-03T16:21:41.526Z"
   },
   {
    "duration": 9,
    "start_time": "2021-07-03T16:21:41.814Z"
   },
   {
    "duration": 11,
    "start_time": "2021-07-03T16:21:41.826Z"
   },
   {
    "duration": 13,
    "start_time": "2021-07-03T16:21:41.840Z"
   },
   {
    "duration": 1107,
    "start_time": "2021-07-03T16:21:41.856Z"
   },
   {
    "duration": 443,
    "start_time": "2021-07-03T16:21:42.965Z"
   },
   {
    "duration": 13,
    "start_time": "2021-07-03T16:21:43.411Z"
   },
   {
    "duration": 7,
    "start_time": "2021-07-03T16:21:43.427Z"
   },
   {
    "duration": 214,
    "start_time": "2021-07-03T16:21:43.436Z"
   },
   {
    "duration": 9,
    "start_time": "2021-07-03T16:21:43.658Z"
   },
   {
    "duration": 318,
    "start_time": "2021-07-03T16:21:43.670Z"
   },
   {
    "duration": 15,
    "start_time": "2021-07-03T16:21:43.991Z"
   },
   {
    "duration": 8,
    "start_time": "2021-07-03T16:21:44.009Z"
   },
   {
    "duration": 210,
    "start_time": "2021-07-03T16:21:44.019Z"
   },
   {
    "duration": 12,
    "start_time": "2021-07-03T16:21:44.232Z"
   },
   {
    "duration": 668,
    "start_time": "2021-07-03T16:21:44.247Z"
   },
   {
    "duration": 6,
    "start_time": "2021-07-03T16:21:44.917Z"
   },
   {
    "duration": 400,
    "start_time": "2021-07-03T16:21:44.925Z"
   },
   {
    "duration": 5,
    "start_time": "2021-07-03T16:21:45.328Z"
   },
   {
    "duration": 468,
    "start_time": "2021-07-03T16:21:45.337Z"
   },
   {
    "duration": 215,
    "start_time": "2021-07-03T16:21:45.807Z"
   },
   {
    "duration": 8,
    "start_time": "2021-07-03T16:21:46.024Z"
   },
   {
    "duration": 12,
    "start_time": "2021-07-03T16:21:46.035Z"
   },
   {
    "duration": 13,
    "start_time": "2021-07-03T16:21:46.050Z"
   },
   {
    "duration": 45,
    "start_time": "2021-07-03T16:21:46.066Z"
   },
   {
    "duration": 14,
    "start_time": "2021-07-03T16:21:46.113Z"
   },
   {
    "duration": 10,
    "start_time": "2021-07-03T16:21:46.130Z"
   },
   {
    "duration": 57,
    "start_time": "2021-07-03T16:21:46.143Z"
   },
   {
    "duration": 12,
    "start_time": "2021-07-03T16:21:54.699Z"
   },
   {
    "duration": 15,
    "start_time": "2021-07-03T16:22:02.169Z"
   },
   {
    "duration": 8,
    "start_time": "2021-07-03T16:24:28.576Z"
   },
   {
    "duration": 15,
    "start_time": "2021-07-03T16:24:40.492Z"
   },
   {
    "duration": 15,
    "start_time": "2021-07-03T16:24:45.217Z"
   },
   {
    "duration": 499,
    "start_time": "2021-07-03T16:25:02.083Z"
   },
   {
    "duration": 24,
    "start_time": "2021-07-03T16:27:27.149Z"
   },
   {
    "duration": 15,
    "start_time": "2021-07-03T16:27:37.976Z"
   },
   {
    "duration": 16,
    "start_time": "2021-07-03T16:27:44.208Z"
   },
   {
    "duration": 24,
    "start_time": "2021-07-03T16:27:51.811Z"
   },
   {
    "duration": 18,
    "start_time": "2021-07-03T16:27:58.230Z"
   },
   {
    "duration": 16,
    "start_time": "2021-07-03T16:28:06.797Z"
   },
   {
    "duration": 15,
    "start_time": "2021-07-03T16:49:03.898Z"
   },
   {
    "duration": 6769,
    "start_time": "2021-07-03T16:55:09.172Z"
   },
   {
    "duration": 6563,
    "start_time": "2021-07-03T16:55:39.127Z"
   },
   {
    "duration": 8,
    "start_time": "2021-07-03T16:56:03.280Z"
   },
   {
    "duration": 277,
    "start_time": "2021-07-03T16:56:26.754Z"
   },
   {
    "duration": 6923,
    "start_time": "2021-07-03T16:56:55.029Z"
   },
   {
    "duration": 6826,
    "start_time": "2021-07-03T16:57:09.705Z"
   },
   {
    "duration": 11,
    "start_time": "2021-07-03T16:57:27.612Z"
   },
   {
    "duration": 13,
    "start_time": "2021-07-03T16:57:32.633Z"
   },
   {
    "duration": 454,
    "start_time": "2021-07-03T16:57:48.138Z"
   },
   {
    "duration": 5,
    "start_time": "2021-07-03T16:59:25.063Z"
   },
   {
    "duration": 237,
    "start_time": "2021-07-03T16:59:46.728Z"
   },
   {
    "duration": 14,
    "start_time": "2021-07-03T17:02:41.633Z"
   },
   {
    "duration": 4,
    "start_time": "2021-07-03T17:03:17.016Z"
   },
   {
    "duration": 15,
    "start_time": "2021-07-03T17:03:20.881Z"
   },
   {
    "duration": 19,
    "start_time": "2021-07-03T17:04:06.197Z"
   },
   {
    "duration": 305,
    "start_time": "2021-07-03T17:08:22.846Z"
   },
   {
    "duration": 285,
    "start_time": "2021-07-03T17:08:51.127Z"
   },
   {
    "duration": 382,
    "start_time": "2021-07-03T17:10:00.772Z"
   },
   {
    "duration": 98,
    "start_time": "2021-07-03T17:12:16.890Z"
   },
   {
    "duration": 104,
    "start_time": "2021-07-03T17:12:27.095Z"
   },
   {
    "duration": 17,
    "start_time": "2021-07-03T17:12:40.094Z"
   },
   {
    "duration": 278,
    "start_time": "2021-07-03T17:13:07.273Z"
   },
   {
    "duration": 31,
    "start_time": "2021-07-03T17:13:31.910Z"
   },
   {
    "duration": 533,
    "start_time": "2021-07-03T17:17:42.121Z"
   },
   {
    "duration": 184,
    "start_time": "2021-07-03T17:26:58.022Z"
   },
   {
    "duration": 172,
    "start_time": "2021-07-03T17:29:58.042Z"
   },
   {
    "duration": 355,
    "start_time": "2021-07-03T17:30:35.673Z"
   },
   {
    "duration": 218,
    "start_time": "2021-07-03T17:32:04.350Z"
   },
   {
    "duration": 195,
    "start_time": "2021-07-03T18:39:13.106Z"
   },
   {
    "duration": 181,
    "start_time": "2021-07-03T18:41:27.506Z"
   },
   {
    "duration": 345,
    "start_time": "2021-07-03T18:41:35.871Z"
   },
   {
    "duration": 188,
    "start_time": "2021-07-03T18:42:27.766Z"
   },
   {
    "duration": 188,
    "start_time": "2021-07-03T18:43:54.663Z"
   },
   {
    "duration": 287,
    "start_time": "2021-07-03T18:46:29.712Z"
   },
   {
    "duration": 455,
    "start_time": "2021-07-03T18:46:42.163Z"
   },
   {
    "duration": 269,
    "start_time": "2021-07-03T18:47:17.282Z"
   },
   {
    "duration": 16,
    "start_time": "2021-07-03T18:48:10.589Z"
   },
   {
    "duration": 16,
    "start_time": "2021-07-03T18:48:52.013Z"
   },
   {
    "duration": 282,
    "start_time": "2021-07-03T18:49:36.017Z"
   },
   {
    "duration": 15,
    "start_time": "2021-07-03T18:49:49.467Z"
   },
   {
    "duration": 92,
    "start_time": "2021-07-03T18:50:33.171Z"
   },
   {
    "duration": 6,
    "start_time": "2021-07-03T18:51:07.566Z"
   },
   {
    "duration": 291,
    "start_time": "2021-07-03T18:52:06.299Z"
   },
   {
    "duration": 372,
    "start_time": "2021-07-03T19:38:39.538Z"
   },
   {
    "duration": 584,
    "start_time": "2021-07-03T19:38:48.958Z"
   },
   {
    "duration": 271,
    "start_time": "2021-07-03T19:39:26.747Z"
   },
   {
    "duration": 10,
    "start_time": "2021-07-03T19:39:56.445Z"
   },
   {
    "duration": 8,
    "start_time": "2021-07-03T19:40:05.657Z"
   },
   {
    "duration": 328,
    "start_time": "2021-07-03T19:53:40.101Z"
   },
   {
    "duration": 292,
    "start_time": "2021-07-03T19:54:06.054Z"
   },
   {
    "duration": 334,
    "start_time": "2021-07-03T19:54:27.224Z"
   },
   {
    "duration": 314,
    "start_time": "2021-07-03T19:54:43.607Z"
   },
   {
    "duration": 91,
    "start_time": "2021-07-03T19:54:58.619Z"
   },
   {
    "duration": 328,
    "start_time": "2021-07-03T19:55:04.205Z"
   },
   {
    "duration": 341,
    "start_time": "2021-07-03T19:55:25.277Z"
   },
   {
    "duration": 18,
    "start_time": "2021-07-03T19:56:08.240Z"
   },
   {
    "duration": 273,
    "start_time": "2021-07-03T19:58:20.835Z"
   },
   {
    "duration": 277,
    "start_time": "2021-07-03T19:58:34.747Z"
   },
   {
    "duration": 281,
    "start_time": "2021-07-03T19:58:51.776Z"
   },
   {
    "duration": 287,
    "start_time": "2021-07-03T19:59:01.765Z"
   },
   {
    "duration": 330,
    "start_time": "2021-07-03T19:59:14.126Z"
   },
   {
    "duration": 92,
    "start_time": "2021-07-03T19:59:18.503Z"
   },
   {
    "duration": 16,
    "start_time": "2021-07-03T19:59:23.989Z"
   },
   {
    "duration": 280,
    "start_time": "2021-07-03T20:00:57.811Z"
   },
   {
    "duration": 18,
    "start_time": "2021-07-03T20:04:10.173Z"
   },
   {
    "duration": 9,
    "start_time": "2021-07-03T20:05:10.706Z"
   },
   {
    "duration": 14,
    "start_time": "2021-07-03T20:10:04.819Z"
   },
   {
    "duration": 15,
    "start_time": "2021-07-03T20:10:10.594Z"
   },
   {
    "duration": 24,
    "start_time": "2021-07-03T20:10:13.693Z"
   },
   {
    "duration": 111,
    "start_time": "2021-07-03T20:11:35.836Z"
   },
   {
    "duration": 96,
    "start_time": "2021-07-03T20:12:07.779Z"
   },
   {
    "duration": 114,
    "start_time": "2021-07-03T20:12:29.468Z"
   },
   {
    "duration": 94,
    "start_time": "2021-07-03T20:13:01.042Z"
   },
   {
    "duration": 87,
    "start_time": "2021-07-03T20:14:15.763Z"
   },
   {
    "duration": 23,
    "start_time": "2021-07-03T20:14:42.277Z"
   },
   {
    "duration": 16,
    "start_time": "2021-07-03T20:15:13.450Z"
   },
   {
    "duration": 301,
    "start_time": "2021-07-03T20:15:34.048Z"
   },
   {
    "duration": 95,
    "start_time": "2021-07-03T20:17:22.284Z"
   },
   {
    "duration": 142,
    "start_time": "2021-07-03T20:17:52.440Z"
   },
   {
    "duration": 93,
    "start_time": "2021-07-03T20:21:18.566Z"
   },
   {
    "duration": 105,
    "start_time": "2021-07-03T20:21:28.456Z"
   },
   {
    "duration": 20,
    "start_time": "2021-07-03T20:21:46.972Z"
   },
   {
    "duration": 23,
    "start_time": "2021-07-03T20:21:55.531Z"
   },
   {
    "duration": 305,
    "start_time": "2021-07-03T20:23:22.791Z"
   },
   {
    "duration": 299,
    "start_time": "2021-07-03T20:24:39.724Z"
   },
   {
    "duration": 347,
    "start_time": "2021-07-03T20:24:50.066Z"
   },
   {
    "duration": 319,
    "start_time": "2021-07-03T20:28:31.401Z"
   },
   {
    "duration": 288,
    "start_time": "2021-07-03T20:32:35.828Z"
   },
   {
    "duration": 19,
    "start_time": "2021-07-03T20:33:47.512Z"
   },
   {
    "duration": 33,
    "start_time": "2021-07-03T20:33:54.994Z"
   },
   {
    "duration": 17,
    "start_time": "2021-07-03T20:39:41.891Z"
   },
   {
    "duration": 1683,
    "start_time": "2021-07-03T20:39:52.022Z"
   },
   {
    "duration": 24,
    "start_time": "2021-07-03T20:39:53.708Z"
   },
   {
    "duration": 18,
    "start_time": "2021-07-03T20:39:53.736Z"
   },
   {
    "duration": 51,
    "start_time": "2021-07-03T20:39:53.759Z"
   },
   {
    "duration": 17,
    "start_time": "2021-07-03T20:39:53.812Z"
   },
   {
    "duration": 42,
    "start_time": "2021-07-03T20:39:53.832Z"
   },
   {
    "duration": 25,
    "start_time": "2021-07-03T20:39:53.876Z"
   },
   {
    "duration": 14,
    "start_time": "2021-07-03T20:39:53.905Z"
   },
   {
    "duration": 9,
    "start_time": "2021-07-03T20:39:53.923Z"
   },
   {
    "duration": 7,
    "start_time": "2021-07-03T20:39:53.934Z"
   },
   {
    "duration": 10,
    "start_time": "2021-07-03T20:39:53.944Z"
   },
   {
    "duration": 8,
    "start_time": "2021-07-03T20:39:54.001Z"
   },
   {
    "duration": 18,
    "start_time": "2021-07-03T20:39:54.012Z"
   },
   {
    "duration": 17,
    "start_time": "2021-07-03T20:39:54.032Z"
   },
   {
    "duration": 380,
    "start_time": "2021-07-03T20:39:54.052Z"
   },
   {
    "duration": 370,
    "start_time": "2021-07-03T20:39:54.434Z"
   },
   {
    "duration": 12,
    "start_time": "2021-07-03T20:39:54.807Z"
   },
   {
    "duration": 11,
    "start_time": "2021-07-03T20:39:54.821Z"
   },
   {
    "duration": 16,
    "start_time": "2021-07-03T20:39:54.835Z"
   },
   {
    "duration": 849,
    "start_time": "2021-07-03T20:39:54.854Z"
   },
   {
    "duration": 422,
    "start_time": "2021-07-03T20:39:55.705Z"
   },
   {
    "duration": 12,
    "start_time": "2021-07-03T20:39:56.130Z"
   },
   {
    "duration": 6,
    "start_time": "2021-07-03T20:39:56.148Z"
   },
   {
    "duration": 229,
    "start_time": "2021-07-03T20:39:56.157Z"
   },
   {
    "duration": 20,
    "start_time": "2021-07-03T20:39:56.389Z"
   },
   {
    "duration": 437,
    "start_time": "2021-07-03T20:39:56.412Z"
   },
   {
    "duration": 11,
    "start_time": "2021-07-03T20:39:56.852Z"
   },
   {
    "duration": 8,
    "start_time": "2021-07-03T20:39:56.866Z"
   },
   {
    "duration": 213,
    "start_time": "2021-07-03T20:39:56.876Z"
   },
   {
    "duration": 9,
    "start_time": "2021-07-03T20:39:57.100Z"
   },
   {
    "duration": 569,
    "start_time": "2021-07-03T20:39:57.112Z"
   },
   {
    "duration": 22,
    "start_time": "2021-07-03T20:39:57.684Z"
   },
   {
    "duration": 389,
    "start_time": "2021-07-03T20:39:57.709Z"
   },
   {
    "duration": 7,
    "start_time": "2021-07-03T20:39:58.101Z"
   },
   {
    "duration": 701,
    "start_time": "2021-07-03T20:39:58.111Z"
   },
   {
    "duration": 355,
    "start_time": "2021-07-03T20:39:58.815Z"
   },
   {
    "duration": 11,
    "start_time": "2021-07-03T20:39:59.173Z"
   },
   {
    "duration": 23,
    "start_time": "2021-07-03T20:39:59.187Z"
   },
   {
    "duration": 20,
    "start_time": "2021-07-03T20:39:59.213Z"
   },
   {
    "duration": 16,
    "start_time": "2021-07-03T20:39:59.236Z"
   },
   {
    "duration": 50,
    "start_time": "2021-07-03T20:39:59.255Z"
   },
   {
    "duration": 10,
    "start_time": "2021-07-03T20:39:59.307Z"
   },
   {
    "duration": 43,
    "start_time": "2021-07-03T20:39:59.320Z"
   },
   {
    "duration": 1696,
    "start_time": "2021-07-03T20:51:17.578Z"
   },
   {
    "duration": 24,
    "start_time": "2021-07-03T20:51:19.276Z"
   },
   {
    "duration": 14,
    "start_time": "2021-07-03T20:51:19.307Z"
   },
   {
    "duration": 26,
    "start_time": "2021-07-03T20:51:19.323Z"
   },
   {
    "duration": 56,
    "start_time": "2021-07-03T20:51:19.352Z"
   },
   {
    "duration": 45,
    "start_time": "2021-07-03T20:51:19.410Z"
   },
   {
    "duration": 24,
    "start_time": "2021-07-03T20:51:19.458Z"
   },
   {
    "duration": 22,
    "start_time": "2021-07-03T20:51:19.488Z"
   },
   {
    "duration": 10,
    "start_time": "2021-07-03T20:51:19.514Z"
   },
   {
    "duration": 9,
    "start_time": "2021-07-03T20:51:19.527Z"
   },
   {
    "duration": 10,
    "start_time": "2021-07-03T20:51:19.539Z"
   },
   {
    "duration": 10,
    "start_time": "2021-07-03T20:51:19.551Z"
   },
   {
    "duration": 59,
    "start_time": "2021-07-03T20:51:19.564Z"
   },
   {
    "duration": 8,
    "start_time": "2021-07-03T20:51:19.625Z"
   },
   {
    "duration": 376,
    "start_time": "2021-07-03T20:51:19.636Z"
   },
   {
    "duration": 362,
    "start_time": "2021-07-03T20:51:20.016Z"
   },
   {
    "duration": 19,
    "start_time": "2021-07-03T20:51:20.381Z"
   },
   {
    "duration": 11,
    "start_time": "2021-07-03T20:51:20.403Z"
   },
   {
    "duration": 14,
    "start_time": "2021-07-03T20:51:20.417Z"
   },
   {
    "duration": 850,
    "start_time": "2021-07-03T20:51:20.434Z"
   },
   {
    "duration": 356,
    "start_time": "2021-07-03T20:51:21.303Z"
   },
   {
    "duration": 10,
    "start_time": "2021-07-03T20:51:21.661Z"
   },
   {
    "duration": 32,
    "start_time": "2021-07-03T20:51:21.676Z"
   },
   {
    "duration": 205,
    "start_time": "2021-07-03T20:51:21.714Z"
   },
   {
    "duration": 9,
    "start_time": "2021-07-03T20:51:21.922Z"
   },
   {
    "duration": 356,
    "start_time": "2021-07-03T20:51:21.934Z"
   },
   {
    "duration": 18,
    "start_time": "2021-07-03T20:51:22.292Z"
   },
   {
    "duration": 7,
    "start_time": "2021-07-03T20:51:22.313Z"
   },
   {
    "duration": 276,
    "start_time": "2021-07-03T20:51:22.327Z"
   },
   {
    "duration": 10,
    "start_time": "2021-07-03T20:51:22.605Z"
   },
   {
    "duration": 545,
    "start_time": "2021-07-03T20:51:22.618Z"
   },
   {
    "duration": 6,
    "start_time": "2021-07-03T20:51:23.165Z"
   },
   {
    "duration": 419,
    "start_time": "2021-07-03T20:51:23.174Z"
   },
   {
    "duration": 10,
    "start_time": "2021-07-03T20:51:23.595Z"
   },
   {
    "duration": 465,
    "start_time": "2021-07-03T20:51:23.608Z"
   },
   {
    "duration": 227,
    "start_time": "2021-07-03T20:51:24.075Z"
   },
   {
    "duration": 9,
    "start_time": "2021-07-03T20:51:24.305Z"
   },
   {
    "duration": 13,
    "start_time": "2021-07-03T20:51:24.317Z"
   },
   {
    "duration": 14,
    "start_time": "2021-07-03T20:51:24.333Z"
   },
   {
    "duration": 12,
    "start_time": "2021-07-03T20:51:24.350Z"
   },
   {
    "duration": 15,
    "start_time": "2021-07-03T20:51:24.401Z"
   },
   {
    "duration": 13,
    "start_time": "2021-07-03T20:51:24.419Z"
   },
   {
    "duration": 71,
    "start_time": "2021-07-03T20:51:24.435Z"
   },
   {
    "duration": 113,
    "start_time": "2021-07-03T20:56:24.092Z"
   },
   {
    "duration": 7,
    "start_time": "2021-07-03T20:57:59.405Z"
   },
   {
    "duration": 6,
    "start_time": "2021-07-03T20:58:07.156Z"
   },
   {
    "duration": 111,
    "start_time": "2021-07-03T20:58:50.818Z"
   },
   {
    "duration": 102,
    "start_time": "2021-07-03T20:58:55.899Z"
   },
   {
    "duration": 11,
    "start_time": "2021-07-03T20:59:34.987Z"
   },
   {
    "duration": 17,
    "start_time": "2021-07-03T21:06:28.589Z"
   },
   {
    "duration": 15,
    "start_time": "2021-07-03T21:06:51.295Z"
   },
   {
    "duration": 13,
    "start_time": "2021-07-03T21:07:35.169Z"
   },
   {
    "duration": 9,
    "start_time": "2021-07-03T21:09:38.073Z"
   },
   {
    "duration": 20,
    "start_time": "2021-07-03T21:11:08.464Z"
   },
   {
    "duration": 1675,
    "start_time": "2021-07-04T07:05:53.887Z"
   },
   {
    "duration": 25,
    "start_time": "2021-07-04T07:05:55.565Z"
   },
   {
    "duration": 16,
    "start_time": "2021-07-04T07:05:55.598Z"
   },
   {
    "duration": 63,
    "start_time": "2021-07-04T07:05:55.617Z"
   },
   {
    "duration": 21,
    "start_time": "2021-07-04T07:05:55.683Z"
   },
   {
    "duration": 54,
    "start_time": "2021-07-04T07:05:55.707Z"
   },
   {
    "duration": 26,
    "start_time": "2021-07-04T07:05:55.765Z"
   },
   {
    "duration": 29,
    "start_time": "2021-07-04T07:05:55.794Z"
   },
   {
    "duration": 8,
    "start_time": "2021-07-04T07:05:55.826Z"
   },
   {
    "duration": 19,
    "start_time": "2021-07-04T07:05:55.837Z"
   },
   {
    "duration": 38,
    "start_time": "2021-07-04T07:05:55.858Z"
   },
   {
    "duration": 23,
    "start_time": "2021-07-04T07:05:55.898Z"
   },
   {
    "duration": 35,
    "start_time": "2021-07-04T07:05:55.924Z"
   },
   {
    "duration": 7,
    "start_time": "2021-07-04T07:05:55.961Z"
   },
   {
    "duration": 358,
    "start_time": "2021-07-04T07:05:55.971Z"
   },
   {
    "duration": 278,
    "start_time": "2021-07-04T07:05:56.331Z"
   },
   {
    "duration": 9,
    "start_time": "2021-07-04T07:05:56.612Z"
   },
   {
    "duration": 6,
    "start_time": "2021-07-04T07:05:56.623Z"
   },
   {
    "duration": 31,
    "start_time": "2021-07-04T07:05:56.632Z"
   },
   {
    "duration": 832,
    "start_time": "2021-07-04T07:05:56.665Z"
   },
   {
    "duration": 314,
    "start_time": "2021-07-04T07:05:57.500Z"
   },
   {
    "duration": 9,
    "start_time": "2021-07-04T07:05:57.819Z"
   },
   {
    "duration": 27,
    "start_time": "2021-07-04T07:05:57.831Z"
   },
   {
    "duration": 202,
    "start_time": "2021-07-04T07:05:57.861Z"
   },
   {
    "duration": 10,
    "start_time": "2021-07-04T07:05:58.065Z"
   },
   {
    "duration": 327,
    "start_time": "2021-07-04T07:05:58.077Z"
   },
   {
    "duration": 11,
    "start_time": "2021-07-04T07:05:58.407Z"
   },
   {
    "duration": 13,
    "start_time": "2021-07-04T07:05:58.420Z"
   },
   {
    "duration": 202,
    "start_time": "2021-07-04T07:05:58.435Z"
   },
   {
    "duration": 17,
    "start_time": "2021-07-04T07:05:58.639Z"
   },
   {
    "duration": 541,
    "start_time": "2021-07-04T07:05:58.659Z"
   },
   {
    "duration": 6,
    "start_time": "2021-07-04T07:05:59.202Z"
   },
   {
    "duration": 397,
    "start_time": "2021-07-04T07:05:59.210Z"
   },
   {
    "duration": 6,
    "start_time": "2021-07-04T07:05:59.609Z"
   },
   {
    "duration": 528,
    "start_time": "2021-07-04T07:05:59.617Z"
   },
   {
    "duration": 231,
    "start_time": "2021-07-04T07:06:00.148Z"
   },
   {
    "duration": 8,
    "start_time": "2021-07-04T07:06:00.382Z"
   },
   {
    "duration": 50,
    "start_time": "2021-07-04T07:06:00.393Z"
   },
   {
    "duration": 35,
    "start_time": "2021-07-04T07:06:00.446Z"
   },
   {
    "duration": 24,
    "start_time": "2021-07-04T07:06:00.485Z"
   },
   {
    "duration": 34,
    "start_time": "2021-07-04T07:06:00.511Z"
   },
   {
    "duration": 83,
    "start_time": "2021-07-04T07:06:00.547Z"
   },
   {
    "duration": 34,
    "start_time": "2021-07-04T07:06:00.633Z"
   },
   {
    "duration": 23,
    "start_time": "2021-07-04T08:11:12.937Z"
   },
   {
    "duration": 10,
    "start_time": "2021-07-04T08:11:31.208Z"
   },
   {
    "duration": 15,
    "start_time": "2021-07-04T08:12:03.912Z"
   },
   {
    "duration": 11,
    "start_time": "2021-07-04T08:12:13.661Z"
   },
   {
    "duration": 2019,
    "start_time": "2021-07-04T11:53:25.043Z"
   },
   {
    "duration": 25,
    "start_time": "2021-07-04T11:53:27.064Z"
   },
   {
    "duration": 24,
    "start_time": "2021-07-04T11:53:27.097Z"
   },
   {
    "duration": 68,
    "start_time": "2021-07-04T11:53:27.124Z"
   },
   {
    "duration": 25,
    "start_time": "2021-07-04T11:53:27.195Z"
   },
   {
    "duration": 53,
    "start_time": "2021-07-04T11:53:27.224Z"
   },
   {
    "duration": 22,
    "start_time": "2021-07-04T11:53:27.281Z"
   },
   {
    "duration": 19,
    "start_time": "2021-07-04T11:53:27.307Z"
   },
   {
    "duration": 12,
    "start_time": "2021-07-04T11:53:27.329Z"
   },
   {
    "duration": 12,
    "start_time": "2021-07-04T11:53:27.363Z"
   },
   {
    "duration": 20,
    "start_time": "2021-07-04T11:53:27.378Z"
   },
   {
    "duration": 18,
    "start_time": "2021-07-04T11:53:27.402Z"
   },
   {
    "duration": 18,
    "start_time": "2021-07-04T11:53:27.463Z"
   },
   {
    "duration": 10,
    "start_time": "2021-07-04T11:53:27.484Z"
   },
   {
    "duration": 298,
    "start_time": "2021-07-04T11:53:27.498Z"
   },
   {
    "duration": 211,
    "start_time": "2021-07-04T11:53:27.799Z"
   },
   {
    "duration": 13,
    "start_time": "2021-07-04T11:53:28.013Z"
   },
   {
    "duration": 8,
    "start_time": "2021-07-04T11:53:28.029Z"
   },
   {
    "duration": 10,
    "start_time": "2021-07-04T11:53:28.063Z"
   },
   {
    "duration": 877,
    "start_time": "2021-07-04T11:53:28.075Z"
   },
   {
    "duration": 362,
    "start_time": "2021-07-04T11:53:28.962Z"
   },
   {
    "duration": 11,
    "start_time": "2021-07-04T11:53:29.366Z"
   },
   {
    "duration": 20,
    "start_time": "2021-07-04T11:53:29.381Z"
   },
   {
    "duration": 322,
    "start_time": "2021-07-04T11:53:29.404Z"
   },
   {
    "duration": 11,
    "start_time": "2021-07-04T11:53:29.729Z"
   },
   {
    "duration": 514,
    "start_time": "2021-07-04T11:53:29.743Z"
   },
   {
    "duration": 14,
    "start_time": "2021-07-04T11:53:30.260Z"
   },
   {
    "duration": 20,
    "start_time": "2021-07-04T11:53:30.277Z"
   },
   {
    "duration": 239,
    "start_time": "2021-07-04T11:53:30.301Z"
   },
   {
    "duration": 23,
    "start_time": "2021-07-04T11:53:30.544Z"
   },
   {
    "duration": 669,
    "start_time": "2021-07-04T11:53:30.571Z"
   },
   {
    "duration": 20,
    "start_time": "2021-07-04T11:53:31.243Z"
   },
   {
    "duration": 548,
    "start_time": "2021-07-04T11:53:31.266Z"
   },
   {
    "duration": 5,
    "start_time": "2021-07-04T11:53:31.816Z"
   },
   {
    "duration": 362,
    "start_time": "2021-07-04T11:53:31.824Z"
   },
   {
    "duration": 120,
    "start_time": "2021-07-04T11:53:32.188Z"
   },
   {
    "duration": 9,
    "start_time": "2021-07-04T11:53:32.310Z"
   },
   {
    "duration": 15,
    "start_time": "2021-07-04T11:53:32.321Z"
   },
   {
    "duration": 11,
    "start_time": "2021-07-04T11:53:32.363Z"
   },
   {
    "duration": 23,
    "start_time": "2021-07-04T11:53:32.376Z"
   },
   {
    "duration": 26,
    "start_time": "2021-07-04T11:53:32.402Z"
   },
   {
    "duration": 39,
    "start_time": "2021-07-04T11:53:32.431Z"
   },
   {
    "duration": 17,
    "start_time": "2021-07-04T11:53:32.472Z"
   },
   {
    "duration": 2625,
    "start_time": "2021-07-04T12:20:14.218Z"
   },
   {
    "duration": 25,
    "start_time": "2021-07-04T12:20:16.847Z"
   },
   {
    "duration": 13,
    "start_time": "2021-07-04T12:20:16.876Z"
   },
   {
    "duration": 61,
    "start_time": "2021-07-04T12:20:16.893Z"
   },
   {
    "duration": 51,
    "start_time": "2021-07-04T12:20:16.957Z"
   },
   {
    "duration": 46,
    "start_time": "2021-07-04T12:20:17.012Z"
   },
   {
    "duration": 24,
    "start_time": "2021-07-04T12:20:17.061Z"
   },
   {
    "duration": 22,
    "start_time": "2021-07-04T12:20:17.091Z"
   },
   {
    "duration": 11,
    "start_time": "2021-07-04T12:20:17.116Z"
   },
   {
    "duration": 9,
    "start_time": "2021-07-04T12:20:17.130Z"
   },
   {
    "duration": 14,
    "start_time": "2021-07-04T12:20:17.142Z"
   },
   {
    "duration": 53,
    "start_time": "2021-07-04T12:20:17.159Z"
   },
   {
    "duration": 36,
    "start_time": "2021-07-04T12:20:17.215Z"
   },
   {
    "duration": 15,
    "start_time": "2021-07-04T12:20:17.254Z"
   },
   {
    "duration": 422,
    "start_time": "2021-07-04T12:20:17.272Z"
   },
   {
    "duration": 331,
    "start_time": "2021-07-04T12:20:17.696Z"
   },
   {
    "duration": 13,
    "start_time": "2021-07-04T12:20:18.030Z"
   },
   {
    "duration": 35,
    "start_time": "2021-07-04T12:20:18.046Z"
   },
   {
    "duration": 25,
    "start_time": "2021-07-04T12:20:18.084Z"
   },
   {
    "duration": 877,
    "start_time": "2021-07-04T12:20:18.111Z"
   },
   {
    "duration": 449,
    "start_time": "2021-07-04T12:20:19.009Z"
   },
   {
    "duration": 9,
    "start_time": "2021-07-04T12:20:19.460Z"
   },
   {
    "duration": 6,
    "start_time": "2021-07-04T12:20:19.475Z"
   },
   {
    "duration": 206,
    "start_time": "2021-07-04T12:20:19.508Z"
   },
   {
    "duration": 13,
    "start_time": "2021-07-04T12:20:19.716Z"
   },
   {
    "duration": 345,
    "start_time": "2021-07-04T12:20:19.731Z"
   },
   {
    "duration": 12,
    "start_time": "2021-07-04T12:20:20.078Z"
   },
   {
    "duration": 23,
    "start_time": "2021-07-04T12:20:20.092Z"
   },
   {
    "duration": 209,
    "start_time": "2021-07-04T12:20:20.118Z"
   },
   {
    "duration": 8,
    "start_time": "2021-07-04T12:20:20.329Z"
   },
   {
    "duration": 538,
    "start_time": "2021-07-04T12:20:20.339Z"
   },
   {
    "duration": 6,
    "start_time": "2021-07-04T12:20:20.880Z"
   },
   {
    "duration": 433,
    "start_time": "2021-07-04T12:20:20.889Z"
   },
   {
    "duration": 6,
    "start_time": "2021-07-04T12:20:21.325Z"
   },
   {
    "duration": 475,
    "start_time": "2021-07-04T12:20:21.334Z"
   },
   {
    "duration": 247,
    "start_time": "2021-07-04T12:20:21.811Z"
   },
   {
    "duration": 10,
    "start_time": "2021-07-04T12:20:22.061Z"
   },
   {
    "duration": 16,
    "start_time": "2021-07-04T12:20:22.074Z"
   },
   {
    "duration": 15,
    "start_time": "2021-07-04T12:20:22.109Z"
   },
   {
    "duration": 12,
    "start_time": "2021-07-04T12:20:22.126Z"
   },
   {
    "duration": 13,
    "start_time": "2021-07-04T12:20:22.140Z"
   },
   {
    "duration": 52,
    "start_time": "2021-07-04T12:20:22.156Z"
   },
   {
    "duration": 22,
    "start_time": "2021-07-04T12:20:22.211Z"
   },
   {
    "duration": 1587,
    "start_time": "2021-07-11T09:19:41.771Z"
   },
   {
    "duration": 24,
    "start_time": "2021-07-11T09:19:43.361Z"
   },
   {
    "duration": 16,
    "start_time": "2021-07-11T09:19:43.389Z"
   },
   {
    "duration": 29,
    "start_time": "2021-07-11T09:19:43.408Z"
   },
   {
    "duration": 26,
    "start_time": "2021-07-11T09:19:43.439Z"
   },
   {
    "duration": 47,
    "start_time": "2021-07-11T09:19:43.467Z"
   },
   {
    "duration": 22,
    "start_time": "2021-07-11T09:19:43.517Z"
   },
   {
    "duration": 22,
    "start_time": "2021-07-11T09:19:43.543Z"
   },
   {
    "duration": 10,
    "start_time": "2021-07-11T09:19:43.569Z"
   },
   {
    "duration": 9,
    "start_time": "2021-07-11T09:19:43.581Z"
   },
   {
    "duration": 11,
    "start_time": "2021-07-11T09:19:43.593Z"
   },
   {
    "duration": 11,
    "start_time": "2021-07-11T09:19:43.606Z"
   },
   {
    "duration": 51,
    "start_time": "2021-07-11T09:19:43.619Z"
   },
   {
    "duration": 10,
    "start_time": "2021-07-11T09:19:43.673Z"
   },
   {
    "duration": 349,
    "start_time": "2021-07-11T09:19:43.686Z"
   },
   {
    "duration": 265,
    "start_time": "2021-07-11T09:19:44.037Z"
   },
   {
    "duration": 9,
    "start_time": "2021-07-11T09:19:44.304Z"
   },
   {
    "duration": 11,
    "start_time": "2021-07-11T09:19:44.315Z"
   },
   {
    "duration": 33,
    "start_time": "2021-07-11T09:19:44.328Z"
   },
   {
    "duration": 780,
    "start_time": "2021-07-11T09:19:44.363Z"
   },
   {
    "duration": 408,
    "start_time": "2021-07-11T09:19:45.157Z"
   },
   {
    "duration": 10,
    "start_time": "2021-07-11T09:19:45.567Z"
   },
   {
    "duration": 7,
    "start_time": "2021-07-11T09:19:45.582Z"
   },
   {
    "duration": 203,
    "start_time": "2021-07-11T09:19:45.592Z"
   },
   {
    "duration": 10,
    "start_time": "2021-07-11T09:19:45.797Z"
   },
   {
    "duration": 316,
    "start_time": "2021-07-11T09:19:45.809Z"
   },
   {
    "duration": 10,
    "start_time": "2021-07-11T09:19:46.128Z"
   },
   {
    "duration": 5,
    "start_time": "2021-07-11T09:19:46.156Z"
   },
   {
    "duration": 192,
    "start_time": "2021-07-11T09:19:46.163Z"
   },
   {
    "duration": 8,
    "start_time": "2021-07-11T09:19:46.358Z"
   },
   {
    "duration": 527,
    "start_time": "2021-07-11T09:19:46.368Z"
   },
   {
    "duration": 6,
    "start_time": "2021-07-11T09:19:46.897Z"
   },
   {
    "duration": 388,
    "start_time": "2021-07-11T09:19:46.905Z"
   },
   {
    "duration": 6,
    "start_time": "2021-07-11T09:19:47.295Z"
   },
   {
    "duration": 443,
    "start_time": "2021-07-11T09:19:47.303Z"
   },
   {
    "duration": 242,
    "start_time": "2021-07-11T09:19:47.748Z"
   },
   {
    "duration": 7,
    "start_time": "2021-07-11T09:19:47.992Z"
   },
   {
    "duration": 14,
    "start_time": "2021-07-11T09:19:48.001Z"
   },
   {
    "duration": 38,
    "start_time": "2021-07-11T09:19:48.017Z"
   },
   {
    "duration": 11,
    "start_time": "2021-07-11T09:19:48.057Z"
   },
   {
    "duration": 12,
    "start_time": "2021-07-11T09:19:48.070Z"
   },
   {
    "duration": 12,
    "start_time": "2021-07-11T09:19:48.084Z"
   },
   {
    "duration": 19,
    "start_time": "2021-07-11T09:19:48.098Z"
   },
   {
    "duration": 974,
    "start_time": "2021-07-15T19:35:30.240Z"
   },
   {
    "duration": 19,
    "start_time": "2021-07-15T19:35:31.216Z"
   },
   {
    "duration": 32,
    "start_time": "2021-07-15T19:35:31.238Z"
   },
   {
    "duration": 82,
    "start_time": "2021-07-15T19:35:31.272Z"
   },
   {
    "duration": 11,
    "start_time": "2021-07-15T19:35:31.356Z"
   },
   {
    "duration": 53,
    "start_time": "2021-07-15T19:35:31.368Z"
   },
   {
    "duration": 39,
    "start_time": "2021-07-15T19:35:31.423Z"
   },
   {
    "duration": 18,
    "start_time": "2021-07-15T19:35:31.464Z"
   },
   {
    "duration": 21,
    "start_time": "2021-07-15T19:35:31.484Z"
   },
   {
    "duration": 22,
    "start_time": "2021-07-15T19:35:31.507Z"
   },
   {
    "duration": 18,
    "start_time": "2021-07-15T19:35:31.531Z"
   },
   {
    "duration": 26,
    "start_time": "2021-07-15T19:35:31.551Z"
   },
   {
    "duration": 28,
    "start_time": "2021-07-15T19:35:31.579Z"
   },
   {
    "duration": 37,
    "start_time": "2021-07-15T19:35:31.609Z"
   },
   {
    "duration": 208,
    "start_time": "2021-07-15T19:35:31.647Z"
   },
   {
    "duration": 143,
    "start_time": "2021-07-15T19:35:31.857Z"
   },
   {
    "duration": 5,
    "start_time": "2021-07-15T19:35:32.002Z"
   },
   {
    "duration": 14,
    "start_time": "2021-07-15T19:35:32.009Z"
   },
   {
    "duration": 11,
    "start_time": "2021-07-15T19:35:32.024Z"
   },
   {
    "duration": 191,
    "start_time": "2021-07-15T19:35:32.036Z"
   },
   {
    "duration": 14,
    "start_time": "2021-07-15T19:35:32.228Z"
   },
   {
    "duration": 18,
    "start_time": "2021-07-15T19:35:32.243Z"
   },
   {
    "duration": 32,
    "start_time": "2021-07-15T19:35:32.264Z"
   },
   {
    "duration": 21,
    "start_time": "2021-07-15T19:35:32.298Z"
   },
   {
    "duration": 18,
    "start_time": "2021-07-15T19:35:32.320Z"
   },
   {
    "duration": 67,
    "start_time": "2021-07-15T19:35:32.339Z"
   },
   {
    "duration": 6,
    "start_time": "2021-07-15T19:35:32.408Z"
   },
   {
    "duration": 6,
    "start_time": "2021-07-15T19:35:32.416Z"
   },
   {
    "duration": 15,
    "start_time": "2021-07-15T19:35:32.423Z"
   },
   {
    "duration": 7,
    "start_time": "2021-07-15T19:35:32.439Z"
   },
   {
    "duration": 209,
    "start_time": "2021-07-15T19:35:32.448Z"
   },
   {
    "duration": 4,
    "start_time": "2021-07-15T19:35:32.659Z"
   },
   {
    "duration": 68,
    "start_time": "2021-07-15T19:35:32.665Z"
   },
   {
    "duration": 4,
    "start_time": "2021-07-15T19:35:32.735Z"
   },
   {
    "duration": 240,
    "start_time": "2021-07-15T19:35:32.740Z"
   },
   {
    "duration": 116,
    "start_time": "2021-07-15T19:35:32.982Z"
   },
   {
    "duration": 4,
    "start_time": "2021-07-15T19:35:33.100Z"
   },
   {
    "duration": 19,
    "start_time": "2021-07-15T19:35:33.106Z"
   },
   {
    "duration": 11,
    "start_time": "2021-07-15T19:35:33.127Z"
   },
   {
    "duration": 11,
    "start_time": "2021-07-15T19:35:33.140Z"
   },
   {
    "duration": 14,
    "start_time": "2021-07-15T19:35:33.153Z"
   },
   {
    "duration": 10,
    "start_time": "2021-07-15T19:35:33.168Z"
   },
   {
    "duration": 10,
    "start_time": "2021-07-15T19:35:33.180Z"
   },
   {
    "duration": 2286,
    "start_time": "2021-07-23T19:54:14.492Z"
   },
   {
    "duration": 27,
    "start_time": "2021-07-23T19:54:16.781Z"
   },
   {
    "duration": 23,
    "start_time": "2021-07-23T19:54:16.812Z"
   },
   {
    "duration": 55,
    "start_time": "2021-07-23T19:54:16.838Z"
   },
   {
    "duration": 23,
    "start_time": "2021-07-23T19:54:16.895Z"
   },
   {
    "duration": 76,
    "start_time": "2021-07-23T19:54:16.922Z"
   },
   {
    "duration": 25,
    "start_time": "2021-07-23T19:54:17.001Z"
   },
   {
    "duration": 19,
    "start_time": "2021-07-23T19:54:17.030Z"
   },
   {
    "duration": 12,
    "start_time": "2021-07-23T19:54:17.053Z"
   },
   {
    "duration": 12,
    "start_time": "2021-07-23T19:54:17.068Z"
   },
   {
    "duration": 10,
    "start_time": "2021-07-23T19:54:17.083Z"
   },
   {
    "duration": 18,
    "start_time": "2021-07-23T19:54:17.096Z"
   },
   {
    "duration": 46,
    "start_time": "2021-07-23T19:54:17.117Z"
   },
   {
    "duration": 8,
    "start_time": "2021-07-23T19:54:17.165Z"
   },
   {
    "duration": 525,
    "start_time": "2021-07-23T19:54:17.176Z"
   },
   {
    "duration": 391,
    "start_time": "2021-07-23T19:54:17.704Z"
   },
   {
    "duration": 13,
    "start_time": "2021-07-23T19:54:18.098Z"
   },
   {
    "duration": 10,
    "start_time": "2021-07-23T19:54:18.114Z"
   },
   {
    "duration": 35,
    "start_time": "2021-07-23T19:54:18.127Z"
   },
   {
    "duration": 1204,
    "start_time": "2021-07-23T19:54:18.165Z"
   },
   {
    "duration": 445,
    "start_time": "2021-07-23T19:54:19.372Z"
   },
   {
    "duration": 13,
    "start_time": "2021-07-23T19:54:19.820Z"
   },
   {
    "duration": 25,
    "start_time": "2021-07-23T19:54:19.841Z"
   },
   {
    "duration": 298,
    "start_time": "2021-07-23T19:54:19.870Z"
   },
   {
    "duration": 12,
    "start_time": "2021-07-23T19:54:20.171Z"
   },
   {
    "duration": 331,
    "start_time": "2021-07-23T19:54:20.186Z"
   },
   {
    "duration": 11,
    "start_time": "2021-07-23T19:54:20.520Z"
   },
   {
    "duration": 8,
    "start_time": "2021-07-23T19:54:20.534Z"
   },
   {
    "duration": 219,
    "start_time": "2021-07-23T19:54:20.545Z"
   },
   {
    "duration": 8,
    "start_time": "2021-07-23T19:54:20.766Z"
   },
   {
    "duration": 532,
    "start_time": "2021-07-23T19:54:20.776Z"
   },
   {
    "duration": 6,
    "start_time": "2021-07-23T19:54:21.310Z"
   },
   {
    "duration": 404,
    "start_time": "2021-07-23T19:54:21.318Z"
   },
   {
    "duration": 6,
    "start_time": "2021-07-23T19:54:21.725Z"
   },
   {
    "duration": 487,
    "start_time": "2021-07-23T19:54:21.733Z"
   },
   {
    "duration": 220,
    "start_time": "2021-07-23T19:54:22.222Z"
   },
   {
    "duration": 7,
    "start_time": "2021-07-23T19:54:22.445Z"
   },
   {
    "duration": 10,
    "start_time": "2021-07-23T19:54:22.462Z"
   },
   {
    "duration": 14,
    "start_time": "2021-07-23T19:54:22.475Z"
   },
   {
    "duration": 13,
    "start_time": "2021-07-23T19:54:22.491Z"
   },
   {
    "duration": 15,
    "start_time": "2021-07-23T19:54:22.506Z"
   },
   {
    "duration": 45,
    "start_time": "2021-07-23T19:54:22.524Z"
   },
   {
    "duration": 23,
    "start_time": "2021-07-23T19:54:22.571Z"
   },
   {
    "duration": 1746,
    "start_time": "2021-08-25T09:28:08.523Z"
   },
   {
    "duration": 22,
    "start_time": "2021-08-25T09:28:10.271Z"
   },
   {
    "duration": 13,
    "start_time": "2021-08-25T09:28:10.296Z"
   },
   {
    "duration": 25,
    "start_time": "2021-08-25T09:28:10.312Z"
   },
   {
    "duration": 32,
    "start_time": "2021-08-25T09:28:10.339Z"
   },
   {
    "duration": 72,
    "start_time": "2021-08-25T09:28:10.373Z"
   },
   {
    "duration": 20,
    "start_time": "2021-08-25T09:28:10.448Z"
   },
   {
    "duration": 14,
    "start_time": "2021-08-25T09:28:10.472Z"
   },
   {
    "duration": 8,
    "start_time": "2021-08-25T09:28:10.489Z"
   },
   {
    "duration": 7,
    "start_time": "2021-08-25T09:28:10.499Z"
   },
   {
    "duration": 10,
    "start_time": "2021-08-25T09:28:10.508Z"
   },
   {
    "duration": 44,
    "start_time": "2021-08-25T09:28:10.521Z"
   },
   {
    "duration": 25,
    "start_time": "2021-08-25T09:28:10.567Z"
   },
   {
    "duration": 8,
    "start_time": "2021-08-25T09:28:10.594Z"
   },
   {
    "duration": 352,
    "start_time": "2021-08-25T09:28:10.605Z"
   },
   {
    "duration": 254,
    "start_time": "2021-08-25T09:28:10.962Z"
   },
   {
    "duration": 10,
    "start_time": "2021-08-25T09:28:11.218Z"
   },
   {
    "duration": 8,
    "start_time": "2021-08-25T09:28:11.231Z"
   },
   {
    "duration": 29,
    "start_time": "2021-08-25T09:28:11.241Z"
   },
   {
    "duration": 953,
    "start_time": "2021-08-25T09:28:11.273Z"
   },
   {
    "duration": 411,
    "start_time": "2021-08-25T09:28:12.228Z"
   },
   {
    "duration": 20,
    "start_time": "2021-08-25T09:28:12.642Z"
   },
   {
    "duration": 6,
    "start_time": "2021-08-25T09:28:12.668Z"
   },
   {
    "duration": 210,
    "start_time": "2021-08-25T09:28:12.678Z"
   },
   {
    "duration": 9,
    "start_time": "2021-08-25T09:28:12.891Z"
   },
   {
    "duration": 334,
    "start_time": "2021-08-25T09:28:12.902Z"
   },
   {
    "duration": 24,
    "start_time": "2021-08-25T09:28:13.238Z"
   },
   {
    "duration": 12,
    "start_time": "2021-08-25T09:28:13.264Z"
   },
   {
    "duration": 209,
    "start_time": "2021-08-25T09:28:13.279Z"
   },
   {
    "duration": 10,
    "start_time": "2021-08-25T09:28:13.491Z"
   },
   {
    "duration": 540,
    "start_time": "2021-08-25T09:28:13.505Z"
   },
   {
    "duration": 16,
    "start_time": "2021-08-25T09:28:14.047Z"
   },
   {
    "duration": 416,
    "start_time": "2021-08-25T09:28:14.065Z"
   },
   {
    "duration": 5,
    "start_time": "2021-08-25T09:28:14.483Z"
   },
   {
    "duration": 486,
    "start_time": "2021-08-25T09:28:14.491Z"
   },
   {
    "duration": 219,
    "start_time": "2021-08-25T09:28:14.979Z"
   },
   {
    "duration": 10,
    "start_time": "2021-08-25T09:28:15.200Z"
   },
   {
    "duration": 21,
    "start_time": "2021-08-25T09:28:15.213Z"
   },
   {
    "duration": 38,
    "start_time": "2021-08-25T09:28:15.236Z"
   },
   {
    "duration": 18,
    "start_time": "2021-08-25T09:28:15.277Z"
   },
   {
    "duration": 18,
    "start_time": "2021-08-25T09:28:15.298Z"
   },
   {
    "duration": 47,
    "start_time": "2021-08-25T09:28:15.319Z"
   },
   {
    "duration": 31,
    "start_time": "2021-08-25T09:28:15.369Z"
   },
   {
    "duration": 1299,
    "start_time": "2021-09-06T18:33:20.059Z"
   },
   {
    "duration": 24,
    "start_time": "2021-09-06T18:33:21.360Z"
   },
   {
    "duration": 30,
    "start_time": "2021-09-06T18:33:21.387Z"
   },
   {
    "duration": 94,
    "start_time": "2021-09-06T18:33:21.420Z"
   },
   {
    "duration": 16,
    "start_time": "2021-09-06T18:33:21.516Z"
   },
   {
    "duration": 66,
    "start_time": "2021-09-06T18:33:21.534Z"
   },
   {
    "duration": 35,
    "start_time": "2021-09-06T18:33:21.603Z"
   },
   {
    "duration": 34,
    "start_time": "2021-09-06T18:33:21.641Z"
   },
   {
    "duration": 20,
    "start_time": "2021-09-06T18:33:21.678Z"
   },
   {
    "duration": 21,
    "start_time": "2021-09-06T18:33:21.700Z"
   },
   {
    "duration": 25,
    "start_time": "2021-09-06T18:33:21.723Z"
   },
   {
    "duration": 25,
    "start_time": "2021-09-06T18:33:21.750Z"
   },
   {
    "duration": 30,
    "start_time": "2021-09-06T18:33:21.777Z"
   },
   {
    "duration": 21,
    "start_time": "2021-09-06T18:33:21.809Z"
   },
   {
    "duration": 352,
    "start_time": "2021-09-06T18:33:21.832Z"
   },
   {
    "duration": 281,
    "start_time": "2021-09-06T18:33:22.187Z"
   },
   {
    "duration": 9,
    "start_time": "2021-09-06T18:33:22.470Z"
   },
   {
    "duration": 40,
    "start_time": "2021-09-06T18:33:22.481Z"
   },
   {
    "duration": 20,
    "start_time": "2021-09-06T18:33:22.523Z"
   },
   {
    "duration": 370,
    "start_time": "2021-09-06T18:33:22.546Z"
   },
   {
    "duration": 53,
    "start_time": "2021-09-06T18:33:22.918Z"
   },
   {
    "duration": 32,
    "start_time": "2021-09-06T18:33:22.974Z"
   },
   {
    "duration": 6,
    "start_time": "2021-09-06T18:33:23.055Z"
   },
   {
    "duration": 95,
    "start_time": "2021-09-06T18:33:23.063Z"
   },
   {
    "duration": 10,
    "start_time": "2021-09-06T18:33:23.160Z"
   },
   {
    "duration": 30,
    "start_time": "2021-09-06T18:33:23.172Z"
   },
   {
    "duration": 53,
    "start_time": "2021-09-06T18:33:23.205Z"
   },
   {
    "duration": 6,
    "start_time": "2021-09-06T18:33:23.263Z"
   },
   {
    "duration": 32,
    "start_time": "2021-09-06T18:33:23.272Z"
   },
   {
    "duration": 16,
    "start_time": "2021-09-06T18:33:23.307Z"
   },
   {
    "duration": 333,
    "start_time": "2021-09-06T18:33:23.325Z"
   },
   {
    "duration": 6,
    "start_time": "2021-09-06T18:33:23.661Z"
   },
   {
    "duration": 117,
    "start_time": "2021-09-06T18:33:23.671Z"
   },
   {
    "duration": 6,
    "start_time": "2021-09-06T18:33:23.791Z"
   },
   {
    "duration": 480,
    "start_time": "2021-09-06T18:33:23.800Z"
   },
   {
    "duration": 215,
    "start_time": "2021-09-06T18:33:24.282Z"
   },
   {
    "duration": 8,
    "start_time": "2021-09-06T18:33:24.499Z"
   },
   {
    "duration": 19,
    "start_time": "2021-09-06T18:33:24.509Z"
   },
   {
    "duration": 35,
    "start_time": "2021-09-06T18:33:24.530Z"
   },
   {
    "duration": 19,
    "start_time": "2021-09-06T18:33:24.567Z"
   },
   {
    "duration": 24,
    "start_time": "2021-09-06T18:33:24.588Z"
   },
   {
    "duration": 27,
    "start_time": "2021-09-06T18:33:24.615Z"
   },
   {
    "duration": 27,
    "start_time": "2021-09-06T18:33:24.644Z"
   },
   {
    "duration": 2306,
    "start_time": "2021-09-12T16:37:57.679Z"
   },
   {
    "duration": 32,
    "start_time": "2021-09-12T16:37:59.988Z"
   },
   {
    "duration": 55,
    "start_time": "2021-09-12T16:38:00.024Z"
   },
   {
    "duration": 112,
    "start_time": "2021-09-12T16:38:00.082Z"
   },
   {
    "duration": 20,
    "start_time": "2021-09-12T16:38:00.196Z"
   },
   {
    "duration": 139,
    "start_time": "2021-09-12T16:38:00.218Z"
   },
   {
    "duration": 52,
    "start_time": "2021-09-12T16:38:00.360Z"
   },
   {
    "duration": 39,
    "start_time": "2021-09-12T16:38:00.416Z"
   },
   {
    "duration": 23,
    "start_time": "2021-09-12T16:38:00.458Z"
   },
   {
    "duration": 69,
    "start_time": "2021-09-12T16:38:00.484Z"
   },
   {
    "duration": 54,
    "start_time": "2021-09-12T16:38:00.555Z"
   },
   {
    "duration": 22,
    "start_time": "2021-09-12T16:38:00.611Z"
   },
   {
    "duration": 49,
    "start_time": "2021-09-12T16:38:00.635Z"
   },
   {
    "duration": 24,
    "start_time": "2021-09-12T16:38:00.687Z"
   },
   {
    "duration": 353,
    "start_time": "2021-09-12T16:38:00.714Z"
   },
   {
    "duration": 311,
    "start_time": "2021-09-12T16:38:01.069Z"
   },
   {
    "duration": 60,
    "start_time": "2021-09-12T16:38:01.383Z"
   },
   {
    "duration": 23,
    "start_time": "2021-09-12T16:38:01.446Z"
   },
   {
    "duration": 46,
    "start_time": "2021-09-12T16:38:01.471Z"
   },
   {
    "duration": 550,
    "start_time": "2021-09-12T16:38:01.520Z"
   },
   {
    "duration": 27,
    "start_time": "2021-09-12T16:38:02.073Z"
   },
   {
    "duration": 72,
    "start_time": "2021-09-12T16:38:02.102Z"
   },
   {
    "duration": 25,
    "start_time": "2021-09-12T16:38:02.180Z"
   },
   {
    "duration": 79,
    "start_time": "2021-09-12T16:38:02.208Z"
   },
   {
    "duration": 81,
    "start_time": "2021-09-12T16:38:02.290Z"
   },
   {
    "duration": 122,
    "start_time": "2021-09-12T16:38:02.373Z"
   },
   {
    "duration": 48,
    "start_time": "2021-09-12T16:38:02.498Z"
   },
   {
    "duration": 35,
    "start_time": "2021-09-12T16:38:02.548Z"
   },
   {
    "duration": 48,
    "start_time": "2021-09-12T16:38:02.585Z"
   },
   {
    "duration": 23,
    "start_time": "2021-09-12T16:38:02.635Z"
   },
   {
    "duration": 345,
    "start_time": "2021-09-12T16:38:02.661Z"
   },
   {
    "duration": 5,
    "start_time": "2021-09-12T16:38:03.009Z"
   },
   {
    "duration": 118,
    "start_time": "2021-09-12T16:38:03.016Z"
   },
   {
    "duration": 6,
    "start_time": "2021-09-12T16:38:03.136Z"
   },
   {
    "duration": 458,
    "start_time": "2021-09-12T16:38:03.144Z"
   },
   {
    "duration": 194,
    "start_time": "2021-09-12T16:38:03.605Z"
   },
   {
    "duration": 8,
    "start_time": "2021-09-12T16:38:03.802Z"
   },
   {
    "duration": 27,
    "start_time": "2021-09-12T16:38:03.812Z"
   },
   {
    "duration": 26,
    "start_time": "2021-09-12T16:38:03.841Z"
   },
   {
    "duration": 11,
    "start_time": "2021-09-12T16:38:03.869Z"
   },
   {
    "duration": 18,
    "start_time": "2021-09-12T16:38:03.882Z"
   },
   {
    "duration": 19,
    "start_time": "2021-09-12T16:38:03.903Z"
   },
   {
    "duration": 20,
    "start_time": "2021-09-12T16:38:03.924Z"
   }
  ],
  "kernelspec": {
   "display_name": "Python 3",
   "language": "python",
   "name": "python3"
  },
  "language_info": {
   "codemirror_mode": {
    "name": "ipython",
    "version": 3
   },
   "file_extension": ".py",
   "mimetype": "text/x-python",
   "name": "python",
   "nbconvert_exporter": "python",
   "pygments_lexer": "ipython3",
   "version": "3.8.5"
  },
  "latex_envs": {
   "LaTeX_envs_menu_present": true,
   "autoclose": false,
   "autocomplete": true,
   "bibliofile": "biblio.bib",
   "cite_by": "apalike",
   "current_citInitial": 1,
   "eqLabelWithNumbers": true,
   "eqNumInitial": 1,
   "hotkeys": {
    "equation": "Ctrl-E",
    "itemize": "Ctrl-I"
   },
   "labels_anchors": false,
   "latex_user_defs": false,
   "report_style_numbering": false,
   "user_envs_cfg": false
  },
  "toc": {
   "base_numbering": 1,
   "nav_menu": {},
   "number_sections": false,
   "sideBar": true,
   "skip_h1_title": false,
   "title_cell": "Table of Contents",
   "title_sidebar": "Contents",
   "toc_cell": false,
   "toc_position": {
    "height": "calc(100% - 180px)",
    "left": "10px",
    "top": "150px",
    "width": "366.594px"
   },
   "toc_section_display": true,
   "toc_window_display": false
  },
  "varInspector": {
   "cols": {
    "lenName": 16,
    "lenType": 16,
    "lenVar": 40
   },
   "kernels_config": {
    "python": {
     "delete_cmd_postfix": "",
     "delete_cmd_prefix": "del ",
     "library": "var_list.py",
     "varRefreshCmd": "print(var_dic_list())"
    },
    "r": {
     "delete_cmd_postfix": ") ",
     "delete_cmd_prefix": "rm(",
     "library": "var_list.r",
     "varRefreshCmd": "cat(var_dic_list()) "
    }
   },
   "types_to_exclude": [
    "module",
    "function",
    "builtin_function_or_method",
    "instance",
    "_Feature"
   ],
   "window_display": false
  }
 },
 "nbformat": 4,
 "nbformat_minor": 2
}
