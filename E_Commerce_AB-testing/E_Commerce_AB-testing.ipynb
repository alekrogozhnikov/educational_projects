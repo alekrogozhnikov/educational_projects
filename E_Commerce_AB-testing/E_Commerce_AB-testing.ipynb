{
 "cells": [
  {
   "cell_type": "markdown",
   "metadata": {},
   "source": [
    "<b style=\"font-size:30px\">Анализ пользователей мобильного приложения стартапа, специализирующийся на продуктах питания.</b>"
   ]
  },
  {
   "cell_type": "markdown",
   "metadata": {},
   "source": [
    "**Основная задача:** разобраться, как ведут себя пользователи вашего мобильного приложения.\n",
    "\n",
    "Имеется запись в логе — это действие пользователя, или событие.\n",
    "\n",
    "Этапы достижения основной задачи:\n",
    "- изучить воронку продаж;\n",
    "- узнать, как пользователи доходят до покупки;\n",
    "- сколько пользователей доходит до покупки, а сколько — «застревает» на предыдущих шагах? На каких именно?\n",
    "- исследовать результаты A/A/B-эксперимента."
   ]
  },
  {
   "cell_type": "markdown",
   "metadata": {},
   "source": [
    "# Шаг №1.  Загрузить данные и изучить их"
   ]
  },
  {
   "cell_type": "code",
   "execution_count": 1,
   "metadata": {},
   "outputs": [],
   "source": [
    "# Импортируем необходимые библиотеки\n",
    "import pandas as pd\n",
    "import numpy as np\n",
    "import plotly.graph_objects as go\n",
    "import plotly.express as px\n",
    "import seaborn as sns\n",
    "from scipy import stats as st\n",
    "import math as mth\n",
    "colors =[\"#ef476f\",\"#ffd166\",\"#06d6a0\",\"#118ab2\",\"#073b4c\"]\n",
    "sns.set_palette(sns.color_palette(colors))"
   ]
  },
  {
   "cell_type": "markdown",
   "metadata": {},
   "source": [
    "Структура **DF**:\n",
    "- **EventName** — название события;\n",
    "- **DeviceIDHash** — уникальный идентификатор пользователя;\n",
    "- **EventTimestamp** — время события;\n",
    "- **ExpId** — номер эксперимента: 246 и 247 — контрольные группы, а 248 — экспериментальная."
   ]
  },
  {
   "cell_type": "code",
   "execution_count": 2,
   "metadata": {
    "scrolled": false
   },
   "outputs": [
    {
     "name": "stdout",
     "output_type": "stream",
     "text": [
      "<class 'pandas.core.frame.DataFrame'>\n",
      "RangeIndex: 244126 entries, 0 to 244125\n",
      "Data columns (total 4 columns):\n",
      " #   Column           Non-Null Count   Dtype \n",
      "---  ------           --------------   ----- \n",
      " 0   event_name       244126 non-null  object\n",
      " 1   device_id_hash   244126 non-null  int64 \n",
      " 2   event_timestamp  244126 non-null  int64 \n",
      " 3   exp_id           244126 non-null  int64 \n",
      "dtypes: int64(3), object(1)\n",
      "memory usage: 7.5+ MB\n"
     ]
    }
   ],
   "source": [
    "# оценив данные, создадим пайплайн для загрузки полного датасета:    \n",
    "df = pd.read_csv('logs_exp.csv',sep='\\s+',\n",
    "    names=['event_name','device_id_hash','event_timestamp','exp_id'], header=0,\n",
    ") \n",
    "df.info() "
   ]
  },
  {
   "cell_type": "markdown",
   "metadata": {},
   "source": [
    "Проверим данные на наличие дубликатов и удалим их:"
   ]
  },
  {
   "cell_type": "code",
   "execution_count": 3,
   "metadata": {},
   "outputs": [
    {
     "name": "stdout",
     "output_type": "stream",
     "text": [
      "Количество дубликатов в логе = 413\n"
     ]
    }
   ],
   "source": [
    "print('Количество дубликатов в логе = {:.0f}'.format(df.duplicated().sum()))\n",
    "df = df.drop_duplicates()"
   ]
  },
  {
   "cell_type": "markdown",
   "metadata": {},
   "source": [
    "**Вывод:** Пропусков нет. Столбцы приведены к нижнему регистру, переименовыны навзвания столбцов."
   ]
  },
  {
   "cell_type": "markdown",
   "metadata": {},
   "source": [
    "# Шаг №2.  Подготовка данных"
   ]
  },
  {
   "cell_type": "markdown",
   "metadata": {},
   "source": [
    "Переведем в формат даты столбец **event_timestamp**:"
   ]
  },
  {
   "cell_type": "code",
   "execution_count": 4,
   "metadata": {},
   "outputs": [],
   "source": [
    "df['event_timestamp'] = pd.to_datetime(df['event_timestamp'], unit=\"s\")"
   ]
  },
  {
   "cell_type": "markdown",
   "metadata": {},
   "source": [
    "Создадим новый столбец с датой:"
   ]
  },
  {
   "cell_type": "code",
   "execution_count": 5,
   "metadata": {},
   "outputs": [],
   "source": [
    "df['date'] = pd.to_datetime(df['event_timestamp']).dt.normalize()"
   ]
  },
  {
   "cell_type": "markdown",
   "metadata": {},
   "source": [
    "**Вывод:** Переведен в формат даты столбец **event_timestamp**, а также добавлен столбец с датой события."
   ]
  },
  {
   "cell_type": "markdown",
   "metadata": {},
   "source": [
    "# Шаг 3. Изучить и проверить данные"
   ]
  },
  {
   "cell_type": "markdown",
   "metadata": {},
   "source": [
    "Создадим функции для графиков:"
   ]
  },
  {
   "cell_type": "code",
   "execution_count": 6,
   "metadata": {},
   "outputs": [],
   "source": [
    "def bar_color(df, x, y, title, x_name, y_name):\n",
    "    df['percent'] = df['percent'].astype('str')+'%'\n",
    "    fig = px.bar(df, x=x, y=y,\n",
    "                 color=x, text=y)\n",
    "    fig.update_xaxes(tickangle=30)\n",
    "    fig.update_traces(textposition='outside')\n",
    "    fig.update_layout(\n",
    "        title=title,\n",
    "        xaxis_title=x_name,\n",
    "        yaxis_title=y_name,\n",
    "        width=900, height=500)\n",
    "    for trace, percent in zip(fig.data, df['percent']):\n",
    "        trace.name = trace.name.split('=')[0] + ' (' + percent + ')'\n",
    "    fig.show('svg')"
   ]
  },
  {
   "cell_type": "markdown",
   "metadata": {},
   "source": [
    "## Сколько всего событий в логе?"
   ]
  },
  {
   "cell_type": "code",
   "execution_count": 7,
   "metadata": {},
   "outputs": [
    {
     "name": "stdout",
     "output_type": "stream",
     "text": [
      "Количество событий в логе = 243713\n"
     ]
    }
   ],
   "source": [
    "count_event = df['device_id_hash'].count()\n",
    "print('Количество событий в логе = {:.0f}'.format(count_event))"
   ]
  },
  {
   "cell_type": "markdown",
   "metadata": {},
   "source": [
    "## Сколько всего пользователей в логе?"
   ]
  },
  {
   "cell_type": "code",
   "execution_count": 8,
   "metadata": {},
   "outputs": [
    {
     "name": "stdout",
     "output_type": "stream",
     "text": [
      "Количество пользователей в логе = 7551\n"
     ]
    }
   ],
   "source": [
    "count_id = len(df.groupby('device_id_hash', as_index=False).count())\n",
    "print('Количество пользователей в логе = {:.0f}'.format(count_id))"
   ]
  },
  {
   "cell_type": "markdown",
   "metadata": {},
   "source": [
    "## Сколько в среднем событий приходится на пользователя?"
   ]
  },
  {
   "cell_type": "code",
   "execution_count": 9,
   "metadata": {
    "scrolled": true
   },
   "outputs": [
    {
     "name": "stdout",
     "output_type": "stream",
     "text": [
      "Среднее значение количества событий на пользователя в логе = 32.28\n",
      "Медианное значение количества событий на пользователя в логе = 20.00\n",
      "Мода количества событий на пользователя в логе = 5.00\n"
     ]
    }
   ],
   "source": [
    "mean_event = df.groupby('device_id_hash', as_index=False).agg({'event_name':'count'})['event_name'].mean()\n",
    "median_event = df.groupby('device_id_hash', as_index=False).agg({'event_name':'count'})['event_name'].median()\n",
    "mode_event = df.groupby('device_id_hash', as_index=False).agg({'event_name':'count'})['event_name'].mode()[0]\n",
    "print('Среднее значение количества событий на пользователя в логе = {:.2f}'.format(mean_event))\n",
    "print('Медианное значение количества событий на пользователя в логе = {:.2f}'.format(median_event))\n",
    "print('Мода количества событий на пользователя в логе = {:.2f}'.format(mode_event))"
   ]
  },
  {
   "cell_type": "markdown",
   "metadata": {},
   "source": [
    "Распределение количества событий на пользователя имеет правстороннюю ассиметрию."
   ]
  },
  {
   "cell_type": "markdown",
   "metadata": {},
   "source": [
    "## Данными за какой период вы располагаете?"
   ]
  },
  {
   "cell_type": "code",
   "execution_count": 10,
   "metadata": {},
   "outputs": [
    {
     "name": "stdout",
     "output_type": "stream",
     "text": [
      "Минимальная дата = 2019-07-25 00:00:00\n"
     ]
    }
   ],
   "source": [
    "min_date = df['date'].min()\n",
    "print('Минимальная дата = {}'.format(min_date))"
   ]
  },
  {
   "cell_type": "code",
   "execution_count": 11,
   "metadata": {},
   "outputs": [
    {
     "name": "stdout",
     "output_type": "stream",
     "text": [
      "Максимальная дата = 2019-08-07 00:00:00\n"
     ]
    }
   ],
   "source": [
    "max_date = df['date'].max()\n",
    "print('Максимальная дата = {}'.format(max_date))"
   ]
  },
  {
   "cell_type": "markdown",
   "metadata": {},
   "source": [
    "Построим гистограмму по дате и времени:"
   ]
  },
  {
   "cell_type": "code",
   "execution_count": 12,
   "metadata": {},
   "outputs": [
    {
     "data": {
      "image/svg+xml": [
       "<svg class=\"main-svg\" xmlns=\"http://www.w3.org/2000/svg\" xmlns:xlink=\"http://www.w3.org/1999/xlink\" width=\"900\" height=\"500\" style=\"\" viewBox=\"0 0 900 500\"><rect x=\"0\" y=\"0\" width=\"900\" height=\"500\" style=\"fill: rgb(255, 255, 255); fill-opacity: 1;\"/><defs id=\"defs-9db4d2\"><g class=\"clips\"><clipPath id=\"clip9db4d2xyplot\" class=\"plotclip\"><rect width=\"740\" height=\"360\"/></clipPath><clipPath class=\"axesclip\" id=\"clip9db4d2x\"><rect x=\"80\" y=\"0\" width=\"740\" height=\"500\"/></clipPath><clipPath class=\"axesclip\" id=\"clip9db4d2y\"><rect x=\"0\" y=\"60\" width=\"900\" height=\"360\"/></clipPath><clipPath class=\"axesclip\" id=\"clip9db4d2xy\"><rect x=\"80\" y=\"60\" width=\"740\" height=\"360\"/></clipPath></g><g class=\"gradients\"/><g class=\"patterns\"/></defs><g class=\"bglayer\"><rect class=\"bg\" x=\"80\" y=\"60\" width=\"740\" height=\"360\" style=\"fill: rgb(229, 236, 246); fill-opacity: 1; stroke-width: 0;\"/></g><g class=\"layer-below\"><g class=\"imagelayer\"/><g class=\"shapelayer\"/></g><g class=\"cartesianlayer\"><g class=\"subplot xy\"><g class=\"layer-subplot\"><g class=\"shapelayer\"/><g class=\"imagelayer\"/></g><g class=\"gridlayer\"><g class=\"x\"/><g class=\"y\"><path class=\"ygrid crisp\" transform=\"translate(0,361.9)\" d=\"M80,0h740\" style=\"stroke: rgb(255, 255, 255); stroke-opacity: 1; stroke-width: 1px;\"/><path class=\"ygrid crisp\" transform=\"translate(0,303.78999999999996)\" d=\"M80,0h740\" style=\"stroke: rgb(255, 255, 255); stroke-opacity: 1; stroke-width: 1px;\"/><path class=\"ygrid crisp\" transform=\"translate(0,245.69)\" d=\"M80,0h740\" style=\"stroke: rgb(255, 255, 255); stroke-opacity: 1; stroke-width: 1px;\"/><path class=\"ygrid crisp\" transform=\"translate(0,187.57999999999998)\" d=\"M80,0h740\" style=\"stroke: rgb(255, 255, 255); stroke-opacity: 1; stroke-width: 1px;\"/><path class=\"ygrid crisp\" transform=\"translate(0,129.48000000000002)\" d=\"M80,0h740\" style=\"stroke: rgb(255, 255, 255); stroke-opacity: 1; stroke-width: 1px;\"/><path class=\"ygrid crisp\" transform=\"translate(0,71.38)\" d=\"M80,0h740\" style=\"stroke: rgb(255, 255, 255); stroke-opacity: 1; stroke-width: 1px;\"/></g></g><g class=\"zerolinelayer\"><path class=\"yzl zl crisp\" transform=\"translate(0,420)\" d=\"M80,0h740\" style=\"stroke: rgb(255, 255, 255); stroke-opacity: 1; stroke-width: 2px;\"/></g><path class=\"xlines-below\"/><path class=\"ylines-below\"/><g class=\"overlines-below\"/><g class=\"xaxislayer-below\"/><g class=\"yaxislayer-below\"/><g class=\"overaxes-below\"/><g class=\"plot\" transform=\"translate(80,60)\" clip-path=\"url(#clip9db4d2xyplot)\"><g class=\"barlayer mlayer\"><g class=\"trace bars\" style=\"opacity: 1;\"><g class=\"points\"><g class=\"point\"><path d=\"M0.11,360V359.88H2.13V360Z\" style=\"vector-effect: non-scaling-stroke; opacity: 1; stroke-width: 0px; fill: rgb(99, 110, 250); fill-opacity: 1;\"/></g><g class=\"point\"><path d=\"M0,0Z\" style=\"vector-effect: non-scaling-stroke; opacity: 1; stroke-width: 0px; fill: rgb(99, 110, 250); fill-opacity: 1;\"/></g><g class=\"point\"><path d=\"M0,0Z\" style=\"vector-effect: non-scaling-stroke; opacity: 1; stroke-width: 0px; fill: rgb(99, 110, 250); fill-opacity: 1;\"/></g><g class=\"point\"><path d=\"M0,0Z\" style=\"vector-effect: non-scaling-stroke; opacity: 1; stroke-width: 0px; fill: rgb(99, 110, 250); fill-opacity: 1;\"/></g><g class=\"point\"><path d=\"M0,0Z\" style=\"vector-effect: non-scaling-stroke; opacity: 1; stroke-width: 0px; fill: rgb(99, 110, 250); fill-opacity: 1;\"/></g><g class=\"point\"><path d=\"M0,0Z\" style=\"vector-effect: non-scaling-stroke; opacity: 1; stroke-width: 0px; fill: rgb(99, 110, 250); fill-opacity: 1;\"/></g><g class=\"point\"><path d=\"M0,0Z\" style=\"vector-effect: non-scaling-stroke; opacity: 1; stroke-width: 0px; fill: rgb(99, 110, 250); fill-opacity: 1;\"/></g><g class=\"point\"><path d=\"M15.81,360V359.42H17.83V360Z\" style=\"vector-effect: non-scaling-stroke; opacity: 1; stroke-width: 0px; fill: rgb(99, 110, 250); fill-opacity: 1;\"/></g><g class=\"point\"><path d=\"M0,0Z\" style=\"vector-effect: non-scaling-stroke; opacity: 1; stroke-width: 0px; fill: rgb(99, 110, 250); fill-opacity: 1;\"/></g><g class=\"point\"><path d=\"M0,0Z\" style=\"vector-effect: non-scaling-stroke; opacity: 1; stroke-width: 0px; fill: rgb(99, 110, 250); fill-opacity: 1;\"/></g><g class=\"point\"><path d=\"M22.54,360V359.88H24.55V360Z\" style=\"vector-effect: non-scaling-stroke; opacity: 1; stroke-width: 0px; fill: rgb(99, 110, 250); fill-opacity: 1;\"/></g><g class=\"point\"><path d=\"M0,0Z\" style=\"vector-effect: non-scaling-stroke; opacity: 1; stroke-width: 0px; fill: rgb(99, 110, 250); fill-opacity: 1;\"/></g><g class=\"point\"><path d=\"M0,0Z\" style=\"vector-effect: non-scaling-stroke; opacity: 1; stroke-width: 0px; fill: rgb(99, 110, 250); fill-opacity: 1;\"/></g><g class=\"point\"><path d=\"M0,0Z\" style=\"vector-effect: non-scaling-stroke; opacity: 1; stroke-width: 0px; fill: rgb(99, 110, 250); fill-opacity: 1;\"/></g><g class=\"point\"><path d=\"M0,0Z\" style=\"vector-effect: non-scaling-stroke; opacity: 1; stroke-width: 0px; fill: rgb(99, 110, 250); fill-opacity: 1;\"/></g><g class=\"point\"><path d=\"M0,0Z\" style=\"vector-effect: non-scaling-stroke; opacity: 1; stroke-width: 0px; fill: rgb(99, 110, 250); fill-opacity: 1;\"/></g><g class=\"point\"><path d=\"M35.99,360V359.77H38.01V360Z\" style=\"vector-effect: non-scaling-stroke; opacity: 1; stroke-width: 0px; fill: rgb(99, 110, 250); fill-opacity: 1;\"/></g><g class=\"point\"><path d=\"M0,0Z\" style=\"vector-effect: non-scaling-stroke; opacity: 1; stroke-width: 0px; fill: rgb(99, 110, 250); fill-opacity: 1;\"/></g><g class=\"point\"><path d=\"M0,0Z\" style=\"vector-effect: non-scaling-stroke; opacity: 1; stroke-width: 0px; fill: rgb(99, 110, 250); fill-opacity: 1;\"/></g><g class=\"point\"><path d=\"M0,0Z\" style=\"vector-effect: non-scaling-stroke; opacity: 1; stroke-width: 0px; fill: rgb(99, 110, 250); fill-opacity: 1;\"/></g><g class=\"point\"><path d=\"M0,0Z\" style=\"vector-effect: non-scaling-stroke; opacity: 1; stroke-width: 0px; fill: rgb(99, 110, 250); fill-opacity: 1;\"/></g><g class=\"point\"><path d=\"M0,0Z\" style=\"vector-effect: non-scaling-stroke; opacity: 1; stroke-width: 0px; fill: rgb(99, 110, 250); fill-opacity: 1;\"/></g><g class=\"point\"><path d=\"M0,0Z\" style=\"vector-effect: non-scaling-stroke; opacity: 1; stroke-width: 0px; fill: rgb(99, 110, 250); fill-opacity: 1;\"/></g><g class=\"point\"><path d=\"M51.69,360V359.88H53.71V360Z\" style=\"vector-effect: non-scaling-stroke; opacity: 1; stroke-width: 0px; fill: rgb(99, 110, 250); fill-opacity: 1;\"/></g><g class=\"point\"><path d=\"M0,0Z\" style=\"vector-effect: non-scaling-stroke; opacity: 1; stroke-width: 0px; fill: rgb(99, 110, 250); fill-opacity: 1;\"/></g><g class=\"point\"><path d=\"M56.17,360V359.88H58.19V360Z\" style=\"vector-effect: non-scaling-stroke; opacity: 1; stroke-width: 0px; fill: rgb(99, 110, 250); fill-opacity: 1;\"/></g><g class=\"point\"><path d=\"M58.42,360V359.77H60.43V360Z\" style=\"vector-effect: non-scaling-stroke; opacity: 1; stroke-width: 0px; fill: rgb(99, 110, 250); fill-opacity: 1;\"/></g><g class=\"point\"><path d=\"M60.66,360V359.88H62.68V360Z\" style=\"vector-effect: non-scaling-stroke; opacity: 1; stroke-width: 0px; fill: rgb(99, 110, 250); fill-opacity: 1;\"/></g><g class=\"point\"><path d=\"M0,0Z\" style=\"vector-effect: non-scaling-stroke; opacity: 1; stroke-width: 0px; fill: rgb(99, 110, 250); fill-opacity: 1;\"/></g><g class=\"point\"><path d=\"M0,0Z\" style=\"vector-effect: non-scaling-stroke; opacity: 1; stroke-width: 0px; fill: rgb(99, 110, 250); fill-opacity: 1;\"/></g><g class=\"point\"><path d=\"M67.38,360V359.88H69.4V360Z\" style=\"vector-effect: non-scaling-stroke; opacity: 1; stroke-width: 0px; fill: rgb(99, 110, 250); fill-opacity: 1;\"/></g><g class=\"point\"><path d=\"M69.63,360V359.77H71.65V360Z\" style=\"vector-effect: non-scaling-stroke; opacity: 1; stroke-width: 0px; fill: rgb(99, 110, 250); fill-opacity: 1;\"/></g><g class=\"point\"><path d=\"M71.87,360V359.88H73.89V360Z\" style=\"vector-effect: non-scaling-stroke; opacity: 1; stroke-width: 0px; fill: rgb(99, 110, 250); fill-opacity: 1;\"/></g><g class=\"point\"><path d=\"M74.11,360V359.88H76.13V360Z\" style=\"vector-effect: non-scaling-stroke; opacity: 1; stroke-width: 0px; fill: rgb(99, 110, 250); fill-opacity: 1;\"/></g><g class=\"point\"><path d=\"M76.35,360V359.42H78.37V360Z\" style=\"vector-effect: non-scaling-stroke; opacity: 1; stroke-width: 0px; fill: rgb(99, 110, 250); fill-opacity: 1;\"/></g><g class=\"point\"><path d=\"M78.6,360V359.88H80.62V360Z\" style=\"vector-effect: non-scaling-stroke; opacity: 1; stroke-width: 0px; fill: rgb(99, 110, 250); fill-opacity: 1;\"/></g><g class=\"point\"><path d=\"M80.84,360V359.88H82.86V360Z\" style=\"vector-effect: non-scaling-stroke; opacity: 1; stroke-width: 0px; fill: rgb(99, 110, 250); fill-opacity: 1;\"/></g><g class=\"point\"><path d=\"M83.08,360V359.65H85.1V360Z\" style=\"vector-effect: non-scaling-stroke; opacity: 1; stroke-width: 0px; fill: rgb(99, 110, 250); fill-opacity: 1;\"/></g><g class=\"point\"><path d=\"M85.32,360V359.3H87.34V360Z\" style=\"vector-effect: non-scaling-stroke; opacity: 1; stroke-width: 0px; fill: rgb(99, 110, 250); fill-opacity: 1;\"/></g><g class=\"point\"><path d=\"M87.57,360V359.54H89.58V360Z\" style=\"vector-effect: non-scaling-stroke; opacity: 1; stroke-width: 0px; fill: rgb(99, 110, 250); fill-opacity: 1;\"/></g><g class=\"point\"><path d=\"M0,0Z\" style=\"vector-effect: non-scaling-stroke; opacity: 1; stroke-width: 0px; fill: rgb(99, 110, 250); fill-opacity: 1;\"/></g><g class=\"point\"><path d=\"M0,0Z\" style=\"vector-effect: non-scaling-stroke; opacity: 1; stroke-width: 0px; fill: rgb(99, 110, 250); fill-opacity: 1;\"/></g><g class=\"point\"><path d=\"M0,0Z\" style=\"vector-effect: non-scaling-stroke; opacity: 1; stroke-width: 0px; fill: rgb(99, 110, 250); fill-opacity: 1;\"/></g><g class=\"point\"><path d=\"M96.54,360V359.88H98.55V360Z\" style=\"vector-effect: non-scaling-stroke; opacity: 1; stroke-width: 0px; fill: rgb(99, 110, 250); fill-opacity: 1;\"/></g><g class=\"point\"><path d=\"M0,0Z\" style=\"vector-effect: non-scaling-stroke; opacity: 1; stroke-width: 0px; fill: rgb(99, 110, 250); fill-opacity: 1;\"/></g><g class=\"point\"><path d=\"M0,0Z\" style=\"vector-effect: non-scaling-stroke; opacity: 1; stroke-width: 0px; fill: rgb(99, 110, 250); fill-opacity: 1;\"/></g><g class=\"point\"><path d=\"M0,0Z\" style=\"vector-effect: non-scaling-stroke; opacity: 1; stroke-width: 0px; fill: rgb(99, 110, 250); fill-opacity: 1;\"/></g><g class=\"point\"><path d=\"M0,0Z\" style=\"vector-effect: non-scaling-stroke; opacity: 1; stroke-width: 0px; fill: rgb(99, 110, 250); fill-opacity: 1;\"/></g><g class=\"point\"><path d=\"M107.75,360V359.88H109.77V360Z\" style=\"vector-effect: non-scaling-stroke; opacity: 1; stroke-width: 0px; fill: rgb(99, 110, 250); fill-opacity: 1;\"/></g><g class=\"point\"><path d=\"M0,0Z\" style=\"vector-effect: non-scaling-stroke; opacity: 1; stroke-width: 0px; fill: rgb(99, 110, 250); fill-opacity: 1;\"/></g><g class=\"point\"><path d=\"M112.23,360V359.54H114.25V360Z\" style=\"vector-effect: non-scaling-stroke; opacity: 1; stroke-width: 0px; fill: rgb(99, 110, 250); fill-opacity: 1;\"/></g><g class=\"point\"><path d=\"M0,0Z\" style=\"vector-effect: non-scaling-stroke; opacity: 1; stroke-width: 0px; fill: rgb(99, 110, 250); fill-opacity: 1;\"/></g><g class=\"point\"><path d=\"M116.72,360V358.95H118.74V360Z\" style=\"vector-effect: non-scaling-stroke; opacity: 1; stroke-width: 0px; fill: rgb(99, 110, 250); fill-opacity: 1;\"/></g><g class=\"point\"><path d=\"M0,0Z\" style=\"vector-effect: non-scaling-stroke; opacity: 1; stroke-width: 0px; fill: rgb(99, 110, 250); fill-opacity: 1;\"/></g><g class=\"point\"><path d=\"M121.2,360V358.49H123.22V360Z\" style=\"vector-effect: non-scaling-stroke; opacity: 1; stroke-width: 0px; fill: rgb(99, 110, 250); fill-opacity: 1;\"/></g><g class=\"point\"><path d=\"M123.45,360V359.88H125.46V360Z\" style=\"vector-effect: non-scaling-stroke; opacity: 1; stroke-width: 0px; fill: rgb(99, 110, 250); fill-opacity: 1;\"/></g><g class=\"point\"><path d=\"M125.69,360V359.77H127.71V360Z\" style=\"vector-effect: non-scaling-stroke; opacity: 1; stroke-width: 0px; fill: rgb(99, 110, 250); fill-opacity: 1;\"/></g><g class=\"point\"><path d=\"M127.93,360V359.88H129.95V360Z\" style=\"vector-effect: non-scaling-stroke; opacity: 1; stroke-width: 0px; fill: rgb(99, 110, 250); fill-opacity: 1;\"/></g><g class=\"point\"><path d=\"M130.17,360V359.54H132.19V360Z\" style=\"vector-effect: non-scaling-stroke; opacity: 1; stroke-width: 0px; fill: rgb(99, 110, 250); fill-opacity: 1;\"/></g><g class=\"point\"><path d=\"M132.42,360V359.77H134.43V360Z\" style=\"vector-effect: non-scaling-stroke; opacity: 1; stroke-width: 0px; fill: rgb(99, 110, 250); fill-opacity: 1;\"/></g><g class=\"point\"><path d=\"M134.66,360V359.42H136.68V360Z\" style=\"vector-effect: non-scaling-stroke; opacity: 1; stroke-width: 0px; fill: rgb(99, 110, 250); fill-opacity: 1;\"/></g><g class=\"point\"><path d=\"M136.9,360V359.3H138.92V360Z\" style=\"vector-effect: non-scaling-stroke; opacity: 1; stroke-width: 0px; fill: rgb(99, 110, 250); fill-opacity: 1;\"/></g><g class=\"point\"><path d=\"M139.14,360V359.54H141.16V360Z\" style=\"vector-effect: non-scaling-stroke; opacity: 1; stroke-width: 0px; fill: rgb(99, 110, 250); fill-opacity: 1;\"/></g><g class=\"point\"><path d=\"M141.38,360V359.77H143.4V360Z\" style=\"vector-effect: non-scaling-stroke; opacity: 1; stroke-width: 0px; fill: rgb(99, 110, 250); fill-opacity: 1;\"/></g><g class=\"point\"><path d=\"M0,0Z\" style=\"vector-effect: non-scaling-stroke; opacity: 1; stroke-width: 0px; fill: rgb(99, 110, 250); fill-opacity: 1;\"/></g><g class=\"point\"><path d=\"M0,0Z\" style=\"vector-effect: non-scaling-stroke; opacity: 1; stroke-width: 0px; fill: rgb(99, 110, 250); fill-opacity: 1;\"/></g><g class=\"point\"><path d=\"M0,0Z\" style=\"vector-effect: non-scaling-stroke; opacity: 1; stroke-width: 0px; fill: rgb(99, 110, 250); fill-opacity: 1;\"/></g><g class=\"point\"><path d=\"M150.35,360V359.88H152.37V360Z\" style=\"vector-effect: non-scaling-stroke; opacity: 1; stroke-width: 0px; fill: rgb(99, 110, 250); fill-opacity: 1;\"/></g><g class=\"point\"><path d=\"M0,0Z\" style=\"vector-effect: non-scaling-stroke; opacity: 1; stroke-width: 0px; fill: rgb(99, 110, 250); fill-opacity: 1;\"/></g><g class=\"point\"><path d=\"M0,0Z\" style=\"vector-effect: non-scaling-stroke; opacity: 1; stroke-width: 0px; fill: rgb(99, 110, 250); fill-opacity: 1;\"/></g><g class=\"point\"><path d=\"M157.08,360V359.88H159.1V360Z\" style=\"vector-effect: non-scaling-stroke; opacity: 1; stroke-width: 0px; fill: rgb(99, 110, 250); fill-opacity: 1;\"/></g><g class=\"point\"><path d=\"M0,0Z\" style=\"vector-effect: non-scaling-stroke; opacity: 1; stroke-width: 0px; fill: rgb(99, 110, 250); fill-opacity: 1;\"/></g><g class=\"point\"><path d=\"M161.57,360V358.95H163.58V360Z\" style=\"vector-effect: non-scaling-stroke; opacity: 1; stroke-width: 0px; fill: rgb(99, 110, 250); fill-opacity: 1;\"/></g><g class=\"point\"><path d=\"M163.81,360V359.77H165.83V360Z\" style=\"vector-effect: non-scaling-stroke; opacity: 1; stroke-width: 0px; fill: rgb(99, 110, 250); fill-opacity: 1;\"/></g><g class=\"point\"><path d=\"M166.05,360V359.65H168.07V360Z\" style=\"vector-effect: non-scaling-stroke; opacity: 1; stroke-width: 0px; fill: rgb(99, 110, 250); fill-opacity: 1;\"/></g><g class=\"point\"><path d=\"M168.29,360V359.19H170.31V360Z\" style=\"vector-effect: non-scaling-stroke; opacity: 1; stroke-width: 0px; fill: rgb(99, 110, 250); fill-opacity: 1;\"/></g><g class=\"point\"><path d=\"M170.54,360V359.42H172.55V360Z\" style=\"vector-effect: non-scaling-stroke; opacity: 1; stroke-width: 0px; fill: rgb(99, 110, 250); fill-opacity: 1;\"/></g><g class=\"point\"><path d=\"M172.78,360V359.77H174.8V360Z\" style=\"vector-effect: non-scaling-stroke; opacity: 1; stroke-width: 0px; fill: rgb(99, 110, 250); fill-opacity: 1;\"/></g><g class=\"point\"><path d=\"M175.02,360V359.65H177.04V360Z\" style=\"vector-effect: non-scaling-stroke; opacity: 1; stroke-width: 0px; fill: rgb(99, 110, 250); fill-opacity: 1;\"/></g><g class=\"point\"><path d=\"M177.26,360V359.88H179.28V360Z\" style=\"vector-effect: non-scaling-stroke; opacity: 1; stroke-width: 0px; fill: rgb(99, 110, 250); fill-opacity: 1;\"/></g><g class=\"point\"><path d=\"M179.51,360V358.84H181.52V360Z\" style=\"vector-effect: non-scaling-stroke; opacity: 1; stroke-width: 0px; fill: rgb(99, 110, 250); fill-opacity: 1;\"/></g><g class=\"point\"><path d=\"M181.75,360V358.37H183.77V360Z\" style=\"vector-effect: non-scaling-stroke; opacity: 1; stroke-width: 0px; fill: rgb(99, 110, 250); fill-opacity: 1;\"/></g><g class=\"point\"><path d=\"M183.99,360V359.19H186.01V360Z\" style=\"vector-effect: non-scaling-stroke; opacity: 1; stroke-width: 0px; fill: rgb(99, 110, 250); fill-opacity: 1;\"/></g><g class=\"point\"><path d=\"M186.23,360V359.19H188.25V360Z\" style=\"vector-effect: non-scaling-stroke; opacity: 1; stroke-width: 0px; fill: rgb(99, 110, 250); fill-opacity: 1;\"/></g><g class=\"point\"><path d=\"M188.48,360V358.72H190.49V360Z\" style=\"vector-effect: non-scaling-stroke; opacity: 1; stroke-width: 0px; fill: rgb(99, 110, 250); fill-opacity: 1;\"/></g><g class=\"point\"><path d=\"M190.72,360V359.3H192.74V360Z\" style=\"vector-effect: non-scaling-stroke; opacity: 1; stroke-width: 0px; fill: rgb(99, 110, 250); fill-opacity: 1;\"/></g><g class=\"point\"><path d=\"M192.96,360V359.07H194.98V360Z\" style=\"vector-effect: non-scaling-stroke; opacity: 1; stroke-width: 0px; fill: rgb(99, 110, 250); fill-opacity: 1;\"/></g><g class=\"point\"><path d=\"M195.2,360V359.3H197.22V360Z\" style=\"vector-effect: non-scaling-stroke; opacity: 1; stroke-width: 0px; fill: rgb(99, 110, 250); fill-opacity: 1;\"/></g><g class=\"point\"><path d=\"M197.45,360V359.88H199.46V360Z\" style=\"vector-effect: non-scaling-stroke; opacity: 1; stroke-width: 0px; fill: rgb(99, 110, 250); fill-opacity: 1;\"/></g><g class=\"point\"><path d=\"M199.69,360V359.77H201.71V360Z\" style=\"vector-effect: non-scaling-stroke; opacity: 1; stroke-width: 0px; fill: rgb(99, 110, 250); fill-opacity: 1;\"/></g><g class=\"point\"><path d=\"M0,0Z\" style=\"vector-effect: non-scaling-stroke; opacity: 1; stroke-width: 0px; fill: rgb(99, 110, 250); fill-opacity: 1;\"/></g><g class=\"point\"><path d=\"M0,0Z\" style=\"vector-effect: non-scaling-stroke; opacity: 1; stroke-width: 0px; fill: rgb(99, 110, 250); fill-opacity: 1;\"/></g><g class=\"point\"><path d=\"M0,0Z\" style=\"vector-effect: non-scaling-stroke; opacity: 1; stroke-width: 0px; fill: rgb(99, 110, 250); fill-opacity: 1;\"/></g><g class=\"point\"><path d=\"M0,0Z\" style=\"vector-effect: non-scaling-stroke; opacity: 1; stroke-width: 0px; fill: rgb(99, 110, 250); fill-opacity: 1;\"/></g><g class=\"point\"><path d=\"M210.9,360V359.77H212.92V360Z\" style=\"vector-effect: non-scaling-stroke; opacity: 1; stroke-width: 0px; fill: rgb(99, 110, 250); fill-opacity: 1;\"/></g><g class=\"point\"><path d=\"M0,0Z\" style=\"vector-effect: non-scaling-stroke; opacity: 1; stroke-width: 0px; fill: rgb(99, 110, 250); fill-opacity: 1;\"/></g><g class=\"point\"><path d=\"M215.38,360V359.88H217.4V360Z\" style=\"vector-effect: non-scaling-stroke; opacity: 1; stroke-width: 0px; fill: rgb(99, 110, 250); fill-opacity: 1;\"/></g><g class=\"point\"><path d=\"M217.63,360V359.42H219.65V360Z\" style=\"vector-effect: non-scaling-stroke; opacity: 1; stroke-width: 0px; fill: rgb(99, 110, 250); fill-opacity: 1;\"/></g><g class=\"point\"><path d=\"M219.87,360V359.77H221.89V360Z\" style=\"vector-effect: non-scaling-stroke; opacity: 1; stroke-width: 0px; fill: rgb(99, 110, 250); fill-opacity: 1;\"/></g><g class=\"point\"><path d=\"M222.11,360V359.65H224.13V360Z\" style=\"vector-effect: non-scaling-stroke; opacity: 1; stroke-width: 0px; fill: rgb(99, 110, 250); fill-opacity: 1;\"/></g><g class=\"point\"><path d=\"M224.35,360V359.42H226.37V360Z\" style=\"vector-effect: non-scaling-stroke; opacity: 1; stroke-width: 0px; fill: rgb(99, 110, 250); fill-opacity: 1;\"/></g><g class=\"point\"><path d=\"M226.6,360V359.07H228.62V360Z\" style=\"vector-effect: non-scaling-stroke; opacity: 1; stroke-width: 0px; fill: rgb(99, 110, 250); fill-opacity: 1;\"/></g><g class=\"point\"><path d=\"M228.84,360V358.72H230.86V360Z\" style=\"vector-effect: non-scaling-stroke; opacity: 1; stroke-width: 0px; fill: rgb(99, 110, 250); fill-opacity: 1;\"/></g><g class=\"point\"><path d=\"M231.08,360V359.19H233.1V360Z\" style=\"vector-effect: non-scaling-stroke; opacity: 1; stroke-width: 0px; fill: rgb(99, 110, 250); fill-opacity: 1;\"/></g><g class=\"point\"><path d=\"M233.32,360V358.95H235.34V360Z\" style=\"vector-effect: non-scaling-stroke; opacity: 1; stroke-width: 0px; fill: rgb(99, 110, 250); fill-opacity: 1;\"/></g><g class=\"point\"><path d=\"M235.57,360V358.72H237.58V360Z\" style=\"vector-effect: non-scaling-stroke; opacity: 1; stroke-width: 0px; fill: rgb(99, 110, 250); fill-opacity: 1;\"/></g><g class=\"point\"><path d=\"M237.81,360V356.86H239.83V360Z\" style=\"vector-effect: non-scaling-stroke; opacity: 1; stroke-width: 0px; fill: rgb(99, 110, 250); fill-opacity: 1;\"/></g><g class=\"point\"><path d=\"M240.05,360V358.84H242.07V360Z\" style=\"vector-effect: non-scaling-stroke; opacity: 1; stroke-width: 0px; fill: rgb(99, 110, 250); fill-opacity: 1;\"/></g><g class=\"point\"><path d=\"M242.29,360V357.79H244.31V360Z\" style=\"vector-effect: non-scaling-stroke; opacity: 1; stroke-width: 0px; fill: rgb(99, 110, 250); fill-opacity: 1;\"/></g><g class=\"point\"><path d=\"M244.54,360V356.86H246.55V360Z\" style=\"vector-effect: non-scaling-stroke; opacity: 1; stroke-width: 0px; fill: rgb(99, 110, 250); fill-opacity: 1;\"/></g><g class=\"point\"><path d=\"M246.78,360V358.49H248.8V360Z\" style=\"vector-effect: non-scaling-stroke; opacity: 1; stroke-width: 0px; fill: rgb(99, 110, 250); fill-opacity: 1;\"/></g><g class=\"point\"><path d=\"M249.02,360V358.14H251.04V360Z\" style=\"vector-effect: non-scaling-stroke; opacity: 1; stroke-width: 0px; fill: rgb(99, 110, 250); fill-opacity: 1;\"/></g><g class=\"point\"><path d=\"M251.26,360V359.65H253.28V360Z\" style=\"vector-effect: non-scaling-stroke; opacity: 1; stroke-width: 0px; fill: rgb(99, 110, 250); fill-opacity: 1;\"/></g><g class=\"point\"><path d=\"M253.51,360V359.54H255.52V360Z\" style=\"vector-effect: non-scaling-stroke; opacity: 1; stroke-width: 0px; fill: rgb(99, 110, 250); fill-opacity: 1;\"/></g><g class=\"point\"><path d=\"M255.75,360V359.88H257.77V360Z\" style=\"vector-effect: non-scaling-stroke; opacity: 1; stroke-width: 0px; fill: rgb(99, 110, 250); fill-opacity: 1;\"/></g><g class=\"point\"><path d=\"M0,0Z\" style=\"vector-effect: non-scaling-stroke; opacity: 1; stroke-width: 0px; fill: rgb(99, 110, 250); fill-opacity: 1;\"/></g><g class=\"point\"><path d=\"M0,0Z\" style=\"vector-effect: non-scaling-stroke; opacity: 1; stroke-width: 0px; fill: rgb(99, 110, 250); fill-opacity: 1;\"/></g><g class=\"point\"><path d=\"M262.48,360V359.77H264.49V360Z\" style=\"vector-effect: non-scaling-stroke; opacity: 1; stroke-width: 0px; fill: rgb(99, 110, 250); fill-opacity: 1;\"/></g><g class=\"point\"><path d=\"M264.72,360V359.77H266.74V360Z\" style=\"vector-effect: non-scaling-stroke; opacity: 1; stroke-width: 0px; fill: rgb(99, 110, 250); fill-opacity: 1;\"/></g><g class=\"point\"><path d=\"M266.96,360V359.77H268.98V360Z\" style=\"vector-effect: non-scaling-stroke; opacity: 1; stroke-width: 0px; fill: rgb(99, 110, 250); fill-opacity: 1;\"/></g><g class=\"point\"><path d=\"M269.2,360V358.61H271.22V360Z\" style=\"vector-effect: non-scaling-stroke; opacity: 1; stroke-width: 0px; fill: rgb(99, 110, 250); fill-opacity: 1;\"/></g><g class=\"point\"><path d=\"M271.45,360V358.26H273.46V360Z\" style=\"vector-effect: non-scaling-stroke; opacity: 1; stroke-width: 0px; fill: rgb(99, 110, 250); fill-opacity: 1;\"/></g><g class=\"point\"><path d=\"M273.69,360V358.37H275.71V360Z\" style=\"vector-effect: non-scaling-stroke; opacity: 1; stroke-width: 0px; fill: rgb(99, 110, 250); fill-opacity: 1;\"/></g><g class=\"point\"><path d=\"M275.93,360V358.95H277.95V360Z\" style=\"vector-effect: non-scaling-stroke; opacity: 1; stroke-width: 0px; fill: rgb(99, 110, 250); fill-opacity: 1;\"/></g><g class=\"point\"><path d=\"M278.17,360V357.09H280.19V360Z\" style=\"vector-effect: non-scaling-stroke; opacity: 1; stroke-width: 0px; fill: rgb(99, 110, 250); fill-opacity: 1;\"/></g><g class=\"point\"><path d=\"M280.42,360V357.79H282.43V360Z\" style=\"vector-effect: non-scaling-stroke; opacity: 1; stroke-width: 0px; fill: rgb(99, 110, 250); fill-opacity: 1;\"/></g><g class=\"point\"><path d=\"M282.66,360V356.4H284.68V360Z\" style=\"vector-effect: non-scaling-stroke; opacity: 1; stroke-width: 0px; fill: rgb(99, 110, 250); fill-opacity: 1;\"/></g><g class=\"point\"><path d=\"M284.9,360V356.28H286.92V360Z\" style=\"vector-effect: non-scaling-stroke; opacity: 1; stroke-width: 0px; fill: rgb(99, 110, 250); fill-opacity: 1;\"/></g><g class=\"point\"><path d=\"M287.14,360V357.44H289.16V360Z\" style=\"vector-effect: non-scaling-stroke; opacity: 1; stroke-width: 0px; fill: rgb(99, 110, 250); fill-opacity: 1;\"/></g><g class=\"point\"><path d=\"M289.38,360V356.98H291.4V360Z\" style=\"vector-effect: non-scaling-stroke; opacity: 1; stroke-width: 0px; fill: rgb(99, 110, 250); fill-opacity: 1;\"/></g><g class=\"point\"><path d=\"M291.63,360V357.21H293.65V360Z\" style=\"vector-effect: non-scaling-stroke; opacity: 1; stroke-width: 0px; fill: rgb(99, 110, 250); fill-opacity: 1;\"/></g><g class=\"point\"><path d=\"M293.87,360V356.75H295.89V360Z\" style=\"vector-effect: non-scaling-stroke; opacity: 1; stroke-width: 0px; fill: rgb(99, 110, 250); fill-opacity: 1;\"/></g><g class=\"point\"><path d=\"M296.11,360V355.24H298.13V360Z\" style=\"vector-effect: non-scaling-stroke; opacity: 1; stroke-width: 0px; fill: rgb(99, 110, 250); fill-opacity: 1;\"/></g><g class=\"point\"><path d=\"M298.35,360V356.51H300.37V360Z\" style=\"vector-effect: non-scaling-stroke; opacity: 1; stroke-width: 0px; fill: rgb(99, 110, 250); fill-opacity: 1;\"/></g><g class=\"point\"><path d=\"M300.6,360V357.33H302.62V360Z\" style=\"vector-effect: non-scaling-stroke; opacity: 1; stroke-width: 0px; fill: rgb(99, 110, 250); fill-opacity: 1;\"/></g><g class=\"point\"><path d=\"M302.84,360V357.56H304.86V360Z\" style=\"vector-effect: non-scaling-stroke; opacity: 1; stroke-width: 0px; fill: rgb(99, 110, 250); fill-opacity: 1;\"/></g><g class=\"point\"><path d=\"M305.08,360V358.37H307.1V360Z\" style=\"vector-effect: non-scaling-stroke; opacity: 1; stroke-width: 0px; fill: rgb(99, 110, 250); fill-opacity: 1;\"/></g><g class=\"point\"><path d=\"M307.32,360V358.84H309.34V360Z\" style=\"vector-effect: non-scaling-stroke; opacity: 1; stroke-width: 0px; fill: rgb(99, 110, 250); fill-opacity: 1;\"/></g><g class=\"point\"><path d=\"M309.57,360V359.54H311.58V360Z\" style=\"vector-effect: non-scaling-stroke; opacity: 1; stroke-width: 0px; fill: rgb(99, 110, 250); fill-opacity: 1;\"/></g><g class=\"point\"><path d=\"M311.81,360V359.3H313.83V360Z\" style=\"vector-effect: non-scaling-stroke; opacity: 1; stroke-width: 0px; fill: rgb(99, 110, 250); fill-opacity: 1;\"/></g><g class=\"point\"><path d=\"M0,0Z\" style=\"vector-effect: non-scaling-stroke; opacity: 1; stroke-width: 0px; fill: rgb(99, 110, 250); fill-opacity: 1;\"/></g><g class=\"point\"><path d=\"M316.29,360V359.65H318.31V360Z\" style=\"vector-effect: non-scaling-stroke; opacity: 1; stroke-width: 0px; fill: rgb(99, 110, 250); fill-opacity: 1;\"/></g><g class=\"point\"><path d=\"M318.54,360V359.77H320.55V360Z\" style=\"vector-effect: non-scaling-stroke; opacity: 1; stroke-width: 0px; fill: rgb(99, 110, 250); fill-opacity: 1;\"/></g><g class=\"point\"><path d=\"M320.78,360V358.61H322.8V360Z\" style=\"vector-effect: non-scaling-stroke; opacity: 1; stroke-width: 0px; fill: rgb(99, 110, 250); fill-opacity: 1;\"/></g><g class=\"point\"><path d=\"M323.02,360V357.44H325.04V360Z\" style=\"vector-effect: non-scaling-stroke; opacity: 1; stroke-width: 0px; fill: rgb(99, 110, 250); fill-opacity: 1;\"/></g><g class=\"point\"><path d=\"M325.26,360V356.86H327.28V360Z\" style=\"vector-effect: non-scaling-stroke; opacity: 1; stroke-width: 0px; fill: rgb(99, 110, 250); fill-opacity: 1;\"/></g><g class=\"point\"><path d=\"M327.51,360V356.4H329.52V360Z\" style=\"vector-effect: non-scaling-stroke; opacity: 1; stroke-width: 0px; fill: rgb(99, 110, 250); fill-opacity: 1;\"/></g><g class=\"point\"><path d=\"M329.75,360V354.77H331.77V360Z\" style=\"vector-effect: non-scaling-stroke; opacity: 1; stroke-width: 0px; fill: rgb(99, 110, 250); fill-opacity: 1;\"/></g><g class=\"point\"><path d=\"M331.99,360V356.4H334.01V360Z\" style=\"vector-effect: non-scaling-stroke; opacity: 1; stroke-width: 0px; fill: rgb(99, 110, 250); fill-opacity: 1;\"/></g><g class=\"point\"><path d=\"M334.23,360V354.31H336.25V360Z\" style=\"vector-effect: non-scaling-stroke; opacity: 1; stroke-width: 0px; fill: rgb(99, 110, 250); fill-opacity: 1;\"/></g><g class=\"point\"><path d=\"M336.48,360V349.77H338.49V360Z\" style=\"vector-effect: non-scaling-stroke; opacity: 1; stroke-width: 0px; fill: rgb(99, 110, 250); fill-opacity: 1;\"/></g><g class=\"point\"><path d=\"M338.72,360V353.84H340.74V360Z\" style=\"vector-effect: non-scaling-stroke; opacity: 1; stroke-width: 0px; fill: rgb(99, 110, 250); fill-opacity: 1;\"/></g><g class=\"point\"><path d=\"M340.96,360V350.47H342.98V360Z\" style=\"vector-effect: non-scaling-stroke; opacity: 1; stroke-width: 0px; fill: rgb(99, 110, 250); fill-opacity: 1;\"/></g><g class=\"point\"><path d=\"M343.2,360V349.31H345.22V360Z\" style=\"vector-effect: non-scaling-stroke; opacity: 1; stroke-width: 0px; fill: rgb(99, 110, 250); fill-opacity: 1;\"/></g><g class=\"point\"><path d=\"M345.45,360V348.73H347.46V360Z\" style=\"vector-effect: non-scaling-stroke; opacity: 1; stroke-width: 0px; fill: rgb(99, 110, 250); fill-opacity: 1;\"/></g><g class=\"point\"><path d=\"M347.69,360V347.1H349.71V360Z\" style=\"vector-effect: non-scaling-stroke; opacity: 1; stroke-width: 0px; fill: rgb(99, 110, 250); fill-opacity: 1;\"/></g><g class=\"point\"><path d=\"M349.93,360V347.45H351.95V360Z\" style=\"vector-effect: non-scaling-stroke; opacity: 1; stroke-width: 0px; fill: rgb(99, 110, 250); fill-opacity: 1;\"/></g><g class=\"point\"><path d=\"M352.17,360V346.87H354.19V360Z\" style=\"vector-effect: non-scaling-stroke; opacity: 1; stroke-width: 0px; fill: rgb(99, 110, 250); fill-opacity: 1;\"/></g><g class=\"point\"><path d=\"M354.42,360V347.68H356.43V360Z\" style=\"vector-effect: non-scaling-stroke; opacity: 1; stroke-width: 0px; fill: rgb(99, 110, 250); fill-opacity: 1;\"/></g><g class=\"point\"><path d=\"M356.66,360V352.45H358.68V360Z\" style=\"vector-effect: non-scaling-stroke; opacity: 1; stroke-width: 0px; fill: rgb(99, 110, 250); fill-opacity: 1;\"/></g><g class=\"point\"><path d=\"M358.9,360V353.49H360.92V360Z\" style=\"vector-effect: non-scaling-stroke; opacity: 1; stroke-width: 0px; fill: rgb(99, 110, 250); fill-opacity: 1;\"/></g><g class=\"point\"><path d=\"M361.14,360V310.73H363.16V360Z\" style=\"vector-effect: non-scaling-stroke; opacity: 1; stroke-width: 0px; fill: rgb(99, 110, 250); fill-opacity: 1;\"/></g><g class=\"point\"><path d=\"M363.38,360V324.09H365.4V360Z\" style=\"vector-effect: non-scaling-stroke; opacity: 1; stroke-width: 0px; fill: rgb(99, 110, 250); fill-opacity: 1;\"/></g><g class=\"point\"><path d=\"M365.63,360V347.91H367.65V360Z\" style=\"vector-effect: non-scaling-stroke; opacity: 1; stroke-width: 0px; fill: rgb(99, 110, 250); fill-opacity: 1;\"/></g><g class=\"point\"><path d=\"M367.87,360V337.69H369.89V360Z\" style=\"vector-effect: non-scaling-stroke; opacity: 1; stroke-width: 0px; fill: rgb(99, 110, 250); fill-opacity: 1;\"/></g><g class=\"point\"><path d=\"M370.11,360V333.5H372.13V360Z\" style=\"vector-effect: non-scaling-stroke; opacity: 1; stroke-width: 0px; fill: rgb(99, 110, 250); fill-opacity: 1;\"/></g><g class=\"point\"><path d=\"M372.35,360V321.88H374.37V360Z\" style=\"vector-effect: non-scaling-stroke; opacity: 1; stroke-width: 0px; fill: rgb(99, 110, 250); fill-opacity: 1;\"/></g><g class=\"point\"><path d=\"M374.6,360V283.65H376.62V360Z\" style=\"vector-effect: non-scaling-stroke; opacity: 1; stroke-width: 0px; fill: rgb(99, 110, 250); fill-opacity: 1;\"/></g><g class=\"point\"><path d=\"M376.84,360V262.73H378.86V360Z\" style=\"vector-effect: non-scaling-stroke; opacity: 1; stroke-width: 0px; fill: rgb(99, 110, 250); fill-opacity: 1;\"/></g><g class=\"point\"><path d=\"M379.08,360V230.54H381.1V360Z\" style=\"vector-effect: non-scaling-stroke; opacity: 1; stroke-width: 0px; fill: rgb(99, 110, 250); fill-opacity: 1;\"/></g><g class=\"point\"><path d=\"M381.32,360V193.59H383.34V360Z\" style=\"vector-effect: non-scaling-stroke; opacity: 1; stroke-width: 0px; fill: rgb(99, 110, 250); fill-opacity: 1;\"/></g><g class=\"point\"><path d=\"M383.57,360V155.94H385.58V360Z\" style=\"vector-effect: non-scaling-stroke; opacity: 1; stroke-width: 0px; fill: rgb(99, 110, 250); fill-opacity: 1;\"/></g><g class=\"point\"><path d=\"M385.81,360V139.09H387.83V360Z\" style=\"vector-effect: non-scaling-stroke; opacity: 1; stroke-width: 0px; fill: rgb(99, 110, 250); fill-opacity: 1;\"/></g><g class=\"point\"><path d=\"M388.05,360V127.12H390.07V360Z\" style=\"vector-effect: non-scaling-stroke; opacity: 1; stroke-width: 0px; fill: rgb(99, 110, 250); fill-opacity: 1;\"/></g><g class=\"point\"><path d=\"M390.29,360V132H392.31V360Z\" style=\"vector-effect: non-scaling-stroke; opacity: 1; stroke-width: 0px; fill: rgb(99, 110, 250); fill-opacity: 1;\"/></g><g class=\"point\"><path d=\"M392.54,360V64.95H394.55V360Z\" style=\"vector-effect: non-scaling-stroke; opacity: 1; stroke-width: 0px; fill: rgb(99, 110, 250); fill-opacity: 1;\"/></g><g class=\"point\"><path d=\"M394.78,360V62.97H396.8V360Z\" style=\"vector-effect: non-scaling-stroke; opacity: 1; stroke-width: 0px; fill: rgb(99, 110, 250); fill-opacity: 1;\"/></g><g class=\"point\"><path d=\"M397.02,360V94H399.04V360Z\" style=\"vector-effect: non-scaling-stroke; opacity: 1; stroke-width: 0px; fill: rgb(99, 110, 250); fill-opacity: 1;\"/></g><g class=\"point\"><path d=\"M399.26,360V33.92H401.28V360Z\" style=\"vector-effect: non-scaling-stroke; opacity: 1; stroke-width: 0px; fill: rgb(99, 110, 250); fill-opacity: 1;\"/></g><g class=\"point\"><path d=\"M401.51,360V87.26H403.52V360Z\" style=\"vector-effect: non-scaling-stroke; opacity: 1; stroke-width: 0px; fill: rgb(99, 110, 250); fill-opacity: 1;\"/></g><g class=\"point\"><path d=\"M403.75,360V54.14H405.77V360Z\" style=\"vector-effect: non-scaling-stroke; opacity: 1; stroke-width: 0px; fill: rgb(99, 110, 250); fill-opacity: 1;\"/></g><g class=\"point\"><path d=\"M405.99,360V77.85H408.01V360Z\" style=\"vector-effect: non-scaling-stroke; opacity: 1; stroke-width: 0px; fill: rgb(99, 110, 250); fill-opacity: 1;\"/></g><g class=\"point\"><path d=\"M408.23,360V115.96H410.25V360Z\" style=\"vector-effect: non-scaling-stroke; opacity: 1; stroke-width: 0px; fill: rgb(99, 110, 250); fill-opacity: 1;\"/></g><g class=\"point\"><path d=\"M410.48,360V149.31H412.49V360Z\" style=\"vector-effect: non-scaling-stroke; opacity: 1; stroke-width: 0px; fill: rgb(99, 110, 250); fill-opacity: 1;\"/></g><g class=\"point\"><path d=\"M412.72,360V242.75H414.74V360Z\" style=\"vector-effect: non-scaling-stroke; opacity: 1; stroke-width: 0px; fill: rgb(99, 110, 250); fill-opacity: 1;\"/></g><g class=\"point\"><path d=\"M414.96,360V281.79H416.98V360Z\" style=\"vector-effect: non-scaling-stroke; opacity: 1; stroke-width: 0px; fill: rgb(99, 110, 250); fill-opacity: 1;\"/></g><g class=\"point\"><path d=\"M417.2,360V325.95H419.22V360Z\" style=\"vector-effect: non-scaling-stroke; opacity: 1; stroke-width: 0px; fill: rgb(99, 110, 250); fill-opacity: 1;\"/></g><g class=\"point\"><path d=\"M419.45,360V331.53H421.46V360Z\" style=\"vector-effect: non-scaling-stroke; opacity: 1; stroke-width: 0px; fill: rgb(99, 110, 250); fill-opacity: 1;\"/></g><g class=\"point\"><path d=\"M421.69,360V284.81H423.71V360Z\" style=\"vector-effect: non-scaling-stroke; opacity: 1; stroke-width: 0px; fill: rgb(99, 110, 250); fill-opacity: 1;\"/></g><g class=\"point\"><path d=\"M423.93,360V266.92H425.95V360Z\" style=\"vector-effect: non-scaling-stroke; opacity: 1; stroke-width: 0px; fill: rgb(99, 110, 250); fill-opacity: 1;\"/></g><g class=\"point\"><path d=\"M426.17,360V277.84H428.19V360Z\" style=\"vector-effect: non-scaling-stroke; opacity: 1; stroke-width: 0px; fill: rgb(99, 110, 250); fill-opacity: 1;\"/></g><g class=\"point\"><path d=\"M428.42,360V261.22H430.43V360Z\" style=\"vector-effect: non-scaling-stroke; opacity: 1; stroke-width: 0px; fill: rgb(99, 110, 250); fill-opacity: 1;\"/></g><g class=\"point\"><path d=\"M430.66,360V269.59H432.68V360Z\" style=\"vector-effect: non-scaling-stroke; opacity: 1; stroke-width: 0px; fill: rgb(99, 110, 250); fill-opacity: 1;\"/></g><g class=\"point\"><path d=\"M432.9,360V240.31H434.92V360Z\" style=\"vector-effect: non-scaling-stroke; opacity: 1; stroke-width: 0px; fill: rgb(99, 110, 250); fill-opacity: 1;\"/></g><g class=\"point\"><path d=\"M435.14,360V205.68H437.16V360Z\" style=\"vector-effect: non-scaling-stroke; opacity: 1; stroke-width: 0px; fill: rgb(99, 110, 250); fill-opacity: 1;\"/></g><g class=\"point\"><path d=\"M437.38,360V163.14H439.4V360Z\" style=\"vector-effect: non-scaling-stroke; opacity: 1; stroke-width: 0px; fill: rgb(99, 110, 250); fill-opacity: 1;\"/></g><g class=\"point\"><path d=\"M439.63,360V131.54H441.65V360Z\" style=\"vector-effect: non-scaling-stroke; opacity: 1; stroke-width: 0px; fill: rgb(99, 110, 250); fill-opacity: 1;\"/></g><g class=\"point\"><path d=\"M441.87,360V105.74H443.89V360Z\" style=\"vector-effect: non-scaling-stroke; opacity: 1; stroke-width: 0px; fill: rgb(99, 110, 250); fill-opacity: 1;\"/></g><g class=\"point\"><path d=\"M444.11,360V122.24H446.13V360Z\" style=\"vector-effect: non-scaling-stroke; opacity: 1; stroke-width: 0px; fill: rgb(99, 110, 250); fill-opacity: 1;\"/></g><g class=\"point\"><path d=\"M446.35,360V93.54H448.37V360Z\" style=\"vector-effect: non-scaling-stroke; opacity: 1; stroke-width: 0px; fill: rgb(99, 110, 250); fill-opacity: 1;\"/></g><g class=\"point\"><path d=\"M448.6,360V142.34H450.62V360Z\" style=\"vector-effect: non-scaling-stroke; opacity: 1; stroke-width: 0px; fill: rgb(99, 110, 250); fill-opacity: 1;\"/></g><g class=\"point\"><path d=\"M450.84,360V86.33H452.86V360Z\" style=\"vector-effect: non-scaling-stroke; opacity: 1; stroke-width: 0px; fill: rgb(99, 110, 250); fill-opacity: 1;\"/></g><g class=\"point\"><path d=\"M453.08,360V84.47H455.1V360Z\" style=\"vector-effect: non-scaling-stroke; opacity: 1; stroke-width: 0px; fill: rgb(99, 110, 250); fill-opacity: 1;\"/></g><g class=\"point\"><path d=\"M455.32,360V65.65H457.34V360Z\" style=\"vector-effect: non-scaling-stroke; opacity: 1; stroke-width: 0px; fill: rgb(99, 110, 250); fill-opacity: 1;\"/></g><g class=\"point\"><path d=\"M457.57,360V94.58H459.58V360Z\" style=\"vector-effect: non-scaling-stroke; opacity: 1; stroke-width: 0px; fill: rgb(99, 110, 250); fill-opacity: 1;\"/></g><g class=\"point\"><path d=\"M459.81,360V142.57H461.83V360Z\" style=\"vector-effect: non-scaling-stroke; opacity: 1; stroke-width: 0px; fill: rgb(99, 110, 250); fill-opacity: 1;\"/></g><g class=\"point\"><path d=\"M462.05,360V160.94H464.07V360Z\" style=\"vector-effect: non-scaling-stroke; opacity: 1; stroke-width: 0px; fill: rgb(99, 110, 250); fill-opacity: 1;\"/></g><g class=\"point\"><path d=\"M464.29,360V158.26H466.31V360Z\" style=\"vector-effect: non-scaling-stroke; opacity: 1; stroke-width: 0px; fill: rgb(99, 110, 250); fill-opacity: 1;\"/></g><g class=\"point\"><path d=\"M466.54,360V209.39H468.55V360Z\" style=\"vector-effect: non-scaling-stroke; opacity: 1; stroke-width: 0px; fill: rgb(99, 110, 250); fill-opacity: 1;\"/></g><g class=\"point\"><path d=\"M468.78,360V275.4H470.8V360Z\" style=\"vector-effect: non-scaling-stroke; opacity: 1; stroke-width: 0px; fill: rgb(99, 110, 250); fill-opacity: 1;\"/></g><g class=\"point\"><path d=\"M471.02,360V328.28H473.04V360Z\" style=\"vector-effect: non-scaling-stroke; opacity: 1; stroke-width: 0px; fill: rgb(99, 110, 250); fill-opacity: 1;\"/></g><g class=\"point\"><path d=\"M473.26,360V337.57H475.28V360Z\" style=\"vector-effect: non-scaling-stroke; opacity: 1; stroke-width: 0px; fill: rgb(99, 110, 250); fill-opacity: 1;\"/></g><g class=\"point\"><path d=\"M475.51,360V350.59H477.52V360Z\" style=\"vector-effect: non-scaling-stroke; opacity: 1; stroke-width: 0px; fill: rgb(99, 110, 250); fill-opacity: 1;\"/></g><g class=\"point\"><path d=\"M477.75,360V340.01H479.77V360Z\" style=\"vector-effect: non-scaling-stroke; opacity: 1; stroke-width: 0px; fill: rgb(99, 110, 250); fill-opacity: 1;\"/></g><g class=\"point\"><path d=\"M479.99,360V306.31H482.01V360Z\" style=\"vector-effect: non-scaling-stroke; opacity: 1; stroke-width: 0px; fill: rgb(99, 110, 250); fill-opacity: 1;\"/></g><g class=\"point\"><path d=\"M482.23,360V310.96H484.25V360Z\" style=\"vector-effect: non-scaling-stroke; opacity: 1; stroke-width: 0px; fill: rgb(99, 110, 250); fill-opacity: 1;\"/></g><g class=\"point\"><path d=\"M484.48,360V287.6H486.49V360Z\" style=\"vector-effect: non-scaling-stroke; opacity: 1; stroke-width: 0px; fill: rgb(99, 110, 250); fill-opacity: 1;\"/></g><g class=\"point\"><path d=\"M486.72,360V240.31H488.74V360Z\" style=\"vector-effect: non-scaling-stroke; opacity: 1; stroke-width: 0px; fill: rgb(99, 110, 250); fill-opacity: 1;\"/></g><g class=\"point\"><path d=\"M488.96,360V201.49H490.98V360Z\" style=\"vector-effect: non-scaling-stroke; opacity: 1; stroke-width: 0px; fill: rgb(99, 110, 250); fill-opacity: 1;\"/></g><g class=\"point\"><path d=\"M491.2,360V168.49H493.22V360Z\" style=\"vector-effect: non-scaling-stroke; opacity: 1; stroke-width: 0px; fill: rgb(99, 110, 250); fill-opacity: 1;\"/></g><g class=\"point\"><path d=\"M493.45,360V128.63H495.46V360Z\" style=\"vector-effect: non-scaling-stroke; opacity: 1; stroke-width: 0px; fill: rgb(99, 110, 250); fill-opacity: 1;\"/></g><g class=\"point\"><path d=\"M495.69,360V77.61H497.71V360Z\" style=\"vector-effect: non-scaling-stroke; opacity: 1; stroke-width: 0px; fill: rgb(99, 110, 250); fill-opacity: 1;\"/></g><g class=\"point\"><path d=\"M497.93,360V127.12H499.95V360Z\" style=\"vector-effect: non-scaling-stroke; opacity: 1; stroke-width: 0px; fill: rgb(99, 110, 250); fill-opacity: 1;\"/></g><g class=\"point\"><path d=\"M500.17,360V22.42H502.19V360Z\" style=\"vector-effect: non-scaling-stroke; opacity: 1; stroke-width: 0px; fill: rgb(99, 110, 250); fill-opacity: 1;\"/></g><g class=\"point\"><path d=\"M502.42,360V101.32H504.43V360Z\" style=\"vector-effect: non-scaling-stroke; opacity: 1; stroke-width: 0px; fill: rgb(99, 110, 250); fill-opacity: 1;\"/></g><g class=\"point\"><path d=\"M504.66,360V123.17H506.68V360Z\" style=\"vector-effect: non-scaling-stroke; opacity: 1; stroke-width: 0px; fill: rgb(99, 110, 250); fill-opacity: 1;\"/></g><g class=\"point\"><path d=\"M506.9,360V49.38H508.92V360Z\" style=\"vector-effect: non-scaling-stroke; opacity: 1; stroke-width: 0px; fill: rgb(99, 110, 250); fill-opacity: 1;\"/></g><g class=\"point\"><path d=\"M509.14,360V101.79H511.16V360Z\" style=\"vector-effect: non-scaling-stroke; opacity: 1; stroke-width: 0px; fill: rgb(99, 110, 250); fill-opacity: 1;\"/></g><g class=\"point\"><path d=\"M511.38,360V105.27H513.4V360Z\" style=\"vector-effect: non-scaling-stroke; opacity: 1; stroke-width: 0px; fill: rgb(99, 110, 250); fill-opacity: 1;\"/></g><g class=\"point\"><path d=\"M513.63,360V126.65H515.65V360Z\" style=\"vector-effect: non-scaling-stroke; opacity: 1; stroke-width: 0px; fill: rgb(99, 110, 250); fill-opacity: 1;\"/></g><g class=\"point\"><path d=\"M515.87,360V166.28H517.89V360Z\" style=\"vector-effect: non-scaling-stroke; opacity: 1; stroke-width: 0px; fill: rgb(99, 110, 250); fill-opacity: 1;\"/></g><g class=\"point\"><path d=\"M518.11,360V186.97H520.13V360Z\" style=\"vector-effect: non-scaling-stroke; opacity: 1; stroke-width: 0px; fill: rgb(99, 110, 250); fill-opacity: 1;\"/></g><g class=\"point\"><path d=\"M520.35,360V271.57H522.37V360Z\" style=\"vector-effect: non-scaling-stroke; opacity: 1; stroke-width: 0px; fill: rgb(99, 110, 250); fill-opacity: 1;\"/></g><g class=\"point\"><path d=\"M522.6,360V300.62H524.62V360Z\" style=\"vector-effect: non-scaling-stroke; opacity: 1; stroke-width: 0px; fill: rgb(99, 110, 250); fill-opacity: 1;\"/></g><g class=\"point\"><path d=\"M524.84,360V330.25H526.86V360Z\" style=\"vector-effect: non-scaling-stroke; opacity: 1; stroke-width: 0px; fill: rgb(99, 110, 250); fill-opacity: 1;\"/></g><g class=\"point\"><path d=\"M527.08,360V347.57H529.1V360Z\" style=\"vector-effect: non-scaling-stroke; opacity: 1; stroke-width: 0px; fill: rgb(99, 110, 250); fill-opacity: 1;\"/></g><g class=\"point\"><path d=\"M529.32,360V346.17H531.34V360Z\" style=\"vector-effect: non-scaling-stroke; opacity: 1; stroke-width: 0px; fill: rgb(99, 110, 250); fill-opacity: 1;\"/></g><g class=\"point\"><path d=\"M531.57,360V336.06H533.58V360Z\" style=\"vector-effect: non-scaling-stroke; opacity: 1; stroke-width: 0px; fill: rgb(99, 110, 250); fill-opacity: 1;\"/></g><g class=\"point\"><path d=\"M533.81,360V332.81H535.83V360Z\" style=\"vector-effect: non-scaling-stroke; opacity: 1; stroke-width: 0px; fill: rgb(99, 110, 250); fill-opacity: 1;\"/></g><g class=\"point\"><path d=\"M536.05,360V304.92H538.07V360Z\" style=\"vector-effect: non-scaling-stroke; opacity: 1; stroke-width: 0px; fill: rgb(99, 110, 250); fill-opacity: 1;\"/></g><g class=\"point\"><path d=\"M538.29,360V280.75H540.31V360Z\" style=\"vector-effect: non-scaling-stroke; opacity: 1; stroke-width: 0px; fill: rgb(99, 110, 250); fill-opacity: 1;\"/></g><g class=\"point\"><path d=\"M540.54,360V237.63H542.55V360Z\" style=\"vector-effect: non-scaling-stroke; opacity: 1; stroke-width: 0px; fill: rgb(99, 110, 250); fill-opacity: 1;\"/></g><g class=\"point\"><path d=\"M542.78,360V202.31H544.8V360Z\" style=\"vector-effect: non-scaling-stroke; opacity: 1; stroke-width: 0px; fill: rgb(99, 110, 250); fill-opacity: 1;\"/></g><g class=\"point\"><path d=\"M545.02,360V178.72H547.04V360Z\" style=\"vector-effect: non-scaling-stroke; opacity: 1; stroke-width: 0px; fill: rgb(99, 110, 250); fill-opacity: 1;\"/></g><g class=\"point\"><path d=\"M547.26,360V146.18H549.28V360Z\" style=\"vector-effect: non-scaling-stroke; opacity: 1; stroke-width: 0px; fill: rgb(99, 110, 250); fill-opacity: 1;\"/></g><g class=\"point\"><path d=\"M549.51,360V128.63H551.52V360Z\" style=\"vector-effect: non-scaling-stroke; opacity: 1; stroke-width: 0px; fill: rgb(99, 110, 250); fill-opacity: 1;\"/></g><g class=\"point\"><path d=\"M551.75,360V70.64H553.77V360Z\" style=\"vector-effect: non-scaling-stroke; opacity: 1; stroke-width: 0px; fill: rgb(99, 110, 250); fill-opacity: 1;\"/></g><g class=\"point\"><path d=\"M553.99,360V71.34H556.01V360Z\" style=\"vector-effect: non-scaling-stroke; opacity: 1; stroke-width: 0px; fill: rgb(99, 110, 250); fill-opacity: 1;\"/></g><g class=\"point\"><path d=\"M556.23,360V85.17H558.25V360Z\" style=\"vector-effect: non-scaling-stroke; opacity: 1; stroke-width: 0px; fill: rgb(99, 110, 250); fill-opacity: 1;\"/></g><g class=\"point\"><path d=\"M558.48,360V113.99H560.49V360Z\" style=\"vector-effect: non-scaling-stroke; opacity: 1; stroke-width: 0px; fill: rgb(99, 110, 250); fill-opacity: 1;\"/></g><g class=\"point\"><path d=\"M560.72,360V127H562.74V360Z\" style=\"vector-effect: non-scaling-stroke; opacity: 1; stroke-width: 0px; fill: rgb(99, 110, 250); fill-opacity: 1;\"/></g><g class=\"point\"><path d=\"M562.96,360V73.31H564.98V360Z\" style=\"vector-effect: non-scaling-stroke; opacity: 1; stroke-width: 0px; fill: rgb(99, 110, 250); fill-opacity: 1;\"/></g><g class=\"point\"><path d=\"M565.2,360V107.71H567.22V360Z\" style=\"vector-effect: non-scaling-stroke; opacity: 1; stroke-width: 0px; fill: rgb(99, 110, 250); fill-opacity: 1;\"/></g><g class=\"point\"><path d=\"M567.45,360V108.87H569.46V360Z\" style=\"vector-effect: non-scaling-stroke; opacity: 1; stroke-width: 0px; fill: rgb(99, 110, 250); fill-opacity: 1;\"/></g><g class=\"point\"><path d=\"M569.69,360V161.52H571.71V360Z\" style=\"vector-effect: non-scaling-stroke; opacity: 1; stroke-width: 0px; fill: rgb(99, 110, 250); fill-opacity: 1;\"/></g><g class=\"point\"><path d=\"M571.93,360V206.95H573.95V360Z\" style=\"vector-effect: non-scaling-stroke; opacity: 1; stroke-width: 0px; fill: rgb(99, 110, 250); fill-opacity: 1;\"/></g><g class=\"point\"><path d=\"M574.17,360V254.48H576.19V360Z\" style=\"vector-effect: non-scaling-stroke; opacity: 1; stroke-width: 0px; fill: rgb(99, 110, 250); fill-opacity: 1;\"/></g><g class=\"point\"><path d=\"M576.42,360V285.28H578.43V360Z\" style=\"vector-effect: non-scaling-stroke; opacity: 1; stroke-width: 0px; fill: rgb(99, 110, 250); fill-opacity: 1;\"/></g><g class=\"point\"><path d=\"M578.66,360V309.1H580.68V360Z\" style=\"vector-effect: non-scaling-stroke; opacity: 1; stroke-width: 0px; fill: rgb(99, 110, 250); fill-opacity: 1;\"/></g><g class=\"point\"><path d=\"M580.9,360V339.31H582.92V360Z\" style=\"vector-effect: non-scaling-stroke; opacity: 1; stroke-width: 0px; fill: rgb(99, 110, 250); fill-opacity: 1;\"/></g><g class=\"point\"><path d=\"M583.14,360V339.78H585.16V360Z\" style=\"vector-effect: non-scaling-stroke; opacity: 1; stroke-width: 0px; fill: rgb(99, 110, 250); fill-opacity: 1;\"/></g><g class=\"point\"><path d=\"M585.38,360V341.52H587.4V360Z\" style=\"vector-effect: non-scaling-stroke; opacity: 1; stroke-width: 0px; fill: rgb(99, 110, 250); fill-opacity: 1;\"/></g><g class=\"point\"><path d=\"M587.63,360V321.77H589.65V360Z\" style=\"vector-effect: non-scaling-stroke; opacity: 1; stroke-width: 0px; fill: rgb(99, 110, 250); fill-opacity: 1;\"/></g><g class=\"point\"><path d=\"M589.87,360V297.71H591.89V360Z\" style=\"vector-effect: non-scaling-stroke; opacity: 1; stroke-width: 0px; fill: rgb(99, 110, 250); fill-opacity: 1;\"/></g><g class=\"point\"><path d=\"M592.11,360V257.74H594.13V360Z\" style=\"vector-effect: non-scaling-stroke; opacity: 1; stroke-width: 0px; fill: rgb(99, 110, 250); fill-opacity: 1;\"/></g><g class=\"point\"><path d=\"M594.35,360V206.02H596.37V360Z\" style=\"vector-effect: non-scaling-stroke; opacity: 1; stroke-width: 0px; fill: rgb(99, 110, 250); fill-opacity: 1;\"/></g><g class=\"point\"><path d=\"M596.6,360V185.22H598.62V360Z\" style=\"vector-effect: non-scaling-stroke; opacity: 1; stroke-width: 0px; fill: rgb(99, 110, 250); fill-opacity: 1;\"/></g><g class=\"point\"><path d=\"M598.84,360V188.01H600.86V360Z\" style=\"vector-effect: non-scaling-stroke; opacity: 1; stroke-width: 0px; fill: rgb(99, 110, 250); fill-opacity: 1;\"/></g><g class=\"point\"><path d=\"M601.08,360V134.21H603.1V360Z\" style=\"vector-effect: non-scaling-stroke; opacity: 1; stroke-width: 0px; fill: rgb(99, 110, 250); fill-opacity: 1;\"/></g><g class=\"point\"><path d=\"M603.32,360V128.4H605.34V360Z\" style=\"vector-effect: non-scaling-stroke; opacity: 1; stroke-width: 0px; fill: rgb(99, 110, 250); fill-opacity: 1;\"/></g><g class=\"point\"><path d=\"M605.57,360V82.96H607.58V360Z\" style=\"vector-effect: non-scaling-stroke; opacity: 1; stroke-width: 0px; fill: rgb(99, 110, 250); fill-opacity: 1;\"/></g><g class=\"point\"><path d=\"M607.81,360V113.99H609.83V360Z\" style=\"vector-effect: non-scaling-stroke; opacity: 1; stroke-width: 0px; fill: rgb(99, 110, 250); fill-opacity: 1;\"/></g><g class=\"point\"><path d=\"M610.05,360V111.55H612.07V360Z\" style=\"vector-effect: non-scaling-stroke; opacity: 1; stroke-width: 0px; fill: rgb(99, 110, 250); fill-opacity: 1;\"/></g><g class=\"point\"><path d=\"M612.29,360V67.85H614.31V360Z\" style=\"vector-effect: non-scaling-stroke; opacity: 1; stroke-width: 0px; fill: rgb(99, 110, 250); fill-opacity: 1;\"/></g><g class=\"point\"><path d=\"M614.54,360V18H616.55V360Z\" style=\"vector-effect: non-scaling-stroke; opacity: 1; stroke-width: 0px; fill: rgb(99, 110, 250); fill-opacity: 1;\"/></g><g class=\"point\"><path d=\"M616.78,360V33.22H618.8V360Z\" style=\"vector-effect: non-scaling-stroke; opacity: 1; stroke-width: 0px; fill: rgb(99, 110, 250); fill-opacity: 1;\"/></g><g class=\"point\"><path d=\"M619.02,360V49.72H621.04V360Z\" style=\"vector-effect: non-scaling-stroke; opacity: 1; stroke-width: 0px; fill: rgb(99, 110, 250); fill-opacity: 1;\"/></g><g class=\"point\"><path d=\"M621.26,360V57.74H623.28V360Z\" style=\"vector-effect: non-scaling-stroke; opacity: 1; stroke-width: 0px; fill: rgb(99, 110, 250); fill-opacity: 1;\"/></g><g class=\"point\"><path d=\"M623.51,360V161.52H625.52V360Z\" style=\"vector-effect: non-scaling-stroke; opacity: 1; stroke-width: 0px; fill: rgb(99, 110, 250); fill-opacity: 1;\"/></g><g class=\"point\"><path d=\"M625.75,360V172.79H627.77V360Z\" style=\"vector-effect: non-scaling-stroke; opacity: 1; stroke-width: 0px; fill: rgb(99, 110, 250); fill-opacity: 1;\"/></g><g class=\"point\"><path d=\"M627.99,360V244.37H630.01V360Z\" style=\"vector-effect: non-scaling-stroke; opacity: 1; stroke-width: 0px; fill: rgb(99, 110, 250); fill-opacity: 1;\"/></g><g class=\"point\"><path d=\"M630.23,360V272.73H632.25V360Z\" style=\"vector-effect: non-scaling-stroke; opacity: 1; stroke-width: 0px; fill: rgb(99, 110, 250); fill-opacity: 1;\"/></g><g class=\"point\"><path d=\"M632.48,360V330.02H634.49V360Z\" style=\"vector-effect: non-scaling-stroke; opacity: 1; stroke-width: 0px; fill: rgb(99, 110, 250); fill-opacity: 1;\"/></g><g class=\"point\"><path d=\"M634.72,360V332.92H636.74V360Z\" style=\"vector-effect: non-scaling-stroke; opacity: 1; stroke-width: 0px; fill: rgb(99, 110, 250); fill-opacity: 1;\"/></g><g class=\"point\"><path d=\"M636.96,360V341.52H638.98V360Z\" style=\"vector-effect: non-scaling-stroke; opacity: 1; stroke-width: 0px; fill: rgb(99, 110, 250); fill-opacity: 1;\"/></g><g class=\"point\"><path d=\"M639.2,360V339.2H641.22V360Z\" style=\"vector-effect: non-scaling-stroke; opacity: 1; stroke-width: 0px; fill: rgb(99, 110, 250); fill-opacity: 1;\"/></g><g class=\"point\"><path d=\"M641.45,360V312.01H643.46V360Z\" style=\"vector-effect: non-scaling-stroke; opacity: 1; stroke-width: 0px; fill: rgb(99, 110, 250); fill-opacity: 1;\"/></g><g class=\"point\"><path d=\"M643.69,360V279.24H645.71V360Z\" style=\"vector-effect: non-scaling-stroke; opacity: 1; stroke-width: 0px; fill: rgb(99, 110, 250); fill-opacity: 1;\"/></g><g class=\"point\"><path d=\"M645.93,360V226.94H647.95V360Z\" style=\"vector-effect: non-scaling-stroke; opacity: 1; stroke-width: 0px; fill: rgb(99, 110, 250); fill-opacity: 1;\"/></g><g class=\"point\"><path d=\"M648.17,360V145.83H650.19V360Z\" style=\"vector-effect: non-scaling-stroke; opacity: 1; stroke-width: 0px; fill: rgb(99, 110, 250); fill-opacity: 1;\"/></g><g class=\"point\"><path d=\"M650.42,360V168.95H652.43V360Z\" style=\"vector-effect: non-scaling-stroke; opacity: 1; stroke-width: 0px; fill: rgb(99, 110, 250); fill-opacity: 1;\"/></g><g class=\"point\"><path d=\"M652.66,360V165.12H654.68V360Z\" style=\"vector-effect: non-scaling-stroke; opacity: 1; stroke-width: 0px; fill: rgb(99, 110, 250); fill-opacity: 1;\"/></g><g class=\"point\"><path d=\"M654.9,360V144.43H656.92V360Z\" style=\"vector-effect: non-scaling-stroke; opacity: 1; stroke-width: 0px; fill: rgb(99, 110, 250); fill-opacity: 1;\"/></g><g class=\"point\"><path d=\"M657.14,360V122.7H659.16V360Z\" style=\"vector-effect: non-scaling-stroke; opacity: 1; stroke-width: 0px; fill: rgb(99, 110, 250); fill-opacity: 1;\"/></g><g class=\"point\"><path d=\"M659.38,360V148.15H661.4V360Z\" style=\"vector-effect: non-scaling-stroke; opacity: 1; stroke-width: 0px; fill: rgb(99, 110, 250); fill-opacity: 1;\"/></g><g class=\"point\"><path d=\"M661.63,360V119.33H663.65V360Z\" style=\"vector-effect: non-scaling-stroke; opacity: 1; stroke-width: 0px; fill: rgb(99, 110, 250); fill-opacity: 1;\"/></g><g class=\"point\"><path d=\"M663.87,360V148.5H665.89V360Z\" style=\"vector-effect: non-scaling-stroke; opacity: 1; stroke-width: 0px; fill: rgb(99, 110, 250); fill-opacity: 1;\"/></g><g class=\"point\"><path d=\"M666.11,360V94.93H668.13V360Z\" style=\"vector-effect: non-scaling-stroke; opacity: 1; stroke-width: 0px; fill: rgb(99, 110, 250); fill-opacity: 1;\"/></g><g class=\"point\"><path d=\"M668.35,360V42.29H670.37V360Z\" style=\"vector-effect: non-scaling-stroke; opacity: 1; stroke-width: 0px; fill: rgb(99, 110, 250); fill-opacity: 1;\"/></g><g class=\"point\"><path d=\"M670.6,360V42.17H672.62V360Z\" style=\"vector-effect: non-scaling-stroke; opacity: 1; stroke-width: 0px; fill: rgb(99, 110, 250); fill-opacity: 1;\"/></g><g class=\"point\"><path d=\"M672.84,360V73.66H674.86V360Z\" style=\"vector-effect: non-scaling-stroke; opacity: 1; stroke-width: 0px; fill: rgb(99, 110, 250); fill-opacity: 1;\"/></g><g class=\"point\"><path d=\"M675.08,360V78.89H677.1V360Z\" style=\"vector-effect: non-scaling-stroke; opacity: 1; stroke-width: 0px; fill: rgb(99, 110, 250); fill-opacity: 1;\"/></g><g class=\"point\"><path d=\"M677.32,360V97.25H679.34V360Z\" style=\"vector-effect: non-scaling-stroke; opacity: 1; stroke-width: 0px; fill: rgb(99, 110, 250); fill-opacity: 1;\"/></g><g class=\"point\"><path d=\"M679.57,360V165.58H681.58V360Z\" style=\"vector-effect: non-scaling-stroke; opacity: 1; stroke-width: 0px; fill: rgb(99, 110, 250); fill-opacity: 1;\"/></g><g class=\"point\"><path d=\"M681.81,360V232.75H683.83V360Z\" style=\"vector-effect: non-scaling-stroke; opacity: 1; stroke-width: 0px; fill: rgb(99, 110, 250); fill-opacity: 1;\"/></g><g class=\"point\"><path d=\"M684.05,360V310.15H686.07V360Z\" style=\"vector-effect: non-scaling-stroke; opacity: 1; stroke-width: 0px; fill: rgb(99, 110, 250); fill-opacity: 1;\"/></g><g class=\"point\"><path d=\"M686.29,360V336.29H688.31V360Z\" style=\"vector-effect: non-scaling-stroke; opacity: 1; stroke-width: 0px; fill: rgb(99, 110, 250); fill-opacity: 1;\"/></g><g class=\"point\"><path d=\"M688.54,360V345.24H690.55V360Z\" style=\"vector-effect: non-scaling-stroke; opacity: 1; stroke-width: 0px; fill: rgb(99, 110, 250); fill-opacity: 1;\"/></g><g class=\"point\"><path d=\"M690.78,360V346.64H692.8V360Z\" style=\"vector-effect: non-scaling-stroke; opacity: 1; stroke-width: 0px; fill: rgb(99, 110, 250); fill-opacity: 1;\"/></g><g class=\"point\"><path d=\"M693.02,360V332.57H695.04V360Z\" style=\"vector-effect: non-scaling-stroke; opacity: 1; stroke-width: 0px; fill: rgb(99, 110, 250); fill-opacity: 1;\"/></g><g class=\"point\"><path d=\"M695.26,360V324.56H697.28V360Z\" style=\"vector-effect: non-scaling-stroke; opacity: 1; stroke-width: 0px; fill: rgb(99, 110, 250); fill-opacity: 1;\"/></g><g class=\"point\"><path d=\"M697.51,360V279.12H699.52V360Z\" style=\"vector-effect: non-scaling-stroke; opacity: 1; stroke-width: 0px; fill: rgb(99, 110, 250); fill-opacity: 1;\"/></g><g class=\"point\"><path d=\"M699.75,360V223.92H701.77V360Z\" style=\"vector-effect: non-scaling-stroke; opacity: 1; stroke-width: 0px; fill: rgb(99, 110, 250); fill-opacity: 1;\"/></g><g class=\"point\"><path d=\"M701.99,360V232.17H704.01V360Z\" style=\"vector-effect: non-scaling-stroke; opacity: 1; stroke-width: 0px; fill: rgb(99, 110, 250); fill-opacity: 1;\"/></g><g class=\"point\"><path d=\"M704.23,360V196.84H706.25V360Z\" style=\"vector-effect: non-scaling-stroke; opacity: 1; stroke-width: 0px; fill: rgb(99, 110, 250); fill-opacity: 1;\"/></g><g class=\"point\"><path d=\"M706.48,360V195.91H708.49V360Z\" style=\"vector-effect: non-scaling-stroke; opacity: 1; stroke-width: 0px; fill: rgb(99, 110, 250); fill-opacity: 1;\"/></g><g class=\"point\"><path d=\"M708.72,360V177.44H710.74V360Z\" style=\"vector-effect: non-scaling-stroke; opacity: 1; stroke-width: 0px; fill: rgb(99, 110, 250); fill-opacity: 1;\"/></g><g class=\"point\"><path d=\"M710.96,360V125.96H712.98V360Z\" style=\"vector-effect: non-scaling-stroke; opacity: 1; stroke-width: 0px; fill: rgb(99, 110, 250); fill-opacity: 1;\"/></g><g class=\"point\"><path d=\"M713.2,360V166.98H715.22V360Z\" style=\"vector-effect: non-scaling-stroke; opacity: 1; stroke-width: 0px; fill: rgb(99, 110, 250); fill-opacity: 1;\"/></g><g class=\"point\"><path d=\"M715.45,360V145.25H717.46V360Z\" style=\"vector-effect: non-scaling-stroke; opacity: 1; stroke-width: 0px; fill: rgb(99, 110, 250); fill-opacity: 1;\"/></g><g class=\"point\"><path d=\"M717.69,360V139.44H719.71V360Z\" style=\"vector-effect: non-scaling-stroke; opacity: 1; stroke-width: 0px; fill: rgb(99, 110, 250); fill-opacity: 1;\"/></g><g class=\"point\"><path d=\"M719.93,360V130.84H721.95V360Z\" style=\"vector-effect: non-scaling-stroke; opacity: 1; stroke-width: 0px; fill: rgb(99, 110, 250); fill-opacity: 1;\"/></g><g class=\"point\"><path d=\"M722.17,360V79.71H724.19V360Z\" style=\"vector-effect: non-scaling-stroke; opacity: 1; stroke-width: 0px; fill: rgb(99, 110, 250); fill-opacity: 1;\"/></g><g class=\"point\"><path d=\"M724.42,360V37.41H726.43V360Z\" style=\"vector-effect: non-scaling-stroke; opacity: 1; stroke-width: 0px; fill: rgb(99, 110, 250); fill-opacity: 1;\"/></g><g class=\"point\"><path d=\"M726.66,360V81.57H728.68V360Z\" style=\"vector-effect: non-scaling-stroke; opacity: 1; stroke-width: 0px; fill: rgb(99, 110, 250); fill-opacity: 1;\"/></g><g class=\"point\"><path d=\"M728.9,360V138.51H730.92V360Z\" style=\"vector-effect: non-scaling-stroke; opacity: 1; stroke-width: 0px; fill: rgb(99, 110, 250); fill-opacity: 1;\"/></g><g class=\"point\"><path d=\"M731.14,360V164.89H733.16V360Z\" style=\"vector-effect: non-scaling-stroke; opacity: 1; stroke-width: 0px; fill: rgb(99, 110, 250); fill-opacity: 1;\"/></g><g class=\"point\"><path d=\"M733.38,360V184.87H735.4V360Z\" style=\"vector-effect: non-scaling-stroke; opacity: 1; stroke-width: 0px; fill: rgb(99, 110, 250); fill-opacity: 1;\"/></g><g class=\"point\"><path d=\"M735.63,360V249.72H737.65V360Z\" style=\"vector-effect: non-scaling-stroke; opacity: 1; stroke-width: 0px; fill: rgb(99, 110, 250); fill-opacity: 1;\"/></g><g class=\"point\"><path d=\"M737.87,360V352.1H739.89V360Z\" style=\"vector-effect: non-scaling-stroke; opacity: 1; stroke-width: 0px; fill: rgb(99, 110, 250); fill-opacity: 1;\"/></g></g></g></g></g><g class=\"overplot\"/><path class=\"xlines-above crisp\" d=\"M0,0\" style=\"fill: none;\"/><path class=\"ylines-above crisp\" d=\"M0,0\" style=\"fill: none;\"/><g class=\"overlines-above\"/><g class=\"xaxislayer-above\"><g class=\"xtick\"><text text-anchor=\"middle\" x=\"0\" y=\"433\" transform=\"translate(179.79000000000002,0)\" style=\"font-family: 'Open Sans', verdana, arial, sans-serif; font-size: 12px; fill: rgb(42, 63, 95); fill-opacity: 1; white-space: pre; opacity: 1;\"><tspan class=\"line\" dy=\"0em\" x=\"0\" y=\"433\">Jul 27</tspan><tspan class=\"line\" dy=\"1.3em\" x=\"0\" y=\"433\">2019</tspan></text></g><g class=\"xtick\"><text text-anchor=\"middle\" x=\"0\" y=\"433\" style=\"font-family: 'Open Sans', verdana, arial, sans-serif; font-size: 12px; fill: rgb(42, 63, 95); fill-opacity: 1; white-space: pre; opacity: 1;\" transform=\"translate(287.41999999999996,0)\">Jul 29</text></g><g class=\"xtick\"><text text-anchor=\"middle\" x=\"0\" y=\"433\" style=\"font-family: 'Open Sans', verdana, arial, sans-serif; font-size: 12px; fill: rgb(42, 63, 95); fill-opacity: 1; white-space: pre; opacity: 1;\" transform=\"translate(395.06,0)\">Jul 31</text></g><g class=\"xtick\"><text text-anchor=\"middle\" x=\"0\" y=\"433\" style=\"font-family: 'Open Sans', verdana, arial, sans-serif; font-size: 12px; fill: rgb(42, 63, 95); fill-opacity: 1; white-space: pre; opacity: 1;\" transform=\"translate(502.7,0)\">Aug 2</text></g><g class=\"xtick\"><text text-anchor=\"middle\" x=\"0\" y=\"433\" style=\"font-family: 'Open Sans', verdana, arial, sans-serif; font-size: 12px; fill: rgb(42, 63, 95); fill-opacity: 1; white-space: pre; opacity: 1;\" transform=\"translate(610.33,0)\">Aug 4</text></g><g class=\"xtick\"><text text-anchor=\"middle\" x=\"0\" y=\"433\" style=\"font-family: 'Open Sans', verdana, arial, sans-serif; font-size: 12px; fill: rgb(42, 63, 95); fill-opacity: 1; white-space: pre; opacity: 1;\" transform=\"translate(717.97,0)\">Aug 6</text></g></g><g class=\"yaxislayer-above\"><g class=\"ytick\"><text text-anchor=\"end\" x=\"79\" y=\"4.199999999999999\" transform=\"translate(0,420)\" style=\"font-family: 'Open Sans', verdana, arial, sans-serif; font-size: 12px; fill: rgb(42, 63, 95); fill-opacity: 1; white-space: pre; opacity: 1;\">0</text></g><g class=\"ytick\"><text text-anchor=\"end\" x=\"79\" y=\"4.199999999999999\" style=\"font-family: 'Open Sans', verdana, arial, sans-serif; font-size: 12px; fill: rgb(42, 63, 95); fill-opacity: 1; white-space: pre; opacity: 1;\" transform=\"translate(0,361.9)\">500</text></g><g class=\"ytick\"><text text-anchor=\"end\" x=\"79\" y=\"4.199999999999999\" style=\"font-family: 'Open Sans', verdana, arial, sans-serif; font-size: 12px; fill: rgb(42, 63, 95); fill-opacity: 1; white-space: pre; opacity: 1;\" transform=\"translate(0,303.78999999999996)\">1000</text></g><g class=\"ytick\"><text text-anchor=\"end\" x=\"79\" y=\"4.199999999999999\" style=\"font-family: 'Open Sans', verdana, arial, sans-serif; font-size: 12px; fill: rgb(42, 63, 95); fill-opacity: 1; white-space: pre; opacity: 1;\" transform=\"translate(0,245.69)\">1500</text></g><g class=\"ytick\"><text text-anchor=\"end\" x=\"79\" y=\"4.199999999999999\" style=\"font-family: 'Open Sans', verdana, arial, sans-serif; font-size: 12px; fill: rgb(42, 63, 95); fill-opacity: 1; white-space: pre; opacity: 1;\" transform=\"translate(0,187.57999999999998)\">2000</text></g><g class=\"ytick\"><text text-anchor=\"end\" x=\"79\" y=\"4.199999999999999\" style=\"font-family: 'Open Sans', verdana, arial, sans-serif; font-size: 12px; fill: rgb(42, 63, 95); fill-opacity: 1; white-space: pre; opacity: 1;\" transform=\"translate(0,129.48000000000002)\">2500</text></g><g class=\"ytick\"><text text-anchor=\"end\" x=\"79\" y=\"4.199999999999999\" style=\"font-family: 'Open Sans', verdana, arial, sans-serif; font-size: 12px; fill: rgb(42, 63, 95); fill-opacity: 1; white-space: pre; opacity: 1;\" transform=\"translate(0,71.38)\">3000</text></g></g><g class=\"overaxes-above\"/></g></g><g class=\"polarlayer\"/><g class=\"ternarylayer\"/><g class=\"geolayer\"/><g class=\"funnelarealayer\"/><g class=\"pielayer\"/><g class=\"iciclelayer\"/><g class=\"treemaplayer\"/><g class=\"sunburstlayer\"/><g class=\"glimages\"/><defs id=\"topdefs-9db4d2\"><g class=\"clips\"/></defs><g class=\"layer-above\"><g class=\"imagelayer\"/><g class=\"shapelayer\"/></g><g class=\"infolayer\"><g class=\"g-gtitle\"><text class=\"gtitle\" x=\"45\" y=\"30\" text-anchor=\"start\" dy=\"0em\" style=\"font-family: 'Open Sans', verdana, arial, sans-serif; font-size: 17px; fill: rgb(42, 63, 95); opacity: 1; font-weight: normal; white-space: pre;\">Распределение количества данных по дате</text></g><g class=\"g-xtitle\"><text class=\"xtitle\" x=\"450\" y=\"476.409375\" text-anchor=\"middle\" style=\"font-family: 'Open Sans', verdana, arial, sans-serif; font-size: 14px; fill: rgb(42, 63, 95); opacity: 1; font-weight: normal; white-space: pre;\">Дата</text></g><g class=\"g-ytitle\"><text class=\"ytitle\" transform=\"rotate(-90,23.684375000000003,240)\" x=\"23.684375000000003\" y=\"240\" text-anchor=\"middle\" style=\"font-family: 'Open Sans', verdana, arial, sans-serif; font-size: 14px; fill: rgb(42, 63, 95); opacity: 1; font-weight: normal; white-space: pre;\">Количество</text></g></g></svg>"
      ]
     },
     "metadata": {},
     "output_type": "display_data"
    }
   ],
   "source": [
    "df['date_time'] = df['event_timestamp'].dt.strftime('%Y-%m-%d %H')\n",
    "fig = px.histogram(df, x='date_time')\n",
    "fig.update_layout(bargap=0.1)\n",
    "fig.update_layout(\n",
    "    title='Распределение количества данных по дате',\n",
    "    xaxis_title=\"Дата\",\n",
    "    yaxis_title=\"Количество\",\n",
    "    width=900, height=500)\n",
    "fig.show('svg')"
   ]
  },
  {
   "cell_type": "markdown",
   "metadata": {},
   "source": [
    "Проанализироваав рисунок, можно сказать, что полные данные наступают с 31 июля 21:00 и до конца исследуемого периода - 7 августа 2019 года. С таким периодом и будем работать."
   ]
  },
  {
   "cell_type": "code",
   "execution_count": 13,
   "metadata": {},
   "outputs": [
    {
     "name": "stdout",
     "output_type": "stream",
     "text": [
      "<class 'pandas.core.frame.DataFrame'>\n",
      "Int64Index: 243713 entries, 0 to 244125\n",
      "Data columns (total 6 columns):\n",
      " #   Column           Non-Null Count   Dtype         \n",
      "---  ------           --------------   -----         \n",
      " 0   event_name       243713 non-null  object        \n",
      " 1   device_id_hash   243713 non-null  int64         \n",
      " 2   event_timestamp  243713 non-null  datetime64[ns]\n",
      " 3   exp_id           243713 non-null  int64         \n",
      " 4   date             243713 non-null  datetime64[ns]\n",
      " 5   date_time        243713 non-null  object        \n",
      "dtypes: datetime64[ns](2), int64(2), object(2)\n",
      "memory usage: 13.0+ MB\n"
     ]
    }
   ],
   "source": [
    "df.info()"
   ]
  },
  {
   "cell_type": "code",
   "execution_count": 14,
   "metadata": {},
   "outputs": [],
   "source": [
    "# Данные с актуальным периодом времени:\n",
    "data = df[df['event_timestamp'] >= '2019-07-31 21:00']"
   ]
  },
  {
   "cell_type": "code",
   "execution_count": 15,
   "metadata": {},
   "outputs": [
    {
     "data": {
      "image/svg+xml": [
       "<svg class=\"main-svg\" xmlns=\"http://www.w3.org/2000/svg\" xmlns:xlink=\"http://www.w3.org/1999/xlink\" width=\"900\" height=\"500\" style=\"\" viewBox=\"0 0 900 500\"><rect x=\"0\" y=\"0\" width=\"900\" height=\"500\" style=\"fill: rgb(255, 255, 255); fill-opacity: 1;\"/><defs id=\"defs-04e2da\"><g class=\"clips\"><clipPath id=\"clip04e2daxyplot\" class=\"plotclip\"><rect width=\"740\" height=\"360\"/></clipPath><clipPath class=\"axesclip\" id=\"clip04e2dax\"><rect x=\"80\" y=\"0\" width=\"740\" height=\"500\"/></clipPath><clipPath class=\"axesclip\" id=\"clip04e2day\"><rect x=\"0\" y=\"60\" width=\"900\" height=\"360\"/></clipPath><clipPath class=\"axesclip\" id=\"clip04e2daxy\"><rect x=\"80\" y=\"60\" width=\"740\" height=\"360\"/></clipPath></g><g class=\"gradients\"/><g class=\"patterns\"/></defs><g class=\"bglayer\"><rect class=\"bg\" x=\"80\" y=\"60\" width=\"740\" height=\"360\" style=\"fill: rgb(229, 236, 246); fill-opacity: 1; stroke-width: 0;\"/></g><g class=\"layer-below\"><g class=\"imagelayer\"/><g class=\"shapelayer\"/></g><g class=\"cartesianlayer\"><g class=\"subplot xy\"><g class=\"layer-subplot\"><g class=\"shapelayer\"/><g class=\"imagelayer\"/></g><g class=\"gridlayer\"><g class=\"x\"/><g class=\"y\"><path class=\"ygrid crisp\" transform=\"translate(0,361.9)\" d=\"M80,0h740\" style=\"stroke: rgb(255, 255, 255); stroke-opacity: 1; stroke-width: 1px;\"/><path class=\"ygrid crisp\" transform=\"translate(0,303.78999999999996)\" d=\"M80,0h740\" style=\"stroke: rgb(255, 255, 255); stroke-opacity: 1; stroke-width: 1px;\"/><path class=\"ygrid crisp\" transform=\"translate(0,245.69)\" d=\"M80,0h740\" style=\"stroke: rgb(255, 255, 255); stroke-opacity: 1; stroke-width: 1px;\"/><path class=\"ygrid crisp\" transform=\"translate(0,187.57999999999998)\" d=\"M80,0h740\" style=\"stroke: rgb(255, 255, 255); stroke-opacity: 1; stroke-width: 1px;\"/><path class=\"ygrid crisp\" transform=\"translate(0,129.48000000000002)\" d=\"M80,0h740\" style=\"stroke: rgb(255, 255, 255); stroke-opacity: 1; stroke-width: 1px;\"/><path class=\"ygrid crisp\" transform=\"translate(0,71.38)\" d=\"M80,0h740\" style=\"stroke: rgb(255, 255, 255); stroke-opacity: 1; stroke-width: 1px;\"/></g></g><g class=\"zerolinelayer\"><path class=\"yzl zl crisp\" transform=\"translate(0,420)\" d=\"M80,0h740\" style=\"stroke: rgb(255, 255, 255); stroke-opacity: 1; stroke-width: 2px;\"/></g><path class=\"xlines-below\"/><path class=\"ylines-below\"/><g class=\"overlines-below\"/><g class=\"xaxislayer-below\"/><g class=\"yaxislayer-below\"/><g class=\"overaxes-below\"/><g class=\"plot\" transform=\"translate(80,60)\" clip-path=\"url(#clip04e2daxyplot)\"><g class=\"barlayer mlayer\"><g class=\"trace bars\" style=\"opacity: 1;\"><g class=\"points\"><g class=\"point\"><path d=\"M0.22,360V310.73H4.16V360Z\" style=\"vector-effect: non-scaling-stroke; opacity: 1; stroke-width: 0px; fill: rgb(99, 110, 250); fill-opacity: 1;\"/></g><g class=\"point\"><path d=\"M4.6,360V324.09H8.54V360Z\" style=\"vector-effect: non-scaling-stroke; opacity: 1; stroke-width: 0px; fill: rgb(99, 110, 250); fill-opacity: 1;\"/></g><g class=\"point\"><path d=\"M8.98,360V347.91H12.92V360Z\" style=\"vector-effect: non-scaling-stroke; opacity: 1; stroke-width: 0px; fill: rgb(99, 110, 250); fill-opacity: 1;\"/></g><g class=\"point\"><path d=\"M13.36,360V337.69H17.3V360Z\" style=\"vector-effect: non-scaling-stroke; opacity: 1; stroke-width: 0px; fill: rgb(99, 110, 250); fill-opacity: 1;\"/></g><g class=\"point\"><path d=\"M17.73,360V333.5H21.67V360Z\" style=\"vector-effect: non-scaling-stroke; opacity: 1; stroke-width: 0px; fill: rgb(99, 110, 250); fill-opacity: 1;\"/></g><g class=\"point\"><path d=\"M22.11,360V321.88H26.05V360Z\" style=\"vector-effect: non-scaling-stroke; opacity: 1; stroke-width: 0px; fill: rgb(99, 110, 250); fill-opacity: 1;\"/></g><g class=\"point\"><path d=\"M26.49,360V283.65H30.43V360Z\" style=\"vector-effect: non-scaling-stroke; opacity: 1; stroke-width: 0px; fill: rgb(99, 110, 250); fill-opacity: 1;\"/></g><g class=\"point\"><path d=\"M30.87,360V262.73H34.81V360Z\" style=\"vector-effect: non-scaling-stroke; opacity: 1; stroke-width: 0px; fill: rgb(99, 110, 250); fill-opacity: 1;\"/></g><g class=\"point\"><path d=\"M35.25,360V230.54H39.19V360Z\" style=\"vector-effect: non-scaling-stroke; opacity: 1; stroke-width: 0px; fill: rgb(99, 110, 250); fill-opacity: 1;\"/></g><g class=\"point\"><path d=\"M39.63,360V193.59H43.57V360Z\" style=\"vector-effect: non-scaling-stroke; opacity: 1; stroke-width: 0px; fill: rgb(99, 110, 250); fill-opacity: 1;\"/></g><g class=\"point\"><path d=\"M44.01,360V155.94H47.95V360Z\" style=\"vector-effect: non-scaling-stroke; opacity: 1; stroke-width: 0px; fill: rgb(99, 110, 250); fill-opacity: 1;\"/></g><g class=\"point\"><path d=\"M48.38,360V139.09H52.33V360Z\" style=\"vector-effect: non-scaling-stroke; opacity: 1; stroke-width: 0px; fill: rgb(99, 110, 250); fill-opacity: 1;\"/></g><g class=\"point\"><path d=\"M52.76,360V127.12H56.7V360Z\" style=\"vector-effect: non-scaling-stroke; opacity: 1; stroke-width: 0px; fill: rgb(99, 110, 250); fill-opacity: 1;\"/></g><g class=\"point\"><path d=\"M57.14,360V132H61.08V360Z\" style=\"vector-effect: non-scaling-stroke; opacity: 1; stroke-width: 0px; fill: rgb(99, 110, 250); fill-opacity: 1;\"/></g><g class=\"point\"><path d=\"M61.52,360V64.95H65.46V360Z\" style=\"vector-effect: non-scaling-stroke; opacity: 1; stroke-width: 0px; fill: rgb(99, 110, 250); fill-opacity: 1;\"/></g><g class=\"point\"><path d=\"M65.9,360V62.97H69.84V360Z\" style=\"vector-effect: non-scaling-stroke; opacity: 1; stroke-width: 0px; fill: rgb(99, 110, 250); fill-opacity: 1;\"/></g><g class=\"point\"><path d=\"M70.28,360V94H74.22V360Z\" style=\"vector-effect: non-scaling-stroke; opacity: 1; stroke-width: 0px; fill: rgb(99, 110, 250); fill-opacity: 1;\"/></g><g class=\"point\"><path d=\"M74.66,360V33.92H78.6V360Z\" style=\"vector-effect: non-scaling-stroke; opacity: 1; stroke-width: 0px; fill: rgb(99, 110, 250); fill-opacity: 1;\"/></g><g class=\"point\"><path d=\"M79.04,360V87.26H82.98V360Z\" style=\"vector-effect: non-scaling-stroke; opacity: 1; stroke-width: 0px; fill: rgb(99, 110, 250); fill-opacity: 1;\"/></g><g class=\"point\"><path d=\"M83.41,360V54.14H87.36V360Z\" style=\"vector-effect: non-scaling-stroke; opacity: 1; stroke-width: 0px; fill: rgb(99, 110, 250); fill-opacity: 1;\"/></g><g class=\"point\"><path d=\"M87.79,360V77.85H91.73V360Z\" style=\"vector-effect: non-scaling-stroke; opacity: 1; stroke-width: 0px; fill: rgb(99, 110, 250); fill-opacity: 1;\"/></g><g class=\"point\"><path d=\"M92.17,360V115.96H96.11V360Z\" style=\"vector-effect: non-scaling-stroke; opacity: 1; stroke-width: 0px; fill: rgb(99, 110, 250); fill-opacity: 1;\"/></g><g class=\"point\"><path d=\"M96.55,360V149.31H100.49V360Z\" style=\"vector-effect: non-scaling-stroke; opacity: 1; stroke-width: 0px; fill: rgb(99, 110, 250); fill-opacity: 1;\"/></g><g class=\"point\"><path d=\"M100.93,360V242.75H104.87V360Z\" style=\"vector-effect: non-scaling-stroke; opacity: 1; stroke-width: 0px; fill: rgb(99, 110, 250); fill-opacity: 1;\"/></g><g class=\"point\"><path d=\"M105.31,360V281.79H109.25V360Z\" style=\"vector-effect: non-scaling-stroke; opacity: 1; stroke-width: 0px; fill: rgb(99, 110, 250); fill-opacity: 1;\"/></g><g class=\"point\"><path d=\"M109.69,360V325.95H113.63V360Z\" style=\"vector-effect: non-scaling-stroke; opacity: 1; stroke-width: 0px; fill: rgb(99, 110, 250); fill-opacity: 1;\"/></g><g class=\"point\"><path d=\"M114.07,360V331.53H118.01V360Z\" style=\"vector-effect: non-scaling-stroke; opacity: 1; stroke-width: 0px; fill: rgb(99, 110, 250); fill-opacity: 1;\"/></g><g class=\"point\"><path d=\"M118.44,360V284.81H122.38V360Z\" style=\"vector-effect: non-scaling-stroke; opacity: 1; stroke-width: 0px; fill: rgb(99, 110, 250); fill-opacity: 1;\"/></g><g class=\"point\"><path d=\"M122.82,360V266.92H126.76V360Z\" style=\"vector-effect: non-scaling-stroke; opacity: 1; stroke-width: 0px; fill: rgb(99, 110, 250); fill-opacity: 1;\"/></g><g class=\"point\"><path d=\"M127.2,360V277.84H131.14V360Z\" style=\"vector-effect: non-scaling-stroke; opacity: 1; stroke-width: 0px; fill: rgb(99, 110, 250); fill-opacity: 1;\"/></g><g class=\"point\"><path d=\"M131.58,360V261.22H135.52V360Z\" style=\"vector-effect: non-scaling-stroke; opacity: 1; stroke-width: 0px; fill: rgb(99, 110, 250); fill-opacity: 1;\"/></g><g class=\"point\"><path d=\"M135.96,360V269.59H139.9V360Z\" style=\"vector-effect: non-scaling-stroke; opacity: 1; stroke-width: 0px; fill: rgb(99, 110, 250); fill-opacity: 1;\"/></g><g class=\"point\"><path d=\"M140.34,360V240.31H144.28V360Z\" style=\"vector-effect: non-scaling-stroke; opacity: 1; stroke-width: 0px; fill: rgb(99, 110, 250); fill-opacity: 1;\"/></g><g class=\"point\"><path d=\"M144.72,360V205.68H148.66V360Z\" style=\"vector-effect: non-scaling-stroke; opacity: 1; stroke-width: 0px; fill: rgb(99, 110, 250); fill-opacity: 1;\"/></g><g class=\"point\"><path d=\"M149.09,360V163.14H153.04V360Z\" style=\"vector-effect: non-scaling-stroke; opacity: 1; stroke-width: 0px; fill: rgb(99, 110, 250); fill-opacity: 1;\"/></g><g class=\"point\"><path d=\"M153.47,360V131.54H157.41V360Z\" style=\"vector-effect: non-scaling-stroke; opacity: 1; stroke-width: 0px; fill: rgb(99, 110, 250); fill-opacity: 1;\"/></g><g class=\"point\"><path d=\"M157.85,360V105.74H161.79V360Z\" style=\"vector-effect: non-scaling-stroke; opacity: 1; stroke-width: 0px; fill: rgb(99, 110, 250); fill-opacity: 1;\"/></g><g class=\"point\"><path d=\"M162.23,360V122.24H166.17V360Z\" style=\"vector-effect: non-scaling-stroke; opacity: 1; stroke-width: 0px; fill: rgb(99, 110, 250); fill-opacity: 1;\"/></g><g class=\"point\"><path d=\"M166.61,360V93.54H170.55V360Z\" style=\"vector-effect: non-scaling-stroke; opacity: 1; stroke-width: 0px; fill: rgb(99, 110, 250); fill-opacity: 1;\"/></g><g class=\"point\"><path d=\"M170.99,360V142.34H174.93V360Z\" style=\"vector-effect: non-scaling-stroke; opacity: 1; stroke-width: 0px; fill: rgb(99, 110, 250); fill-opacity: 1;\"/></g><g class=\"point\"><path d=\"M175.37,360V86.33H179.31V360Z\" style=\"vector-effect: non-scaling-stroke; opacity: 1; stroke-width: 0px; fill: rgb(99, 110, 250); fill-opacity: 1;\"/></g><g class=\"point\"><path d=\"M179.75,360V84.47H183.69V360Z\" style=\"vector-effect: non-scaling-stroke; opacity: 1; stroke-width: 0px; fill: rgb(99, 110, 250); fill-opacity: 1;\"/></g><g class=\"point\"><path d=\"M184.12,360V65.65H188.07V360Z\" style=\"vector-effect: non-scaling-stroke; opacity: 1; stroke-width: 0px; fill: rgb(99, 110, 250); fill-opacity: 1;\"/></g><g class=\"point\"><path d=\"M188.5,360V94.58H192.44V360Z\" style=\"vector-effect: non-scaling-stroke; opacity: 1; stroke-width: 0px; fill: rgb(99, 110, 250); fill-opacity: 1;\"/></g><g class=\"point\"><path d=\"M192.88,360V142.57H196.82V360Z\" style=\"vector-effect: non-scaling-stroke; opacity: 1; stroke-width: 0px; fill: rgb(99, 110, 250); fill-opacity: 1;\"/></g><g class=\"point\"><path d=\"M197.26,360V160.94H201.2V360Z\" style=\"vector-effect: non-scaling-stroke; opacity: 1; stroke-width: 0px; fill: rgb(99, 110, 250); fill-opacity: 1;\"/></g><g class=\"point\"><path d=\"M201.64,360V158.26H205.58V360Z\" style=\"vector-effect: non-scaling-stroke; opacity: 1; stroke-width: 0px; fill: rgb(99, 110, 250); fill-opacity: 1;\"/></g><g class=\"point\"><path d=\"M206.02,360V209.39H209.96V360Z\" style=\"vector-effect: non-scaling-stroke; opacity: 1; stroke-width: 0px; fill: rgb(99, 110, 250); fill-opacity: 1;\"/></g><g class=\"point\"><path d=\"M210.4,360V275.4H214.34V360Z\" style=\"vector-effect: non-scaling-stroke; opacity: 1; stroke-width: 0px; fill: rgb(99, 110, 250); fill-opacity: 1;\"/></g><g class=\"point\"><path d=\"M214.78,360V328.28H218.72V360Z\" style=\"vector-effect: non-scaling-stroke; opacity: 1; stroke-width: 0px; fill: rgb(99, 110, 250); fill-opacity: 1;\"/></g><g class=\"point\"><path d=\"M219.15,360V337.57H223.09V360Z\" style=\"vector-effect: non-scaling-stroke; opacity: 1; stroke-width: 0px; fill: rgb(99, 110, 250); fill-opacity: 1;\"/></g><g class=\"point\"><path d=\"M223.53,360V350.59H227.47V360Z\" style=\"vector-effect: non-scaling-stroke; opacity: 1; stroke-width: 0px; fill: rgb(99, 110, 250); fill-opacity: 1;\"/></g><g class=\"point\"><path d=\"M227.91,360V340.01H231.85V360Z\" style=\"vector-effect: non-scaling-stroke; opacity: 1; stroke-width: 0px; fill: rgb(99, 110, 250); fill-opacity: 1;\"/></g><g class=\"point\"><path d=\"M232.29,360V306.31H236.23V360Z\" style=\"vector-effect: non-scaling-stroke; opacity: 1; stroke-width: 0px; fill: rgb(99, 110, 250); fill-opacity: 1;\"/></g><g class=\"point\"><path d=\"M236.67,360V310.96H240.61V360Z\" style=\"vector-effect: non-scaling-stroke; opacity: 1; stroke-width: 0px; fill: rgb(99, 110, 250); fill-opacity: 1;\"/></g><g class=\"point\"><path d=\"M241.05,360V287.6H244.99V360Z\" style=\"vector-effect: non-scaling-stroke; opacity: 1; stroke-width: 0px; fill: rgb(99, 110, 250); fill-opacity: 1;\"/></g><g class=\"point\"><path d=\"M245.43,360V240.31H249.37V360Z\" style=\"vector-effect: non-scaling-stroke; opacity: 1; stroke-width: 0px; fill: rgb(99, 110, 250); fill-opacity: 1;\"/></g><g class=\"point\"><path d=\"M249.8,360V201.49H253.75V360Z\" style=\"vector-effect: non-scaling-stroke; opacity: 1; stroke-width: 0px; fill: rgb(99, 110, 250); fill-opacity: 1;\"/></g><g class=\"point\"><path d=\"M254.18,360V168.49H258.12V360Z\" style=\"vector-effect: non-scaling-stroke; opacity: 1; stroke-width: 0px; fill: rgb(99, 110, 250); fill-opacity: 1;\"/></g><g class=\"point\"><path d=\"M258.56,360V128.63H262.5V360Z\" style=\"vector-effect: non-scaling-stroke; opacity: 1; stroke-width: 0px; fill: rgb(99, 110, 250); fill-opacity: 1;\"/></g><g class=\"point\"><path d=\"M262.94,360V77.61H266.88V360Z\" style=\"vector-effect: non-scaling-stroke; opacity: 1; stroke-width: 0px; fill: rgb(99, 110, 250); fill-opacity: 1;\"/></g><g class=\"point\"><path d=\"M267.32,360V127.12H271.26V360Z\" style=\"vector-effect: non-scaling-stroke; opacity: 1; stroke-width: 0px; fill: rgb(99, 110, 250); fill-opacity: 1;\"/></g><g class=\"point\"><path d=\"M271.7,360V22.42H275.64V360Z\" style=\"vector-effect: non-scaling-stroke; opacity: 1; stroke-width: 0px; fill: rgb(99, 110, 250); fill-opacity: 1;\"/></g><g class=\"point\"><path d=\"M276.08,360V101.32H280.02V360Z\" style=\"vector-effect: non-scaling-stroke; opacity: 1; stroke-width: 0px; fill: rgb(99, 110, 250); fill-opacity: 1;\"/></g><g class=\"point\"><path d=\"M280.46,360V123.17H284.4V360Z\" style=\"vector-effect: non-scaling-stroke; opacity: 1; stroke-width: 0px; fill: rgb(99, 110, 250); fill-opacity: 1;\"/></g><g class=\"point\"><path d=\"M284.83,360V49.38H288.78V360Z\" style=\"vector-effect: non-scaling-stroke; opacity: 1; stroke-width: 0px; fill: rgb(99, 110, 250); fill-opacity: 1;\"/></g><g class=\"point\"><path d=\"M289.21,360V101.79H293.15V360Z\" style=\"vector-effect: non-scaling-stroke; opacity: 1; stroke-width: 0px; fill: rgb(99, 110, 250); fill-opacity: 1;\"/></g><g class=\"point\"><path d=\"M293.59,360V105.27H297.53V360Z\" style=\"vector-effect: non-scaling-stroke; opacity: 1; stroke-width: 0px; fill: rgb(99, 110, 250); fill-opacity: 1;\"/></g><g class=\"point\"><path d=\"M297.97,360V126.65H301.91V360Z\" style=\"vector-effect: non-scaling-stroke; opacity: 1; stroke-width: 0px; fill: rgb(99, 110, 250); fill-opacity: 1;\"/></g><g class=\"point\"><path d=\"M302.35,360V166.28H306.29V360Z\" style=\"vector-effect: non-scaling-stroke; opacity: 1; stroke-width: 0px; fill: rgb(99, 110, 250); fill-opacity: 1;\"/></g><g class=\"point\"><path d=\"M306.73,360V186.97H310.67V360Z\" style=\"vector-effect: non-scaling-stroke; opacity: 1; stroke-width: 0px; fill: rgb(99, 110, 250); fill-opacity: 1;\"/></g><g class=\"point\"><path d=\"M311.11,360V271.57H315.05V360Z\" style=\"vector-effect: non-scaling-stroke; opacity: 1; stroke-width: 0px; fill: rgb(99, 110, 250); fill-opacity: 1;\"/></g><g class=\"point\"><path d=\"M315.49,360V300.62H319.43V360Z\" style=\"vector-effect: non-scaling-stroke; opacity: 1; stroke-width: 0px; fill: rgb(99, 110, 250); fill-opacity: 1;\"/></g><g class=\"point\"><path d=\"M319.86,360V330.25H323.8V360Z\" style=\"vector-effect: non-scaling-stroke; opacity: 1; stroke-width: 0px; fill: rgb(99, 110, 250); fill-opacity: 1;\"/></g><g class=\"point\"><path d=\"M324.24,360V347.57H328.18V360Z\" style=\"vector-effect: non-scaling-stroke; opacity: 1; stroke-width: 0px; fill: rgb(99, 110, 250); fill-opacity: 1;\"/></g><g class=\"point\"><path d=\"M328.62,360V346.17H332.56V360Z\" style=\"vector-effect: non-scaling-stroke; opacity: 1; stroke-width: 0px; fill: rgb(99, 110, 250); fill-opacity: 1;\"/></g><g class=\"point\"><path d=\"M333,360V336.06H336.94V360Z\" style=\"vector-effect: non-scaling-stroke; opacity: 1; stroke-width: 0px; fill: rgb(99, 110, 250); fill-opacity: 1;\"/></g><g class=\"point\"><path d=\"M337.38,360V332.81H341.32V360Z\" style=\"vector-effect: non-scaling-stroke; opacity: 1; stroke-width: 0px; fill: rgb(99, 110, 250); fill-opacity: 1;\"/></g><g class=\"point\"><path d=\"M341.76,360V304.92H345.7V360Z\" style=\"vector-effect: non-scaling-stroke; opacity: 1; stroke-width: 0px; fill: rgb(99, 110, 250); fill-opacity: 1;\"/></g><g class=\"point\"><path d=\"M346.14,360V280.75H350.08V360Z\" style=\"vector-effect: non-scaling-stroke; opacity: 1; stroke-width: 0px; fill: rgb(99, 110, 250); fill-opacity: 1;\"/></g><g class=\"point\"><path d=\"M350.51,360V237.63H354.46V360Z\" style=\"vector-effect: non-scaling-stroke; opacity: 1; stroke-width: 0px; fill: rgb(99, 110, 250); fill-opacity: 1;\"/></g><g class=\"point\"><path d=\"M354.89,360V202.31H358.83V360Z\" style=\"vector-effect: non-scaling-stroke; opacity: 1; stroke-width: 0px; fill: rgb(99, 110, 250); fill-opacity: 1;\"/></g><g class=\"point\"><path d=\"M359.27,360V178.72H363.21V360Z\" style=\"vector-effect: non-scaling-stroke; opacity: 1; stroke-width: 0px; fill: rgb(99, 110, 250); fill-opacity: 1;\"/></g><g class=\"point\"><path d=\"M363.65,360V146.18H367.59V360Z\" style=\"vector-effect: non-scaling-stroke; opacity: 1; stroke-width: 0px; fill: rgb(99, 110, 250); fill-opacity: 1;\"/></g><g class=\"point\"><path d=\"M368.03,360V128.63H371.97V360Z\" style=\"vector-effect: non-scaling-stroke; opacity: 1; stroke-width: 0px; fill: rgb(99, 110, 250); fill-opacity: 1;\"/></g><g class=\"point\"><path d=\"M372.41,360V70.64H376.35V360Z\" style=\"vector-effect: non-scaling-stroke; opacity: 1; stroke-width: 0px; fill: rgb(99, 110, 250); fill-opacity: 1;\"/></g><g class=\"point\"><path d=\"M376.79,360V71.34H380.73V360Z\" style=\"vector-effect: non-scaling-stroke; opacity: 1; stroke-width: 0px; fill: rgb(99, 110, 250); fill-opacity: 1;\"/></g><g class=\"point\"><path d=\"M381.17,360V85.17H385.11V360Z\" style=\"vector-effect: non-scaling-stroke; opacity: 1; stroke-width: 0px; fill: rgb(99, 110, 250); fill-opacity: 1;\"/></g><g class=\"point\"><path d=\"M385.54,360V113.99H389.49V360Z\" style=\"vector-effect: non-scaling-stroke; opacity: 1; stroke-width: 0px; fill: rgb(99, 110, 250); fill-opacity: 1;\"/></g><g class=\"point\"><path d=\"M389.92,360V127H393.86V360Z\" style=\"vector-effect: non-scaling-stroke; opacity: 1; stroke-width: 0px; fill: rgb(99, 110, 250); fill-opacity: 1;\"/></g><g class=\"point\"><path d=\"M394.3,360V73.31H398.24V360Z\" style=\"vector-effect: non-scaling-stroke; opacity: 1; stroke-width: 0px; fill: rgb(99, 110, 250); fill-opacity: 1;\"/></g><g class=\"point\"><path d=\"M398.68,360V107.71H402.62V360Z\" style=\"vector-effect: non-scaling-stroke; opacity: 1; stroke-width: 0px; fill: rgb(99, 110, 250); fill-opacity: 1;\"/></g><g class=\"point\"><path d=\"M403.06,360V108.87H407V360Z\" style=\"vector-effect: non-scaling-stroke; opacity: 1; stroke-width: 0px; fill: rgb(99, 110, 250); fill-opacity: 1;\"/></g><g class=\"point\"><path d=\"M407.44,360V161.52H411.38V360Z\" style=\"vector-effect: non-scaling-stroke; opacity: 1; stroke-width: 0px; fill: rgb(99, 110, 250); fill-opacity: 1;\"/></g><g class=\"point\"><path d=\"M411.82,360V206.95H415.76V360Z\" style=\"vector-effect: non-scaling-stroke; opacity: 1; stroke-width: 0px; fill: rgb(99, 110, 250); fill-opacity: 1;\"/></g><g class=\"point\"><path d=\"M416.2,360V254.48H420.14V360Z\" style=\"vector-effect: non-scaling-stroke; opacity: 1; stroke-width: 0px; fill: rgb(99, 110, 250); fill-opacity: 1;\"/></g><g class=\"point\"><path d=\"M420.57,360V285.28H424.51V360Z\" style=\"vector-effect: non-scaling-stroke; opacity: 1; stroke-width: 0px; fill: rgb(99, 110, 250); fill-opacity: 1;\"/></g><g class=\"point\"><path d=\"M424.95,360V309.1H428.89V360Z\" style=\"vector-effect: non-scaling-stroke; opacity: 1; stroke-width: 0px; fill: rgb(99, 110, 250); fill-opacity: 1;\"/></g><g class=\"point\"><path d=\"M429.33,360V339.31H433.27V360Z\" style=\"vector-effect: non-scaling-stroke; opacity: 1; stroke-width: 0px; fill: rgb(99, 110, 250); fill-opacity: 1;\"/></g><g class=\"point\"><path d=\"M433.71,360V339.78H437.65V360Z\" style=\"vector-effect: non-scaling-stroke; opacity: 1; stroke-width: 0px; fill: rgb(99, 110, 250); fill-opacity: 1;\"/></g><g class=\"point\"><path d=\"M438.09,360V341.52H442.03V360Z\" style=\"vector-effect: non-scaling-stroke; opacity: 1; stroke-width: 0px; fill: rgb(99, 110, 250); fill-opacity: 1;\"/></g><g class=\"point\"><path d=\"M442.47,360V321.77H446.41V360Z\" style=\"vector-effect: non-scaling-stroke; opacity: 1; stroke-width: 0px; fill: rgb(99, 110, 250); fill-opacity: 1;\"/></g><g class=\"point\"><path d=\"M446.85,360V297.71H450.79V360Z\" style=\"vector-effect: non-scaling-stroke; opacity: 1; stroke-width: 0px; fill: rgb(99, 110, 250); fill-opacity: 1;\"/></g><g class=\"point\"><path d=\"M451.22,360V257.74H455.17V360Z\" style=\"vector-effect: non-scaling-stroke; opacity: 1; stroke-width: 0px; fill: rgb(99, 110, 250); fill-opacity: 1;\"/></g><g class=\"point\"><path d=\"M455.6,360V206.02H459.54V360Z\" style=\"vector-effect: non-scaling-stroke; opacity: 1; stroke-width: 0px; fill: rgb(99, 110, 250); fill-opacity: 1;\"/></g><g class=\"point\"><path d=\"M459.98,360V185.22H463.92V360Z\" style=\"vector-effect: non-scaling-stroke; opacity: 1; stroke-width: 0px; fill: rgb(99, 110, 250); fill-opacity: 1;\"/></g><g class=\"point\"><path d=\"M464.36,360V188.01H468.3V360Z\" style=\"vector-effect: non-scaling-stroke; opacity: 1; stroke-width: 0px; fill: rgb(99, 110, 250); fill-opacity: 1;\"/></g><g class=\"point\"><path d=\"M468.74,360V134.21H472.68V360Z\" style=\"vector-effect: non-scaling-stroke; opacity: 1; stroke-width: 0px; fill: rgb(99, 110, 250); fill-opacity: 1;\"/></g><g class=\"point\"><path d=\"M473.12,360V128.4H477.06V360Z\" style=\"vector-effect: non-scaling-stroke; opacity: 1; stroke-width: 0px; fill: rgb(99, 110, 250); fill-opacity: 1;\"/></g><g class=\"point\"><path d=\"M477.5,360V82.96H481.44V360Z\" style=\"vector-effect: non-scaling-stroke; opacity: 1; stroke-width: 0px; fill: rgb(99, 110, 250); fill-opacity: 1;\"/></g><g class=\"point\"><path d=\"M481.88,360V113.99H485.82V360Z\" style=\"vector-effect: non-scaling-stroke; opacity: 1; stroke-width: 0px; fill: rgb(99, 110, 250); fill-opacity: 1;\"/></g><g class=\"point\"><path d=\"M486.25,360V111.55H490.2V360Z\" style=\"vector-effect: non-scaling-stroke; opacity: 1; stroke-width: 0px; fill: rgb(99, 110, 250); fill-opacity: 1;\"/></g><g class=\"point\"><path d=\"M490.63,360V67.85H494.57V360Z\" style=\"vector-effect: non-scaling-stroke; opacity: 1; stroke-width: 0px; fill: rgb(99, 110, 250); fill-opacity: 1;\"/></g><g class=\"point\"><path d=\"M495.01,360V18H498.95V360Z\" style=\"vector-effect: non-scaling-stroke; opacity: 1; stroke-width: 0px; fill: rgb(99, 110, 250); fill-opacity: 1;\"/></g><g class=\"point\"><path d=\"M499.39,360V33.22H503.33V360Z\" style=\"vector-effect: non-scaling-stroke; opacity: 1; stroke-width: 0px; fill: rgb(99, 110, 250); fill-opacity: 1;\"/></g><g class=\"point\"><path d=\"M503.77,360V49.72H507.71V360Z\" style=\"vector-effect: non-scaling-stroke; opacity: 1; stroke-width: 0px; fill: rgb(99, 110, 250); fill-opacity: 1;\"/></g><g class=\"point\"><path d=\"M508.15,360V57.74H512.09V360Z\" style=\"vector-effect: non-scaling-stroke; opacity: 1; stroke-width: 0px; fill: rgb(99, 110, 250); fill-opacity: 1;\"/></g><g class=\"point\"><path d=\"M512.53,360V161.52H516.47V360Z\" style=\"vector-effect: non-scaling-stroke; opacity: 1; stroke-width: 0px; fill: rgb(99, 110, 250); fill-opacity: 1;\"/></g><g class=\"point\"><path d=\"M516.91,360V172.79H520.85V360Z\" style=\"vector-effect: non-scaling-stroke; opacity: 1; stroke-width: 0px; fill: rgb(99, 110, 250); fill-opacity: 1;\"/></g><g class=\"point\"><path d=\"M521.28,360V244.37H525.22V360Z\" style=\"vector-effect: non-scaling-stroke; opacity: 1; stroke-width: 0px; fill: rgb(99, 110, 250); fill-opacity: 1;\"/></g><g class=\"point\"><path d=\"M525.66,360V272.73H529.6V360Z\" style=\"vector-effect: non-scaling-stroke; opacity: 1; stroke-width: 0px; fill: rgb(99, 110, 250); fill-opacity: 1;\"/></g><g class=\"point\"><path d=\"M530.04,360V330.02H533.98V360Z\" style=\"vector-effect: non-scaling-stroke; opacity: 1; stroke-width: 0px; fill: rgb(99, 110, 250); fill-opacity: 1;\"/></g><g class=\"point\"><path d=\"M534.42,360V332.92H538.36V360Z\" style=\"vector-effect: non-scaling-stroke; opacity: 1; stroke-width: 0px; fill: rgb(99, 110, 250); fill-opacity: 1;\"/></g><g class=\"point\"><path d=\"M538.8,360V341.52H542.74V360Z\" style=\"vector-effect: non-scaling-stroke; opacity: 1; stroke-width: 0px; fill: rgb(99, 110, 250); fill-opacity: 1;\"/></g><g class=\"point\"><path d=\"M543.18,360V339.2H547.12V360Z\" style=\"vector-effect: non-scaling-stroke; opacity: 1; stroke-width: 0px; fill: rgb(99, 110, 250); fill-opacity: 1;\"/></g><g class=\"point\"><path d=\"M547.56,360V312.01H551.5V360Z\" style=\"vector-effect: non-scaling-stroke; opacity: 1; stroke-width: 0px; fill: rgb(99, 110, 250); fill-opacity: 1;\"/></g><g class=\"point\"><path d=\"M551.93,360V279.24H555.88V360Z\" style=\"vector-effect: non-scaling-stroke; opacity: 1; stroke-width: 0px; fill: rgb(99, 110, 250); fill-opacity: 1;\"/></g><g class=\"point\"><path d=\"M556.31,360V226.94H560.25V360Z\" style=\"vector-effect: non-scaling-stroke; opacity: 1; stroke-width: 0px; fill: rgb(99, 110, 250); fill-opacity: 1;\"/></g><g class=\"point\"><path d=\"M560.69,360V145.83H564.63V360Z\" style=\"vector-effect: non-scaling-stroke; opacity: 1; stroke-width: 0px; fill: rgb(99, 110, 250); fill-opacity: 1;\"/></g><g class=\"point\"><path d=\"M565.07,360V168.95H569.01V360Z\" style=\"vector-effect: non-scaling-stroke; opacity: 1; stroke-width: 0px; fill: rgb(99, 110, 250); fill-opacity: 1;\"/></g><g class=\"point\"><path d=\"M569.45,360V165.12H573.39V360Z\" style=\"vector-effect: non-scaling-stroke; opacity: 1; stroke-width: 0px; fill: rgb(99, 110, 250); fill-opacity: 1;\"/></g><g class=\"point\"><path d=\"M573.83,360V144.43H577.77V360Z\" style=\"vector-effect: non-scaling-stroke; opacity: 1; stroke-width: 0px; fill: rgb(99, 110, 250); fill-opacity: 1;\"/></g><g class=\"point\"><path d=\"M578.21,360V122.7H582.15V360Z\" style=\"vector-effect: non-scaling-stroke; opacity: 1; stroke-width: 0px; fill: rgb(99, 110, 250); fill-opacity: 1;\"/></g><g class=\"point\"><path d=\"M582.59,360V148.15H586.53V360Z\" style=\"vector-effect: non-scaling-stroke; opacity: 1; stroke-width: 0px; fill: rgb(99, 110, 250); fill-opacity: 1;\"/></g><g class=\"point\"><path d=\"M586.96,360V119.33H590.91V360Z\" style=\"vector-effect: non-scaling-stroke; opacity: 1; stroke-width: 0px; fill: rgb(99, 110, 250); fill-opacity: 1;\"/></g><g class=\"point\"><path d=\"M591.34,360V148.5H595.28V360Z\" style=\"vector-effect: non-scaling-stroke; opacity: 1; stroke-width: 0px; fill: rgb(99, 110, 250); fill-opacity: 1;\"/></g><g class=\"point\"><path d=\"M595.72,360V94.93H599.66V360Z\" style=\"vector-effect: non-scaling-stroke; opacity: 1; stroke-width: 0px; fill: rgb(99, 110, 250); fill-opacity: 1;\"/></g><g class=\"point\"><path d=\"M600.1,360V42.29H604.04V360Z\" style=\"vector-effect: non-scaling-stroke; opacity: 1; stroke-width: 0px; fill: rgb(99, 110, 250); fill-opacity: 1;\"/></g><g class=\"point\"><path d=\"M604.48,360V42.17H608.42V360Z\" style=\"vector-effect: non-scaling-stroke; opacity: 1; stroke-width: 0px; fill: rgb(99, 110, 250); fill-opacity: 1;\"/></g><g class=\"point\"><path d=\"M608.86,360V73.66H612.8V360Z\" style=\"vector-effect: non-scaling-stroke; opacity: 1; stroke-width: 0px; fill: rgb(99, 110, 250); fill-opacity: 1;\"/></g><g class=\"point\"><path d=\"M613.24,360V78.89H617.18V360Z\" style=\"vector-effect: non-scaling-stroke; opacity: 1; stroke-width: 0px; fill: rgb(99, 110, 250); fill-opacity: 1;\"/></g><g class=\"point\"><path d=\"M617.62,360V97.25H621.56V360Z\" style=\"vector-effect: non-scaling-stroke; opacity: 1; stroke-width: 0px; fill: rgb(99, 110, 250); fill-opacity: 1;\"/></g><g class=\"point\"><path d=\"M621.99,360V165.58H625.93V360Z\" style=\"vector-effect: non-scaling-stroke; opacity: 1; stroke-width: 0px; fill: rgb(99, 110, 250); fill-opacity: 1;\"/></g><g class=\"point\"><path d=\"M626.37,360V232.75H630.31V360Z\" style=\"vector-effect: non-scaling-stroke; opacity: 1; stroke-width: 0px; fill: rgb(99, 110, 250); fill-opacity: 1;\"/></g><g class=\"point\"><path d=\"M630.75,360V310.15H634.69V360Z\" style=\"vector-effect: non-scaling-stroke; opacity: 1; stroke-width: 0px; fill: rgb(99, 110, 250); fill-opacity: 1;\"/></g><g class=\"point\"><path d=\"M635.13,360V336.29H639.07V360Z\" style=\"vector-effect: non-scaling-stroke; opacity: 1; stroke-width: 0px; fill: rgb(99, 110, 250); fill-opacity: 1;\"/></g><g class=\"point\"><path d=\"M639.51,360V345.24H643.45V360Z\" style=\"vector-effect: non-scaling-stroke; opacity: 1; stroke-width: 0px; fill: rgb(99, 110, 250); fill-opacity: 1;\"/></g><g class=\"point\"><path d=\"M643.89,360V346.64H647.83V360Z\" style=\"vector-effect: non-scaling-stroke; opacity: 1; stroke-width: 0px; fill: rgb(99, 110, 250); fill-opacity: 1;\"/></g><g class=\"point\"><path d=\"M648.27,360V332.57H652.21V360Z\" style=\"vector-effect: non-scaling-stroke; opacity: 1; stroke-width: 0px; fill: rgb(99, 110, 250); fill-opacity: 1;\"/></g><g class=\"point\"><path d=\"M652.64,360V324.56H656.59V360Z\" style=\"vector-effect: non-scaling-stroke; opacity: 1; stroke-width: 0px; fill: rgb(99, 110, 250); fill-opacity: 1;\"/></g><g class=\"point\"><path d=\"M657.02,360V279.12H660.96V360Z\" style=\"vector-effect: non-scaling-stroke; opacity: 1; stroke-width: 0px; fill: rgb(99, 110, 250); fill-opacity: 1;\"/></g><g class=\"point\"><path d=\"M661.4,360V223.92H665.34V360Z\" style=\"vector-effect: non-scaling-stroke; opacity: 1; stroke-width: 0px; fill: rgb(99, 110, 250); fill-opacity: 1;\"/></g><g class=\"point\"><path d=\"M665.78,360V232.17H669.72V360Z\" style=\"vector-effect: non-scaling-stroke; opacity: 1; stroke-width: 0px; fill: rgb(99, 110, 250); fill-opacity: 1;\"/></g><g class=\"point\"><path d=\"M670.16,360V196.84H674.1V360Z\" style=\"vector-effect: non-scaling-stroke; opacity: 1; stroke-width: 0px; fill: rgb(99, 110, 250); fill-opacity: 1;\"/></g><g class=\"point\"><path d=\"M674.54,360V195.91H678.48V360Z\" style=\"vector-effect: non-scaling-stroke; opacity: 1; stroke-width: 0px; fill: rgb(99, 110, 250); fill-opacity: 1;\"/></g><g class=\"point\"><path d=\"M678.92,360V177.44H682.86V360Z\" style=\"vector-effect: non-scaling-stroke; opacity: 1; stroke-width: 0px; fill: rgb(99, 110, 250); fill-opacity: 1;\"/></g><g class=\"point\"><path d=\"M683.3,360V125.96H687.24V360Z\" style=\"vector-effect: non-scaling-stroke; opacity: 1; stroke-width: 0px; fill: rgb(99, 110, 250); fill-opacity: 1;\"/></g><g class=\"point\"><path d=\"M687.67,360V166.98H691.62V360Z\" style=\"vector-effect: non-scaling-stroke; opacity: 1; stroke-width: 0px; fill: rgb(99, 110, 250); fill-opacity: 1;\"/></g><g class=\"point\"><path d=\"M692.05,360V145.25H695.99V360Z\" style=\"vector-effect: non-scaling-stroke; opacity: 1; stroke-width: 0px; fill: rgb(99, 110, 250); fill-opacity: 1;\"/></g><g class=\"point\"><path d=\"M696.43,360V139.44H700.37V360Z\" style=\"vector-effect: non-scaling-stroke; opacity: 1; stroke-width: 0px; fill: rgb(99, 110, 250); fill-opacity: 1;\"/></g><g class=\"point\"><path d=\"M700.81,360V130.84H704.75V360Z\" style=\"vector-effect: non-scaling-stroke; opacity: 1; stroke-width: 0px; fill: rgb(99, 110, 250); fill-opacity: 1;\"/></g><g class=\"point\"><path d=\"M705.19,360V79.71H709.13V360Z\" style=\"vector-effect: non-scaling-stroke; opacity: 1; stroke-width: 0px; fill: rgb(99, 110, 250); fill-opacity: 1;\"/></g><g class=\"point\"><path d=\"M709.57,360V37.41H713.51V360Z\" style=\"vector-effect: non-scaling-stroke; opacity: 1; stroke-width: 0px; fill: rgb(99, 110, 250); fill-opacity: 1;\"/></g><g class=\"point\"><path d=\"M713.95,360V81.57H717.89V360Z\" style=\"vector-effect: non-scaling-stroke; opacity: 1; stroke-width: 0px; fill: rgb(99, 110, 250); fill-opacity: 1;\"/></g><g class=\"point\"><path d=\"M718.33,360V138.51H722.27V360Z\" style=\"vector-effect: non-scaling-stroke; opacity: 1; stroke-width: 0px; fill: rgb(99, 110, 250); fill-opacity: 1;\"/></g><g class=\"point\"><path d=\"M722.7,360V164.89H726.64V360Z\" style=\"vector-effect: non-scaling-stroke; opacity: 1; stroke-width: 0px; fill: rgb(99, 110, 250); fill-opacity: 1;\"/></g><g class=\"point\"><path d=\"M727.08,360V184.87H731.02V360Z\" style=\"vector-effect: non-scaling-stroke; opacity: 1; stroke-width: 0px; fill: rgb(99, 110, 250); fill-opacity: 1;\"/></g><g class=\"point\"><path d=\"M731.46,360V249.72H735.4V360Z\" style=\"vector-effect: non-scaling-stroke; opacity: 1; stroke-width: 0px; fill: rgb(99, 110, 250); fill-opacity: 1;\"/></g><g class=\"point\"><path d=\"M735.84,360V352.1H739.78V360Z\" style=\"vector-effect: non-scaling-stroke; opacity: 1; stroke-width: 0px; fill: rgb(99, 110, 250); fill-opacity: 1;\"/></g></g></g></g></g><g class=\"overplot\"/><path class=\"xlines-above crisp\" d=\"M0,0\" style=\"fill: none;\"/><path class=\"ylines-above crisp\" d=\"M0,0\" style=\"fill: none;\"/><g class=\"overlines-above\"/><g class=\"xaxislayer-above\"><g class=\"xtick\"><text text-anchor=\"middle\" x=\"0\" y=\"433\" transform=\"translate(95.33,0)\" style=\"font-family: 'Open Sans', verdana, arial, sans-serif; font-size: 12px; fill: rgb(42, 63, 95); fill-opacity: 1; white-space: pre; opacity: 1;\"><tspan class=\"line\" dy=\"0em\" x=\"0\" y=\"433\">Aug 1</tspan><tspan class=\"line\" dy=\"1.3em\" x=\"0\" y=\"433\">2019</tspan></text></g><g class=\"xtick\"><text text-anchor=\"middle\" x=\"0\" y=\"433\" style=\"font-family: 'Open Sans', verdana, arial, sans-serif; font-size: 12px; fill: rgb(42, 63, 95); fill-opacity: 1; white-space: pre; opacity: 1;\" transform=\"translate(200.41,0)\">Aug 2</text></g><g class=\"xtick\"><text text-anchor=\"middle\" x=\"0\" y=\"433\" style=\"font-family: 'Open Sans', verdana, arial, sans-serif; font-size: 12px; fill: rgb(42, 63, 95); fill-opacity: 1; white-space: pre; opacity: 1;\" transform=\"translate(305.5,0)\">Aug 3</text></g><g class=\"xtick\"><text text-anchor=\"middle\" x=\"0\" y=\"433\" style=\"font-family: 'Open Sans', verdana, arial, sans-serif; font-size: 12px; fill: rgb(42, 63, 95); fill-opacity: 1; white-space: pre; opacity: 1;\" transform=\"translate(410.59,0)\">Aug 4</text></g><g class=\"xtick\"><text text-anchor=\"middle\" x=\"0\" y=\"433\" style=\"font-family: 'Open Sans', verdana, arial, sans-serif; font-size: 12px; fill: rgb(42, 63, 95); fill-opacity: 1; white-space: pre; opacity: 1;\" transform=\"translate(515.6800000000001,0)\">Aug 5</text></g><g class=\"xtick\"><text text-anchor=\"middle\" x=\"0\" y=\"433\" style=\"font-family: 'Open Sans', verdana, arial, sans-serif; font-size: 12px; fill: rgb(42, 63, 95); fill-opacity: 1; white-space: pre; opacity: 1;\" transform=\"translate(620.77,0)\">Aug 6</text></g><g class=\"xtick\"><text text-anchor=\"middle\" x=\"0\" y=\"433\" style=\"font-family: 'Open Sans', verdana, arial, sans-serif; font-size: 12px; fill: rgb(42, 63, 95); fill-opacity: 1; white-space: pre; opacity: 1;\" transform=\"translate(725.86,0)\">Aug 7</text></g></g><g class=\"yaxislayer-above\"><g class=\"ytick\"><text text-anchor=\"end\" x=\"79\" y=\"4.199999999999999\" transform=\"translate(0,420)\" style=\"font-family: 'Open Sans', verdana, arial, sans-serif; font-size: 12px; fill: rgb(42, 63, 95); fill-opacity: 1; white-space: pre; opacity: 1;\">0</text></g><g class=\"ytick\"><text text-anchor=\"end\" x=\"79\" y=\"4.199999999999999\" style=\"font-family: 'Open Sans', verdana, arial, sans-serif; font-size: 12px; fill: rgb(42, 63, 95); fill-opacity: 1; white-space: pre; opacity: 1;\" transform=\"translate(0,361.9)\">500</text></g><g class=\"ytick\"><text text-anchor=\"end\" x=\"79\" y=\"4.199999999999999\" style=\"font-family: 'Open Sans', verdana, arial, sans-serif; font-size: 12px; fill: rgb(42, 63, 95); fill-opacity: 1; white-space: pre; opacity: 1;\" transform=\"translate(0,303.78999999999996)\">1000</text></g><g class=\"ytick\"><text text-anchor=\"end\" x=\"79\" y=\"4.199999999999999\" style=\"font-family: 'Open Sans', verdana, arial, sans-serif; font-size: 12px; fill: rgb(42, 63, 95); fill-opacity: 1; white-space: pre; opacity: 1;\" transform=\"translate(0,245.69)\">1500</text></g><g class=\"ytick\"><text text-anchor=\"end\" x=\"79\" y=\"4.199999999999999\" style=\"font-family: 'Open Sans', verdana, arial, sans-serif; font-size: 12px; fill: rgb(42, 63, 95); fill-opacity: 1; white-space: pre; opacity: 1;\" transform=\"translate(0,187.57999999999998)\">2000</text></g><g class=\"ytick\"><text text-anchor=\"end\" x=\"79\" y=\"4.199999999999999\" style=\"font-family: 'Open Sans', verdana, arial, sans-serif; font-size: 12px; fill: rgb(42, 63, 95); fill-opacity: 1; white-space: pre; opacity: 1;\" transform=\"translate(0,129.48000000000002)\">2500</text></g><g class=\"ytick\"><text text-anchor=\"end\" x=\"79\" y=\"4.199999999999999\" style=\"font-family: 'Open Sans', verdana, arial, sans-serif; font-size: 12px; fill: rgb(42, 63, 95); fill-opacity: 1; white-space: pre; opacity: 1;\" transform=\"translate(0,71.38)\">3000</text></g></g><g class=\"overaxes-above\"/></g></g><g class=\"polarlayer\"/><g class=\"ternarylayer\"/><g class=\"geolayer\"/><g class=\"funnelarealayer\"/><g class=\"pielayer\"/><g class=\"iciclelayer\"/><g class=\"treemaplayer\"/><g class=\"sunburstlayer\"/><g class=\"glimages\"/><defs id=\"topdefs-04e2da\"><g class=\"clips\"/></defs><g class=\"layer-above\"><g class=\"imagelayer\"/><g class=\"shapelayer\"/></g><g class=\"infolayer\"><g class=\"g-gtitle\"><text class=\"gtitle\" x=\"45\" y=\"30\" text-anchor=\"start\" dy=\"0em\" style=\"font-family: 'Open Sans', verdana, arial, sans-serif; font-size: 17px; fill: rgb(42, 63, 95); opacity: 1; font-weight: normal; white-space: pre;\">Измененое распределение количества данных по дате</text></g><g class=\"g-xtitle\"><text class=\"xtitle\" x=\"450\" y=\"476.409375\" text-anchor=\"middle\" style=\"font-family: 'Open Sans', verdana, arial, sans-serif; font-size: 14px; fill: rgb(42, 63, 95); opacity: 1; font-weight: normal; white-space: pre;\">Дата</text></g><g class=\"g-ytitle\"><text class=\"ytitle\" transform=\"rotate(-90,23.684375000000003,240)\" x=\"23.684375000000003\" y=\"240\" text-anchor=\"middle\" style=\"font-family: 'Open Sans', verdana, arial, sans-serif; font-size: 14px; fill: rgb(42, 63, 95); opacity: 1; font-weight: normal; white-space: pre;\">Количество</text></g></g></svg>"
      ]
     },
     "metadata": {},
     "output_type": "display_data"
    }
   ],
   "source": [
    "fig = px.histogram(data, x='date_time')\n",
    "fig.update_layout(bargap=0.1)\n",
    "fig.update_layout(\n",
    "    title='Измененое распределение количества данных по дате',\n",
    "    xaxis_title=\"Дата\",\n",
    "    yaxis_title=\"Количество\",\n",
    "    width=900, height=500)\n",
    "fig.show('svg')"
   ]
  },
  {
   "cell_type": "markdown",
   "metadata": {},
   "source": [
    "Проверим, как изменилось количество событий и пользователей в новых данных:"
   ]
  },
  {
   "cell_type": "code",
   "execution_count": 16,
   "metadata": {},
   "outputs": [
    {
     "name": "stdout",
     "output_type": "stream",
     "text": [
      "Разница событий = 1989\n"
     ]
    }
   ],
   "source": [
    "print('Разница событий = {}'.format(count_event - data['device_id_hash'].count()))"
   ]
  },
  {
   "cell_type": "code",
   "execution_count": 17,
   "metadata": {},
   "outputs": [
    {
     "name": "stdout",
     "output_type": "stream",
     "text": [
      "Разница пользователей = 13\n"
     ]
    }
   ],
   "source": [
    "print('Разница пользователей = {}'.format(count_id - len(data.groupby('device_id_hash', as_index=False).count())))"
   ]
  },
  {
   "cell_type": "markdown",
   "metadata": {},
   "source": [
    "Убедимся в наличии пользователей из всех трёх экспериментальных групп:"
   ]
  },
  {
   "cell_type": "code",
   "execution_count": 18,
   "metadata": {},
   "outputs": [
    {
     "data": {
      "text/html": [
       "<div>\n",
       "<style scoped>\n",
       "    .dataframe tbody tr th:only-of-type {\n",
       "        vertical-align: middle;\n",
       "    }\n",
       "\n",
       "    .dataframe tbody tr th {\n",
       "        vertical-align: top;\n",
       "    }\n",
       "\n",
       "    .dataframe thead th {\n",
       "        text-align: right;\n",
       "    }\n",
       "</style>\n",
       "<table border=\"1\" class=\"dataframe\">\n",
       "  <thead>\n",
       "    <tr style=\"text-align: right;\">\n",
       "      <th></th>\n",
       "      <th>count</th>\n",
       "      <th>nunique</th>\n",
       "    </tr>\n",
       "    <tr>\n",
       "      <th>exp_id</th>\n",
       "      <th></th>\n",
       "      <th></th>\n",
       "    </tr>\n",
       "  </thead>\n",
       "  <tbody>\n",
       "    <tr>\n",
       "      <th>246</th>\n",
       "      <td>79556</td>\n",
       "      <td>2484</td>\n",
       "    </tr>\n",
       "    <tr>\n",
       "      <th>247</th>\n",
       "      <td>77293</td>\n",
       "      <td>2517</td>\n",
       "    </tr>\n",
       "    <tr>\n",
       "      <th>248</th>\n",
       "      <td>84875</td>\n",
       "      <td>2537</td>\n",
       "    </tr>\n",
       "  </tbody>\n",
       "</table>\n",
       "</div>"
      ],
      "text/plain": [
       "        count  nunique\n",
       "exp_id                \n",
       "246     79556     2484\n",
       "247     77293     2517\n",
       "248     84875     2537"
      ]
     },
     "execution_count": 18,
     "metadata": {},
     "output_type": "execute_result"
    }
   ],
   "source": [
    "data.groupby('exp_id', as_index=False)['device_id_hash'].agg({'count', 'nunique'})"
   ]
  },
  {
   "cell_type": "markdown",
   "metadata": {},
   "source": [
    "**Вывод:** Медианное значение количества событий на пользователя в логе = 20. Актуальные данные для анализа находятся в интервале с 31 июля 21:00 до 7 августа 2019 года. При этом, мы потерли 2826 событий и потеряли 17 пользователей. В каждой экспериментальной группе есть пользователи для проведения A/A/B-теста и знаем их количество."
   ]
  },
  {
   "cell_type": "markdown",
   "metadata": {},
   "source": [
    "# Шаг 4. Воронка событий"
   ]
  },
  {
   "cell_type": "markdown",
   "metadata": {},
   "source": [
    "## Какие события есть в логах, как часто они встречаются"
   ]
  },
  {
   "cell_type": "code",
   "execution_count": 19,
   "metadata": {},
   "outputs": [
    {
     "data": {
      "image/svg+xml": [
       "<svg class=\"main-svg\" xmlns=\"http://www.w3.org/2000/svg\" xmlns:xlink=\"http://www.w3.org/1999/xlink\" width=\"900\" height=\"500\" style=\"\" viewBox=\"0 0 900 500\"><rect x=\"0\" y=\"0\" width=\"900\" height=\"500\" style=\"fill: rgb(255, 255, 255); fill-opacity: 1;\"/><defs id=\"defs-9495ee\"><g class=\"clips\"><clipPath id=\"clip9495eexyplot\" class=\"plotclip\"><rect width=\"532\" height=\"310\"/></clipPath><clipPath class=\"axesclip\" id=\"clip9495eex\"><rect x=\"80\" y=\"0\" width=\"532\" height=\"500\"/></clipPath><clipPath class=\"axesclip\" id=\"clip9495eey\"><rect x=\"0\" y=\"60\" width=\"900\" height=\"310\"/></clipPath><clipPath class=\"axesclip\" id=\"clip9495eexy\"><rect x=\"80\" y=\"60\" width=\"532\" height=\"310\"/></clipPath></g><g class=\"gradients\"/><g class=\"patterns\"/></defs><g class=\"bglayer\"><rect class=\"bg\" x=\"80\" y=\"60\" width=\"532\" height=\"310\" style=\"fill: rgb(229, 236, 246); fill-opacity: 1; stroke-width: 0;\"/></g><g class=\"layer-below\"><g class=\"imagelayer\"/><g class=\"shapelayer\"/></g><g class=\"cartesianlayer\"><g class=\"subplot xy\"><g class=\"layer-subplot\"><g class=\"shapelayer\"/><g class=\"imagelayer\"/></g><g class=\"gridlayer\"><g class=\"x\"/><g class=\"y\"><path class=\"ygrid crisp\" transform=\"translate(0,320.04)\" d=\"M80,0h532\" style=\"stroke: rgb(255, 255, 255); stroke-opacity: 1; stroke-width: 1px;\"/><path class=\"ygrid crisp\" transform=\"translate(0,270.08000000000004)\" d=\"M80,0h532\" style=\"stroke: rgb(255, 255, 255); stroke-opacity: 1; stroke-width: 1px;\"/><path class=\"ygrid crisp\" transform=\"translate(0,220.11)\" d=\"M80,0h532\" style=\"stroke: rgb(255, 255, 255); stroke-opacity: 1; stroke-width: 1px;\"/><path class=\"ygrid crisp\" transform=\"translate(0,170.15)\" d=\"M80,0h532\" style=\"stroke: rgb(255, 255, 255); stroke-opacity: 1; stroke-width: 1px;\"/><path class=\"ygrid crisp\" transform=\"translate(0,120.19)\" d=\"M80,0h532\" style=\"stroke: rgb(255, 255, 255); stroke-opacity: 1; stroke-width: 1px;\"/><path class=\"ygrid crisp\" transform=\"translate(0,70.23)\" d=\"M80,0h532\" style=\"stroke: rgb(255, 255, 255); stroke-opacity: 1; stroke-width: 1px;\"/></g></g><g class=\"zerolinelayer\"><path class=\"yzl zl crisp\" transform=\"translate(0,370)\" d=\"M80,0h532\" style=\"stroke: rgb(255, 255, 255); stroke-opacity: 1; stroke-width: 2px;\"/></g><path class=\"xlines-below\"/><path class=\"ylines-below\"/><g class=\"overlines-below\"/><g class=\"xaxislayer-below\"/><g class=\"yaxislayer-below\"/><g class=\"overaxes-below\"/><g class=\"plot\" transform=\"translate(80,60)\" clip-path=\"url(#clip9495eexyplot)\"><g class=\"barlayer mlayer\"><g class=\"trace bars\" style=\"opacity: 1;\"><g class=\"points\"><g class=\"point\"><path d=\"M10.64,310V15.5H95.76V310Z\" style=\"vector-effect: non-scaling-stroke; opacity: 1; stroke-width: 0.5px; fill: rgb(99, 110, 250); fill-opacity: 1; stroke: rgb(229, 236, 246); stroke-opacity: 1;\"/><text class=\"bartext bartext-outside\" text-anchor=\"middle\" data-notex=\"1\" x=\"0\" y=\"0\" style=\"font-family: 'Open Sans', verdana, arial, sans-serif; font-size: 12px; fill: rgb(42, 63, 95); fill-opacity: 1; white-space: pre;\" transform=\"translate(53.0125,9.5)\">117889</text></g></g></g><g class=\"trace bars\" style=\"opacity: 1;\"><g class=\"points\"><g class=\"point\"><path d=\"M117.04,310V193.76H202.16V310Z\" style=\"vector-effect: non-scaling-stroke; opacity: 1; stroke-width: 0.5px; fill: rgb(239, 85, 59); fill-opacity: 1; stroke: rgb(229, 236, 246); stroke-opacity: 1;\"/><text class=\"bartext bartext-outside\" text-anchor=\"middle\" data-notex=\"1\" x=\"0\" y=\"0\" style=\"font-family: 'Open Sans', verdana, arial, sans-serif; font-size: 12px; fill: rgb(42, 63, 95); fill-opacity: 1; white-space: pre;\" transform=\"translate(159.6,187.76)\">46531</text></g></g></g><g class=\"trace bars\" style=\"opacity: 1;\"><g class=\"points\"><g class=\"point\"><path d=\"M223.44,310V204.22H308.56V310Z\" style=\"vector-effect: non-scaling-stroke; opacity: 1; stroke-width: 0.5px; fill: rgb(0, 204, 150); fill-opacity: 1; stroke: rgb(229, 236, 246); stroke-opacity: 1;\"/><text class=\"bartext bartext-outside\" text-anchor=\"middle\" data-notex=\"1\" x=\"0\" y=\"0\" style=\"font-family: 'Open Sans', verdana, arial, sans-serif; font-size: 12px; fill: rgb(42, 63, 95); fill-opacity: 1; white-space: pre;\" transform=\"translate(266,198.22)\">42343</text></g></g></g><g class=\"trace bars\" style=\"opacity: 1;\"><g class=\"points\"><g class=\"point\"><path d=\"M329.84,310V225.19H414.96V310Z\" style=\"vector-effect: non-scaling-stroke; opacity: 1; stroke-width: 0.5px; fill: rgb(171, 99, 250); fill-opacity: 1; stroke: rgb(229, 236, 246); stroke-opacity: 1;\"/><text class=\"bartext bartext-outside\" text-anchor=\"middle\" data-notex=\"1\" x=\"0\" y=\"0\" style=\"font-family: 'Open Sans', verdana, arial, sans-serif; font-size: 12px; fill: rgb(42, 63, 95); fill-opacity: 1; white-space: pre;\" transform=\"translate(372.4,219.19)\">33951</text></g></g></g><g class=\"trace bars\" style=\"opacity: 1;\"><g class=\"points\"><g class=\"point\"><path d=\"M436.24,310V307.48H521.36V310Z\" style=\"vector-effect: non-scaling-stroke; opacity: 1; stroke-width: 0.5px; fill: rgb(255, 161, 90); fill-opacity: 1; stroke: rgb(229, 236, 246); stroke-opacity: 1;\"/><text class=\"bartext bartext-outside\" text-anchor=\"middle\" data-notex=\"1\" x=\"0\" y=\"0\" style=\"font-family: 'Open Sans', verdana, arial, sans-serif; font-size: 12px; fill: rgb(42, 63, 95); fill-opacity: 1; white-space: pre;\" transform=\"translate(478.6125,301.48)\">1010</text></g></g></g></g></g><g class=\"overplot\"/><path class=\"xlines-above crisp\" d=\"M0,0\" style=\"fill: none;\"/><path class=\"ylines-above crisp\" d=\"M0,0\" style=\"fill: none;\"/><g class=\"overlines-above\"/><g class=\"xaxislayer-above\"><g class=\"xtick\"><text text-anchor=\"start\" x=\"0\" y=\"383\" transform=\"translate(133.2,0) rotate(30,0,377)\" style=\"font-family: 'Open Sans', verdana, arial, sans-serif; font-size: 12px; fill: rgb(42, 63, 95); fill-opacity: 1; white-space: pre; opacity: 1;\">MainScreenAppear</text></g><g class=\"xtick\"><text text-anchor=\"start\" x=\"0\" y=\"383\" transform=\"translate(239.6,0) rotate(30,0,377)\" style=\"font-family: 'Open Sans', verdana, arial, sans-serif; font-size: 12px; fill: rgb(42, 63, 95); fill-opacity: 1; white-space: pre; opacity: 1;\">OffersScreenAppear</text></g><g class=\"xtick\"><text text-anchor=\"start\" x=\"0\" y=\"383\" transform=\"translate(346,0) rotate(30,0,377)\" style=\"font-family: 'Open Sans', verdana, arial, sans-serif; font-size: 12px; fill: rgb(42, 63, 95); fill-opacity: 1; white-space: pre; opacity: 1;\">CartScreenAppear</text></g><g class=\"xtick\"><text text-anchor=\"start\" x=\"0\" y=\"383\" transform=\"translate(452.4,0) rotate(30,0,377)\" style=\"font-family: 'Open Sans', verdana, arial, sans-serif; font-size: 12px; fill: rgb(42, 63, 95); fill-opacity: 1; white-space: pre; opacity: 1;\">PaymentScreenSuccessful</text></g><g class=\"xtick\"><text text-anchor=\"start\" x=\"0\" y=\"383\" transform=\"translate(558.8,0) rotate(30,0,377)\" style=\"font-family: 'Open Sans', verdana, arial, sans-serif; font-size: 12px; fill: rgb(42, 63, 95); fill-opacity: 1; white-space: pre; opacity: 1;\">Tutorial</text></g></g><g class=\"yaxislayer-above\"><g class=\"ytick\"><text text-anchor=\"end\" x=\"79\" y=\"4.199999999999999\" transform=\"translate(0,370)\" style=\"font-family: 'Open Sans', verdana, arial, sans-serif; font-size: 12px; fill: rgb(42, 63, 95); fill-opacity: 1; white-space: pre; opacity: 1;\">0</text></g><g class=\"ytick\"><text text-anchor=\"end\" x=\"79\" y=\"4.199999999999999\" style=\"font-family: 'Open Sans', verdana, arial, sans-serif; font-size: 12px; fill: rgb(42, 63, 95); fill-opacity: 1; white-space: pre; opacity: 1;\" transform=\"translate(0,320.04)\">20k</text></g><g class=\"ytick\"><text text-anchor=\"end\" x=\"79\" y=\"4.199999999999999\" style=\"font-family: 'Open Sans', verdana, arial, sans-serif; font-size: 12px; fill: rgb(42, 63, 95); fill-opacity: 1; white-space: pre; opacity: 1;\" transform=\"translate(0,270.08000000000004)\">40k</text></g><g class=\"ytick\"><text text-anchor=\"end\" x=\"79\" y=\"4.199999999999999\" style=\"font-family: 'Open Sans', verdana, arial, sans-serif; font-size: 12px; fill: rgb(42, 63, 95); fill-opacity: 1; white-space: pre; opacity: 1;\" transform=\"translate(0,220.11)\">60k</text></g><g class=\"ytick\"><text text-anchor=\"end\" x=\"79\" y=\"4.199999999999999\" style=\"font-family: 'Open Sans', verdana, arial, sans-serif; font-size: 12px; fill: rgb(42, 63, 95); fill-opacity: 1; white-space: pre; opacity: 1;\" transform=\"translate(0,170.15)\">80k</text></g><g class=\"ytick\"><text text-anchor=\"end\" x=\"79\" y=\"4.199999999999999\" style=\"font-family: 'Open Sans', verdana, arial, sans-serif; font-size: 12px; fill: rgb(42, 63, 95); fill-opacity: 1; white-space: pre; opacity: 1;\" transform=\"translate(0,120.19)\">100k</text></g><g class=\"ytick\"><text text-anchor=\"end\" x=\"79\" y=\"4.199999999999999\" style=\"font-family: 'Open Sans', verdana, arial, sans-serif; font-size: 12px; fill: rgb(42, 63, 95); fill-opacity: 1; white-space: pre; opacity: 1;\" transform=\"translate(0,70.23)\">120k</text></g></g><g class=\"overaxes-above\"/></g></g><g class=\"polarlayer\"/><g class=\"ternarylayer\"/><g class=\"geolayer\"/><g class=\"funnelarealayer\"/><g class=\"pielayer\"/><g class=\"iciclelayer\"/><g class=\"treemaplayer\"/><g class=\"sunburstlayer\"/><g class=\"glimages\"/><defs id=\"topdefs-9495ee\"><g class=\"clips\"/><clipPath id=\"legend9495ee\"><rect width=\"265\" height=\"124\" x=\"0\" y=\"0\"/></clipPath></defs><g class=\"layer-above\"><g class=\"imagelayer\"/><g class=\"shapelayer\"/></g><g class=\"infolayer\"><g class=\"legend\" pointer-events=\"all\" transform=\"translate(622.64,60)\"><rect class=\"bg\" shape-rendering=\"crispEdges\" style=\"stroke: rgb(68, 68, 68); stroke-opacity: 1; fill: rgb(255, 255, 255); fill-opacity: 1; stroke-width: 0px;\" width=\"265\" height=\"124\" x=\"0\" y=\"0\"/><g class=\"scrollbox\" transform=\"\" clip-path=\"url(#legend9495ee)\"><text class=\"legendtitletext\" text-anchor=\"start\" x=\"2\" y=\"18.2\" style=\"font-family: 'Open Sans', verdana, arial, sans-serif; font-size: 14px; fill: rgb(42, 63, 95); fill-opacity: 1; white-space: pre;\">event_name</text><g class=\"groups\" transform=\"\"><g class=\"traces\" transform=\"translate(0,32.7)\" style=\"opacity: 1;\"><text class=\"legendtext\" text-anchor=\"start\" x=\"40\" y=\"4.680000000000001\" style=\"font-family: 'Open Sans', verdana, arial, sans-serif; font-size: 12px; fill: rgb(42, 63, 95); fill-opacity: 1; white-space: pre;\">MainScreenAppear (48.77%)</text><g class=\"layers\" style=\"opacity: 1;\"><g class=\"legendfill\"/><g class=\"legendlines\"/><g class=\"legendsymbols\"><g class=\"legendpoints\"><path class=\"legendundefined\" d=\"M6,6H-6V-6H6Z\" transform=\"translate(20,0)\" style=\"stroke-width: 0.5px; fill: rgb(99, 110, 250); fill-opacity: 1; stroke: rgb(229, 236, 246); stroke-opacity: 1;\"/></g></g></g><rect class=\"legendtoggle\" x=\"0\" y=\"-9.5\" width=\"259.75\" height=\"19\" style=\"fill: rgb(0, 0, 0); fill-opacity: 0;\"/></g></g><g class=\"groups\" transform=\"\"><g class=\"traces\" transform=\"translate(0,51.7)\" style=\"opacity: 1;\"><text class=\"legendtext\" text-anchor=\"start\" x=\"40\" y=\"4.680000000000001\" style=\"font-family: 'Open Sans', verdana, arial, sans-serif; font-size: 12px; fill: rgb(42, 63, 95); fill-opacity: 1; white-space: pre;\">OffersScreenAppear (19.25%)</text><g class=\"layers\" style=\"opacity: 1;\"><g class=\"legendfill\"/><g class=\"legendlines\"/><g class=\"legendsymbols\"><g class=\"legendpoints\"><path class=\"legendundefined\" d=\"M6,6H-6V-6H6Z\" transform=\"translate(20,0)\" style=\"stroke-width: 0.5px; fill: rgb(239, 85, 59); fill-opacity: 1; stroke: rgb(229, 236, 246); stroke-opacity: 1;\"/></g></g></g><rect class=\"legendtoggle\" x=\"0\" y=\"-9.5\" width=\"259.75\" height=\"19\" style=\"fill: rgb(0, 0, 0); fill-opacity: 0;\"/></g></g><g class=\"groups\" transform=\"\"><g class=\"traces\" transform=\"translate(0,70.7)\" style=\"opacity: 1;\"><text class=\"legendtext\" text-anchor=\"start\" x=\"40\" y=\"4.680000000000001\" style=\"font-family: 'Open Sans', verdana, arial, sans-serif; font-size: 12px; fill: rgb(42, 63, 95); fill-opacity: 1; white-space: pre;\">CartScreenAppear (17.52%)</text><g class=\"layers\" style=\"opacity: 1;\"><g class=\"legendfill\"/><g class=\"legendlines\"/><g class=\"legendsymbols\"><g class=\"legendpoints\"><path class=\"legendundefined\" d=\"M6,6H-6V-6H6Z\" transform=\"translate(20,0)\" style=\"stroke-width: 0.5px; fill: rgb(0, 204, 150); fill-opacity: 1; stroke: rgb(229, 236, 246); stroke-opacity: 1;\"/></g></g></g><rect class=\"legendtoggle\" x=\"0\" y=\"-9.5\" width=\"259.75\" height=\"19\" style=\"fill: rgb(0, 0, 0); fill-opacity: 0;\"/></g></g><g class=\"groups\" transform=\"\"><g class=\"traces\" transform=\"translate(0,89.7)\" style=\"opacity: 1;\"><text class=\"legendtext\" text-anchor=\"start\" x=\"40\" y=\"4.680000000000001\" style=\"font-family: 'Open Sans', verdana, arial, sans-serif; font-size: 12px; fill: rgb(42, 63, 95); fill-opacity: 1; white-space: pre;\">PaymentScreenSuccessful (14.05%)</text><g class=\"layers\" style=\"opacity: 1;\"><g class=\"legendfill\"/><g class=\"legendlines\"/><g class=\"legendsymbols\"><g class=\"legendpoints\"><path class=\"legendundefined\" d=\"M6,6H-6V-6H6Z\" transform=\"translate(20,0)\" style=\"stroke-width: 0.5px; fill: rgb(171, 99, 250); fill-opacity: 1; stroke: rgb(229, 236, 246); stroke-opacity: 1;\"/></g></g></g><rect class=\"legendtoggle\" x=\"0\" y=\"-9.5\" width=\"259.75\" height=\"19\" style=\"fill: rgb(0, 0, 0); fill-opacity: 0;\"/></g></g><g class=\"groups\" transform=\"\"><g class=\"traces\" transform=\"translate(0,108.7)\" style=\"opacity: 1;\"><text class=\"legendtext\" text-anchor=\"start\" x=\"40\" y=\"4.680000000000001\" style=\"font-family: 'Open Sans', verdana, arial, sans-serif; font-size: 12px; fill: rgb(42, 63, 95); fill-opacity: 1; white-space: pre;\">Tutorial (0.42%)</text><g class=\"layers\" style=\"opacity: 1;\"><g class=\"legendfill\"/><g class=\"legendlines\"/><g class=\"legendsymbols\"><g class=\"legendpoints\"><path class=\"legendundefined\" d=\"M6,6H-6V-6H6Z\" transform=\"translate(20,0)\" style=\"stroke-width: 0.5px; fill: rgb(255, 161, 90); fill-opacity: 1; stroke: rgb(229, 236, 246); stroke-opacity: 1;\"/></g></g></g><rect class=\"legendtoggle\" x=\"0\" y=\"-9.5\" width=\"259.75\" height=\"19\" style=\"fill: rgb(0, 0, 0); fill-opacity: 0;\"/></g></g></g><rect class=\"scrollbar\" rx=\"20\" ry=\"3\" width=\"0\" height=\"0\" style=\"fill: rgb(128, 139, 164); fill-opacity: 1;\" x=\"0\" y=\"0\"/></g><g class=\"g-gtitle\"><text class=\"gtitle\" x=\"45\" y=\"30\" text-anchor=\"start\" dy=\"0em\" style=\"font-family: 'Open Sans', verdana, arial, sans-serif; font-size: 17px; fill: rgb(42, 63, 95); opacity: 1; font-weight: normal; white-space: pre;\">Количество и доля СОБЫТИЙ в логах</text></g><g class=\"g-xtitle\"><text class=\"xtitle\" x=\"346\" y=\"488.0080078125\" text-anchor=\"middle\" style=\"font-family: 'Open Sans', verdana, arial, sans-serif; font-size: 14px; fill: rgb(42, 63, 95); opacity: 1; font-weight: normal; white-space: pre;\">Событие</text></g><g class=\"g-ytitle\"><text class=\"ytitle\" transform=\"rotate(-90,24.200000000000003,215)\" x=\"24.200000000000003\" y=\"215\" text-anchor=\"middle\" style=\"font-family: 'Open Sans', verdana, arial, sans-serif; font-size: 14px; fill: rgb(42, 63, 95); opacity: 1; font-weight: normal; white-space: pre;\">Количество</text></g></g></svg>"
      ]
     },
     "metadata": {},
     "output_type": "display_data"
    }
   ],
   "source": [
    "event_sort = data.groupby('event_name', as_index=False).agg(\n",
    "    {'device_id_hash': 'count'}).sort_values(by='device_id_hash', ascending=False)\n",
    "event_sort['percent'] = ((event_sort['device_id_hash'] /\n",
    "                          event_sort['device_id_hash'].sum()) * 100).round(2)\n",
    "\n",
    "# Графически отобразим результаты\n",
    "bar_color(\n",
    "    event_sort,  # DataFrame\n",
    "    'event_name',  # осьХ\n",
    "    'device_id_hash',  # ось Y\n",
    "    'Количество и доля СОБЫТИЙ в логах',  # название рисунка\n",
    "    'Событие',  # название оси X\n",
    "    'Количество'  # название оси Y\n",
    ")"
   ]
  },
  {
   "cell_type": "markdown",
   "metadata": {},
   "source": [
    "Почти половина событий в логах составляет - MainScreenAppear (показ главного экрана)"
   ]
  },
  {
   "cell_type": "markdown",
   "metadata": {},
   "source": [
    "## Cколько пользователей совершали каждое из этих событий"
   ]
  },
  {
   "cell_type": "code",
   "execution_count": 20,
   "metadata": {},
   "outputs": [
    {
     "data": {
      "image/svg+xml": [
       "<svg class=\"main-svg\" xmlns=\"http://www.w3.org/2000/svg\" xmlns:xlink=\"http://www.w3.org/1999/xlink\" width=\"900\" height=\"500\" style=\"\" viewBox=\"0 0 900 500\"><rect x=\"0\" y=\"0\" width=\"900\" height=\"500\" style=\"fill: rgb(255, 255, 255); fill-opacity: 1;\"/><defs id=\"defs-c7ab9e\"><g class=\"clips\"><clipPath id=\"clipc7ab9exyplot\" class=\"plotclip\"><rect width=\"532\" height=\"310\"/></clipPath><clipPath class=\"axesclip\" id=\"clipc7ab9ex\"><rect x=\"80\" y=\"0\" width=\"532\" height=\"500\"/></clipPath><clipPath class=\"axesclip\" id=\"clipc7ab9ey\"><rect x=\"0\" y=\"60\" width=\"900\" height=\"310\"/></clipPath><clipPath class=\"axesclip\" id=\"clipc7ab9exy\"><rect x=\"80\" y=\"60\" width=\"532\" height=\"310\"/></clipPath></g><g class=\"gradients\"/><g class=\"patterns\"/></defs><g class=\"bglayer\"><rect class=\"bg\" x=\"80\" y=\"60\" width=\"532\" height=\"310\" style=\"fill: rgb(229, 236, 246); fill-opacity: 1; stroke-width: 0;\"/></g><g class=\"layer-below\"><g class=\"imagelayer\"/><g class=\"shapelayer\"/></g><g class=\"cartesianlayer\"><g class=\"subplot xy\"><g class=\"layer-subplot\"><g class=\"shapelayer\"/><g class=\"imagelayer\"/></g><g class=\"gridlayer\"><g class=\"x\"/><g class=\"y\"><path class=\"ygrid crisp\" transform=\"translate(0,330.33)\" d=\"M80,0h532\" style=\"stroke: rgb(255, 255, 255); stroke-opacity: 1; stroke-width: 1px;\"/><path class=\"ygrid crisp\" transform=\"translate(0,290.65)\" d=\"M80,0h532\" style=\"stroke: rgb(255, 255, 255); stroke-opacity: 1; stroke-width: 1px;\"/><path class=\"ygrid crisp\" transform=\"translate(0,250.98)\" d=\"M80,0h532\" style=\"stroke: rgb(255, 255, 255); stroke-opacity: 1; stroke-width: 1px;\"/><path class=\"ygrid crisp\" transform=\"translate(0,211.3)\" d=\"M80,0h532\" style=\"stroke: rgb(255, 255, 255); stroke-opacity: 1; stroke-width: 1px;\"/><path class=\"ygrid crisp\" transform=\"translate(0,171.63)\" d=\"M80,0h532\" style=\"stroke: rgb(255, 255, 255); stroke-opacity: 1; stroke-width: 1px;\"/><path class=\"ygrid crisp\" transform=\"translate(0,131.95999999999998)\" d=\"M80,0h532\" style=\"stroke: rgb(255, 255, 255); stroke-opacity: 1; stroke-width: 1px;\"/><path class=\"ygrid crisp\" transform=\"translate(0,92.28)\" d=\"M80,0h532\" style=\"stroke: rgb(255, 255, 255); stroke-opacity: 1; stroke-width: 1px;\"/></g></g><g class=\"zerolinelayer\"><path class=\"yzl zl crisp\" transform=\"translate(0,370)\" d=\"M80,0h532\" style=\"stroke: rgb(255, 255, 255); stroke-opacity: 1; stroke-width: 2px;\"/></g><path class=\"xlines-below\"/><path class=\"ylines-below\"/><g class=\"overlines-below\"/><g class=\"xaxislayer-below\"/><g class=\"yaxislayer-below\"/><g class=\"overaxes-below\"/><g class=\"plot\" transform=\"translate(80,60)\" clip-path=\"url(#clipc7ab9exyplot)\"><g class=\"barlayer mlayer\"><g class=\"trace bars\" style=\"opacity: 1;\"><g class=\"points\"><g class=\"point\"><path d=\"M10.64,310V15.5H95.76V310Z\" style=\"vector-effect: non-scaling-stroke; opacity: 1; stroke-width: 0.5px; fill: rgb(99, 110, 250); fill-opacity: 1; stroke: rgb(229, 236, 246); stroke-opacity: 1;\"/><text class=\"bartext bartext-outside\" text-anchor=\"middle\" data-notex=\"1\" x=\"0\" y=\"0\" style=\"font-family: 'Open Sans', verdana, arial, sans-serif; font-size: 12px; fill: rgb(42, 63, 95); fill-opacity: 1; white-space: pre;\" transform=\"translate(53.2,9.5)\">7423</text></g></g></g><g class=\"trace bars\" style=\"opacity: 1;\"><g class=\"points\"><g class=\"point\"><path d=\"M117.04,310V127.62H202.16V310Z\" style=\"vector-effect: non-scaling-stroke; opacity: 1; stroke-width: 0.5px; fill: rgb(239, 85, 59); fill-opacity: 1; stroke: rgb(229, 236, 246); stroke-opacity: 1;\"/><text class=\"bartext bartext-outside\" text-anchor=\"middle\" data-notex=\"1\" x=\"0\" y=\"0\" style=\"font-family: 'Open Sans', verdana, arial, sans-serif; font-size: 12px; fill: rgb(42, 63, 95); fill-opacity: 1; white-space: pre;\" transform=\"translate(159.4125,121.62)\">4597</text></g></g></g><g class=\"trace bars\" style=\"opacity: 1;\"><g class=\"points\"><g class=\"point\"><path d=\"M223.44,310V161.78H308.56V310Z\" style=\"vector-effect: non-scaling-stroke; opacity: 1; stroke-width: 0.5px; fill: rgb(0, 204, 150); fill-opacity: 1; stroke: rgb(229, 236, 246); stroke-opacity: 1;\"/><text class=\"bartext bartext-outside\" text-anchor=\"middle\" data-notex=\"1\" x=\"0\" y=\"0\" style=\"font-family: 'Open Sans', verdana, arial, sans-serif; font-size: 12px; fill: rgb(42, 63, 95); fill-opacity: 1; white-space: pre;\" transform=\"translate(265.8125,155.78)\">3736</text></g></g></g><g class=\"trace bars\" style=\"opacity: 1;\"><g class=\"points\"><g class=\"point\"><path d=\"M329.84,310V169.55H414.96V310Z\" style=\"vector-effect: non-scaling-stroke; opacity: 1; stroke-width: 0.5px; fill: rgb(171, 99, 250); fill-opacity: 1; stroke: rgb(229, 236, 246); stroke-opacity: 1;\"/><text class=\"bartext bartext-outside\" text-anchor=\"middle\" data-notex=\"1\" x=\"0\" y=\"0\" style=\"font-family: 'Open Sans', verdana, arial, sans-serif; font-size: 12px; fill: rgb(42, 63, 95); fill-opacity: 1; white-space: pre;\" transform=\"translate(372.2125,163.55)\">3540</text></g></g></g><g class=\"trace bars\" style=\"opacity: 1;\"><g class=\"points\"><g class=\"point\"><path d=\"M436.24,310V276.55H521.36V310Z\" style=\"vector-effect: non-scaling-stroke; opacity: 1; stroke-width: 0.5px; fill: rgb(255, 161, 90); fill-opacity: 1; stroke: rgb(229, 236, 246); stroke-opacity: 1;\"/><text class=\"bartext bartext-outside\" text-anchor=\"middle\" data-notex=\"1\" x=\"0\" y=\"0\" style=\"font-family: 'Open Sans', verdana, arial, sans-serif; font-size: 12px; fill: rgb(42, 63, 95); fill-opacity: 1; white-space: pre;\" transform=\"translate(478.8,270.55)\">843</text></g></g></g></g></g><g class=\"overplot\"/><path class=\"xlines-above crisp\" d=\"M0,0\" style=\"fill: none;\"/><path class=\"ylines-above crisp\" d=\"M0,0\" style=\"fill: none;\"/><g class=\"overlines-above\"/><g class=\"xaxislayer-above\"><g class=\"xtick\"><text text-anchor=\"start\" x=\"0\" y=\"383\" transform=\"translate(133.2,0) rotate(30,0,377)\" style=\"font-family: 'Open Sans', verdana, arial, sans-serif; font-size: 12px; fill: rgb(42, 63, 95); fill-opacity: 1; white-space: pre; opacity: 1;\">MainScreenAppear</text></g><g class=\"xtick\"><text text-anchor=\"start\" x=\"0\" y=\"383\" transform=\"translate(239.6,0) rotate(30,0,377)\" style=\"font-family: 'Open Sans', verdana, arial, sans-serif; font-size: 12px; fill: rgb(42, 63, 95); fill-opacity: 1; white-space: pre; opacity: 1;\">OffersScreenAppear</text></g><g class=\"xtick\"><text text-anchor=\"start\" x=\"0\" y=\"383\" transform=\"translate(346,0) rotate(30,0,377)\" style=\"font-family: 'Open Sans', verdana, arial, sans-serif; font-size: 12px; fill: rgb(42, 63, 95); fill-opacity: 1; white-space: pre; opacity: 1;\">CartScreenAppear</text></g><g class=\"xtick\"><text text-anchor=\"start\" x=\"0\" y=\"383\" transform=\"translate(452.4,0) rotate(30,0,377)\" style=\"font-family: 'Open Sans', verdana, arial, sans-serif; font-size: 12px; fill: rgb(42, 63, 95); fill-opacity: 1; white-space: pre; opacity: 1;\">PaymentScreenSuccessful</text></g><g class=\"xtick\"><text text-anchor=\"start\" x=\"0\" y=\"383\" transform=\"translate(558.8,0) rotate(30,0,377)\" style=\"font-family: 'Open Sans', verdana, arial, sans-serif; font-size: 12px; fill: rgb(42, 63, 95); fill-opacity: 1; white-space: pre; opacity: 1;\">Tutorial</text></g></g><g class=\"yaxislayer-above\"><g class=\"ytick\"><text text-anchor=\"end\" x=\"79\" y=\"4.199999999999999\" transform=\"translate(0,370)\" style=\"font-family: 'Open Sans', verdana, arial, sans-serif; font-size: 12px; fill: rgb(42, 63, 95); fill-opacity: 1; white-space: pre; opacity: 1;\">0</text></g><g class=\"ytick\"><text text-anchor=\"end\" x=\"79\" y=\"4.199999999999999\" style=\"font-family: 'Open Sans', verdana, arial, sans-serif; font-size: 12px; fill: rgb(42, 63, 95); fill-opacity: 1; white-space: pre; opacity: 1;\" transform=\"translate(0,330.33)\">1000</text></g><g class=\"ytick\"><text text-anchor=\"end\" x=\"79\" y=\"4.199999999999999\" style=\"font-family: 'Open Sans', verdana, arial, sans-serif; font-size: 12px; fill: rgb(42, 63, 95); fill-opacity: 1; white-space: pre; opacity: 1;\" transform=\"translate(0,290.65)\">2000</text></g><g class=\"ytick\"><text text-anchor=\"end\" x=\"79\" y=\"4.199999999999999\" style=\"font-family: 'Open Sans', verdana, arial, sans-serif; font-size: 12px; fill: rgb(42, 63, 95); fill-opacity: 1; white-space: pre; opacity: 1;\" transform=\"translate(0,250.98)\">3000</text></g><g class=\"ytick\"><text text-anchor=\"end\" x=\"79\" y=\"4.199999999999999\" style=\"font-family: 'Open Sans', verdana, arial, sans-serif; font-size: 12px; fill: rgb(42, 63, 95); fill-opacity: 1; white-space: pre; opacity: 1;\" transform=\"translate(0,211.3)\">4000</text></g><g class=\"ytick\"><text text-anchor=\"end\" x=\"79\" y=\"4.199999999999999\" style=\"font-family: 'Open Sans', verdana, arial, sans-serif; font-size: 12px; fill: rgb(42, 63, 95); fill-opacity: 1; white-space: pre; opacity: 1;\" transform=\"translate(0,171.63)\">5000</text></g><g class=\"ytick\"><text text-anchor=\"end\" x=\"79\" y=\"4.199999999999999\" style=\"font-family: 'Open Sans', verdana, arial, sans-serif; font-size: 12px; fill: rgb(42, 63, 95); fill-opacity: 1; white-space: pre; opacity: 1;\" transform=\"translate(0,131.95999999999998)\">6000</text></g><g class=\"ytick\"><text text-anchor=\"end\" x=\"79\" y=\"4.199999999999999\" style=\"font-family: 'Open Sans', verdana, arial, sans-serif; font-size: 12px; fill: rgb(42, 63, 95); fill-opacity: 1; white-space: pre; opacity: 1;\" transform=\"translate(0,92.28)\">7000</text></g></g><g class=\"overaxes-above\"/></g></g><g class=\"polarlayer\"/><g class=\"ternarylayer\"/><g class=\"geolayer\"/><g class=\"funnelarealayer\"/><g class=\"pielayer\"/><g class=\"iciclelayer\"/><g class=\"treemaplayer\"/><g class=\"sunburstlayer\"/><g class=\"glimages\"/><defs id=\"topdefs-c7ab9e\"><g class=\"clips\"/><clipPath id=\"legendc7ab9e\"><rect width=\"265\" height=\"124\" x=\"0\" y=\"0\"/></clipPath></defs><g class=\"layer-above\"><g class=\"imagelayer\"/><g class=\"shapelayer\"/></g><g class=\"infolayer\"><g class=\"legend\" pointer-events=\"all\" transform=\"translate(622.64,60)\"><rect class=\"bg\" shape-rendering=\"crispEdges\" style=\"stroke: rgb(68, 68, 68); stroke-opacity: 1; fill: rgb(255, 255, 255); fill-opacity: 1; stroke-width: 0px;\" width=\"265\" height=\"124\" x=\"0\" y=\"0\"/><g class=\"scrollbox\" transform=\"\" clip-path=\"url(#legendc7ab9e)\"><text class=\"legendtitletext\" text-anchor=\"start\" x=\"2\" y=\"18.2\" style=\"font-family: 'Open Sans', verdana, arial, sans-serif; font-size: 14px; fill: rgb(42, 63, 95); fill-opacity: 1; white-space: pre;\">event_name</text><g class=\"groups\" transform=\"\"><g class=\"traces\" transform=\"translate(0,32.7)\" style=\"opacity: 1;\"><text class=\"legendtext\" text-anchor=\"start\" x=\"40\" y=\"4.680000000000001\" style=\"font-family: 'Open Sans', verdana, arial, sans-serif; font-size: 12px; fill: rgb(42, 63, 95); fill-opacity: 1; white-space: pre;\">MainScreenAppear (98.47%)</text><g class=\"layers\" style=\"opacity: 1;\"><g class=\"legendfill\"/><g class=\"legendlines\"/><g class=\"legendsymbols\"><g class=\"legendpoints\"><path class=\"legendundefined\" d=\"M6,6H-6V-6H6Z\" transform=\"translate(20,0)\" style=\"stroke-width: 0.5px; fill: rgb(99, 110, 250); fill-opacity: 1; stroke: rgb(229, 236, 246); stroke-opacity: 1;\"/></g></g></g><rect class=\"legendtoggle\" x=\"0\" y=\"-9.5\" width=\"259.75\" height=\"19\" style=\"fill: rgb(0, 0, 0); fill-opacity: 0;\"/></g></g><g class=\"groups\" transform=\"\"><g class=\"traces\" transform=\"translate(0,51.7)\" style=\"opacity: 1;\"><text class=\"legendtext\" text-anchor=\"start\" x=\"40\" y=\"4.680000000000001\" style=\"font-family: 'Open Sans', verdana, arial, sans-serif; font-size: 12px; fill: rgb(42, 63, 95); fill-opacity: 1; white-space: pre;\">OffersScreenAppear (60.98%)</text><g class=\"layers\" style=\"opacity: 1;\"><g class=\"legendfill\"/><g class=\"legendlines\"/><g class=\"legendsymbols\"><g class=\"legendpoints\"><path class=\"legendundefined\" d=\"M6,6H-6V-6H6Z\" transform=\"translate(20,0)\" style=\"stroke-width: 0.5px; fill: rgb(239, 85, 59); fill-opacity: 1; stroke: rgb(229, 236, 246); stroke-opacity: 1;\"/></g></g></g><rect class=\"legendtoggle\" x=\"0\" y=\"-9.5\" width=\"259.75\" height=\"19\" style=\"fill: rgb(0, 0, 0); fill-opacity: 0;\"/></g></g><g class=\"groups\" transform=\"\"><g class=\"traces\" transform=\"translate(0,70.7)\" style=\"opacity: 1;\"><text class=\"legendtext\" text-anchor=\"start\" x=\"40\" y=\"4.680000000000001\" style=\"font-family: 'Open Sans', verdana, arial, sans-serif; font-size: 12px; fill: rgb(42, 63, 95); fill-opacity: 1; white-space: pre;\">CartScreenAppear (49.56%)</text><g class=\"layers\" style=\"opacity: 1;\"><g class=\"legendfill\"/><g class=\"legendlines\"/><g class=\"legendsymbols\"><g class=\"legendpoints\"><path class=\"legendundefined\" d=\"M6,6H-6V-6H6Z\" transform=\"translate(20,0)\" style=\"stroke-width: 0.5px; fill: rgb(0, 204, 150); fill-opacity: 1; stroke: rgb(229, 236, 246); stroke-opacity: 1;\"/></g></g></g><rect class=\"legendtoggle\" x=\"0\" y=\"-9.5\" width=\"259.75\" height=\"19\" style=\"fill: rgb(0, 0, 0); fill-opacity: 0;\"/></g></g><g class=\"groups\" transform=\"\"><g class=\"traces\" transform=\"translate(0,89.7)\" style=\"opacity: 1;\"><text class=\"legendtext\" text-anchor=\"start\" x=\"40\" y=\"4.680000000000001\" style=\"font-family: 'Open Sans', verdana, arial, sans-serif; font-size: 12px; fill: rgb(42, 63, 95); fill-opacity: 1; white-space: pre;\">PaymentScreenSuccessful (46.96%)</text><g class=\"layers\" style=\"opacity: 1;\"><g class=\"legendfill\"/><g class=\"legendlines\"/><g class=\"legendsymbols\"><g class=\"legendpoints\"><path class=\"legendundefined\" d=\"M6,6H-6V-6H6Z\" transform=\"translate(20,0)\" style=\"stroke-width: 0.5px; fill: rgb(171, 99, 250); fill-opacity: 1; stroke: rgb(229, 236, 246); stroke-opacity: 1;\"/></g></g></g><rect class=\"legendtoggle\" x=\"0\" y=\"-9.5\" width=\"259.75\" height=\"19\" style=\"fill: rgb(0, 0, 0); fill-opacity: 0;\"/></g></g><g class=\"groups\" transform=\"\"><g class=\"traces\" transform=\"translate(0,108.7)\" style=\"opacity: 1;\"><text class=\"legendtext\" text-anchor=\"start\" x=\"40\" y=\"4.680000000000001\" style=\"font-family: 'Open Sans', verdana, arial, sans-serif; font-size: 12px; fill: rgb(42, 63, 95); fill-opacity: 1; white-space: pre;\">Tutorial (11.18%)</text><g class=\"layers\" style=\"opacity: 1;\"><g class=\"legendfill\"/><g class=\"legendlines\"/><g class=\"legendsymbols\"><g class=\"legendpoints\"><path class=\"legendundefined\" d=\"M6,6H-6V-6H6Z\" transform=\"translate(20,0)\" style=\"stroke-width: 0.5px; fill: rgb(255, 161, 90); fill-opacity: 1; stroke: rgb(229, 236, 246); stroke-opacity: 1;\"/></g></g></g><rect class=\"legendtoggle\" x=\"0\" y=\"-9.5\" width=\"259.75\" height=\"19\" style=\"fill: rgb(0, 0, 0); fill-opacity: 0;\"/></g></g></g><rect class=\"scrollbar\" rx=\"20\" ry=\"3\" width=\"0\" height=\"0\" style=\"fill: rgb(128, 139, 164); fill-opacity: 1;\" x=\"0\" y=\"0\"/></g><g class=\"g-gtitle\"><text class=\"gtitle\" x=\"45\" y=\"30\" text-anchor=\"start\" dy=\"0em\" style=\"font-family: 'Open Sans', verdana, arial, sans-serif; font-size: 17px; fill: rgb(42, 63, 95); opacity: 1; font-weight: normal; white-space: pre;\">Количество и доля ПОЛЬЗОВАТЛЕЙ в событиях</text></g><g class=\"g-xtitle\"><text class=\"xtitle\" x=\"346\" y=\"488.0080078125\" text-anchor=\"middle\" style=\"font-family: 'Open Sans', verdana, arial, sans-serif; font-size: 14px; fill: rgb(42, 63, 95); opacity: 1; font-weight: normal; white-space: pre;\">Событие</text></g><g class=\"g-ytitle\"><text class=\"ytitle\" transform=\"rotate(-90,23.684375000000003,215)\" x=\"23.684375000000003\" y=\"215\" text-anchor=\"middle\" style=\"font-family: 'Open Sans', verdana, arial, sans-serif; font-size: 14px; fill: rgb(42, 63, 95); opacity: 1; font-weight: normal; white-space: pre;\">Количество</text></g></g></svg>"
      ]
     },
     "metadata": {},
     "output_type": "display_data"
    }
   ],
   "source": [
    "event_sort_id = data.groupby('event_name', as_index=False).agg(\n",
    "    {'device_id_hash': 'nunique'}).sort_values(by='device_id_hash', ascending=False)\n",
    "\n",
    "event_sort_id = event_sort_id.rename(\n",
    "    columns={'device_id_hash': 'user_id_count'})\n",
    "event_sort_id['percent'] = (\n",
    "    (event_sort_id['user_id_count'] / data['device_id_hash'].nunique()) * 100).round(2)\n",
    "\n",
    "# Графически отобразим результаты\n",
    "bar_color(\n",
    "    event_sort_id,  # DataFrame\n",
    "    'event_name',  # осьХ\n",
    "    'user_id_count',  # осьY\n",
    "    'Количество и доля ПОЛЬЗОВАТЛЕЙ в событиях',  # название рисунка\n",
    "    'Событие',  # название осиX\n",
    "    'Количество'  # название осиY\n",
    ")"
   ]
  },
  {
   "cell_type": "markdown",
   "metadata": {},
   "source": [
    "**MainScreenAppear** совершили 98.47% пользователей, 60.96% - **OffersScreenAppear**, 49.56% - **CartScreenAppear**, 46.97% - **PaymentScreenSuccessful**, 11.15% - **Tutorial**."
   ]
  },
  {
   "cell_type": "markdown",
   "metadata": {},
   "source": [
    "## В каком порядке происходят события"
   ]
  },
  {
   "cell_type": "markdown",
   "metadata": {},
   "source": [
    "сначала открывает главную страницу приложения(MainScreenAppear)<br>\n",
    "&#8595;<br>\n",
    "потом в каталоге выбирает товары(OffersScreenAppear)<br>\n",
    "&#8595;<br>\n",
    "кладёт их в корзину(CartScreenAppear)<br>\n",
    "&#8595;<br>\n",
    "и оплачивает(PaymentScreenSuccessful)<br>"
   ]
  },
  {
   "cell_type": "markdown",
   "metadata": {},
   "source": [
    "## Какая доля пользователей проходит на следующий шаг воронки"
   ]
  },
  {
   "cell_type": "code",
   "execution_count": 21,
   "metadata": {},
   "outputs": [
    {
     "data": {
      "image/svg+xml": [
       "<svg class=\"main-svg\" xmlns=\"http://www.w3.org/2000/svg\" xmlns:xlink=\"http://www.w3.org/1999/xlink\" width=\"900\" height=\"500\" style=\"\" viewBox=\"0 0 900 500\"><rect x=\"0\" y=\"0\" width=\"900\" height=\"500\" style=\"fill: rgb(255, 255, 255); fill-opacity: 1;\"/><defs id=\"defs-d17d34\"><g class=\"clips\"><clipPath id=\"clipd17d34xyplot\" class=\"plotclip\"><rect width=\"650\" height=\"320\"/></clipPath><clipPath class=\"axesclip\" id=\"clipd17d34x\"><rect x=\"170\" y=\"0\" width=\"650\" height=\"500\"/></clipPath><clipPath class=\"axesclip\" id=\"clipd17d34y\"><rect x=\"0\" y=\"100\" width=\"900\" height=\"320\"/></clipPath><clipPath class=\"axesclip\" id=\"clipd17d34xy\"><rect x=\"170\" y=\"100\" width=\"650\" height=\"320\"/></clipPath></g><g class=\"gradients\"/><g class=\"patterns\"/></defs><g class=\"bglayer\"><rect class=\"bg\" x=\"170\" y=\"100\" width=\"650\" height=\"320\" style=\"fill: rgb(255, 255, 255); fill-opacity: 1; stroke-width: 0;\"/></g><g class=\"layer-below\"><g class=\"imagelayer\"/><g class=\"shapelayer\"/></g><g class=\"cartesianlayer\"><g class=\"subplot xy\"><g class=\"layer-subplot\"><g class=\"shapelayer\"/><g class=\"imagelayer\"/></g><g class=\"gridlayer\"><g class=\"x\"/><g class=\"y\"/></g><g class=\"zerolinelayer\"/><path class=\"xlines-below\"/><path class=\"ylines-below\"/><g class=\"overlines-below\"/><g class=\"xaxislayer-below\"/><g class=\"yaxislayer-below\"/><g class=\"overaxes-below\"/><g class=\"plot\" transform=\"translate(170,100)\" clip-path=\"url(#clipd17d34xyplot)\"><g class=\"funnellayer mlayer\"><g class=\"trace bars\" style=\"opacity: 0.95;\"><g class=\"regions\"><g class=\"region\"><path d=\"M32.5,72L143.86,88H506.14L617.5,72Z\" style=\"stroke-width: 0; fill: rgb(0, 0, 0); fill-opacity: 0.5;\"/></g><g class=\"region\"><path d=\"M143.86,152L177.78,168H472.22L506.14,152Z\" style=\"stroke-width: 0; fill: rgb(0, 0, 0); fill-opacity: 0.5;\"/></g><g class=\"region\"><path d=\"M177.78,232L185.51,248H464.49L472.22,232Z\" style=\"stroke-width: 0; fill: rgb(0, 0, 0); fill-opacity: 0.5;\"/></g><g class=\"region\"><path d=\"M0,0Z\" style=\"stroke-width: 0; fill: rgb(0, 0, 0); fill-opacity: 0.5;\"/></g></g><g class=\"points\"><g class=\"point\"><path d=\"M32.5,8V72H617.5V8Z\" style=\"vector-effect: non-scaling-stroke; fill: rgb(255, 28, 28); fill-opacity: 1; stroke: rgb(68, 68, 68); stroke-opacity: 1; stroke-width: 0px; opacity: 1;\"/><text class=\"bartext bartext-inside\" text-anchor=\"middle\" data-notex=\"1\" x=\"0\" y=\"0\" style=\"font-family: 'Open Sans', verdana, arial, sans-serif; font-size: 12px; fill: rgb(255, 255, 255); fill-opacity: 1; white-space: pre;\" transform=\"translate(324.953125,36.6953125)\"><tspan class=\"line\" dy=\"0em\" x=\"0\" y=\"0\">7423</tspan><tspan class=\"line\" dy=\"1.3em\" x=\"0\" y=\"0\">100%</tspan></text></g><g class=\"point\"><path d=\"M143.86,88V152H506.14V88Z\" style=\"vector-effect: non-scaling-stroke; fill: rgb(255, 200, 0); fill-opacity: 1; stroke: rgb(68, 68, 68); stroke-opacity: 1; stroke-width: 0px; opacity: 1;\"/><text class=\"bartext bartext-inside\" text-anchor=\"middle\" data-notex=\"1\" x=\"0\" y=\"0\" style=\"font-family: 'Open Sans', verdana, arial, sans-serif; font-size: 12px; fill: rgb(68, 68, 68); fill-opacity: 1; white-space: pre;\" transform=\"translate(324.8125,116.6953125)\"><tspan class=\"line\" dy=\"0em\" x=\"0\" y=\"0\">4597</tspan><tspan class=\"line\" dy=\"1.3em\" x=\"0\" y=\"0\">62%</tspan></text></g><g class=\"point\"><path d=\"M177.78,168V232H472.22V168Z\" style=\"vector-effect: non-scaling-stroke; fill: rgb(0, 255, 161); fill-opacity: 1; stroke: rgb(68, 68, 68); stroke-opacity: 1; stroke-width: 0px; opacity: 1;\"/><text class=\"bartext bartext-inside\" text-anchor=\"middle\" data-notex=\"1\" x=\"0\" y=\"0\" style=\"font-family: 'Open Sans', verdana, arial, sans-serif; font-size: 12px; fill: rgb(68, 68, 68); fill-opacity: 1; white-space: pre;\" transform=\"translate(324.8125,196.6953125)\"><tspan class=\"line\" dy=\"0em\" x=\"0\" y=\"0\">3736</tspan><tspan class=\"line\" dy=\"1.3em\" x=\"0\" y=\"0\">50%</tspan></text></g><g class=\"point\"><path d=\"M185.51,248V312H464.49V248Z\" style=\"vector-effect: non-scaling-stroke; fill: rgb(0, 238, 255); fill-opacity: 1; stroke: rgb(68, 68, 68); stroke-opacity: 1; stroke-width: 0px; opacity: 1;\"/><text class=\"bartext bartext-inside\" text-anchor=\"middle\" data-notex=\"1\" x=\"0\" y=\"0\" style=\"font-family: 'Open Sans', verdana, arial, sans-serif; font-size: 12px; fill: rgb(68, 68, 68); fill-opacity: 1; white-space: pre;\" transform=\"translate(324.8125,276.6953125)\"><tspan class=\"line\" dy=\"0em\" x=\"0\" y=\"0\">3540</tspan><tspan class=\"line\" dy=\"1.3em\" x=\"0\" y=\"0\">48%</tspan></text></g></g></g></g></g><g class=\"overplot\"/><path class=\"xlines-above crisp\" d=\"M0,0\" style=\"fill: none;\"/><path class=\"ylines-above crisp\" d=\"M0,0\" style=\"fill: none;\"/><g class=\"overlines-above\"/><g class=\"xaxislayer-above\"/><g class=\"yaxislayer-above\"><g class=\"ytick\"><text text-anchor=\"end\" x=\"169\" y=\"4.199999999999999\" transform=\"translate(0,380)\" style=\"font-family: 'Open Sans', verdana, arial, sans-serif; font-size: 12px; fill: rgb(42, 63, 95); fill-opacity: 1; white-space: pre; opacity: 1;\">PaymentScreenSuccessful</text></g><g class=\"ytick\"><text text-anchor=\"end\" x=\"169\" y=\"4.199999999999999\" transform=\"translate(0,300)\" style=\"font-family: 'Open Sans', verdana, arial, sans-serif; font-size: 12px; fill: rgb(42, 63, 95); fill-opacity: 1; white-space: pre; opacity: 1;\">CartScreenAppear</text></g><g class=\"ytick\"><text text-anchor=\"end\" x=\"169\" y=\"4.199999999999999\" transform=\"translate(0,220)\" style=\"font-family: 'Open Sans', verdana, arial, sans-serif; font-size: 12px; fill: rgb(42, 63, 95); fill-opacity: 1; white-space: pre; opacity: 1;\">OffersScreenAppear</text></g><g class=\"ytick\"><text text-anchor=\"end\" x=\"169\" y=\"4.199999999999999\" transform=\"translate(0,140)\" style=\"font-family: 'Open Sans', verdana, arial, sans-serif; font-size: 12px; fill: rgb(42, 63, 95); fill-opacity: 1; white-space: pre; opacity: 1;\">MainScreenAppear</text></g></g><g class=\"overaxes-above\"/></g></g><g class=\"polarlayer\"/><g class=\"ternarylayer\"/><g class=\"geolayer\"/><g class=\"funnelarealayer\"/><g class=\"pielayer\"/><g class=\"iciclelayer\"/><g class=\"treemaplayer\"/><g class=\"sunburstlayer\"/><g class=\"glimages\"/><defs id=\"topdefs-d17d34\"><g class=\"clips\"/></defs><g class=\"layer-above\"><g class=\"imagelayer\"/><g class=\"shapelayer\"/></g><g class=\"infolayer\"><g class=\"g-gtitle\"><text class=\"gtitle\" x=\"45\" y=\"50\" text-anchor=\"start\" dy=\"0em\" style=\"font-family: 'Open Sans', verdana, arial, sans-serif; font-size: 17px; fill: rgb(42, 63, 95); opacity: 1; font-weight: normal; white-space: pre;\">Воронка пользователей событий</text></g><g class=\"g-ytitle\"/></g></svg>"
      ]
     },
     "metadata": {},
     "output_type": "display_data"
    }
   ],
   "source": [
    "df_funnel = event_sort_id[event_sort_id['event_name'] != 'Tutorial']\n",
    "fig = go.Figure(go.Funnel(\n",
    "    y=df_funnel['event_name'],\n",
    "    x=df_funnel['user_id_count'],\n",
    "    textposition=\"inside\",\n",
    "    textinfo=\"value+percent initial\",\n",
    "    opacity=0.95,\n",
    "    hoverinfo='y',\n",
    "    marker={\"color\": [\"#ff1c1c\", \"#ffc800\", \"#00ffa1\", \"#0ef\", \"#7f00ff\"]})\n",
    ")\n",
    "fig.update_layout(\n",
    "    title='Воронка пользователей событий', plot_bgcolor='#ffffff', width=900, height=500)\n",
    "fig.show('svg')"
   ]
  },
  {
   "cell_type": "markdown",
   "metadata": {},
   "source": [
    "**Вывод:**\n",
    "- почти половина событий в логах составляет - MainScreenAppear (показ главного экрана);\n",
    "- MainScreenAppear совершили 98.47% пользователей, 60.96% - OffersScreenAppear, 49.56% - CartScreenAppear, 46.97% - PaymentScreenSuccessful, 11.15% - Tutorial\n",
    "- 48% пользователей доходит до совершения покупки."
   ]
  },
  {
   "cell_type": "markdown",
   "metadata": {},
   "source": [
    "# Шаг 5. Изучите результаты эксперимента"
   ]
  },
  {
   "cell_type": "markdown",
   "metadata": {},
   "source": [
    "## Количество пользователей в каждой экспериментальной группе"
   ]
  },
  {
   "cell_type": "code",
   "execution_count": 22,
   "metadata": {
    "scrolled": false
   },
   "outputs": [
    {
     "name": "stderr",
     "output_type": "stream",
     "text": [
      "<ipython-input-22-4d4dafb555da>:4: DeprecationWarning:\n",
      "\n",
      "The default dtype for empty Series will be 'object' instead of 'float64' in a future version. Specify a dtype explicitly to silence this warning.\n",
      "\n"
     ]
    },
    {
     "data": {
      "text/html": [
       "<div>\n",
       "<style scoped>\n",
       "    .dataframe tbody tr th:only-of-type {\n",
       "        vertical-align: middle;\n",
       "    }\n",
       "\n",
       "    .dataframe tbody tr th {\n",
       "        vertical-align: top;\n",
       "    }\n",
       "\n",
       "    .dataframe thead th {\n",
       "        text-align: right;\n",
       "    }\n",
       "</style>\n",
       "<table border=\"1\" class=\"dataframe\">\n",
       "  <thead>\n",
       "    <tr style=\"text-align: right;\">\n",
       "      <th></th>\n",
       "      <th>n_users</th>\n",
       "    </tr>\n",
       "  </thead>\n",
       "  <tbody>\n",
       "    <tr>\n",
       "      <th>246</th>\n",
       "      <td>2484</td>\n",
       "    </tr>\n",
       "    <tr>\n",
       "      <th>247</th>\n",
       "      <td>2517</td>\n",
       "    </tr>\n",
       "    <tr>\n",
       "      <th>248</th>\n",
       "      <td>2537</td>\n",
       "    </tr>\n",
       "    <tr>\n",
       "      <th>246+247</th>\n",
       "      <td>5001</td>\n",
       "    </tr>\n",
       "  </tbody>\n",
       "</table>\n",
       "</div>"
      ],
      "text/plain": [
       "         n_users\n",
       "246         2484\n",
       "247         2517\n",
       "248         2537\n",
       "246+247     5001"
      ]
     },
     "execution_count": 22,
     "metadata": {},
     "output_type": "execute_result"
    }
   ],
   "source": [
    "n_users = data.groupby('exp_id').agg({'device_id_hash': 'nunique'})\n",
    "n_users.columns = ['n_users']\n",
    "n_users.index.names = [None]\n",
    "n_users = n_users.append(pd.Series(name='246+247'))\n",
    "n_users['n_users'].loc['246+247'] = int(n_users.loc[246] + n_users.loc[247])\n",
    "n_users['n_users'] = n_users['n_users'].astype(int)\n",
    "n_users"
   ]
  },
  {
   "cell_type": "markdown",
   "metadata": {},
   "source": [
    "В 246 группе учавствует 2484 пользователей, в 247 группе - 2513, в 248 группе - 2537 пользователей."
   ]
  },
  {
   "cell_type": "markdown",
   "metadata": {},
   "source": [
    "## Число пользователей, совершивших каждое событие в каждой из контрольных групп:"
   ]
  },
  {
   "cell_type": "markdown",
   "metadata": {},
   "source": [
    "Определим в каждом контроьной группе и в каждом событии количество уникальных пользователей:"
   ]
  },
  {
   "cell_type": "code",
   "execution_count": 23,
   "metadata": {
    "scrolled": true
   },
   "outputs": [
    {
     "data": {
      "text/html": [
       "<div>\n",
       "<style scoped>\n",
       "    .dataframe tbody tr th:only-of-type {\n",
       "        vertical-align: middle;\n",
       "    }\n",
       "\n",
       "    .dataframe tbody tr th {\n",
       "        vertical-align: top;\n",
       "    }\n",
       "\n",
       "    .dataframe thead th {\n",
       "        text-align: right;\n",
       "    }\n",
       "</style>\n",
       "<table border=\"1\" class=\"dataframe\">\n",
       "  <thead>\n",
       "    <tr style=\"text-align: right;\">\n",
       "      <th></th>\n",
       "      <th>event_name</th>\n",
       "      <th>n_events</th>\n",
       "      <th>n_users</th>\n",
       "    </tr>\n",
       "  </thead>\n",
       "  <tbody>\n",
       "    <tr>\n",
       "      <th>0</th>\n",
       "      <td>MainScreenAppear</td>\n",
       "      <td>117889</td>\n",
       "      <td>7423</td>\n",
       "    </tr>\n",
       "    <tr>\n",
       "      <th>1</th>\n",
       "      <td>OffersScreenAppear</td>\n",
       "      <td>46531</td>\n",
       "      <td>4597</td>\n",
       "    </tr>\n",
       "    <tr>\n",
       "      <th>2</th>\n",
       "      <td>CartScreenAppear</td>\n",
       "      <td>42343</td>\n",
       "      <td>3736</td>\n",
       "    </tr>\n",
       "    <tr>\n",
       "      <th>3</th>\n",
       "      <td>PaymentScreenSuccessful</td>\n",
       "      <td>33951</td>\n",
       "      <td>3540</td>\n",
       "    </tr>\n",
       "    <tr>\n",
       "      <th>4</th>\n",
       "      <td>Tutorial</td>\n",
       "      <td>1010</td>\n",
       "      <td>843</td>\n",
       "    </tr>\n",
       "  </tbody>\n",
       "</table>\n",
       "</div>"
      ],
      "text/plain": [
       "                event_name  n_events  n_users\n",
       "0         MainScreenAppear    117889     7423\n",
       "1       OffersScreenAppear     46531     4597\n",
       "2         CartScreenAppear     42343     3736\n",
       "3  PaymentScreenSuccessful     33951     3540\n",
       "4                 Tutorial      1010      843"
      ]
     },
     "execution_count": 23,
     "metadata": {},
     "output_type": "execute_result"
    }
   ],
   "source": [
    "events = data.groupby('event_name')['device_id_hash'].agg(\n",
    "    ['count', 'nunique']).sort_values(by='nunique', ascending=False) .reset_index()\n",
    "\n",
    "events.columns =['event_name', 'n_events', 'n_users']\n",
    "events"
   ]
  },
  {
   "cell_type": "markdown",
   "metadata": {},
   "source": [
    "Посчитаем количество уникальных пользователей каждой контрольной группы в каждом событии:"
   ]
  },
  {
   "cell_type": "code",
   "execution_count": 24,
   "metadata": {},
   "outputs": [
    {
     "data": {
      "text/html": [
       "<div>\n",
       "<style scoped>\n",
       "    .dataframe tbody tr th:only-of-type {\n",
       "        vertical-align: middle;\n",
       "    }\n",
       "\n",
       "    .dataframe tbody tr th {\n",
       "        vertical-align: top;\n",
       "    }\n",
       "\n",
       "    .dataframe thead th {\n",
       "        text-align: right;\n",
       "    }\n",
       "</style>\n",
       "<table border=\"1\" class=\"dataframe\">\n",
       "  <thead>\n",
       "    <tr style=\"text-align: right;\">\n",
       "      <th></th>\n",
       "      <th>247</th>\n",
       "      <th>248</th>\n",
       "      <th>246</th>\n",
       "      <th>total</th>\n",
       "      <th>246+247</th>\n",
       "    </tr>\n",
       "  </thead>\n",
       "  <tbody>\n",
       "    <tr>\n",
       "      <th>MainScreenAppear</th>\n",
       "      <td>2479</td>\n",
       "      <td>2494</td>\n",
       "      <td>2450</td>\n",
       "      <td>7423.0</td>\n",
       "      <td>4929</td>\n",
       "    </tr>\n",
       "    <tr>\n",
       "      <th>OffersScreenAppear</th>\n",
       "      <td>1524</td>\n",
       "      <td>1531</td>\n",
       "      <td>1542</td>\n",
       "      <td>4597.0</td>\n",
       "      <td>3066</td>\n",
       "    </tr>\n",
       "    <tr>\n",
       "      <th>PaymentScreenSuccessful</th>\n",
       "      <td>1158</td>\n",
       "      <td>1182</td>\n",
       "      <td>1200</td>\n",
       "      <td>3540.0</td>\n",
       "      <td>2358</td>\n",
       "    </tr>\n",
       "    <tr>\n",
       "      <th>CartScreenAppear</th>\n",
       "      <td>1239</td>\n",
       "      <td>1231</td>\n",
       "      <td>1266</td>\n",
       "      <td>3736.0</td>\n",
       "      <td>2505</td>\n",
       "    </tr>\n",
       "  </tbody>\n",
       "</table>\n",
       "</div>"
      ],
      "text/plain": [
       "                          247   248   246   total 246+247\n",
       "MainScreenAppear         2479  2494  2450  7423.0    4929\n",
       "OffersScreenAppear       1524  1531  1542  4597.0    3066\n",
       "PaymentScreenSuccessful  1158  1182  1200  3540.0    2358\n",
       "CartScreenAppear         1239  1231  1266  3736.0    2505"
      ]
     },
     "execution_count": 24,
     "metadata": {},
     "output_type": "execute_result"
    }
   ],
   "source": [
    "event_name_dict = data['event_name'].unique()\n",
    "groups = data['exp_id'].unique()\n",
    "simple_funnel = pd.DataFrame(columns=groups, index=event_name_dict)\n",
    "for group in simple_funnel:\n",
    "    for event in simple_funnel.index:\n",
    "        simple_funnel.loc[event, group] = \\\n",
    "            data[(data['exp_id'] == group) & (\n",
    "                data['event_name'] == event)]['device_id_hash'].nunique()\n",
    "simple_funnel.sort_values(by=246, ascending=False)\n",
    "simple_funnel['total'] = simple_funnel.sum(axis=1)\n",
    "simple_funnel['246+247'] = simple_funnel[246] + simple_funnel[247]\n",
    "simple_funnel = simple_funnel.drop(index='Tutorial')\n",
    "simple_funnel"
   ]
  },
  {
   "cell_type": "markdown",
   "metadata": {},
   "source": [
    "## Статистические критерии разницу между выборками 246 и 247 группами"
   ]
  },
  {
   "cell_type": "markdown",
   "metadata": {},
   "source": [
    "Выполним проверку гипотезы о равенстве долей Z-критерием:"
   ]
  },
  {
   "cell_type": "markdown",
   "metadata": {},
   "source": [
    "$$Z = \\frac{(P_1 - P_2) - (\\pi_1 - \\pi_2)}{ \\sqrt{P(1 - P)(1/n_1 + 1/n_2)}}$$"
   ]
  },
  {
   "cell_type": "markdown",
   "metadata": {},
   "source": [
    "В A/B-тестировании чаще всего проверяют гипотезу о равенстве π₁ и π₂, поэтому это значение равняется 0"
   ]
  },
  {
   "cell_type": "code",
   "execution_count": 25,
   "metadata": {
    "scrolled": true
   },
   "outputs": [],
   "source": [
    "def z_value(first_group, second_group, alpha, color):\n",
    "    for i in simple_funnel.index:\n",
    "        alpha = alpha\n",
    "        p1 = simple_funnel[first_group][i] / n_users.loc[first_group]\n",
    "        # пропорция успехов во второй группе:\n",
    "        p2 = simple_funnel[second_group][i] / n_users.loc[second_group]\n",
    "        # пропорция успехов в комбинированном датасете:\n",
    "        p_combined = ((simple_funnel[first_group][i] + simple_funnel[second_group][i]) /\n",
    "                      (n_users.loc[first_group] + n_users.loc[second_group]))\n",
    "        # разница пропорций в датасетах\n",
    "        difference = p1 - p2\n",
    "        # считаем статистику в ст.отклонениях стандартного нормального распределения\n",
    "        z_value = difference / mth.sqrt(p_combined * (1 - p_combined) *\n",
    "                                        (1/n_users.loc[first_group] + 1/n_users.loc[second_group]))\n",
    "        # задаем стандартное нормальное распределение (среднее 0, ст.отклонение 1)\n",
    "        distr = st.norm(0, 1)\n",
    "        p_value = (1 - distr.cdf(abs(z_value))) * 2\n",
    "        print('{} p-значение: {}'.format(i, p_value))\n",
    "        if (p_value < alpha):\n",
    "            print(\"Отвергаем нулевую гипотезу: между долями есть значимая разница\")\n",
    "        else:\n",
    "            print(\n",
    "                \"Не получилось отвергнуть нулевую гипотезу, нет оснований считать доли разными\")\n",
    "        print('')\n",
    "\n",
    "    fig = go.Figure()\n",
    "    for i, group in enumerate([first_group, second_group]):\n",
    "        fig.add_trace(go.Funnel(\n",
    "            name=str(group),\n",
    "            y=simple_funnel.index,\n",
    "            x=simple_funnel[group],\n",
    "            textposition=\"inside\",\n",
    "            textinfo=\"value+percent initial\",\n",
    "            connector={\"fillcolor\": '#c7c7c7'},\n",
    "            hoverinfo='y',\n",
    "            marker={\"color\": colors[i+color]},\n",
    "            insidetextfont={'color': 'white', 'size': 14}))\n",
    "    fig.update_layout(title=dict(text='Воронка пользователей событий по контрольным группам ' + str(first_group) + ' и ' + str(second_group)),\n",
    "                      plot_bgcolor='#ffffff', width=900, height=500)\n",
    "    fig.show('svg')"
   ]
  },
  {
   "cell_type": "markdown",
   "metadata": {},
   "source": [
    "**Нулевая гипотеза:** доля между группами 246 и 247 равна\n",
    "\n",
    "**Альтернативная гипотеза:** доля между группами 246 и 247 различается"
   ]
  },
  {
   "cell_type": "code",
   "execution_count": 26,
   "metadata": {},
   "outputs": [
    {
     "name": "stdout",
     "output_type": "stream",
     "text": [
      "MainScreenAppear p-значение: [0.67562177]\n",
      "Не получилось отвергнуть нулевую гипотезу, нет оснований считать доли разными\n",
      "\n",
      "OffersScreenAppear p-значение: [0.26698769]\n",
      "Не получилось отвергнуть нулевую гипотезу, нет оснований считать доли разными\n",
      "\n",
      "PaymentScreenSuccessful p-значение: [0.10298395]\n",
      "Не получилось отвергнуть нулевую гипотезу, нет оснований считать доли разными\n",
      "\n",
      "CartScreenAppear p-значение: [0.21828121]\n",
      "Не получилось отвергнуть нулевую гипотезу, нет оснований считать доли разными\n",
      "\n"
     ]
    },
    {
     "data": {
      "image/svg+xml": [
       "<svg class=\"main-svg\" xmlns=\"http://www.w3.org/2000/svg\" xmlns:xlink=\"http://www.w3.org/1999/xlink\" width=\"900\" height=\"500\" style=\"\" viewBox=\"0 0 900 500\"><rect x=\"0\" y=\"0\" width=\"900\" height=\"500\" style=\"fill: rgb(255, 255, 255); fill-opacity: 1;\"/><defs id=\"defs-8f5fe5\"><g class=\"clips\"><clipPath id=\"clip8f5fe5xyplot\" class=\"plotclip\"><rect width=\"636\" height=\"320\"/></clipPath><clipPath class=\"axesclip\" id=\"clip8f5fe5x\"><rect x=\"170\" y=\"0\" width=\"636\" height=\"500\"/></clipPath><clipPath class=\"axesclip\" id=\"clip8f5fe5y\"><rect x=\"0\" y=\"100\" width=\"900\" height=\"320\"/></clipPath><clipPath class=\"axesclip\" id=\"clip8f5fe5xy\"><rect x=\"170\" y=\"100\" width=\"636\" height=\"320\"/></clipPath></g><g class=\"gradients\"/><g class=\"patterns\"/></defs><g class=\"bglayer\"><rect class=\"bg\" x=\"170\" y=\"100\" width=\"636\" height=\"320\" style=\"fill: rgb(255, 255, 255); fill-opacity: 1; stroke-width: 0;\"/></g><g class=\"layer-below\"><g class=\"imagelayer\"/><g class=\"shapelayer\"/></g><g class=\"cartesianlayer\"><g class=\"subplot xy\"><g class=\"layer-subplot\"><g class=\"shapelayer\"/><g class=\"imagelayer\"/></g><g class=\"gridlayer\"><g class=\"x\"/><g class=\"y\"/></g><g class=\"zerolinelayer\"/><path class=\"xlines-below\"/><path class=\"ylines-below\"/><g class=\"overlines-below\"/><g class=\"xaxislayer-below\"/><g class=\"yaxislayer-below\"/><g class=\"overaxes-below\"/><g class=\"plot\" transform=\"translate(170,100)\" clip-path=\"url(#clip8f5fe5xyplot)\"><g class=\"funnellayer mlayer\"><g class=\"trace bars\" style=\"opacity: 1;\"><g class=\"regions\"><g class=\"region\"><path d=\"M31.8,72L139.97,88H319.05L316.32,72Z\" style=\"stroke-width: 0; fill: rgb(199, 199, 199); fill-opacity: 1;\"/></g><g class=\"region\"><path d=\"M139.97,152L181.08,168H320.44L319.05,152Z\" style=\"stroke-width: 0; fill: rgb(199, 199, 199); fill-opacity: 1;\"/></g><g class=\"region\"><path d=\"M181.08,232L172.55,248H319.57L320.44,232Z\" style=\"stroke-width: 0; fill: rgb(199, 199, 199); fill-opacity: 1;\"/></g><g class=\"region\"><path d=\"M0,0Z\" style=\"stroke-width: 0; fill: rgb(199, 199, 199); fill-opacity: 1;\"/></g></g><g class=\"points\"><g class=\"point\"><path d=\"M31.8,8V72H316.32V8Z\" style=\"vector-effect: non-scaling-stroke; fill: rgb(239, 71, 111); fill-opacity: 1; stroke: rgb(68, 68, 68); stroke-opacity: 1; stroke-width: 0px; opacity: 1;\"/><text class=\"bartext bartext-inside\" text-anchor=\"middle\" data-notex=\"1\" x=\"0\" y=\"0\" style=\"font-family: 'Open Sans', verdana, arial, sans-serif; font-size: 14px; fill: rgb(255, 255, 255); fill-opacity: 1; white-space: pre;\" transform=\"translate(174.06,36.3984375)\"><tspan class=\"line\" dy=\"0em\" x=\"0\" y=\"0\">2450</tspan><tspan class=\"line\" dy=\"1.3em\" x=\"0\" y=\"0\">100%</tspan></text></g><g class=\"point\"><path d=\"M139.97,88V152H319.05V88Z\" style=\"vector-effect: non-scaling-stroke; fill: rgb(239, 71, 111); fill-opacity: 1; stroke: rgb(68, 68, 68); stroke-opacity: 1; stroke-width: 0px; opacity: 1;\"/><text class=\"bartext bartext-inside\" text-anchor=\"middle\" data-notex=\"1\" x=\"0\" y=\"0\" style=\"font-family: 'Open Sans', verdana, arial, sans-serif; font-size: 14px; fill: rgb(255, 255, 255); fill-opacity: 1; white-space: pre;\" transform=\"translate(229.463125,116.3984375)\"><tspan class=\"line\" dy=\"0em\" x=\"0\" y=\"0\">1542</tspan><tspan class=\"line\" dy=\"1.3em\" x=\"0\" y=\"0\">63%</tspan></text></g><g class=\"point\"><path d=\"M181.08,168V232H320.44V168Z\" style=\"vector-effect: non-scaling-stroke; fill: rgb(239, 71, 111); fill-opacity: 1; stroke: rgb(68, 68, 68); stroke-opacity: 1; stroke-width: 0px; opacity: 1;\"/><text class=\"bartext bartext-inside\" text-anchor=\"middle\" data-notex=\"1\" x=\"0\" y=\"0\" style=\"font-family: 'Open Sans', verdana, arial, sans-serif; font-size: 14px; fill: rgb(255, 255, 255); fill-opacity: 1; white-space: pre;\" transform=\"translate(250.713125,196.3984375)\"><tspan class=\"line\" dy=\"0em\" x=\"0\" y=\"0\">1200</tspan><tspan class=\"line\" dy=\"1.3em\" x=\"0\" y=\"0\">49%</tspan></text></g><g class=\"point\"><path d=\"M172.55,248V312H319.57V248Z\" style=\"vector-effect: non-scaling-stroke; fill: rgb(239, 71, 111); fill-opacity: 1; stroke: rgb(68, 68, 68); stroke-opacity: 1; stroke-width: 0px; opacity: 1;\"/><text class=\"bartext bartext-inside\" text-anchor=\"middle\" data-notex=\"1\" x=\"0\" y=\"0\" style=\"font-family: 'Open Sans', verdana, arial, sans-serif; font-size: 14px; fill: rgb(255, 255, 255); fill-opacity: 1; white-space: pre;\" transform=\"translate(246.013125,276.3984375)\"><tspan class=\"line\" dy=\"0em\" x=\"0\" y=\"0\">1266</tspan><tspan class=\"line\" dy=\"1.3em\" x=\"0\" y=\"0\">52%</tspan></text></g></g></g><g class=\"trace bars\" style=\"opacity: 1;\"><g class=\"regions\"><g class=\"region\"><path d=\"M316.32,72L319.05,88H496.03L604.2,72Z\" style=\"stroke-width: 0; fill: rgb(199, 199, 199); fill-opacity: 1;\"/></g><g class=\"region\"><path d=\"M319.05,152L320.44,168H454.92L496.03,152Z\" style=\"stroke-width: 0; fill: rgb(199, 199, 199); fill-opacity: 1;\"/></g><g class=\"region\"><path d=\"M320.44,232L319.57,248H463.45L454.92,232Z\" style=\"stroke-width: 0; fill: rgb(199, 199, 199); fill-opacity: 1;\"/></g><g class=\"region\"><path d=\"M0,0Z\" style=\"stroke-width: 0; fill: rgb(199, 199, 199); fill-opacity: 1;\"/></g></g><g class=\"points\"><g class=\"point\"><path d=\"M316.32,8V72H604.2V8Z\" style=\"vector-effect: non-scaling-stroke; fill: rgb(255, 209, 102); fill-opacity: 1; stroke: rgb(68, 68, 68); stroke-opacity: 1; stroke-width: 0px; opacity: 1;\"/><text class=\"bartext bartext-inside\" text-anchor=\"middle\" data-notex=\"1\" x=\"0\" y=\"0\" style=\"font-family: 'Open Sans', verdana, arial, sans-serif; font-size: 14px; fill: rgb(255, 255, 255); fill-opacity: 1; white-space: pre;\" transform=\"translate(460.26,36.3984375)\"><tspan class=\"line\" dy=\"0em\" x=\"0\" y=\"0\">2479</tspan><tspan class=\"line\" dy=\"1.3em\" x=\"0\" y=\"0\">100%</tspan></text></g><g class=\"point\"><path d=\"M319.05,88V152H496.03V88Z\" style=\"vector-effect: non-scaling-stroke; fill: rgb(255, 209, 102); fill-opacity: 1; stroke: rgb(68, 68, 68); stroke-opacity: 1; stroke-width: 0px; opacity: 1;\"/><text class=\"bartext bartext-inside\" text-anchor=\"middle\" data-notex=\"1\" x=\"0\" y=\"0\" style=\"font-family: 'Open Sans', verdana, arial, sans-serif; font-size: 14px; fill: rgb(255, 255, 255); fill-opacity: 1; white-space: pre;\" transform=\"translate(407.49312499999996,116.3984375)\"><tspan class=\"line\" dy=\"0em\" x=\"0\" y=\"0\">1524</tspan><tspan class=\"line\" dy=\"1.3em\" x=\"0\" y=\"0\">61%</tspan></text></g><g class=\"point\"><path d=\"M320.44,168V232H454.92V168Z\" style=\"vector-effect: non-scaling-stroke; fill: rgb(255, 209, 102); fill-opacity: 1; stroke: rgb(68, 68, 68); stroke-opacity: 1; stroke-width: 0px; opacity: 1;\"/><text class=\"bartext bartext-inside\" text-anchor=\"middle\" data-notex=\"1\" x=\"0\" y=\"0\" style=\"font-family: 'Open Sans', verdana, arial, sans-serif; font-size: 14px; fill: rgb(255, 255, 255); fill-opacity: 1; white-space: pre;\" transform=\"translate(387.633125,196.3984375)\"><tspan class=\"line\" dy=\"0em\" x=\"0\" y=\"0\">1158</tspan><tspan class=\"line\" dy=\"1.3em\" x=\"0\" y=\"0\">47%</tspan></text></g><g class=\"point\"><path d=\"M319.57,248V312H463.45V248Z\" style=\"vector-effect: non-scaling-stroke; fill: rgb(255, 209, 102); fill-opacity: 1; stroke: rgb(68, 68, 68); stroke-opacity: 1; stroke-width: 0px; opacity: 1;\"/><text class=\"bartext bartext-inside\" text-anchor=\"middle\" data-notex=\"1\" x=\"0\" y=\"0\" style=\"font-family: 'Open Sans', verdana, arial, sans-serif; font-size: 14px; fill: rgb(255, 255, 255); fill-opacity: 1; white-space: pre;\" transform=\"translate(391.463125,276.3984375)\"><tspan class=\"line\" dy=\"0em\" x=\"0\" y=\"0\">1239</tspan><tspan class=\"line\" dy=\"1.3em\" x=\"0\" y=\"0\">50%</tspan></text></g></g></g></g></g><g class=\"overplot\"/><path class=\"xlines-above crisp\" d=\"M0,0\" style=\"fill: none;\"/><path class=\"ylines-above crisp\" d=\"M0,0\" style=\"fill: none;\"/><g class=\"overlines-above\"/><g class=\"xaxislayer-above\"/><g class=\"yaxislayer-above\"><g class=\"ytick\"><text text-anchor=\"end\" x=\"169\" y=\"4.199999999999999\" transform=\"translate(0,380)\" style=\"font-family: 'Open Sans', verdana, arial, sans-serif; font-size: 12px; fill: rgb(42, 63, 95); fill-opacity: 1; white-space: pre; opacity: 1;\">CartScreenAppear</text></g><g class=\"ytick\"><text text-anchor=\"end\" x=\"169\" y=\"4.199999999999999\" transform=\"translate(0,300)\" style=\"font-family: 'Open Sans', verdana, arial, sans-serif; font-size: 12px; fill: rgb(42, 63, 95); fill-opacity: 1; white-space: pre; opacity: 1;\">PaymentScreenSuccessful</text></g><g class=\"ytick\"><text text-anchor=\"end\" x=\"169\" y=\"4.199999999999999\" transform=\"translate(0,220)\" style=\"font-family: 'Open Sans', verdana, arial, sans-serif; font-size: 12px; fill: rgb(42, 63, 95); fill-opacity: 1; white-space: pre; opacity: 1;\">OffersScreenAppear</text></g><g class=\"ytick\"><text text-anchor=\"end\" x=\"169\" y=\"4.199999999999999\" transform=\"translate(0,140)\" style=\"font-family: 'Open Sans', verdana, arial, sans-serif; font-size: 12px; fill: rgb(42, 63, 95); fill-opacity: 1; white-space: pre; opacity: 1;\">MainScreenAppear</text></g></g><g class=\"overaxes-above\"/></g></g><g class=\"polarlayer\"/><g class=\"ternarylayer\"/><g class=\"geolayer\"/><g class=\"funnelarealayer\"/><g class=\"pielayer\"/><g class=\"iciclelayer\"/><g class=\"treemaplayer\"/><g class=\"sunburstlayer\"/><g class=\"glimages\"/><defs id=\"topdefs-8f5fe5\"><g class=\"clips\"/><clipPath id=\"legend8f5fe5\"><rect width=\"69\" height=\"48\" x=\"0\" y=\"0\"/></clipPath></defs><g class=\"layer-above\"><g class=\"imagelayer\"/><g class=\"shapelayer\"/></g><g class=\"infolayer\"><g class=\"legend\" pointer-events=\"all\" transform=\"translate(818.72,100)\"><rect class=\"bg\" shape-rendering=\"crispEdges\" style=\"stroke: rgb(68, 68, 68); stroke-opacity: 1; fill: rgb(255, 255, 255); fill-opacity: 1; stroke-width: 0px;\" width=\"69\" height=\"48\" x=\"0\" y=\"0\"/><g class=\"scrollbox\" transform=\"\" clip-path=\"url(#legend8f5fe5)\"><g class=\"groups\"><g class=\"traces\" transform=\"translate(0,14.5)\" style=\"opacity: 1;\"><text class=\"legendtext\" text-anchor=\"start\" x=\"40\" y=\"4.680000000000001\" style=\"font-family: 'Open Sans', verdana, arial, sans-serif; font-size: 12px; fill: rgb(42, 63, 95); fill-opacity: 1; white-space: pre;\">246</text><g class=\"layers\" style=\"opacity: 1;\"><g class=\"legendfill\"/><g class=\"legendlines\"/><g class=\"legendsymbols\"><g class=\"legendpoints\"><path class=\"legendfunnel\" d=\"M6,6H-6V-6H6Z\" transform=\"translate(20,0)\" style=\"stroke-width: 0px; fill: rgb(239, 71, 111); fill-opacity: 1;\"/></g></g></g><rect class=\"legendtoggle\" x=\"0\" y=\"-9.5\" width=\"63.265625\" height=\"19\" style=\"fill: rgb(0, 0, 0); fill-opacity: 0;\"/></g><g class=\"traces\" transform=\"translate(0,33.5)\" style=\"opacity: 1;\"><text class=\"legendtext\" text-anchor=\"start\" x=\"40\" y=\"4.680000000000001\" style=\"font-family: 'Open Sans', verdana, arial, sans-serif; font-size: 12px; fill: rgb(42, 63, 95); fill-opacity: 1; white-space: pre;\">247</text><g class=\"layers\" style=\"opacity: 1;\"><g class=\"legendfill\"/><g class=\"legendlines\"/><g class=\"legendsymbols\"><g class=\"legendpoints\"><path class=\"legendfunnel\" d=\"M6,6H-6V-6H6Z\" transform=\"translate(20,0)\" style=\"stroke-width: 0px; fill: rgb(255, 209, 102); fill-opacity: 1;\"/></g></g></g><rect class=\"legendtoggle\" x=\"0\" y=\"-9.5\" width=\"63.265625\" height=\"19\" style=\"fill: rgb(0, 0, 0); fill-opacity: 0;\"/></g></g></g><rect class=\"scrollbar\" rx=\"20\" ry=\"3\" width=\"0\" height=\"0\" style=\"fill: rgb(128, 139, 164); fill-opacity: 1;\" x=\"0\" y=\"0\"/></g><g class=\"g-gtitle\"><text class=\"gtitle\" x=\"45\" y=\"50\" text-anchor=\"start\" dy=\"0em\" style=\"font-family: 'Open Sans', verdana, arial, sans-serif; font-size: 17px; fill: rgb(42, 63, 95); opacity: 1; font-weight: normal; white-space: pre;\">Воронка пользователей событий по контрольным группам 246 и 247</text></g><g class=\"g-ytitle\"/></g></svg>"
      ]
     },
     "metadata": {},
     "output_type": "display_data"
    }
   ],
   "source": [
    "z_value(246,247,0.05,0)"
   ]
  },
  {
   "cell_type": "markdown",
   "metadata": {},
   "source": [
    "**Нулевая гипотеза:** доля между группами 246 и 247 равна\n",
    "\n",
    "**Альтернативная гипотеза:** доля между группами 246 и 247 различается"
   ]
  },
  {
   "cell_type": "markdown",
   "metadata": {},
   "source": [
    "**Вывод:** Ни для оного из событий разница не оказалось значимой обе эти группы можно считать контрольными."
   ]
  },
  {
   "cell_type": "markdown",
   "metadata": {},
   "source": [
    "## Статистические критерии разницу между выборками 246 и 248, 247 и 248 группами"
   ]
  },
  {
   "cell_type": "markdown",
   "metadata": {},
   "source": [
    "**Нулевая гипотеза:** доля между группами 246 и 248 равна\n",
    "\n",
    "**Альтернативная гипотеза:** доля между группами 246 и 248 различается"
   ]
  },
  {
   "cell_type": "code",
   "execution_count": 27,
   "metadata": {},
   "outputs": [
    {
     "name": "stdout",
     "output_type": "stream",
     "text": [
      "MainScreenAppear p-значение: [0.34705881]\n",
      "Не получилось отвергнуть нулевую гипотезу, нет оснований считать доли разными\n",
      "\n",
      "OffersScreenAppear p-значение: [0.20836205]\n",
      "Не получилось отвергнуть нулевую гипотезу, нет оснований считать доли разными\n",
      "\n",
      "PaymentScreenSuccessful p-значение: [0.22269359]\n",
      "Не получилось отвергнуть нулевую гипотезу, нет оснований считать доли разными\n",
      "\n",
      "CartScreenAppear p-значение: [0.08328413]\n",
      "Не получилось отвергнуть нулевую гипотезу, нет оснований считать доли разными\n",
      "\n"
     ]
    },
    {
     "data": {
      "image/svg+xml": [
       "<svg class=\"main-svg\" xmlns=\"http://www.w3.org/2000/svg\" xmlns:xlink=\"http://www.w3.org/1999/xlink\" width=\"900\" height=\"500\" style=\"\" viewBox=\"0 0 900 500\"><rect x=\"0\" y=\"0\" width=\"900\" height=\"500\" style=\"fill: rgb(255, 255, 255); fill-opacity: 1;\"/><defs id=\"defs-5710ff\"><g class=\"clips\"><clipPath id=\"clip5710ffxyplot\" class=\"plotclip\"><rect width=\"636\" height=\"320\"/></clipPath><clipPath class=\"axesclip\" id=\"clip5710ffx\"><rect x=\"170\" y=\"0\" width=\"636\" height=\"500\"/></clipPath><clipPath class=\"axesclip\" id=\"clip5710ffy\"><rect x=\"0\" y=\"100\" width=\"900\" height=\"320\"/></clipPath><clipPath class=\"axesclip\" id=\"clip5710ffxy\"><rect x=\"170\" y=\"100\" width=\"636\" height=\"320\"/></clipPath></g><g class=\"gradients\"/><g class=\"patterns\"/></defs><g class=\"bglayer\"><rect class=\"bg\" x=\"170\" y=\"100\" width=\"636\" height=\"320\" style=\"fill: rgb(255, 255, 255); fill-opacity: 1; stroke-width: 0;\"/></g><g class=\"layer-below\"><g class=\"imagelayer\"/><g class=\"shapelayer\"/></g><g class=\"cartesianlayer\"><g class=\"subplot xy\"><g class=\"layer-subplot\"><g class=\"shapelayer\"/><g class=\"imagelayer\"/></g><g class=\"gridlayer\"><g class=\"x\"/><g class=\"y\"/></g><g class=\"zerolinelayer\"/><path class=\"xlines-below\"/><path class=\"ylines-below\"/><g class=\"overlines-below\"/><g class=\"xaxislayer-below\"/><g class=\"yaxislayer-below\"/><g class=\"overaxes-below\"/><g class=\"plot\" transform=\"translate(170,100)\" clip-path=\"url(#clip5710ffxyplot)\"><g class=\"funnellayer mlayer\"><g class=\"trace bars\" style=\"opacity: 1;\"><g class=\"regions\"><g class=\"region\"><path d=\"M31.8,72L140.11,88H318.64L315.45,72Z\" style=\"stroke-width: 0; fill: rgb(199, 199, 199); fill-opacity: 1;\"/></g><g class=\"region\"><path d=\"M140.11,152L180.11,168H319.04L318.64,152Z\" style=\"stroke-width: 0; fill: rgb(199, 199, 199); fill-opacity: 1;\"/></g><g class=\"region\"><path d=\"M180.11,232L173.45,248H320.03L319.04,232Z\" style=\"stroke-width: 0; fill: rgb(199, 199, 199); fill-opacity: 1;\"/></g><g class=\"region\"><path d=\"M0,0Z\" style=\"stroke-width: 0; fill: rgb(199, 199, 199); fill-opacity: 1;\"/></g></g><g class=\"points\"><g class=\"point\"><path d=\"M31.8,8V72H315.45V8Z\" style=\"vector-effect: non-scaling-stroke; fill: rgb(255, 209, 102); fill-opacity: 1; stroke: rgb(68, 68, 68); stroke-opacity: 1; stroke-width: 0px; opacity: 1;\"/><text class=\"bartext bartext-inside\" text-anchor=\"middle\" data-notex=\"1\" x=\"0\" y=\"0\" style=\"font-family: 'Open Sans', verdana, arial, sans-serif; font-size: 14px; fill: rgb(255, 255, 255); fill-opacity: 1; white-space: pre;\" transform=\"translate(173.625,36.3984375)\"><tspan class=\"line\" dy=\"0em\" x=\"0\" y=\"0\">2450</tspan><tspan class=\"line\" dy=\"1.3em\" x=\"0\" y=\"0\">100%</tspan></text></g><g class=\"point\"><path d=\"M140.11,88V152H318.64V88Z\" style=\"vector-effect: non-scaling-stroke; fill: rgb(255, 209, 102); fill-opacity: 1; stroke: rgb(68, 68, 68); stroke-opacity: 1; stroke-width: 0px; opacity: 1;\"/><text class=\"bartext bartext-inside\" text-anchor=\"middle\" data-notex=\"1\" x=\"0\" y=\"0\" style=\"font-family: 'Open Sans', verdana, arial, sans-serif; font-size: 14px; fill: rgb(255, 255, 255); fill-opacity: 1; white-space: pre;\" transform=\"translate(229.328125,116.3984375)\"><tspan class=\"line\" dy=\"0em\" x=\"0\" y=\"0\">1542</tspan><tspan class=\"line\" dy=\"1.3em\" x=\"0\" y=\"0\">63%</tspan></text></g><g class=\"point\"><path d=\"M180.11,168V232H319.04V168Z\" style=\"vector-effect: non-scaling-stroke; fill: rgb(255, 209, 102); fill-opacity: 1; stroke: rgb(68, 68, 68); stroke-opacity: 1; stroke-width: 0px; opacity: 1;\"/><text class=\"bartext bartext-inside\" text-anchor=\"middle\" data-notex=\"1\" x=\"0\" y=\"0\" style=\"font-family: 'Open Sans', verdana, arial, sans-serif; font-size: 14px; fill: rgb(255, 255, 255); fill-opacity: 1; white-space: pre;\" transform=\"translate(249.52812500000002,196.3984375)\"><tspan class=\"line\" dy=\"0em\" x=\"0\" y=\"0\">1200</tspan><tspan class=\"line\" dy=\"1.3em\" x=\"0\" y=\"0\">49%</tspan></text></g><g class=\"point\"><path d=\"M173.45,248V312H320.03V248Z\" style=\"vector-effect: non-scaling-stroke; fill: rgb(255, 209, 102); fill-opacity: 1; stroke: rgb(68, 68, 68); stroke-opacity: 1; stroke-width: 0px; opacity: 1;\"/><text class=\"bartext bartext-inside\" text-anchor=\"middle\" data-notex=\"1\" x=\"0\" y=\"0\" style=\"font-family: 'Open Sans', verdana, arial, sans-serif; font-size: 14px; fill: rgb(255, 255, 255); fill-opacity: 1; white-space: pre;\" transform=\"translate(246.69312499999998,276.3984375)\"><tspan class=\"line\" dy=\"0em\" x=\"0\" y=\"0\">1266</tspan><tspan class=\"line\" dy=\"1.3em\" x=\"0\" y=\"0\">52%</tspan></text></g></g></g><g class=\"trace bars\" style=\"opacity: 1;\"><g class=\"regions\"><g class=\"region\"><path d=\"M315.45,72L318.64,88H495.89L604.2,72Z\" style=\"stroke-width: 0; fill: rgb(199, 199, 199); fill-opacity: 1;\"/></g><g class=\"region\"><path d=\"M318.64,152L319.04,168H455.89L495.89,152Z\" style=\"stroke-width: 0; fill: rgb(199, 199, 199); fill-opacity: 1;\"/></g><g class=\"region\"><path d=\"M319.04,232L320.03,248H462.55L455.89,232Z\" style=\"stroke-width: 0; fill: rgb(199, 199, 199); fill-opacity: 1;\"/></g><g class=\"region\"><path d=\"M0,0Z\" style=\"stroke-width: 0; fill: rgb(199, 199, 199); fill-opacity: 1;\"/></g></g><g class=\"points\"><g class=\"point\"><path d=\"M315.45,8V72H604.2V8Z\" style=\"vector-effect: non-scaling-stroke; fill: rgb(6, 214, 160); fill-opacity: 1; stroke: rgb(68, 68, 68); stroke-opacity: 1; stroke-width: 0px; opacity: 1;\"/><text class=\"bartext bartext-inside\" text-anchor=\"middle\" data-notex=\"1\" x=\"0\" y=\"0\" style=\"font-family: 'Open Sans', verdana, arial, sans-serif; font-size: 14px; fill: rgb(255, 255, 255); fill-opacity: 1; white-space: pre;\" transform=\"translate(459.82500000000005,36.3984375)\"><tspan class=\"line\" dy=\"0em\" x=\"0\" y=\"0\">2494</tspan><tspan class=\"line\" dy=\"1.3em\" x=\"0\" y=\"0\">100%</tspan></text></g><g class=\"point\"><path d=\"M318.64,88V152H495.89V88Z\" style=\"vector-effect: non-scaling-stroke; fill: rgb(6, 214, 160); fill-opacity: 1; stroke: rgb(68, 68, 68); stroke-opacity: 1; stroke-width: 0px; opacity: 1;\"/><text class=\"bartext bartext-inside\" text-anchor=\"middle\" data-notex=\"1\" x=\"0\" y=\"0\" style=\"font-family: 'Open Sans', verdana, arial, sans-serif; font-size: 14px; fill: rgb(255, 255, 255); fill-opacity: 1; white-space: pre;\" transform=\"translate(407.265,116.3984375)\"><tspan class=\"line\" dy=\"0em\" x=\"0\" y=\"0\">1531</tspan><tspan class=\"line\" dy=\"1.3em\" x=\"0\" y=\"0\">61%</tspan></text></g><g class=\"point\"><path d=\"M319.04,168V232H455.89V168Z\" style=\"vector-effect: non-scaling-stroke; fill: rgb(6, 214, 160); fill-opacity: 1; stroke: rgb(68, 68, 68); stroke-opacity: 1; stroke-width: 0px; opacity: 1;\"/><text class=\"bartext bartext-inside\" text-anchor=\"middle\" data-notex=\"1\" x=\"0\" y=\"0\" style=\"font-family: 'Open Sans', verdana, arial, sans-serif; font-size: 14px; fill: rgb(255, 255, 255); fill-opacity: 1; white-space: pre;\" transform=\"translate(387.41812500000003,196.3984375)\"><tspan class=\"line\" dy=\"0em\" x=\"0\" y=\"0\">1182</tspan><tspan class=\"line\" dy=\"1.3em\" x=\"0\" y=\"0\">47%</tspan></text></g><g class=\"point\"><path d=\"M320.03,248V312H462.55V248Z\" style=\"vector-effect: non-scaling-stroke; fill: rgb(6, 214, 160); fill-opacity: 1; stroke: rgb(68, 68, 68); stroke-opacity: 1; stroke-width: 0px; opacity: 1;\"/><text class=\"bartext bartext-inside\" text-anchor=\"middle\" data-notex=\"1\" x=\"0\" y=\"0\" style=\"font-family: 'Open Sans', verdana, arial, sans-serif; font-size: 14px; fill: rgb(255, 255, 255); fill-opacity: 1; white-space: pre;\" transform=\"translate(391.28999999999996,276.3984375)\"><tspan class=\"line\" dy=\"0em\" x=\"0\" y=\"0\">1231</tspan><tspan class=\"line\" dy=\"1.3em\" x=\"0\" y=\"0\">49%</tspan></text></g></g></g></g></g><g class=\"overplot\"/><path class=\"xlines-above crisp\" d=\"M0,0\" style=\"fill: none;\"/><path class=\"ylines-above crisp\" d=\"M0,0\" style=\"fill: none;\"/><g class=\"overlines-above\"/><g class=\"xaxislayer-above\"/><g class=\"yaxislayer-above\"><g class=\"ytick\"><text text-anchor=\"end\" x=\"169\" y=\"4.199999999999999\" transform=\"translate(0,380)\" style=\"font-family: 'Open Sans', verdana, arial, sans-serif; font-size: 12px; fill: rgb(42, 63, 95); fill-opacity: 1; white-space: pre; opacity: 1;\">CartScreenAppear</text></g><g class=\"ytick\"><text text-anchor=\"end\" x=\"169\" y=\"4.199999999999999\" transform=\"translate(0,300)\" style=\"font-family: 'Open Sans', verdana, arial, sans-serif; font-size: 12px; fill: rgb(42, 63, 95); fill-opacity: 1; white-space: pre; opacity: 1;\">PaymentScreenSuccessful</text></g><g class=\"ytick\"><text text-anchor=\"end\" x=\"169\" y=\"4.199999999999999\" transform=\"translate(0,220)\" style=\"font-family: 'Open Sans', verdana, arial, sans-serif; font-size: 12px; fill: rgb(42, 63, 95); fill-opacity: 1; white-space: pre; opacity: 1;\">OffersScreenAppear</text></g><g class=\"ytick\"><text text-anchor=\"end\" x=\"169\" y=\"4.199999999999999\" transform=\"translate(0,140)\" style=\"font-family: 'Open Sans', verdana, arial, sans-serif; font-size: 12px; fill: rgb(42, 63, 95); fill-opacity: 1; white-space: pre; opacity: 1;\">MainScreenAppear</text></g></g><g class=\"overaxes-above\"/></g></g><g class=\"polarlayer\"/><g class=\"ternarylayer\"/><g class=\"geolayer\"/><g class=\"funnelarealayer\"/><g class=\"pielayer\"/><g class=\"iciclelayer\"/><g class=\"treemaplayer\"/><g class=\"sunburstlayer\"/><g class=\"glimages\"/><defs id=\"topdefs-5710ff\"><g class=\"clips\"/><clipPath id=\"legend5710ff\"><rect width=\"69\" height=\"48\" x=\"0\" y=\"0\"/></clipPath></defs><g class=\"layer-above\"><g class=\"imagelayer\"/><g class=\"shapelayer\"/></g><g class=\"infolayer\"><g class=\"legend\" pointer-events=\"all\" transform=\"translate(818.72,100)\"><rect class=\"bg\" shape-rendering=\"crispEdges\" style=\"stroke: rgb(68, 68, 68); stroke-opacity: 1; fill: rgb(255, 255, 255); fill-opacity: 1; stroke-width: 0px;\" width=\"69\" height=\"48\" x=\"0\" y=\"0\"/><g class=\"scrollbox\" transform=\"\" clip-path=\"url(#legend5710ff)\"><g class=\"groups\"><g class=\"traces\" transform=\"translate(0,14.5)\" style=\"opacity: 1;\"><text class=\"legendtext\" text-anchor=\"start\" x=\"40\" y=\"4.680000000000001\" style=\"font-family: 'Open Sans', verdana, arial, sans-serif; font-size: 12px; fill: rgb(42, 63, 95); fill-opacity: 1; white-space: pre;\">246</text><g class=\"layers\" style=\"opacity: 1;\"><g class=\"legendfill\"/><g class=\"legendlines\"/><g class=\"legendsymbols\"><g class=\"legendpoints\"><path class=\"legendfunnel\" d=\"M6,6H-6V-6H6Z\" transform=\"translate(20,0)\" style=\"stroke-width: 0px; fill: rgb(255, 209, 102); fill-opacity: 1;\"/></g></g></g><rect class=\"legendtoggle\" x=\"0\" y=\"-9.5\" width=\"63.265625\" height=\"19\" style=\"fill: rgb(0, 0, 0); fill-opacity: 0;\"/></g><g class=\"traces\" transform=\"translate(0,33.5)\" style=\"opacity: 1;\"><text class=\"legendtext\" text-anchor=\"start\" x=\"40\" y=\"4.680000000000001\" style=\"font-family: 'Open Sans', verdana, arial, sans-serif; font-size: 12px; fill: rgb(42, 63, 95); fill-opacity: 1; white-space: pre;\">248</text><g class=\"layers\" style=\"opacity: 1;\"><g class=\"legendfill\"/><g class=\"legendlines\"/><g class=\"legendsymbols\"><g class=\"legendpoints\"><path class=\"legendfunnel\" d=\"M6,6H-6V-6H6Z\" transform=\"translate(20,0)\" style=\"stroke-width: 0px; fill: rgb(6, 214, 160); fill-opacity: 1;\"/></g></g></g><rect class=\"legendtoggle\" x=\"0\" y=\"-9.5\" width=\"63.265625\" height=\"19\" style=\"fill: rgb(0, 0, 0); fill-opacity: 0;\"/></g></g></g><rect class=\"scrollbar\" rx=\"20\" ry=\"3\" width=\"0\" height=\"0\" style=\"fill: rgb(128, 139, 164); fill-opacity: 1;\" x=\"0\" y=\"0\"/></g><g class=\"g-gtitle\"><text class=\"gtitle\" x=\"45\" y=\"50\" text-anchor=\"start\" dy=\"0em\" style=\"font-family: 'Open Sans', verdana, arial, sans-serif; font-size: 17px; fill: rgb(42, 63, 95); opacity: 1; font-weight: normal; white-space: pre;\">Воронка пользователей событий по контрольным группам 246 и 248</text></g><g class=\"g-ytitle\"/></g></svg>"
      ]
     },
     "metadata": {},
     "output_type": "display_data"
    }
   ],
   "source": [
    "z_value(246,248,0.05,1)"
   ]
  },
  {
   "cell_type": "markdown",
   "metadata": {},
   "source": [
    "**Нулевая гипотеза:** доля между группами 247 и 248 равна\n",
    "\n",
    "**Альтернативная гипотеза:** доля между группами 247 и 248 различается"
   ]
  },
  {
   "cell_type": "code",
   "execution_count": 28,
   "metadata": {},
   "outputs": [
    {
     "name": "stdout",
     "output_type": "stream",
     "text": [
      "MainScreenAppear p-значение: [0.60016616]\n",
      "Не получилось отвергнуть нулевую гипотезу, нет оснований считать доли разными\n",
      "\n",
      "OffersScreenAppear p-значение: [0.88359567]\n",
      "Не получилось отвергнуть нулевую гипотезу, нет оснований считать доли разными\n",
      "\n",
      "PaymentScreenSuccessful p-значение: [0.67754136]\n",
      "Не получилось отвергнуть нулевую гипотезу, нет оснований считать доли разными\n",
      "\n",
      "CartScreenAppear p-значение: [0.61695175]\n",
      "Не получилось отвергнуть нулевую гипотезу, нет оснований считать доли разными\n",
      "\n"
     ]
    },
    {
     "data": {
      "image/svg+xml": [
       "<svg class=\"main-svg\" xmlns=\"http://www.w3.org/2000/svg\" xmlns:xlink=\"http://www.w3.org/1999/xlink\" width=\"900\" height=\"500\" style=\"\" viewBox=\"0 0 900 500\"><rect x=\"0\" y=\"0\" width=\"900\" height=\"500\" style=\"fill: rgb(255, 255, 255); fill-opacity: 1;\"/><defs id=\"defs-f9c823\"><g class=\"clips\"><clipPath id=\"clipf9c823xyplot\" class=\"plotclip\"><rect width=\"636\" height=\"320\"/></clipPath><clipPath class=\"axesclip\" id=\"clipf9c823x\"><rect x=\"170\" y=\"0\" width=\"636\" height=\"500\"/></clipPath><clipPath class=\"axesclip\" id=\"clipf9c823y\"><rect x=\"0\" y=\"100\" width=\"900\" height=\"320\"/></clipPath><clipPath class=\"axesclip\" id=\"clipf9c823xy\"><rect x=\"170\" y=\"100\" width=\"636\" height=\"320\"/></clipPath></g><g class=\"gradients\"/><g class=\"patterns\"/></defs><g class=\"bglayer\"><rect class=\"bg\" x=\"170\" y=\"100\" width=\"636\" height=\"320\" style=\"fill: rgb(255, 255, 255); fill-opacity: 1; stroke-width: 0;\"/></g><g class=\"layer-below\"><g class=\"imagelayer\"/><g class=\"shapelayer\"/></g><g class=\"cartesianlayer\"><g class=\"subplot xy\"><g class=\"layer-subplot\"><g class=\"shapelayer\"/><g class=\"imagelayer\"/></g><g class=\"gridlayer\"><g class=\"x\"/><g class=\"y\"/></g><g class=\"zerolinelayer\"/><path class=\"xlines-below\"/><path class=\"ylines-below\"/><g class=\"overlines-below\"/><g class=\"xaxislayer-below\"/><g class=\"yaxislayer-below\"/><g class=\"overaxes-below\"/><g class=\"plot\" transform=\"translate(170,100)\" clip-path=\"url(#clipf9c823xyplot)\"><g class=\"funnellayer mlayer\"><g class=\"trace bars\" style=\"opacity: 1;\"><g class=\"regions\"><g class=\"region\"><path d=\"M31.8,72L142.18,88H317.6L317.14,72Z\" style=\"stroke-width: 0; fill: rgb(199, 199, 199); fill-opacity: 1;\"/></g><g class=\"region\"><path d=\"M142.18,152L183.33,168H316.62L317.6,152Z\" style=\"stroke-width: 0; fill: rgb(199, 199, 199); fill-opacity: 1;\"/></g><g class=\"region\"><path d=\"M183.33,232L175.85,248H318.46L316.62,232Z\" style=\"stroke-width: 0; fill: rgb(199, 199, 199); fill-opacity: 1;\"/></g><g class=\"region\"><path d=\"M0,0Z\" style=\"stroke-width: 0; fill: rgb(199, 199, 199); fill-opacity: 1;\"/></g></g><g class=\"points\"><g class=\"point\"><path d=\"M31.8,8V72H317.14V8Z\" style=\"vector-effect: non-scaling-stroke; fill: rgb(6, 214, 160); fill-opacity: 1; stroke: rgb(68, 68, 68); stroke-opacity: 1; stroke-width: 0px; opacity: 1;\"/><text class=\"bartext bartext-inside\" text-anchor=\"middle\" data-notex=\"1\" x=\"0\" y=\"0\" style=\"font-family: 'Open Sans', verdana, arial, sans-serif; font-size: 14px; fill: rgb(255, 255, 255); fill-opacity: 1; white-space: pre;\" transform=\"translate(174.47,36.3984375)\"><tspan class=\"line\" dy=\"0em\" x=\"0\" y=\"0\">2479</tspan><tspan class=\"line\" dy=\"1.3em\" x=\"0\" y=\"0\">100%</tspan></text></g><g class=\"point\"><path d=\"M142.18,88V152H317.6V88Z\" style=\"vector-effect: non-scaling-stroke; fill: rgb(6, 214, 160); fill-opacity: 1; stroke: rgb(68, 68, 68); stroke-opacity: 1; stroke-width: 0px; opacity: 1;\"/><text class=\"bartext bartext-inside\" text-anchor=\"middle\" data-notex=\"1\" x=\"0\" y=\"0\" style=\"font-family: 'Open Sans', verdana, arial, sans-serif; font-size: 14px; fill: rgb(255, 255, 255); fill-opacity: 1; white-space: pre;\" transform=\"translate(229.84312500000001,116.3984375)\"><tspan class=\"line\" dy=\"0em\" x=\"0\" y=\"0\">1524</tspan><tspan class=\"line\" dy=\"1.3em\" x=\"0\" y=\"0\">61%</tspan></text></g><g class=\"point\"><path d=\"M183.33,168V232H316.62V168Z\" style=\"vector-effect: non-scaling-stroke; fill: rgb(6, 214, 160); fill-opacity: 1; stroke: rgb(68, 68, 68); stroke-opacity: 1; stroke-width: 0px; opacity: 1;\"/><text class=\"bartext bartext-inside\" text-anchor=\"middle\" data-notex=\"1\" x=\"0\" y=\"0\" style=\"font-family: 'Open Sans', verdana, arial, sans-serif; font-size: 14px; fill: rgb(255, 255, 255); fill-opacity: 1; white-space: pre;\" transform=\"translate(249.92812500000002,196.3984375)\"><tspan class=\"line\" dy=\"0em\" x=\"0\" y=\"0\">1158</tspan><tspan class=\"line\" dy=\"1.3em\" x=\"0\" y=\"0\">47%</tspan></text></g><g class=\"point\"><path d=\"M175.85,248V312H318.46V248Z\" style=\"vector-effect: non-scaling-stroke; fill: rgb(6, 214, 160); fill-opacity: 1; stroke: rgb(68, 68, 68); stroke-opacity: 1; stroke-width: 0px; opacity: 1;\"/><text class=\"bartext bartext-inside\" text-anchor=\"middle\" data-notex=\"1\" x=\"0\" y=\"0\" style=\"font-family: 'Open Sans', verdana, arial, sans-serif; font-size: 14px; fill: rgb(255, 255, 255); fill-opacity: 1; white-space: pre;\" transform=\"translate(247.10812499999997,276.3984375)\"><tspan class=\"line\" dy=\"0em\" x=\"0\" y=\"0\">1239</tspan><tspan class=\"line\" dy=\"1.3em\" x=\"0\" y=\"0\">50%</tspan></text></g></g></g><g class=\"trace bars\" style=\"opacity: 1;\"><g class=\"regions\"><g class=\"region\"><path d=\"M317.14,72L317.6,88H493.82L604.2,72Z\" style=\"stroke-width: 0; fill: rgb(199, 199, 199); fill-opacity: 1;\"/></g><g class=\"region\"><path d=\"M317.6,152L316.62,168H452.67L493.82,152Z\" style=\"stroke-width: 0; fill: rgb(199, 199, 199); fill-opacity: 1;\"/></g><g class=\"region\"><path d=\"M316.62,232L318.46,248H460.15L452.67,232Z\" style=\"stroke-width: 0; fill: rgb(199, 199, 199); fill-opacity: 1;\"/></g><g class=\"region\"><path d=\"M0,0Z\" style=\"stroke-width: 0; fill: rgb(199, 199, 199); fill-opacity: 1;\"/></g></g><g class=\"points\"><g class=\"point\"><path d=\"M317.14,8V72H604.2V8Z\" style=\"vector-effect: non-scaling-stroke; fill: rgb(17, 138, 178); fill-opacity: 1; stroke: rgb(68, 68, 68); stroke-opacity: 1; stroke-width: 0px; opacity: 1;\"/><text class=\"bartext bartext-inside\" text-anchor=\"middle\" data-notex=\"1\" x=\"0\" y=\"0\" style=\"font-family: 'Open Sans', verdana, arial, sans-serif; font-size: 14px; fill: rgb(255, 255, 255); fill-opacity: 1; white-space: pre;\" transform=\"translate(460.67,36.3984375)\"><tspan class=\"line\" dy=\"0em\" x=\"0\" y=\"0\">2494</tspan><tspan class=\"line\" dy=\"1.3em\" x=\"0\" y=\"0\">100%</tspan></text></g><g class=\"point\"><path d=\"M317.6,88V152H493.82V88Z\" style=\"vector-effect: non-scaling-stroke; fill: rgb(17, 138, 178); fill-opacity: 1; stroke: rgb(68, 68, 68); stroke-opacity: 1; stroke-width: 0px; opacity: 1;\"/><text class=\"bartext bartext-inside\" text-anchor=\"middle\" data-notex=\"1\" x=\"0\" y=\"0\" style=\"font-family: 'Open Sans', verdana, arial, sans-serif; font-size: 14px; fill: rgb(255, 255, 255); fill-opacity: 1; white-space: pre;\" transform=\"translate(405.71000000000004,116.3984375)\"><tspan class=\"line\" dy=\"0em\" x=\"0\" y=\"0\">1531</tspan><tspan class=\"line\" dy=\"1.3em\" x=\"0\" y=\"0\">61%</tspan></text></g><g class=\"point\"><path d=\"M316.62,168V232H452.67V168Z\" style=\"vector-effect: non-scaling-stroke; fill: rgb(17, 138, 178); fill-opacity: 1; stroke: rgb(68, 68, 68); stroke-opacity: 1; stroke-width: 0px; opacity: 1;\"/><text class=\"bartext bartext-inside\" text-anchor=\"middle\" data-notex=\"1\" x=\"0\" y=\"0\" style=\"font-family: 'Open Sans', verdana, arial, sans-serif; font-size: 14px; fill: rgb(255, 255, 255); fill-opacity: 1; white-space: pre;\" transform=\"translate(384.598125,196.3984375)\"><tspan class=\"line\" dy=\"0em\" x=\"0\" y=\"0\">1182</tspan><tspan class=\"line\" dy=\"1.3em\" x=\"0\" y=\"0\">47%</tspan></text></g><g class=\"point\"><path d=\"M318.46,248V312H460.15V248Z\" style=\"vector-effect: non-scaling-stroke; fill: rgb(17, 138, 178); fill-opacity: 1; stroke: rgb(68, 68, 68); stroke-opacity: 1; stroke-width: 0px; opacity: 1;\"/><text class=\"bartext bartext-inside\" text-anchor=\"middle\" data-notex=\"1\" x=\"0\" y=\"0\" style=\"font-family: 'Open Sans', verdana, arial, sans-serif; font-size: 14px; fill: rgb(255, 255, 255); fill-opacity: 1; white-space: pre;\" transform=\"translate(389.30499999999995,276.3984375)\"><tspan class=\"line\" dy=\"0em\" x=\"0\" y=\"0\">1231</tspan><tspan class=\"line\" dy=\"1.3em\" x=\"0\" y=\"0\">49%</tspan></text></g></g></g></g></g><g class=\"overplot\"/><path class=\"xlines-above crisp\" d=\"M0,0\" style=\"fill: none;\"/><path class=\"ylines-above crisp\" d=\"M0,0\" style=\"fill: none;\"/><g class=\"overlines-above\"/><g class=\"xaxislayer-above\"/><g class=\"yaxislayer-above\"><g class=\"ytick\"><text text-anchor=\"end\" x=\"169\" y=\"4.199999999999999\" transform=\"translate(0,380)\" style=\"font-family: 'Open Sans', verdana, arial, sans-serif; font-size: 12px; fill: rgb(42, 63, 95); fill-opacity: 1; white-space: pre; opacity: 1;\">CartScreenAppear</text></g><g class=\"ytick\"><text text-anchor=\"end\" x=\"169\" y=\"4.199999999999999\" transform=\"translate(0,300)\" style=\"font-family: 'Open Sans', verdana, arial, sans-serif; font-size: 12px; fill: rgb(42, 63, 95); fill-opacity: 1; white-space: pre; opacity: 1;\">PaymentScreenSuccessful</text></g><g class=\"ytick\"><text text-anchor=\"end\" x=\"169\" y=\"4.199999999999999\" transform=\"translate(0,220)\" style=\"font-family: 'Open Sans', verdana, arial, sans-serif; font-size: 12px; fill: rgb(42, 63, 95); fill-opacity: 1; white-space: pre; opacity: 1;\">OffersScreenAppear</text></g><g class=\"ytick\"><text text-anchor=\"end\" x=\"169\" y=\"4.199999999999999\" transform=\"translate(0,140)\" style=\"font-family: 'Open Sans', verdana, arial, sans-serif; font-size: 12px; fill: rgb(42, 63, 95); fill-opacity: 1; white-space: pre; opacity: 1;\">MainScreenAppear</text></g></g><g class=\"overaxes-above\"/></g></g><g class=\"polarlayer\"/><g class=\"ternarylayer\"/><g class=\"geolayer\"/><g class=\"funnelarealayer\"/><g class=\"pielayer\"/><g class=\"iciclelayer\"/><g class=\"treemaplayer\"/><g class=\"sunburstlayer\"/><g class=\"glimages\"/><defs id=\"topdefs-f9c823\"><g class=\"clips\"/><clipPath id=\"legendf9c823\"><rect width=\"69\" height=\"48\" x=\"0\" y=\"0\"/></clipPath></defs><g class=\"layer-above\"><g class=\"imagelayer\"/><g class=\"shapelayer\"/></g><g class=\"infolayer\"><g class=\"legend\" pointer-events=\"all\" transform=\"translate(818.72,100)\"><rect class=\"bg\" shape-rendering=\"crispEdges\" width=\"69\" height=\"48\" x=\"0\" y=\"0\" style=\"stroke: rgb(68, 68, 68); stroke-opacity: 1; fill: rgb(255, 255, 255); fill-opacity: 1; stroke-width: 0px;\"/><g class=\"scrollbox\" transform=\"\" clip-path=\"url(#legendf9c823)\"><g class=\"groups\"><g class=\"traces\" transform=\"translate(0,14.5)\" style=\"opacity: 1;\"><text class=\"legendtext\" text-anchor=\"start\" x=\"40\" y=\"4.680000000000001\" style=\"font-family: 'Open Sans', verdana, arial, sans-serif; font-size: 12px; fill: rgb(42, 63, 95); fill-opacity: 1; white-space: pre;\">247</text><g class=\"layers\" style=\"opacity: 1;\"><g class=\"legendfill\"/><g class=\"legendlines\"/><g class=\"legendsymbols\"><g class=\"legendpoints\"><path class=\"legendfunnel\" d=\"M6,6H-6V-6H6Z\" transform=\"translate(20,0)\" style=\"stroke-width: 0px; fill: rgb(6, 214, 160); fill-opacity: 1;\"/></g></g></g><rect class=\"legendtoggle\" x=\"0\" y=\"-9.5\" width=\"63.265625\" height=\"19\" style=\"fill: rgb(0, 0, 0); fill-opacity: 0;\"/></g><g class=\"traces\" transform=\"translate(0,33.5)\" style=\"opacity: 1;\"><text class=\"legendtext\" text-anchor=\"start\" x=\"40\" y=\"4.680000000000001\" style=\"font-family: 'Open Sans', verdana, arial, sans-serif; font-size: 12px; fill: rgb(42, 63, 95); fill-opacity: 1; white-space: pre;\">248</text><g class=\"layers\" style=\"opacity: 1;\"><g class=\"legendfill\"/><g class=\"legendlines\"/><g class=\"legendsymbols\"><g class=\"legendpoints\"><path class=\"legendfunnel\" d=\"M6,6H-6V-6H6Z\" transform=\"translate(20,0)\" style=\"stroke-width: 0px; fill: rgb(17, 138, 178); fill-opacity: 1;\"/></g></g></g><rect class=\"legendtoggle\" x=\"0\" y=\"-9.5\" width=\"63.265625\" height=\"19\" style=\"fill: rgb(0, 0, 0); fill-opacity: 0;\"/></g></g></g><rect class=\"scrollbar\" rx=\"20\" ry=\"3\" width=\"0\" height=\"0\" x=\"0\" y=\"0\" style=\"fill: rgb(128, 139, 164); fill-opacity: 1;\"/></g><g class=\"g-gtitle\"><text class=\"gtitle\" x=\"45\" y=\"50\" text-anchor=\"start\" dy=\"0em\" style=\"font-family: 'Open Sans', verdana, arial, sans-serif; font-size: 17px; fill: rgb(42, 63, 95); opacity: 1; font-weight: normal; white-space: pre;\">Воронка пользователей событий по контрольным группам 247 и 248</text></g><g class=\"g-ytitle\"/></g></svg>"
      ]
     },
     "metadata": {},
     "output_type": "display_data"
    }
   ],
   "source": [
    "z_value(247,248,0.05,2)"
   ]
  },
  {
   "cell_type": "markdown",
   "metadata": {},
   "source": [
    "**Вывод:** Ни для оного из событий разница не оказалось значимой из контрольной и экспериментальной группой."
   ]
  },
  {
   "cell_type": "markdown",
   "metadata": {},
   "source": [
    "## Статистические критерии разницу между выборками 246+247 и 248 группами:"
   ]
  },
  {
   "cell_type": "markdown",
   "metadata": {},
   "source": [
    "**Нулевая гипотеза:** доля между группами 246+247 и 248 равна\n",
    "\n",
    "**Альтернативная гипотеза:** доля между группами 246+247 и 248 различается"
   ]
  },
  {
   "cell_type": "code",
   "execution_count": 29,
   "metadata": {},
   "outputs": [
    {
     "name": "stdout",
     "output_type": "stream",
     "text": [
      "MainScreenAppear p-значение: [0.39298915]\n",
      "Не получилось отвергнуть нулевую гипотезу, нет оснований считать доли разными\n",
      "\n",
      "OffersScreenAppear p-значение: [0.41899828]\n",
      "Не получилось отвергнуть нулевую гипотезу, нет оснований считать доли разными\n",
      "\n",
      "PaymentScreenSuccessful p-значение: [0.64520577]\n",
      "Не получилось отвергнуть нулевую гипотезу, нет оснований считать доли разными\n",
      "\n",
      "CartScreenAppear p-значение: [0.19819341]\n",
      "Не получилось отвергнуть нулевую гипотезу, нет оснований считать доли разными\n",
      "\n"
     ]
    },
    {
     "data": {
      "image/svg+xml": [
       "<svg class=\"main-svg\" xmlns=\"http://www.w3.org/2000/svg\" xmlns:xlink=\"http://www.w3.org/1999/xlink\" width=\"900\" height=\"500\" style=\"\" viewBox=\"0 0 900 500\"><rect x=\"0\" y=\"0\" width=\"900\" height=\"500\" style=\"fill: rgb(255, 255, 255); fill-opacity: 1;\"/><defs id=\"defs-330298\"><g class=\"clips\"><clipPath id=\"clip330298xyplot\" class=\"plotclip\"><rect width=\"605\" height=\"320\"/></clipPath><clipPath class=\"axesclip\" id=\"clip330298x\"><rect x=\"170\" y=\"0\" width=\"605\" height=\"500\"/></clipPath><clipPath class=\"axesclip\" id=\"clip330298y\"><rect x=\"0\" y=\"100\" width=\"900\" height=\"320\"/></clipPath><clipPath class=\"axesclip\" id=\"clip330298xy\"><rect x=\"170\" y=\"100\" width=\"605\" height=\"320\"/></clipPath></g><g class=\"gradients\"/><g class=\"patterns\"/></defs><g class=\"bglayer\"><rect class=\"bg\" x=\"170\" y=\"100\" width=\"605\" height=\"320\" style=\"fill: rgb(255, 255, 255); fill-opacity: 1; stroke-width: 0;\"/></g><g class=\"layer-below\"><g class=\"imagelayer\"/><g class=\"shapelayer\"/></g><g class=\"cartesianlayer\"><g class=\"subplot xy\"><g class=\"layer-subplot\"><g class=\"shapelayer\"/><g class=\"imagelayer\"/></g><g class=\"gridlayer\"><g class=\"x\"/><g class=\"y\"/></g><g class=\"zerolinelayer\"/><path class=\"xlines-below\"/><path class=\"ylines-below\"/><g class=\"overlines-below\"/><g class=\"xaxislayer-below\"/><g class=\"yaxislayer-below\"/><g class=\"overaxes-below\"/><g class=\"plot\" transform=\"translate(170,100)\" clip-path=\"url(#clip330298xyplot)\"><g class=\"funnellayer mlayer\"><g class=\"trace bars\" style=\"opacity: 1;\"><g class=\"regions\"><g class=\"region\"><path d=\"M30.25,72L133.9,88H358.8L391.81,72Z\" style=\"stroke-width: 0; fill: rgb(199, 199, 199); fill-opacity: 1;\"/></g><g class=\"region\"><path d=\"M133.9,152L172.67,168H345.63L358.8,152Z\" style=\"stroke-width: 0; fill: rgb(199, 199, 199); fill-opacity: 1;\"/></g><g class=\"region\"><path d=\"M172.67,232L165.48,248H349.23L345.63,232Z\" style=\"stroke-width: 0; fill: rgb(199, 199, 199); fill-opacity: 1;\"/></g><g class=\"region\"><path d=\"M0,0Z\" style=\"stroke-width: 0; fill: rgb(199, 199, 199); fill-opacity: 1;\"/></g></g><g class=\"points\"><g class=\"point\"><path d=\"M30.25,8V72H391.81V8Z\" style=\"vector-effect: non-scaling-stroke; fill: rgb(17, 138, 178); fill-opacity: 1; stroke: rgb(68, 68, 68); stroke-opacity: 1; stroke-width: 0px; opacity: 1;\"/><text class=\"bartext bartext-inside\" text-anchor=\"middle\" data-notex=\"1\" x=\"0\" y=\"0\" style=\"font-family: 'Open Sans', verdana, arial, sans-serif; font-size: 14px; fill: rgb(255, 255, 255); fill-opacity: 1; white-space: pre;\" transform=\"translate(211.03,36.3984375)\"><tspan class=\"line\" dy=\"0em\" x=\"0\" y=\"0\">4929</tspan><tspan class=\"line\" dy=\"1.3em\" x=\"0\" y=\"0\">100%</tspan></text></g><g class=\"point\"><path d=\"M133.9,88V152H358.8V88Z\" style=\"vector-effect: non-scaling-stroke; fill: rgb(17, 138, 178); fill-opacity: 1; stroke: rgb(68, 68, 68); stroke-opacity: 1; stroke-width: 0px; opacity: 1;\"/><text class=\"bartext bartext-inside\" text-anchor=\"middle\" data-notex=\"1\" x=\"0\" y=\"0\" style=\"font-family: 'Open Sans', verdana, arial, sans-serif; font-size: 14px; fill: rgb(255, 255, 255); fill-opacity: 1; white-space: pre;\" transform=\"translate(246.30312500000002,116.3984375)\"><tspan class=\"line\" dy=\"0em\" x=\"0\" y=\"0\">3066</tspan><tspan class=\"line\" dy=\"1.3em\" x=\"0\" y=\"0\">62%</tspan></text></g><g class=\"point\"><path d=\"M172.67,168V232H345.63V168Z\" style=\"vector-effect: non-scaling-stroke; fill: rgb(17, 138, 178); fill-opacity: 1; stroke: rgb(68, 68, 68); stroke-opacity: 1; stroke-width: 0px; opacity: 1;\"/><text class=\"bartext bartext-inside\" text-anchor=\"middle\" data-notex=\"1\" x=\"0\" y=\"0\" style=\"font-family: 'Open Sans', verdana, arial, sans-serif; font-size: 14px; fill: rgb(255, 255, 255); fill-opacity: 1; white-space: pre;\" transform=\"translate(259.103125,196.3984375)\"><tspan class=\"line\" dy=\"0em\" x=\"0\" y=\"0\">2358</tspan><tspan class=\"line\" dy=\"1.3em\" x=\"0\" y=\"0\">48%</tspan></text></g><g class=\"point\"><path d=\"M165.48,248V312H349.23V248Z\" style=\"vector-effect: non-scaling-stroke; fill: rgb(17, 138, 178); fill-opacity: 1; stroke: rgb(68, 68, 68); stroke-opacity: 1; stroke-width: 0px; opacity: 1;\"/><text class=\"bartext bartext-inside\" text-anchor=\"middle\" data-notex=\"1\" x=\"0\" y=\"0\" style=\"font-family: 'Open Sans', verdana, arial, sans-serif; font-size: 14px; fill: rgb(255, 255, 255); fill-opacity: 1; white-space: pre;\" transform=\"translate(257.308125,276.3984375)\"><tspan class=\"line\" dy=\"0em\" x=\"0\" y=\"0\">2505</tspan><tspan class=\"line\" dy=\"1.3em\" x=\"0\" y=\"0\">51%</tspan></text></g></g></g><g class=\"trace bars\" style=\"opacity: 1;\"><g class=\"regions\"><g class=\"region\"><path d=\"M391.81,72L358.8,88H471.1L574.75,72Z\" style=\"stroke-width: 0; fill: rgb(199, 199, 199); fill-opacity: 1;\"/></g><g class=\"region\"><path d=\"M358.8,152L345.63,168H432.33L471.1,152Z\" style=\"stroke-width: 0; fill: rgb(199, 199, 199); fill-opacity: 1;\"/></g><g class=\"region\"><path d=\"M345.63,232L349.23,248H439.52L432.33,232Z\" style=\"stroke-width: 0; fill: rgb(199, 199, 199); fill-opacity: 1;\"/></g><g class=\"region\"><path d=\"M0,0Z\" style=\"stroke-width: 0; fill: rgb(199, 199, 199); fill-opacity: 1;\"/></g></g><g class=\"points\"><g class=\"point\"><path d=\"M391.81,8V72H574.75V8Z\" style=\"vector-effect: non-scaling-stroke; fill: rgb(7, 59, 76); fill-opacity: 1; stroke: rgb(68, 68, 68); stroke-opacity: 1; stroke-width: 0px; opacity: 1;\"/><text class=\"bartext bartext-inside\" text-anchor=\"middle\" data-notex=\"1\" x=\"0\" y=\"0\" style=\"font-family: 'Open Sans', verdana, arial, sans-serif; font-size: 14px; fill: rgb(255, 255, 255); fill-opacity: 1; white-space: pre;\" transform=\"translate(483.28,36.3984375)\"><tspan class=\"line\" dy=\"0em\" x=\"0\" y=\"0\">2494</tspan><tspan class=\"line\" dy=\"1.3em\" x=\"0\" y=\"0\">100%</tspan></text></g><g class=\"point\"><path d=\"M358.8,88V152H471.1V88Z\" style=\"vector-effect: non-scaling-stroke; fill: rgb(7, 59, 76); fill-opacity: 1; stroke: rgb(68, 68, 68); stroke-opacity: 1; stroke-width: 0px; opacity: 1;\"/><text class=\"bartext bartext-inside\" text-anchor=\"middle\" data-notex=\"1\" x=\"0\" y=\"0\" style=\"font-family: 'Open Sans', verdana, arial, sans-serif; font-size: 14px; fill: rgb(255, 255, 255); fill-opacity: 1; white-space: pre;\" transform=\"translate(414.95000000000005,116.3984375)\"><tspan class=\"line\" dy=\"0em\" x=\"0\" y=\"0\">1531</tspan><tspan class=\"line\" dy=\"1.3em\" x=\"0\" y=\"0\">61%</tspan></text></g><g class=\"point\"><path d=\"M345.63,168V232H432.33V168Z\" style=\"vector-effect: non-scaling-stroke; fill: rgb(7, 59, 76); fill-opacity: 1; stroke: rgb(68, 68, 68); stroke-opacity: 1; stroke-width: 0px; opacity: 1;\"/><text class=\"bartext bartext-inside\" text-anchor=\"middle\" data-notex=\"1\" x=\"0\" y=\"0\" style=\"font-family: 'Open Sans', verdana, arial, sans-serif; font-size: 14px; fill: rgb(255, 255, 255); fill-opacity: 1; white-space: pre;\" transform=\"translate(388.933125,196.3984375)\"><tspan class=\"line\" dy=\"0em\" x=\"0\" y=\"0\">1182</tspan><tspan class=\"line\" dy=\"1.3em\" x=\"0\" y=\"0\">47%</tspan></text></g><g class=\"point\"><path d=\"M349.23,248V312H439.52V248Z\" style=\"vector-effect: non-scaling-stroke; fill: rgb(7, 59, 76); fill-opacity: 1; stroke: rgb(68, 68, 68); stroke-opacity: 1; stroke-width: 0px; opacity: 1;\"/><text class=\"bartext bartext-inside\" text-anchor=\"middle\" data-notex=\"1\" x=\"0\" y=\"0\" style=\"font-family: 'Open Sans', verdana, arial, sans-serif; font-size: 14px; fill: rgb(255, 255, 255); fill-opacity: 1; white-space: pre;\" transform=\"translate(394.375,276.3984375)\"><tspan class=\"line\" dy=\"0em\" x=\"0\" y=\"0\">1231</tspan><tspan class=\"line\" dy=\"1.3em\" x=\"0\" y=\"0\">49%</tspan></text></g></g></g></g></g><g class=\"overplot\"/><path class=\"xlines-above crisp\" d=\"M0,0\" style=\"fill: none;\"/><path class=\"ylines-above crisp\" d=\"M0,0\" style=\"fill: none;\"/><g class=\"overlines-above\"/><g class=\"xaxislayer-above\"/><g class=\"yaxislayer-above\"><g class=\"ytick\"><text text-anchor=\"end\" x=\"169\" y=\"4.199999999999999\" transform=\"translate(0,380)\" style=\"font-family: 'Open Sans', verdana, arial, sans-serif; font-size: 12px; fill: rgb(42, 63, 95); fill-opacity: 1; white-space: pre; opacity: 1;\">CartScreenAppear</text></g><g class=\"ytick\"><text text-anchor=\"end\" x=\"169\" y=\"4.199999999999999\" transform=\"translate(0,300)\" style=\"font-family: 'Open Sans', verdana, arial, sans-serif; font-size: 12px; fill: rgb(42, 63, 95); fill-opacity: 1; white-space: pre; opacity: 1;\">PaymentScreenSuccessful</text></g><g class=\"ytick\"><text text-anchor=\"end\" x=\"169\" y=\"4.199999999999999\" transform=\"translate(0,220)\" style=\"font-family: 'Open Sans', verdana, arial, sans-serif; font-size: 12px; fill: rgb(42, 63, 95); fill-opacity: 1; white-space: pre; opacity: 1;\">OffersScreenAppear</text></g><g class=\"ytick\"><text text-anchor=\"end\" x=\"169\" y=\"4.199999999999999\" transform=\"translate(0,140)\" style=\"font-family: 'Open Sans', verdana, arial, sans-serif; font-size: 12px; fill: rgb(42, 63, 95); fill-opacity: 1; white-space: pre; opacity: 1;\">MainScreenAppear</text></g></g><g class=\"overaxes-above\"/></g></g><g class=\"polarlayer\"/><g class=\"ternarylayer\"/><g class=\"geolayer\"/><g class=\"funnelarealayer\"/><g class=\"pielayer\"/><g class=\"iciclelayer\"/><g class=\"treemaplayer\"/><g class=\"sunburstlayer\"/><g class=\"glimages\"/><defs id=\"topdefs-330298\"><g class=\"clips\"/><clipPath id=\"legend330298\"><rect width=\"101\" height=\"48\" x=\"0\" y=\"0\"/></clipPath></defs><g class=\"layer-above\"><g class=\"imagelayer\"/><g class=\"shapelayer\"/></g><g class=\"infolayer\"><g class=\"legend\" pointer-events=\"all\" transform=\"translate(787.1,100)\"><rect class=\"bg\" shape-rendering=\"crispEdges\" style=\"stroke: rgb(68, 68, 68); stroke-opacity: 1; fill: rgb(255, 255, 255); fill-opacity: 1; stroke-width: 0px;\" width=\"101\" height=\"48\" x=\"0\" y=\"0\"/><g class=\"scrollbox\" transform=\"\" clip-path=\"url(#legend330298)\"><g class=\"groups\"><g class=\"traces\" transform=\"translate(0,14.5)\" style=\"opacity: 1;\"><text class=\"legendtext\" text-anchor=\"start\" x=\"40\" y=\"4.680000000000001\" style=\"font-family: 'Open Sans', verdana, arial, sans-serif; font-size: 12px; fill: rgb(42, 63, 95); fill-opacity: 1; white-space: pre;\">246+247</text><g class=\"layers\" style=\"opacity: 1;\"><g class=\"legendfill\"/><g class=\"legendlines\"/><g class=\"legendsymbols\"><g class=\"legendpoints\"><path class=\"legendfunnel\" d=\"M6,6H-6V-6H6Z\" transform=\"translate(20,0)\" style=\"stroke-width: 0px; fill: rgb(17, 138, 178); fill-opacity: 1;\"/></g></g></g><rect class=\"legendtoggle\" x=\"0\" y=\"-9.5\" width=\"95.96875\" height=\"19\" style=\"fill: rgb(0, 0, 0); fill-opacity: 0;\"/></g><g class=\"traces\" transform=\"translate(0,33.5)\" style=\"opacity: 1;\"><text class=\"legendtext\" text-anchor=\"start\" x=\"40\" y=\"4.680000000000001\" style=\"font-family: 'Open Sans', verdana, arial, sans-serif; font-size: 12px; fill: rgb(42, 63, 95); fill-opacity: 1; white-space: pre;\">248</text><g class=\"layers\" style=\"opacity: 1;\"><g class=\"legendfill\"/><g class=\"legendlines\"/><g class=\"legendsymbols\"><g class=\"legendpoints\"><path class=\"legendfunnel\" d=\"M6,6H-6V-6H6Z\" transform=\"translate(20,0)\" style=\"stroke-width: 0px; fill: rgb(7, 59, 76); fill-opacity: 1;\"/></g></g></g><rect class=\"legendtoggle\" x=\"0\" y=\"-9.5\" width=\"95.96875\" height=\"19\" style=\"fill: rgb(0, 0, 0); fill-opacity: 0;\"/></g></g></g><rect class=\"scrollbar\" rx=\"20\" ry=\"3\" width=\"0\" height=\"0\" style=\"fill: rgb(128, 139, 164); fill-opacity: 1;\" x=\"0\" y=\"0\"/></g><g class=\"g-gtitle\"><text class=\"gtitle\" x=\"45\" y=\"50\" text-anchor=\"start\" dy=\"0em\" style=\"font-family: 'Open Sans', verdana, arial, sans-serif; font-size: 17px; fill: rgb(42, 63, 95); opacity: 1; font-weight: normal; white-space: pre;\">Воронка пользователей событий по контрольным группам 246+247 и 248</text></g><g class=\"g-ytitle\"/></g></svg>"
      ]
     },
     "metadata": {},
     "output_type": "display_data"
    }
   ],
   "source": [
    "z_value('246+247',248,0.05,3)"
   ]
  },
  {
   "cell_type": "markdown",
   "metadata": {},
   "source": [
    "**Вывод:** Сравнение результатов с объединенной контрольной группой также не показало значимой разницы."
   ]
  },
  {
   "cell_type": "markdown",
   "metadata": {},
   "source": [
    "# Общий вывод"
   ]
  },
  {
   "cell_type": "markdown",
   "metadata": {},
   "source": [
    "Анализируя гистограмму по дате и времени, можно сказать, что полные данные наступают с 31 июля 21:00 агуста и до конца исследуемого периода - 7 августа 2019 года. С таким периодом и будем работать.\n",
    "\n",
    "При исследовании воронки событий мы выяснили, что от первого события до оплаты доходит меньше половины пользователей:\n",
    "- MainScreenAppear совершили 98.47% пользователей, \n",
    "- 60.96% OffersScreenAppear\n",
    "- 49.56% CartScreenAppear,\n",
    "- 46.97% PaymentScreenSuccessful.\n",
    "\n",
    "\n",
    "Доля пользователей посетили:\n",
    "- **MainScreenAppear** - 98.47%. Остальная часть пользователей сразу перешли в каталог или у них не отработала ссылка;\n",
    "- **OffersScreenAppear** 60.96%. Остальная часть пользователей не увидели каталог товаров. Поскольку клиент уже был заинтересован в приложении, то 30% пользователей не смогли ознакомится с товаром, что говорит о потенциальной некорректной ошибкт приложения.\n",
    "- **CartScreenAppear** 49.56%. Возможно остальная часть пользователей не смогла найти интересующий его товар.\n",
    "- **PaymentScreenSuccessful** 46.97%. 3% людей не оплатили заказ. Возможно не хватило средст на карте или не смогли разобраться в способе оплаты. Это небольшая доля пользователей, можно сослаться на человеческий фактор(передумал, не хватило времени или др.)\n",
    "- **Tutorial** 11.15%. Интересно, что их там заинтересовало. Ведь все основные способы из лида сделать целевым клиентом типовые. \n",
    "\n",
    "Мы провели 16 проверок статистических гипотез с уровнем значимости 0.05 (12 из них проверяли разницу между контрольными группами и группой с изменённым шрифтом) и ни одна из них не выявила значимой разницы.\n",
    "\n",
    "При уровне значимости 0.1 только одна из проверок покажет значимую разницу, между контрольной группой 246 и экспериментальной в доле перехода пользователей в корзину(CartScreenAppear), но эта разница будет не в пользу нашей экспериментальной группы. Но при уровне значимости 0.1 каждый десятый раз можно получать ложный результат, поэтому стоит применить изначально выбранный нами уровень значимости 0.05.\n",
    "\n",
    "Исходя из результатов данного A/A/B-эксперимента, мы можем судить, что на поведение пользователей изменение шрифта значимого эффекта не оказало. Что можно считать успехом, т.к. целью было узнать не отпугнут ли изменения пользователей. В то же время учитывая результаты эксперимента, если изменение шрифта не продиктовано проблемами в работе приложения, его можно не менять."
   ]
  }
 ],
 "metadata": {
  "ExecuteTimeLog": [
   {
    "duration": 1882,
    "start_time": "2021-07-19T18:08:35.939Z"
   },
   {
    "duration": 23,
    "start_time": "2021-07-19T18:14:18.652Z"
   },
   {
    "duration": 21,
    "start_time": "2021-07-19T18:14:31.255Z"
   },
   {
    "duration": 29,
    "start_time": "2021-07-19T18:14:46.438Z"
   },
   {
    "duration": 30,
    "start_time": "2021-07-19T18:17:42.739Z"
   },
   {
    "duration": 22,
    "start_time": "2021-07-19T18:19:24.716Z"
   },
   {
    "duration": 210,
    "start_time": "2021-07-19T18:19:31.644Z"
   },
   {
    "duration": 174,
    "start_time": "2021-07-19T18:19:44.425Z"
   },
   {
    "duration": 774,
    "start_time": "2021-07-19T18:36:45.183Z"
   },
   {
    "duration": 324,
    "start_time": "2021-07-19T18:42:27.475Z"
   },
   {
    "duration": 212,
    "start_time": "2021-07-19T18:42:53.932Z"
   },
   {
    "duration": 14,
    "start_time": "2021-07-19T18:44:06.039Z"
   },
   {
    "duration": 101,
    "start_time": "2021-07-19T18:44:58.073Z"
   },
   {
    "duration": 1439,
    "start_time": "2021-07-20T17:16:10.072Z"
   },
   {
    "duration": 679,
    "start_time": "2021-07-20T17:16:11.513Z"
   },
   {
    "duration": 11,
    "start_time": "2021-07-20T17:16:12.196Z"
   },
   {
    "duration": 10,
    "start_time": "2021-07-20T17:20:46.022Z"
   },
   {
    "duration": 11,
    "start_time": "2021-07-20T17:20:49.926Z"
   },
   {
    "duration": 6,
    "start_time": "2021-07-20T17:23:34.788Z"
   },
   {
    "duration": 13,
    "start_time": "2021-07-20T17:23:38.505Z"
   },
   {
    "duration": 6,
    "start_time": "2021-07-20T17:24:20.972Z"
   },
   {
    "duration": 14,
    "start_time": "2021-07-20T17:24:22.826Z"
   },
   {
    "duration": 68,
    "start_time": "2021-07-20T17:25:29.770Z"
   },
   {
    "duration": 14,
    "start_time": "2021-07-20T17:25:31.860Z"
   },
   {
    "duration": 359,
    "start_time": "2021-07-20T17:31:37.779Z"
   },
   {
    "duration": 46,
    "start_time": "2021-07-20T17:31:43.361Z"
   },
   {
    "duration": 233,
    "start_time": "2021-07-20T17:33:07.617Z"
   },
   {
    "duration": 4,
    "start_time": "2021-07-20T17:33:12.876Z"
   },
   {
    "duration": 4,
    "start_time": "2021-07-20T17:33:16.584Z"
   },
   {
    "duration": 19,
    "start_time": "2021-07-20T17:33:28.253Z"
   },
   {
    "duration": 33,
    "start_time": "2021-07-20T17:33:47.185Z"
   },
   {
    "duration": 36,
    "start_time": "2021-07-20T17:35:19.398Z"
   },
   {
    "duration": 31,
    "start_time": "2021-07-20T17:37:14.554Z"
   },
   {
    "duration": 30,
    "start_time": "2021-07-20T17:37:23.954Z"
   },
   {
    "duration": 74,
    "start_time": "2021-07-20T17:38:09.851Z"
   },
   {
    "duration": 32,
    "start_time": "2021-07-20T17:38:14.495Z"
   },
   {
    "duration": 30,
    "start_time": "2021-07-20T17:38:59.518Z"
   },
   {
    "duration": 240,
    "start_time": "2021-07-20T17:40:51.361Z"
   },
   {
    "duration": 225,
    "start_time": "2021-07-20T17:40:55.409Z"
   },
   {
    "duration": 231,
    "start_time": "2021-07-20T17:41:28.882Z"
   },
   {
    "duration": 246,
    "start_time": "2021-07-20T17:41:50.935Z"
   },
   {
    "duration": 4,
    "start_time": "2021-07-20T17:42:00.149Z"
   },
   {
    "duration": 24,
    "start_time": "2021-07-20T17:42:07.452Z"
   },
   {
    "duration": 20,
    "start_time": "2021-07-20T17:42:58.568Z"
   },
   {
    "duration": 25,
    "start_time": "2021-07-20T17:43:09.415Z"
   },
   {
    "duration": 19,
    "start_time": "2021-07-20T17:43:32.907Z"
   },
   {
    "duration": 20,
    "start_time": "2021-07-20T17:44:41.921Z"
   },
   {
    "duration": 19,
    "start_time": "2021-07-20T17:44:49.477Z"
   },
   {
    "duration": 18,
    "start_time": "2021-07-20T17:44:55.653Z"
   },
   {
    "duration": 13,
    "start_time": "2021-07-20T17:49:14.529Z"
   },
   {
    "duration": 16,
    "start_time": "2021-07-20T17:49:26.708Z"
   },
   {
    "duration": 22,
    "start_time": "2021-07-20T17:50:10.102Z"
   },
   {
    "duration": 71,
    "start_time": "2021-07-20T17:52:25.324Z"
   },
   {
    "duration": 6,
    "start_time": "2021-07-20T17:52:32.540Z"
   },
   {
    "duration": 17,
    "start_time": "2021-07-20T17:52:36.481Z"
   },
   {
    "duration": 12,
    "start_time": "2021-07-20T17:52:46.554Z"
   },
   {
    "duration": 12,
    "start_time": "2021-07-20T17:53:56.963Z"
   },
   {
    "duration": 12,
    "start_time": "2021-07-20T17:53:59.853Z"
   },
   {
    "duration": 14,
    "start_time": "2021-07-20T17:54:10.806Z"
   },
   {
    "duration": 4,
    "start_time": "2021-07-20T17:54:22.265Z"
   },
   {
    "duration": 13,
    "start_time": "2021-07-20T17:54:43.515Z"
   },
   {
    "duration": 87,
    "start_time": "2021-07-20T17:55:46.144Z"
   },
   {
    "duration": 15,
    "start_time": "2021-07-20T17:55:51.200Z"
   },
   {
    "duration": 18,
    "start_time": "2021-07-20T17:55:53.274Z"
   },
   {
    "duration": 91,
    "start_time": "2021-07-20T17:56:30.534Z"
   },
   {
    "duration": 96,
    "start_time": "2021-07-20T17:56:34.826Z"
   },
   {
    "duration": 13,
    "start_time": "2021-07-20T17:56:38.140Z"
   },
   {
    "duration": 2995,
    "start_time": "2021-07-20T17:56:57.115Z"
   },
   {
    "duration": 2825,
    "start_time": "2021-07-20T17:57:23.164Z"
   },
   {
    "duration": 1413,
    "start_time": "2021-07-20T17:57:30.624Z"
   },
   {
    "duration": 142,
    "start_time": "2021-07-20T17:57:32.039Z"
   },
   {
    "duration": 14,
    "start_time": "2021-07-20T17:57:32.184Z"
   },
   {
    "duration": 5839,
    "start_time": "2021-07-20T17:57:32.200Z"
   },
   {
    "duration": -255,
    "start_time": "2021-07-20T17:57:38.296Z"
   },
   {
    "duration": -265,
    "start_time": "2021-07-20T17:57:38.307Z"
   },
   {
    "duration": -276,
    "start_time": "2021-07-20T17:57:38.319Z"
   },
   {
    "duration": -278,
    "start_time": "2021-07-20T17:57:38.322Z"
   },
   {
    "duration": -280,
    "start_time": "2021-07-20T17:57:38.325Z"
   },
   {
    "duration": 14,
    "start_time": "2021-07-20T17:57:54.107Z"
   },
   {
    "duration": 1313,
    "start_time": "2021-07-20T17:58:01.651Z"
   },
   {
    "duration": 137,
    "start_time": "2021-07-20T17:58:02.966Z"
   },
   {
    "duration": 9,
    "start_time": "2021-07-20T17:58:03.105Z"
   },
   {
    "duration": 12,
    "start_time": "2021-07-20T17:58:03.116Z"
   },
   {
    "duration": 27,
    "start_time": "2021-07-20T17:58:03.129Z"
   },
   {
    "duration": 48,
    "start_time": "2021-07-20T17:58:03.157Z"
   },
   {
    "duration": 16,
    "start_time": "2021-07-20T17:58:03.206Z"
   },
   {
    "duration": 5,
    "start_time": "2021-07-20T17:58:03.224Z"
   },
   {
    "duration": 11,
    "start_time": "2021-07-20T17:58:03.231Z"
   },
   {
    "duration": 4,
    "start_time": "2021-07-20T17:59:00.813Z"
   },
   {
    "duration": 3,
    "start_time": "2021-07-20T18:01:01.338Z"
   },
   {
    "duration": 6386,
    "start_time": "2021-07-20T18:03:26.288Z"
   },
   {
    "duration": 5899,
    "start_time": "2021-07-20T18:04:25.098Z"
   },
   {
    "duration": 6010,
    "start_time": "2021-07-20T18:04:44.817Z"
   },
   {
    "duration": 391,
    "start_time": "2021-07-20T18:07:22.165Z"
   },
   {
    "duration": 3,
    "start_time": "2021-07-20T18:09:14.837Z"
   },
   {
    "duration": 1962,
    "start_time": "2021-07-20T18:10:54.578Z"
   },
   {
    "duration": 3,
    "start_time": "2021-07-20T18:11:06.495Z"
   },
   {
    "duration": 3,
    "start_time": "2021-07-20T18:11:12.355Z"
   },
   {
    "duration": 3,
    "start_time": "2021-07-20T18:11:15.539Z"
   },
   {
    "duration": 2964,
    "start_time": "2021-07-20T18:12:23.837Z"
   },
   {
    "duration": 3,
    "start_time": "2021-07-20T18:12:30.436Z"
   },
   {
    "duration": 3,
    "start_time": "2021-07-20T18:12:33.772Z"
   },
   {
    "duration": 243,
    "start_time": "2021-07-20T18:12:41.463Z"
   },
   {
    "duration": 5451,
    "start_time": "2021-07-20T18:13:29.304Z"
   },
   {
    "duration": 1161,
    "start_time": "2021-07-20T18:13:54.186Z"
   },
   {
    "duration": 144,
    "start_time": "2021-07-20T18:13:55.349Z"
   },
   {
    "duration": 14,
    "start_time": "2021-07-20T18:13:55.495Z"
   },
   {
    "duration": 14,
    "start_time": "2021-07-20T18:13:55.511Z"
   },
   {
    "duration": 30,
    "start_time": "2021-07-20T18:13:55.527Z"
   },
   {
    "duration": 49,
    "start_time": "2021-07-20T18:13:55.559Z"
   },
   {
    "duration": 20,
    "start_time": "2021-07-20T18:13:55.609Z"
   },
   {
    "duration": 4,
    "start_time": "2021-07-20T18:13:55.631Z"
   },
   {
    "duration": 4,
    "start_time": "2021-07-20T18:13:55.637Z"
   },
   {
    "duration": 6592,
    "start_time": "2021-07-20T18:13:55.642Z"
   },
   {
    "duration": 6500,
    "start_time": "2021-07-20T18:15:18.557Z"
   },
   {
    "duration": 13,
    "start_time": "2021-07-20T18:24:09.221Z"
   },
   {
    "duration": 16,
    "start_time": "2021-07-20T18:24:14.062Z"
   },
   {
    "duration": 13,
    "start_time": "2021-07-20T18:24:18.872Z"
   },
   {
    "duration": 13,
    "start_time": "2021-07-20T18:24:54.020Z"
   },
   {
    "duration": 13,
    "start_time": "2021-07-20T18:24:56.833Z"
   },
   {
    "duration": 11,
    "start_time": "2021-07-20T18:25:50.366Z"
   },
   {
    "duration": 69,
    "start_time": "2021-07-20T18:26:56.362Z"
   },
   {
    "duration": 22,
    "start_time": "2021-07-20T18:27:13.622Z"
   },
   {
    "duration": 79,
    "start_time": "2021-07-20T18:27:25.086Z"
   },
   {
    "duration": 78,
    "start_time": "2021-07-20T18:28:19.451Z"
   },
   {
    "duration": 70,
    "start_time": "2021-07-20T18:28:26.795Z"
   },
   {
    "duration": 23,
    "start_time": "2021-07-20T18:28:36.408Z"
   },
   {
    "duration": 21,
    "start_time": "2021-07-20T18:29:11.098Z"
   },
   {
    "duration": 75,
    "start_time": "2021-07-20T18:30:01.415Z"
   },
   {
    "duration": 23,
    "start_time": "2021-07-20T18:30:20.453Z"
   },
   {
    "duration": 23,
    "start_time": "2021-07-20T18:30:51.167Z"
   },
   {
    "duration": 22,
    "start_time": "2021-07-20T18:31:16.661Z"
   },
   {
    "duration": 13,
    "start_time": "2021-07-20T18:39:26.624Z"
   },
   {
    "duration": 77,
    "start_time": "2021-07-20T18:40:05.502Z"
   },
   {
    "duration": 11,
    "start_time": "2021-07-20T18:40:15.780Z"
   },
   {
    "duration": 11,
    "start_time": "2021-07-20T18:40:34.634Z"
   },
   {
    "duration": 1880,
    "start_time": "2021-07-21T18:51:43.149Z"
   },
   {
    "duration": 195,
    "start_time": "2021-07-21T18:51:45.035Z"
   },
   {
    "duration": 28,
    "start_time": "2021-07-21T18:51:45.233Z"
   },
   {
    "duration": 17,
    "start_time": "2021-07-21T18:51:45.264Z"
   },
   {
    "duration": 47,
    "start_time": "2021-07-21T18:51:45.284Z"
   },
   {
    "duration": 53,
    "start_time": "2021-07-21T18:51:45.333Z"
   },
   {
    "duration": 25,
    "start_time": "2021-07-21T18:51:45.389Z"
   },
   {
    "duration": 4,
    "start_time": "2021-07-21T18:51:45.417Z"
   },
   {
    "duration": 5,
    "start_time": "2021-07-21T18:51:45.454Z"
   },
   {
    "duration": 11756,
    "start_time": "2021-07-21T18:51:45.461Z"
   },
   {
    "duration": 45,
    "start_time": "2021-07-21T18:51:57.219Z"
   },
   {
    "duration": 89,
    "start_time": "2021-07-21T18:51:57.266Z"
   },
   {
    "duration": 36,
    "start_time": "2021-07-21T18:51:57.357Z"
   },
   {
    "duration": 73,
    "start_time": "2021-07-21T18:51:57.395Z"
   },
   {
    "duration": 21,
    "start_time": "2021-07-21T18:55:44.562Z"
   },
   {
    "duration": 531,
    "start_time": "2021-07-21T18:56:05.470Z"
   },
   {
    "duration": 31,
    "start_time": "2021-07-21T18:56:15.779Z"
   },
   {
    "duration": 31,
    "start_time": "2021-07-21T18:56:25.550Z"
   },
   {
    "duration": 31,
    "start_time": "2021-07-21T18:58:22.425Z"
   },
   {
    "duration": 32,
    "start_time": "2021-07-21T18:58:34.404Z"
   },
   {
    "duration": 310,
    "start_time": "2021-07-21T19:03:54.342Z"
   },
   {
    "duration": 325,
    "start_time": "2021-07-21T19:04:04.658Z"
   },
   {
    "duration": 28,
    "start_time": "2021-07-21T19:04:42.879Z"
   },
   {
    "duration": 9,
    "start_time": "2021-07-21T19:04:53.192Z"
   },
   {
    "duration": 29,
    "start_time": "2021-07-21T19:05:19.999Z"
   },
   {
    "duration": 11,
    "start_time": "2021-07-21T19:05:25.266Z"
   },
   {
    "duration": 31,
    "start_time": "2021-07-21T19:06:59.114Z"
   },
   {
    "duration": 10,
    "start_time": "2021-07-21T19:07:10.987Z"
   },
   {
    "duration": 31,
    "start_time": "2021-07-21T19:07:33.772Z"
   },
   {
    "duration": 10,
    "start_time": "2021-07-21T19:07:36.105Z"
   },
   {
    "duration": 36,
    "start_time": "2021-07-21T19:07:46.341Z"
   },
   {
    "duration": 23,
    "start_time": "2021-07-21T19:10:11.292Z"
   },
   {
    "duration": 340,
    "start_time": "2021-07-21T19:11:28.607Z"
   },
   {
    "duration": 65,
    "start_time": "2021-07-21T19:12:02.837Z"
   },
   {
    "duration": 67,
    "start_time": "2021-07-21T19:12:07.932Z"
   },
   {
    "duration": 68,
    "start_time": "2021-07-21T19:12:16.855Z"
   },
   {
    "duration": 65,
    "start_time": "2021-07-21T19:13:57.694Z"
   },
   {
    "duration": 70,
    "start_time": "2021-07-21T19:14:02.899Z"
   },
   {
    "duration": 72,
    "start_time": "2021-07-21T19:20:07.884Z"
   },
   {
    "duration": 71,
    "start_time": "2021-07-21T19:20:59.153Z"
   },
   {
    "duration": 82,
    "start_time": "2021-07-21T19:21:24.106Z"
   },
   {
    "duration": 75,
    "start_time": "2021-07-21T19:21:30.389Z"
   },
   {
    "duration": 96,
    "start_time": "2021-07-21T19:26:43.783Z"
   },
   {
    "duration": 73,
    "start_time": "2021-07-21T19:27:25.847Z"
   },
   {
    "duration": 839,
    "start_time": "2021-07-21T19:38:01.905Z"
   },
   {
    "duration": 391,
    "start_time": "2021-07-21T19:38:30.598Z"
   },
   {
    "duration": 11,
    "start_time": "2021-07-21T19:40:02.649Z"
   },
   {
    "duration": 440,
    "start_time": "2021-07-21T19:40:59.938Z"
   },
   {
    "duration": 701,
    "start_time": "2021-07-21T19:42:03.976Z"
   },
   {
    "duration": 742,
    "start_time": "2021-07-21T19:43:38.161Z"
   },
   {
    "duration": 852,
    "start_time": "2021-07-21T19:43:54.933Z"
   },
   {
    "duration": 1519,
    "start_time": "2021-07-21T19:44:13.788Z"
   },
   {
    "duration": 429,
    "start_time": "2021-07-21T19:45:09.884Z"
   },
   {
    "duration": 10,
    "start_time": "2021-07-21T19:47:38.048Z"
   },
   {
    "duration": 719,
    "start_time": "2021-07-21T19:48:09.950Z"
   },
   {
    "duration": 952,
    "start_time": "2021-07-21T19:48:16.704Z"
   },
   {
    "duration": 11,
    "start_time": "2021-07-21T19:48:36.556Z"
   },
   {
    "duration": 11,
    "start_time": "2021-07-21T19:48:46.987Z"
   },
   {
    "duration": 15,
    "start_time": "2021-07-21T19:49:28.832Z"
   },
   {
    "duration": 778,
    "start_time": "2021-07-21T19:49:44.116Z"
   },
   {
    "duration": 1274,
    "start_time": "2021-07-21T19:49:48.909Z"
   },
   {
    "duration": 447,
    "start_time": "2021-07-21T19:51:13.647Z"
   },
   {
    "duration": 446,
    "start_time": "2021-07-21T19:51:22.245Z"
   },
   {
    "duration": 486,
    "start_time": "2021-07-21T19:51:59.715Z"
   },
   {
    "duration": 443,
    "start_time": "2021-07-21T19:53:11.736Z"
   },
   {
    "duration": 6,
    "start_time": "2021-07-21T19:58:07.167Z"
   },
   {
    "duration": 93,
    "start_time": "2021-07-21T20:01:38.770Z"
   },
   {
    "duration": 100,
    "start_time": "2021-07-21T20:01:48.165Z"
   },
   {
    "duration": 117,
    "start_time": "2021-07-21T20:02:01.321Z"
   },
   {
    "duration": 125,
    "start_time": "2021-07-21T20:02:16.177Z"
   },
   {
    "duration": 99,
    "start_time": "2021-07-21T20:02:24.480Z"
   },
   {
    "duration": 99,
    "start_time": "2021-07-21T20:02:57.686Z"
   },
   {
    "duration": 91,
    "start_time": "2021-07-21T20:03:21.813Z"
   },
   {
    "duration": 102,
    "start_time": "2021-07-21T20:03:39.102Z"
   },
   {
    "duration": 432,
    "start_time": "2021-07-21T20:04:05.709Z"
   },
   {
    "duration": 1081,
    "start_time": "2021-07-21T20:05:35.047Z"
   },
   {
    "duration": 469,
    "start_time": "2021-07-21T20:05:43.240Z"
   },
   {
    "duration": 785,
    "start_time": "2021-07-21T20:06:13.319Z"
   },
   {
    "duration": 617,
    "start_time": "2021-07-21T20:17:49.785Z"
   },
   {
    "duration": 10,
    "start_time": "2021-07-21T20:18:52.244Z"
   },
   {
    "duration": 624,
    "start_time": "2021-07-21T20:19:21.288Z"
   },
   {
    "duration": 654,
    "start_time": "2021-07-21T20:19:44.654Z"
   },
   {
    "duration": 467,
    "start_time": "2021-07-21T20:20:31.607Z"
   },
   {
    "duration": 11,
    "start_time": "2021-07-21T20:21:19.922Z"
   },
   {
    "duration": 6,
    "start_time": "2021-07-21T20:21:51.671Z"
   },
   {
    "duration": 1023,
    "start_time": "2021-07-21T20:21:57.156Z"
   },
   {
    "duration": 6,
    "start_time": "2021-07-21T20:22:53.278Z"
   },
   {
    "duration": 442,
    "start_time": "2021-07-21T20:23:00.566Z"
   },
   {
    "duration": 478,
    "start_time": "2021-07-21T20:23:05.539Z"
   },
   {
    "duration": 1086,
    "start_time": "2021-07-21T20:24:08.368Z"
   },
   {
    "duration": 474,
    "start_time": "2021-07-21T20:24:38.658Z"
   },
   {
    "duration": 475,
    "start_time": "2021-07-21T20:25:17.151Z"
   },
   {
    "duration": 185,
    "start_time": "2021-07-21T20:38:23.804Z"
   },
   {
    "duration": 337,
    "start_time": "2021-07-21T20:39:20.972Z"
   },
   {
    "duration": 179,
    "start_time": "2021-07-21T20:41:32.442Z"
   },
   {
    "duration": 259,
    "start_time": "2021-07-21T20:43:59.539Z"
   },
   {
    "duration": 185,
    "start_time": "2021-07-21T20:45:25.329Z"
   },
   {
    "duration": 175,
    "start_time": "2021-07-21T20:45:36.721Z"
   },
   {
    "duration": 174,
    "start_time": "2021-07-21T20:45:46.719Z"
   },
   {
    "duration": 180,
    "start_time": "2021-07-21T20:46:17.687Z"
   },
   {
    "duration": 174,
    "start_time": "2021-07-21T20:46:44.864Z"
   },
   {
    "duration": 173,
    "start_time": "2021-07-21T20:47:18.797Z"
   },
   {
    "duration": 854,
    "start_time": "2021-07-21T20:47:38.604Z"
   },
   {
    "duration": 298,
    "start_time": "2021-07-21T20:47:56.645Z"
   },
   {
    "duration": 183,
    "start_time": "2021-07-21T20:47:59.890Z"
   },
   {
    "duration": 245,
    "start_time": "2021-07-21T20:48:19.355Z"
   },
   {
    "duration": 258,
    "start_time": "2021-07-21T20:48:34.709Z"
   },
   {
    "duration": 178,
    "start_time": "2021-07-21T20:48:47.193Z"
   },
   {
    "duration": 176,
    "start_time": "2021-07-21T20:49:06.178Z"
   },
   {
    "duration": 93,
    "start_time": "2021-07-21T20:52:50.677Z"
   },
   {
    "duration": 99,
    "start_time": "2021-07-21T20:54:17.710Z"
   },
   {
    "duration": 188,
    "start_time": "2021-07-21T20:54:24.879Z"
   },
   {
    "duration": 2479,
    "start_time": "2021-07-22T20:21:52.965Z"
   },
   {
    "duration": 827,
    "start_time": "2021-07-22T20:21:55.447Z"
   },
   {
    "duration": 11,
    "start_time": "2021-07-22T20:21:56.277Z"
   },
   {
    "duration": 25,
    "start_time": "2021-07-22T20:21:56.291Z"
   },
   {
    "duration": 7,
    "start_time": "2021-07-22T20:21:56.319Z"
   },
   {
    "duration": 50,
    "start_time": "2021-07-22T20:21:56.328Z"
   },
   {
    "duration": 38,
    "start_time": "2021-07-22T20:21:56.381Z"
   },
   {
    "duration": 28,
    "start_time": "2021-07-22T20:21:56.423Z"
   },
   {
    "duration": 5,
    "start_time": "2021-07-22T20:21:56.454Z"
   },
   {
    "duration": 7,
    "start_time": "2021-07-22T20:21:56.461Z"
   },
   {
    "duration": 2052,
    "start_time": "2021-07-22T20:22:31.685Z"
   },
   {
    "duration": 201,
    "start_time": "2021-07-22T20:22:33.739Z"
   },
   {
    "duration": 13,
    "start_time": "2021-07-22T20:22:33.943Z"
   },
   {
    "duration": 18,
    "start_time": "2021-07-22T20:22:33.958Z"
   },
   {
    "duration": 29,
    "start_time": "2021-07-22T20:22:33.979Z"
   },
   {
    "duration": 44,
    "start_time": "2021-07-22T20:22:34.011Z"
   },
   {
    "duration": 61,
    "start_time": "2021-07-22T20:22:34.058Z"
   },
   {
    "duration": 28,
    "start_time": "2021-07-22T20:22:34.125Z"
   },
   {
    "duration": 6,
    "start_time": "2021-07-22T20:22:34.157Z"
   },
   {
    "duration": 7,
    "start_time": "2021-07-22T20:22:34.201Z"
   },
   {
    "duration": 11456,
    "start_time": "2021-07-22T20:22:34.211Z"
   },
   {
    "duration": 41,
    "start_time": "2021-07-22T20:22:45.671Z"
   },
   {
    "duration": 86,
    "start_time": "2021-07-22T20:22:45.714Z"
   },
   {
    "duration": 38,
    "start_time": "2021-07-22T20:22:45.803Z"
   },
   {
    "duration": 74,
    "start_time": "2021-07-22T20:22:45.843Z"
   },
   {
    "duration": 941,
    "start_time": "2021-07-22T20:22:45.920Z"
   },
   {
    "duration": 681,
    "start_time": "2021-07-22T20:22:46.864Z"
   },
   {
    "duration": 212,
    "start_time": "2021-07-22T20:22:47.547Z"
   },
   {
    "duration": 17,
    "start_time": "2021-07-22T20:30:50.764Z"
   },
   {
    "duration": 3,
    "start_time": "2021-07-22T20:31:38.834Z"
   },
   {
    "duration": 1904,
    "start_time": "2021-07-23T19:31:21.381Z"
   },
   {
    "duration": 205,
    "start_time": "2021-07-23T19:31:23.291Z"
   },
   {
    "duration": 12,
    "start_time": "2021-07-23T19:31:23.499Z"
   },
   {
    "duration": 19,
    "start_time": "2021-07-23T19:31:23.514Z"
   },
   {
    "duration": 31,
    "start_time": "2021-07-23T19:31:23.535Z"
   },
   {
    "duration": 46,
    "start_time": "2021-07-23T19:31:23.569Z"
   },
   {
    "duration": 59,
    "start_time": "2021-07-23T19:31:23.621Z"
   },
   {
    "duration": 29,
    "start_time": "2021-07-23T19:31:23.683Z"
   },
   {
    "duration": 6,
    "start_time": "2021-07-23T19:31:23.715Z"
   },
   {
    "duration": 40,
    "start_time": "2021-07-23T19:31:23.724Z"
   },
   {
    "duration": 16952,
    "start_time": "2021-07-23T19:31:23.766Z"
   },
   {
    "duration": 52,
    "start_time": "2021-07-23T19:31:40.722Z"
   },
   {
    "duration": 108,
    "start_time": "2021-07-23T19:31:40.777Z"
   },
   {
    "duration": 102,
    "start_time": "2021-07-23T19:31:40.888Z"
   },
   {
    "duration": 85,
    "start_time": "2021-07-23T19:31:40.993Z"
   },
   {
    "duration": 1151,
    "start_time": "2021-07-23T19:31:41.081Z"
   },
   {
    "duration": 657,
    "start_time": "2021-07-23T19:31:42.235Z"
   },
   {
    "duration": 201,
    "start_time": "2021-07-23T19:31:42.895Z"
   },
   {
    "duration": 16,
    "start_time": "2021-07-23T19:31:43.098Z"
   },
   {
    "duration": 79,
    "start_time": "2021-07-23T19:31:43.116Z"
   },
   {
    "duration": 75,
    "start_time": "2021-07-23T19:49:18.451Z"
   },
   {
    "duration": 519,
    "start_time": "2021-07-23T20:36:09.502Z"
   },
   {
    "duration": 23,
    "start_time": "2021-07-23T20:42:13.187Z"
   },
   {
    "duration": 1117,
    "start_time": "2021-07-23T20:43:45.151Z"
   },
   {
    "duration": 1052,
    "start_time": "2021-07-23T20:43:55.548Z"
   },
   {
    "duration": 6721,
    "start_time": "2021-07-23T20:45:11.685Z"
   },
   {
    "duration": 6418,
    "start_time": "2021-07-23T20:45:33.879Z"
   },
   {
    "duration": 103,
    "start_time": "2021-07-23T20:46:04.085Z"
   },
   {
    "duration": 6,
    "start_time": "2021-07-23T20:46:10.792Z"
   },
   {
    "duration": 10,
    "start_time": "2021-07-23T20:46:29.907Z"
   },
   {
    "duration": 1107,
    "start_time": "2021-07-23T20:47:03.503Z"
   },
   {
    "duration": 62,
    "start_time": "2021-07-23T20:47:24.374Z"
   },
   {
    "duration": 9,
    "start_time": "2021-07-23T20:47:30.994Z"
   },
   {
    "duration": 62,
    "start_time": "2021-07-23T20:48:02.091Z"
   },
   {
    "duration": 9,
    "start_time": "2021-07-23T20:48:04.127Z"
   },
   {
    "duration": 1156,
    "start_time": "2021-07-23T20:50:03.779Z"
   },
   {
    "duration": 104,
    "start_time": "2021-07-23T20:50:32.486Z"
   },
   {
    "duration": 252,
    "start_time": "2021-07-23T20:57:49.612Z"
   },
   {
    "duration": 6,
    "start_time": "2021-07-23T20:57:59.029Z"
   },
   {
    "duration": 6,
    "start_time": "2021-07-23T20:59:52.608Z"
   },
   {
    "duration": 8,
    "start_time": "2021-07-23T21:01:30.565Z"
   },
   {
    "duration": 1807,
    "start_time": "2021-07-24T16:35:22.408Z"
   },
   {
    "duration": 192,
    "start_time": "2021-07-24T16:35:24.218Z"
   },
   {
    "duration": 11,
    "start_time": "2021-07-24T16:35:24.413Z"
   },
   {
    "duration": 19,
    "start_time": "2021-07-24T16:35:24.426Z"
   },
   {
    "duration": 6,
    "start_time": "2021-07-24T16:35:24.448Z"
   },
   {
    "duration": 61,
    "start_time": "2021-07-24T16:35:24.456Z"
   },
   {
    "duration": 34,
    "start_time": "2021-07-24T16:35:24.519Z"
   },
   {
    "duration": 25,
    "start_time": "2021-07-24T16:35:24.581Z"
   },
   {
    "duration": 5,
    "start_time": "2021-07-24T16:35:24.609Z"
   },
   {
    "duration": 9,
    "start_time": "2021-07-24T16:35:24.616Z"
   },
   {
    "duration": 11398,
    "start_time": "2021-07-24T16:35:24.627Z"
   },
   {
    "duration": 20,
    "start_time": "2021-07-24T16:35:36.027Z"
   },
   {
    "duration": 41,
    "start_time": "2021-07-24T16:35:36.084Z"
   },
   {
    "duration": 158,
    "start_time": "2021-07-24T16:35:36.128Z"
   },
   {
    "duration": 27,
    "start_time": "2021-07-24T16:35:36.289Z"
   },
   {
    "duration": 1301,
    "start_time": "2021-07-24T16:35:36.319Z"
   },
   {
    "duration": 719,
    "start_time": "2021-07-24T16:35:37.681Z"
   },
   {
    "duration": 193,
    "start_time": "2021-07-24T16:35:38.403Z"
   },
   {
    "duration": 18,
    "start_time": "2021-07-24T16:35:38.598Z"
   },
   {
    "duration": 100,
    "start_time": "2021-07-24T16:35:38.618Z"
   },
   {
    "duration": -1566,
    "start_time": "2021-07-24T16:35:40.287Z"
   },
   {
    "duration": -1567,
    "start_time": "2021-07-24T16:35:40.289Z"
   },
   {
    "duration": -1567,
    "start_time": "2021-07-24T16:35:40.291Z"
   },
   {
    "duration": -1568,
    "start_time": "2021-07-24T16:35:40.293Z"
   },
   {
    "duration": 80,
    "start_time": "2021-07-24T16:37:03.899Z"
   },
   {
    "duration": 103,
    "start_time": "2021-07-24T16:37:24.930Z"
   },
   {
    "duration": 75,
    "start_time": "2021-07-24T16:39:45.251Z"
   },
   {
    "duration": 10,
    "start_time": "2021-07-24T16:39:50.030Z"
   },
   {
    "duration": 88,
    "start_time": "2021-07-24T16:41:28.714Z"
   },
   {
    "duration": 61,
    "start_time": "2021-07-24T16:41:49.311Z"
   },
   {
    "duration": 9,
    "start_time": "2021-07-24T16:41:51.040Z"
   },
   {
    "duration": 71,
    "start_time": "2021-07-24T16:43:02.942Z"
   },
   {
    "duration": 38,
    "start_time": "2021-07-24T16:43:33.277Z"
   },
   {
    "duration": 5,
    "start_time": "2021-07-24T16:43:38.532Z"
   },
   {
    "duration": 525,
    "start_time": "2021-07-24T16:44:20.157Z"
   },
   {
    "duration": 40,
    "start_time": "2021-07-24T16:44:26.322Z"
   },
   {
    "duration": 30,
    "start_time": "2021-07-24T16:44:36.958Z"
   },
   {
    "duration": 5,
    "start_time": "2021-07-24T16:44:41.457Z"
   },
   {
    "duration": 39,
    "start_time": "2021-07-24T16:45:45.538Z"
   },
   {
    "duration": 5,
    "start_time": "2021-07-24T16:45:48.036Z"
   },
   {
    "duration": 1848,
    "start_time": "2021-07-25T10:34:58.055Z"
   },
   {
    "duration": 192,
    "start_time": "2021-07-25T10:34:59.906Z"
   },
   {
    "duration": 12,
    "start_time": "2021-07-25T10:35:00.100Z"
   },
   {
    "duration": 23,
    "start_time": "2021-07-25T10:35:00.114Z"
   },
   {
    "duration": 6,
    "start_time": "2021-07-25T10:35:00.139Z"
   },
   {
    "duration": 69,
    "start_time": "2021-07-25T10:35:00.147Z"
   },
   {
    "duration": 35,
    "start_time": "2021-07-25T10:35:00.218Z"
   },
   {
    "duration": 41,
    "start_time": "2021-07-25T10:35:00.257Z"
   },
   {
    "duration": 6,
    "start_time": "2021-07-25T10:35:00.301Z"
   },
   {
    "duration": 12,
    "start_time": "2021-07-25T10:35:00.309Z"
   },
   {
    "duration": 11772,
    "start_time": "2021-07-25T10:35:00.323Z"
   },
   {
    "duration": 17,
    "start_time": "2021-07-25T10:35:12.098Z"
   },
   {
    "duration": 87,
    "start_time": "2021-07-25T10:35:12.118Z"
   },
   {
    "duration": 89,
    "start_time": "2021-07-25T10:35:12.208Z"
   },
   {
    "duration": 20,
    "start_time": "2021-07-25T10:35:12.299Z"
   },
   {
    "duration": 912,
    "start_time": "2021-07-25T10:35:12.322Z"
   },
   {
    "duration": 639,
    "start_time": "2021-07-25T10:35:13.237Z"
   },
   {
    "duration": 185,
    "start_time": "2021-07-25T10:35:13.882Z"
   },
   {
    "duration": 24,
    "start_time": "2021-07-25T10:35:14.069Z"
   },
   {
    "duration": 93,
    "start_time": "2021-07-25T10:35:14.096Z"
   },
   {
    "duration": 9,
    "start_time": "2021-07-25T10:35:14.191Z"
   },
   {
    "duration": 50,
    "start_time": "2021-07-25T10:35:14.202Z"
   },
   {
    "duration": 5,
    "start_time": "2021-07-25T10:35:14.256Z"
   },
   {
    "duration": 98,
    "start_time": "2021-07-25T10:35:14.283Z"
   },
   {
    "duration": -1284,
    "start_time": "2021-07-25T10:35:15.668Z"
   },
   {
    "duration": -1289,
    "start_time": "2021-07-25T10:35:15.674Z"
   },
   {
    "duration": -1295,
    "start_time": "2021-07-25T10:35:15.682Z"
   },
   {
    "duration": 67,
    "start_time": "2021-07-25T10:37:05.314Z"
   },
   {
    "duration": 35,
    "start_time": "2021-07-25T10:39:26.098Z"
   },
   {
    "duration": 42,
    "start_time": "2021-07-25T10:39:30.245Z"
   },
   {
    "duration": 41,
    "start_time": "2021-07-25T10:39:56.813Z"
   },
   {
    "duration": 42,
    "start_time": "2021-07-25T10:41:03.299Z"
   },
   {
    "duration": 231,
    "start_time": "2021-07-25T10:44:46.301Z"
   },
   {
    "duration": 6,
    "start_time": "2021-07-25T10:44:49.100Z"
   },
   {
    "duration": 521,
    "start_time": "2021-07-25T10:46:23.556Z"
   },
   {
    "duration": 255,
    "start_time": "2021-07-25T10:47:36.299Z"
   },
   {
    "duration": 220,
    "start_time": "2021-07-25T10:47:43.402Z"
   },
   {
    "duration": 6,
    "start_time": "2021-07-25T10:50:02.357Z"
   },
   {
    "duration": 254,
    "start_time": "2021-07-25T10:52:46.823Z"
   },
   {
    "duration": 6,
    "start_time": "2021-07-25T10:52:54.291Z"
   },
   {
    "duration": 37,
    "start_time": "2021-07-25T10:56:12.552Z"
   },
   {
    "duration": 41,
    "start_time": "2021-07-25T10:56:18.738Z"
   },
   {
    "duration": 66,
    "start_time": "2021-07-25T11:01:28.371Z"
   },
   {
    "duration": 70,
    "start_time": "2021-07-25T11:02:05.050Z"
   },
   {
    "duration": 61,
    "start_time": "2021-07-25T11:02:13.306Z"
   },
   {
    "duration": 77,
    "start_time": "2021-07-25T11:02:16.502Z"
   },
   {
    "duration": 234,
    "start_time": "2021-07-25T11:04:30.162Z"
   },
   {
    "duration": 5,
    "start_time": "2021-07-25T11:08:39.757Z"
   },
   {
    "duration": 6,
    "start_time": "2021-07-25T11:09:25.787Z"
   },
   {
    "duration": 5,
    "start_time": "2021-07-25T11:09:38.511Z"
   },
   {
    "duration": 7,
    "start_time": "2021-07-25T11:09:42.175Z"
   },
   {
    "duration": 7,
    "start_time": "2021-07-25T11:10:13.943Z"
   },
   {
    "duration": 295,
    "start_time": "2021-07-25T11:15:34.637Z"
   },
   {
    "duration": 279,
    "start_time": "2021-07-25T11:17:49.920Z"
   },
   {
    "duration": 22,
    "start_time": "2021-07-25T11:18:23.014Z"
   },
   {
    "duration": 19,
    "start_time": "2021-07-25T11:18:48.122Z"
   },
   {
    "duration": 22,
    "start_time": "2021-07-25T11:18:50.973Z"
   },
   {
    "duration": 8,
    "start_time": "2021-07-25T11:21:11.864Z"
   },
   {
    "duration": 12,
    "start_time": "2021-07-25T11:21:15.258Z"
   },
   {
    "duration": 13,
    "start_time": "2021-07-25T11:22:02.264Z"
   },
   {
    "duration": 309,
    "start_time": "2021-07-25T11:25:39.967Z"
   },
   {
    "duration": 6,
    "start_time": "2021-07-25T11:26:35.465Z"
   },
   {
    "duration": 4,
    "start_time": "2021-07-25T11:27:31.353Z"
   },
   {
    "duration": 5116,
    "start_time": "2021-07-25T11:28:24.893Z"
   },
   {
    "duration": 4984,
    "start_time": "2021-07-25T11:28:34.788Z"
   },
   {
    "duration": 7,
    "start_time": "2021-07-25T11:28:49.080Z"
   },
   {
    "duration": 296,
    "start_time": "2021-07-25T11:29:05.349Z"
   },
   {
    "duration": 4805,
    "start_time": "2021-07-25T11:29:10.959Z"
   },
   {
    "duration": 98,
    "start_time": "2021-07-25T11:30:12.265Z"
   },
   {
    "duration": 303,
    "start_time": "2021-07-25T11:32:35.964Z"
   },
   {
    "duration": 6,
    "start_time": "2021-07-25T11:33:48.089Z"
   },
   {
    "duration": 4,
    "start_time": "2021-07-25T11:40:58.856Z"
   },
   {
    "duration": 11,
    "start_time": "2021-07-25T11:41:03.342Z"
   },
   {
    "duration": 304,
    "start_time": "2021-07-25T11:41:53.418Z"
   },
   {
    "duration": 12,
    "start_time": "2021-07-25T11:42:01.656Z"
   },
   {
    "duration": 576,
    "start_time": "2021-07-25T11:43:31.394Z"
   },
   {
    "duration": 297,
    "start_time": "2021-07-25T11:43:36.926Z"
   },
   {
    "duration": 302,
    "start_time": "2021-07-25T11:43:46.161Z"
   },
   {
    "duration": 300,
    "start_time": "2021-07-25T11:47:19.922Z"
   },
   {
    "duration": 312,
    "start_time": "2021-07-25T11:47:25.818Z"
   },
   {
    "duration": 369,
    "start_time": "2021-07-25T11:48:12.544Z"
   },
   {
    "duration": 9,
    "start_time": "2021-07-25T11:54:08.426Z"
   },
   {
    "duration": 6,
    "start_time": "2021-07-25T11:55:06.686Z"
   },
   {
    "duration": 5,
    "start_time": "2021-07-25T11:55:31.301Z"
   },
   {
    "duration": 323,
    "start_time": "2021-07-25T11:56:10.179Z"
   },
   {
    "duration": 8,
    "start_time": "2021-07-25T11:59:08.677Z"
   },
   {
    "duration": 14,
    "start_time": "2021-07-25T11:59:52.534Z"
   },
   {
    "duration": 10,
    "start_time": "2021-07-25T12:01:56.687Z"
   },
   {
    "duration": 775,
    "start_time": "2021-07-25T12:01:59.297Z"
   },
   {
    "duration": 304,
    "start_time": "2021-07-25T12:03:52.997Z"
   },
   {
    "duration": 10,
    "start_time": "2021-07-25T12:04:01.138Z"
   },
   {
    "duration": 819,
    "start_time": "2021-07-25T12:04:04.412Z"
   },
   {
    "duration": 858,
    "start_time": "2021-07-25T12:05:45.399Z"
   },
   {
    "duration": 11,
    "start_time": "2021-07-25T12:12:57.541Z"
   },
   {
    "duration": 724,
    "start_time": "2021-07-25T12:13:01.629Z"
   },
   {
    "duration": 101,
    "start_time": "2021-07-25T12:14:11.058Z"
   },
   {
    "duration": 162,
    "start_time": "2021-07-25T12:14:37.101Z"
   },
   {
    "duration": 10,
    "start_time": "2021-07-25T12:22:06.470Z"
   },
   {
    "duration": 6,
    "start_time": "2021-07-25T12:22:39.384Z"
   },
   {
    "duration": 21,
    "start_time": "2021-07-25T12:22:59.720Z"
   },
   {
    "duration": 761,
    "start_time": "2021-07-25T12:23:03.436Z"
   },
   {
    "duration": 10,
    "start_time": "2021-07-25T12:23:25.958Z"
   },
   {
    "duration": 7,
    "start_time": "2021-07-25T12:24:10.500Z"
   },
   {
    "duration": 10,
    "start_time": "2021-07-25T12:24:44.494Z"
   },
   {
    "duration": 187,
    "start_time": "2021-07-25T12:24:47.409Z"
   },
   {
    "duration": 10,
    "start_time": "2021-07-25T12:25:20.354Z"
   },
   {
    "duration": 338,
    "start_time": "2021-07-25T12:25:23.314Z"
   },
   {
    "duration": 9,
    "start_time": "2021-07-25T12:26:39.723Z"
   },
   {
    "duration": 190,
    "start_time": "2021-07-25T12:26:42.419Z"
   },
   {
    "duration": 15,
    "start_time": "2021-07-25T12:27:31.599Z"
   },
   {
    "duration": 268,
    "start_time": "2021-07-25T12:27:31.617Z"
   },
   {
    "duration": 10,
    "start_time": "2021-07-25T12:27:47.967Z"
   },
   {
    "duration": 182,
    "start_time": "2021-07-25T12:27:50.550Z"
   },
   {
    "duration": 10,
    "start_time": "2021-07-25T12:31:37.099Z"
   },
   {
    "duration": 731,
    "start_time": "2021-07-25T12:31:39.953Z"
   },
   {
    "duration": 10,
    "start_time": "2021-07-25T12:31:58.792Z"
   },
   {
    "duration": 923,
    "start_time": "2021-07-25T12:32:00.834Z"
   },
   {
    "duration": 11,
    "start_time": "2021-07-25T12:33:13.579Z"
   },
   {
    "duration": 186,
    "start_time": "2021-07-25T12:33:15.770Z"
   },
   {
    "duration": 95,
    "start_time": "2021-07-25T12:33:46.726Z"
   },
   {
    "duration": 97,
    "start_time": "2021-07-25T12:33:56.272Z"
   },
   {
    "duration": 10,
    "start_time": "2021-07-25T12:34:14.429Z"
   },
   {
    "duration": 222,
    "start_time": "2021-07-25T12:34:16.463Z"
   },
   {
    "duration": 100,
    "start_time": "2021-07-25T12:36:34.563Z"
   },
   {
    "duration": 10,
    "start_time": "2021-07-25T12:36:40.144Z"
   },
   {
    "duration": 233,
    "start_time": "2021-07-25T12:36:42.195Z"
   },
   {
    "duration": 188,
    "start_time": "2021-07-25T12:36:51.068Z"
   },
   {
    "duration": 19,
    "start_time": "2021-07-25T12:41:02.752Z"
   },
   {
    "duration": 869,
    "start_time": "2021-07-25T12:41:05.726Z"
   },
   {
    "duration": 5,
    "start_time": "2021-07-25T12:41:56.696Z"
   },
   {
    "duration": 12,
    "start_time": "2021-07-25T12:42:00.751Z"
   },
   {
    "duration": 180,
    "start_time": "2021-07-25T12:42:02.429Z"
   },
   {
    "duration": 5,
    "start_time": "2021-07-25T12:42:34.647Z"
   },
   {
    "duration": 11,
    "start_time": "2021-07-25T12:42:40.936Z"
   },
   {
    "duration": 190,
    "start_time": "2021-07-25T12:42:42.726Z"
   },
   {
    "duration": 10,
    "start_time": "2021-07-25T12:43:32.132Z"
   },
   {
    "duration": 193,
    "start_time": "2021-07-25T12:43:34.083Z"
   },
   {
    "duration": 10,
    "start_time": "2021-07-25T12:43:51.028Z"
   },
   {
    "duration": 333,
    "start_time": "2021-07-25T12:43:52.835Z"
   },
   {
    "duration": 11,
    "start_time": "2021-07-25T12:44:24.330Z"
   },
   {
    "duration": 185,
    "start_time": "2021-07-25T12:44:25.890Z"
   },
   {
    "duration": 11,
    "start_time": "2021-07-25T12:44:44.012Z"
   },
   {
    "duration": 196,
    "start_time": "2021-07-25T12:44:46.258Z"
   },
   {
    "duration": 181,
    "start_time": "2021-07-25T12:47:31.989Z"
   },
   {
    "duration": 407,
    "start_time": "2021-07-25T13:08:31.562Z"
   },
   {
    "duration": 186,
    "start_time": "2021-07-25T13:08:44.515Z"
   },
   {
    "duration": 285,
    "start_time": "2021-07-25T13:10:56.674Z"
   },
   {
    "duration": 4,
    "start_time": "2021-07-25T13:22:32.941Z"
   },
   {
    "duration": 187,
    "start_time": "2021-07-25T13:23:24.453Z"
   },
   {
    "duration": 189,
    "start_time": "2021-07-25T13:23:32.523Z"
   },
   {
    "duration": 11,
    "start_time": "2021-07-25T13:35:53.029Z"
   },
   {
    "duration": 616,
    "start_time": "2021-07-25T13:35:55.308Z"
   },
   {
    "duration": 11,
    "start_time": "2021-07-25T13:36:21.956Z"
   },
   {
    "duration": 358,
    "start_time": "2021-07-25T13:36:24.040Z"
   },
   {
    "duration": 11,
    "start_time": "2021-07-25T13:36:36.561Z"
   },
   {
    "duration": 181,
    "start_time": "2021-07-25T13:36:40.080Z"
   },
   {
    "duration": 191,
    "start_time": "2021-07-25T13:36:49.149Z"
   },
   {
    "duration": 197,
    "start_time": "2021-07-25T13:36:52.347Z"
   },
   {
    "duration": 344,
    "start_time": "2021-07-25T13:36:56.216Z"
   },
   {
    "duration": 195,
    "start_time": "2021-07-25T14:10:29.178Z"
   },
   {
    "duration": 224,
    "start_time": "2021-07-25T14:10:35.128Z"
   },
   {
    "duration": 191,
    "start_time": "2021-07-25T14:10:39.919Z"
   },
   {
    "duration": 352,
    "start_time": "2021-07-25T14:10:49.076Z"
   },
   {
    "duration": 191,
    "start_time": "2021-07-25T14:10:55.311Z"
   },
   {
    "duration": 2270,
    "start_time": "2021-07-25T14:34:24.777Z"
   },
   {
    "duration": 181,
    "start_time": "2021-07-25T14:34:26.870Z"
   },
   {
    "duration": 176,
    "start_time": "2021-07-25T14:34:26.876Z"
   },
   {
    "duration": 170,
    "start_time": "2021-07-25T14:34:26.883Z"
   },
   {
    "duration": 167,
    "start_time": "2021-07-25T14:34:26.888Z"
   },
   {
    "duration": 163,
    "start_time": "2021-07-25T14:34:26.893Z"
   },
   {
    "duration": 155,
    "start_time": "2021-07-25T14:34:26.903Z"
   },
   {
    "duration": 151,
    "start_time": "2021-07-25T14:34:26.909Z"
   },
   {
    "duration": 146,
    "start_time": "2021-07-25T14:34:26.915Z"
   },
   {
    "duration": 142,
    "start_time": "2021-07-25T14:34:26.920Z"
   },
   {
    "duration": 136,
    "start_time": "2021-07-25T14:34:26.927Z"
   },
   {
    "duration": 129,
    "start_time": "2021-07-25T14:34:26.936Z"
   },
   {
    "duration": 123,
    "start_time": "2021-07-25T14:34:26.943Z"
   },
   {
    "duration": 108,
    "start_time": "2021-07-25T14:34:26.960Z"
   },
   {
    "duration": 101,
    "start_time": "2021-07-25T14:34:26.968Z"
   },
   {
    "duration": 98,
    "start_time": "2021-07-25T14:34:26.972Z"
   },
   {
    "duration": 92,
    "start_time": "2021-07-25T14:34:26.980Z"
   },
   {
    "duration": 89,
    "start_time": "2021-07-25T14:34:26.984Z"
   },
   {
    "duration": 87,
    "start_time": "2021-07-25T14:34:26.988Z"
   },
   {
    "duration": 84,
    "start_time": "2021-07-25T14:34:26.992Z"
   },
   {
    "duration": 81,
    "start_time": "2021-07-25T14:34:26.996Z"
   },
   {
    "duration": 78,
    "start_time": "2021-07-25T14:34:27.000Z"
   },
   {
    "duration": 76,
    "start_time": "2021-07-25T14:34:27.004Z"
   },
   {
    "duration": 74,
    "start_time": "2021-07-25T14:34:27.007Z"
   },
   {
    "duration": 71,
    "start_time": "2021-07-25T14:34:27.011Z"
   },
   {
    "duration": 70,
    "start_time": "2021-07-25T14:34:27.014Z"
   },
   {
    "duration": 1816,
    "start_time": "2021-07-25T14:35:23.232Z"
   },
   {
    "duration": 207,
    "start_time": "2021-07-25T14:35:25.051Z"
   },
   {
    "duration": 24,
    "start_time": "2021-07-25T14:35:25.262Z"
   },
   {
    "duration": 18,
    "start_time": "2021-07-25T14:35:25.289Z"
   },
   {
    "duration": 7,
    "start_time": "2021-07-25T14:35:25.310Z"
   },
   {
    "duration": 86,
    "start_time": "2021-07-25T14:35:25.319Z"
   },
   {
    "duration": 38,
    "start_time": "2021-07-25T14:35:25.408Z"
   },
   {
    "duration": 40,
    "start_time": "2021-07-25T14:35:25.450Z"
   },
   {
    "duration": 6,
    "start_time": "2021-07-25T14:35:25.493Z"
   },
   {
    "duration": 10,
    "start_time": "2021-07-25T14:35:25.501Z"
   },
   {
    "duration": 11317,
    "start_time": "2021-07-25T14:35:25.513Z"
   },
   {
    "duration": 54,
    "start_time": "2021-07-25T14:35:36.834Z"
   },
   {
    "duration": 33,
    "start_time": "2021-07-25T14:35:36.891Z"
   },
   {
    "duration": 88,
    "start_time": "2021-07-25T14:35:36.926Z"
   },
   {
    "duration": 69,
    "start_time": "2021-07-25T14:35:37.016Z"
   },
   {
    "duration": 909,
    "start_time": "2021-07-25T14:35:37.088Z"
   },
   {
    "duration": 601,
    "start_time": "2021-07-25T14:35:38.000Z"
   },
   {
    "duration": 190,
    "start_time": "2021-07-25T14:35:38.604Z"
   },
   {
    "duration": 41,
    "start_time": "2021-07-25T14:35:38.796Z"
   },
   {
    "duration": 106,
    "start_time": "2021-07-25T14:35:38.839Z"
   },
   {
    "duration": 834,
    "start_time": "2021-07-25T14:35:38.947Z"
   },
   {
    "duration": -1047,
    "start_time": "2021-07-25T14:35:40.831Z"
   },
   {
    "duration": -1049,
    "start_time": "2021-07-25T14:35:40.834Z"
   },
   {
    "duration": -1050,
    "start_time": "2021-07-25T14:35:40.837Z"
   },
   {
    "duration": -1052,
    "start_time": "2021-07-25T14:35:40.840Z"
   },
   {
    "duration": -1053,
    "start_time": "2021-07-25T14:35:40.842Z"
   },
   {
    "duration": 1842,
    "start_time": "2021-07-25T14:36:21.779Z"
   },
   {
    "duration": 195,
    "start_time": "2021-07-25T14:36:23.624Z"
   },
   {
    "duration": 13,
    "start_time": "2021-07-25T14:36:23.823Z"
   },
   {
    "duration": 45,
    "start_time": "2021-07-25T14:36:23.839Z"
   },
   {
    "duration": 7,
    "start_time": "2021-07-25T14:36:23.887Z"
   },
   {
    "duration": 43,
    "start_time": "2021-07-25T14:36:23.898Z"
   },
   {
    "duration": 67,
    "start_time": "2021-07-25T14:36:23.944Z"
   },
   {
    "duration": 25,
    "start_time": "2021-07-25T14:36:24.015Z"
   },
   {
    "duration": 5,
    "start_time": "2021-07-25T14:36:24.043Z"
   },
   {
    "duration": 37,
    "start_time": "2021-07-25T14:36:24.051Z"
   },
   {
    "duration": 11431,
    "start_time": "2021-07-25T14:36:24.090Z"
   },
   {
    "duration": 17,
    "start_time": "2021-07-25T14:36:35.524Z"
   },
   {
    "duration": 33,
    "start_time": "2021-07-25T14:36:35.584Z"
   },
   {
    "duration": 83,
    "start_time": "2021-07-25T14:36:35.620Z"
   },
   {
    "duration": 21,
    "start_time": "2021-07-25T14:36:35.705Z"
   },
   {
    "duration": 835,
    "start_time": "2021-07-25T14:36:35.783Z"
   },
   {
    "duration": 672,
    "start_time": "2021-07-25T14:36:36.620Z"
   },
   {
    "duration": 197,
    "start_time": "2021-07-25T14:36:37.295Z"
   },
   {
    "duration": 44,
    "start_time": "2021-07-25T14:36:37.494Z"
   },
   {
    "duration": 109,
    "start_time": "2021-07-25T14:36:37.541Z"
   },
   {
    "duration": 322,
    "start_time": "2021-07-25T14:36:37.654Z"
   },
   {
    "duration": 12,
    "start_time": "2021-07-25T14:36:37.982Z"
   },
   {
    "duration": 692,
    "start_time": "2021-07-25T14:36:37.998Z"
   },
   {
    "duration": -997,
    "start_time": "2021-07-25T14:36:39.690Z"
   },
   {
    "duration": -1006,
    "start_time": "2021-07-25T14:36:39.701Z"
   },
   {
    "duration": -1035,
    "start_time": "2021-07-25T14:36:39.731Z"
   },
   {
    "duration": 1942,
    "start_time": "2021-07-25T14:37:56.968Z"
   },
   {
    "duration": 190,
    "start_time": "2021-07-25T14:37:58.913Z"
   },
   {
    "duration": 13,
    "start_time": "2021-07-25T14:37:59.107Z"
   },
   {
    "duration": 19,
    "start_time": "2021-07-25T14:37:59.124Z"
   },
   {
    "duration": 37,
    "start_time": "2021-07-25T14:37:59.146Z"
   },
   {
    "duration": 43,
    "start_time": "2021-07-25T14:37:59.187Z"
   },
   {
    "duration": 65,
    "start_time": "2021-07-25T14:37:59.233Z"
   },
   {
    "duration": 25,
    "start_time": "2021-07-25T14:37:59.304Z"
   },
   {
    "duration": 5,
    "start_time": "2021-07-25T14:37:59.333Z"
   },
   {
    "duration": 41,
    "start_time": "2021-07-25T14:37:59.341Z"
   },
   {
    "duration": 11412,
    "start_time": "2021-07-25T14:37:59.385Z"
   },
   {
    "duration": 17,
    "start_time": "2021-07-25T14:38:10.800Z"
   },
   {
    "duration": 81,
    "start_time": "2021-07-25T14:38:10.819Z"
   },
   {
    "duration": 90,
    "start_time": "2021-07-25T14:38:10.903Z"
   },
   {
    "duration": 21,
    "start_time": "2021-07-25T14:38:10.995Z"
   },
   {
    "duration": 917,
    "start_time": "2021-07-25T14:38:11.018Z"
   },
   {
    "duration": 653,
    "start_time": "2021-07-25T14:38:11.937Z"
   },
   {
    "duration": 195,
    "start_time": "2021-07-25T14:38:12.592Z"
   },
   {
    "duration": 39,
    "start_time": "2021-07-25T14:38:12.790Z"
   },
   {
    "duration": 105,
    "start_time": "2021-07-25T14:38:12.832Z"
   },
   {
    "duration": 312,
    "start_time": "2021-07-25T14:38:12.939Z"
   },
   {
    "duration": 12,
    "start_time": "2021-07-25T14:38:13.254Z"
   },
   {
    "duration": 7241,
    "start_time": "2021-07-25T14:38:13.285Z"
   },
   {
    "duration": 137,
    "start_time": "2021-07-25T14:38:20.392Z"
   },
   {
    "duration": 131,
    "start_time": "2021-07-25T14:38:20.399Z"
   },
   {
    "duration": 127,
    "start_time": "2021-07-25T14:38:20.405Z"
   },
   {
    "duration": 1882,
    "start_time": "2021-07-25T14:40:15.799Z"
   },
   {
    "duration": 211,
    "start_time": "2021-07-25T14:40:17.684Z"
   },
   {
    "duration": 11,
    "start_time": "2021-07-25T14:40:17.898Z"
   },
   {
    "duration": 28,
    "start_time": "2021-07-25T14:40:17.912Z"
   },
   {
    "duration": 7,
    "start_time": "2021-07-25T14:40:17.942Z"
   },
   {
    "duration": 63,
    "start_time": "2021-07-25T14:40:17.952Z"
   },
   {
    "duration": 65,
    "start_time": "2021-07-25T14:40:18.018Z"
   },
   {
    "duration": 45,
    "start_time": "2021-07-25T14:40:18.087Z"
   },
   {
    "duration": 5,
    "start_time": "2021-07-25T14:40:18.135Z"
   },
   {
    "duration": 13,
    "start_time": "2021-07-25T14:40:18.143Z"
   },
   {
    "duration": 11463,
    "start_time": "2021-07-25T14:40:18.183Z"
   },
   {
    "duration": 37,
    "start_time": "2021-07-25T14:40:29.649Z"
   },
   {
    "duration": 32,
    "start_time": "2021-07-25T14:40:29.688Z"
   },
   {
    "duration": 159,
    "start_time": "2021-07-25T14:40:29.723Z"
   },
   {
    "duration": 20,
    "start_time": "2021-07-25T14:40:29.885Z"
   },
   {
    "duration": 909,
    "start_time": "2021-07-25T14:40:29.908Z"
   },
   {
    "duration": 640,
    "start_time": "2021-07-25T14:40:30.819Z"
   },
   {
    "duration": 214,
    "start_time": "2021-07-25T14:40:31.462Z"
   },
   {
    "duration": 42,
    "start_time": "2021-07-25T14:40:31.682Z"
   },
   {
    "duration": 99,
    "start_time": "2021-07-25T14:40:31.727Z"
   },
   {
    "duration": 627,
    "start_time": "2021-07-25T14:40:31.829Z"
   },
   {
    "duration": 10,
    "start_time": "2021-07-25T14:40:32.459Z"
   },
   {
    "duration": 7160,
    "start_time": "2021-07-25T14:40:32.485Z"
   },
   {
    "duration": 138,
    "start_time": "2021-07-25T14:40:39.510Z"
   },
   {
    "duration": 123,
    "start_time": "2021-07-25T14:40:39.527Z"
   },
   {
    "duration": 107,
    "start_time": "2021-07-25T14:40:39.544Z"
   },
   {
    "duration": 1803,
    "start_time": "2021-07-25T14:41:25.616Z"
   },
   {
    "duration": 191,
    "start_time": "2021-07-25T14:41:27.422Z"
   },
   {
    "duration": 12,
    "start_time": "2021-07-25T14:41:27.616Z"
   },
   {
    "duration": 18,
    "start_time": "2021-07-25T14:41:27.630Z"
   },
   {
    "duration": 6,
    "start_time": "2021-07-25T14:41:27.651Z"
   },
   {
    "duration": 41,
    "start_time": "2021-07-25T14:41:27.683Z"
   },
   {
    "duration": 66,
    "start_time": "2021-07-25T14:41:27.727Z"
   },
   {
    "duration": 26,
    "start_time": "2021-07-25T14:41:27.797Z"
   },
   {
    "duration": 5,
    "start_time": "2021-07-25T14:41:27.826Z"
   },
   {
    "duration": 10,
    "start_time": "2021-07-25T14:41:27.834Z"
   },
   {
    "duration": 11340,
    "start_time": "2021-07-25T14:41:27.847Z"
   },
   {
    "duration": 19,
    "start_time": "2021-07-25T14:41:39.191Z"
   },
   {
    "duration": 93,
    "start_time": "2021-07-25T14:41:39.213Z"
   },
   {
    "duration": 89,
    "start_time": "2021-07-25T14:41:39.308Z"
   },
   {
    "duration": 20,
    "start_time": "2021-07-25T14:41:39.400Z"
   },
   {
    "duration": 915,
    "start_time": "2021-07-25T14:41:39.423Z"
   },
   {
    "duration": 662,
    "start_time": "2021-07-25T14:41:40.341Z"
   },
   {
    "duration": 195,
    "start_time": "2021-07-25T14:41:41.005Z"
   },
   {
    "duration": 42,
    "start_time": "2021-07-25T14:41:41.202Z"
   },
   {
    "duration": 110,
    "start_time": "2021-07-25T14:41:41.247Z"
   },
   {
    "duration": 310,
    "start_time": "2021-07-25T14:41:41.359Z"
   },
   {
    "duration": 13,
    "start_time": "2021-07-25T14:41:41.672Z"
   },
   {
    "duration": 7040,
    "start_time": "2021-07-25T14:41:41.690Z"
   },
   {
    "duration": -9194,
    "start_time": "2021-07-25T14:41:57.927Z"
   },
   {
    "duration": -9196,
    "start_time": "2021-07-25T14:41:57.930Z"
   },
   {
    "duration": -9198,
    "start_time": "2021-07-25T14:41:57.933Z"
   },
   {
    "duration": 6,
    "start_time": "2021-07-25T14:42:54.336Z"
   },
   {
    "duration": 8933,
    "start_time": "2021-07-25T14:46:37.553Z"
   },
   {
    "duration": 1205,
    "start_time": "2021-07-25T14:47:29.763Z"
   },
   {
    "duration": 41,
    "start_time": "2021-07-25T14:47:45.764Z"
   },
   {
    "duration": 53,
    "start_time": "2021-07-25T14:48:07.673Z"
   },
   {
    "duration": 7187,
    "start_time": "2021-07-25T14:48:24.143Z"
   },
   {
    "duration": 41,
    "start_time": "2021-07-25T14:48:37.225Z"
   },
   {
    "duration": 42,
    "start_time": "2021-07-25T14:50:05.551Z"
   },
   {
    "duration": 6572,
    "start_time": "2021-07-25T14:50:26.579Z"
   },
   {
    "duration": 288,
    "start_time": "2021-07-25T14:50:38.625Z"
   },
   {
    "duration": 45,
    "start_time": "2021-07-25T14:51:47.517Z"
   },
   {
    "duration": 1040,
    "start_time": "2021-07-25T14:51:58.964Z"
   },
   {
    "duration": 322,
    "start_time": "2021-07-25T14:52:06.709Z"
   },
   {
    "duration": 40,
    "start_time": "2021-07-25T14:52:13.479Z"
   },
   {
    "duration": 7144,
    "start_time": "2021-07-25T14:52:27.205Z"
   },
   {
    "duration": 38,
    "start_time": "2021-07-25T14:52:53.927Z"
   },
   {
    "duration": 6900,
    "start_time": "2021-07-25T14:52:58.046Z"
   },
   {
    "duration": 9,
    "start_time": "2021-07-25T14:53:27.191Z"
   },
   {
    "duration": 103,
    "start_time": "2021-07-25T14:53:38.795Z"
   },
   {
    "duration": 6370,
    "start_time": "2021-07-25T14:53:42.525Z"
   },
   {
    "duration": 257,
    "start_time": "2021-07-25T14:56:52.222Z"
   },
   {
    "duration": 39,
    "start_time": "2021-07-25T14:57:17.155Z"
   },
   {
    "duration": 273,
    "start_time": "2021-07-25T14:57:19.061Z"
   },
   {
    "duration": 263,
    "start_time": "2021-07-25T14:58:21.284Z"
   },
   {
    "duration": 5493,
    "start_time": "2021-07-25T15:00:08.128Z"
   },
   {
    "duration": 7,
    "start_time": "2021-07-25T15:00:15.399Z"
   },
   {
    "duration": 43,
    "start_time": "2021-07-25T15:01:09.524Z"
   },
   {
    "duration": 10,
    "start_time": "2021-07-25T15:01:23.571Z"
   },
   {
    "duration": 7202,
    "start_time": "2021-07-25T15:01:25.989Z"
   },
   {
    "duration": 11,
    "start_time": "2021-07-25T15:01:59.548Z"
   },
   {
    "duration": 205,
    "start_time": "2021-07-25T15:02:02.039Z"
   },
   {
    "duration": 1875,
    "start_time": "2021-07-25T15:02:13.039Z"
   },
   {
    "duration": 198,
    "start_time": "2021-07-25T15:02:14.917Z"
   },
   {
    "duration": 11,
    "start_time": "2021-07-25T15:02:15.118Z"
   },
   {
    "duration": 18,
    "start_time": "2021-07-25T15:02:15.132Z"
   },
   {
    "duration": 30,
    "start_time": "2021-07-25T15:02:15.152Z"
   },
   {
    "duration": 37,
    "start_time": "2021-07-25T15:02:15.185Z"
   },
   {
    "duration": 61,
    "start_time": "2021-07-25T15:02:15.225Z"
   },
   {
    "duration": 24,
    "start_time": "2021-07-25T15:02:15.290Z"
   },
   {
    "duration": 6,
    "start_time": "2021-07-25T15:02:15.317Z"
   },
   {
    "duration": 8,
    "start_time": "2021-07-25T15:02:15.325Z"
   },
   {
    "duration": 11426,
    "start_time": "2021-07-25T15:02:15.336Z"
   },
   {
    "duration": 28,
    "start_time": "2021-07-25T15:02:26.764Z"
   },
   {
    "duration": 32,
    "start_time": "2021-07-25T15:02:26.794Z"
   },
   {
    "duration": 37,
    "start_time": "2021-07-25T15:02:26.883Z"
   },
   {
    "duration": 69,
    "start_time": "2021-07-25T15:02:26.922Z"
   },
   {
    "duration": 1140,
    "start_time": "2021-07-25T15:02:26.993Z"
   },
   {
    "duration": 636,
    "start_time": "2021-07-25T15:02:28.137Z"
   },
   {
    "duration": 196,
    "start_time": "2021-07-25T15:02:28.776Z"
   },
   {
    "duration": 47,
    "start_time": "2021-07-25T15:02:28.975Z"
   },
   {
    "duration": 103,
    "start_time": "2021-07-25T15:02:29.024Z"
   },
   {
    "duration": 389,
    "start_time": "2021-07-25T15:02:29.129Z"
   },
   {
    "duration": 14,
    "start_time": "2021-07-25T15:02:29.522Z"
   },
   {
    "duration": 222,
    "start_time": "2021-07-25T15:02:29.540Z"
   },
   {
    "duration": 217,
    "start_time": "2021-07-25T15:02:29.765Z"
   },
   {
    "duration": 402,
    "start_time": "2021-07-25T15:02:29.984Z"
   },
   {
    "duration": 5452,
    "start_time": "2021-07-25T15:02:30.388Z"
   },
   {
    "duration": 7847,
    "start_time": "2021-07-25T15:07:01.056Z"
   },
   {
    "duration": 5998,
    "start_time": "2021-07-25T15:07:14.330Z"
   },
   {
    "duration": 7588,
    "start_time": "2021-07-25T15:11:26.220Z"
   },
   {
    "duration": 44,
    "start_time": "2021-07-25T15:11:41.236Z"
   },
   {
    "duration": 326,
    "start_time": "2021-07-25T15:16:29.050Z"
   },
   {
    "duration": 44,
    "start_time": "2021-07-25T15:16:34.811Z"
   },
   {
    "duration": 296,
    "start_time": "2021-07-25T15:16:51.052Z"
   },
   {
    "duration": 316,
    "start_time": "2021-07-25T15:17:28.412Z"
   },
   {
    "duration": 740,
    "start_time": "2021-07-25T15:20:03.434Z"
   },
   {
    "duration": 48,
    "start_time": "2021-07-25T15:20:12.289Z"
   },
   {
    "duration": 46,
    "start_time": "2021-07-25T15:20:22.786Z"
   },
   {
    "duration": 45,
    "start_time": "2021-07-25T15:20:30.682Z"
   },
   {
    "duration": 411,
    "start_time": "2021-07-25T15:21:19.437Z"
   },
   {
    "duration": 305,
    "start_time": "2021-07-25T15:22:37.270Z"
   },
   {
    "duration": 152,
    "start_time": "2021-07-25T15:23:20.192Z"
   },
   {
    "duration": 42,
    "start_time": "2021-07-25T15:23:24.104Z"
   },
   {
    "duration": 45,
    "start_time": "2021-07-25T15:23:35.021Z"
   },
   {
    "duration": 317,
    "start_time": "2021-07-25T15:24:08.391Z"
   },
   {
    "duration": 45,
    "start_time": "2021-07-25T15:24:41.647Z"
   },
   {
    "duration": 320,
    "start_time": "2021-07-25T15:25:15.808Z"
   },
   {
    "duration": 320,
    "start_time": "2021-07-25T15:25:25.540Z"
   },
   {
    "duration": 46,
    "start_time": "2021-07-25T15:25:36.236Z"
   },
   {
    "duration": 6507,
    "start_time": "2021-07-25T15:25:42.865Z"
   },
   {
    "duration": 8,
    "start_time": "2021-07-25T15:26:10.386Z"
   },
   {
    "duration": 9,
    "start_time": "2021-07-25T15:26:23.653Z"
   },
   {
    "duration": 311,
    "start_time": "2021-07-25T15:26:32.121Z"
   },
   {
    "duration": 336,
    "start_time": "2021-07-25T15:26:56.362Z"
   },
   {
    "duration": 4900,
    "start_time": "2021-07-25T15:27:08.118Z"
   },
   {
    "duration": 298,
    "start_time": "2021-07-25T15:27:44.198Z"
   },
   {
    "duration": 35,
    "start_time": "2021-07-25T15:28:08.379Z"
   },
   {
    "duration": 41,
    "start_time": "2021-07-25T15:28:12.869Z"
   },
   {
    "duration": 42,
    "start_time": "2021-07-25T15:28:40.075Z"
   },
   {
    "duration": 1151,
    "start_time": "2021-07-25T15:31:24.514Z"
   },
   {
    "duration": 1054,
    "start_time": "2021-07-25T15:31:27.653Z"
   },
   {
    "duration": 1095,
    "start_time": "2021-07-25T15:31:34.921Z"
   },
   {
    "duration": 1044,
    "start_time": "2021-07-25T15:31:46.023Z"
   },
   {
    "duration": 40,
    "start_time": "2021-07-25T15:32:02.211Z"
   },
   {
    "duration": 44,
    "start_time": "2021-07-25T15:32:33.337Z"
   },
   {
    "duration": 407,
    "start_time": "2021-07-25T15:32:46.410Z"
   },
   {
    "duration": 48,
    "start_time": "2021-07-25T15:37:10.459Z"
   },
   {
    "duration": 45,
    "start_time": "2021-07-25T15:37:15.551Z"
   },
   {
    "duration": 45,
    "start_time": "2021-07-25T15:37:29.923Z"
   },
   {
    "duration": 43,
    "start_time": "2021-07-25T15:37:48.652Z"
   },
   {
    "duration": 46,
    "start_time": "2021-07-25T15:38:01.965Z"
   },
   {
    "duration": 37,
    "start_time": "2021-07-25T15:38:11.185Z"
   },
   {
    "duration": 40,
    "start_time": "2021-07-25T15:38:14.205Z"
   },
   {
    "duration": 45,
    "start_time": "2021-07-25T15:38:57.202Z"
   },
   {
    "duration": 62,
    "start_time": "2021-07-25T15:39:27.791Z"
   },
   {
    "duration": 326,
    "start_time": "2021-07-25T15:39:59.052Z"
   },
   {
    "duration": 324,
    "start_time": "2021-07-25T15:40:07.701Z"
   },
   {
    "duration": 390,
    "start_time": "2021-07-25T15:40:15.485Z"
   },
   {
    "duration": 40,
    "start_time": "2021-07-25T15:40:48.719Z"
   },
   {
    "duration": 47,
    "start_time": "2021-07-25T15:40:52.525Z"
   },
   {
    "duration": 12,
    "start_time": "2021-07-25T15:41:05.258Z"
   },
   {
    "duration": 208,
    "start_time": "2021-07-25T15:41:11.019Z"
   },
   {
    "duration": 1940,
    "start_time": "2021-07-25T15:41:16.063Z"
   },
   {
    "duration": 196,
    "start_time": "2021-07-25T15:41:18.006Z"
   },
   {
    "duration": 11,
    "start_time": "2021-07-25T15:41:18.205Z"
   },
   {
    "duration": 18,
    "start_time": "2021-07-25T15:41:18.219Z"
   },
   {
    "duration": 6,
    "start_time": "2021-07-25T15:41:18.239Z"
   },
   {
    "duration": 72,
    "start_time": "2021-07-25T15:41:18.247Z"
   },
   {
    "duration": 37,
    "start_time": "2021-07-25T15:41:18.322Z"
   },
   {
    "duration": 43,
    "start_time": "2021-07-25T15:41:18.363Z"
   },
   {
    "duration": 5,
    "start_time": "2021-07-25T15:41:18.410Z"
   },
   {
    "duration": 12,
    "start_time": "2021-07-25T15:41:18.417Z"
   },
   {
    "duration": 11642,
    "start_time": "2021-07-25T15:41:18.431Z"
   },
   {
    "duration": 17,
    "start_time": "2021-07-25T15:41:30.083Z"
   },
   {
    "duration": 91,
    "start_time": "2021-07-25T15:41:30.103Z"
   },
   {
    "duration": 92,
    "start_time": "2021-07-25T15:41:30.197Z"
   },
   {
    "duration": 21,
    "start_time": "2021-07-25T15:41:30.291Z"
   },
   {
    "duration": 1070,
    "start_time": "2021-07-25T15:41:30.315Z"
   },
   {
    "duration": 688,
    "start_time": "2021-07-25T15:41:31.387Z"
   },
   {
    "duration": 192,
    "start_time": "2021-07-25T15:41:32.078Z"
   },
   {
    "duration": 49,
    "start_time": "2021-07-25T15:41:32.272Z"
   },
   {
    "duration": 103,
    "start_time": "2021-07-25T15:41:32.323Z"
   },
   {
    "duration": 319,
    "start_time": "2021-07-25T15:41:32.428Z"
   },
   {
    "duration": 11,
    "start_time": "2021-07-25T15:41:32.749Z"
   },
   {
    "duration": 227,
    "start_time": "2021-07-25T15:41:32.765Z"
   },
   {
    "duration": 227,
    "start_time": "2021-07-25T15:41:32.994Z"
   },
   {
    "duration": 407,
    "start_time": "2021-07-25T15:41:33.223Z"
   },
   {
    "duration": 218,
    "start_time": "2021-07-25T15:41:33.633Z"
   },
   {
    "duration": 210,
    "start_time": "2021-07-25T15:46:10.279Z"
   },
   {
    "duration": 15012,
    "start_time": "2021-07-25T18:54:28.493Z"
   },
   {
    "duration": 195,
    "start_time": "2021-07-25T18:54:43.508Z"
   },
   {
    "duration": 13,
    "start_time": "2021-07-25T18:54:43.706Z"
   },
   {
    "duration": 39,
    "start_time": "2021-07-25T18:54:43.723Z"
   },
   {
    "duration": 7,
    "start_time": "2021-07-25T18:54:43.765Z"
   },
   {
    "duration": 48,
    "start_time": "2021-07-25T18:54:43.774Z"
   },
   {
    "duration": 55,
    "start_time": "2021-07-25T18:54:43.824Z"
   },
   {
    "duration": 27,
    "start_time": "2021-07-25T18:54:43.881Z"
   },
   {
    "duration": 5,
    "start_time": "2021-07-25T18:54:43.912Z"
   },
   {
    "duration": 6,
    "start_time": "2021-07-25T18:54:43.920Z"
   },
   {
    "duration": 11669,
    "start_time": "2021-07-25T18:54:43.963Z"
   },
   {
    "duration": 38,
    "start_time": "2021-07-25T18:54:55.634Z"
   },
   {
    "duration": 90,
    "start_time": "2021-07-25T18:54:55.674Z"
   },
   {
    "duration": 35,
    "start_time": "2021-07-25T18:54:55.767Z"
   },
   {
    "duration": 71,
    "start_time": "2021-07-25T18:54:55.805Z"
   },
   {
    "duration": 911,
    "start_time": "2021-07-25T18:54:55.879Z"
   },
   {
    "duration": 652,
    "start_time": "2021-07-25T18:54:56.792Z"
   },
   {
    "duration": 198,
    "start_time": "2021-07-25T18:54:57.446Z"
   },
   {
    "duration": 49,
    "start_time": "2021-07-25T18:54:57.646Z"
   },
   {
    "duration": 108,
    "start_time": "2021-07-25T18:54:57.697Z"
   },
   {
    "duration": 328,
    "start_time": "2021-07-25T18:54:57.807Z"
   },
   {
    "duration": 25,
    "start_time": "2021-07-25T18:54:58.137Z"
   },
   {
    "duration": 219,
    "start_time": "2021-07-25T18:54:58.165Z"
   },
   {
    "duration": 229,
    "start_time": "2021-07-25T18:54:58.387Z"
   },
   {
    "duration": 393,
    "start_time": "2021-07-25T18:54:58.619Z"
   },
   {
    "duration": 220,
    "start_time": "2021-07-25T18:54:59.014Z"
   },
   {
    "duration": 112,
    "start_time": "2021-07-25T18:56:38.248Z"
   },
   {
    "duration": 1396,
    "start_time": "2021-07-25T19:04:57.771Z"
   },
   {
    "duration": 1467,
    "start_time": "2021-07-26T17:28:18.561Z"
   },
   {
    "duration": 143,
    "start_time": "2021-07-26T17:28:20.030Z"
   },
   {
    "duration": 9,
    "start_time": "2021-07-26T17:28:20.175Z"
   },
   {
    "duration": 13,
    "start_time": "2021-07-26T17:28:20.186Z"
   },
   {
    "duration": 4,
    "start_time": "2021-07-26T17:28:20.201Z"
   },
   {
    "duration": 47,
    "start_time": "2021-07-26T17:28:20.206Z"
   },
   {
    "duration": 25,
    "start_time": "2021-07-26T17:28:20.255Z"
   },
   {
    "duration": 18,
    "start_time": "2021-07-26T17:28:20.281Z"
   },
   {
    "duration": 3,
    "start_time": "2021-07-26T17:28:20.302Z"
   },
   {
    "duration": 5,
    "start_time": "2021-07-26T17:28:20.307Z"
   },
   {
    "duration": 6720,
    "start_time": "2021-07-26T17:28:20.313Z"
   },
   {
    "duration": 14,
    "start_time": "2021-07-26T17:28:27.035Z"
   },
   {
    "duration": 20,
    "start_time": "2021-07-26T17:28:27.051Z"
   },
   {
    "duration": 79,
    "start_time": "2021-07-26T17:28:27.073Z"
   },
   {
    "duration": 13,
    "start_time": "2021-07-26T17:28:27.154Z"
   },
   {
    "duration": 580,
    "start_time": "2021-07-26T17:28:27.168Z"
   },
   {
    "duration": 454,
    "start_time": "2021-07-26T17:28:27.751Z"
   },
   {
    "duration": 113,
    "start_time": "2021-07-26T17:28:28.207Z"
   },
   {
    "duration": 40,
    "start_time": "2021-07-26T17:28:28.322Z"
   },
   {
    "duration": 52,
    "start_time": "2021-07-26T17:28:28.364Z"
   },
   {
    "duration": 224,
    "start_time": "2021-07-26T17:28:28.418Z"
   },
   {
    "duration": 6,
    "start_time": "2021-07-26T17:28:28.644Z"
   },
   {
    "duration": 136,
    "start_time": "2021-07-26T17:28:28.652Z"
   },
   {
    "duration": 177,
    "start_time": "2021-07-26T17:28:28.789Z"
   },
   {
    "duration": 294,
    "start_time": "2021-07-26T17:28:28.968Z"
   },
   {
    "duration": 128,
    "start_time": "2021-07-26T17:28:29.264Z"
   },
   {
    "duration": 103,
    "start_time": "2021-07-26T17:32:15.946Z"
   },
   {
    "duration": 118,
    "start_time": "2021-07-26T17:35:05.160Z"
   },
   {
    "duration": 123,
    "start_time": "2021-07-26T17:39:40.557Z"
   },
   {
    "duration": 420,
    "start_time": "2021-07-26T17:40:06.037Z"
   },
   {
    "duration": 44,
    "start_time": "2021-07-26T17:40:20.490Z"
   },
   {
    "duration": 49,
    "start_time": "2021-07-26T17:41:16.973Z"
   },
   {
    "duration": 83,
    "start_time": "2021-07-26T17:42:31.841Z"
   },
   {
    "duration": 15,
    "start_time": "2021-07-26T17:42:42.467Z"
   },
   {
    "duration": 6733,
    "start_time": "2021-07-26T17:45:32.506Z"
   },
   {
    "duration": 4,
    "start_time": "2021-07-26T17:46:22.588Z"
   },
   {
    "duration": 4,
    "start_time": "2021-07-26T17:46:36.067Z"
   },
   {
    "duration": 18,
    "start_time": "2021-07-26T17:46:58.617Z"
   },
   {
    "duration": 98,
    "start_time": "2021-07-26T17:47:29.428Z"
   },
   {
    "duration": 48,
    "start_time": "2021-07-26T17:49:53.324Z"
   },
   {
    "duration": 323,
    "start_time": "2021-07-26T17:52:21.565Z"
   },
   {
    "duration": 323,
    "start_time": "2021-07-26T17:53:49.831Z"
   },
   {
    "duration": 317,
    "start_time": "2021-07-26T17:54:52.969Z"
   },
   {
    "duration": 49,
    "start_time": "2021-07-26T17:56:17.369Z"
   },
   {
    "duration": 35,
    "start_time": "2021-07-26T17:58:43.365Z"
   },
   {
    "duration": 642,
    "start_time": "2021-07-26T18:01:06.495Z"
   },
   {
    "duration": 301,
    "start_time": "2021-07-26T18:01:26.232Z"
   },
   {
    "duration": 1683,
    "start_time": "2021-07-26T18:02:38.835Z"
   },
   {
    "duration": 291,
    "start_time": "2021-07-26T18:03:36.276Z"
   },
   {
    "duration": 14,
    "start_time": "2021-07-26T18:04:03.577Z"
   },
   {
    "duration": 21,
    "start_time": "2021-07-26T18:04:49.499Z"
   },
   {
    "duration": 4319,
    "start_time": "2021-07-26T18:05:27.214Z"
   },
   {
    "duration": 20,
    "start_time": "2021-07-26T18:05:36.640Z"
   },
   {
    "duration": 48,
    "start_time": "2021-07-26T18:06:08.378Z"
   },
   {
    "duration": 94,
    "start_time": "2021-07-26T18:09:07.817Z"
   },
   {
    "duration": 1420,
    "start_time": "2021-07-26T18:09:25.700Z"
   },
   {
    "duration": 139,
    "start_time": "2021-07-26T18:09:27.121Z"
   },
   {
    "duration": 105,
    "start_time": "2021-07-26T18:09:27.262Z"
   },
   {
    "duration": 8,
    "start_time": "2021-07-26T18:09:27.369Z"
   },
   {
    "duration": 13,
    "start_time": "2021-07-26T18:09:27.378Z"
   },
   {
    "duration": 4,
    "start_time": "2021-07-26T18:09:27.393Z"
   },
   {
    "duration": 6,
    "start_time": "2021-07-26T18:09:27.398Z"
   },
   {
    "duration": 49,
    "start_time": "2021-07-26T18:09:27.407Z"
   },
   {
    "duration": 46,
    "start_time": "2021-07-26T18:09:27.458Z"
   },
   {
    "duration": 3,
    "start_time": "2021-07-26T18:09:27.505Z"
   },
   {
    "duration": 6,
    "start_time": "2021-07-26T18:09:27.510Z"
   },
   {
    "duration": 6564,
    "start_time": "2021-07-26T18:09:27.517Z"
   },
   {
    "duration": 11,
    "start_time": "2021-07-26T18:09:34.084Z"
   },
   {
    "duration": 58,
    "start_time": "2021-07-26T18:09:34.096Z"
   },
   {
    "duration": 23,
    "start_time": "2021-07-26T18:09:34.156Z"
   },
   {
    "duration": 70,
    "start_time": "2021-07-26T18:09:34.181Z"
   },
   {
    "duration": 515,
    "start_time": "2021-07-26T18:09:34.253Z"
   },
   {
    "duration": 471,
    "start_time": "2021-07-26T18:09:34.770Z"
   },
   {
    "duration": 121,
    "start_time": "2021-07-26T18:09:35.242Z"
   },
   {
    "duration": 33,
    "start_time": "2021-07-26T18:09:35.365Z"
   },
   {
    "duration": 67,
    "start_time": "2021-07-26T18:09:35.400Z"
   },
   {
    "duration": 222,
    "start_time": "2021-07-26T18:09:35.469Z"
   },
   {
    "duration": 6,
    "start_time": "2021-07-26T18:09:35.694Z"
   },
   {
    "duration": 131,
    "start_time": "2021-07-26T18:09:35.702Z"
   },
   {
    "duration": 131,
    "start_time": "2021-07-26T18:09:35.835Z"
   },
   {
    "duration": 280,
    "start_time": "2021-07-26T18:09:35.968Z"
   },
   {
    "duration": 129,
    "start_time": "2021-07-26T18:09:36.250Z"
   },
   {
    "duration": 17,
    "start_time": "2021-07-26T18:11:00.129Z"
   },
   {
    "duration": 6111,
    "start_time": "2021-07-26T18:11:10.013Z"
   },
   {
    "duration": 6162,
    "start_time": "2021-07-26T18:12:23.389Z"
   },
   {
    "duration": 93,
    "start_time": "2021-07-26T18:13:04.332Z"
   },
   {
    "duration": 1511,
    "start_time": "2021-07-26T18:14:49.466Z"
   },
   {
    "duration": 13,
    "start_time": "2021-07-26T18:14:56.405Z"
   },
   {
    "duration": 1241,
    "start_time": "2021-07-26T18:15:06.952Z"
   },
   {
    "duration": 2767,
    "start_time": "2021-07-26T18:15:50.103Z"
   },
   {
    "duration": 19,
    "start_time": "2021-07-26T18:16:03.818Z"
   },
   {
    "duration": 7170,
    "start_time": "2021-07-26T18:16:48.747Z"
   },
   {
    "duration": 16,
    "start_time": "2021-07-26T18:17:12.021Z"
   },
   {
    "duration": 7453,
    "start_time": "2021-07-26T18:17:17.936Z"
   },
   {
    "duration": 2658,
    "start_time": "2021-07-26T18:17:46.648Z"
   },
   {
    "duration": 11,
    "start_time": "2021-07-26T18:20:52.885Z"
   },
   {
    "duration": 1658,
    "start_time": "2021-07-26T18:20:58.495Z"
   },
   {
    "duration": 151,
    "start_time": "2021-07-26T18:21:00.155Z"
   },
   {
    "duration": 115,
    "start_time": "2021-07-26T18:21:00.309Z"
   },
   {
    "duration": 18,
    "start_time": "2021-07-26T18:21:00.427Z"
   },
   {
    "duration": 18,
    "start_time": "2021-07-26T18:21:00.446Z"
   },
   {
    "duration": 6,
    "start_time": "2021-07-26T18:21:00.466Z"
   },
   {
    "duration": 13,
    "start_time": "2021-07-26T18:21:00.474Z"
   },
   {
    "duration": 32,
    "start_time": "2021-07-26T18:21:00.490Z"
   },
   {
    "duration": 65,
    "start_time": "2021-07-26T18:21:00.524Z"
   },
   {
    "duration": 4,
    "start_time": "2021-07-26T18:21:00.590Z"
   },
   {
    "duration": 15,
    "start_time": "2021-07-26T18:21:00.595Z"
   },
   {
    "duration": 23,
    "start_time": "2021-07-26T18:21:00.612Z"
   },
   {
    "duration": 3245,
    "start_time": "2021-07-26T18:21:00.637Z"
   },
   {
    "duration": 12,
    "start_time": "2021-07-26T18:21:03.885Z"
   },
   {
    "duration": 66,
    "start_time": "2021-07-26T18:21:03.899Z"
   },
   {
    "duration": 82,
    "start_time": "2021-07-26T18:21:03.967Z"
   },
   {
    "duration": 10,
    "start_time": "2021-07-26T18:21:04.050Z"
   },
   {
    "duration": 499,
    "start_time": "2021-07-26T18:21:04.062Z"
   },
   {
    "duration": 409,
    "start_time": "2021-07-26T18:21:04.563Z"
   },
   {
    "duration": 125,
    "start_time": "2021-07-26T18:21:04.973Z"
   },
   {
    "duration": 28,
    "start_time": "2021-07-26T18:21:05.100Z"
   },
   {
    "duration": 45,
    "start_time": "2021-07-26T18:21:05.140Z"
   },
   {
    "duration": 203,
    "start_time": "2021-07-26T18:21:05.188Z"
   },
   {
    "duration": 6,
    "start_time": "2021-07-26T18:21:05.393Z"
   },
   {
    "duration": 140,
    "start_time": "2021-07-26T18:21:05.400Z"
   },
   {
    "duration": 130,
    "start_time": "2021-07-26T18:21:05.542Z"
   },
   {
    "duration": 275,
    "start_time": "2021-07-26T18:21:05.674Z"
   },
   {
    "duration": 131,
    "start_time": "2021-07-26T18:21:05.950Z"
   },
   {
    "duration": 1541,
    "start_time": "2021-07-26T18:21:30.691Z"
   },
   {
    "duration": 138,
    "start_time": "2021-07-26T18:21:32.234Z"
   },
   {
    "duration": 111,
    "start_time": "2021-07-26T18:21:32.374Z"
   },
   {
    "duration": 8,
    "start_time": "2021-07-26T18:21:32.487Z"
   },
   {
    "duration": 16,
    "start_time": "2021-07-26T18:21:32.497Z"
   },
   {
    "duration": 5,
    "start_time": "2021-07-26T18:21:32.515Z"
   },
   {
    "duration": 19,
    "start_time": "2021-07-26T18:21:32.522Z"
   },
   {
    "duration": 27,
    "start_time": "2021-07-26T18:21:32.544Z"
   },
   {
    "duration": 47,
    "start_time": "2021-07-26T18:21:32.573Z"
   },
   {
    "duration": 3,
    "start_time": "2021-07-26T18:21:32.641Z"
   },
   {
    "duration": 7,
    "start_time": "2021-07-26T18:21:32.646Z"
   },
   {
    "duration": 17,
    "start_time": "2021-07-26T18:21:32.654Z"
   },
   {
    "duration": 3399,
    "start_time": "2021-07-26T18:21:32.673Z"
   },
   {
    "duration": 16,
    "start_time": "2021-07-26T18:21:36.075Z"
   },
   {
    "duration": 75,
    "start_time": "2021-07-26T18:21:36.093Z"
   },
   {
    "duration": 84,
    "start_time": "2021-07-26T18:21:36.170Z"
   },
   {
    "duration": 11,
    "start_time": "2021-07-26T18:21:36.255Z"
   },
   {
    "duration": 512,
    "start_time": "2021-07-26T18:21:36.268Z"
   },
   {
    "duration": 439,
    "start_time": "2021-07-26T18:21:36.782Z"
   },
   {
    "duration": 115,
    "start_time": "2021-07-26T18:21:37.223Z"
   },
   {
    "duration": 33,
    "start_time": "2021-07-26T18:21:37.340Z"
   },
   {
    "duration": 68,
    "start_time": "2021-07-26T18:21:37.374Z"
   },
   {
    "duration": 236,
    "start_time": "2021-07-26T18:21:37.444Z"
   },
   {
    "duration": 6,
    "start_time": "2021-07-26T18:21:37.682Z"
   },
   {
    "duration": 130,
    "start_time": "2021-07-26T18:21:37.690Z"
   },
   {
    "duration": 141,
    "start_time": "2021-07-26T18:21:37.822Z"
   },
   {
    "duration": 280,
    "start_time": "2021-07-26T18:21:37.965Z"
   },
   {
    "duration": 132,
    "start_time": "2021-07-26T18:21:38.247Z"
   },
   {
    "duration": 4,
    "start_time": "2021-07-26T18:23:11.761Z"
   },
   {
    "duration": 97,
    "start_time": "2021-07-26T18:23:33.445Z"
   },
   {
    "duration": 15,
    "start_time": "2021-07-26T18:26:27.810Z"
   },
   {
    "duration": 14,
    "start_time": "2021-07-26T18:27:27.033Z"
   },
   {
    "duration": 33,
    "start_time": "2021-07-26T18:28:16.594Z"
   },
   {
    "duration": 31,
    "start_time": "2021-07-26T18:28:36.795Z"
   },
   {
    "duration": 30,
    "start_time": "2021-07-26T18:28:49.433Z"
   },
   {
    "duration": 94,
    "start_time": "2021-07-26T18:33:42.338Z"
   },
   {
    "duration": 104,
    "start_time": "2021-07-26T18:33:47.876Z"
   },
   {
    "duration": 108,
    "start_time": "2021-07-26T18:36:07.021Z"
   },
   {
    "duration": 238,
    "start_time": "2021-07-26T18:39:17.172Z"
   },
   {
    "duration": 104,
    "start_time": "2021-07-26T18:39:35.365Z"
   },
   {
    "duration": 88,
    "start_time": "2021-07-26T18:42:54.694Z"
   },
   {
    "duration": 127,
    "start_time": "2021-07-26T18:42:58.360Z"
   },
   {
    "duration": 459,
    "start_time": "2021-07-26T18:43:28.684Z"
   },
   {
    "duration": 269,
    "start_time": "2021-07-26T18:43:43.934Z"
   },
   {
    "duration": 113,
    "start_time": "2021-07-26T18:43:56.558Z"
   },
   {
    "duration": 7,
    "start_time": "2021-07-26T18:45:58.076Z"
   },
   {
    "duration": 236,
    "start_time": "2021-07-26T18:46:41.650Z"
   },
   {
    "duration": 6,
    "start_time": "2021-07-26T18:46:46.948Z"
   },
   {
    "duration": 111,
    "start_time": "2021-07-26T18:47:00.044Z"
   },
   {
    "duration": 92,
    "start_time": "2021-07-26T18:49:23.947Z"
   },
   {
    "duration": 91,
    "start_time": "2021-07-26T18:53:07.779Z"
   },
   {
    "duration": 7,
    "start_time": "2021-07-26T18:53:13.502Z"
   },
   {
    "duration": 136,
    "start_time": "2021-07-26T18:53:15.972Z"
   },
   {
    "duration": 91,
    "start_time": "2021-07-26T18:53:45.134Z"
   },
   {
    "duration": 120,
    "start_time": "2021-07-26T18:53:57.274Z"
   },
   {
    "duration": 256,
    "start_time": "2021-07-26T18:54:01.006Z"
   },
   {
    "duration": 123,
    "start_time": "2021-07-26T18:54:17.366Z"
   },
   {
    "duration": 1412,
    "start_time": "2021-07-26T19:07:41.113Z"
   },
   {
    "duration": 142,
    "start_time": "2021-07-26T19:07:42.527Z"
   },
   {
    "duration": 119,
    "start_time": "2021-07-26T19:07:42.670Z"
   },
   {
    "duration": 8,
    "start_time": "2021-07-26T19:07:42.791Z"
   },
   {
    "duration": 14,
    "start_time": "2021-07-26T19:07:42.801Z"
   },
   {
    "duration": 4,
    "start_time": "2021-07-26T19:07:42.817Z"
   },
   {
    "duration": 18,
    "start_time": "2021-07-26T19:07:42.823Z"
   },
   {
    "duration": 32,
    "start_time": "2021-07-26T19:07:42.844Z"
   },
   {
    "duration": 46,
    "start_time": "2021-07-26T19:07:42.878Z"
   },
   {
    "duration": 4,
    "start_time": "2021-07-26T19:07:42.941Z"
   },
   {
    "duration": 7,
    "start_time": "2021-07-26T19:07:42.946Z"
   },
   {
    "duration": 3322,
    "start_time": "2021-07-26T19:07:42.955Z"
   },
   {
    "duration": 13,
    "start_time": "2021-07-26T19:07:46.280Z"
   },
   {
    "duration": 3,
    "start_time": "2021-07-26T19:07:46.295Z"
   },
   {
    "duration": 69,
    "start_time": "2021-07-26T19:07:46.299Z"
   },
   {
    "duration": 86,
    "start_time": "2021-07-26T19:07:46.370Z"
   },
   {
    "duration": 511,
    "start_time": "2021-07-26T19:07:46.457Z"
   },
   {
    "duration": 441,
    "start_time": "2021-07-26T19:07:46.970Z"
   },
   {
    "duration": 124,
    "start_time": "2021-07-26T19:07:47.413Z"
   },
   {
    "duration": 32,
    "start_time": "2021-07-26T19:07:47.540Z"
   },
   {
    "duration": 69,
    "start_time": "2021-07-26T19:07:47.573Z"
   },
   {
    "duration": 237,
    "start_time": "2021-07-26T19:07:47.644Z"
   },
   {
    "duration": 7,
    "start_time": "2021-07-26T19:07:47.884Z"
   },
   {
    "duration": 133,
    "start_time": "2021-07-26T19:07:47.893Z"
   },
   {
    "duration": 138,
    "start_time": "2021-07-26T19:07:48.028Z"
   },
   {
    "duration": 279,
    "start_time": "2021-07-26T19:07:48.167Z"
   },
   {
    "duration": 133,
    "start_time": "2021-07-26T19:07:48.448Z"
   },
   {
    "duration": 4,
    "start_time": "2021-07-26T19:09:14.277Z"
   },
   {
    "duration": 15,
    "start_time": "2021-07-26T19:13:09.866Z"
   },
   {
    "duration": 16,
    "start_time": "2021-07-26T19:13:18.837Z"
   },
   {
    "duration": 5,
    "start_time": "2021-07-26T19:13:20.966Z"
   },
   {
    "duration": 14,
    "start_time": "2021-07-26T19:14:17.393Z"
   },
   {
    "duration": 5,
    "start_time": "2021-07-26T19:14:20.195Z"
   },
   {
    "duration": 24,
    "start_time": "2021-07-26T19:15:16.049Z"
   },
   {
    "duration": 5,
    "start_time": "2021-07-26T19:15:18.006Z"
   },
   {
    "duration": 24,
    "start_time": "2021-07-26T19:15:29.008Z"
   },
   {
    "duration": 7,
    "start_time": "2021-07-26T19:15:30.786Z"
   },
   {
    "duration": 13,
    "start_time": "2021-07-26T19:16:03.970Z"
   },
   {
    "duration": 2861,
    "start_time": "2021-07-26T19:16:32.445Z"
   },
   {
    "duration": 17591,
    "start_time": "2021-07-27T17:58:51.102Z"
   },
   {
    "duration": 206,
    "start_time": "2021-07-27T17:59:08.696Z"
   },
   {
    "duration": 171,
    "start_time": "2021-07-27T17:59:08.906Z"
   },
   {
    "duration": 13,
    "start_time": "2021-07-27T17:59:09.081Z"
   },
   {
    "duration": 19,
    "start_time": "2021-07-27T17:59:09.097Z"
   },
   {
    "duration": 43,
    "start_time": "2021-07-27T17:59:09.119Z"
   },
   {
    "duration": 6,
    "start_time": "2021-07-27T17:59:09.165Z"
   },
   {
    "duration": 44,
    "start_time": "2021-07-27T17:59:09.177Z"
   },
   {
    "duration": 102,
    "start_time": "2021-07-27T17:59:09.225Z"
   },
   {
    "duration": 4,
    "start_time": "2021-07-27T17:59:09.330Z"
   },
   {
    "duration": 25,
    "start_time": "2021-07-27T17:59:09.337Z"
   },
   {
    "duration": 5619,
    "start_time": "2021-07-27T17:59:09.364Z"
   },
   {
    "duration": 21,
    "start_time": "2021-07-27T17:59:14.987Z"
   },
   {
    "duration": 3964,
    "start_time": "2021-07-27T17:59:15.010Z"
   },
   {
    "duration": 5,
    "start_time": "2021-07-27T17:59:18.980Z"
   },
   {
    "duration": 106,
    "start_time": "2021-07-27T17:59:18.987Z"
   },
   {
    "duration": 94,
    "start_time": "2021-07-27T17:59:19.095Z"
   },
   {
    "duration": 913,
    "start_time": "2021-07-27T17:59:19.191Z"
   },
   {
    "duration": 1097,
    "start_time": "2021-07-27T17:59:20.106Z"
   },
   {
    "duration": 210,
    "start_time": "2021-07-27T17:59:21.206Z"
   },
   {
    "duration": 61,
    "start_time": "2021-07-27T17:59:21.418Z"
   },
   {
    "duration": 99,
    "start_time": "2021-07-27T17:59:21.482Z"
   },
   {
    "duration": 360,
    "start_time": "2021-07-27T17:59:21.585Z"
   },
   {
    "duration": 16,
    "start_time": "2021-07-27T17:59:21.947Z"
   },
   {
    "duration": 232,
    "start_time": "2021-07-27T17:59:21.965Z"
   },
   {
    "duration": 237,
    "start_time": "2021-07-27T17:59:22.200Z"
   },
   {
    "duration": 431,
    "start_time": "2021-07-27T17:59:22.439Z"
   },
   {
    "duration": 347,
    "start_time": "2021-07-27T17:59:22.873Z"
   },
   {
    "duration": 2159,
    "start_time": "2021-08-23T08:27:40.266Z"
   },
   {
    "duration": 233,
    "start_time": "2021-08-23T08:27:42.427Z"
   },
   {
    "duration": 198,
    "start_time": "2021-08-23T08:27:42.664Z"
   },
   {
    "duration": 27,
    "start_time": "2021-08-23T08:27:42.866Z"
   },
   {
    "duration": 19,
    "start_time": "2021-08-23T08:27:42.896Z"
   },
   {
    "duration": 6,
    "start_time": "2021-08-23T08:27:42.918Z"
   },
   {
    "duration": 9,
    "start_time": "2021-08-23T08:27:42.926Z"
   },
   {
    "duration": 51,
    "start_time": "2021-08-23T08:27:42.956Z"
   },
   {
    "duration": 97,
    "start_time": "2021-08-23T08:27:43.010Z"
   },
   {
    "duration": 5,
    "start_time": "2021-08-23T08:27:43.109Z"
   },
   {
    "duration": 7,
    "start_time": "2021-08-23T08:27:43.116Z"
   },
   {
    "duration": 6768,
    "start_time": "2021-08-23T08:27:43.126Z"
   },
   {
    "duration": 19,
    "start_time": "2021-08-23T08:27:49.897Z"
   },
   {
    "duration": 4838,
    "start_time": "2021-08-23T08:27:49.957Z"
   },
   {
    "duration": 7,
    "start_time": "2021-08-23T08:27:54.798Z"
   },
   {
    "duration": 166,
    "start_time": "2021-08-23T08:27:54.807Z"
   },
   {
    "duration": 115,
    "start_time": "2021-08-23T08:27:54.976Z"
   },
   {
    "duration": 1045,
    "start_time": "2021-08-23T08:27:55.093Z"
   },
   {
    "duration": 696,
    "start_time": "2021-08-23T08:27:56.140Z"
   },
   {
    "duration": 201,
    "start_time": "2021-08-23T08:27:56.839Z"
   },
   {
    "duration": 64,
    "start_time": "2021-08-23T08:27:57.043Z"
   },
   {
    "duration": 116,
    "start_time": "2021-08-23T08:27:57.110Z"
   },
   {
    "duration": 380,
    "start_time": "2021-08-23T08:27:57.231Z"
   },
   {
    "duration": 10,
    "start_time": "2021-08-23T08:27:57.613Z"
   },
   {
    "duration": 255,
    "start_time": "2021-08-23T08:27:57.626Z"
   },
   {
    "duration": 234,
    "start_time": "2021-08-23T08:27:57.886Z"
   },
   {
    "duration": 439,
    "start_time": "2021-08-23T08:27:58.123Z"
   },
   {
    "duration": 234,
    "start_time": "2021-08-23T08:27:58.568Z"
   },
   {
    "duration": 2003,
    "start_time": "2021-08-24T15:32:51.277Z"
   },
   {
    "duration": 206,
    "start_time": "2021-08-24T15:32:53.283Z"
   },
   {
    "duration": 173,
    "start_time": "2021-08-24T15:32:53.494Z"
   },
   {
    "duration": 13,
    "start_time": "2021-08-24T15:32:53.671Z"
   },
   {
    "duration": 25,
    "start_time": "2021-08-24T15:32:53.687Z"
   },
   {
    "duration": 7,
    "start_time": "2021-08-24T15:32:53.715Z"
   },
   {
    "duration": 34,
    "start_time": "2021-08-24T15:32:53.724Z"
   },
   {
    "duration": 63,
    "start_time": "2021-08-24T15:32:53.761Z"
   },
   {
    "duration": 71,
    "start_time": "2021-08-24T15:32:53.829Z"
   },
   {
    "duration": 6,
    "start_time": "2021-08-24T15:32:53.904Z"
   },
   {
    "duration": 25,
    "start_time": "2021-08-24T15:32:53.913Z"
   },
   {
    "duration": 5701,
    "start_time": "2021-08-24T15:32:53.941Z"
   },
   {
    "duration": 20,
    "start_time": "2021-08-24T15:32:59.654Z"
   },
   {
    "duration": 3888,
    "start_time": "2021-08-24T15:32:59.677Z"
   },
   {
    "duration": 8,
    "start_time": "2021-08-24T15:33:03.568Z"
   },
   {
    "duration": 114,
    "start_time": "2021-08-24T15:33:03.578Z"
   },
   {
    "duration": 99,
    "start_time": "2021-08-24T15:33:03.695Z"
   },
   {
    "duration": 834,
    "start_time": "2021-08-24T15:33:03.796Z"
   },
   {
    "duration": 671,
    "start_time": "2021-08-24T15:33:04.633Z"
   },
   {
    "duration": 207,
    "start_time": "2021-08-24T15:33:05.307Z"
   },
   {
    "duration": 69,
    "start_time": "2021-08-24T15:33:05.517Z"
   },
   {
    "duration": 101,
    "start_time": "2021-08-24T15:33:05.589Z"
   },
   {
    "duration": 351,
    "start_time": "2021-08-24T15:33:05.693Z"
   },
   {
    "duration": 13,
    "start_time": "2021-08-24T15:33:06.047Z"
   },
   {
    "duration": 236,
    "start_time": "2021-08-24T15:33:06.062Z"
   },
   {
    "duration": 234,
    "start_time": "2021-08-24T15:33:06.301Z"
   },
   {
    "duration": 403,
    "start_time": "2021-08-24T15:33:06.540Z"
   },
   {
    "duration": 231,
    "start_time": "2021-08-24T15:33:06.946Z"
   },
   {
    "duration": 1590,
    "start_time": "2021-09-06T18:44:13.430Z"
   },
   {
    "duration": 195,
    "start_time": "2021-09-06T18:44:15.023Z"
   },
   {
    "duration": 175,
    "start_time": "2021-09-06T18:44:15.221Z"
   },
   {
    "duration": 10,
    "start_time": "2021-09-06T18:44:15.399Z"
   },
   {
    "duration": 21,
    "start_time": "2021-09-06T18:44:15.412Z"
   },
   {
    "duration": 25,
    "start_time": "2021-09-06T18:44:15.435Z"
   },
   {
    "duration": 13,
    "start_time": "2021-09-06T18:44:15.462Z"
   },
   {
    "duration": 46,
    "start_time": "2021-09-06T18:44:15.478Z"
   },
   {
    "duration": 70,
    "start_time": "2021-09-06T18:44:15.554Z"
   },
   {
    "duration": 26,
    "start_time": "2021-09-06T18:44:15.629Z"
   },
   {
    "duration": 16,
    "start_time": "2021-09-06T18:44:15.658Z"
   },
   {
    "duration": 5745,
    "start_time": "2021-09-06T18:44:15.677Z"
   },
   {
    "duration": 58,
    "start_time": "2021-09-06T18:44:21.424Z"
   },
   {
    "duration": 3903,
    "start_time": "2021-09-06T18:44:21.485Z"
   },
   {
    "duration": 7,
    "start_time": "2021-09-06T18:44:25.391Z"
   },
   {
    "duration": 89,
    "start_time": "2021-09-06T18:44:25.400Z"
   },
   {
    "duration": 100,
    "start_time": "2021-09-06T18:44:25.492Z"
   },
   {
    "duration": 1175,
    "start_time": "2021-09-06T18:44:25.595Z"
   },
   {
    "duration": -16827,
    "start_time": "2021-09-06T18:44:43.600Z"
   },
   {
    "duration": -16832,
    "start_time": "2021-09-06T18:44:43.606Z"
   },
   {
    "duration": -16835,
    "start_time": "2021-09-06T18:44:43.611Z"
   },
   {
    "duration": -16839,
    "start_time": "2021-09-06T18:44:43.616Z"
   },
   {
    "duration": -16842,
    "start_time": "2021-09-06T18:44:43.621Z"
   },
   {
    "duration": -16845,
    "start_time": "2021-09-06T18:44:43.626Z"
   },
   {
    "duration": -16850,
    "start_time": "2021-09-06T18:44:43.632Z"
   },
   {
    "duration": -16852,
    "start_time": "2021-09-06T18:44:43.636Z"
   },
   {
    "duration": -16857,
    "start_time": "2021-09-06T18:44:43.642Z"
   },
   {
    "duration": -16860,
    "start_time": "2021-09-06T18:44:43.647Z"
   },
   {
    "duration": 1238,
    "start_time": "2021-09-08T18:15:25.969Z"
   },
   {
    "duration": 146,
    "start_time": "2021-09-08T18:15:27.209Z"
   },
   {
    "duration": 120,
    "start_time": "2021-09-08T18:15:27.357Z"
   },
   {
    "duration": 8,
    "start_time": "2021-09-08T18:15:27.479Z"
   },
   {
    "duration": 14,
    "start_time": "2021-09-08T18:15:27.489Z"
   },
   {
    "duration": 4,
    "start_time": "2021-09-08T18:15:27.505Z"
   },
   {
    "duration": 9,
    "start_time": "2021-09-08T18:15:27.510Z"
   },
   {
    "duration": 28,
    "start_time": "2021-09-08T18:15:27.522Z"
   },
   {
    "duration": 70,
    "start_time": "2021-09-08T18:15:27.553Z"
   },
   {
    "duration": 4,
    "start_time": "2021-09-08T18:15:27.624Z"
   },
   {
    "duration": 6,
    "start_time": "2021-09-08T18:15:27.629Z"
   },
   {
    "duration": 3694,
    "start_time": "2021-09-08T18:15:27.636Z"
   },
   {
    "duration": 52,
    "start_time": "2021-09-08T18:15:31.332Z"
   },
   {
    "duration": 2511,
    "start_time": "2021-09-08T18:15:31.386Z"
   },
   {
    "duration": 5,
    "start_time": "2021-09-08T18:15:33.899Z"
   },
   {
    "duration": 80,
    "start_time": "2021-09-08T18:15:33.906Z"
   },
   {
    "duration": 89,
    "start_time": "2021-09-08T18:15:33.988Z"
   },
   {
    "duration": 2265,
    "start_time": "2021-09-08T18:15:34.079Z"
   },
   {
    "duration": -2834,
    "start_time": "2021-09-08T18:15:39.180Z"
   },
   {
    "duration": -2837,
    "start_time": "2021-09-08T18:15:39.184Z"
   },
   {
    "duration": -2841,
    "start_time": "2021-09-08T18:15:39.189Z"
   },
   {
    "duration": -2844,
    "start_time": "2021-09-08T18:15:39.193Z"
   },
   {
    "duration": -2847,
    "start_time": "2021-09-08T18:15:39.197Z"
   },
   {
    "duration": -2850,
    "start_time": "2021-09-08T18:15:39.200Z"
   },
   {
    "duration": -2854,
    "start_time": "2021-09-08T18:15:39.205Z"
   },
   {
    "duration": -2856,
    "start_time": "2021-09-08T18:15:39.208Z"
   },
   {
    "duration": -2859,
    "start_time": "2021-09-08T18:15:39.212Z"
   },
   {
    "duration": -2862,
    "start_time": "2021-09-08T18:15:39.215Z"
   },
   {
    "duration": 1338,
    "start_time": "2021-09-08T18:17:07.469Z"
   },
   {
    "duration": 149,
    "start_time": "2021-09-08T18:17:08.809Z"
   },
   {
    "duration": 121,
    "start_time": "2021-09-08T18:17:08.961Z"
   },
   {
    "duration": 9,
    "start_time": "2021-09-08T18:17:09.084Z"
   },
   {
    "duration": 14,
    "start_time": "2021-09-08T18:17:09.095Z"
   },
   {
    "duration": 4,
    "start_time": "2021-09-08T18:17:09.111Z"
   },
   {
    "duration": 10,
    "start_time": "2021-09-08T18:17:09.116Z"
   },
   {
    "duration": 49,
    "start_time": "2021-09-08T18:17:09.128Z"
   },
   {
    "duration": 49,
    "start_time": "2021-09-08T18:17:09.179Z"
   },
   {
    "duration": 3,
    "start_time": "2021-09-08T18:17:09.230Z"
   },
   {
    "duration": 5,
    "start_time": "2021-09-08T18:17:09.235Z"
   },
   {
    "duration": 3497,
    "start_time": "2021-09-08T18:17:09.241Z"
   },
   {
    "duration": 44,
    "start_time": "2021-09-08T18:17:12.741Z"
   },
   {
    "duration": 2328,
    "start_time": "2021-09-08T18:17:12.786Z"
   },
   {
    "duration": 3,
    "start_time": "2021-09-08T18:17:15.118Z"
   },
   {
    "duration": 69,
    "start_time": "2021-09-08T18:17:15.123Z"
   },
   {
    "duration": 91,
    "start_time": "2021-09-08T18:17:15.193Z"
   },
   {
    "duration": 194,
    "start_time": "2021-09-08T18:17:15.286Z"
   },
   {
    "duration": 210,
    "start_time": "2021-09-08T18:17:15.482Z"
   },
   {
    "duration": 20,
    "start_time": "2021-09-08T18:17:15.694Z"
   },
   {
    "duration": 33,
    "start_time": "2021-09-08T18:17:15.716Z"
   },
   {
    "duration": 75,
    "start_time": "2021-09-08T18:17:15.751Z"
   },
   {
    "duration": 259,
    "start_time": "2021-09-08T18:17:15.829Z"
   },
   {
    "duration": 7,
    "start_time": "2021-09-08T18:17:16.090Z"
   },
   {
    "duration": 34,
    "start_time": "2021-09-08T18:17:16.099Z"
   },
   {
    "duration": 48,
    "start_time": "2021-09-08T18:17:16.135Z"
   },
   {
    "duration": 27,
    "start_time": "2021-09-08T18:17:16.185Z"
   },
   {
    "duration": 29,
    "start_time": "2021-09-08T18:17:16.213Z"
   },
   {
    "duration": 24,
    "start_time": "2021-09-08T18:17:46.470Z"
   },
   {
    "duration": 1497,
    "start_time": "2021-09-17T20:08:45.153Z"
   },
   {
    "duration": 144,
    "start_time": "2021-09-17T20:08:46.651Z"
   },
   {
    "duration": 99,
    "start_time": "2021-09-17T20:08:46.797Z"
   },
   {
    "duration": 8,
    "start_time": "2021-09-17T20:08:46.898Z"
   },
   {
    "duration": 13,
    "start_time": "2021-09-17T20:08:46.908Z"
   },
   {
    "duration": 4,
    "start_time": "2021-09-17T20:08:46.923Z"
   },
   {
    "duration": 18,
    "start_time": "2021-09-17T20:08:46.928Z"
   },
   {
    "duration": 29,
    "start_time": "2021-09-17T20:08:46.948Z"
   },
   {
    "duration": 47,
    "start_time": "2021-09-17T20:08:46.979Z"
   },
   {
    "duration": 4,
    "start_time": "2021-09-17T20:08:47.044Z"
   },
   {
    "duration": 6,
    "start_time": "2021-09-17T20:08:47.049Z"
   },
   {
    "duration": 3381,
    "start_time": "2021-09-17T20:08:47.057Z"
   },
   {
    "duration": 28,
    "start_time": "2021-09-17T20:08:50.440Z"
   },
   {
    "duration": 15,
    "start_time": "2021-09-17T20:08:50.470Z"
   },
   {
    "duration": 2490,
    "start_time": "2021-09-17T20:08:50.544Z"
   },
   {
    "duration": 10,
    "start_time": "2021-09-17T20:08:53.036Z"
   },
   {
    "duration": 35,
    "start_time": "2021-09-17T20:08:53.048Z"
   },
   {
    "duration": 89,
    "start_time": "2021-09-17T20:08:53.085Z"
   },
   {
    "duration": 524,
    "start_time": "2021-09-17T20:08:53.176Z"
   },
   {
    "duration": 459,
    "start_time": "2021-09-17T20:08:53.702Z"
   },
   {
    "duration": 117,
    "start_time": "2021-09-17T20:08:54.163Z"
   },
   {
    "duration": 33,
    "start_time": "2021-09-17T20:08:54.281Z"
   },
   {
    "duration": 71,
    "start_time": "2021-09-17T20:08:54.316Z"
   },
   {
    "duration": 254,
    "start_time": "2021-09-17T20:08:54.390Z"
   },
   {
    "duration": 7,
    "start_time": "2021-09-17T20:08:54.646Z"
   },
   {
    "duration": 142,
    "start_time": "2021-09-17T20:08:54.654Z"
   },
   {
    "duration": 129,
    "start_time": "2021-09-17T20:08:54.798Z"
   },
   {
    "duration": 290,
    "start_time": "2021-09-17T20:08:54.929Z"
   },
   {
    "duration": 142,
    "start_time": "2021-09-17T20:08:55.221Z"
   }
  ],
  "kernelspec": {
   "display_name": "Python 3",
   "language": "python",
   "name": "python3"
  },
  "language_info": {
   "codemirror_mode": {
    "name": "ipython",
    "version": 3
   },
   "file_extension": ".py",
   "mimetype": "text/x-python",
   "name": "python",
   "nbconvert_exporter": "python",
   "pygments_lexer": "ipython3",
   "version": "3.8.5"
  },
  "latex_envs": {
   "LaTeX_envs_menu_present": true,
   "autoclose": false,
   "autocomplete": true,
   "bibliofile": "biblio.bib",
   "cite_by": "apalike",
   "current_citInitial": 1,
   "eqLabelWithNumbers": true,
   "eqNumInitial": 1,
   "hotkeys": {
    "equation": "Ctrl-E",
    "itemize": "Ctrl-I"
   },
   "labels_anchors": false,
   "latex_user_defs": false,
   "report_style_numbering": false,
   "user_envs_cfg": false
  },
  "toc": {
   "base_numbering": 1,
   "nav_menu": {},
   "number_sections": false,
   "sideBar": true,
   "skip_h1_title": false,
   "title_cell": "Table of Contents",
   "title_sidebar": "Contents",
   "toc_cell": false,
   "toc_position": {
    "height": "calc(100% - 180px)",
    "left": "10px",
    "top": "150px",
    "width": "323.903px"
   },
   "toc_section_display": true,
   "toc_window_display": true
  },
  "varInspector": {
   "cols": {
    "lenName": 16,
    "lenType": 16,
    "lenVar": 40
   },
   "kernels_config": {
    "python": {
     "delete_cmd_postfix": "",
     "delete_cmd_prefix": "del ",
     "library": "var_list.py",
     "varRefreshCmd": "print(var_dic_list())"
    },
    "r": {
     "delete_cmd_postfix": ") ",
     "delete_cmd_prefix": "rm(",
     "library": "var_list.r",
     "varRefreshCmd": "cat(var_dic_list()) "
    }
   },
   "types_to_exclude": [
    "module",
    "function",
    "builtin_function_or_method",
    "instance",
    "_Feature"
   ],
   "window_display": false
  }
 },
 "nbformat": 4,
 "nbformat_minor": 2
}
