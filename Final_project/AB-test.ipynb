{
 "cells": [
  {
   "cell_type": "markdown",
   "metadata": {},
   "source": [
    "<b style=\"font-size:30px; line-height:1.2\"><center>А/B-тестирование</b></center>"
   ]
  },
  {
   "cell_type": "markdown",
   "metadata": {},
   "source": [
    "**Основная задача:** провести оценку результатов A/B-теста.\n",
    "\n",
    "Имеются датасет с действиями пользователей, техническое задание и несколько вспомогательных датасетов.\n",
    "\n",
    "Этапы достижения основной задачи:\n",
    " - оценить корректность проведения теста;\n",
    " - проанализировать результаты теста;\n",
    "\n",
    "Чтобы оценить корректность проведения теста, необходимо проверить:\n",
    " - пересечение тестовой аудитории с конкурирующим тестом; \n",
    " - совпадение теста и маркетинговых событий, другие проблемы временных границ теста."
   ]
  },
  {
   "cell_type": "markdown",
   "metadata": {},
   "source": [
    "# Шаг №1.  Загрузить данные и изучить их"
   ]
  },
  {
   "cell_type": "markdown",
   "metadata": {},
   "source": [
    "<b style=\"font-size:18px; line-height:1.2\"><center>Структура данных</b></center>\n",
    "\n",
    "\n",
    "**ab_project_marketing_events.csv** — календарь маркетинговых событий на 2020 год:\n",
    " - `name` — название маркетингового события;\n",
    " - `regions` — регионы, в которых будет проводиться рекламная кампания;\n",
    " - `start_dt` — дата начала кампании;\n",
    " - `finish_dt` — дата завершения кампании.\n",
    " \n",
    " \n",
    " \n",
    "**final_ab_new_users.csv** — все пользователи, зарегистрировавшиеся в интернет-магазине в период с 7 по 21 декабря 2020 года:\n",
    " - `user_id` — идентификатор пользователя;\n",
    " - `first_date` — дата регистрации;\n",
    " - `region` — регион пользователя;\n",
    " - `device` — устройство, с которого происходила регистрация.\n",
    " \n",
    " \n",
    "**final_ab_events.csv** — все события новых пользователей в период с 7 декабря 2020 по 4 января 2021 года:\n",
    " - `user_id` — идентификатор пользователя;\n",
    " - `event_dt` — дата и время события;\n",
    " - `event_name` — тип события;\n",
    " - `details` — дополнительные данные о событии. Например, для покупок, purchase, в этом поле хранится стоимость покупки в долларах.\n",
    " \n",
    " \n",
    "**final_ab_participants.csv** — таблица участников тестов:\n",
    " - `user_id` — идентификатор пользователя;\n",
    " - `ab_test` — название теста;\n",
    " - `group` — группа пользователя."
   ]
  },
  {
   "cell_type": "code",
   "execution_count": 1,
   "metadata": {
    "scrolled": false
   },
   "outputs": [
    {
     "name": "stdout",
     "output_type": "stream",
     "text": [
      "Requirement already satisfied: plotly==5.1.0 in c:\\users\\alek_\\anaconda3\\lib\\site-packages (5.1.0)Note: you may need to restart the kernel to use updated packages.\n",
      "Requirement already satisfied: six in c:\\users\\alek_\\anaconda3\\lib\\site-packages (from plotly==5.1.0) (1.15.0)\n",
      "Requirement already satisfied: tenacity>=6.2.0 in c:\\users\\alek_\\anaconda3\\lib\\site-packages (from plotly==5.1.0) (8.0.1)\n",
      "\n"
     ]
    }
   ],
   "source": [
    "pip install plotly==5.1.0"
   ]
  },
  {
   "cell_type": "markdown",
   "metadata": {},
   "source": [
    "Импортируем необходимые библиотеки:"
   ]
  },
  {
   "cell_type": "code",
   "execution_count": 2,
   "metadata": {},
   "outputs": [],
   "source": [
    "import pandas as pd\n",
    "import numpy as np\n",
    "import seaborn as sns\n",
    "import plotly.express as px\n",
    "from plotly import graph_objects as go\n",
    "from statsmodels.stats.proportion import proportions_ztest\n",
    "colors =[\"#ef476f\",\"#ffd166\",\"#06d6a0\",\"#118ab2\",\"#073b4c\"]\n",
    "sns.set_palette(sns.color_palette(colors))"
   ]
  },
  {
   "cell_type": "markdown",
   "metadata": {},
   "source": [
    "Оценив данные, создадим пайплайн для загрузки полного датасета `ab_project_marketing_events`, `final_ab_new_users`, `final_ab_events` и `final_ab_events`. Таким способом мы сразу преобразуем временные данные в необхимый тип, а также столбцы с категориальными данными преобразуем в категориальный тип. Следствием наших действий уменьшится занимаемая память DF. "
   ]
  },
  {
   "cell_type": "code",
   "execution_count": 3,
   "metadata": {},
   "outputs": [],
   "source": [
    "ab_project_marketing_events = pd.read_csv('ab_project_marketing_events.csv', header=0,\n",
    "    parse_dates=['start_dt', 'finish_dt'])\n",
    "\n",
    "final_ab_new_users = pd.read_csv('final_ab_new_users.csv', header=0,\n",
    "    parse_dates=['first_date'],\n",
    "    dtype={'device': 'category'})\n",
    "\n",
    "final_ab_events = pd.read_csv('final_ab_events.csv', header=0,\n",
    "    parse_dates=['event_dt'],\n",
    "    dtype={'event_name': 'category'})\n",
    "\n",
    "final_ab_participants = pd.read_csv('final_ab_participants.csv', header=0,\n",
    "    dtype={'group': 'category', 'ab_test': 'category'})"
   ]
  },
  {
   "cell_type": "markdown",
   "metadata": {},
   "source": [
    "Проверим DF на дубликаты. При наличии мы можем их удалить:"
   ]
  },
  {
   "cell_type": "code",
   "execution_count": 4,
   "metadata": {
    "scrolled": false
   },
   "outputs": [
    {
     "name": "stdout",
     "output_type": "stream",
     "text": [
      "Количество дубликатов в ab_project_marketing_events: 0\n",
      "Количество дубликатов в final_ab_new_users: 0\n",
      "Количество дубликатов в final_ab_events: 0\n",
      "Количество дубликатов в final_ab_participants: 0\n"
     ]
    }
   ],
   "source": [
    "print('Количество дубликатов в ab_project_marketing_events:', ab_project_marketing_events.duplicated().sum())\n",
    "print('Количество дубликатов в final_ab_new_users:', final_ab_new_users.duplicated().sum())\n",
    "print('Количество дубликатов в final_ab_events:', final_ab_events.duplicated().sum())\n",
    "print('Количество дубликатов в final_ab_participants:', final_ab_participants.duplicated().sum())"
   ]
  },
  {
   "cell_type": "markdown",
   "metadata": {},
   "source": [
    "Используя код из ранее сделанных проектов, сведем информацию о всех DF в одну сводную таблицу:"
   ]
  },
  {
   "cell_type": "code",
   "execution_count": 5,
   "metadata": {},
   "outputs": [
    {
     "data": {
      "text/html": [
       "<style  type=\"text/css\" >\n",
       "#T_c07b65da_4715_11ec_9d73_28cdc466278erow0_col0,#T_c07b65da_4715_11ec_9d73_28cdc466278erow1_col0,#T_c07b65da_4715_11ec_9d73_28cdc466278erow2_col0,#T_c07b65da_4715_11ec_9d73_28cdc466278erow3_col0,#T_c07b65da_4715_11ec_9d73_28cdc466278erow4_col0,#T_c07b65da_4715_11ec_9d73_28cdc466278erow5_col0,#T_c07b65da_4715_11ec_9d73_28cdc466278erow6_col0,#T_c07b65da_4715_11ec_9d73_28cdc466278erow7_col0,#T_c07b65da_4715_11ec_9d73_28cdc466278erow8_col0,#T_c07b65da_4715_11ec_9d73_28cdc466278erow9_col0,#T_c07b65da_4715_11ec_9d73_28cdc466278erow10_col0,#T_c07b65da_4715_11ec_9d73_28cdc466278erow12_col0,#T_c07b65da_4715_11ec_9d73_28cdc466278erow13_col0,#T_c07b65da_4715_11ec_9d73_28cdc466278erow14_col0{\n",
       "            background-color:  #f7fbff;\n",
       "            color:  #000000;\n",
       "        }#T_c07b65da_4715_11ec_9d73_28cdc466278erow11_col0{\n",
       "            background-color:  #08306b;\n",
       "            color:  #f1f1f1;\n",
       "        }</style><table id=\"T_c07b65da_4715_11ec_9d73_28cdc466278e\" ><thead>    <tr>        <th class=\"blank\" ></th>        <th class=\"blank\" ></th>        <th class=\"blank level0\" ></th>        <th class=\"col_heading level0 col0\" >null_values, %</th>        <th class=\"col_heading level0 col1\" >type</th>    </tr>    <tr>        <th class=\"index_name level0\" >total</th>        <th class=\"index_name level1\" >frame</th>        <th class=\"index_name level2\" >columns</th>        <th class=\"blank\" ></th>        <th class=\"blank\" ></th>    </tr></thead><tbody>\n",
       "                <tr>\n",
       "                        <th id=\"T_c07b65da_4715_11ec_9d73_28cdc466278elevel0_row0\" class=\"row_heading level0 row0\" rowspan=4>14</th>\n",
       "                        <th id=\"T_c07b65da_4715_11ec_9d73_28cdc466278elevel1_row0\" class=\"row_heading level1 row0\" rowspan=4>ab_project_marketing_events</th>\n",
       "                        <th id=\"T_c07b65da_4715_11ec_9d73_28cdc466278elevel2_row0\" class=\"row_heading level2 row0\" >finish_dt</th>\n",
       "                        <td id=\"T_c07b65da_4715_11ec_9d73_28cdc466278erow0_col0\" class=\"data row0 col0\" >0.000000</td>\n",
       "                        <td id=\"T_c07b65da_4715_11ec_9d73_28cdc466278erow0_col1\" class=\"data row0 col1\" >datetime64[ns]</td>\n",
       "            </tr>\n",
       "            <tr>\n",
       "                                        <th id=\"T_c07b65da_4715_11ec_9d73_28cdc466278elevel2_row1\" class=\"row_heading level2 row1\" >name</th>\n",
       "                        <td id=\"T_c07b65da_4715_11ec_9d73_28cdc466278erow1_col0\" class=\"data row1 col0\" >0.000000</td>\n",
       "                        <td id=\"T_c07b65da_4715_11ec_9d73_28cdc466278erow1_col1\" class=\"data row1 col1\" >object</td>\n",
       "            </tr>\n",
       "            <tr>\n",
       "                                        <th id=\"T_c07b65da_4715_11ec_9d73_28cdc466278elevel2_row2\" class=\"row_heading level2 row2\" >regions</th>\n",
       "                        <td id=\"T_c07b65da_4715_11ec_9d73_28cdc466278erow2_col0\" class=\"data row2 col0\" >0.000000</td>\n",
       "                        <td id=\"T_c07b65da_4715_11ec_9d73_28cdc466278erow2_col1\" class=\"data row2 col1\" >object</td>\n",
       "            </tr>\n",
       "            <tr>\n",
       "                                        <th id=\"T_c07b65da_4715_11ec_9d73_28cdc466278elevel2_row3\" class=\"row_heading level2 row3\" >start_dt</th>\n",
       "                        <td id=\"T_c07b65da_4715_11ec_9d73_28cdc466278erow3_col0\" class=\"data row3 col0\" >0.000000</td>\n",
       "                        <td id=\"T_c07b65da_4715_11ec_9d73_28cdc466278erow3_col1\" class=\"data row3 col1\" >datetime64[ns]</td>\n",
       "            </tr>\n",
       "            <tr>\n",
       "                        <th id=\"T_c07b65da_4715_11ec_9d73_28cdc466278elevel0_row4\" class=\"row_heading level0 row4\" rowspan=3>18268</th>\n",
       "                        <th id=\"T_c07b65da_4715_11ec_9d73_28cdc466278elevel1_row4\" class=\"row_heading level1 row4\" rowspan=3>final_ab_participants</th>\n",
       "                        <th id=\"T_c07b65da_4715_11ec_9d73_28cdc466278elevel2_row4\" class=\"row_heading level2 row4\" >ab_test</th>\n",
       "                        <td id=\"T_c07b65da_4715_11ec_9d73_28cdc466278erow4_col0\" class=\"data row4 col0\" >0.000000</td>\n",
       "                        <td id=\"T_c07b65da_4715_11ec_9d73_28cdc466278erow4_col1\" class=\"data row4 col1\" >category</td>\n",
       "            </tr>\n",
       "            <tr>\n",
       "                                        <th id=\"T_c07b65da_4715_11ec_9d73_28cdc466278elevel2_row5\" class=\"row_heading level2 row5\" >group</th>\n",
       "                        <td id=\"T_c07b65da_4715_11ec_9d73_28cdc466278erow5_col0\" class=\"data row5 col0\" >0.000000</td>\n",
       "                        <td id=\"T_c07b65da_4715_11ec_9d73_28cdc466278erow5_col1\" class=\"data row5 col1\" >category</td>\n",
       "            </tr>\n",
       "            <tr>\n",
       "                                        <th id=\"T_c07b65da_4715_11ec_9d73_28cdc466278elevel2_row6\" class=\"row_heading level2 row6\" >user_id</th>\n",
       "                        <td id=\"T_c07b65da_4715_11ec_9d73_28cdc466278erow6_col0\" class=\"data row6 col0\" >0.000000</td>\n",
       "                        <td id=\"T_c07b65da_4715_11ec_9d73_28cdc466278erow6_col1\" class=\"data row6 col1\" >object</td>\n",
       "            </tr>\n",
       "            <tr>\n",
       "                        <th id=\"T_c07b65da_4715_11ec_9d73_28cdc466278elevel0_row7\" class=\"row_heading level0 row7\" rowspan=4>61733</th>\n",
       "                        <th id=\"T_c07b65da_4715_11ec_9d73_28cdc466278elevel1_row7\" class=\"row_heading level1 row7\" rowspan=4>final_ab_new_users</th>\n",
       "                        <th id=\"T_c07b65da_4715_11ec_9d73_28cdc466278elevel2_row7\" class=\"row_heading level2 row7\" >device</th>\n",
       "                        <td id=\"T_c07b65da_4715_11ec_9d73_28cdc466278erow7_col0\" class=\"data row7 col0\" >0.000000</td>\n",
       "                        <td id=\"T_c07b65da_4715_11ec_9d73_28cdc466278erow7_col1\" class=\"data row7 col1\" >category</td>\n",
       "            </tr>\n",
       "            <tr>\n",
       "                                        <th id=\"T_c07b65da_4715_11ec_9d73_28cdc466278elevel2_row8\" class=\"row_heading level2 row8\" >first_date</th>\n",
       "                        <td id=\"T_c07b65da_4715_11ec_9d73_28cdc466278erow8_col0\" class=\"data row8 col0\" >0.000000</td>\n",
       "                        <td id=\"T_c07b65da_4715_11ec_9d73_28cdc466278erow8_col1\" class=\"data row8 col1\" >datetime64[ns]</td>\n",
       "            </tr>\n",
       "            <tr>\n",
       "                                        <th id=\"T_c07b65da_4715_11ec_9d73_28cdc466278elevel2_row9\" class=\"row_heading level2 row9\" >region</th>\n",
       "                        <td id=\"T_c07b65da_4715_11ec_9d73_28cdc466278erow9_col0\" class=\"data row9 col0\" >0.000000</td>\n",
       "                        <td id=\"T_c07b65da_4715_11ec_9d73_28cdc466278erow9_col1\" class=\"data row9 col1\" >object</td>\n",
       "            </tr>\n",
       "            <tr>\n",
       "                                        <th id=\"T_c07b65da_4715_11ec_9d73_28cdc466278elevel2_row10\" class=\"row_heading level2 row10\" >user_id</th>\n",
       "                        <td id=\"T_c07b65da_4715_11ec_9d73_28cdc466278erow10_col0\" class=\"data row10 col0\" >0.000000</td>\n",
       "                        <td id=\"T_c07b65da_4715_11ec_9d73_28cdc466278erow10_col1\" class=\"data row10 col1\" >object</td>\n",
       "            </tr>\n",
       "            <tr>\n",
       "                        <th id=\"T_c07b65da_4715_11ec_9d73_28cdc466278elevel0_row11\" class=\"row_heading level0 row11\" rowspan=4>440317</th>\n",
       "                        <th id=\"T_c07b65da_4715_11ec_9d73_28cdc466278elevel1_row11\" class=\"row_heading level1 row11\" rowspan=4>final_ab_events</th>\n",
       "                        <th id=\"T_c07b65da_4715_11ec_9d73_28cdc466278elevel2_row11\" class=\"row_heading level2 row11\" >details</th>\n",
       "                        <td id=\"T_c07b65da_4715_11ec_9d73_28cdc466278erow11_col0\" class=\"data row11 col0\" >85.750000</td>\n",
       "                        <td id=\"T_c07b65da_4715_11ec_9d73_28cdc466278erow11_col1\" class=\"data row11 col1\" >float64</td>\n",
       "            </tr>\n",
       "            <tr>\n",
       "                                        <th id=\"T_c07b65da_4715_11ec_9d73_28cdc466278elevel2_row12\" class=\"row_heading level2 row12\" >event_dt</th>\n",
       "                        <td id=\"T_c07b65da_4715_11ec_9d73_28cdc466278erow12_col0\" class=\"data row12 col0\" >0.000000</td>\n",
       "                        <td id=\"T_c07b65da_4715_11ec_9d73_28cdc466278erow12_col1\" class=\"data row12 col1\" >datetime64[ns]</td>\n",
       "            </tr>\n",
       "            <tr>\n",
       "                                        <th id=\"T_c07b65da_4715_11ec_9d73_28cdc466278elevel2_row13\" class=\"row_heading level2 row13\" >event_name</th>\n",
       "                        <td id=\"T_c07b65da_4715_11ec_9d73_28cdc466278erow13_col0\" class=\"data row13 col0\" >0.000000</td>\n",
       "                        <td id=\"T_c07b65da_4715_11ec_9d73_28cdc466278erow13_col1\" class=\"data row13 col1\" >category</td>\n",
       "            </tr>\n",
       "            <tr>\n",
       "                                        <th id=\"T_c07b65da_4715_11ec_9d73_28cdc466278elevel2_row14\" class=\"row_heading level2 row14\" >user_id</th>\n",
       "                        <td id=\"T_c07b65da_4715_11ec_9d73_28cdc466278erow14_col0\" class=\"data row14 col0\" >0.000000</td>\n",
       "                        <td id=\"T_c07b65da_4715_11ec_9d73_28cdc466278erow14_col1\" class=\"data row14 col1\" >object</td>\n",
       "            </tr>\n",
       "    </tbody></table>"
      ],
      "text/plain": [
       "<pandas.io.formats.style.Styler at 0x19600b46430>"
      ]
     },
     "execution_count": 5,
     "metadata": {},
     "output_type": "execute_result"
    }
   ],
   "source": [
    "# Создадим словарь соответствия фрейма и его имени\n",
    "dict_frames ={\n",
    "    'ab_project_marketing_events': ab_project_marketing_events,\n",
    "    'final_ab_new_users': final_ab_new_users,\n",
    "    'final_ab_events': final_ab_events,\n",
    "    'final_ab_participants': final_ab_participants\n",
    "}\n",
    "\n",
    "# Функция, для сбора информации о всех DF\n",
    "def info_frame(dict_of_frames):\n",
    "    def table(dataframe, name):\n",
    "        # Собираем данные из конкретной таблицы\n",
    "        columns = dataframe.columns\n",
    "        count_of_rows = len(columns)\n",
    "        total = dataframe.shape[0]\n",
    "        \n",
    "        part_total_table = pd.DataFrame(data =[[0] * 5] * count_of_rows, \n",
    "                                        columns = ['total',\n",
    "                                                   'frame',\n",
    "                                                   \"columns\",\n",
    "                                                   \"null_values, %\",\n",
    "                                                   \"type\"])\n",
    "    \n",
    "        part_total_table['total'] = [total] * count_of_rows\n",
    "        part_total_table['frame'] = [name] * count_of_rows\n",
    "        part_total_table['columns'] = columns\n",
    "        \n",
    "        \n",
    "        for column in columns:\n",
    "            curent_type = str(dataframe[column].dtype)\n",
    "            count_of_null = dataframe[column].isnull().sum() * 100 / part_total_table['total']\n",
    "            part_total_table.loc[part_total_table['columns'] == column,'null_values, %'] = count_of_null.round(2)\n",
    "            part_total_table.loc[part_total_table['columns'] == column,'type'] = curent_type\n",
    "        \n",
    "        return part_total_table\n",
    "    \n",
    "    # объединяем даные из каждой таблицы в одну   \n",
    "    final_frame = pd.DataFrame(columns = ['total','frame',\"columns\",\"null_values, %\",\"type\"])\n",
    "    \n",
    "    for name,frame in dict_of_frames.items():\n",
    "        part_of_table = table(frame,name)\n",
    "        final_frame = final_frame.append(part_of_table)\n",
    "        \n",
    "    final_frame = final_frame.reset_index(drop = True)\n",
    "    final_frame_grouped = final_frame.groupby(['total','frame',\"columns\"]).first()\n",
    "    final_frame_grouped = final_frame_grouped.style.background_gradient(cmap='Blues',subset=['null_values, %'])\n",
    "    \n",
    "    return final_frame_grouped\n",
    "#Запуск функции\n",
    "info_frame(dict_frames)"
   ]
  },
  {
   "cell_type": "markdown",
   "metadata": {},
   "source": [
    "**Вывод:** В DF *final_ab_events* в столбце `details` 85.75% пустых значений, т.е. это та доля событий, которые не имеют дополнительных данных."
   ]
  },
  {
   "cell_type": "markdown",
   "metadata": {},
   "source": [
    "# Шаг 2. Исследовательский анализ данных"
   ]
  },
  {
   "cell_type": "markdown",
   "metadata": {},
   "source": [
    "## 2.1. Исследование конверсии в воронке на разных этапах"
   ]
  },
  {
   "cell_type": "markdown",
   "metadata": {},
   "source": [
    "Объединим DF по пользователям:"
   ]
  },
  {
   "cell_type": "code",
   "execution_count": 6,
   "metadata": {},
   "outputs": [],
   "source": [
    "total_id = final_ab_new_users.merge(final_ab_events, on='user_id')\n",
    "total_ab = total_id.merge(final_ab_participants, on='user_id', how='right')"
   ]
  },
  {
   "cell_type": "markdown",
   "metadata": {},
   "source": [
    "Сделаем срез по тесту, указанный в ТЗ - `recommender_system_test:`"
   ]
  },
  {
   "cell_type": "code",
   "execution_count": 7,
   "metadata": {},
   "outputs": [],
   "source": [
    "total_ab = total_ab.query('ab_test == \"recommender_system_test\"')"
   ]
  },
  {
   "cell_type": "markdown",
   "metadata": {},
   "source": [
    "Посчитаем количество уникальных пользователей в каждой группе в каждом событии:"
   ]
  },
  {
   "cell_type": "code",
   "execution_count": 8,
   "metadata": {},
   "outputs": [
    {
     "data": {
      "text/html": [
       "<div>\n",
       "<style scoped>\n",
       "    .dataframe tbody tr th:only-of-type {\n",
       "        vertical-align: middle;\n",
       "    }\n",
       "\n",
       "    .dataframe tbody tr th {\n",
       "        vertical-align: top;\n",
       "    }\n",
       "\n",
       "    .dataframe thead th {\n",
       "        text-align: right;\n",
       "    }\n",
       "</style>\n",
       "<table border=\"1\" class=\"dataframe\">\n",
       "  <thead>\n",
       "    <tr style=\"text-align: right;\">\n",
       "      <th></th>\n",
       "      <th>A</th>\n",
       "      <th>B</th>\n",
       "    </tr>\n",
       "  </thead>\n",
       "  <tbody>\n",
       "    <tr>\n",
       "      <th>login</th>\n",
       "      <td>2747</td>\n",
       "      <td>928</td>\n",
       "    </tr>\n",
       "    <tr>\n",
       "      <th>product_page</th>\n",
       "      <td>1780</td>\n",
       "      <td>523</td>\n",
       "    </tr>\n",
       "    <tr>\n",
       "      <th>product_cart</th>\n",
       "      <td>824</td>\n",
       "      <td>255</td>\n",
       "    </tr>\n",
       "    <tr>\n",
       "      <th>purchase</th>\n",
       "      <td>872</td>\n",
       "      <td>256</td>\n",
       "    </tr>\n",
       "  </tbody>\n",
       "</table>\n",
       "</div>"
      ],
      "text/plain": [
       "                 A    B\n",
       "login         2747  928\n",
       "product_page  1780  523\n",
       "product_cart   824  255\n",
       "purchase       872  256"
      ]
     },
     "execution_count": 8,
     "metadata": {},
     "output_type": "execute_result"
    }
   ],
   "source": [
    "event_name_dict = total_ab[total_ab['event_name'].isna() == False]['event_name'].unique()\n",
    "groups = total_ab['group'].unique()\n",
    "simple_funnel = pd.DataFrame(columns=groups, index=event_name_dict)\n",
    "for group in simple_funnel:\n",
    "    for event in simple_funnel.index:\n",
    "        simple_funnel.loc[event, group] = \\\n",
    "        total_ab[(total_ab['group'] == group) & (total_ab['event_name'] == event)]['user_id'].nunique()\n",
    "simple_funnel = simple_funnel.reindex(['login', 'product_page', 'product_cart', 'purchase'])\n",
    "simple_funnel"
   ]
  },
  {
   "cell_type": "markdown",
   "metadata": {},
   "source": [
    "Построим воронку событий:"
   ]
  },
  {
   "cell_type": "code",
   "execution_count": 9,
   "metadata": {},
   "outputs": [
    {
     "data": {
      "image/svg+xml": [
       "<svg class=\"main-svg\" xmlns=\"http://www.w3.org/2000/svg\" xmlns:xlink=\"http://www.w3.org/1999/xlink\" width=\"700\" height=\"500\" style=\"\" viewBox=\"0 0 700 500\"><rect x=\"0\" y=\"0\" width=\"700\" height=\"500\" style=\"fill: rgb(255, 255, 255); fill-opacity: 1;\"/><defs id=\"defs-3ca4b1\"><g class=\"clips\"><clipPath id=\"clip3ca4b1xyplot\" class=\"plotclip\"><rect width=\"524\" height=\"320\"/></clipPath><clipPath class=\"axesclip\" id=\"clip3ca4b1x\"><rect x=\"96\" y=\"0\" width=\"524\" height=\"500\"/></clipPath><clipPath class=\"axesclip\" id=\"clip3ca4b1y\"><rect x=\"0\" y=\"100\" width=\"700\" height=\"320\"/></clipPath><clipPath class=\"axesclip\" id=\"clip3ca4b1xy\"><rect x=\"96\" y=\"100\" width=\"524\" height=\"320\"/></clipPath></g><g class=\"gradients\"/><g class=\"patterns\"/></defs><g class=\"bglayer\"><rect class=\"bg\" x=\"96\" y=\"100\" width=\"524\" height=\"320\" style=\"fill: rgb(255, 255, 255); fill-opacity: 1; stroke-width: 0;\"/></g><g class=\"layer-below\"><g class=\"imagelayer\"/><g class=\"shapelayer\"/></g><g class=\"cartesianlayer\"><g class=\"subplot xy\"><g class=\"layer-subplot\"><g class=\"shapelayer\"/><g class=\"imagelayer\"/></g><g class=\"gridlayer\"><g class=\"x\"/><g class=\"y\"/></g><g class=\"zerolinelayer\"/><path class=\"xlines-below\"/><path class=\"ylines-below\"/><g class=\"overlines-below\"/><g class=\"xaxislayer-below\"/><g class=\"yaxislayer-below\"/><g class=\"overaxes-below\"/><g class=\"plot\" transform=\"translate(96,100)\" clip-path=\"url(#clip3ca4b1xyplot)\"><g class=\"funnellayer mlayer\"><g class=\"trace bars\" style=\"opacity: 1;\"><g class=\"regions\"><g class=\"region\"><path d=\"M26.2,72L114.23,88H342.65L378.71,72Z\" style=\"stroke-width: 0; fill: rgb(199, 199, 199); fill-opacity: 1;\"/></g><g class=\"region\"><path d=\"M114.23,152L192.77,168H298.51L342.65,152Z\" style=\"stroke-width: 0; fill: rgb(199, 199, 199); fill-opacity: 1;\"/></g><g class=\"region\"><path d=\"M192.77,232L189.62,248H301.52L298.51,232Z\" style=\"stroke-width: 0; fill: rgb(199, 199, 199); fill-opacity: 1;\"/></g><g class=\"region\"><path d=\"M0,0Z\" style=\"stroke-width: 0; fill: rgb(199, 199, 199); fill-opacity: 1;\"/></g></g><g class=\"points\"><g class=\"point\"><path d=\"M26.2,8V72H378.71V8Z\" style=\"vector-effect: non-scaling-stroke; fill: rgb(255, 209, 102); fill-opacity: 1; stroke: rgb(68, 68, 68); stroke-opacity: 1; stroke-width: 0px; opacity: 1;\"/><text class=\"bartext bartext-inside\" text-anchor=\"middle\" data-notex=\"1\" x=\"0\" y=\"0\" style=\"font-family: 'Open Sans', verdana, arial, sans-serif; font-size: 14px; fill: rgb(255, 255, 255); fill-opacity: 1; white-space: pre;\" transform=\"translate(202.45499999999998,36.3984375)\"><tspan class=\"line\" dy=\"0em\" x=\"0\" y=\"0\">2747</tspan><tspan class=\"line\" dy=\"1.3em\" x=\"0\" y=\"0\">100%</tspan></text></g><g class=\"point\"><path d=\"M114.23,88V152H342.65V88Z\" style=\"vector-effect: non-scaling-stroke; fill: rgb(255, 209, 102); fill-opacity: 1; stroke: rgb(68, 68, 68); stroke-opacity: 1; stroke-width: 0px; opacity: 1;\"/><text class=\"bartext bartext-inside\" text-anchor=\"middle\" data-notex=\"1\" x=\"0\" y=\"0\" style=\"font-family: 'Open Sans', verdana, arial, sans-serif; font-size: 14px; fill: rgb(255, 255, 255); fill-opacity: 1; white-space: pre;\" transform=\"translate(228.393125,116.3984375)\"><tspan class=\"line\" dy=\"0em\" x=\"0\" y=\"0\">1780</tspan><tspan class=\"line\" dy=\"1.3em\" x=\"0\" y=\"0\">65%</tspan></text></g><g class=\"point\"><path d=\"M192.77,168V232H298.51V168Z\" style=\"vector-effect: non-scaling-stroke; fill: rgb(255, 209, 102); fill-opacity: 1; stroke: rgb(68, 68, 68); stroke-opacity: 1; stroke-width: 0px; opacity: 1;\"/><text class=\"bartext bartext-inside\" text-anchor=\"middle\" data-notex=\"1\" x=\"0\" y=\"0\" style=\"font-family: 'Open Sans', verdana, arial, sans-serif; font-size: 14px; fill: rgb(255, 255, 255); fill-opacity: 1; white-space: pre;\" transform=\"translate(245.64,196.3984375)\"><tspan class=\"line\" dy=\"0em\" x=\"0\" y=\"0\">824</tspan><tspan class=\"line\" dy=\"1.3em\" x=\"0\" y=\"0\">30%</tspan></text></g><g class=\"point\"><path d=\"M189.62,248V312H301.52V248Z\" style=\"vector-effect: non-scaling-stroke; fill: rgb(255, 209, 102); fill-opacity: 1; stroke: rgb(68, 68, 68); stroke-opacity: 1; stroke-width: 0px; opacity: 1;\"/><text class=\"bartext bartext-inside\" text-anchor=\"middle\" data-notex=\"1\" x=\"0\" y=\"0\" style=\"font-family: 'Open Sans', verdana, arial, sans-serif; font-size: 14px; fill: rgb(255, 255, 255); fill-opacity: 1; white-space: pre;\" transform=\"translate(245.57,276.3984375)\"><tspan class=\"line\" dy=\"0em\" x=\"0\" y=\"0\">872</tspan><tspan class=\"line\" dy=\"1.3em\" x=\"0\" y=\"0\">32%</tspan></text></g></g></g><g class=\"trace bars\" style=\"opacity: 1;\"><g class=\"regions\"><g class=\"region\"><path d=\"M378.71,72L342.65,88H409.77L497.8,72Z\" style=\"stroke-width: 0; fill: rgb(199, 199, 199); fill-opacity: 1;\"/></g><g class=\"region\"><path d=\"M342.65,152L298.51,168H331.23L409.77,152Z\" style=\"stroke-width: 0; fill: rgb(199, 199, 199); fill-opacity: 1;\"/></g><g class=\"region\"><path d=\"M298.51,232L301.52,248H334.38L331.23,232Z\" style=\"stroke-width: 0; fill: rgb(199, 199, 199); fill-opacity: 1;\"/></g><g class=\"region\"><path d=\"M0,0Z\" style=\"stroke-width: 0; fill: rgb(199, 199, 199); fill-opacity: 1;\"/></g></g><g class=\"points\"><g class=\"point\"><path d=\"M378.71,8V72H497.8V8Z\" style=\"vector-effect: non-scaling-stroke; fill: rgb(6, 214, 160); fill-opacity: 1; stroke: rgb(68, 68, 68); stroke-opacity: 1; stroke-width: 0px; opacity: 1;\"/><text class=\"bartext bartext-inside\" text-anchor=\"middle\" data-notex=\"1\" x=\"0\" y=\"0\" style=\"font-family: 'Open Sans', verdana, arial, sans-serif; font-size: 14px; fill: rgb(255, 255, 255); fill-opacity: 1; white-space: pre;\" transform=\"translate(438.255,36.3984375)\"><tspan class=\"line\" dy=\"0em\" x=\"0\" y=\"0\">928</tspan><tspan class=\"line\" dy=\"1.3em\" x=\"0\" y=\"0\">100%</tspan></text></g><g class=\"point\"><path d=\"M342.65,88V152H409.77V88Z\" style=\"vector-effect: non-scaling-stroke; fill: rgb(6, 214, 160); fill-opacity: 1; stroke: rgb(68, 68, 68); stroke-opacity: 1; stroke-width: 0px; opacity: 1;\"/><text class=\"bartext bartext-inside\" text-anchor=\"middle\" data-notex=\"1\" x=\"0\" y=\"0\" style=\"font-family: 'Open Sans', verdana, arial, sans-serif; font-size: 14px; fill: rgb(255, 255, 255); fill-opacity: 1; white-space: pre;\" transform=\"translate(376.21,116.3984375)\"><tspan class=\"line\" dy=\"0em\" x=\"0\" y=\"0\">523</tspan><tspan class=\"line\" dy=\"1.3em\" x=\"0\" y=\"0\">56%</tspan></text></g><g class=\"point\"><path d=\"M298.51,168V232H331.23V168Z\" style=\"vector-effect: non-scaling-stroke; fill: rgb(6, 214, 160); fill-opacity: 1; stroke: rgb(68, 68, 68); stroke-opacity: 1; stroke-width: 0px; opacity: 1;\"/><text class=\"bartext bartext-inside\" text-anchor=\"middle\" data-notex=\"1\" x=\"0\" y=\"0\" style=\"font-family: 'Open Sans', verdana, arial, sans-serif; font-size: 14px; fill: rgb(255, 255, 255); fill-opacity: 1; white-space: pre;\" transform=\"translate(314.87,197.07273764258554)scale(0.8127756653992404)\"><tspan class=\"line\" dy=\"0em\" x=\"0\" y=\"0\">255</tspan><tspan class=\"line\" dy=\"1.3em\" x=\"0\" y=\"0\">27%</tspan></text></g><g class=\"point\"><path d=\"M301.52,248V312H334.38V248Z\" style=\"vector-effect: non-scaling-stroke; fill: rgb(6, 214, 160); fill-opacity: 1; stroke: rgb(68, 68, 68); stroke-opacity: 1; stroke-width: 0px; opacity: 1;\"/><text class=\"bartext bartext-inside\" text-anchor=\"middle\" data-notex=\"1\" x=\"0\" y=\"0\" style=\"font-family: 'Open Sans', verdana, arial, sans-serif; font-size: 14px; fill: rgb(255, 255, 255); fill-opacity: 1; white-space: pre;\" transform=\"translate(317.95,277.0574001901141)scale(0.8170342205323198)\"><tspan class=\"line\" dy=\"0em\" x=\"0\" y=\"0\">256</tspan><tspan class=\"line\" dy=\"1.3em\" x=\"0\" y=\"0\">28%</tspan></text></g></g></g></g></g><g class=\"overplot\"/><path class=\"xlines-above crisp\" d=\"M0,0\" style=\"fill: none;\"/><path class=\"ylines-above crisp\" d=\"M0,0\" style=\"fill: none;\"/><g class=\"overlines-above\"/><g class=\"xaxislayer-above\"/><g class=\"yaxislayer-above\"><g class=\"ytick\"><text text-anchor=\"end\" x=\"95\" y=\"4.199999999999999\" transform=\"translate(0,380)\" style=\"font-family: 'Open Sans', verdana, arial, sans-serif; font-size: 12px; fill: rgb(42, 63, 95); fill-opacity: 1; white-space: pre; opacity: 1;\">purchase</text></g><g class=\"ytick\"><text text-anchor=\"end\" x=\"95\" y=\"4.199999999999999\" transform=\"translate(0,300)\" style=\"font-family: 'Open Sans', verdana, arial, sans-serif; font-size: 12px; fill: rgb(42, 63, 95); fill-opacity: 1; white-space: pre; opacity: 1;\">product_cart</text></g><g class=\"ytick\"><text text-anchor=\"end\" x=\"95\" y=\"4.199999999999999\" transform=\"translate(0,220)\" style=\"font-family: 'Open Sans', verdana, arial, sans-serif; font-size: 12px; fill: rgb(42, 63, 95); fill-opacity: 1; white-space: pre; opacity: 1;\">product_page</text></g><g class=\"ytick\"><text text-anchor=\"end\" x=\"95\" y=\"4.199999999999999\" transform=\"translate(0,140)\" style=\"font-family: 'Open Sans', verdana, arial, sans-serif; font-size: 12px; fill: rgb(42, 63, 95); fill-opacity: 1; white-space: pre; opacity: 1;\">login</text></g></g><g class=\"overaxes-above\"/></g></g><g class=\"polarlayer\"/><g class=\"ternarylayer\"/><g class=\"geolayer\"/><g class=\"funnelarealayer\"/><g class=\"pielayer\"/><g class=\"iciclelayer\"/><g class=\"treemaplayer\"/><g class=\"sunburstlayer\"/><g class=\"glimages\"/><defs id=\"topdefs-3ca4b1\"><g class=\"clips\"/><clipPath id=\"legend3ca4b1\"><rect width=\"55\" height=\"48\" x=\"0\" y=\"0\"/></clipPath></defs><g class=\"layer-above\"><g class=\"imagelayer\"/><g class=\"shapelayer\"/></g><g class=\"infolayer\"><g class=\"legend\" pointer-events=\"all\" transform=\"translate(630.48,100)\"><rect class=\"bg\" shape-rendering=\"crispEdges\" style=\"stroke: rgb(68, 68, 68); stroke-opacity: 1; fill: rgb(255, 255, 255); fill-opacity: 1; stroke-width: 0px;\" width=\"55\" height=\"48\" x=\"0\" y=\"0\"/><g class=\"scrollbox\" transform=\"\" clip-path=\"url(#legend3ca4b1)\"><g class=\"groups\"><g class=\"traces\" transform=\"translate(0,14.5)\" style=\"opacity: 1;\"><text class=\"legendtext\" text-anchor=\"start\" x=\"40\" y=\"4.680000000000001\" style=\"font-family: 'Open Sans', verdana, arial, sans-serif; font-size: 12px; fill: rgb(42, 63, 95); fill-opacity: 1; white-space: pre;\">A</text><g class=\"layers\" style=\"opacity: 1;\"><g class=\"legendfill\"/><g class=\"legendlines\"/><g class=\"legendsymbols\"><g class=\"legendpoints\"><path class=\"legendfunnel\" d=\"M6,6H-6V-6H6Z\" transform=\"translate(20,0)\" style=\"stroke-width: 0px; fill: rgb(255, 209, 102); fill-opacity: 1;\"/></g></g></g><rect class=\"legendtoggle\" x=\"0\" y=\"-9.5\" width=\"50\" height=\"19\" style=\"fill: rgb(0, 0, 0); fill-opacity: 0;\"/></g><g class=\"traces\" transform=\"translate(0,33.5)\" style=\"opacity: 1;\"><text class=\"legendtext\" text-anchor=\"start\" x=\"40\" y=\"4.680000000000001\" style=\"font-family: 'Open Sans', verdana, arial, sans-serif; font-size: 12px; fill: rgb(42, 63, 95); fill-opacity: 1; white-space: pre;\">B</text><g class=\"layers\" style=\"opacity: 1;\"><g class=\"legendfill\"/><g class=\"legendlines\"/><g class=\"legendsymbols\"><g class=\"legendpoints\"><path class=\"legendfunnel\" d=\"M6,6H-6V-6H6Z\" transform=\"translate(20,0)\" style=\"stroke-width: 0px; fill: rgb(6, 214, 160); fill-opacity: 1;\"/></g></g></g><rect class=\"legendtoggle\" x=\"0\" y=\"-9.5\" width=\"50\" height=\"19\" style=\"fill: rgb(0, 0, 0); fill-opacity: 0;\"/></g></g></g><rect class=\"scrollbar\" rx=\"20\" ry=\"3\" width=\"0\" height=\"0\" style=\"fill: rgb(128, 139, 164); fill-opacity: 1;\" x=\"0\" y=\"0\"/></g><g class=\"g-gtitle\"><text class=\"gtitle\" x=\"35\" y=\"50\" text-anchor=\"start\" dy=\"0em\" style=\"font-family: 'Open Sans', verdana, arial, sans-serif; font-size: 17px; fill: rgb(42, 63, 95); opacity: 1; font-weight: normal; white-space: pre;\">Воронка пользователей по событий и по контрольным группам</text></g><g class=\"g-ytitle\"/></g></svg>"
      ]
     },
     "metadata": {},
     "output_type": "display_data"
    }
   ],
   "source": [
    "fig = go.Figure()\n",
    "for i, group in enumerate(['A', 'B']):\n",
    "    fig.add_trace(go.Funnel(\n",
    "        name = str(group),\n",
    "        y = simple_funnel.index,\n",
    "        x = simple_funnel[group],\n",
    "        textposition = \"inside\",\n",
    "        textinfo = \"value+percent initial\",\n",
    "        connector = {\"fillcolor\": '#c7c7c7'},\n",
    "        hoverinfo = 'y',\n",
    "        marker = {\"color\": colors[i+1]},\n",
    "        insidetextfont = {'color': 'white', 'size': 14}))\n",
    "fig.update_layout(title=dict(text='Воронка пользователей по событий и по контрольным группам'),\n",
    "                  plot_bgcolor='#ffffff')\n",
    "fig.show('svg')"
   ]
  },
  {
   "cell_type": "markdown",
   "metadata": {},
   "source": [
    "**Вывод:** Воронка событий по пользователям в каждой контрольной группе показывает, что одинаковая доля пользователей 28-32% доходит до оплаты товара. Пользователи, перешедшие в корзину с товаром, также произвели оплату товаров. Конверсия события Оплата выше, чем событие Корзина, потому что есть пользователи, которые совершили покупку в один клик."
   ]
  },
  {
   "cell_type": "markdown",
   "metadata": {},
   "source": [
    "## 2.2. Количество событий на пользователя в каждой выборке"
   ]
  },
  {
   "cell_type": "markdown",
   "metadata": {},
   "source": [
    "Определим количество событий на пользователей в каждом событии в каждой контрольной группе:"
   ]
  },
  {
   "cell_type": "code",
   "execution_count": 10,
   "metadata": {},
   "outputs": [],
   "source": [
    "cnt_event = total_ab.groupby(['group', 'user_id'], as_index=False)['event_name'].count()"
   ]
  },
  {
   "cell_type": "markdown",
   "metadata": {},
   "source": [
    "Определим среднее и медианное значение количества событий на пользователя в каждой выборке:"
   ]
  },
  {
   "cell_type": "code",
   "execution_count": 11,
   "metadata": {
    "scrolled": true
   },
   "outputs": [
    {
     "data": {
      "text/html": [
       "<div>\n",
       "<style scoped>\n",
       "    .dataframe tbody tr th:only-of-type {\n",
       "        vertical-align: middle;\n",
       "    }\n",
       "\n",
       "    .dataframe tbody tr th {\n",
       "        vertical-align: top;\n",
       "    }\n",
       "\n",
       "    .dataframe thead th {\n",
       "        text-align: right;\n",
       "    }\n",
       "</style>\n",
       "<table border=\"1\" class=\"dataframe\">\n",
       "  <thead>\n",
       "    <tr style=\"text-align: right;\">\n",
       "      <th></th>\n",
       "      <th>mean</th>\n",
       "      <th>median</th>\n",
       "    </tr>\n",
       "  </thead>\n",
       "  <tbody>\n",
       "    <tr>\n",
       "      <th>A</th>\n",
       "      <td>5.0</td>\n",
       "      <td>4.0</td>\n",
       "    </tr>\n",
       "    <tr>\n",
       "      <th>B</th>\n",
       "      <td>1.9</td>\n",
       "      <td>0.0</td>\n",
       "    </tr>\n",
       "  </tbody>\n",
       "</table>\n",
       "</div>"
      ],
      "text/plain": [
       "   mean  median\n",
       "A   5.0     4.0\n",
       "B   1.9     0.0"
      ]
     },
     "execution_count": 11,
     "metadata": {},
     "output_type": "execute_result"
    }
   ],
   "source": [
    "pivot_cnt_event = cnt_event.pivot_table(index='group', values='event_name', aggfunc=['mean','median'])\n",
    "pivot_cnt_event.columns = pivot_cnt_event.columns.droplevel(1)\n",
    "pivot_cnt_event.reset_index(inplace=True)\n",
    "pivot_cnt_event.set_index('group', inplace=True)\n",
    "pivot_cnt_event.index.name = None\n",
    "pivot_cnt_event['mean'] = round(pivot_cnt_event['mean'], 1) \n",
    "pivot_cnt_event"
   ]
  },
  {
   "cell_type": "markdown",
   "metadata": {},
   "source": [
    "**Вывод:** Среднее значение количества событий на пользователя составляет `А` = 5 , `B` = 1.9."
   ]
  },
  {
   "cell_type": "markdown",
   "metadata": {},
   "source": [
    "## 2.3. Распределение числа событий по дням"
   ]
  },
  {
   "cell_type": "markdown",
   "metadata": {},
   "source": [
    "Создадим столбец с датой дня:"
   ]
  },
  {
   "cell_type": "code",
   "execution_count": 12,
   "metadata": {},
   "outputs": [],
   "source": [
    "total_ab['day'] = total_ab['first_date'].dt.day"
   ]
  },
  {
   "cell_type": "markdown",
   "metadata": {},
   "source": [
    "Определим количество событий в каждой контрольной группе по дням:"
   ]
  },
  {
   "cell_type": "code",
   "execution_count": 13,
   "metadata": {},
   "outputs": [],
   "source": [
    "cnt_day = total_ab.groupby(['group','day'], as_index=False).agg({'event_name':'count'})"
   ]
  },
  {
   "cell_type": "markdown",
   "metadata": {},
   "source": [
    "Определим среднее и медианное значение количества событий в каждой выборке по дням:"
   ]
  },
  {
   "cell_type": "code",
   "execution_count": 14,
   "metadata": {},
   "outputs": [
    {
     "data": {
      "text/html": [
       "<div>\n",
       "<style scoped>\n",
       "    .dataframe tbody tr th:only-of-type {\n",
       "        vertical-align: middle;\n",
       "    }\n",
       "\n",
       "    .dataframe tbody tr th {\n",
       "        vertical-align: top;\n",
       "    }\n",
       "\n",
       "    .dataframe thead th {\n",
       "        text-align: right;\n",
       "    }\n",
       "</style>\n",
       "<table border=\"1\" class=\"dataframe\">\n",
       "  <thead>\n",
       "    <tr style=\"text-align: right;\">\n",
       "      <th></th>\n",
       "      <th>mean</th>\n",
       "      <th>median</th>\n",
       "    </tr>\n",
       "  </thead>\n",
       "  <tbody>\n",
       "    <tr>\n",
       "      <th>A</th>\n",
       "      <td>1286.9</td>\n",
       "      <td>1245</td>\n",
       "    </tr>\n",
       "    <tr>\n",
       "      <th>B</th>\n",
       "      <td>359.6</td>\n",
       "      <td>258</td>\n",
       "    </tr>\n",
       "  </tbody>\n",
       "</table>\n",
       "</div>"
      ],
      "text/plain": [
       "     mean  median\n",
       "A  1286.9    1245\n",
       "B   359.6     258"
      ]
     },
     "execution_count": 14,
     "metadata": {},
     "output_type": "execute_result"
    }
   ],
   "source": [
    "pivot_cnt_day = cnt_day.pivot_table(index='group', values='event_name', aggfunc=['mean','median'])\n",
    "pivot_cnt_day.columns = pivot_cnt_day.columns.droplevel(1)\n",
    "pivot_cnt_day.reset_index(inplace=True)\n",
    "pivot_cnt_day.set_index('group', inplace=True)\n",
    "pivot_cnt_day.index.name = None\n",
    "pivot_cnt_day['mean'] = round(pivot_cnt_day['mean'], 1) \n",
    "pivot_cnt_day"
   ]
  },
  {
   "cell_type": "code",
   "execution_count": 15,
   "metadata": {},
   "outputs": [
    {
     "data": {
      "image/svg+xml": [
       "<svg class=\"main-svg\" xmlns=\"http://www.w3.org/2000/svg\" xmlns:xlink=\"http://www.w3.org/1999/xlink\" width=\"700\" height=\"500\" style=\"\" viewBox=\"0 0 700 500\"><rect x=\"0\" y=\"0\" width=\"700\" height=\"500\" style=\"fill: rgb(255, 255, 255); fill-opacity: 1;\"/><defs id=\"defs-6e973a\"><g class=\"clips\"><clipPath id=\"clip6e973axyplot\" class=\"plotclip\"><rect width=\"540\" height=\"320\"/></clipPath><clipPath class=\"axesclip\" id=\"clip6e973ax\"><rect x=\"80\" y=\"0\" width=\"540\" height=\"500\"/></clipPath><clipPath class=\"axesclip\" id=\"clip6e973ay\"><rect x=\"0\" y=\"100\" width=\"700\" height=\"320\"/></clipPath><clipPath class=\"axesclip\" id=\"clip6e973axy\"><rect x=\"80\" y=\"100\" width=\"540\" height=\"320\"/></clipPath></g><g class=\"gradients\"/><g class=\"patterns\"/></defs><g class=\"bglayer\"><rect class=\"bg\" x=\"80\" y=\"100\" width=\"540\" height=\"320\" style=\"fill: rgb(229, 236, 246); fill-opacity: 1; stroke-width: 0;\"/></g><g class=\"layer-below\"><g class=\"imagelayer\"/><g class=\"shapelayer\"/></g><g class=\"cartesianlayer\"><g class=\"subplot xy\"><g class=\"layer-subplot\"><g class=\"shapelayer\"/><g class=\"imagelayer\"/></g><g class=\"gridlayer\"><g class=\"x\"><path class=\"xgrid crisp\" transform=\"translate(118.57,0)\" d=\"M0,100v320\" style=\"stroke: rgb(255, 255, 255); stroke-opacity: 1; stroke-width: 1px;\"/><path class=\"xgrid crisp\" transform=\"translate(195.70999999999998,0)\" d=\"M0,100v320\" style=\"stroke: rgb(255, 255, 255); stroke-opacity: 1; stroke-width: 1px;\"/><path class=\"xgrid crisp\" transform=\"translate(272.86,0)\" d=\"M0,100v320\" style=\"stroke: rgb(255, 255, 255); stroke-opacity: 1; stroke-width: 1px;\"/><path class=\"xgrid crisp\" transform=\"translate(350,0)\" d=\"M0,100v320\" style=\"stroke: rgb(255, 255, 255); stroke-opacity: 1; stroke-width: 1px;\"/><path class=\"xgrid crisp\" transform=\"translate(427.14,0)\" d=\"M0,100v320\" style=\"stroke: rgb(255, 255, 255); stroke-opacity: 1; stroke-width: 1px;\"/><path class=\"xgrid crisp\" transform=\"translate(504.29,0)\" d=\"M0,100v320\" style=\"stroke: rgb(255, 255, 255); stroke-opacity: 1; stroke-width: 1px;\"/><path class=\"xgrid crisp\" transform=\"translate(581.4300000000001,0)\" d=\"M0,100v320\" style=\"stroke: rgb(255, 255, 255); stroke-opacity: 1; stroke-width: 1px;\"/></g><g class=\"y\"><path class=\"ygrid crisp\" transform=\"translate(0,361.18)\" d=\"M80,0h540\" style=\"stroke: rgb(255, 255, 255); stroke-opacity: 1; stroke-width: 1px;\"/><path class=\"ygrid crisp\" transform=\"translate(0,314.23)\" d=\"M80,0h540\" style=\"stroke: rgb(255, 255, 255); stroke-opacity: 1; stroke-width: 1px;\"/><path class=\"ygrid crisp\" transform=\"translate(0,267.28)\" d=\"M80,0h540\" style=\"stroke: rgb(255, 255, 255); stroke-opacity: 1; stroke-width: 1px;\"/><path class=\"ygrid crisp\" transform=\"translate(0,220.32999999999998)\" d=\"M80,0h540\" style=\"stroke: rgb(255, 255, 255); stroke-opacity: 1; stroke-width: 1px;\"/><path class=\"ygrid crisp\" transform=\"translate(0,173.37)\" d=\"M80,0h540\" style=\"stroke: rgb(255, 255, 255); stroke-opacity: 1; stroke-width: 1px;\"/><path class=\"ygrid crisp\" transform=\"translate(0,126.42)\" d=\"M80,0h540\" style=\"stroke: rgb(255, 255, 255); stroke-opacity: 1; stroke-width: 1px;\"/></g></g><g class=\"zerolinelayer\"><path class=\"yzl zl crisp\" transform=\"translate(0,408.13)\" d=\"M80,0h540\" style=\"stroke: rgb(255, 255, 255); stroke-opacity: 1; stroke-width: 2px;\"/></g><path class=\"xlines-below\"/><path class=\"ylines-below\"/><g class=\"overlines-below\"/><g class=\"xaxislayer-below\"/><g class=\"yaxislayer-below\"/><g class=\"overaxes-below\"/><g class=\"plot\" transform=\"translate(80,100)\" clip-path=\"url(#clip6e973axyplot)\"><g class=\"scatterlayer mlayer\"><g class=\"trace scatter trace002825\" style=\"stroke-miterlimit: 2; opacity: 1;\"><g class=\"fills\"/><g class=\"errorbars\"/><g class=\"lines\"><path class=\"js-line\" d=\"M0,205.12L38.57,243.53L77.14,254.51L115.71,274.23L154.29,254.98L192.86,278.18L231.43,282.59L270,16L308.57,154.22L347.14,191.22L385.71,160.89L424.29,147.37L462.86,158.64L501.43,138.92L540,48.87\" style=\"vector-effect: non-scaling-stroke; fill: none; stroke: rgb(99, 110, 250); stroke-opacity: 1; stroke-width: 2px; opacity: 1;\"/></g><g class=\"points\"/><g class=\"text\"/></g><g class=\"trace scatter traced5282b\" style=\"stroke-miterlimit: 2; opacity: 1;\"><g class=\"fills\"/><g class=\"errorbars\"/><g class=\"lines\"><path class=\"js-line\" d=\"M0,177.33L38.57,283.9L77.14,257.71L115.71,294.05L154.29,300.53L192.86,280.43L231.43,304L270,274.04L308.57,293.76L347.14,240.71L385.71,290.48L424.29,285.5L462.86,286.53L501.43,278.74L540,267.75\" style=\"vector-effect: non-scaling-stroke; fill: none; stroke: rgb(239, 85, 59); stroke-opacity: 1; stroke-width: 2px; opacity: 1;\"/></g><g class=\"points\"/><g class=\"text\"/></g></g></g><g class=\"overplot\"/><path class=\"xlines-above crisp\" d=\"M0,0\" style=\"fill: none;\"/><path class=\"ylines-above crisp\" d=\"M0,0\" style=\"fill: none;\"/><g class=\"overlines-above\"/><g class=\"xaxislayer-above\"><g class=\"xtick\"><text text-anchor=\"middle\" x=\"0\" y=\"433\" transform=\"translate(118.57,0)\" style=\"font-family: 'Open Sans', verdana, arial, sans-serif; font-size: 12px; fill: rgb(42, 63, 95); fill-opacity: 1; white-space: pre; opacity: 1;\">8</text></g><g class=\"xtick\"><text text-anchor=\"middle\" x=\"0\" y=\"433\" style=\"font-family: 'Open Sans', verdana, arial, sans-serif; font-size: 12px; fill: rgb(42, 63, 95); fill-opacity: 1; white-space: pre; opacity: 1;\" transform=\"translate(195.70999999999998,0)\">10</text></g><g class=\"xtick\"><text text-anchor=\"middle\" x=\"0\" y=\"433\" style=\"font-family: 'Open Sans', verdana, arial, sans-serif; font-size: 12px; fill: rgb(42, 63, 95); fill-opacity: 1; white-space: pre; opacity: 1;\" transform=\"translate(272.86,0)\">12</text></g><g class=\"xtick\"><text text-anchor=\"middle\" x=\"0\" y=\"433\" style=\"font-family: 'Open Sans', verdana, arial, sans-serif; font-size: 12px; fill: rgb(42, 63, 95); fill-opacity: 1; white-space: pre; opacity: 1;\" transform=\"translate(350,0)\">14</text></g><g class=\"xtick\"><text text-anchor=\"middle\" x=\"0\" y=\"433\" style=\"font-family: 'Open Sans', verdana, arial, sans-serif; font-size: 12px; fill: rgb(42, 63, 95); fill-opacity: 1; white-space: pre; opacity: 1;\" transform=\"translate(427.14,0)\">16</text></g><g class=\"xtick\"><text text-anchor=\"middle\" x=\"0\" y=\"433\" style=\"font-family: 'Open Sans', verdana, arial, sans-serif; font-size: 12px; fill: rgb(42, 63, 95); fill-opacity: 1; white-space: pre; opacity: 1;\" transform=\"translate(504.29,0)\">18</text></g><g class=\"xtick\"><text text-anchor=\"middle\" x=\"0\" y=\"433\" style=\"font-family: 'Open Sans', verdana, arial, sans-serif; font-size: 12px; fill: rgb(42, 63, 95); fill-opacity: 1; white-space: pre; opacity: 1;\" transform=\"translate(581.4300000000001,0)\">20</text></g></g><g class=\"yaxislayer-above\"><g class=\"ytick\"><text text-anchor=\"end\" x=\"79\" y=\"4.199999999999999\" transform=\"translate(0,408.13)\" style=\"font-family: 'Open Sans', verdana, arial, sans-serif; font-size: 12px; fill: rgb(42, 63, 95); fill-opacity: 1; white-space: pre; opacity: 1;\">0</text></g><g class=\"ytick\"><text text-anchor=\"end\" x=\"79\" y=\"4.199999999999999\" style=\"font-family: 'Open Sans', verdana, arial, sans-serif; font-size: 12px; fill: rgb(42, 63, 95); fill-opacity: 1; white-space: pre; opacity: 1;\" transform=\"translate(0,361.18)\">500</text></g><g class=\"ytick\"><text text-anchor=\"end\" x=\"79\" y=\"4.199999999999999\" style=\"font-family: 'Open Sans', verdana, arial, sans-serif; font-size: 12px; fill: rgb(42, 63, 95); fill-opacity: 1; white-space: pre; opacity: 1;\" transform=\"translate(0,314.23)\">1000</text></g><g class=\"ytick\"><text text-anchor=\"end\" x=\"79\" y=\"4.199999999999999\" style=\"font-family: 'Open Sans', verdana, arial, sans-serif; font-size: 12px; fill: rgb(42, 63, 95); fill-opacity: 1; white-space: pre; opacity: 1;\" transform=\"translate(0,267.28)\">1500</text></g><g class=\"ytick\"><text text-anchor=\"end\" x=\"79\" y=\"4.199999999999999\" style=\"font-family: 'Open Sans', verdana, arial, sans-serif; font-size: 12px; fill: rgb(42, 63, 95); fill-opacity: 1; white-space: pre; opacity: 1;\" transform=\"translate(0,220.32999999999998)\">2000</text></g><g class=\"ytick\"><text text-anchor=\"end\" x=\"79\" y=\"4.199999999999999\" style=\"font-family: 'Open Sans', verdana, arial, sans-serif; font-size: 12px; fill: rgb(42, 63, 95); fill-opacity: 1; white-space: pre; opacity: 1;\" transform=\"translate(0,173.37)\">2500</text></g><g class=\"ytick\"><text text-anchor=\"end\" x=\"79\" y=\"4.199999999999999\" style=\"font-family: 'Open Sans', verdana, arial, sans-serif; font-size: 12px; fill: rgb(42, 63, 95); fill-opacity: 1; white-space: pre; opacity: 1;\" transform=\"translate(0,126.42)\">3000</text></g></g><g class=\"overaxes-above\"/></g></g><g class=\"polarlayer\"/><g class=\"ternarylayer\"/><g class=\"geolayer\"/><g class=\"funnelarealayer\"/><g class=\"pielayer\"/><g class=\"iciclelayer\"/><g class=\"treemaplayer\"/><g class=\"sunburstlayer\"/><g class=\"glimages\"/><defs id=\"topdefs-6e973a\"><g class=\"clips\"/><clipPath id=\"legend6e973a\"><rect width=\"55\" height=\"48\" x=\"0\" y=\"0\"/></clipPath></defs><g class=\"layer-above\"><g class=\"imagelayer\"/><g class=\"shapelayer\"/></g><g class=\"infolayer\"><g class=\"legend\" pointer-events=\"all\" transform=\"translate(630.8,100)\"><rect class=\"bg\" shape-rendering=\"crispEdges\" width=\"55\" height=\"48\" x=\"0\" y=\"0\" style=\"stroke: rgb(68, 68, 68); stroke-opacity: 1; fill: rgb(255, 255, 255); fill-opacity: 1; stroke-width: 0px;\"/><g class=\"scrollbox\" transform=\"\" clip-path=\"url(#legend6e973a)\"><g class=\"groups\"><g class=\"traces\" transform=\"translate(0,14.5)\" style=\"opacity: 1;\"><text class=\"legendtext\" text-anchor=\"start\" x=\"40\" y=\"4.680000000000001\" style=\"font-family: 'Open Sans', verdana, arial, sans-serif; font-size: 12px; fill: rgb(42, 63, 95); fill-opacity: 1; white-space: pre;\">A</text><g class=\"layers\" style=\"opacity: 1;\"><g class=\"legendfill\"/><g class=\"legendlines\"><path class=\"js-line\" d=\"M5,0h30\" style=\"fill: none; stroke: rgb(99, 110, 250); stroke-opacity: 1; stroke-width: 2px;\"/></g><g class=\"legendsymbols\"><g class=\"legendpoints\"/></g></g><rect class=\"legendtoggle\" x=\"0\" y=\"-9.5\" width=\"50\" height=\"19\" style=\"fill: rgb(0, 0, 0); fill-opacity: 0;\"/></g><g class=\"traces\" transform=\"translate(0,33.5)\" style=\"opacity: 1;\"><text class=\"legendtext\" text-anchor=\"start\" x=\"40\" y=\"4.680000000000001\" style=\"font-family: 'Open Sans', verdana, arial, sans-serif; font-size: 12px; fill: rgb(42, 63, 95); fill-opacity: 1; white-space: pre;\">B</text><g class=\"layers\" style=\"opacity: 1;\"><g class=\"legendfill\"/><g class=\"legendlines\"><path class=\"js-line\" d=\"M5,0h30\" style=\"fill: none; stroke: rgb(239, 85, 59); stroke-opacity: 1; stroke-width: 2px;\"/></g><g class=\"legendsymbols\"><g class=\"legendpoints\"/></g></g><rect class=\"legendtoggle\" x=\"0\" y=\"-9.5\" width=\"50\" height=\"19\" style=\"fill: rgb(0, 0, 0); fill-opacity: 0;\"/></g></g></g><rect class=\"scrollbar\" rx=\"20\" ry=\"3\" width=\"0\" height=\"0\" x=\"0\" y=\"0\" style=\"fill: rgb(128, 139, 164); fill-opacity: 1;\"/></g><g class=\"g-gtitle\"><text class=\"gtitle\" x=\"35\" y=\"50\" text-anchor=\"start\" dy=\"0em\" style=\"font-family: 'Open Sans', verdana, arial, sans-serif; font-size: 17px; fill: rgb(42, 63, 95); opacity: 1; font-weight: normal; white-space: pre;\">Распределение кол-ва событий по дням в контрольных группах</text></g><g class=\"g-xtitle\"><text class=\"xtitle\" x=\"350\" y=\"460.8\" text-anchor=\"middle\" style=\"font-family: 'Open Sans', verdana, arial, sans-serif; font-size: 14px; fill: rgb(42, 63, 95); opacity: 1; font-weight: normal; white-space: pre;\">День</text></g><g class=\"g-ytitle\"><text class=\"ytitle\" transform=\"rotate(-90,23.684375000000003,260)\" x=\"23.684375000000003\" y=\"260\" text-anchor=\"middle\" style=\"font-family: 'Open Sans', verdana, arial, sans-serif; font-size: 14px; fill: rgb(42, 63, 95); opacity: 1; font-weight: normal; white-space: pre;\">Кол-во</text></g></g></svg>"
      ]
     },
     "metadata": {},
     "output_type": "display_data"
    }
   ],
   "source": [
    "fig = go.Figure()\n",
    "fig.add_trace(go.Scatter(x=cnt_day['day'], y=cnt_day[cnt_day['group']=='A']['event_name'],\n",
    "                    mode='lines',\n",
    "                    name='A'))\n",
    "\n",
    "fig.add_trace(go.Scatter(x=cnt_day['day'], y=cnt_day[cnt_day['group']=='B']['event_name'],\n",
    "                    mode='lines',\n",
    "                    name='B'))\n",
    "fig.update_layout(title='Распределение кол-ва событий по дням в контрольных группах',\n",
    "                   xaxis_title='День',\n",
    "                   yaxis_title='Кол-во')\n",
    "fig.show('svg')"
   ]
  },
  {
   "cell_type": "markdown",
   "metadata": {},
   "source": [
    "**Вывод:** Медианное значение количества событий в день в контрольной группе `А`, ровняется 1245, а в `В` 258."
   ]
  },
  {
   "cell_type": "markdown",
   "metadata": {},
   "source": [
    "## 2.4. Дополнительные условия проведения теста"
   ]
  },
  {
   "cell_type": "code",
   "execution_count": 16,
   "metadata": {},
   "outputs": [
    {
     "name": "stdout",
     "output_type": "stream",
     "text": [
      "Количество пользователей в тесте = 6701\n"
     ]
    }
   ],
   "source": [
    "test_1 = total_ab\n",
    "total_user = test_1['user_id'].nunique()\n",
    "print('Количество пользователей в тесте = {:.0f}'.format(total_user))"
   ]
  },
  {
   "cell_type": "markdown",
   "metadata": {},
   "source": [
    "Определим количество пользователей, находящихся в обеих контрольных группах: "
   ]
  },
  {
   "cell_type": "code",
   "execution_count": 17,
   "metadata": {},
   "outputs": [
    {
     "name": "stdout",
     "output_type": "stream",
     "text": [
      "Совпадений нет\n"
     ]
    }
   ],
   "source": [
    "copy = lambda a,b: 'Количество пользователей, находящихся в обеих тестовых аудиториях = {}'\\\n",
    ".format(len(set(a) & set(b))) if len(set(a) & set(b)) else 'Совпадений нет'\n",
    "\n",
    "user_A = test_1[test_1['group'] == 'A']['user_id']\n",
    "user_B = test_1[test_1['group'] == 'B']['user_id']\n",
    "print(copy(user_A, user_B))"
   ]
  },
  {
   "cell_type": "markdown",
   "metadata": {},
   "source": [
    "Определим количество пользователей в каждом регионе"
   ]
  },
  {
   "cell_type": "code",
   "execution_count": 18,
   "metadata": {},
   "outputs": [],
   "source": [
    "total_users = final_ab_new_users.groupby(\n",
    "    'region', as_index=False).agg({'user_id':'nunique'})\n",
    "total_users.rename(columns={'user_id':'total_user'}, inplace=True)"
   ]
  },
  {
   "cell_type": "markdown",
   "metadata": {},
   "source": [
    "Определим количество пользоватлей в тесте и долю новых пользователей:"
   ]
  },
  {
   "cell_type": "code",
   "execution_count": 19,
   "metadata": {},
   "outputs": [
    {
     "data": {
      "text/html": [
       "<div>\n",
       "<style scoped>\n",
       "    .dataframe tbody tr th:only-of-type {\n",
       "        vertical-align: middle;\n",
       "    }\n",
       "\n",
       "    .dataframe tbody tr th {\n",
       "        vertical-align: top;\n",
       "    }\n",
       "\n",
       "    .dataframe thead th {\n",
       "        text-align: right;\n",
       "    }\n",
       "</style>\n",
       "<table border=\"1\" class=\"dataframe\">\n",
       "  <thead>\n",
       "    <tr style=\"text-align: right;\">\n",
       "      <th></th>\n",
       "      <th>region</th>\n",
       "      <th>n_user</th>\n",
       "      <th>total_user</th>\n",
       "      <th>part, %</th>\n",
       "    </tr>\n",
       "  </thead>\n",
       "  <tbody>\n",
       "    <tr>\n",
       "      <th>0</th>\n",
       "      <td>APAC</td>\n",
       "      <td>45</td>\n",
       "      <td>3153</td>\n",
       "      <td>0.07</td>\n",
       "    </tr>\n",
       "    <tr>\n",
       "      <th>1</th>\n",
       "      <td>CIS</td>\n",
       "      <td>30</td>\n",
       "      <td>3155</td>\n",
       "      <td>0.05</td>\n",
       "    </tr>\n",
       "    <tr>\n",
       "      <th>2</th>\n",
       "      <td>EU</td>\n",
       "      <td>3481</td>\n",
       "      <td>46270</td>\n",
       "      <td>5.64</td>\n",
       "    </tr>\n",
       "    <tr>\n",
       "      <th>3</th>\n",
       "      <td>N.America</td>\n",
       "      <td>119</td>\n",
       "      <td>9155</td>\n",
       "      <td>0.19</td>\n",
       "    </tr>\n",
       "  </tbody>\n",
       "</table>\n",
       "</div>"
      ],
      "text/plain": [
       "      region  n_user  total_user  part, %\n",
       "0       APAC      45        3153     0.07\n",
       "1        CIS      30        3155     0.05\n",
       "2         EU    3481       46270     5.64\n",
       "3  N.America     119        9155     0.19"
      ]
     },
     "execution_count": 19,
     "metadata": {},
     "output_type": "execute_result"
    }
   ],
   "source": [
    "info_region = test_1.groupby('region', as_index=False).agg({'user_id':'nunique'})\n",
    "info_region.rename(columns={'user_id':'n_user'}, inplace=True)\n",
    "info_region = info_region.merge(total_users, on='region')\n",
    "info_region['part, %'] = round(((info_region['n_user'] / info_region['total_user'].sum())*100), 2)\n",
    "info_region"
   ]
  },
  {
   "cell_type": "markdown",
   "metadata": {},
   "source": [
    "Проверим насколько получаемая разница долей статистически значима:"
   ]
  },
  {
   "cell_type": "code",
   "execution_count": 20,
   "metadata": {},
   "outputs": [
    {
     "name": "stdout",
     "output_type": "stream",
     "text": [
      "p-значение: 0.0000000000\n",
      "Разница долей статистически значима\n",
      "\n"
     ]
    }
   ],
   "source": [
    "def ztest(one, two):\n",
    "    alpha = 0.05\n",
    "    stat, p_value = proportions_ztest(one,two, value=0.15)\n",
    "    print('p-значение: {:.10f}'.format(p_value))\n",
    "    if p_value >= alpha:\n",
    "        print(f'Разница долей статистически не значима')\n",
    "    else:\n",
    "        print(f'Разница долей статистически значима')\n",
    "    print()\n",
    "one = info_region[info_region['region'] == 'EU']['n_user'].values[0]\n",
    "two = info_region[info_region['region'] == 'EU']['total_user'].values[0]\n",
    "ztest(one,two)"
   ]
  },
  {
   "cell_type": "code",
   "execution_count": 21,
   "metadata": {},
   "outputs": [
    {
     "data": {
      "text/plain": [
       "array(['2020-12-21T00:00:00.000000000'], dtype='datetime64[ns]')"
      ]
     },
     "execution_count": 21,
     "metadata": {},
     "output_type": "execute_result"
    }
   ],
   "source": [
    "test_1.query('\"2020-12-21\"<= first_date >= \"2020-12-07\"')['first_date'].unique()"
   ]
  },
  {
   "cell_type": "markdown",
   "metadata": {},
   "source": [
    "Проверим количество пользователей в каждой группе:"
   ]
  },
  {
   "cell_type": "code",
   "execution_count": 22,
   "metadata": {},
   "outputs": [
    {
     "data": {
      "text/html": [
       "<div>\n",
       "<style scoped>\n",
       "    .dataframe tbody tr th:only-of-type {\n",
       "        vertical-align: middle;\n",
       "    }\n",
       "\n",
       "    .dataframe tbody tr th {\n",
       "        vertical-align: top;\n",
       "    }\n",
       "\n",
       "    .dataframe thead th {\n",
       "        text-align: right;\n",
       "    }\n",
       "</style>\n",
       "<table border=\"1\" class=\"dataframe\">\n",
       "  <thead>\n",
       "    <tr style=\"text-align: right;\">\n",
       "      <th></th>\n",
       "      <th>n_user</th>\n",
       "      <th>part, %</th>\n",
       "    </tr>\n",
       "  </thead>\n",
       "  <tbody>\n",
       "    <tr>\n",
       "      <th>A</th>\n",
       "      <td>3824</td>\n",
       "      <td>57.1</td>\n",
       "    </tr>\n",
       "    <tr>\n",
       "      <th>B</th>\n",
       "      <td>2877</td>\n",
       "      <td>42.9</td>\n",
       "    </tr>\n",
       "  </tbody>\n",
       "</table>\n",
       "</div>"
      ],
      "text/plain": [
       "   n_user  part, %\n",
       "A    3824     57.1\n",
       "B    2877     42.9"
      ]
     },
     "execution_count": 22,
     "metadata": {},
     "output_type": "execute_result"
    }
   ],
   "source": [
    "group_user = test_1.groupby('group', as_index=False).agg({'user_id':'nunique'})\n",
    "group_user.rename(columns={'user_id':'n_user'}, inplace = True)\n",
    "group_user.set_index('group', inplace=True)\n",
    "group_user.index.name = None\n",
    "group_user['part, %'] = round(((group_user['n_user'] / total_user)*100), 1)\n",
    "group_user"
   ]
  },
  {
   "cell_type": "markdown",
   "metadata": {},
   "source": [
    "Выведим список маркетинговых событий:"
   ]
  },
  {
   "cell_type": "code",
   "execution_count": 23,
   "metadata": {},
   "outputs": [
    {
     "data": {
      "text/html": [
       "<div>\n",
       "<style scoped>\n",
       "    .dataframe tbody tr th:only-of-type {\n",
       "        vertical-align: middle;\n",
       "    }\n",
       "\n",
       "    .dataframe tbody tr th {\n",
       "        vertical-align: top;\n",
       "    }\n",
       "\n",
       "    .dataframe thead th {\n",
       "        text-align: right;\n",
       "    }\n",
       "</style>\n",
       "<table border=\"1\" class=\"dataframe\">\n",
       "  <thead>\n",
       "    <tr style=\"text-align: right;\">\n",
       "      <th></th>\n",
       "      <th>name</th>\n",
       "      <th>regions</th>\n",
       "      <th>start_dt</th>\n",
       "      <th>finish_dt</th>\n",
       "    </tr>\n",
       "  </thead>\n",
       "  <tbody>\n",
       "    <tr>\n",
       "      <th>0</th>\n",
       "      <td>Christmas&amp;New Year Promo</td>\n",
       "      <td>EU, N.America</td>\n",
       "      <td>2020-12-25</td>\n",
       "      <td>2021-01-03</td>\n",
       "    </tr>\n",
       "    <tr>\n",
       "      <th>1</th>\n",
       "      <td>St. Valentine's Day Giveaway</td>\n",
       "      <td>EU, CIS, APAC, N.America</td>\n",
       "      <td>2020-02-14</td>\n",
       "      <td>2020-02-16</td>\n",
       "    </tr>\n",
       "    <tr>\n",
       "      <th>2</th>\n",
       "      <td>St. Patric's Day Promo</td>\n",
       "      <td>EU, N.America</td>\n",
       "      <td>2020-03-17</td>\n",
       "      <td>2020-03-19</td>\n",
       "    </tr>\n",
       "  </tbody>\n",
       "</table>\n",
       "</div>"
      ],
      "text/plain": [
       "                           name                   regions   start_dt  \\\n",
       "0      Christmas&New Year Promo             EU, N.America 2020-12-25   \n",
       "1  St. Valentine's Day Giveaway  EU, CIS, APAC, N.America 2020-02-14   \n",
       "2        St. Patric's Day Promo             EU, N.America 2020-03-17   \n",
       "\n",
       "   finish_dt  \n",
       "0 2021-01-03  \n",
       "1 2020-02-16  \n",
       "2 2020-03-19  "
      ]
     },
     "execution_count": 23,
     "metadata": {},
     "output_type": "execute_result"
    }
   ],
   "source": [
    "ab_project_marketing_events.head(3)"
   ]
  },
  {
   "cell_type": "markdown",
   "metadata": {},
   "source": [
    "Мы видим, что AB-тест выпал на перид Рождественской и Новогодней акций"
   ]
  },
  {
   "cell_type": "markdown",
   "metadata": {},
   "source": [
    "Определим количество пользователей, находящихся в конкурирующих тестах:"
   ]
  },
  {
   "cell_type": "code",
   "execution_count": 24,
   "metadata": {},
   "outputs": [
    {
     "name": "stdout",
     "output_type": "stream",
     "text": [
      "Количество пользователей, находящихся в обеих тестовых аудиториях = 1602\n"
     ]
    }
   ],
   "source": [
    "task = total_id.merge(final_ab_participants, on='user_id', how='right')\n",
    "test_1_user = task[task['ab_test'] == 'recommender_system_test']['user_id']\n",
    "test_2_user = task[task['ab_test'] == 'interface_eu_test']['user_id']\n",
    "print(copy(test_1_user, test_2_user))"
   ]
  },
  {
   "cell_type": "markdown",
   "metadata": {},
   "source": [
    "**Вывод:** По предварительному анализу EDA можно сказать, что в тесте 6701 пользователей, что на 12% выше условий ТЗ (6000 пользователей). \n",
    "\n",
    "Также, доля пользователей из европейского региона составляет 5%, что намного ниже требований ТЗ (15%).\n",
    "\n",
    "1602 пользователя учавствуют в двух конкурирующих тестах (что составляет 20% от общей аудитории исследуемого теста)"
   ]
  },
  {
   "cell_type": "markdown",
   "metadata": {},
   "source": [
    "# Шаг 3. Проверка статистической разницы долей z-критерием"
   ]
  },
  {
   "cell_type": "markdown",
   "metadata": {},
   "source": [
    "**Нулевая гипотеза:** доли конверсии между группами А и Б равны <br>\n",
    "**Альтернативная гипотеза:** доли конверсии между группами А и Б равны различается"
   ]
  },
  {
   "cell_type": "code",
   "execution_count": 25,
   "metadata": {},
   "outputs": [],
   "source": [
    "def check_z(data, alpha):\n",
    "    \"\"\"Функция для проверки гипотез  с помощью z_test\n",
    "    Принимаемые аргументы data - датасет, events - события конверсий, alpha - уровень стат значимости.\n",
    "    Функция считает конверсию от общего числа пользователей к тем кто совершил событие из events.\n",
    "    Возвращает результат проверки гипотезы в виде строки.\n",
    "    \"\"\"\n",
    "    #Определим список событий:\n",
    "    events = list(data['event_name'].dropna().unique())\n",
    "    \n",
    "    #Посчитаем общее количество пользователей в группе\n",
    "    count = data.groupby('group', as_index=False).agg({'user_id':'nunique'})\n",
    "    count.columns = ['group', 'total_users']\n",
    "    \n",
    "    #Цикл по всем событиям\n",
    "    for event in events:\n",
    "        #Посчитаем количество пользователей в каждой группе на каждом событии:\n",
    "        nobs = data[(data['event_name'] == event) & (data['group'].isin(count['group']))] \\\n",
    "        .groupby('group', as_index=False).agg({'user_id':'nunique'})\n",
    "        nobs.columns = ['group', event]\n",
    "        \n",
    "        #Смержим таблицы\n",
    "        pivot_z = pd.merge(count, nobs, on = 'group')\n",
    "        \n",
    "        #Используем Z-критерий\n",
    "        stat, p_value = proportions_ztest(pivot_z[event].values,pivot_z['total_users'].values)\n",
    "        print('{}: p-значение: {:.10f}'.format(event.upper(), p_value))\n",
    "        if p_value >= alpha:\n",
    "            print(f'Нулевая гипотеза НЕ ОТВЕРГАЕТСЯ: между группами нет различий конверсии по событию {event}')\n",
    "        else:\n",
    "            print(f'Нулевая гипотеза ОТВЕРГАЕТСЯ: между группами есть различия конверсии по событию {event}')\n",
    "        print()\n",
    "    \n",
    "    #Отобразим воронку\n",
    "    table = data.groupby(['group','event_name'], as_index=False).agg({'user_id':'nunique'})\n",
    "    fig = go.Figure()\n",
    "    for i in list(table['group'].unique()):\n",
    "        df = table[table['group'] == i].sort_values('user_id', ascending=False).reset_index(drop=True)\n",
    "        d = {2: 3, 3: 2}\n",
    "        df = df.rename(d).sort_index()\n",
    "        fig.add_trace(go.Funnel(\n",
    "            name = i,\n",
    "            y = df['event_name'],\n",
    "            x = df['user_id'],\n",
    "            textposition = \"inside\",\n",
    "            textinfo = \"value+percent initial\",\n",
    "            connector = {\"fillcolor\": '#c7c7c7'},\n",
    "            hoverinfo = 'y',\n",
    "            insidetextfont = {'color': 'white', 'size': 14}))\n",
    "        fig.update_layout(title=dict(text='Воронка пользователей по событий и по контрольным группам'),\n",
    "                          plot_bgcolor='#ffffff')\n",
    "    fig.show('svg')"
   ]
  },
  {
   "cell_type": "code",
   "execution_count": 26,
   "metadata": {
    "scrolled": false
   },
   "outputs": [
    {
     "name": "stdout",
     "output_type": "stream",
     "text": [
      "PURCHASE: p-значение: 0.0000000000\n",
      "Нулевая гипотеза ОТВЕРГАЕТСЯ: между группами есть различия конверсии по событию purchase\n",
      "\n",
      "PRODUCT_CART: p-значение: 0.0000000000\n",
      "Нулевая гипотеза ОТВЕРГАЕТСЯ: между группами есть различия конверсии по событию product_cart\n",
      "\n",
      "PRODUCT_PAGE: p-значение: 0.0000000000\n",
      "Нулевая гипотеза ОТВЕРГАЕТСЯ: между группами есть различия конверсии по событию product_page\n",
      "\n",
      "LOGIN: p-значение: 0.0000000000\n",
      "Нулевая гипотеза ОТВЕРГАЕТСЯ: между группами есть различия конверсии по событию login\n",
      "\n"
     ]
    },
    {
     "data": {
      "image/svg+xml": [
       "<svg class=\"main-svg\" xmlns=\"http://www.w3.org/2000/svg\" xmlns:xlink=\"http://www.w3.org/1999/xlink\" width=\"700\" height=\"500\" style=\"\" viewBox=\"0 0 700 500\"><rect x=\"0\" y=\"0\" width=\"700\" height=\"500\" style=\"fill: rgb(255, 255, 255); fill-opacity: 1;\"/><defs id=\"defs-aed324\"><g class=\"clips\"><clipPath id=\"clipaed324xyplot\" class=\"plotclip\"><rect width=\"524\" height=\"320\"/></clipPath><clipPath class=\"axesclip\" id=\"clipaed324x\"><rect x=\"96\" y=\"0\" width=\"524\" height=\"500\"/></clipPath><clipPath class=\"axesclip\" id=\"clipaed324y\"><rect x=\"0\" y=\"100\" width=\"700\" height=\"320\"/></clipPath><clipPath class=\"axesclip\" id=\"clipaed324xy\"><rect x=\"96\" y=\"100\" width=\"524\" height=\"320\"/></clipPath></g><g class=\"gradients\"/><g class=\"patterns\"/></defs><g class=\"bglayer\"><rect class=\"bg\" x=\"96\" y=\"100\" width=\"524\" height=\"320\" style=\"fill: rgb(255, 255, 255); fill-opacity: 1; stroke-width: 0;\"/></g><g class=\"layer-below\"><g class=\"imagelayer\"/><g class=\"shapelayer\"/></g><g class=\"cartesianlayer\"><g class=\"subplot xy\"><g class=\"layer-subplot\"><g class=\"shapelayer\"/><g class=\"imagelayer\"/></g><g class=\"gridlayer\"><g class=\"x\"/><g class=\"y\"/></g><g class=\"zerolinelayer\"/><path class=\"xlines-below\"/><path class=\"ylines-below\"/><g class=\"overlines-below\"/><g class=\"xaxislayer-below\"/><g class=\"yaxislayer-below\"/><g class=\"overaxes-below\"/><g class=\"plot\" transform=\"translate(96,100)\" clip-path=\"url(#clipaed324xyplot)\"><g class=\"funnellayer mlayer\"><g class=\"trace bars\" style=\"opacity: 1;\"><g class=\"regions\"><g class=\"region\"><path d=\"M26.2,72L114.23,88H342.65L378.71,72Z\" style=\"stroke-width: 0; fill: rgb(199, 199, 199); fill-opacity: 1;\"/></g><g class=\"region\"><path d=\"M114.23,152L192.77,168H298.51L342.65,152Z\" style=\"stroke-width: 0; fill: rgb(199, 199, 199); fill-opacity: 1;\"/></g><g class=\"region\"><path d=\"M192.77,232L189.62,248H301.52L298.51,232Z\" style=\"stroke-width: 0; fill: rgb(199, 199, 199); fill-opacity: 1;\"/></g><g class=\"region\"><path d=\"M0,0Z\" style=\"stroke-width: 0; fill: rgb(199, 199, 199); fill-opacity: 1;\"/></g></g><g class=\"points\"><g class=\"point\"><path d=\"M26.2,8V72H378.71V8Z\" style=\"vector-effect: non-scaling-stroke; fill: rgb(99, 110, 250); fill-opacity: 1; stroke: rgb(68, 68, 68); stroke-opacity: 1; stroke-width: 0px; opacity: 1;\"/><text class=\"bartext bartext-inside\" text-anchor=\"middle\" data-notex=\"1\" x=\"0\" y=\"0\" style=\"font-family: 'Open Sans', verdana, arial, sans-serif; font-size: 14px; fill: rgb(255, 255, 255); fill-opacity: 1; white-space: pre;\" transform=\"translate(202.45499999999998,36.3984375)\"><tspan class=\"line\" dy=\"0em\" x=\"0\" y=\"0\">2747</tspan><tspan class=\"line\" dy=\"1.3em\" x=\"0\" y=\"0\">100%</tspan></text></g><g class=\"point\"><path d=\"M114.23,88V152H342.65V88Z\" style=\"vector-effect: non-scaling-stroke; fill: rgb(99, 110, 250); fill-opacity: 1; stroke: rgb(68, 68, 68); stroke-opacity: 1; stroke-width: 0px; opacity: 1;\"/><text class=\"bartext bartext-inside\" text-anchor=\"middle\" data-notex=\"1\" x=\"0\" y=\"0\" style=\"font-family: 'Open Sans', verdana, arial, sans-serif; font-size: 14px; fill: rgb(255, 255, 255); fill-opacity: 1; white-space: pre;\" transform=\"translate(228.393125,116.3984375)\"><tspan class=\"line\" dy=\"0em\" x=\"0\" y=\"0\">1780</tspan><tspan class=\"line\" dy=\"1.3em\" x=\"0\" y=\"0\">65%</tspan></text></g><g class=\"point\"><path d=\"M192.77,168V232H298.51V168Z\" style=\"vector-effect: non-scaling-stroke; fill: rgb(99, 110, 250); fill-opacity: 1; stroke: rgb(68, 68, 68); stroke-opacity: 1; stroke-width: 0px; opacity: 1;\"/><text class=\"bartext bartext-inside\" text-anchor=\"middle\" data-notex=\"1\" x=\"0\" y=\"0\" style=\"font-family: 'Open Sans', verdana, arial, sans-serif; font-size: 14px; fill: rgb(255, 255, 255); fill-opacity: 1; white-space: pre;\" transform=\"translate(245.64,196.3984375)\"><tspan class=\"line\" dy=\"0em\" x=\"0\" y=\"0\">824</tspan><tspan class=\"line\" dy=\"1.3em\" x=\"0\" y=\"0\">30%</tspan></text></g><g class=\"point\"><path d=\"M189.62,248V312H301.52V248Z\" style=\"vector-effect: non-scaling-stroke; fill: rgb(99, 110, 250); fill-opacity: 1; stroke: rgb(68, 68, 68); stroke-opacity: 1; stroke-width: 0px; opacity: 1;\"/><text class=\"bartext bartext-inside\" text-anchor=\"middle\" data-notex=\"1\" x=\"0\" y=\"0\" style=\"font-family: 'Open Sans', verdana, arial, sans-serif; font-size: 14px; fill: rgb(255, 255, 255); fill-opacity: 1; white-space: pre;\" transform=\"translate(245.57,276.3984375)\"><tspan class=\"line\" dy=\"0em\" x=\"0\" y=\"0\">872</tspan><tspan class=\"line\" dy=\"1.3em\" x=\"0\" y=\"0\">32%</tspan></text></g></g></g><g class=\"trace bars\" style=\"opacity: 1;\"><g class=\"regions\"><g class=\"region\"><path d=\"M378.71,72L342.65,88H409.77L497.8,72Z\" style=\"stroke-width: 0; fill: rgb(199, 199, 199); fill-opacity: 1;\"/></g><g class=\"region\"><path d=\"M342.65,152L298.51,168H331.23L409.77,152Z\" style=\"stroke-width: 0; fill: rgb(199, 199, 199); fill-opacity: 1;\"/></g><g class=\"region\"><path d=\"M298.51,232L301.52,248H334.38L331.23,232Z\" style=\"stroke-width: 0; fill: rgb(199, 199, 199); fill-opacity: 1;\"/></g><g class=\"region\"><path d=\"M0,0Z\" style=\"stroke-width: 0; fill: rgb(199, 199, 199); fill-opacity: 1;\"/></g></g><g class=\"points\"><g class=\"point\"><path d=\"M378.71,8V72H497.8V8Z\" style=\"vector-effect: non-scaling-stroke; fill: rgb(239, 85, 59); fill-opacity: 1; stroke: rgb(68, 68, 68); stroke-opacity: 1; stroke-width: 0px; opacity: 1;\"/><text class=\"bartext bartext-inside\" text-anchor=\"middle\" data-notex=\"1\" x=\"0\" y=\"0\" style=\"font-family: 'Open Sans', verdana, arial, sans-serif; font-size: 14px; fill: rgb(255, 255, 255); fill-opacity: 1; white-space: pre;\" transform=\"translate(438.255,36.3984375)\"><tspan class=\"line\" dy=\"0em\" x=\"0\" y=\"0\">928</tspan><tspan class=\"line\" dy=\"1.3em\" x=\"0\" y=\"0\">100%</tspan></text></g><g class=\"point\"><path d=\"M342.65,88V152H409.77V88Z\" style=\"vector-effect: non-scaling-stroke; fill: rgb(239, 85, 59); fill-opacity: 1; stroke: rgb(68, 68, 68); stroke-opacity: 1; stroke-width: 0px; opacity: 1;\"/><text class=\"bartext bartext-inside\" text-anchor=\"middle\" data-notex=\"1\" x=\"0\" y=\"0\" style=\"font-family: 'Open Sans', verdana, arial, sans-serif; font-size: 14px; fill: rgb(255, 255, 255); fill-opacity: 1; white-space: pre;\" transform=\"translate(376.21,116.3984375)\"><tspan class=\"line\" dy=\"0em\" x=\"0\" y=\"0\">523</tspan><tspan class=\"line\" dy=\"1.3em\" x=\"0\" y=\"0\">56%</tspan></text></g><g class=\"point\"><path d=\"M298.51,168V232H331.23V168Z\" style=\"vector-effect: non-scaling-stroke; fill: rgb(239, 85, 59); fill-opacity: 1; stroke: rgb(68, 68, 68); stroke-opacity: 1; stroke-width: 0px; opacity: 1;\"/><text class=\"bartext bartext-inside\" text-anchor=\"middle\" data-notex=\"1\" x=\"0\" y=\"0\" style=\"font-family: 'Open Sans', verdana, arial, sans-serif; font-size: 14px; fill: rgb(255, 255, 255); fill-opacity: 1; white-space: pre;\" transform=\"translate(314.87,197.07273764258554)scale(0.8127756653992404)\"><tspan class=\"line\" dy=\"0em\" x=\"0\" y=\"0\">255</tspan><tspan class=\"line\" dy=\"1.3em\" x=\"0\" y=\"0\">27%</tspan></text></g><g class=\"point\"><path d=\"M301.52,248V312H334.38V248Z\" style=\"vector-effect: non-scaling-stroke; fill: rgb(239, 85, 59); fill-opacity: 1; stroke: rgb(68, 68, 68); stroke-opacity: 1; stroke-width: 0px; opacity: 1;\"/><text class=\"bartext bartext-inside\" text-anchor=\"middle\" data-notex=\"1\" x=\"0\" y=\"0\" style=\"font-family: 'Open Sans', verdana, arial, sans-serif; font-size: 14px; fill: rgb(255, 255, 255); fill-opacity: 1; white-space: pre;\" transform=\"translate(317.95,277.0574001901141)scale(0.8170342205323198)\"><tspan class=\"line\" dy=\"0em\" x=\"0\" y=\"0\">256</tspan><tspan class=\"line\" dy=\"1.3em\" x=\"0\" y=\"0\">28%</tspan></text></g></g></g></g></g><g class=\"overplot\"/><path class=\"xlines-above crisp\" d=\"M0,0\" style=\"fill: none;\"/><path class=\"ylines-above crisp\" d=\"M0,0\" style=\"fill: none;\"/><g class=\"overlines-above\"/><g class=\"xaxislayer-above\"/><g class=\"yaxislayer-above\"><g class=\"ytick\"><text text-anchor=\"end\" x=\"95\" y=\"4.199999999999999\" transform=\"translate(0,380)\" style=\"font-family: 'Open Sans', verdana, arial, sans-serif; font-size: 12px; fill: rgb(42, 63, 95); fill-opacity: 1; white-space: pre; opacity: 1;\">purchase</text></g><g class=\"ytick\"><text text-anchor=\"end\" x=\"95\" y=\"4.199999999999999\" transform=\"translate(0,300)\" style=\"font-family: 'Open Sans', verdana, arial, sans-serif; font-size: 12px; fill: rgb(42, 63, 95); fill-opacity: 1; white-space: pre; opacity: 1;\">product_cart</text></g><g class=\"ytick\"><text text-anchor=\"end\" x=\"95\" y=\"4.199999999999999\" transform=\"translate(0,220)\" style=\"font-family: 'Open Sans', verdana, arial, sans-serif; font-size: 12px; fill: rgb(42, 63, 95); fill-opacity: 1; white-space: pre; opacity: 1;\">product_page</text></g><g class=\"ytick\"><text text-anchor=\"end\" x=\"95\" y=\"4.199999999999999\" transform=\"translate(0,140)\" style=\"font-family: 'Open Sans', verdana, arial, sans-serif; font-size: 12px; fill: rgb(42, 63, 95); fill-opacity: 1; white-space: pre; opacity: 1;\">login</text></g></g><g class=\"overaxes-above\"/></g></g><g class=\"polarlayer\"/><g class=\"ternarylayer\"/><g class=\"geolayer\"/><g class=\"funnelarealayer\"/><g class=\"pielayer\"/><g class=\"iciclelayer\"/><g class=\"treemaplayer\"/><g class=\"sunburstlayer\"/><g class=\"glimages\"/><defs id=\"topdefs-aed324\"><g class=\"clips\"/><clipPath id=\"legendaed324\"><rect width=\"55\" height=\"48\" x=\"0\" y=\"0\"/></clipPath></defs><g class=\"layer-above\"><g class=\"imagelayer\"/><g class=\"shapelayer\"/></g><g class=\"infolayer\"><g class=\"legend\" pointer-events=\"all\" transform=\"translate(630.48,100)\"><rect class=\"bg\" shape-rendering=\"crispEdges\" width=\"55\" height=\"48\" x=\"0\" y=\"0\" style=\"stroke: rgb(68, 68, 68); stroke-opacity: 1; fill: rgb(255, 255, 255); fill-opacity: 1; stroke-width: 0px;\"/><g class=\"scrollbox\" transform=\"\" clip-path=\"url(#legendaed324)\"><g class=\"groups\"><g class=\"traces\" transform=\"translate(0,14.5)\" style=\"opacity: 1;\"><text class=\"legendtext\" text-anchor=\"start\" x=\"40\" y=\"4.680000000000001\" style=\"font-family: 'Open Sans', verdana, arial, sans-serif; font-size: 12px; fill: rgb(42, 63, 95); fill-opacity: 1; white-space: pre;\">A</text><g class=\"layers\" style=\"opacity: 1;\"><g class=\"legendfill\"/><g class=\"legendlines\"/><g class=\"legendsymbols\"><g class=\"legendpoints\"><path class=\"legendfunnel\" d=\"M6,6H-6V-6H6Z\" transform=\"translate(20,0)\" style=\"stroke-width: 0px; fill: rgb(99, 110, 250); fill-opacity: 1;\"/></g></g></g><rect class=\"legendtoggle\" x=\"0\" y=\"-9.5\" width=\"50\" height=\"19\" style=\"fill: rgb(0, 0, 0); fill-opacity: 0;\"/></g><g class=\"traces\" transform=\"translate(0,33.5)\" style=\"opacity: 1;\"><text class=\"legendtext\" text-anchor=\"start\" x=\"40\" y=\"4.680000000000001\" style=\"font-family: 'Open Sans', verdana, arial, sans-serif; font-size: 12px; fill: rgb(42, 63, 95); fill-opacity: 1; white-space: pre;\">B</text><g class=\"layers\" style=\"opacity: 1;\"><g class=\"legendfill\"/><g class=\"legendlines\"/><g class=\"legendsymbols\"><g class=\"legendpoints\"><path class=\"legendfunnel\" d=\"M6,6H-6V-6H6Z\" transform=\"translate(20,0)\" style=\"stroke-width: 0px; fill: rgb(239, 85, 59); fill-opacity: 1;\"/></g></g></g><rect class=\"legendtoggle\" x=\"0\" y=\"-9.5\" width=\"50\" height=\"19\" style=\"fill: rgb(0, 0, 0); fill-opacity: 0;\"/></g></g></g><rect class=\"scrollbar\" rx=\"20\" ry=\"3\" width=\"0\" height=\"0\" x=\"0\" y=\"0\" style=\"fill: rgb(128, 139, 164); fill-opacity: 1;\"/></g><g class=\"g-gtitle\"><text class=\"gtitle\" x=\"35\" y=\"50\" text-anchor=\"start\" dy=\"0em\" style=\"font-family: 'Open Sans', verdana, arial, sans-serif; font-size: 17px; fill: rgb(42, 63, 95); opacity: 1; font-weight: normal; white-space: pre;\">Воронка пользователей по событий и по контрольным группам</text></g><g class=\"g-ytitle\"/></g></svg>"
      ]
     },
     "metadata": {},
     "output_type": "display_data"
    }
   ],
   "source": [
    "check_z(test_1, 0.05)"
   ]
  },
  {
   "cell_type": "markdown",
   "metadata": {},
   "source": [
    "**Вывод:** По всем событиям доли конверсий в группах отличаются."
   ]
  },
  {
   "cell_type": "markdown",
   "metadata": {},
   "source": [
    "# Вывод"
   ]
  },
  {
   "cell_type": "markdown",
   "metadata": {},
   "source": [
    "По предварительному анализу EDA можно сказать:\n",
    " - В тесте учавствуют 6701 пользователей, что на 12% выше условий ТЗ (6000 пользователей).\n",
    " - Доля пользователей из европейского региона составляет 5%, что намного ниже требований ТЗ (15%). Также, такая высока доля является статистически значимой в данной выборке.\n",
    " - 1602 пользователя учавствуют в двух конкурирующих тестах (что составляет 20% от общей аудитории исследуемого теста). Может быть влияние конкурирующего теста на результаты исследуемого теста.  \n",
    " - По всем событиям доли конверсий в группах статистически отличаются.\n",
    " - AB-тест выпал на перид Рождественской и Новогодней акций. \n",
    "\n",
    "**Рекомендация:** Разделить пользователей согласно условию и провести тест заново. Также стоит отметить, что тест проводился в предверии Нового года, следствием чего, показали (например, конверсия) явно будут имеь отличительный характер. "
   ]
  }
 ],
 "metadata": {
  "ExecuteTimeLog": [
   {
    "duration": 558,
    "start_time": "2021-09-17T17:59:56.486Z"
   },
   {
    "duration": 19,
    "start_time": "2021-09-17T18:01:51.022Z"
   },
   {
    "duration": 14,
    "start_time": "2021-09-17T18:01:53.893Z"
   },
   {
    "duration": 6,
    "start_time": "2021-09-17T18:02:11.420Z"
   },
   {
    "duration": 8,
    "start_time": "2021-09-17T18:02:19.979Z"
   },
   {
    "duration": 117,
    "start_time": "2021-09-17T18:38:18.492Z"
   },
   {
    "duration": 18,
    "start_time": "2021-09-17T18:38:24.637Z"
   },
   {
    "duration": 9,
    "start_time": "2021-09-17T18:38:32.967Z"
   },
   {
    "duration": 6,
    "start_time": "2021-09-17T18:38:39.310Z"
   },
   {
    "duration": 9,
    "start_time": "2021-09-17T18:38:44.629Z"
   },
   {
    "duration": 61,
    "start_time": "2021-09-17T18:45:58.720Z"
   },
   {
    "duration": 9,
    "start_time": "2021-09-17T18:46:02.690Z"
   },
   {
    "duration": 6,
    "start_time": "2021-09-17T18:46:36.154Z"
   },
   {
    "duration": 9,
    "start_time": "2021-09-17T18:46:44.269Z"
   },
   {
    "duration": 85,
    "start_time": "2021-09-17T18:48:10.735Z"
   },
   {
    "duration": 448,
    "start_time": "2021-09-17T18:48:59.297Z"
   },
   {
    "duration": 11,
    "start_time": "2021-09-17T18:49:04.843Z"
   },
   {
    "duration": 18,
    "start_time": "2021-09-17T18:53:55.198Z"
   },
   {
    "duration": 11,
    "start_time": "2021-09-17T18:54:01.015Z"
   },
   {
    "duration": 27,
    "start_time": "2021-09-17T18:54:42.831Z"
   },
   {
    "duration": 9,
    "start_time": "2021-09-17T18:54:45.934Z"
   },
   {
    "duration": 4,
    "start_time": "2021-09-17T18:55:02.652Z"
   },
   {
    "duration": 8,
    "start_time": "2021-09-17T18:55:08.965Z"
   },
   {
    "duration": 2419,
    "start_time": "2021-09-17T18:55:44.821Z"
   },
   {
    "duration": 115,
    "start_time": "2021-09-17T18:57:06.872Z"
   },
   {
    "duration": 2413,
    "start_time": "2021-09-17T18:57:12.771Z"
   },
   {
    "duration": 578,
    "start_time": "2021-09-17T18:59:23.797Z"
   },
   {
    "duration": 152,
    "start_time": "2021-09-17T19:20:33.697Z"
   },
   {
    "duration": 145,
    "start_time": "2021-09-17T19:20:53.588Z"
   },
   {
    "duration": 253,
    "start_time": "2021-09-17T19:24:56.210Z"
   },
   {
    "duration": 98,
    "start_time": "2021-09-17T19:25:18.885Z"
   },
   {
    "duration": 6,
    "start_time": "2021-09-17T19:25:58.749Z"
   },
   {
    "duration": 780,
    "start_time": "2021-09-17T19:26:12.017Z"
   },
   {
    "duration": 232,
    "start_time": "2021-09-17T19:26:32.518Z"
   },
   {
    "duration": 14,
    "start_time": "2021-09-17T19:27:30.110Z"
   },
   {
    "duration": 33,
    "start_time": "2021-09-17T19:27:58.422Z"
   },
   {
    "duration": 29,
    "start_time": "2021-09-17T19:42:59.873Z"
   },
   {
    "duration": 28,
    "start_time": "2021-09-17T19:49:33.823Z"
   },
   {
    "duration": 14,
    "start_time": "2021-09-17T19:49:45.173Z"
   },
   {
    "duration": 14,
    "start_time": "2021-09-17T20:03:35.841Z"
   },
   {
    "duration": 13,
    "start_time": "2021-09-17T20:03:45.514Z"
   },
   {
    "duration": 14,
    "start_time": "2021-09-17T20:04:51.730Z"
   },
   {
    "duration": 12,
    "start_time": "2021-09-17T20:05:35.103Z"
   },
   {
    "duration": 339,
    "start_time": "2021-09-17T20:11:36.558Z"
   },
   {
    "duration": 3,
    "start_time": "2021-09-17T20:14:19.714Z"
   },
   {
    "duration": 14,
    "start_time": "2021-09-17T20:16:12.484Z"
   },
   {
    "duration": 55,
    "start_time": "2021-09-17T20:16:33.526Z"
   },
   {
    "duration": 14,
    "start_time": "2021-09-17T20:20:18.402Z"
   },
   {
    "duration": 13,
    "start_time": "2021-09-17T20:20:26.316Z"
   },
   {
    "duration": 191,
    "start_time": "2021-09-17T20:21:49.199Z"
   },
   {
    "duration": 20,
    "start_time": "2021-09-17T20:21:53.975Z"
   },
   {
    "duration": 156,
    "start_time": "2021-09-17T20:27:53.059Z"
   },
   {
    "duration": 21,
    "start_time": "2021-09-17T20:28:17.404Z"
   },
   {
    "duration": 69,
    "start_time": "2021-09-17T20:29:19.130Z"
   },
   {
    "duration": 23,
    "start_time": "2021-09-17T20:29:23.390Z"
   },
   {
    "duration": 18,
    "start_time": "2021-09-17T20:32:22.151Z"
   },
   {
    "duration": 7,
    "start_time": "2021-09-17T20:32:26.642Z"
   },
   {
    "duration": 72,
    "start_time": "2021-09-17T20:40:28.618Z"
   },
   {
    "duration": 9,
    "start_time": "2021-09-17T20:40:31.551Z"
   },
   {
    "duration": 306,
    "start_time": "2021-09-17T20:49:32.296Z"
   },
   {
    "duration": 3,
    "start_time": "2021-09-17T20:50:16.758Z"
   },
   {
    "duration": 5,
    "start_time": "2021-09-17T20:50:22.165Z"
   },
   {
    "duration": 5,
    "start_time": "2021-09-17T20:50:35.965Z"
   },
   {
    "duration": 5,
    "start_time": "2021-09-17T20:50:45.854Z"
   },
   {
    "duration": 10,
    "start_time": "2021-09-17T20:50:50.456Z"
   },
   {
    "duration": 7,
    "start_time": "2021-09-17T20:53:52.538Z"
   },
   {
    "duration": 6,
    "start_time": "2021-09-17T20:54:14.619Z"
   },
   {
    "duration": 4913,
    "start_time": "2021-09-17T20:54:48.081Z"
   },
   {
    "duration": 6481,
    "start_time": "2021-09-17T20:54:56.802Z"
   },
   {
    "duration": 7,
    "start_time": "2021-09-17T20:55:09.657Z"
   },
   {
    "duration": 11339,
    "start_time": "2021-09-17T20:56:54.989Z"
   },
   {
    "duration": 7,
    "start_time": "2021-09-17T20:57:14.481Z"
   },
   {
    "duration": 6,
    "start_time": "2021-09-17T20:57:30.647Z"
   },
   {
    "duration": 289,
    "start_time": "2021-09-17T20:57:39.969Z"
   },
   {
    "duration": 5,
    "start_time": "2021-09-17T20:57:53.170Z"
   },
   {
    "duration": 5,
    "start_time": "2021-09-17T20:58:37.347Z"
   },
   {
    "duration": 4,
    "start_time": "2021-09-17T20:58:40.130Z"
   },
   {
    "duration": 6743,
    "start_time": "2021-09-17T20:59:03.861Z"
   },
   {
    "duration": 29,
    "start_time": "2021-09-17T20:59:56.761Z"
   },
   {
    "duration": 1155,
    "start_time": "2021-09-17T21:01:15.189Z"
   },
   {
    "duration": 7692,
    "start_time": "2021-09-17T21:01:33.147Z"
   },
   {
    "duration": 23,
    "start_time": "2021-09-17T21:03:28.210Z"
   },
   {
    "duration": 24,
    "start_time": "2021-09-17T21:03:41.219Z"
   },
   {
    "duration": 25,
    "start_time": "2021-09-17T21:03:56.484Z"
   },
   {
    "duration": 7463,
    "start_time": "2021-09-17T21:05:33.721Z"
   },
   {
    "duration": 7263,
    "start_time": "2021-09-17T21:05:54.408Z"
   },
   {
    "duration": 6818,
    "start_time": "2021-09-17T21:06:08.652Z"
   },
   {
    "duration": 6728,
    "start_time": "2021-09-17T21:06:20.157Z"
   },
   {
    "duration": 5,
    "start_time": "2021-09-17T21:07:23.926Z"
   },
   {
    "duration": 6192,
    "start_time": "2021-09-17T21:07:47.714Z"
   },
   {
    "duration": 286,
    "start_time": "2021-09-17T21:07:58.664Z"
   },
   {
    "duration": -1033,
    "start_time": "2021-09-17T21:07:59.985Z"
   },
   {
    "duration": -1034,
    "start_time": "2021-09-17T21:07:59.988Z"
   },
   {
    "duration": -1053,
    "start_time": "2021-09-17T21:08:00.007Z"
   },
   {
    "duration": -1061,
    "start_time": "2021-09-17T21:08:00.017Z"
   },
   {
    "duration": -1063,
    "start_time": "2021-09-17T21:08:00.020Z"
   },
   {
    "duration": -1067,
    "start_time": "2021-09-17T21:08:00.024Z"
   },
   {
    "duration": -1068,
    "start_time": "2021-09-17T21:08:00.027Z"
   },
   {
    "duration": -1071,
    "start_time": "2021-09-17T21:08:00.031Z"
   },
   {
    "duration": -1073,
    "start_time": "2021-09-17T21:08:00.033Z"
   },
   {
    "duration": -1074,
    "start_time": "2021-09-17T21:08:00.035Z"
   },
   {
    "duration": -1075,
    "start_time": "2021-09-17T21:08:00.037Z"
   },
   {
    "duration": 857,
    "start_time": "2021-09-17T21:08:49.193Z"
   },
   {
    "duration": 617,
    "start_time": "2021-09-17T21:08:50.052Z"
   },
   {
    "duration": 168,
    "start_time": "2021-09-17T21:08:50.671Z"
   },
   {
    "duration": 795,
    "start_time": "2021-09-17T21:08:50.844Z"
   },
   {
    "duration": 244,
    "start_time": "2021-09-17T21:08:51.644Z"
   },
   {
    "duration": 88,
    "start_time": "2021-09-17T21:08:51.890Z"
   },
   {
    "duration": 78,
    "start_time": "2021-09-17T21:08:51.979Z"
   },
   {
    "duration": 6699,
    "start_time": "2021-09-17T21:08:52.059Z"
   },
   {
    "duration": -1068,
    "start_time": "2021-09-17T21:08:59.829Z"
   },
   {
    "duration": -1071,
    "start_time": "2021-09-17T21:08:59.833Z"
   },
   {
    "duration": -1075,
    "start_time": "2021-09-17T21:08:59.838Z"
   },
   {
    "duration": 8968,
    "start_time": "2021-09-17T21:20:31.804Z"
   },
   {
    "duration": 27,
    "start_time": "2021-09-17T21:20:52.237Z"
   },
   {
    "duration": 13,
    "start_time": "2021-09-17T21:22:29.010Z"
   },
   {
    "duration": 8616,
    "start_time": "2021-09-17T21:23:29.367Z"
   },
   {
    "duration": 53,
    "start_time": "2021-09-17T21:23:52.545Z"
   },
   {
    "duration": 7999,
    "start_time": "2021-09-17T21:24:20.343Z"
   },
   {
    "duration": 49,
    "start_time": "2021-09-17T21:35:43.191Z"
   },
   {
    "duration": 1154,
    "start_time": "2021-09-17T21:41:59.528Z"
   },
   {
    "duration": 353,
    "start_time": "2021-09-17T21:42:12.324Z"
   },
   {
    "duration": 370,
    "start_time": "2021-09-17T21:42:38.667Z"
   },
   {
    "duration": 246,
    "start_time": "2021-09-17T21:43:03.055Z"
   },
   {
    "duration": 1058,
    "start_time": "2021-09-18T09:06:43.534Z"
   },
   {
    "duration": 864,
    "start_time": "2021-09-18T09:06:44.594Z"
   },
   {
    "duration": 244,
    "start_time": "2021-09-18T09:06:45.464Z"
   },
   {
    "duration": 725,
    "start_time": "2021-09-18T09:06:45.710Z"
   },
   {
    "duration": 282,
    "start_time": "2021-09-18T09:06:46.436Z"
   },
   {
    "duration": 100,
    "start_time": "2021-09-18T09:06:46.719Z"
   },
   {
    "duration": 107,
    "start_time": "2021-09-18T09:06:46.822Z"
   },
   {
    "duration": 78,
    "start_time": "2021-09-18T09:06:46.931Z"
   },
   {
    "duration": 788,
    "start_time": "2021-09-18T09:06:47.011Z"
   },
   {
    "duration": 50,
    "start_time": "2021-09-18T09:06:47.801Z"
   },
   {
    "duration": 386,
    "start_time": "2021-09-18T09:34:44.536Z"
   },
   {
    "duration": 427,
    "start_time": "2021-09-18T09:35:02.290Z"
   },
   {
    "duration": 500,
    "start_time": "2021-09-18T09:35:07.878Z"
   },
   {
    "duration": 126,
    "start_time": "2021-09-18T09:35:30.948Z"
   },
   {
    "duration": 298,
    "start_time": "2021-09-18T09:36:26.479Z"
   },
   {
    "duration": 3021,
    "start_time": "2021-09-18T09:37:17.319Z"
   },
   {
    "duration": 948,
    "start_time": "2021-09-18T09:37:20.342Z"
   },
   {
    "duration": 262,
    "start_time": "2021-09-18T09:37:21.293Z"
   },
   {
    "duration": 732,
    "start_time": "2021-09-18T09:37:21.558Z"
   },
   {
    "duration": 414,
    "start_time": "2021-09-18T09:37:22.292Z"
   },
   {
    "duration": 497,
    "start_time": "2021-09-18T09:37:22.709Z"
   },
   {
    "duration": -297,
    "start_time": "2021-09-18T09:37:23.505Z"
   },
   {
    "duration": -297,
    "start_time": "2021-09-18T09:37:23.507Z"
   },
   {
    "duration": 5,
    "start_time": "2021-09-18T09:37:40.337Z"
   },
   {
    "duration": 312,
    "start_time": "2021-09-18T09:37:40.466Z"
   },
   {
    "duration": 6,
    "start_time": "2021-09-18T09:37:46.277Z"
   },
   {
    "duration": 5,
    "start_time": "2021-09-18T09:37:56.231Z"
   },
   {
    "duration": 6,
    "start_time": "2021-09-18T09:38:06.515Z"
   },
   {
    "duration": 11,
    "start_time": "2021-09-18T09:38:10.426Z"
   },
   {
    "duration": 5,
    "start_time": "2021-09-18T09:40:31.841Z"
   },
   {
    "duration": 4,
    "start_time": "2021-09-18T09:40:46.733Z"
   },
   {
    "duration": 280,
    "start_time": "2021-09-18T09:40:58.286Z"
   },
   {
    "duration": 5,
    "start_time": "2021-09-18T09:41:18.606Z"
   },
   {
    "duration": 5,
    "start_time": "2021-09-18T09:41:27.996Z"
   },
   {
    "duration": 307,
    "start_time": "2021-09-18T09:41:41.016Z"
   },
   {
    "duration": 8,
    "start_time": "2021-09-18T09:42:21.757Z"
   },
   {
    "duration": 24,
    "start_time": "2021-09-18T09:42:36.637Z"
   },
   {
    "duration": 13,
    "start_time": "2021-09-18T09:43:50.210Z"
   },
   {
    "duration": 295,
    "start_time": "2021-09-18T09:44:02.480Z"
   },
   {
    "duration": 79,
    "start_time": "2021-09-18T09:46:30.917Z"
   },
   {
    "duration": 82,
    "start_time": "2021-09-18T09:46:35.398Z"
   },
   {
    "duration": 56,
    "start_time": "2021-09-18T09:46:41.582Z"
   },
   {
    "duration": 7,
    "start_time": "2021-09-18T09:47:04.413Z"
   },
   {
    "duration": 6,
    "start_time": "2021-09-18T09:47:49.385Z"
   },
   {
    "duration": 14,
    "start_time": "2021-09-18T09:49:11.051Z"
   },
   {
    "duration": 60,
    "start_time": "2021-09-18T09:49:22.200Z"
   },
   {
    "duration": 61,
    "start_time": "2021-09-18T09:49:38.008Z"
   },
   {
    "duration": 7679,
    "start_time": "2021-09-18T11:13:12.189Z"
   },
   {
    "duration": 66,
    "start_time": "2021-09-18T11:13:23.934Z"
   },
   {
    "duration": 683,
    "start_time": "2021-09-18T11:13:54.407Z"
   },
   {
    "duration": 123,
    "start_time": "2021-09-18T11:14:27.595Z"
   },
   {
    "duration": 129,
    "start_time": "2021-09-18T11:14:32.476Z"
   },
   {
    "duration": 3,
    "start_time": "2021-09-18T11:26:11.306Z"
   },
   {
    "duration": 60,
    "start_time": "2021-09-18T11:29:40.224Z"
   },
   {
    "duration": 71,
    "start_time": "2021-09-18T11:29:45.424Z"
   },
   {
    "duration": 69,
    "start_time": "2021-09-18T11:30:04.911Z"
   },
   {
    "duration": 50,
    "start_time": "2021-09-18T11:52:16.176Z"
   },
   {
    "duration": 40,
    "start_time": "2021-09-18T11:52:49.420Z"
   },
   {
    "duration": 72,
    "start_time": "2021-09-18T11:52:53.713Z"
   },
   {
    "duration": 40,
    "start_time": "2021-09-18T13:07:21.340Z"
   },
   {
    "duration": 11,
    "start_time": "2021-09-18T13:07:28.448Z"
   },
   {
    "duration": 5,
    "start_time": "2021-09-18T13:09:33.227Z"
   },
   {
    "duration": 288,
    "start_time": "2021-09-18T13:17:55.336Z"
   },
   {
    "duration": 269,
    "start_time": "2021-09-18T13:18:01.378Z"
   },
   {
    "duration": 381,
    "start_time": "2021-09-18T13:18:58.153Z"
   },
   {
    "duration": 4830,
    "start_time": "2021-09-18T13:19:18.620Z"
   },
   {
    "duration": 16,
    "start_time": "2021-09-18T13:20:00.262Z"
   },
   {
    "duration": 22,
    "start_time": "2021-09-18T13:20:16.818Z"
   },
   {
    "duration": 285,
    "start_time": "2021-09-18T13:20:28.970Z"
   },
   {
    "duration": 24,
    "start_time": "2021-09-18T13:20:34.002Z"
   },
   {
    "duration": 23,
    "start_time": "2021-09-18T13:20:43.011Z"
   },
   {
    "duration": 6600,
    "start_time": "2021-09-18T13:22:15.247Z"
   },
   {
    "duration": 31,
    "start_time": "2021-09-18T13:22:38.742Z"
   },
   {
    "duration": 26,
    "start_time": "2021-09-18T13:24:55.601Z"
   },
   {
    "duration": 26,
    "start_time": "2021-09-18T13:25:01.947Z"
   },
   {
    "duration": 93,
    "start_time": "2021-09-18T13:26:02.122Z"
   },
   {
    "duration": 107,
    "start_time": "2021-09-18T13:28:08.183Z"
   },
   {
    "duration": 22,
    "start_time": "2021-09-18T13:28:13.927Z"
   },
   {
    "duration": 26,
    "start_time": "2021-09-18T13:28:34.243Z"
   },
   {
    "duration": 24,
    "start_time": "2021-09-18T13:28:51.384Z"
   },
   {
    "duration": 18,
    "start_time": "2021-09-18T13:29:22.424Z"
   },
   {
    "duration": 21,
    "start_time": "2021-09-18T13:29:26.925Z"
   },
   {
    "duration": 22,
    "start_time": "2021-09-18T13:29:35.344Z"
   },
   {
    "duration": 262,
    "start_time": "2021-09-18T13:29:45.483Z"
   },
   {
    "duration": 21,
    "start_time": "2021-09-18T13:31:55.021Z"
   },
   {
    "duration": 280,
    "start_time": "2021-09-18T13:32:14.864Z"
   },
   {
    "duration": 23,
    "start_time": "2021-09-18T13:32:19.601Z"
   },
   {
    "duration": 7714,
    "start_time": "2021-09-18T13:32:40.283Z"
   },
   {
    "duration": 300,
    "start_time": "2021-09-18T13:33:33.709Z"
   },
   {
    "duration": 48,
    "start_time": "2021-09-18T13:33:47.873Z"
   },
   {
    "duration": 278,
    "start_time": "2021-09-18T13:34:23.090Z"
   },
   {
    "duration": 23,
    "start_time": "2021-09-18T13:34:33.003Z"
   },
   {
    "duration": 274,
    "start_time": "2021-09-18T13:35:27.663Z"
   },
   {
    "duration": 24,
    "start_time": "2021-09-18T13:35:41.249Z"
   },
   {
    "duration": 24,
    "start_time": "2021-09-18T13:35:53.311Z"
   },
   {
    "duration": 20,
    "start_time": "2021-09-18T13:36:03.535Z"
   },
   {
    "duration": 23,
    "start_time": "2021-09-18T13:36:07.602Z"
   },
   {
    "duration": 24,
    "start_time": "2021-09-18T13:36:26.210Z"
   },
   {
    "duration": 19,
    "start_time": "2021-09-18T13:36:35.611Z"
   },
   {
    "duration": 26,
    "start_time": "2021-09-18T13:36:40.419Z"
   },
   {
    "duration": 380,
    "start_time": "2021-09-18T13:37:47.683Z"
   },
   {
    "duration": 26,
    "start_time": "2021-09-18T13:38:09.376Z"
   },
   {
    "duration": 28,
    "start_time": "2021-09-18T13:38:13.383Z"
   },
   {
    "duration": 23,
    "start_time": "2021-09-18T13:40:34.823Z"
   },
   {
    "duration": 13,
    "start_time": "2021-09-18T13:45:29.495Z"
   },
   {
    "duration": 24,
    "start_time": "2021-09-18T13:45:34.544Z"
   },
   {
    "duration": 13,
    "start_time": "2021-09-18T13:47:10.765Z"
   },
   {
    "duration": 27,
    "start_time": "2021-09-18T13:47:14.186Z"
   },
   {
    "duration": 291,
    "start_time": "2021-09-18T13:50:37.712Z"
   },
   {
    "duration": 53,
    "start_time": "2021-09-18T13:52:27.049Z"
   },
   {
    "duration": 14,
    "start_time": "2021-09-18T13:52:33.112Z"
   },
   {
    "duration": 370,
    "start_time": "2021-09-18T13:55:54.572Z"
   },
   {
    "duration": 261,
    "start_time": "2021-09-18T13:56:03.030Z"
   },
   {
    "duration": 660,
    "start_time": "2021-09-18T13:56:25.975Z"
   },
   {
    "duration": 644,
    "start_time": "2021-09-18T13:58:33.463Z"
   },
   {
    "duration": 819,
    "start_time": "2021-09-18T13:58:45.368Z"
   },
   {
    "duration": 41,
    "start_time": "2021-09-18T13:59:31.090Z"
   },
   {
    "duration": 12,
    "start_time": "2021-09-18T13:59:32.615Z"
   },
   {
    "duration": 24,
    "start_time": "2021-09-18T13:59:47.574Z"
   },
   {
    "duration": 36,
    "start_time": "2021-09-18T14:06:25.331Z"
   },
   {
    "duration": 25,
    "start_time": "2021-09-18T14:06:48.475Z"
   },
   {
    "duration": 62,
    "start_time": "2021-09-18T14:07:06.527Z"
   },
   {
    "duration": 63,
    "start_time": "2021-09-18T14:07:26.345Z"
   },
   {
    "duration": 61,
    "start_time": "2021-09-18T14:10:51.977Z"
   },
   {
    "duration": 63,
    "start_time": "2021-09-18T14:10:56.633Z"
   },
   {
    "duration": 102,
    "start_time": "2021-09-18T14:12:31.223Z"
   },
   {
    "duration": 64,
    "start_time": "2021-09-18T14:12:44.648Z"
   },
   {
    "duration": 95,
    "start_time": "2021-09-18T14:12:59.345Z"
   },
   {
    "duration": 61,
    "start_time": "2021-09-18T14:13:09.073Z"
   },
   {
    "duration": 32,
    "start_time": "2021-09-18T14:19:17.590Z"
   },
   {
    "duration": 2002,
    "start_time": "2021-09-18T15:22:31.799Z"
   },
   {
    "duration": 13,
    "start_time": "2021-09-18T15:22:36.243Z"
   },
   {
    "duration": 1690,
    "start_time": "2021-09-18T15:22:44.689Z"
   },
   {
    "duration": 18,
    "start_time": "2021-09-18T15:22:57.635Z"
   },
   {
    "duration": 266,
    "start_time": "2021-09-18T15:23:24.203Z"
   },
   {
    "duration": 19,
    "start_time": "2021-09-18T15:24:31.057Z"
   },
   {
    "duration": 26,
    "start_time": "2021-09-18T15:24:35.286Z"
   },
   {
    "duration": 265,
    "start_time": "2021-09-18T15:25:00.172Z"
   },
   {
    "duration": 16,
    "start_time": "2021-09-18T15:26:47.756Z"
   },
   {
    "duration": 9,
    "start_time": "2021-09-18T15:26:52.924Z"
   },
   {
    "duration": 28,
    "start_time": "2021-09-18T15:28:06.382Z"
   },
   {
    "duration": 9,
    "start_time": "2021-09-18T15:28:20.097Z"
   },
   {
    "duration": 24,
    "start_time": "2021-09-18T15:28:39.702Z"
   },
   {
    "duration": 84,
    "start_time": "2021-09-18T15:30:30.766Z"
   },
   {
    "duration": 36,
    "start_time": "2021-09-18T15:30:41.032Z"
   },
   {
    "duration": 14,
    "start_time": "2021-09-18T15:31:22.049Z"
   },
   {
    "duration": 25,
    "start_time": "2021-09-18T15:31:37.057Z"
   },
   {
    "duration": 10,
    "start_time": "2021-09-18T15:41:22.568Z"
   },
   {
    "duration": 224,
    "start_time": "2021-09-18T15:41:55.818Z"
   },
   {
    "duration": 84,
    "start_time": "2021-09-18T15:43:38.281Z"
   },
   {
    "duration": 80,
    "start_time": "2021-09-18T15:43:51.493Z"
   },
   {
    "duration": 86,
    "start_time": "2021-09-18T15:43:58.355Z"
   },
   {
    "duration": 415,
    "start_time": "2021-09-18T15:44:04.672Z"
   },
   {
    "duration": 362,
    "start_time": "2021-09-18T15:44:15.688Z"
   },
   {
    "duration": 614,
    "start_time": "2021-09-18T15:44:23.598Z"
   },
   {
    "duration": 9,
    "start_time": "2021-09-18T15:47:04.589Z"
   },
   {
    "duration": 360,
    "start_time": "2021-09-18T15:47:27.395Z"
   },
   {
    "duration": 11,
    "start_time": "2021-09-18T15:50:27.641Z"
   },
   {
    "duration": 4,
    "start_time": "2021-09-18T15:51:00.709Z"
   },
   {
    "duration": 258,
    "start_time": "2021-09-18T15:51:02.931Z"
   },
   {
    "duration": 540,
    "start_time": "2021-09-18T15:51:19.571Z"
   },
   {
    "duration": 15,
    "start_time": "2021-09-18T15:51:38.764Z"
   },
   {
    "duration": 252,
    "start_time": "2021-09-18T15:51:41.860Z"
   },
   {
    "duration": 10,
    "start_time": "2021-09-18T15:51:49.524Z"
   },
   {
    "duration": 262,
    "start_time": "2021-09-18T15:59:22.905Z"
   },
   {
    "duration": 260,
    "start_time": "2021-09-18T15:59:28.022Z"
   },
   {
    "duration": 87,
    "start_time": "2021-09-18T15:59:33.794Z"
   },
   {
    "duration": 280,
    "start_time": "2021-09-18T15:59:40.190Z"
   },
   {
    "duration": 258,
    "start_time": "2021-09-18T16:03:46.773Z"
   },
   {
    "duration": 9,
    "start_time": "2021-09-18T16:03:55.185Z"
   },
   {
    "duration": 386,
    "start_time": "2021-09-18T16:04:51.469Z"
   },
   {
    "duration": 9,
    "start_time": "2021-09-18T16:04:56.788Z"
   },
   {
    "duration": 5189,
    "start_time": "2021-09-18T16:05:28.294Z"
   },
   {
    "duration": 13,
    "start_time": "2021-09-18T16:12:27.909Z"
   },
   {
    "duration": 450,
    "start_time": "2021-09-18T16:13:07.561Z"
   },
   {
    "duration": 180,
    "start_time": "2021-09-18T16:13:23.923Z"
   },
   {
    "duration": 181,
    "start_time": "2021-09-18T16:13:32.876Z"
   },
   {
    "duration": 120,
    "start_time": "2021-09-18T16:20:50.314Z"
   },
   {
    "duration": 28,
    "start_time": "2021-09-18T16:37:56.830Z"
   },
   {
    "duration": 19,
    "start_time": "2021-09-18T18:23:12.813Z"
   },
   {
    "duration": 17,
    "start_time": "2021-09-18T18:24:37.983Z"
   },
   {
    "duration": 84,
    "start_time": "2021-09-18T18:27:41.023Z"
   },
   {
    "duration": 25,
    "start_time": "2021-09-18T18:28:13.421Z"
   },
   {
    "duration": 7,
    "start_time": "2021-09-18T18:28:30.303Z"
   },
   {
    "duration": 6,
    "start_time": "2021-09-18T18:28:45.916Z"
   },
   {
    "duration": 217,
    "start_time": "2021-09-18T18:28:54.589Z"
   },
   {
    "duration": 24,
    "start_time": "2021-09-18T18:33:53.264Z"
   },
   {
    "duration": 6,
    "start_time": "2021-09-18T18:34:16.342Z"
   },
   {
    "duration": 10,
    "start_time": "2021-09-18T18:34:50.358Z"
   },
   {
    "duration": 10,
    "start_time": "2021-09-18T18:56:45.162Z"
   },
   {
    "duration": 6,
    "start_time": "2021-09-18T18:57:01.115Z"
   },
   {
    "duration": 79,
    "start_time": "2021-09-18T19:00:48.006Z"
   },
   {
    "duration": 264,
    "start_time": "2021-09-18T19:00:54.628Z"
   },
   {
    "duration": 267,
    "start_time": "2021-09-18T19:01:28.135Z"
   },
   {
    "duration": 5,
    "start_time": "2021-09-18T19:01:33.054Z"
   },
   {
    "duration": 7,
    "start_time": "2021-09-18T19:01:35.899Z"
   },
   {
    "duration": 26,
    "start_time": "2021-09-18T19:01:53.862Z"
   },
   {
    "duration": 6,
    "start_time": "2021-09-18T19:03:25.030Z"
   },
   {
    "duration": 24,
    "start_time": "2021-09-18T19:04:51.595Z"
   },
   {
    "duration": 38,
    "start_time": "2021-09-18T19:05:46.667Z"
   },
   {
    "duration": 38,
    "start_time": "2021-09-18T19:06:51.798Z"
   },
   {
    "duration": 6946,
    "start_time": "2021-09-18T19:09:28.371Z"
   },
   {
    "duration": 23,
    "start_time": "2021-09-18T19:09:58.492Z"
   },
   {
    "duration": 6376,
    "start_time": "2021-09-18T19:10:26.195Z"
   },
   {
    "duration": 93,
    "start_time": "2021-09-18T19:14:22.527Z"
   },
   {
    "duration": 22,
    "start_time": "2021-09-18T19:14:30.747Z"
   },
   {
    "duration": 7,
    "start_time": "2021-09-18T19:14:35.369Z"
   },
   {
    "duration": 22,
    "start_time": "2021-09-18T19:14:50.198Z"
   },
   {
    "duration": 16,
    "start_time": "2021-09-18T19:25:59.591Z"
   },
   {
    "duration": 21,
    "start_time": "2021-09-18T19:26:33.694Z"
   },
   {
    "duration": 27,
    "start_time": "2021-09-18T19:26:37.322Z"
   },
   {
    "duration": 7,
    "start_time": "2021-09-18T19:27:15.706Z"
   },
   {
    "duration": 17,
    "start_time": "2021-09-18T19:27:52.100Z"
   },
   {
    "duration": 10,
    "start_time": "2021-09-18T19:27:53.907Z"
   },
   {
    "duration": 42,
    "start_time": "2021-09-18T19:27:56.683Z"
   },
   {
    "duration": 26,
    "start_time": "2021-09-18T19:47:29.835Z"
   },
   {
    "duration": 31,
    "start_time": "2021-09-18T19:47:38.817Z"
   },
   {
    "duration": 5,
    "start_time": "2021-09-18T19:53:45.708Z"
   },
   {
    "duration": 3,
    "start_time": "2021-09-18T19:53:49.896Z"
   },
   {
    "duration": 4,
    "start_time": "2021-09-18T19:54:05.998Z"
   },
   {
    "duration": 4,
    "start_time": "2021-09-18T19:54:20.020Z"
   },
   {
    "duration": 4,
    "start_time": "2021-09-18T19:54:36.404Z"
   },
   {
    "duration": 5,
    "start_time": "2021-09-18T19:56:28.101Z"
   },
   {
    "duration": 5,
    "start_time": "2021-09-18T20:00:08.057Z"
   },
   {
    "duration": 1450,
    "start_time": "2021-09-19T08:57:13.923Z"
   },
   {
    "duration": 638,
    "start_time": "2021-09-19T08:57:15.375Z"
   },
   {
    "duration": 172,
    "start_time": "2021-09-19T08:57:16.015Z"
   },
   {
    "duration": 756,
    "start_time": "2021-09-19T08:57:16.189Z"
   },
   {
    "duration": 272,
    "start_time": "2021-09-19T08:57:16.948Z"
   },
   {
    "duration": 73,
    "start_time": "2021-09-19T08:57:17.223Z"
   },
   {
    "duration": 633,
    "start_time": "2021-09-19T08:57:17.299Z"
   },
   {
    "duration": 66,
    "start_time": "2021-09-19T08:57:17.935Z"
   },
   {
    "duration": 82,
    "start_time": "2021-09-19T08:57:18.003Z"
   },
   {
    "duration": 98,
    "start_time": "2021-09-19T08:57:18.086Z"
   },
   {
    "duration": 13,
    "start_time": "2021-09-19T08:57:18.186Z"
   },
   {
    "duration": 16,
    "start_time": "2021-09-19T08:57:18.200Z"
   },
   {
    "duration": 23,
    "start_time": "2021-09-19T08:57:18.218Z"
   },
   {
    "duration": 159,
    "start_time": "2021-09-19T08:57:18.243Z"
   },
   {
    "duration": 12,
    "start_time": "2021-09-19T08:57:18.404Z"
   },
   {
    "duration": 9,
    "start_time": "2021-09-19T08:57:18.418Z"
   },
   {
    "duration": 5,
    "start_time": "2021-09-19T08:57:18.428Z"
   },
   {
    "duration": 13,
    "start_time": "2021-09-19T08:57:18.435Z"
   },
   {
    "duration": 32,
    "start_time": "2021-09-19T08:57:18.476Z"
   },
   {
    "duration": 4,
    "start_time": "2021-09-19T08:57:18.510Z"
   },
   {
    "duration": 5,
    "start_time": "2021-09-19T08:57:18.516Z"
   },
   {
    "duration": 30,
    "start_time": "2021-09-19T08:59:17.013Z"
   },
   {
    "duration": 11,
    "start_time": "2021-09-19T09:00:19.578Z"
   },
   {
    "duration": 24,
    "start_time": "2021-09-19T09:03:47.368Z"
   },
   {
    "duration": 20,
    "start_time": "2021-09-19T09:04:24.235Z"
   },
   {
    "duration": 23,
    "start_time": "2021-09-19T09:04:28.384Z"
   },
   {
    "duration": 593,
    "start_time": "2021-09-19T09:06:42.044Z"
   },
   {
    "duration": 6,
    "start_time": "2021-09-19T09:06:58.664Z"
   },
   {
    "duration": 10617,
    "start_time": "2021-09-19T09:08:26.947Z"
   },
   {
    "duration": 24,
    "start_time": "2021-09-19T09:08:50.774Z"
   },
   {
    "duration": 26,
    "start_time": "2021-09-19T09:08:55.968Z"
   },
   {
    "duration": 25,
    "start_time": "2021-09-19T09:09:18.364Z"
   },
   {
    "duration": 15,
    "start_time": "2021-09-19T09:26:25.799Z"
   },
   {
    "duration": 26,
    "start_time": "2021-09-19T09:26:34.872Z"
   },
   {
    "duration": 29,
    "start_time": "2021-09-19T09:27:04.226Z"
   },
   {
    "duration": 231,
    "start_time": "2021-09-19T09:27:25.591Z"
   },
   {
    "duration": 25,
    "start_time": "2021-09-19T09:27:28.107Z"
   },
   {
    "duration": 1747,
    "start_time": "2021-09-19T09:27:39.873Z"
   },
   {
    "duration": 675,
    "start_time": "2021-09-19T09:27:41.622Z"
   },
   {
    "duration": 190,
    "start_time": "2021-09-19T09:27:42.300Z"
   },
   {
    "duration": 848,
    "start_time": "2021-09-19T09:27:42.493Z"
   },
   {
    "duration": 286,
    "start_time": "2021-09-19T09:27:43.343Z"
   },
   {
    "duration": 50,
    "start_time": "2021-09-19T09:27:43.631Z"
   },
   {
    "duration": 639,
    "start_time": "2021-09-19T09:27:43.682Z"
   },
   {
    "duration": 57,
    "start_time": "2021-09-19T09:27:44.323Z"
   },
   {
    "duration": 25,
    "start_time": "2021-09-19T09:27:44.382Z"
   },
   {
    "duration": 77,
    "start_time": "2021-09-19T09:27:44.408Z"
   },
   {
    "duration": 6,
    "start_time": "2021-09-19T09:27:44.487Z"
   },
   {
    "duration": 11,
    "start_time": "2021-09-19T09:27:44.495Z"
   },
   {
    "duration": 109,
    "start_time": "2021-09-19T09:27:44.507Z"
   },
   {
    "duration": 225,
    "start_time": "2021-09-19T09:27:44.619Z"
   },
   {
    "duration": 26,
    "start_time": "2021-09-19T09:27:44.857Z"
   },
   {
    "duration": 40,
    "start_time": "2021-09-19T09:27:44.892Z"
   },
   {
    "duration": 13,
    "start_time": "2021-09-19T09:27:44.935Z"
   },
   {
    "duration": 28,
    "start_time": "2021-09-19T09:27:44.951Z"
   },
   {
    "duration": 36,
    "start_time": "2021-09-19T09:27:44.981Z"
   },
   {
    "duration": 14,
    "start_time": "2021-09-19T09:27:45.019Z"
   },
   {
    "duration": 45,
    "start_time": "2021-09-19T09:27:45.035Z"
   },
   {
    "duration": 15,
    "start_time": "2021-09-19T09:30:01.156Z"
   },
   {
    "duration": 1509,
    "start_time": "2021-09-19T09:40:03.030Z"
   },
   {
    "duration": 642,
    "start_time": "2021-09-19T09:40:04.541Z"
   },
   {
    "duration": 176,
    "start_time": "2021-09-19T09:40:05.185Z"
   },
   {
    "duration": 1269,
    "start_time": "2021-09-19T09:40:05.363Z"
   },
   {
    "duration": 285,
    "start_time": "2021-09-19T09:40:06.634Z"
   },
   {
    "duration": 71,
    "start_time": "2021-09-19T09:40:06.920Z"
   },
   {
    "duration": 718,
    "start_time": "2021-09-19T09:40:06.993Z"
   },
   {
    "duration": 41,
    "start_time": "2021-09-19T09:40:07.713Z"
   },
   {
    "duration": 30,
    "start_time": "2021-09-19T09:40:07.757Z"
   },
   {
    "duration": 190,
    "start_time": "2021-09-19T09:40:07.789Z"
   },
   {
    "duration": 17,
    "start_time": "2021-09-19T09:40:07.981Z"
   },
   {
    "duration": 77,
    "start_time": "2021-09-19T09:40:08.000Z"
   },
   {
    "duration": 34,
    "start_time": "2021-09-19T09:40:08.079Z"
   },
   {
    "duration": 403,
    "start_time": "2021-09-19T09:40:08.115Z"
   },
   {
    "duration": 72,
    "start_time": "2021-09-19T09:40:08.520Z"
   },
   {
    "duration": 12,
    "start_time": "2021-09-19T09:40:08.594Z"
   },
   {
    "duration": 19,
    "start_time": "2021-09-19T09:40:08.608Z"
   },
   {
    "duration": 13,
    "start_time": "2021-09-19T09:40:08.677Z"
   },
   {
    "duration": 29,
    "start_time": "2021-09-19T09:40:08.692Z"
   },
   {
    "duration": 76,
    "start_time": "2021-09-19T09:40:08.722Z"
   },
   {
    "duration": 3,
    "start_time": "2021-09-19T09:45:48.925Z"
   },
   {
    "duration": 1067,
    "start_time": "2021-09-19T09:46:15.931Z"
   },
   {
    "duration": 598,
    "start_time": "2021-09-19T09:46:26.446Z"
   },
   {
    "duration": 36,
    "start_time": "2021-09-19T09:46:35.994Z"
   },
   {
    "duration": 45,
    "start_time": "2021-09-19T09:47:30.428Z"
   },
   {
    "duration": 3,
    "start_time": "2021-09-19T09:48:32.790Z"
   },
   {
    "duration": 44,
    "start_time": "2021-09-19T09:48:34.630Z"
   },
   {
    "duration": 3,
    "start_time": "2021-09-19T09:48:50.617Z"
   },
   {
    "duration": 44,
    "start_time": "2021-09-19T09:48:52.383Z"
   },
   {
    "duration": 7848,
    "start_time": "2021-09-19T09:51:36.307Z"
   },
   {
    "duration": 5,
    "start_time": "2021-09-19T09:51:53.142Z"
   },
   {
    "duration": 1609,
    "start_time": "2021-09-19T09:52:41.776Z"
   },
   {
    "duration": 637,
    "start_time": "2021-09-19T09:52:43.387Z"
   },
   {
    "duration": 189,
    "start_time": "2021-09-19T09:52:44.026Z"
   },
   {
    "duration": 692,
    "start_time": "2021-09-19T09:52:44.217Z"
   },
   {
    "duration": 277,
    "start_time": "2021-09-19T09:52:44.911Z"
   },
   {
    "duration": 66,
    "start_time": "2021-09-19T09:52:45.190Z"
   },
   {
    "duration": 636,
    "start_time": "2021-09-19T09:52:45.258Z"
   },
   {
    "duration": 87,
    "start_time": "2021-09-19T09:52:45.897Z"
   },
   {
    "duration": 24,
    "start_time": "2021-09-19T09:52:45.986Z"
   },
   {
    "duration": 3,
    "start_time": "2021-09-19T09:52:46.012Z"
   },
   {
    "duration": 94,
    "start_time": "2021-09-19T09:52:46.016Z"
   },
   {
    "duration": 13,
    "start_time": "2021-09-19T09:52:46.112Z"
   },
   {
    "duration": 55,
    "start_time": "2021-09-19T09:52:46.126Z"
   },
   {
    "duration": 26,
    "start_time": "2021-09-19T09:52:46.183Z"
   },
   {
    "duration": 150,
    "start_time": "2021-09-19T09:52:46.211Z"
   },
   {
    "duration": 22,
    "start_time": "2021-09-19T09:52:46.362Z"
   },
   {
    "duration": 10,
    "start_time": "2021-09-19T09:52:46.386Z"
   },
   {
    "duration": 5,
    "start_time": "2021-09-19T09:52:46.398Z"
   },
   {
    "duration": 25,
    "start_time": "2021-09-19T09:52:46.405Z"
   },
   {
    "duration": 11,
    "start_time": "2021-09-19T09:52:46.432Z"
   },
   {
    "duration": 43,
    "start_time": "2021-09-19T09:52:46.445Z"
   },
   {
    "duration": 30,
    "start_time": "2021-09-19T09:52:46.490Z"
   },
   {
    "duration": 27,
    "start_time": "2021-09-19T09:52:46.523Z"
   },
   {
    "duration": 2,
    "start_time": "2021-09-19T10:14:18.264Z"
   },
   {
    "duration": 22,
    "start_time": "2021-09-19T10:21:45.363Z"
   },
   {
    "duration": 29,
    "start_time": "2021-09-19T10:22:33.171Z"
   },
   {
    "duration": 6,
    "start_time": "2021-09-19T10:47:19.832Z"
   },
   {
    "duration": 558,
    "start_time": "2021-09-19T10:48:20.645Z"
   },
   {
    "duration": 6,
    "start_time": "2021-09-19T10:48:26.282Z"
   },
   {
    "duration": 720,
    "start_time": "2021-09-19T10:48:29.042Z"
   },
   {
    "duration": 6,
    "start_time": "2021-09-19T10:48:38.919Z"
   },
   {
    "duration": 73,
    "start_time": "2021-09-19T10:48:40.757Z"
   },
   {
    "duration": 6,
    "start_time": "2021-09-19T10:48:53.591Z"
   },
   {
    "duration": 71,
    "start_time": "2021-09-19T10:48:55.903Z"
   },
   {
    "duration": 2,
    "start_time": "2021-09-19T10:50:10.916Z"
   },
   {
    "duration": 6,
    "start_time": "2021-09-19T10:50:16.117Z"
   },
   {
    "duration": 4,
    "start_time": "2021-09-19T10:50:20.766Z"
   },
   {
    "duration": 19,
    "start_time": "2021-09-19T10:50:34.038Z"
   },
   {
    "duration": 7,
    "start_time": "2021-09-19T10:50:40.431Z"
   },
   {
    "duration": 20,
    "start_time": "2021-09-19T10:51:14.179Z"
   },
   {
    "duration": 7,
    "start_time": "2021-09-19T10:51:16.190Z"
   },
   {
    "duration": 14,
    "start_time": "2021-09-19T10:51:58.052Z"
   },
   {
    "duration": 7,
    "start_time": "2021-09-19T10:52:04.310Z"
   },
   {
    "duration": 14,
    "start_time": "2021-09-19T10:52:28.417Z"
   },
   {
    "duration": 7,
    "start_time": "2021-09-19T10:52:30.058Z"
   },
   {
    "duration": 7,
    "start_time": "2021-09-19T10:52:56.939Z"
   },
   {
    "duration": 7,
    "start_time": "2021-09-19T10:53:00.716Z"
   },
   {
    "duration": 4,
    "start_time": "2021-09-19T10:53:28.923Z"
   },
   {
    "duration": 8,
    "start_time": "2021-09-19T10:53:36.794Z"
   },
   {
    "duration": 4,
    "start_time": "2021-09-19T10:54:24.062Z"
   },
   {
    "duration": 4,
    "start_time": "2021-09-19T10:54:28.637Z"
   },
   {
    "duration": 4,
    "start_time": "2021-09-19T10:54:32.997Z"
   },
   {
    "duration": 8,
    "start_time": "2021-09-19T11:01:17.633Z"
   },
   {
    "duration": 794,
    "start_time": "2021-09-19T11:01:19.525Z"
   },
   {
    "duration": 6,
    "start_time": "2021-09-19T11:01:44.019Z"
   },
   {
    "duration": 752,
    "start_time": "2021-09-19T11:01:46.555Z"
   },
   {
    "duration": 6,
    "start_time": "2021-09-19T11:01:58.378Z"
   },
   {
    "duration": 791,
    "start_time": "2021-09-19T11:02:00.538Z"
   },
   {
    "duration": 7,
    "start_time": "2021-09-19T11:03:39.622Z"
   },
   {
    "duration": 69,
    "start_time": "2021-09-19T11:03:41.541Z"
   },
   {
    "duration": 6,
    "start_time": "2021-09-19T11:03:58.117Z"
   },
   {
    "duration": 81,
    "start_time": "2021-09-19T11:04:00.087Z"
   },
   {
    "duration": 6,
    "start_time": "2021-09-19T11:04:41.651Z"
   },
   {
    "duration": 72,
    "start_time": "2021-09-19T11:04:43.373Z"
   },
   {
    "duration": 5,
    "start_time": "2021-09-19T11:05:07.548Z"
   },
   {
    "duration": 762,
    "start_time": "2021-09-19T11:05:07.944Z"
   },
   {
    "duration": 6,
    "start_time": "2021-09-19T11:05:32.995Z"
   },
   {
    "duration": 74,
    "start_time": "2021-09-19T11:05:34.299Z"
   },
   {
    "duration": 5,
    "start_time": "2021-09-19T11:05:54.063Z"
   },
   {
    "duration": 71,
    "start_time": "2021-09-19T11:05:56.060Z"
   },
   {
    "duration": 6,
    "start_time": "2021-09-19T11:06:17.502Z"
   },
   {
    "duration": 71,
    "start_time": "2021-09-19T11:06:18.425Z"
   },
   {
    "duration": 6,
    "start_time": "2021-09-19T11:06:24.223Z"
   },
   {
    "duration": 81,
    "start_time": "2021-09-19T11:06:27.106Z"
   },
   {
    "duration": 29,
    "start_time": "2021-09-19T11:14:54.773Z"
   },
   {
    "duration": 11111,
    "start_time": "2021-09-19T11:19:01.639Z"
   },
   {
    "duration": 130,
    "start_time": "2021-09-19T11:20:46.457Z"
   },
   {
    "duration": 371,
    "start_time": "2021-09-19T11:29:27.740Z"
   },
   {
    "duration": 26,
    "start_time": "2021-09-19T11:30:49.056Z"
   },
   {
    "duration": 22,
    "start_time": "2021-09-19T11:30:56.154Z"
   },
   {
    "duration": 26,
    "start_time": "2021-09-19T11:31:07.773Z"
   },
   {
    "duration": 381,
    "start_time": "2021-09-19T11:31:34.313Z"
   },
   {
    "duration": 14984,
    "start_time": "2021-09-19T11:32:50.952Z"
   },
   {
    "duration": 5,
    "start_time": "2021-09-19T11:33:24.773Z"
   },
   {
    "duration": 388,
    "start_time": "2021-09-19T11:33:30.400Z"
   },
   {
    "duration": 577,
    "start_time": "2021-09-19T11:35:10.694Z"
   },
   {
    "duration": 126,
    "start_time": "2021-09-19T11:38:01.065Z"
   },
   {
    "duration": 348,
    "start_time": "2021-09-19T11:39:14.686Z"
   },
   {
    "duration": 549,
    "start_time": "2021-09-19T11:39:32.315Z"
   },
   {
    "duration": 115,
    "start_time": "2021-09-19T11:40:45.122Z"
   },
   {
    "duration": 3625,
    "start_time": "2021-09-19T11:41:07.027Z"
   },
   {
    "duration": 402,
    "start_time": "2021-09-19T11:41:19.330Z"
   },
   {
    "duration": 350,
    "start_time": "2021-09-19T11:41:23.677Z"
   },
   {
    "duration": 353,
    "start_time": "2021-09-19T11:42:44.643Z"
   },
   {
    "duration": 482,
    "start_time": "2021-09-19T11:48:09.145Z"
   },
   {
    "duration": 647,
    "start_time": "2021-09-19T11:48:36.928Z"
   },
   {
    "duration": 556,
    "start_time": "2021-09-19T11:49:11.529Z"
   },
   {
    "duration": 6,
    "start_time": "2021-09-19T11:49:26.112Z"
   },
   {
    "duration": 5,
    "start_time": "2021-09-19T11:49:37.637Z"
   },
   {
    "duration": 5,
    "start_time": "2021-09-19T11:49:48.044Z"
   },
   {
    "duration": 565,
    "start_time": "2021-09-19T11:50:09.994Z"
   },
   {
    "duration": 114,
    "start_time": "2021-09-19T11:50:17.556Z"
   },
   {
    "duration": 111,
    "start_time": "2021-09-19T11:50:40.952Z"
   },
   {
    "duration": 634,
    "start_time": "2021-09-19T11:50:47.710Z"
   },
   {
    "duration": 587,
    "start_time": "2021-09-19T11:50:52.626Z"
   },
   {
    "duration": 111,
    "start_time": "2021-09-19T11:51:37.980Z"
   },
   {
    "duration": 112,
    "start_time": "2021-09-19T11:52:08.646Z"
   },
   {
    "duration": 615,
    "start_time": "2021-09-19T11:52:19.688Z"
   },
   {
    "duration": 108,
    "start_time": "2021-09-19T11:52:41.913Z"
   },
   {
    "duration": 133,
    "start_time": "2021-09-19T11:54:04.981Z"
   },
   {
    "duration": 131,
    "start_time": "2021-09-19T11:54:30.535Z"
   },
   {
    "duration": 112,
    "start_time": "2021-09-19T11:54:56.429Z"
   },
   {
    "duration": 114,
    "start_time": "2021-09-19T11:55:14.835Z"
   },
   {
    "duration": 125,
    "start_time": "2021-09-19T11:55:24.761Z"
   },
   {
    "duration": 142,
    "start_time": "2021-09-19T11:55:38.769Z"
   },
   {
    "duration": 114,
    "start_time": "2021-09-19T11:56:37.468Z"
   },
   {
    "duration": 623,
    "start_time": "2021-09-19T11:56:44.503Z"
   },
   {
    "duration": 136,
    "start_time": "2021-09-19T11:57:00.466Z"
   },
   {
    "duration": 141,
    "start_time": "2021-09-19T11:57:59.584Z"
   },
   {
    "duration": 128,
    "start_time": "2021-09-19T11:58:05.058Z"
   },
   {
    "duration": 8,
    "start_time": "2021-09-19T12:01:11.023Z"
   },
   {
    "duration": 381,
    "start_time": "2021-09-19T12:01:12.720Z"
   },
   {
    "duration": 8,
    "start_time": "2021-09-19T12:01:50.370Z"
   },
   {
    "duration": 213,
    "start_time": "2021-09-19T12:01:54.226Z"
   },
   {
    "duration": 8,
    "start_time": "2021-09-19T12:03:48.305Z"
   },
   {
    "duration": 198,
    "start_time": "2021-09-19T12:03:51.017Z"
   },
   {
    "duration": 8,
    "start_time": "2021-09-19T12:23:34.977Z"
   },
   {
    "duration": 207,
    "start_time": "2021-09-19T12:23:37.487Z"
   },
   {
    "duration": 172,
    "start_time": "2021-09-19T12:28:38.668Z"
   },
   {
    "duration": 197,
    "start_time": "2021-09-19T12:28:52.110Z"
   },
   {
    "duration": 28,
    "start_time": "2021-09-19T12:28:55.036Z"
   },
   {
    "duration": 26,
    "start_time": "2021-09-19T12:29:00.172Z"
   },
   {
    "duration": 2435,
    "start_time": "2021-09-19T12:35:13.417Z"
   },
   {
    "duration": 1290,
    "start_time": "2021-09-19T12:35:15.854Z"
   },
   {
    "duration": 708,
    "start_time": "2021-09-19T12:35:17.146Z"
   },
   {
    "duration": 202,
    "start_time": "2021-09-19T12:35:17.856Z"
   },
   {
    "duration": 726,
    "start_time": "2021-09-19T12:35:18.061Z"
   },
   {
    "duration": 292,
    "start_time": "2021-09-19T12:35:18.789Z"
   },
   {
    "duration": 72,
    "start_time": "2021-09-19T12:35:19.084Z"
   },
   {
    "duration": 268,
    "start_time": "2021-09-19T12:35:19.157Z"
   },
   {
    "duration": 78,
    "start_time": "2021-09-19T12:35:19.428Z"
   },
   {
    "duration": 82,
    "start_time": "2021-09-19T12:35:19.508Z"
   },
   {
    "duration": 4,
    "start_time": "2021-09-19T12:35:19.592Z"
   },
   {
    "duration": 92,
    "start_time": "2021-09-19T12:35:19.598Z"
   },
   {
    "duration": 13,
    "start_time": "2021-09-19T12:35:19.693Z"
   },
   {
    "duration": 17,
    "start_time": "2021-09-19T12:35:19.709Z"
   },
   {
    "duration": 52,
    "start_time": "2021-09-19T12:35:19.728Z"
   },
   {
    "duration": 26,
    "start_time": "2021-09-19T12:35:19.782Z"
   },
   {
    "duration": 14,
    "start_time": "2021-09-19T12:35:19.810Z"
   },
   {
    "duration": 10,
    "start_time": "2021-09-19T12:35:19.826Z"
   },
   {
    "duration": 45,
    "start_time": "2021-09-19T12:35:19.838Z"
   },
   {
    "duration": 14,
    "start_time": "2021-09-19T12:35:19.885Z"
   },
   {
    "duration": 14,
    "start_time": "2021-09-19T12:35:19.901Z"
   },
   {
    "duration": 29,
    "start_time": "2021-09-19T12:35:19.917Z"
   },
   {
    "duration": 56,
    "start_time": "2021-09-19T12:35:19.948Z"
   },
   {
    "duration": 9,
    "start_time": "2021-09-19T12:35:20.007Z"
   },
   {
    "duration": 216,
    "start_time": "2021-09-19T12:35:20.018Z"
   },
   {
    "duration": 15834,
    "start_time": "2021-09-20T13:03:51.813Z"
   },
   {
    "duration": 1129,
    "start_time": "2021-09-20T13:04:07.649Z"
   },
   {
    "duration": 607,
    "start_time": "2021-09-20T13:04:08.780Z"
   },
   {
    "duration": 160,
    "start_time": "2021-09-20T13:04:09.389Z"
   },
   {
    "duration": 3009,
    "start_time": "2021-09-20T13:04:09.550Z"
   },
   {
    "duration": 229,
    "start_time": "2021-09-20T13:04:12.560Z"
   },
   {
    "duration": 69,
    "start_time": "2021-09-20T13:04:12.791Z"
   },
   {
    "duration": 907,
    "start_time": "2021-09-20T13:04:12.862Z"
   },
   {
    "duration": 49,
    "start_time": "2021-09-20T13:04:13.771Z"
   },
   {
    "duration": 24,
    "start_time": "2021-09-20T13:04:13.822Z"
   },
   {
    "duration": 3,
    "start_time": "2021-09-20T13:04:13.900Z"
   },
   {
    "duration": 45,
    "start_time": "2021-09-20T13:04:13.904Z"
   },
   {
    "duration": 59,
    "start_time": "2021-09-20T13:04:13.951Z"
   },
   {
    "duration": 17,
    "start_time": "2021-09-20T13:04:14.011Z"
   },
   {
    "duration": 24,
    "start_time": "2021-09-20T13:04:14.029Z"
   },
   {
    "duration": 54,
    "start_time": "2021-09-20T13:04:14.054Z"
   },
   {
    "duration": 14,
    "start_time": "2021-09-20T13:04:14.110Z"
   },
   {
    "duration": 9,
    "start_time": "2021-09-20T13:04:14.125Z"
   },
   {
    "duration": 9,
    "start_time": "2021-09-20T13:04:14.136Z"
   },
   {
    "duration": 9,
    "start_time": "2021-09-20T13:04:14.147Z"
   },
   {
    "duration": 11,
    "start_time": "2021-09-20T13:04:14.157Z"
   },
   {
    "duration": 29,
    "start_time": "2021-09-20T13:04:14.199Z"
   },
   {
    "duration": 23,
    "start_time": "2021-09-20T13:04:14.229Z"
   },
   {
    "duration": 10,
    "start_time": "2021-09-20T13:04:14.253Z"
   },
   {
    "duration": 188,
    "start_time": "2021-09-20T13:04:14.264Z"
   },
   {
    "duration": 22852,
    "start_time": "2021-09-20T16:57:18.148Z"
   },
   {
    "duration": 1490,
    "start_time": "2021-09-20T16:57:41.002Z"
   },
   {
    "duration": 681,
    "start_time": "2021-09-20T16:57:42.494Z"
   },
   {
    "duration": 188,
    "start_time": "2021-09-20T16:57:43.177Z"
   },
   {
    "duration": 711,
    "start_time": "2021-09-20T16:57:43.367Z"
   },
   {
    "duration": 267,
    "start_time": "2021-09-20T16:57:44.080Z"
   },
   {
    "duration": 27,
    "start_time": "2021-09-20T16:57:44.349Z"
   },
   {
    "duration": 42,
    "start_time": "2021-09-20T16:57:44.380Z"
   },
   {
    "duration": 245,
    "start_time": "2021-09-20T16:57:44.425Z"
   },
   {
    "duration": 20,
    "start_time": "2021-09-20T16:57:44.672Z"
   },
   {
    "duration": 28,
    "start_time": "2021-09-20T16:57:44.693Z"
   },
   {
    "duration": 3,
    "start_time": "2021-09-20T16:57:44.722Z"
   },
   {
    "duration": 66,
    "start_time": "2021-09-20T16:57:44.727Z"
   },
   {
    "duration": 6,
    "start_time": "2021-09-20T16:57:44.794Z"
   },
   {
    "duration": 9,
    "start_time": "2021-09-20T16:57:44.802Z"
   },
   {
    "duration": 77,
    "start_time": "2021-09-20T16:57:44.813Z"
   },
   {
    "duration": 22,
    "start_time": "2021-09-20T16:57:44.892Z"
   },
   {
    "duration": 8,
    "start_time": "2021-09-20T16:57:44.916Z"
   },
   {
    "duration": 53,
    "start_time": "2021-09-20T16:57:44.926Z"
   },
   {
    "duration": 5,
    "start_time": "2021-09-20T16:57:44.981Z"
   },
   {
    "duration": 12,
    "start_time": "2021-09-20T16:57:44.988Z"
   },
   {
    "duration": 14,
    "start_time": "2021-09-20T16:57:45.002Z"
   },
   {
    "duration": 64,
    "start_time": "2021-09-20T16:57:45.019Z"
   },
   {
    "duration": 26,
    "start_time": "2021-09-20T16:57:45.084Z"
   },
   {
    "duration": 95,
    "start_time": "2021-09-20T16:57:45.112Z"
   },
   {
    "duration": 107,
    "start_time": "2021-09-20T16:57:45.209Z"
   },
   {
    "duration": 35,
    "start_time": "2021-09-20T17:37:52.234Z"
   },
   {
    "duration": 40,
    "start_time": "2021-09-20T17:37:55.630Z"
   },
   {
    "duration": 35,
    "start_time": "2021-09-20T17:38:11.924Z"
   },
   {
    "duration": 41,
    "start_time": "2021-09-20T17:38:15.634Z"
   },
   {
    "duration": 41,
    "start_time": "2021-09-20T17:38:55.458Z"
   },
   {
    "duration": 2326,
    "start_time": "2021-09-20T17:39:04.818Z"
   },
   {
    "duration": 1333,
    "start_time": "2021-09-20T17:39:07.146Z"
   },
   {
    "duration": 659,
    "start_time": "2021-09-20T17:39:08.481Z"
   },
   {
    "duration": 188,
    "start_time": "2021-09-20T17:39:09.142Z"
   },
   {
    "duration": 686,
    "start_time": "2021-09-20T17:39:09.332Z"
   },
   {
    "duration": 377,
    "start_time": "2021-09-20T17:39:10.020Z"
   },
   {
    "duration": 15,
    "start_time": "2021-09-20T17:39:10.398Z"
   },
   {
    "duration": 43,
    "start_time": "2021-09-20T17:39:10.415Z"
   },
   {
    "duration": 242,
    "start_time": "2021-09-20T17:39:10.460Z"
   },
   {
    "duration": 20,
    "start_time": "2021-09-20T17:39:10.703Z"
   },
   {
    "duration": 62,
    "start_time": "2021-09-20T17:39:10.724Z"
   },
   {
    "duration": 2,
    "start_time": "2021-09-20T17:39:10.788Z"
   },
   {
    "duration": 32,
    "start_time": "2021-09-20T17:39:10.792Z"
   },
   {
    "duration": 52,
    "start_time": "2021-09-20T17:39:10.825Z"
   },
   {
    "duration": 15,
    "start_time": "2021-09-20T17:39:10.878Z"
   },
   {
    "duration": 34,
    "start_time": "2021-09-20T17:39:10.895Z"
   },
   {
    "duration": 68,
    "start_time": "2021-09-20T17:39:10.931Z"
   },
   {
    "duration": 8,
    "start_time": "2021-09-20T17:39:11.001Z"
   },
   {
    "duration": 7,
    "start_time": "2021-09-20T17:39:11.011Z"
   },
   {
    "duration": 6,
    "start_time": "2021-09-20T17:39:11.020Z"
   },
   {
    "duration": 10,
    "start_time": "2021-09-20T17:39:11.028Z"
   },
   {
    "duration": 49,
    "start_time": "2021-09-20T17:39:11.040Z"
   },
   {
    "duration": 28,
    "start_time": "2021-09-20T17:39:11.092Z"
   },
   {
    "duration": 26,
    "start_time": "2021-09-20T17:39:11.122Z"
   },
   {
    "duration": 102,
    "start_time": "2021-09-20T17:39:11.150Z"
   },
   {
    "duration": 107,
    "start_time": "2021-09-20T17:39:11.254Z"
   },
   {
    "duration": 39,
    "start_time": "2021-09-20T17:40:35.868Z"
   },
   {
    "duration": 39,
    "start_time": "2021-09-20T17:40:47.722Z"
   },
   {
    "duration": 42,
    "start_time": "2021-09-20T17:40:58.829Z"
   },
   {
    "duration": 40,
    "start_time": "2021-09-20T17:41:25.195Z"
   },
   {
    "duration": 494,
    "start_time": "2021-09-20T17:41:53.193Z"
   },
   {
    "duration": 58,
    "start_time": "2021-09-20T17:42:09.302Z"
   },
   {
    "duration": 57,
    "start_time": "2021-09-20T17:42:27.420Z"
   },
   {
    "duration": 41,
    "start_time": "2021-09-20T17:42:46.822Z"
   },
   {
    "duration": 39,
    "start_time": "2021-09-20T17:54:38.141Z"
   },
   {
    "duration": 42,
    "start_time": "2021-09-20T17:55:02.225Z"
   },
   {
    "duration": 15,
    "start_time": "2021-09-20T17:55:04.817Z"
   },
   {
    "duration": 39,
    "start_time": "2021-09-20T17:55:30.871Z"
   },
   {
    "duration": 38,
    "start_time": "2021-09-20T17:55:49.734Z"
   },
   {
    "duration": 40,
    "start_time": "2021-09-20T17:57:17.501Z"
   },
   {
    "duration": 23,
    "start_time": "2021-09-20T17:57:32.719Z"
   },
   {
    "duration": 37,
    "start_time": "2021-09-20T17:57:44.872Z"
   },
   {
    "duration": 40,
    "start_time": "2021-09-20T17:59:09.664Z"
   },
   {
    "duration": 41,
    "start_time": "2021-09-20T17:59:33.450Z"
   },
   {
    "duration": 40,
    "start_time": "2021-09-20T17:59:41.734Z"
   },
   {
    "duration": 43,
    "start_time": "2021-09-20T18:00:11.542Z"
   },
   {
    "duration": 37,
    "start_time": "2021-09-20T18:00:37.557Z"
   },
   {
    "duration": 41,
    "start_time": "2021-09-20T18:00:43.648Z"
   },
   {
    "duration": 37,
    "start_time": "2021-09-20T18:01:21.177Z"
   },
   {
    "duration": 40,
    "start_time": "2021-09-20T18:01:25.435Z"
   },
   {
    "duration": 39,
    "start_time": "2021-09-20T18:01:46.252Z"
   },
   {
    "duration": 18,
    "start_time": "2021-09-20T18:02:02.289Z"
   },
   {
    "duration": 37,
    "start_time": "2021-09-20T18:02:27.538Z"
   },
   {
    "duration": 44,
    "start_time": "2021-09-20T18:03:29.920Z"
   },
   {
    "duration": 44,
    "start_time": "2021-09-20T18:03:55.484Z"
   },
   {
    "duration": 44,
    "start_time": "2021-09-20T18:04:32.101Z"
   },
   {
    "duration": 43,
    "start_time": "2021-09-20T18:04:58.742Z"
   },
   {
    "duration": 42,
    "start_time": "2021-09-20T18:05:08.386Z"
   },
   {
    "duration": 38,
    "start_time": "2021-09-20T18:06:56.430Z"
   },
   {
    "duration": 35,
    "start_time": "2021-09-20T18:07:59.407Z"
   },
   {
    "duration": 40,
    "start_time": "2021-09-20T18:08:04.158Z"
   },
   {
    "duration": 15,
    "start_time": "2021-09-20T18:08:16.738Z"
   },
   {
    "duration": 124,
    "start_time": "2021-09-20T18:16:27.695Z"
   },
   {
    "duration": 130,
    "start_time": "2021-09-20T18:23:55.949Z"
   },
   {
    "duration": 10,
    "start_time": "2021-09-20T18:24:20.659Z"
   },
   {
    "duration": 6,
    "start_time": "2021-09-20T18:24:23.099Z"
   },
   {
    "duration": 12,
    "start_time": "2021-09-20T18:26:41.920Z"
   },
   {
    "duration": 6,
    "start_time": "2021-09-20T18:28:08.067Z"
   },
   {
    "duration": 13,
    "start_time": "2021-09-20T18:28:11.649Z"
   },
   {
    "duration": 4,
    "start_time": "2021-09-20T18:29:33.972Z"
   },
   {
    "duration": 7,
    "start_time": "2021-09-20T18:29:35.087Z"
   },
   {
    "duration": 14,
    "start_time": "2021-09-20T18:31:05.109Z"
   },
   {
    "duration": 12,
    "start_time": "2021-09-20T18:31:10.741Z"
   },
   {
    "duration": 34,
    "start_time": "2021-09-20T18:31:14.576Z"
   },
   {
    "duration": 35,
    "start_time": "2021-09-20T18:35:34.186Z"
   },
   {
    "duration": 37,
    "start_time": "2021-09-20T18:36:18.390Z"
   },
   {
    "duration": 419,
    "start_time": "2021-09-20T18:36:32.744Z"
   },
   {
    "duration": 10681,
    "start_time": "2021-09-20T18:36:41.006Z"
   },
   {
    "duration": 34,
    "start_time": "2021-09-20T18:38:04.283Z"
   },
   {
    "duration": 37,
    "start_time": "2021-09-20T18:38:45.958Z"
   },
   {
    "duration": 43,
    "start_time": "2021-09-20T18:39:12.444Z"
   },
   {
    "duration": 9,
    "start_time": "2021-09-20T18:55:42.576Z"
   },
   {
    "duration": -3242,
    "start_time": "2021-09-20T18:56:03.612Z"
   },
   {
    "duration": 9,
    "start_time": "2021-09-20T18:56:03.414Z"
   },
   {
    "duration": 8,
    "start_time": "2021-09-20T18:56:24.264Z"
   },
   {
    "duration": 9,
    "start_time": "2021-09-20T18:56:28.088Z"
   },
   {
    "duration": 9539,
    "start_time": "2021-09-20T18:56:32.578Z"
   },
   {
    "duration": 5,
    "start_time": "2021-09-20T18:57:39.643Z"
   },
   {
    "duration": -2518,
    "start_time": "2021-09-20T18:58:29.431Z"
   },
   {
    "duration": 6,
    "start_time": "2021-09-20T18:58:35.353Z"
   },
   {
    "duration": 6,
    "start_time": "2021-09-20T18:59:00.701Z"
   },
   {
    "duration": 341,
    "start_time": "2021-09-20T18:59:03.717Z"
   },
   {
    "duration": 6,
    "start_time": "2021-09-20T18:59:12.532Z"
   },
   {
    "duration": 655,
    "start_time": "2021-09-20T19:00:29.535Z"
   },
   {
    "duration": 4,
    "start_time": "2021-09-20T19:01:08.030Z"
   },
   {
    "duration": 7,
    "start_time": "2021-09-20T19:01:10.986Z"
   },
   {
    "duration": 6782,
    "start_time": "2021-09-20T19:02:45.550Z"
   },
   {
    "duration": 8454,
    "start_time": "2021-09-20T19:03:57.809Z"
   },
   {
    "duration": 6834,
    "start_time": "2021-09-20T19:04:29.542Z"
   },
   {
    "duration": 6,
    "start_time": "2021-09-20T19:07:32.104Z"
   },
   {
    "duration": 588,
    "start_time": "2021-09-20T19:07:51.147Z"
   },
   {
    "duration": 9,
    "start_time": "2021-09-20T19:08:19.025Z"
   },
   {
    "duration": 8,
    "start_time": "2021-09-20T19:08:35.112Z"
   },
   {
    "duration": 8,
    "start_time": "2021-09-20T19:08:52.548Z"
   },
   {
    "duration": 8,
    "start_time": "2021-09-20T19:09:53.042Z"
   },
   {
    "duration": 8,
    "start_time": "2021-09-20T19:11:28.559Z"
   },
   {
    "duration": 627,
    "start_time": "2021-09-20T19:11:55.899Z"
   },
   {
    "duration": 8,
    "start_time": "2021-09-20T19:12:10.965Z"
   },
   {
    "duration": 8,
    "start_time": "2021-09-20T19:12:34.590Z"
   },
   {
    "duration": 8,
    "start_time": "2021-09-20T19:12:45.002Z"
   },
   {
    "duration": 33,
    "start_time": "2021-09-20T19:19:22.904Z"
   },
   {
    "duration": 8,
    "start_time": "2021-09-20T19:19:41.782Z"
   },
   {
    "duration": 101,
    "start_time": "2021-09-20T19:19:45.427Z"
   },
   {
    "duration": 10,
    "start_time": "2021-09-20T19:21:31.093Z"
   },
   {
    "duration": 10,
    "start_time": "2021-09-20T19:23:08.063Z"
   },
   {
    "duration": 9,
    "start_time": "2021-09-20T19:23:32.745Z"
   },
   {
    "duration": 9106,
    "start_time": "2021-09-20T19:24:21.136Z"
   },
   {
    "duration": 9,
    "start_time": "2021-09-20T19:24:34.743Z"
   },
   {
    "duration": 443,
    "start_time": "2021-09-20T19:30:14.412Z"
   },
   {
    "duration": 110,
    "start_time": "2021-09-20T19:30:21.929Z"
   },
   {
    "duration": 120,
    "start_time": "2021-09-20T19:31:08.089Z"
   },
   {
    "duration": 12,
    "start_time": "2021-09-20T19:32:42.368Z"
   },
   {
    "duration": 30,
    "start_time": "2021-09-20T19:32:54.974Z"
   },
   {
    "duration": 9,
    "start_time": "2021-09-20T19:32:59.162Z"
   },
   {
    "duration": 26,
    "start_time": "2021-09-20T19:33:02.267Z"
   },
   {
    "duration": 3129,
    "start_time": "2021-09-20T19:33:29.143Z"
   },
   {
    "duration": 1308,
    "start_time": "2021-09-20T19:33:32.275Z"
   },
   {
    "duration": 677,
    "start_time": "2021-09-20T19:33:33.585Z"
   },
   {
    "duration": 198,
    "start_time": "2021-09-20T19:33:34.264Z"
   },
   {
    "duration": 724,
    "start_time": "2021-09-20T19:33:34.464Z"
   },
   {
    "duration": 269,
    "start_time": "2021-09-20T19:33:35.191Z"
   },
   {
    "duration": 20,
    "start_time": "2021-09-20T19:33:35.462Z"
   },
   {
    "duration": 43,
    "start_time": "2021-09-20T19:33:35.485Z"
   },
   {
    "duration": 496,
    "start_time": "2021-09-20T19:33:35.530Z"
   },
   {
    "duration": 20,
    "start_time": "2021-09-20T19:33:36.027Z"
   },
   {
    "duration": 25,
    "start_time": "2021-09-20T19:33:36.076Z"
   },
   {
    "duration": 6,
    "start_time": "2021-09-20T19:33:36.102Z"
   },
   {
    "duration": 9,
    "start_time": "2021-09-20T19:33:36.110Z"
   },
   {
    "duration": 25,
    "start_time": "2021-09-20T19:33:36.176Z"
   },
   {
    "duration": 74,
    "start_time": "2021-09-20T19:33:36.203Z"
   },
   {
    "duration": 7,
    "start_time": "2021-09-20T19:33:36.279Z"
   },
   {
    "duration": 13,
    "start_time": "2021-09-20T19:33:36.287Z"
   },
   {
    "duration": 13,
    "start_time": "2021-09-20T19:33:36.302Z"
   },
   {
    "duration": 90,
    "start_time": "2021-09-20T19:33:36.317Z"
   },
   {
    "duration": 8,
    "start_time": "2021-09-20T19:33:36.409Z"
   },
   {
    "duration": 85,
    "start_time": "2021-09-20T19:33:36.419Z"
   },
   {
    "duration": 8,
    "start_time": "2021-09-20T19:33:36.506Z"
   },
   {
    "duration": 150,
    "start_time": "2021-09-20T19:33:36.517Z"
   },
   {
    "duration": 9,
    "start_time": "2021-09-20T19:33:36.669Z"
   },
   {
    "duration": 205,
    "start_time": "2021-09-20T19:33:36.680Z"
   },
   {
    "duration": 12,
    "start_time": "2021-09-20T19:37:58.727Z"
   },
   {
    "duration": 113,
    "start_time": "2021-09-20T19:41:01.026Z"
   },
   {
    "duration": 8,
    "start_time": "2021-09-20T19:45:38.972Z"
   },
   {
    "duration": 34,
    "start_time": "2021-09-20T19:46:25.747Z"
   },
   {
    "duration": 112,
    "start_time": "2021-09-20T19:47:37.762Z"
   },
   {
    "duration": 121,
    "start_time": "2021-09-20T19:51:22.797Z"
   },
   {
    "duration": 123,
    "start_time": "2021-09-20T19:51:28.576Z"
   },
   {
    "duration": 9,
    "start_time": "2021-09-20T19:53:45.518Z"
   },
   {
    "duration": 8,
    "start_time": "2021-09-20T19:55:11.649Z"
   },
   {
    "duration": 119,
    "start_time": "2021-09-20T19:55:14.275Z"
   },
   {
    "duration": 8,
    "start_time": "2021-09-20T19:55:43.229Z"
   },
   {
    "duration": 907,
    "start_time": "2021-09-20T19:55:45.579Z"
   },
   {
    "duration": 8,
    "start_time": "2021-09-20T19:56:27.553Z"
   },
   {
    "duration": 113,
    "start_time": "2021-09-20T19:56:30.683Z"
   },
   {
    "duration": 8,
    "start_time": "2021-09-20T19:56:54.999Z"
   },
   {
    "duration": 8,
    "start_time": "2021-09-20T19:57:04.165Z"
   },
   {
    "duration": 111,
    "start_time": "2021-09-20T19:57:06.583Z"
   },
   {
    "duration": 25,
    "start_time": "2021-09-20T19:58:07.546Z"
   },
   {
    "duration": 5,
    "start_time": "2021-09-20T19:58:19.386Z"
   },
   {
    "duration": 5,
    "start_time": "2021-09-20T19:59:17.890Z"
   },
   {
    "duration": 8,
    "start_time": "2021-09-20T19:59:24.266Z"
   },
   {
    "duration": 7,
    "start_time": "2021-09-20T20:00:12.505Z"
   },
   {
    "duration": 8,
    "start_time": "2021-09-20T20:00:14.586Z"
   },
   {
    "duration": 7,
    "start_time": "2021-09-20T20:00:41.568Z"
   },
   {
    "duration": 8,
    "start_time": "2021-09-20T20:00:43.377Z"
   },
   {
    "duration": 6,
    "start_time": "2021-09-20T20:00:50.784Z"
   },
   {
    "duration": 9,
    "start_time": "2021-09-20T20:00:53.039Z"
   },
   {
    "duration": 7,
    "start_time": "2021-09-20T20:01:23.932Z"
   },
   {
    "duration": 8,
    "start_time": "2021-09-20T20:01:25.861Z"
   },
   {
    "duration": 6,
    "start_time": "2021-09-20T20:01:39.123Z"
   },
   {
    "duration": 10,
    "start_time": "2021-09-20T20:01:41.301Z"
   },
   {
    "duration": 8,
    "start_time": "2021-09-20T20:03:03.656Z"
   },
   {
    "duration": 10,
    "start_time": "2021-09-20T20:03:07.342Z"
   },
   {
    "duration": 9,
    "start_time": "2021-09-20T20:03:42.321Z"
   },
   {
    "duration": 111,
    "start_time": "2021-09-20T20:03:44.858Z"
   },
   {
    "duration": 1296,
    "start_time": "2021-09-20T20:28:26.057Z"
   },
   {
    "duration": 8,
    "start_time": "2021-09-20T20:29:37.278Z"
   },
   {
    "duration": 123,
    "start_time": "2021-09-20T20:31:02.234Z"
   },
   {
    "duration": 2345,
    "start_time": "2021-09-20T20:31:16.896Z"
   },
   {
    "duration": 1686,
    "start_time": "2021-09-20T20:31:19.244Z"
   },
   {
    "duration": 673,
    "start_time": "2021-09-20T20:31:20.932Z"
   },
   {
    "duration": 192,
    "start_time": "2021-09-20T20:31:21.607Z"
   },
   {
    "duration": 761,
    "start_time": "2021-09-20T20:31:21.801Z"
   },
   {
    "duration": 353,
    "start_time": "2021-09-20T20:31:22.564Z"
   },
   {
    "duration": 15,
    "start_time": "2021-09-20T20:31:22.919Z"
   },
   {
    "duration": 47,
    "start_time": "2021-09-20T20:31:22.937Z"
   },
   {
    "duration": 296,
    "start_time": "2021-09-20T20:31:22.987Z"
   },
   {
    "duration": 21,
    "start_time": "2021-09-20T20:31:23.285Z"
   },
   {
    "duration": 75,
    "start_time": "2021-09-20T20:31:23.308Z"
   },
   {
    "duration": 6,
    "start_time": "2021-09-20T20:31:23.384Z"
   },
   {
    "duration": 20,
    "start_time": "2021-09-20T20:31:23.392Z"
   },
   {
    "duration": 85,
    "start_time": "2021-09-20T20:31:23.415Z"
   },
   {
    "duration": 23,
    "start_time": "2021-09-20T20:31:23.503Z"
   },
   {
    "duration": 49,
    "start_time": "2021-09-20T20:31:23.528Z"
   },
   {
    "duration": 23,
    "start_time": "2021-09-20T20:31:23.579Z"
   },
   {
    "duration": 18,
    "start_time": "2021-09-20T20:31:23.604Z"
   },
   {
    "duration": 60,
    "start_time": "2021-09-20T20:31:23.624Z"
   },
   {
    "duration": 9,
    "start_time": "2021-09-20T20:31:23.686Z"
   },
   {
    "duration": 45,
    "start_time": "2021-09-20T20:31:23.697Z"
   },
   {
    "duration": 8,
    "start_time": "2021-09-20T20:31:23.744Z"
   },
   {
    "duration": 126,
    "start_time": "2021-09-20T20:31:23.757Z"
   },
   {
    "duration": 10,
    "start_time": "2021-09-20T20:31:23.886Z"
   },
   {
    "duration": 214,
    "start_time": "2021-09-20T20:31:23.897Z"
   },
   {
    "duration": 16853,
    "start_time": "2021-09-21T06:58:19.625Z"
   },
   {
    "duration": 1165,
    "start_time": "2021-09-21T06:58:36.481Z"
   },
   {
    "duration": 625,
    "start_time": "2021-09-21T06:58:37.648Z"
   },
   {
    "duration": 162,
    "start_time": "2021-09-21T06:58:38.275Z"
   },
   {
    "duration": 2965,
    "start_time": "2021-09-21T06:58:38.439Z"
   },
   {
    "duration": 268,
    "start_time": "2021-09-21T06:58:41.407Z"
   },
   {
    "duration": 25,
    "start_time": "2021-09-21T06:58:41.676Z"
   },
   {
    "duration": 46,
    "start_time": "2021-09-21T06:58:41.704Z"
   },
   {
    "duration": 902,
    "start_time": "2021-09-21T06:58:41.752Z"
   },
   {
    "duration": 48,
    "start_time": "2021-09-21T06:58:42.656Z"
   },
   {
    "duration": 26,
    "start_time": "2021-09-21T06:58:42.706Z"
   },
   {
    "duration": 5,
    "start_time": "2021-09-21T06:58:42.734Z"
   },
   {
    "duration": 62,
    "start_time": "2021-09-21T06:58:42.740Z"
   },
   {
    "duration": 27,
    "start_time": "2021-09-21T06:58:42.804Z"
   },
   {
    "duration": 77,
    "start_time": "2021-09-21T06:58:42.833Z"
   },
   {
    "duration": 7,
    "start_time": "2021-09-21T06:58:42.912Z"
   },
   {
    "duration": 14,
    "start_time": "2021-09-21T06:58:42.921Z"
   },
   {
    "duration": 63,
    "start_time": "2021-09-21T06:58:42.937Z"
   },
   {
    "duration": 36,
    "start_time": "2021-09-21T06:58:43.002Z"
   },
   {
    "duration": 7,
    "start_time": "2021-09-21T06:58:43.040Z"
   },
   {
    "duration": 51,
    "start_time": "2021-09-21T06:58:43.049Z"
   },
   {
    "duration": 12,
    "start_time": "2021-09-21T06:58:43.102Z"
   },
   {
    "duration": 130,
    "start_time": "2021-09-21T06:58:43.116Z"
   },
   {
    "duration": 88,
    "start_time": "2021-09-21T06:58:43.248Z"
   },
   {
    "duration": 117,
    "start_time": "2021-09-21T06:58:43.338Z"
   },
   {
    "duration": 34,
    "start_time": "2021-09-21T07:00:09.004Z"
   },
   {
    "duration": 9,
    "start_time": "2021-09-21T07:00:18.329Z"
   },
   {
    "duration": 13,
    "start_time": "2021-09-21T07:02:07.855Z"
   },
   {
    "duration": 21100,
    "start_time": "2021-09-21T11:23:48.461Z"
   },
   {
    "duration": 1696,
    "start_time": "2021-09-21T11:24:09.564Z"
   },
   {
    "duration": 899,
    "start_time": "2021-09-21T11:24:11.266Z"
   },
   {
    "duration": 256,
    "start_time": "2021-09-21T11:24:12.168Z"
   },
   {
    "duration": 2451,
    "start_time": "2021-09-21T11:24:12.427Z"
   },
   {
    "duration": 390,
    "start_time": "2021-09-21T11:24:14.882Z"
   },
   {
    "duration": 21,
    "start_time": "2021-09-21T11:24:15.275Z"
   },
   {
    "duration": 90,
    "start_time": "2021-09-21T11:24:15.301Z"
   },
   {
    "duration": 293,
    "start_time": "2021-09-21T11:24:15.395Z"
   },
   {
    "duration": 26,
    "start_time": "2021-09-21T11:24:15.690Z"
   },
   {
    "duration": 156,
    "start_time": "2021-09-21T11:24:15.718Z"
   },
   {
    "duration": 12,
    "start_time": "2021-09-21T11:24:15.877Z"
   },
   {
    "duration": 75,
    "start_time": "2021-09-21T11:24:15.892Z"
   },
   {
    "duration": 56,
    "start_time": "2021-09-21T11:24:15.971Z"
   },
   {
    "duration": 83,
    "start_time": "2021-09-21T11:24:16.030Z"
   },
   {
    "duration": 9,
    "start_time": "2021-09-21T11:24:16.115Z"
   },
   {
    "duration": 17,
    "start_time": "2021-09-21T11:24:16.127Z"
   },
   {
    "duration": 19,
    "start_time": "2021-09-21T11:24:16.168Z"
   },
   {
    "duration": 46,
    "start_time": "2021-09-21T11:24:16.189Z"
   },
   {
    "duration": 43,
    "start_time": "2021-09-21T11:24:16.237Z"
   },
   {
    "duration": 22,
    "start_time": "2021-09-21T11:24:16.283Z"
   },
   {
    "duration": 64,
    "start_time": "2021-09-21T11:24:16.308Z"
   },
   {
    "duration": 12,
    "start_time": "2021-09-21T11:24:16.376Z"
   },
   {
    "duration": 167,
    "start_time": "2021-09-21T11:24:16.390Z"
   },
   {
    "duration": 13,
    "start_time": "2021-09-21T11:24:16.568Z"
   },
   {
    "duration": 271,
    "start_time": "2021-09-21T11:24:16.584Z"
   },
   {
    "duration": 44,
    "start_time": "2021-09-21T11:29:42.109Z"
   },
   {
    "duration": 92,
    "start_time": "2021-09-21T11:39:57.318Z"
   },
   {
    "duration": 47,
    "start_time": "2021-09-21T11:39:59.991Z"
   },
   {
    "duration": 8414,
    "start_time": "2021-09-21T11:40:18.360Z"
   },
   {
    "duration": 7662,
    "start_time": "2021-09-21T11:41:20.580Z"
   },
   {
    "duration": 45,
    "start_time": "2021-09-21T11:41:28.691Z"
   },
   {
    "duration": 102,
    "start_time": "2021-09-21T11:42:17.065Z"
   },
   {
    "duration": 49,
    "start_time": "2021-09-21T11:42:19.760Z"
   },
   {
    "duration": 12,
    "start_time": "2021-09-21T11:42:46.050Z"
   },
   {
    "duration": 10,
    "start_time": "2021-09-21T11:43:07.896Z"
   },
   {
    "duration": 100,
    "start_time": "2021-09-21T11:44:54.169Z"
   },
   {
    "duration": 387223,
    "start_time": "2021-09-21T12:39:57.319Z"
   },
   {
    "duration": 1658,
    "start_time": "2021-09-21T12:46:24.545Z"
   },
   {
    "duration": 894,
    "start_time": "2021-09-21T12:46:26.206Z"
   },
   {
    "duration": 249,
    "start_time": "2021-09-21T12:46:27.104Z"
   },
   {
    "duration": 313778,
    "start_time": "2021-09-21T12:46:27.357Z"
   },
   {
    "duration": 365,
    "start_time": "2021-09-21T12:51:41.139Z"
   },
   {
    "duration": 22,
    "start_time": "2021-09-21T12:51:41.506Z"
   },
   {
    "duration": 88,
    "start_time": "2021-09-21T12:51:41.531Z"
   },
   {
    "duration": 100133,
    "start_time": "2021-09-21T12:51:41.623Z"
   },
   {
    "duration": 45,
    "start_time": "2021-09-21T12:53:21.760Z"
   },
   {
    "duration": 56,
    "start_time": "2021-09-21T12:53:21.808Z"
   },
   {
    "duration": 24,
    "start_time": "2021-09-21T12:53:21.867Z"
   },
   {
    "duration": 30,
    "start_time": "2021-09-21T12:53:21.894Z"
   },
   {
    "duration": 53,
    "start_time": "2021-09-21T12:53:21.927Z"
   },
   {
    "duration": 45,
    "start_time": "2021-09-21T12:53:21.984Z"
   },
   {
    "duration": 8,
    "start_time": "2021-09-21T12:53:22.031Z"
   },
   {
    "duration": 17,
    "start_time": "2021-09-21T12:53:22.042Z"
   },
   {
    "duration": 99,
    "start_time": "2021-09-21T12:53:22.061Z"
   },
   {
    "duration": 47,
    "start_time": "2021-09-21T12:53:22.162Z"
   },
   {
    "duration": 13,
    "start_time": "2021-09-21T12:53:22.211Z"
   },
   {
    "duration": 16,
    "start_time": "2021-09-21T12:53:22.226Z"
   },
   {
    "duration": 52,
    "start_time": "2021-09-21T12:53:22.245Z"
   },
   {
    "duration": 12,
    "start_time": "2021-09-21T12:53:22.299Z"
   },
   {
    "duration": 154,
    "start_time": "2021-09-21T12:53:22.314Z"
   },
   {
    "duration": 93,
    "start_time": "2021-09-21T12:53:22.471Z"
   },
   {
    "duration": 224,
    "start_time": "2021-09-21T12:53:22.566Z"
   },
   {
    "duration": 11,
    "start_time": "2021-09-21T12:53:45.840Z"
   },
   {
    "duration": 11,
    "start_time": "2021-09-21T12:53:50.414Z"
   },
   {
    "duration": 11,
    "start_time": "2021-09-21T12:53:53.177Z"
   },
   {
    "duration": 12,
    "start_time": "2021-09-21T12:54:07.294Z"
   },
   {
    "duration": 13354,
    "start_time": "2021-11-16T19:17:32.461Z"
   },
   {
    "duration": 1161,
    "start_time": "2021-11-16T19:17:45.817Z"
   },
   {
    "duration": 659,
    "start_time": "2021-11-16T19:17:46.980Z"
   },
   {
    "duration": 150,
    "start_time": "2021-11-16T19:17:47.641Z"
   },
   {
    "duration": 395,
    "start_time": "2021-11-16T19:17:47.792Z"
   },
   {
    "duration": 220,
    "start_time": "2021-11-16T19:17:48.188Z"
   },
   {
    "duration": 12,
    "start_time": "2021-11-16T19:17:48.410Z"
   },
   {
    "duration": 37,
    "start_time": "2021-11-16T19:17:48.425Z"
   },
   {
    "duration": 154,
    "start_time": "2021-11-16T19:17:48.464Z"
   },
   {
    "duration": 18,
    "start_time": "2021-11-16T19:17:48.620Z"
   },
   {
    "duration": 63,
    "start_time": "2021-11-16T19:17:48.640Z"
   },
   {
    "duration": 5,
    "start_time": "2021-11-16T19:17:48.705Z"
   },
   {
    "duration": 11,
    "start_time": "2021-11-16T19:17:48.711Z"
   },
   {
    "duration": 78,
    "start_time": "2021-11-16T19:17:48.724Z"
   },
   {
    "duration": 24,
    "start_time": "2021-11-16T19:17:48.804Z"
   },
   {
    "duration": 6,
    "start_time": "2021-11-16T19:17:48.829Z"
   },
   {
    "duration": 64,
    "start_time": "2021-11-16T19:17:48.837Z"
   },
   {
    "duration": 59,
    "start_time": "2021-11-16T19:17:48.903Z"
   },
   {
    "duration": 47,
    "start_time": "2021-11-16T19:17:48.964Z"
   },
   {
    "duration": 10,
    "start_time": "2021-11-16T19:17:49.012Z"
   },
   {
    "duration": 10,
    "start_time": "2021-11-16T19:17:49.023Z"
   },
   {
    "duration": 35,
    "start_time": "2021-11-16T19:17:49.034Z"
   },
   {
    "duration": 23,
    "start_time": "2021-11-16T19:17:49.072Z"
   },
   {
    "duration": 100,
    "start_time": "2021-11-16T19:17:49.096Z"
   },
   {
    "duration": 10,
    "start_time": "2021-11-16T19:17:49.197Z"
   },
   {
    "duration": 164,
    "start_time": "2021-11-16T19:17:49.208Z"
   },
   {
    "duration": 1833,
    "start_time": "2021-11-16T19:19:13.201Z"
   },
   {
    "duration": 1136,
    "start_time": "2021-11-16T19:19:15.036Z"
   },
   {
    "duration": 641,
    "start_time": "2021-11-16T19:19:16.177Z"
   },
   {
    "duration": 181,
    "start_time": "2021-11-16T19:19:16.820Z"
   },
   {
    "duration": 406,
    "start_time": "2021-11-16T19:19:17.004Z"
   },
   {
    "duration": 262,
    "start_time": "2021-11-16T19:19:17.413Z"
   },
   {
    "duration": 21,
    "start_time": "2021-11-16T19:19:17.678Z"
   },
   {
    "duration": 40,
    "start_time": "2021-11-16T19:19:17.701Z"
   },
   {
    "duration": 398,
    "start_time": "2021-11-16T19:19:17.743Z"
   },
   {
    "duration": -517,
    "start_time": "2021-11-16T19:19:18.660Z"
   },
   {
    "duration": -521,
    "start_time": "2021-11-16T19:19:18.666Z"
   },
   {
    "duration": -526,
    "start_time": "2021-11-16T19:19:18.672Z"
   },
   {
    "duration": -531,
    "start_time": "2021-11-16T19:19:18.679Z"
   },
   {
    "duration": -538,
    "start_time": "2021-11-16T19:19:18.687Z"
   },
   {
    "duration": -542,
    "start_time": "2021-11-16T19:19:18.693Z"
   },
   {
    "duration": -547,
    "start_time": "2021-11-16T19:19:18.699Z"
   },
   {
    "duration": -558,
    "start_time": "2021-11-16T19:19:18.711Z"
   },
   {
    "duration": -562,
    "start_time": "2021-11-16T19:19:18.717Z"
   },
   {
    "duration": -565,
    "start_time": "2021-11-16T19:19:18.721Z"
   },
   {
    "duration": -569,
    "start_time": "2021-11-16T19:19:18.726Z"
   },
   {
    "duration": -572,
    "start_time": "2021-11-16T19:19:18.730Z"
   },
   {
    "duration": -575,
    "start_time": "2021-11-16T19:19:18.734Z"
   },
   {
    "duration": -579,
    "start_time": "2021-11-16T19:19:18.739Z"
   },
   {
    "duration": -585,
    "start_time": "2021-11-16T19:19:18.746Z"
   },
   {
    "duration": -588,
    "start_time": "2021-11-16T19:19:18.750Z"
   },
   {
    "duration": -591,
    "start_time": "2021-11-16T19:19:18.754Z"
   },
   {
    "duration": 64,
    "start_time": "2021-11-16T19:22:34.152Z"
   },
   {
    "duration": -632,
    "start_time": "2021-11-16T19:22:34.850Z"
   },
   {
    "duration": -637,
    "start_time": "2021-11-16T19:22:34.858Z"
   },
   {
    "duration": -644,
    "start_time": "2021-11-16T19:22:34.866Z"
   },
   {
    "duration": -650,
    "start_time": "2021-11-16T19:22:34.873Z"
   },
   {
    "duration": -656,
    "start_time": "2021-11-16T19:22:34.880Z"
   },
   {
    "duration": -664,
    "start_time": "2021-11-16T19:22:34.889Z"
   },
   {
    "duration": -677,
    "start_time": "2021-11-16T19:22:34.904Z"
   },
   {
    "duration": -700,
    "start_time": "2021-11-16T19:22:34.928Z"
   },
   {
    "duration": 216,
    "start_time": "2021-11-16T19:22:34.229Z"
   },
   {
    "duration": -504,
    "start_time": "2021-11-16T19:22:34.951Z"
   },
   {
    "duration": -508,
    "start_time": "2021-11-16T19:22:34.956Z"
   },
   {
    "duration": -512,
    "start_time": "2021-11-16T19:22:34.961Z"
   },
   {
    "duration": -515,
    "start_time": "2021-11-16T19:22:34.965Z"
   },
   {
    "duration": -518,
    "start_time": "2021-11-16T19:22:34.969Z"
   },
   {
    "duration": -524,
    "start_time": "2021-11-16T19:22:34.976Z"
   },
   {
    "duration": -535,
    "start_time": "2021-11-16T19:22:34.988Z"
   },
   {
    "duration": -538,
    "start_time": "2021-11-16T19:22:34.992Z"
   },
   {
    "duration": -541,
    "start_time": "2021-11-16T19:22:34.996Z"
   },
   {
    "duration": -545,
    "start_time": "2021-11-16T19:22:35.001Z"
   },
   {
    "duration": -549,
    "start_time": "2021-11-16T19:22:35.006Z"
   },
   {
    "duration": -553,
    "start_time": "2021-11-16T19:22:35.011Z"
   },
   {
    "duration": -556,
    "start_time": "2021-11-16T19:22:35.015Z"
   },
   {
    "duration": -567,
    "start_time": "2021-11-16T19:22:35.027Z"
   },
   {
    "duration": -581,
    "start_time": "2021-11-16T19:22:35.042Z"
   },
   {
    "duration": -586,
    "start_time": "2021-11-16T19:22:35.048Z"
   },
   {
    "duration": 11998,
    "start_time": "2021-11-16T19:22:54.415Z"
   },
   {
    "duration": 1873,
    "start_time": "2021-11-16T19:23:26.728Z"
   },
   {
    "duration": 1198,
    "start_time": "2021-11-16T19:23:28.603Z"
   },
   {
    "duration": 640,
    "start_time": "2021-11-16T19:23:29.802Z"
   },
   {
    "duration": 192,
    "start_time": "2021-11-16T19:23:30.444Z"
   },
   {
    "duration": 403,
    "start_time": "2021-11-16T19:23:30.638Z"
   },
   {
    "duration": 253,
    "start_time": "2021-11-16T19:23:31.042Z"
   },
   {
    "duration": 13,
    "start_time": "2021-11-16T19:23:31.296Z"
   },
   {
    "duration": 47,
    "start_time": "2021-11-16T19:23:31.312Z"
   },
   {
    "duration": 933,
    "start_time": "2021-11-16T19:23:31.361Z"
   },
   {
    "duration": 22,
    "start_time": "2021-11-16T19:23:32.296Z"
   },
   {
    "duration": 23,
    "start_time": "2021-11-16T19:23:32.320Z"
   },
   {
    "duration": 8,
    "start_time": "2021-11-16T19:23:32.345Z"
   },
   {
    "duration": 10,
    "start_time": "2021-11-16T19:23:32.355Z"
   },
   {
    "duration": 44,
    "start_time": "2021-11-16T19:23:32.366Z"
   },
   {
    "duration": 82,
    "start_time": "2021-11-16T19:23:32.411Z"
   },
   {
    "duration": 6,
    "start_time": "2021-11-16T19:23:32.495Z"
   },
   {
    "duration": 11,
    "start_time": "2021-11-16T19:23:32.502Z"
   },
   {
    "duration": 84,
    "start_time": "2021-11-16T19:23:32.515Z"
   },
   {
    "duration": 32,
    "start_time": "2021-11-16T19:23:32.600Z"
   },
   {
    "duration": 7,
    "start_time": "2021-11-16T19:23:32.634Z"
   },
   {
    "duration": 13,
    "start_time": "2021-11-16T19:23:32.643Z"
   },
   {
    "duration": 47,
    "start_time": "2021-11-16T19:23:32.657Z"
   },
   {
    "duration": 8,
    "start_time": "2021-11-16T19:23:32.707Z"
   },
   {
    "duration": 126,
    "start_time": "2021-11-16T19:23:32.716Z"
   },
   {
    "duration": 10,
    "start_time": "2021-11-16T19:23:32.844Z"
   },
   {
    "duration": 216,
    "start_time": "2021-11-16T19:23:32.855Z"
   }
  ],
  "kernelspec": {
   "display_name": "Python 3",
   "language": "python",
   "name": "python3"
  },
  "language_info": {
   "codemirror_mode": {
    "name": "ipython",
    "version": 3
   },
   "file_extension": ".py",
   "mimetype": "text/x-python",
   "name": "python",
   "nbconvert_exporter": "python",
   "pygments_lexer": "ipython3",
   "version": "3.8.5"
  },
  "latex_envs": {
   "LaTeX_envs_menu_present": true,
   "autoclose": false,
   "autocomplete": true,
   "bibliofile": "biblio.bib",
   "cite_by": "apalike",
   "current_citInitial": 1,
   "eqLabelWithNumbers": true,
   "eqNumInitial": 1,
   "hotkeys": {
    "equation": "Ctrl-E",
    "itemize": "Ctrl-I"
   },
   "labels_anchors": false,
   "latex_user_defs": false,
   "report_style_numbering": false,
   "user_envs_cfg": false
  },
  "toc": {
   "base_numbering": 1,
   "nav_menu": {},
   "number_sections": false,
   "sideBar": true,
   "skip_h1_title": false,
   "title_cell": "Table of Contents",
   "title_sidebar": "Contents",
   "toc_cell": false,
   "toc_position": {},
   "toc_section_display": true,
   "toc_window_display": false
  },
  "varInspector": {
   "cols": {
    "lenName": 16,
    "lenType": 16,
    "lenVar": 40
   },
   "kernels_config": {
    "python": {
     "delete_cmd_postfix": "",
     "delete_cmd_prefix": "del ",
     "library": "var_list.py",
     "varRefreshCmd": "print(var_dic_list())"
    },
    "r": {
     "delete_cmd_postfix": ") ",
     "delete_cmd_prefix": "rm(",
     "library": "var_list.r",
     "varRefreshCmd": "cat(var_dic_list()) "
    }
   },
   "types_to_exclude": [
    "module",
    "function",
    "builtin_function_or_method",
    "instance",
    "_Feature"
   ],
   "window_display": false
  }
 },
 "nbformat": 4,
 "nbformat_minor": 2
}
