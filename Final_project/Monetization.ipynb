{
 "cells": [
  {
   "cell_type": "markdown",
   "metadata": {},
   "source": [
    "<b style=\"font-size:34px; line-height:1.2\"><center>Модель монетизации игрового приложения</b></center>"
   ]
  },
  {
   "cell_type": "markdown",
   "metadata": {},
   "source": [
    "Данные содержат иформацию о событиях, совершенных в мобильной игре «Космические братья». В ней пользователи строят свою космическую программу и пытаются преуспеть в нелёгком деле колонизации галактики.\n",
    "\n",
    "**Основная задача:** сформировать модель монетизации игрового приложения.\n",
    "\n",
    "**Этапы достижения основной задачи:**\n",
    " - загрузить данные и подготовить их к анализу;\n",
    " - рассчитать продуктовые метрики;\n",
    " - рассчитать маркетинговые метрики;\n",
    " - написать выводы и дать рекомендацию."
   ]
  },
  {
   "cell_type": "markdown",
   "metadata": {},
   "source": [
    "# Шаг №1.  Загрузить данные и изучить их"
   ]
  },
  {
   "cell_type": "markdown",
   "metadata": {},
   "source": [
    "<b style=\"font-size:18px; line-height:1.2\"><center>Структура данных</b></center>\n",
    "\n",
    "\n",
    "**game_actions.csv** (в датасете содержатся данные первых пользователей приложения — когорты пользователей, которые начали пользоваться приложением в период с 4 по 10 мая включительно):\n",
    "    \n",
    "- `event_datetime` — время события;\n",
    "\n",
    "\n",
    "- `event` — одно из трёх событий:\n",
    "    1. *building* — объект построен,\n",
    "    2. *finished_stage_1* — первый уровень завершён,\n",
    "    3. *project* — проект завершён;\n",
    "    \n",
    "    \n",
    "- `building_type` — один из трёх типов здания:\n",
    "    1. *assembly_shop* — сборочный цех,\n",
    "    2. *spaceport* — космопорт,\n",
    "    3. *research_center* — исследовательский центр;\n",
    "    \n",
    "    \n",
    "- `user_id` — идентификатор пользователя;\n",
    "\n",
    "\n",
    "- `project_type` — тип реализованного проекта;\n",
    "\n",
    "\n",
    "**ad_costs.csv** содержит колонки:\n",
    "\n",
    "\n",
    "- `day` - день, в который был совершен клик по объявлению\n",
    "- `source` - источник трафика\n",
    "- `cost` - стоимость кликов\n",
    "\n",
    "**user_source.csv** содержит колонки:\n",
    "\n",
    "\n",
    "- `user_id` - идентификатор пользователя\n",
    "- `source` - источников, с которого пришёл пользователь, установивший приложение"
   ]
  },
  {
   "cell_type": "markdown",
   "metadata": {},
   "source": [
    "Установим свежую версию библиотеки Plotly:"
   ]
  },
  {
   "cell_type": "code",
   "execution_count": 1,
   "metadata": {},
   "outputs": [
    {
     "name": "stdout",
     "output_type": "stream",
     "text": [
      "Requirement already satisfied: plotly==5.1.0 in c:\\users\\alek_\\anaconda3\\lib\\site-packages (5.1.0)Note: you may need to restart the kernel to use updated packages.\n",
      "\n",
      "Requirement already satisfied: six in c:\\users\\alek_\\anaconda3\\lib\\site-packages (from plotly==5.1.0) (1.15.0)\n",
      "Requirement already satisfied: tenacity>=6.2.0 in c:\\users\\alek_\\anaconda3\\lib\\site-packages (from plotly==5.1.0) (8.0.1)\n"
     ]
    }
   ],
   "source": [
    "pip install plotly==5.1.0"
   ]
  },
  {
   "cell_type": "markdown",
   "metadata": {},
   "source": [
    "Импортируем необходимые библиотеки:"
   ]
  },
  {
   "cell_type": "code",
   "execution_count": 2,
   "metadata": {},
   "outputs": [],
   "source": [
    "import pandas as pd\n",
    "import numpy as np\n",
    "import matplotlib.pyplot as plt\n",
    "import seaborn as sns\n",
    "import plotly.graph_objects as go\n",
    "import plotly.express as px\n",
    "import scipy.stats as st"
   ]
  },
  {
   "cell_type": "markdown",
   "metadata": {},
   "source": [
    "Оценив данные, создадим пайплайн для загрузки полного датасета `game_actions`, `ad_costs` и `user_source`. Таким способом мы сразу преобразуем временные данные в необхимый тип, а также столбцы с категориальными данными преобразуем в категориальный тип. Следствием наших действий уменьшится занимаемая память DF. "
   ]
  },
  {
   "cell_type": "code",
   "execution_count": 3,
   "metadata": {},
   "outputs": [],
   "source": [
    "game_actions = pd.read_csv('game_actions.csv', header=0,\n",
    "    parse_dates=['event_datetime'],    \n",
    "    dtype={'event': 'category', 'building_type' : 'category'})\n",
    "\n",
    "ad_costs = pd.read_csv('ad_costs.csv', header=0,\n",
    "    parse_dates=['day'])\n",
    "\n",
    "user_source = pd.read_csv('user_source.csv', header=0 )"
   ]
  },
  {
   "cell_type": "markdown",
   "metadata": {},
   "source": [
    "Проверим DF на дубликаты, которые можно удалить:"
   ]
  },
  {
   "cell_type": "code",
   "execution_count": 4,
   "metadata": {
    "scrolled": true
   },
   "outputs": [
    {
     "name": "stdout",
     "output_type": "stream",
     "text": [
      "Количество дубликатов в game_actions: 1\n"
     ]
    }
   ],
   "source": [
    "print('Количество дубликатов в game_actions:', game_actions.duplicated().sum())\n",
    "game_actions = game_actions.drop_duplicates().reset_index(drop = True)"
   ]
  },
  {
   "cell_type": "markdown",
   "metadata": {},
   "source": [
    "Был обнаружен один дубликат, который никак не влияет на данные при его удалении. Соответственно, исключим его из наших данных. "
   ]
  },
  {
   "cell_type": "markdown",
   "metadata": {},
   "source": [
    "Используя код из ранее сделанных проектов, сведем информацию о всех DF в одну сводную таблицу:"
   ]
  },
  {
   "cell_type": "code",
   "execution_count": 5,
   "metadata": {},
   "outputs": [],
   "source": [
    "# Создадим словарь соответствия фрейма и его имени\n",
    "dict_frames ={\n",
    "    'game_actions': game_actions,\n",
    "    'ad_costs': ad_costs,\n",
    "    'user_source': user_source,\n",
    "}\n",
    "\n",
    "# Функция, для сбора информации о всех DF\n",
    "def info_frame(dict_of_frames):\n",
    "    def table(dataframe, name):\n",
    "        # Собираем данные из конкретной таблицы\n",
    "        columns = dataframe.columns\n",
    "        count_of_rows = len(columns)\n",
    "        total = dataframe.shape[0]\n",
    "        \n",
    "        part_total_table = pd.DataFrame(data =[[0] * 5] * count_of_rows, \n",
    "                                        columns = ['total',\n",
    "                                                   'frame',\n",
    "                                                   \"columns\",\n",
    "                                                   \"null_values, %\",\n",
    "                                                   \"type\"])\n",
    "    \n",
    "        part_total_table['total'] = [total] * count_of_rows\n",
    "        part_total_table['frame'] = [name] * count_of_rows\n",
    "        part_total_table['columns'] = columns\n",
    "        \n",
    "        \n",
    "        for column in columns:\n",
    "            curent_type = str(dataframe[column].dtype)\n",
    "            count_of_null = dataframe[column].isnull().sum() * 100 / part_total_table['total']\n",
    "            part_total_table.loc[part_total_table['columns'] == column,'null_values, %'] = count_of_null.round(2)\n",
    "            part_total_table.loc[part_total_table['columns'] == column,'type'] = curent_type\n",
    "        \n",
    "        return part_total_table\n",
    "    \n",
    "    # объединяем даные из каждой таблицы в одну   \n",
    "    final_frame = pd.DataFrame(columns = ['total','frame',\"columns\",\"null_values, %\",\"type\"])\n",
    "    \n",
    "    for name,frame in dict_of_frames.items():\n",
    "        part_of_table = table(frame,name)\n",
    "        final_frame = final_frame.append(part_of_table)\n",
    "        \n",
    "    final_frame = final_frame.reset_index(drop = True)\n",
    "    final_frame_grouped = final_frame.groupby(['total','frame',\"columns\"]).first()\n",
    "    final_frame_grouped = final_frame_grouped.style.background_gradient(cmap='Blues',subset=['null_values, %'])\n",
    "    \n",
    "    return final_frame_grouped"
   ]
  },
  {
   "cell_type": "code",
   "execution_count": 6,
   "metadata": {},
   "outputs": [
    {
     "data": {
      "text/html": [
       "<style  type=\"text/css\" >\n",
       "#T_d514bc35_470d_11ec_bdba_28cdc466278erow0_col0,#T_d514bc35_470d_11ec_bdba_28cdc466278erow1_col0,#T_d514bc35_470d_11ec_bdba_28cdc466278erow2_col0,#T_d514bc35_470d_11ec_bdba_28cdc466278erow3_col0,#T_d514bc35_470d_11ec_bdba_28cdc466278erow4_col0,#T_d514bc35_470d_11ec_bdba_28cdc466278erow6_col0,#T_d514bc35_470d_11ec_bdba_28cdc466278erow7_col0,#T_d514bc35_470d_11ec_bdba_28cdc466278erow9_col0{\n",
       "            background-color:  #f7fbff;\n",
       "            color:  #000000;\n",
       "        }#T_d514bc35_470d_11ec_bdba_28cdc466278erow5_col0{\n",
       "            background-color:  #ecf4fb;\n",
       "            color:  #000000;\n",
       "        }#T_d514bc35_470d_11ec_bdba_28cdc466278erow8_col0{\n",
       "            background-color:  #08306b;\n",
       "            color:  #f1f1f1;\n",
       "        }</style><table id=\"T_d514bc35_470d_11ec_bdba_28cdc466278e\" ><thead>    <tr>        <th class=\"blank\" ></th>        <th class=\"blank\" ></th>        <th class=\"blank level0\" ></th>        <th class=\"col_heading level0 col0\" >null_values, %</th>        <th class=\"col_heading level0 col1\" >type</th>    </tr>    <tr>        <th class=\"index_name level0\" >total</th>        <th class=\"index_name level1\" >frame</th>        <th class=\"index_name level2\" >columns</th>        <th class=\"blank\" ></th>        <th class=\"blank\" ></th>    </tr></thead><tbody>\n",
       "                <tr>\n",
       "                        <th id=\"T_d514bc35_470d_11ec_bdba_28cdc466278elevel0_row0\" class=\"row_heading level0 row0\" rowspan=3>28</th>\n",
       "                        <th id=\"T_d514bc35_470d_11ec_bdba_28cdc466278elevel1_row0\" class=\"row_heading level1 row0\" rowspan=3>ad_costs</th>\n",
       "                        <th id=\"T_d514bc35_470d_11ec_bdba_28cdc466278elevel2_row0\" class=\"row_heading level2 row0\" >cost</th>\n",
       "                        <td id=\"T_d514bc35_470d_11ec_bdba_28cdc466278erow0_col0\" class=\"data row0 col0\" >0.000000</td>\n",
       "                        <td id=\"T_d514bc35_470d_11ec_bdba_28cdc466278erow0_col1\" class=\"data row0 col1\" >float64</td>\n",
       "            </tr>\n",
       "            <tr>\n",
       "                                        <th id=\"T_d514bc35_470d_11ec_bdba_28cdc466278elevel2_row1\" class=\"row_heading level2 row1\" >day</th>\n",
       "                        <td id=\"T_d514bc35_470d_11ec_bdba_28cdc466278erow1_col0\" class=\"data row1 col0\" >0.000000</td>\n",
       "                        <td id=\"T_d514bc35_470d_11ec_bdba_28cdc466278erow1_col1\" class=\"data row1 col1\" >datetime64[ns]</td>\n",
       "            </tr>\n",
       "            <tr>\n",
       "                                        <th id=\"T_d514bc35_470d_11ec_bdba_28cdc466278elevel2_row2\" class=\"row_heading level2 row2\" >source</th>\n",
       "                        <td id=\"T_d514bc35_470d_11ec_bdba_28cdc466278erow2_col0\" class=\"data row2 col0\" >0.000000</td>\n",
       "                        <td id=\"T_d514bc35_470d_11ec_bdba_28cdc466278erow2_col1\" class=\"data row2 col1\" >object</td>\n",
       "            </tr>\n",
       "            <tr>\n",
       "                        <th id=\"T_d514bc35_470d_11ec_bdba_28cdc466278elevel0_row3\" class=\"row_heading level0 row3\" rowspan=2>13576</th>\n",
       "                        <th id=\"T_d514bc35_470d_11ec_bdba_28cdc466278elevel1_row3\" class=\"row_heading level1 row3\" rowspan=2>user_source</th>\n",
       "                        <th id=\"T_d514bc35_470d_11ec_bdba_28cdc466278elevel2_row3\" class=\"row_heading level2 row3\" >source</th>\n",
       "                        <td id=\"T_d514bc35_470d_11ec_bdba_28cdc466278erow3_col0\" class=\"data row3 col0\" >0.000000</td>\n",
       "                        <td id=\"T_d514bc35_470d_11ec_bdba_28cdc466278erow3_col1\" class=\"data row3 col1\" >object</td>\n",
       "            </tr>\n",
       "            <tr>\n",
       "                                        <th id=\"T_d514bc35_470d_11ec_bdba_28cdc466278elevel2_row4\" class=\"row_heading level2 row4\" >user_id</th>\n",
       "                        <td id=\"T_d514bc35_470d_11ec_bdba_28cdc466278erow4_col0\" class=\"data row4 col0\" >0.000000</td>\n",
       "                        <td id=\"T_d514bc35_470d_11ec_bdba_28cdc466278erow4_col1\" class=\"data row4 col1\" >object</td>\n",
       "            </tr>\n",
       "            <tr>\n",
       "                        <th id=\"T_d514bc35_470d_11ec_bdba_28cdc466278elevel0_row5\" class=\"row_heading level0 row5\" rowspan=5>135639</th>\n",
       "                        <th id=\"T_d514bc35_470d_11ec_bdba_28cdc466278elevel1_row5\" class=\"row_heading level1 row5\" rowspan=5>game_actions</th>\n",
       "                        <th id=\"T_d514bc35_470d_11ec_bdba_28cdc466278elevel2_row5\" class=\"row_heading level2 row5\" >building_type</th>\n",
       "                        <td id=\"T_d514bc35_470d_11ec_bdba_28cdc466278erow5_col0\" class=\"data row5 col0\" >5.660000</td>\n",
       "                        <td id=\"T_d514bc35_470d_11ec_bdba_28cdc466278erow5_col1\" class=\"data row5 col1\" >category</td>\n",
       "            </tr>\n",
       "            <tr>\n",
       "                                        <th id=\"T_d514bc35_470d_11ec_bdba_28cdc466278elevel2_row6\" class=\"row_heading level2 row6\" >event</th>\n",
       "                        <td id=\"T_d514bc35_470d_11ec_bdba_28cdc466278erow6_col0\" class=\"data row6 col0\" >0.000000</td>\n",
       "                        <td id=\"T_d514bc35_470d_11ec_bdba_28cdc466278erow6_col1\" class=\"data row6 col1\" >category</td>\n",
       "            </tr>\n",
       "            <tr>\n",
       "                                        <th id=\"T_d514bc35_470d_11ec_bdba_28cdc466278elevel2_row7\" class=\"row_heading level2 row7\" >event_datetime</th>\n",
       "                        <td id=\"T_d514bc35_470d_11ec_bdba_28cdc466278erow7_col0\" class=\"data row7 col0\" >0.000000</td>\n",
       "                        <td id=\"T_d514bc35_470d_11ec_bdba_28cdc466278erow7_col1\" class=\"data row7 col1\" >datetime64[ns]</td>\n",
       "            </tr>\n",
       "            <tr>\n",
       "                                        <th id=\"T_d514bc35_470d_11ec_bdba_28cdc466278elevel2_row8\" class=\"row_heading level2 row8\" >project_type</th>\n",
       "                        <td id=\"T_d514bc35_470d_11ec_bdba_28cdc466278erow8_col0\" class=\"data row8 col0\" >98.620000</td>\n",
       "                        <td id=\"T_d514bc35_470d_11ec_bdba_28cdc466278erow8_col1\" class=\"data row8 col1\" >object</td>\n",
       "            </tr>\n",
       "            <tr>\n",
       "                                        <th id=\"T_d514bc35_470d_11ec_bdba_28cdc466278elevel2_row9\" class=\"row_heading level2 row9\" >user_id</th>\n",
       "                        <td id=\"T_d514bc35_470d_11ec_bdba_28cdc466278erow9_col0\" class=\"data row9 col0\" >0.000000</td>\n",
       "                        <td id=\"T_d514bc35_470d_11ec_bdba_28cdc466278erow9_col1\" class=\"data row9 col1\" >object</td>\n",
       "            </tr>\n",
       "    </tbody></table>"
      ],
      "text/plain": [
       "<pandas.io.formats.style.Styler at 0x1792f5f1ca0>"
      ]
     },
     "execution_count": 6,
     "metadata": {},
     "output_type": "execute_result"
    }
   ],
   "source": [
    "info_frame(dict_frames)"
   ]
  },
  {
   "cell_type": "markdown",
   "metadata": {},
   "source": [
    "**Вывод:** В DF *game_actions* в столбце `building_type` 5.66% пустых значений, т.е. эта доля людей, которые выполнили проект или завершили первый уровень. `project_type` содержит 98.62% пустых значений. То есть, 1.38% всех событий, совершенных на исследуемом периоде, составляют окончание проекта."
   ]
  },
  {
   "cell_type": "markdown",
   "metadata": {},
   "source": [
    "Мы видим, что покупка рекламы осуществлялась днем ранее. Таким образом, делаем предположение, что новые пользователи от рекламы поступают на следующий день.\n",
    "\n",
    "Для удобства анализа произведем синхронизацию данных: добавим 1 день к данным *ad_costs*:"
   ]
  },
  {
   "cell_type": "code",
   "execution_count": 7,
   "metadata": {},
   "outputs": [],
   "source": [
    "ad_costs['day'] = ad_costs['day'] + pd.DateOffset(days=1)"
   ]
  },
  {
   "cell_type": "markdown",
   "metadata": {},
   "source": [
    "# Шаг 2. Продуктовые метрики"
   ]
  },
  {
   "cell_type": "markdown",
   "metadata": {},
   "source": [
    "## 2.1. DAU"
   ]
  },
  {
   "cell_type": "code",
   "execution_count": 8,
   "metadata": {},
   "outputs": [
    {
     "name": "stdout",
     "output_type": "stream",
     "text": [
      "Среднее значение метрики DAU: 2884.88\n"
     ]
    }
   ],
   "source": [
    "# Определим дату каждого собыття:\n",
    "game_actions['session_date'] = game_actions['event_datetime'].dt.normalize()\n",
    "# Вычислим среднее значение \n",
    "dau_mean = game_actions.groupby('session_date').agg({'user_id': 'nunique'}).mean()\n",
    "print('Среднее значение метрики DAU:', round(dau_mean[0],2))"
   ]
  },
  {
   "cell_type": "code",
   "execution_count": 9,
   "metadata": {
    "scrolled": false
   },
   "outputs": [
    {
     "data": {
      "image/svg+xml": [
       "<svg class=\"main-svg\" xmlns=\"http://www.w3.org/2000/svg\" xmlns:xlink=\"http://www.w3.org/1999/xlink\" width=\"800\" height=\"400\" style=\"\" viewBox=\"0 0 800 400\"><rect x=\"0\" y=\"0\" width=\"800\" height=\"400\" style=\"fill: rgb(255, 255, 255); fill-opacity: 1;\"/><defs id=\"defs-3dbcbc\"><g class=\"clips\"><clipPath id=\"clip3dbcbcxyplot\" class=\"plotclip\"><rect width=\"640\" height=\"260\"/></clipPath><clipPath class=\"axesclip\" id=\"clip3dbcbcx\"><rect x=\"80\" y=\"0\" width=\"640\" height=\"400\"/></clipPath><clipPath class=\"axesclip\" id=\"clip3dbcbcy\"><rect x=\"0\" y=\"60\" width=\"800\" height=\"260\"/></clipPath><clipPath class=\"axesclip\" id=\"clip3dbcbcxy\"><rect x=\"80\" y=\"60\" width=\"640\" height=\"260\"/></clipPath></g><g class=\"gradients\"/><g class=\"patterns\"/></defs><g class=\"bglayer\"><rect class=\"bg\" x=\"80\" y=\"60\" width=\"640\" height=\"260\" style=\"fill: rgb(229, 236, 246); fill-opacity: 1; stroke-width: 0;\"/></g><g class=\"layer-below\"><g class=\"imagelayer\"/><g class=\"shapelayer\"/></g><g class=\"cartesianlayer\"><g class=\"subplot xy\"><g class=\"layer-subplot\"><g class=\"shapelayer\"/><g class=\"imagelayer\"/></g><g class=\"gridlayer\"><g class=\"x\"><path class=\"xgrid crisp\" transform=\"translate(200,0)\" d=\"M0,60v260\" style=\"stroke: rgb(255, 255, 255); stroke-opacity: 1; stroke-width: 1px;\"/><path class=\"xgrid crisp\" transform=\"translate(340,0)\" d=\"M0,60v260\" style=\"stroke: rgb(255, 255, 255); stroke-opacity: 1; stroke-width: 1px;\"/><path class=\"xgrid crisp\" transform=\"translate(480,0)\" d=\"M0,60v260\" style=\"stroke: rgb(255, 255, 255); stroke-opacity: 1; stroke-width: 1px;\"/><path class=\"xgrid crisp\" transform=\"translate(620,0)\" d=\"M0,60v260\" style=\"stroke: rgb(255, 255, 255); stroke-opacity: 1; stroke-width: 1px;\"/></g><g class=\"y\"><path class=\"ygrid crisp\" transform=\"translate(0,256.31)\" d=\"M80,0h640\" style=\"stroke: rgb(255, 255, 255); stroke-opacity: 1; stroke-width: 1px;\"/><path class=\"ygrid crisp\" transform=\"translate(0,205.53)\" d=\"M80,0h640\" style=\"stroke: rgb(255, 255, 255); stroke-opacity: 1; stroke-width: 1px;\"/><path class=\"ygrid crisp\" transform=\"translate(0,154.74)\" d=\"M80,0h640\" style=\"stroke: rgb(255, 255, 255); stroke-opacity: 1; stroke-width: 1px;\"/><path class=\"ygrid crisp\" transform=\"translate(0,103.95)\" d=\"M80,0h640\" style=\"stroke: rgb(255, 255, 255); stroke-opacity: 1; stroke-width: 1px;\"/></g></g><g class=\"zerolinelayer\"><path class=\"yzl zl crisp\" transform=\"translate(0,307.1)\" d=\"M80,0h640\" style=\"stroke: rgb(255, 255, 255); stroke-opacity: 1; stroke-width: 2px;\"/></g><path class=\"xlines-below\"/><path class=\"ylines-below\"/><g class=\"overlines-below\"/><g class=\"xaxislayer-below\"/><g class=\"yaxislayer-below\"/><g class=\"overaxes-below\"/><g class=\"plot\" transform=\"translate(80,60)\" clip-path=\"url(#clip3dbcbcxyplot)\"><g class=\"scatterlayer mlayer\"><g class=\"trace scatter trace9c7ea9\" style=\"stroke-miterlimit: 2; opacity: 1;\"><g class=\"fills\"/><g class=\"errorbars\"/><g class=\"lines\"><path class=\"js-line\" d=\"M0,98.3L20,85.04L40,73.06L80,46.72L100,33.95L120,13L140,94.87L160,100.43L180,104.09L200,117.54L220,133.01L240,148.73L260,169.5L280,189.84L300,200.07L340,219.75L360,227.7L380,233.16L400,236.89L440,241.9L460,243.57L500,245.45L520,246.19L600,246.87L620,246.92L640,247\" style=\"vector-effect: non-scaling-stroke; fill: none; stroke: rgb(99, 110, 250); stroke-opacity: 1; stroke-width: 2px; opacity: 1;\"/></g><g class=\"points\"/><g class=\"text\"/></g></g></g><g class=\"overplot\"/><path class=\"xlines-above crisp\" d=\"M0,0\" style=\"fill: none;\"/><path class=\"ylines-above crisp\" d=\"M0,0\" style=\"fill: none;\"/><g class=\"overlines-above\"/><g class=\"xaxislayer-above\"><g class=\"xtick\"><text text-anchor=\"middle\" x=\"0\" y=\"333\" transform=\"translate(200,0)\" style=\"font-family: 'Open Sans', verdana, arial, sans-serif; font-size: 12px; fill: rgb(42, 63, 95); fill-opacity: 1; white-space: pre; opacity: 1;\"><tspan class=\"line\" dy=\"0em\" x=\"0\" y=\"333\">May 10</tspan><tspan class=\"line\" dy=\"1.3em\" x=\"0\" y=\"333\">2020</tspan></text></g><g class=\"xtick\"><text text-anchor=\"middle\" x=\"0\" y=\"333\" style=\"font-family: 'Open Sans', verdana, arial, sans-serif; font-size: 12px; fill: rgb(42, 63, 95); fill-opacity: 1; white-space: pre; opacity: 1;\" transform=\"translate(340,0)\">May 17</text></g><g class=\"xtick\"><text text-anchor=\"middle\" x=\"0\" y=\"333\" style=\"font-family: 'Open Sans', verdana, arial, sans-serif; font-size: 12px; fill: rgb(42, 63, 95); fill-opacity: 1; white-space: pre; opacity: 1;\" transform=\"translate(480,0)\">May 24</text></g><g class=\"xtick\"><text text-anchor=\"middle\" x=\"0\" y=\"333\" style=\"font-family: 'Open Sans', verdana, arial, sans-serif; font-size: 12px; fill: rgb(42, 63, 95); fill-opacity: 1; white-space: pre; opacity: 1;\" transform=\"translate(620,0)\">May 31</text></g></g><g class=\"yaxislayer-above\"><g class=\"ytick\"><text text-anchor=\"end\" x=\"79\" y=\"4.199999999999999\" transform=\"translate(0,307.1)\" style=\"font-family: 'Open Sans', verdana, arial, sans-serif; font-size: 12px; fill: rgb(42, 63, 95); fill-opacity: 1; white-space: pre; opacity: 1;\">0</text></g><g class=\"ytick\"><text text-anchor=\"end\" x=\"79\" y=\"4.199999999999999\" style=\"font-family: 'Open Sans', verdana, arial, sans-serif; font-size: 12px; fill: rgb(42, 63, 95); fill-opacity: 1; white-space: pre; opacity: 1;\" transform=\"translate(0,256.31)\">2000</text></g><g class=\"ytick\"><text text-anchor=\"end\" x=\"79\" y=\"4.199999999999999\" style=\"font-family: 'Open Sans', verdana, arial, sans-serif; font-size: 12px; fill: rgb(42, 63, 95); fill-opacity: 1; white-space: pre; opacity: 1;\" transform=\"translate(0,205.53)\">4000</text></g><g class=\"ytick\"><text text-anchor=\"end\" x=\"79\" y=\"4.199999999999999\" style=\"font-family: 'Open Sans', verdana, arial, sans-serif; font-size: 12px; fill: rgb(42, 63, 95); fill-opacity: 1; white-space: pre; opacity: 1;\" transform=\"translate(0,154.74)\">6000</text></g><g class=\"ytick\"><text text-anchor=\"end\" x=\"79\" y=\"4.199999999999999\" style=\"font-family: 'Open Sans', verdana, arial, sans-serif; font-size: 12px; fill: rgb(42, 63, 95); fill-opacity: 1; white-space: pre; opacity: 1;\" transform=\"translate(0,103.95)\">8000</text></g></g><g class=\"overaxes-above\"/></g></g><g class=\"polarlayer\"/><g class=\"ternarylayer\"/><g class=\"geolayer\"/><g class=\"funnelarealayer\"/><g class=\"pielayer\"/><g class=\"iciclelayer\"/><g class=\"treemaplayer\"/><g class=\"sunburstlayer\"/><g class=\"glimages\"/><defs id=\"topdefs-3dbcbc\"><g class=\"clips\"/></defs><g class=\"layer-above\"><g class=\"imagelayer\"/><g class=\"shapelayer\"/></g><g class=\"infolayer\"><g class=\"g-gtitle\"><text class=\"gtitle\" x=\"40\" y=\"30\" text-anchor=\"start\" dy=\"0em\" style=\"font-family: 'Open Sans', verdana, arial, sans-serif; font-size: 17px; fill: rgb(42, 63, 95); opacity: 1; font-weight: normal; white-space: pre;\">Распределение параметра DAU</text></g><g class=\"g-xtitle\"><text class=\"xtitle\" x=\"400\" y=\"376.409375\" text-anchor=\"middle\" style=\"font-family: 'Open Sans', verdana, arial, sans-serif; font-size: 14px; fill: rgb(42, 63, 95); opacity: 1; font-weight: normal; white-space: pre;\">Дата</text></g><g class=\"g-ytitle\"><text class=\"ytitle\" transform=\"rotate(-90,23.684375000000003,190)\" x=\"23.684375000000003\" y=\"190\" text-anchor=\"middle\" style=\"font-family: 'Open Sans', verdana, arial, sans-serif; font-size: 14px; fill: rgb(42, 63, 95); opacity: 1; font-weight: normal; white-space: pre;\">Кол-во уникальных пользователей</text></g></g></svg>"
      ]
     },
     "metadata": {},
     "output_type": "display_data"
    }
   ],
   "source": [
    "dau = game_actions.groupby('session_date', as_index = False).agg({'user_id': 'nunique'})\n",
    "fig = px.line(dau, x='session_date', y='user_id', width=800, height=400)\n",
    "fig.update_layout(\n",
    "    title='Распределение параметра DAU',\n",
    "    xaxis_title=\"Дата\",\n",
    "    yaxis_title=\"Кол-во уникальных пользователей\")\n",
    "fig.show('svg')"
   ]
  },
  {
   "cell_type": "markdown",
   "metadata": {},
   "source": [
    "**Вывод:** Из графика видно, что максимальное значение DAU было 10 мая. До этой даты тенденция была восходящая, после нисходящая."
   ]
  },
  {
   "cell_type": "code",
   "execution_count": 10,
   "metadata": {},
   "outputs": [],
   "source": [
    "game_actions.to_csv('game_actions')"
   ]
  },
  {
   "cell_type": "markdown",
   "metadata": {},
   "source": [
    "## 2.2. Retention Rate"
   ]
  },
  {
   "cell_type": "markdown",
   "metadata": {},
   "source": [
    "Определим первое посещение каждого пользователя:"
   ]
  },
  {
   "cell_type": "code",
   "execution_count": 11,
   "metadata": {
    "scrolled": true
   },
   "outputs": [],
   "source": [
    "first_activity_date = game_actions.groupby(['user_id'])['session_date'].min()\n",
    "first_activity_date.name = 'cohort_group'"
   ]
  },
  {
   "cell_type": "markdown",
   "metadata": {},
   "source": [
    "Добавим в общую таблицу данные о первом посещении для каждого пользователя:"
   ]
  },
  {
   "cell_type": "code",
   "execution_count": 12,
   "metadata": {},
   "outputs": [],
   "source": [
    "game_actions = game_actions.join(first_activity_date, on='user_id')"
   ]
  },
  {
   "cell_type": "markdown",
   "metadata": {},
   "source": [
    "Когорты будем формировать по дням, то время жизни когорты определим разностью дат:"
   ]
  },
  {
   "cell_type": "code",
   "execution_count": 13,
   "metadata": {},
   "outputs": [],
   "source": [
    "game_actions['cohort_lifetime'] = game_actions['session_date'] - game_actions['cohort_group']"
   ]
  },
  {
   "cell_type": "markdown",
   "metadata": {},
   "source": [
    "Приведем время жизни когорты к числовому значению:"
   ]
  },
  {
   "cell_type": "code",
   "execution_count": 14,
   "metadata": {},
   "outputs": [],
   "source": [
    "game_actions['cohort_lifetime'] = game_actions['cohort_lifetime'] / np.timedelta64(1, 'D')\n",
    "game_actions['cohort_lifetime'] = game_actions['cohort_lifetime'].astype('int')"
   ]
  },
  {
   "cell_type": "markdown",
   "metadata": {},
   "source": [
    "Для анализа возьмем данные, равные когортам:"
   ]
  },
  {
   "cell_type": "code",
   "execution_count": 15,
   "metadata": {},
   "outputs": [],
   "source": [
    "game_actions_new = game_actions"
   ]
  },
  {
   "cell_type": "markdown",
   "metadata": {},
   "source": [
    "Cформируем когорту:"
   ]
  },
  {
   "cell_type": "code",
   "execution_count": 16,
   "metadata": {},
   "outputs": [],
   "source": [
    "cohorts = game_actions_new.groupby(['cohort_group','cohort_lifetime']).agg({'user_id':'nunique'}).reset_index()"
   ]
  },
  {
   "cell_type": "markdown",
   "metadata": {},
   "source": [
    "Построим когорту и сделаем срез с нулевыми значениями длины жизни:"
   ]
  },
  {
   "cell_type": "code",
   "execution_count": 17,
   "metadata": {},
   "outputs": [],
   "source": [
    "initial_users_count = cohorts[cohorts['cohort_lifetime'] == 0][['cohort_group', 'user_id']]\n",
    "initial_users_count = initial_users_count.rename(columns={'user_id':'cohort_users'}).reset_index(drop=True)"
   ]
  },
  {
   "cell_type": "markdown",
   "metadata": {},
   "source": [
    "Объединим данные:"
   ]
  },
  {
   "cell_type": "code",
   "execution_count": 18,
   "metadata": {},
   "outputs": [],
   "source": [
    "cohorts = cohorts.merge(initial_users_count,on='cohort_group')"
   ]
  },
  {
   "cell_type": "markdown",
   "metadata": {},
   "source": [
    "Рассчитаем **Retention Rate**, разделив количество активных пользователей в каждый день на исходное число пользователей в когорте:"
   ]
  },
  {
   "cell_type": "code",
   "execution_count": 19,
   "metadata": {},
   "outputs": [],
   "source": [
    "cohorts['retention'] = cohorts['user_id']/cohorts['cohort_users']"
   ]
  },
  {
   "cell_type": "code",
   "execution_count": 20,
   "metadata": {},
   "outputs": [],
   "source": [
    "cohorts['cohort_group'] = cohorts['cohort_group'].dt.strftime('%Y-%m-%d')"
   ]
  },
  {
   "cell_type": "code",
   "execution_count": 21,
   "metadata": {},
   "outputs": [],
   "source": [
    "retention_pivot = cohorts.pivot_table(\n",
    "    index='cohort_group',\n",
    "    columns='cohort_lifetime',\n",
    "    values='retention',\n",
    "    aggfunc='sum',\n",
    ")"
   ]
  },
  {
   "cell_type": "code",
   "execution_count": 22,
   "metadata": {
    "scrolled": false
   },
   "outputs": [
    {
     "data": {
      "image/png": "[encoded data removed]",
      "text/plain": [
       "<Figure size 1224x360 with 1 Axes>"
      ]
     },
     "metadata": {},
     "output_type": "display_data"
    }
   ],
   "source": [
    "sns.set(style='white')\n",
    "plt.figure(figsize=(17, 5))\n",
    "plt.title('Retention Rate', fontsize=16, pad=20)\n",
    "sns.heatmap(retention_pivot, annot=True, fmt='.2f', linewidths=1, linecolor='gray', cmap= 'coolwarm', cbar=False, vmin = 0.3);\n",
    "plt.xlabel('Время жизни когорты', fontsize=12)\n",
    "plt.ylabel('Когорта', fontsize=12);"
   ]
  },
  {
   "cell_type": "markdown",
   "metadata": {},
   "source": [
    "**Вывод:** На каждом времени жизни разных когорт RR приблизительно одинаковы, что говорит о правильном выборе источников трафика. С увеличением времени жизни когорты, RR увеличивается, о чем можно предположить, что пользователям отсылают Push-уведомления о напоминании данного приложения."
   ]
  },
  {
   "cell_type": "markdown",
   "metadata": {},
   "source": [
    "## 2.3. Распределение кол-ва пользователей по источникам"
   ]
  },
  {
   "cell_type": "code",
   "execution_count": 23,
   "metadata": {},
   "outputs": [
    {
     "data": {
      "image/svg+xml": [
       "<svg class=\"main-svg\" xmlns=\"http://www.w3.org/2000/svg\" xmlns:xlink=\"http://www.w3.org/1999/xlink\" width=\"800\" height=\"400\" style=\"\" viewBox=\"0 0 800 400\"><rect x=\"0\" y=\"0\" width=\"800\" height=\"400\" style=\"fill: rgb(255, 255, 255); fill-opacity: 1;\"/><defs id=\"defs-c309a0\"><g class=\"clips\"><clipPath id=\"clipc309a0xyplot\" class=\"plotclip\"><rect width=\"640\" height=\"260\"/></clipPath><clipPath class=\"axesclip\" id=\"clipc309a0x\"><rect x=\"80\" y=\"0\" width=\"640\" height=\"400\"/></clipPath><clipPath class=\"axesclip\" id=\"clipc309a0y\"><rect x=\"0\" y=\"60\" width=\"800\" height=\"260\"/></clipPath><clipPath class=\"axesclip\" id=\"clipc309a0xy\"><rect x=\"80\" y=\"60\" width=\"640\" height=\"260\"/></clipPath></g><g class=\"gradients\"/><g class=\"patterns\"/></defs><g class=\"bglayer\"><rect class=\"bg\" x=\"80\" y=\"60\" width=\"640\" height=\"260\" style=\"fill: rgb(229, 236, 246); fill-opacity: 1; stroke-width: 0;\"/></g><g class=\"layer-below\"><g class=\"imagelayer\"/><g class=\"shapelayer\"/></g><g class=\"cartesianlayer\"><g class=\"subplot xy\"><g class=\"layer-subplot\"><g class=\"shapelayer\"/><g class=\"imagelayer\"/></g><g class=\"gridlayer\"><g class=\"x\"/><g class=\"y\"><path class=\"ygrid crisp\" transform=\"translate(0,268.72)\" d=\"M80,0h640\" style=\"stroke: rgb(255, 255, 255); stroke-opacity: 1; stroke-width: 1px;\"/><path class=\"ygrid crisp\" transform=\"translate(0,217.45)\" d=\"M80,0h640\" style=\"stroke: rgb(255, 255, 255); stroke-opacity: 1; stroke-width: 1px;\"/><path class=\"ygrid crisp\" transform=\"translate(0,166.17000000000002)\" d=\"M80,0h640\" style=\"stroke: rgb(255, 255, 255); stroke-opacity: 1; stroke-width: 1px;\"/><path class=\"ygrid crisp\" transform=\"translate(0,114.89)\" d=\"M80,0h640\" style=\"stroke: rgb(255, 255, 255); stroke-opacity: 1; stroke-width: 1px;\"/><path class=\"ygrid crisp\" transform=\"translate(0,63.62)\" d=\"M80,0h640\" style=\"stroke: rgb(255, 255, 255); stroke-opacity: 1; stroke-width: 1px;\"/></g></g><g class=\"zerolinelayer\"><path class=\"yzl zl crisp\" transform=\"translate(0,320)\" d=\"M80,0h640\" style=\"stroke: rgb(255, 255, 255); stroke-opacity: 1; stroke-width: 2px;\"/></g><path class=\"xlines-below\"/><path class=\"ylines-below\"/><g class=\"overlines-below\"/><g class=\"xaxislayer-below\"/><g class=\"yaxislayer-below\"/><g class=\"overaxes-below\"/><g class=\"plot\" transform=\"translate(80,60)\" clip-path=\"url(#clipc309a0xyplot)\"><g class=\"barlayer mlayer\"><g class=\"trace bars\" style=\"opacity: 1;\"><g class=\"points\"><g class=\"point\"><path d=\"M8,260V120.22H152V260Z\" style=\"vector-effect: non-scaling-stroke; opacity: 1; stroke-width: 0px; fill: rgb(99, 110, 250); fill-opacity: 1;\"/></g><g class=\"point\"><path d=\"M168,260V13H312V260Z\" style=\"vector-effect: non-scaling-stroke; opacity: 1; stroke-width: 0px; fill: rgb(99, 110, 250); fill-opacity: 1;\"/></g><g class=\"point\"><path d=\"M328,260V122.27H472V260Z\" style=\"vector-effect: non-scaling-stroke; opacity: 1; stroke-width: 0px; fill: rgb(99, 110, 250); fill-opacity: 1;\"/></g><g class=\"point\"><path d=\"M488,260V88.38H632V260Z\" style=\"vector-effect: non-scaling-stroke; opacity: 1; stroke-width: 0px; fill: rgb(99, 110, 250); fill-opacity: 1;\"/></g></g></g></g></g><g class=\"overplot\"/><path class=\"xlines-above crisp\" d=\"M0,0\" style=\"fill: none;\"/><path class=\"ylines-above crisp\" d=\"M0,0\" style=\"fill: none;\"/><g class=\"overlines-above\"/><g class=\"xaxislayer-above\"><g class=\"xtick\"><text text-anchor=\"middle\" x=\"0\" y=\"333\" transform=\"translate(160,0)\" style=\"font-family: 'Open Sans', verdana, arial, sans-serif; font-size: 12px; fill: rgb(42, 63, 95); fill-opacity: 1; white-space: pre; opacity: 1;\">facebook_ads</text></g><g class=\"xtick\"><text text-anchor=\"middle\" x=\"0\" y=\"333\" transform=\"translate(320,0)\" style=\"font-family: 'Open Sans', verdana, arial, sans-serif; font-size: 12px; fill: rgb(42, 63, 95); fill-opacity: 1; white-space: pre; opacity: 1;\">yandex_direct</text></g><g class=\"xtick\"><text text-anchor=\"middle\" x=\"0\" y=\"333\" transform=\"translate(480,0)\" style=\"font-family: 'Open Sans', verdana, arial, sans-serif; font-size: 12px; fill: rgb(42, 63, 95); fill-opacity: 1; white-space: pre; opacity: 1;\">youtube_channel_reklama</text></g><g class=\"xtick\"><text text-anchor=\"middle\" x=\"0\" y=\"333\" transform=\"translate(640,0)\" style=\"font-family: 'Open Sans', verdana, arial, sans-serif; font-size: 12px; fill: rgb(42, 63, 95); fill-opacity: 1; white-space: pre; opacity: 1;\">instagram_new_adverts</text></g></g><g class=\"yaxislayer-above\"><g class=\"ytick\"><text text-anchor=\"end\" x=\"79\" y=\"4.199999999999999\" transform=\"translate(0,320)\" style=\"font-family: 'Open Sans', verdana, arial, sans-serif; font-size: 12px; fill: rgb(42, 63, 95); fill-opacity: 1; white-space: pre; opacity: 1;\">0</text></g><g class=\"ytick\"><text text-anchor=\"end\" x=\"79\" y=\"4.199999999999999\" style=\"font-family: 'Open Sans', verdana, arial, sans-serif; font-size: 12px; fill: rgb(42, 63, 95); fill-opacity: 1; white-space: pre; opacity: 1;\" transform=\"translate(0,268.72)\">1000</text></g><g class=\"ytick\"><text text-anchor=\"end\" x=\"79\" y=\"4.199999999999999\" style=\"font-family: 'Open Sans', verdana, arial, sans-serif; font-size: 12px; fill: rgb(42, 63, 95); fill-opacity: 1; white-space: pre; opacity: 1;\" transform=\"translate(0,217.45)\">2000</text></g><g class=\"ytick\"><text text-anchor=\"end\" x=\"79\" y=\"4.199999999999999\" style=\"font-family: 'Open Sans', verdana, arial, sans-serif; font-size: 12px; fill: rgb(42, 63, 95); fill-opacity: 1; white-space: pre; opacity: 1;\" transform=\"translate(0,166.17000000000002)\">3000</text></g><g class=\"ytick\"><text text-anchor=\"end\" x=\"79\" y=\"4.199999999999999\" style=\"font-family: 'Open Sans', verdana, arial, sans-serif; font-size: 12px; fill: rgb(42, 63, 95); fill-opacity: 1; white-space: pre; opacity: 1;\" transform=\"translate(0,114.89)\">4000</text></g><g class=\"ytick\"><text text-anchor=\"end\" x=\"79\" y=\"4.199999999999999\" style=\"font-family: 'Open Sans', verdana, arial, sans-serif; font-size: 12px; fill: rgb(42, 63, 95); fill-opacity: 1; white-space: pre; opacity: 1;\" transform=\"translate(0,63.62)\">5000</text></g></g><g class=\"overaxes-above\"/></g></g><g class=\"polarlayer\"/><g class=\"ternarylayer\"/><g class=\"geolayer\"/><g class=\"funnelarealayer\"/><g class=\"pielayer\"/><g class=\"iciclelayer\"/><g class=\"treemaplayer\"/><g class=\"sunburstlayer\"/><g class=\"glimages\"/><defs id=\"topdefs-c309a0\"><g class=\"clips\"/></defs><g class=\"layer-above\"><g class=\"imagelayer\"/><g class=\"shapelayer\"/></g><g class=\"infolayer\"><g class=\"g-gtitle\"><text class=\"gtitle\" x=\"40\" y=\"30\" text-anchor=\"start\" dy=\"0em\" style=\"font-family: 'Open Sans', verdana, arial, sans-serif; font-size: 17px; fill: rgb(42, 63, 95); opacity: 1; font-weight: normal; white-space: pre;\">Гистограмма распределения количества пользователей по источникам</text></g><g class=\"g-xtitle\"><text class=\"xtitle\" x=\"400\" y=\"360.8\" text-anchor=\"middle\" style=\"font-family: 'Open Sans', verdana, arial, sans-serif; font-size: 14px; fill: rgb(42, 63, 95); opacity: 1; font-weight: normal; white-space: pre;\">Источник</text></g><g class=\"g-ytitle\"><text class=\"ytitle\" transform=\"rotate(-90,23.684375000000003,190)\" x=\"23.684375000000003\" y=\"190\" text-anchor=\"middle\" style=\"font-family: 'Open Sans', verdana, arial, sans-serif; font-size: 14px; fill: rgb(42, 63, 95); opacity: 1; font-weight: normal; white-space: pre;\">Количество</text></g></g></svg>"
      ]
     },
     "metadata": {},
     "output_type": "display_data"
    }
   ],
   "source": [
    "fig = px.histogram(user_source, x='source', width=800, height=400)\n",
    "fig.update_layout(bargap=0.1)\n",
    "fig.update_layout(\n",
    "    title='Гистограмма распределения количества пользователей по источникам',\n",
    "    xaxis_title=\"Источник\",\n",
    "    yaxis_title=\"Количество\")\n",
    "fig.show('svg')"
   ]
  },
  {
   "cell_type": "markdown",
   "metadata": {},
   "source": [
    "**Вывод:** Наибольшее количество пользователей пришло с Яндекса, а наименьшее - Ютуба."
   ]
  },
  {
   "cell_type": "markdown",
   "metadata": {},
   "source": [
    "# Шаг 3. Маркетинговые метрики\n",
    "\n",
    "## 3.1. Общая сумма расходов. Траты по источникам"
   ]
  },
  {
   "cell_type": "markdown",
   "metadata": {},
   "source": [
    "Возьмем, что расходы на маркетинг измеряются в долларах."
   ]
  },
  {
   "cell_type": "code",
   "execution_count": 24,
   "metadata": {},
   "outputs": [],
   "source": [
    "costs_group = ad_costs.groupby('day', as_index=False).agg({'cost':'sum'})"
   ]
  },
  {
   "cell_type": "code",
   "execution_count": 25,
   "metadata": {},
   "outputs": [
    {
     "data": {
      "image/svg+xml": [
       "<svg class=\"main-svg\" xmlns=\"http://www.w3.org/2000/svg\" xmlns:xlink=\"http://www.w3.org/1999/xlink\" width=\"800\" height=\"400\" style=\"\" viewBox=\"0 0 800 400\"><rect x=\"0\" y=\"0\" width=\"800\" height=\"400\" style=\"fill: rgb(255, 255, 255); fill-opacity: 1;\"/><defs id=\"defs-4248ee\"><g class=\"clips\"><clipPath id=\"clip4248eexyplot\" class=\"plotclip\"><rect width=\"640\" height=\"260\"/></clipPath><clipPath class=\"axesclip\" id=\"clip4248eex\"><rect x=\"80\" y=\"0\" width=\"640\" height=\"400\"/></clipPath><clipPath class=\"axesclip\" id=\"clip4248eey\"><rect x=\"0\" y=\"60\" width=\"800\" height=\"260\"/></clipPath><clipPath class=\"axesclip\" id=\"clip4248eexy\"><rect x=\"80\" y=\"60\" width=\"640\" height=\"260\"/></clipPath></g><g class=\"gradients\"/><g class=\"patterns\"/></defs><g class=\"bglayer\"><rect class=\"bg\" x=\"80\" y=\"60\" width=\"640\" height=\"260\" style=\"fill: rgb(229, 236, 246); fill-opacity: 1; stroke-width: 0;\"/></g><g class=\"layer-below\"><g class=\"imagelayer\"/><g class=\"shapelayer\"/></g><g class=\"cartesianlayer\"><g class=\"subplot xy\"><g class=\"layer-subplot\"><g class=\"shapelayer\"/><g class=\"imagelayer\"/></g><g class=\"gridlayer\"><g class=\"x\"><path class=\"xgrid crisp\" transform=\"translate(186.67000000000002,0)\" d=\"M0,60v260\" style=\"stroke: rgb(255, 255, 255); stroke-opacity: 1; stroke-width: 1px;\"/><path class=\"xgrid crisp\" transform=\"translate(293.33000000000004,0)\" d=\"M0,60v260\" style=\"stroke: rgb(255, 255, 255); stroke-opacity: 1; stroke-width: 1px;\"/><path class=\"xgrid crisp\" transform=\"translate(400,0)\" d=\"M0,60v260\" style=\"stroke: rgb(255, 255, 255); stroke-opacity: 1; stroke-width: 1px;\"/><path class=\"xgrid crisp\" transform=\"translate(506.67,0)\" d=\"M0,60v260\" style=\"stroke: rgb(255, 255, 255); stroke-opacity: 1; stroke-width: 1px;\"/><path class=\"xgrid crisp\" transform=\"translate(613.33,0)\" d=\"M0,60v260\" style=\"stroke: rgb(255, 255, 255); stroke-opacity: 1; stroke-width: 1px;\"/></g><g class=\"y\"><path class=\"ygrid crisp\" transform=\"translate(0,281.13)\" d=\"M80,0h640\" style=\"stroke: rgb(255, 255, 255); stroke-opacity: 1; stroke-width: 1px;\"/><path class=\"ygrid crisp\" transform=\"translate(0,243.99)\" d=\"M80,0h640\" style=\"stroke: rgb(255, 255, 255); stroke-opacity: 1; stroke-width: 1px;\"/><path class=\"ygrid crisp\" transform=\"translate(0,206.86)\" d=\"M80,0h640\" style=\"stroke: rgb(255, 255, 255); stroke-opacity: 1; stroke-width: 1px;\"/><path class=\"ygrid crisp\" transform=\"translate(0,169.73000000000002)\" d=\"M80,0h640\" style=\"stroke: rgb(255, 255, 255); stroke-opacity: 1; stroke-width: 1px;\"/><path class=\"ygrid crisp\" transform=\"translate(0,132.59)\" d=\"M80,0h640\" style=\"stroke: rgb(255, 255, 255); stroke-opacity: 1; stroke-width: 1px;\"/><path class=\"ygrid crisp\" transform=\"translate(0,95.46000000000001)\" d=\"M80,0h640\" style=\"stroke: rgb(255, 255, 255); stroke-opacity: 1; stroke-width: 1px;\"/></g></g><g class=\"zerolinelayer\"><path class=\"yzl zl crisp\" transform=\"translate(0,318.26)\" d=\"M80,0h640\" style=\"stroke: rgb(255, 255, 255); stroke-opacity: 1; stroke-width: 2px;\"/></g><path class=\"xlines-below\"/><path class=\"ylines-below\"/><g class=\"overlines-below\"/><g class=\"xaxislayer-below\"/><g class=\"yaxislayer-below\"/><g class=\"overaxes-below\"/><g class=\"plot\" transform=\"translate(80,60)\" clip-path=\"url(#clip4248eexyplot)\"><g class=\"scatterlayer mlayer\"><g class=\"trace scatter trace14a59c\" style=\"stroke-miterlimit: 2; opacity: 1;\"><g class=\"fills\"/><g class=\"errorbars\"/><g class=\"lines\"><path class=\"js-line\" d=\"M0,13L106.67,119.75L213.33,181.81L320,212.18L426.67,229.16L533.33,240.23L640,247\" style=\"vector-effect: non-scaling-stroke; fill: none; stroke: rgb(99, 110, 250); stroke-opacity: 1; stroke-width: 2px; opacity: 1;\"/></g><g class=\"points\"/><g class=\"text\"/></g></g></g><g class=\"overplot\"/><path class=\"xlines-above crisp\" d=\"M0,0\" style=\"fill: none;\"/><path class=\"ylines-above crisp\" d=\"M0,0\" style=\"fill: none;\"/><g class=\"overlines-above\"/><g class=\"xaxislayer-above\"><g class=\"xtick\"><text text-anchor=\"middle\" x=\"0\" y=\"333\" transform=\"translate(80,0)\" style=\"font-family: 'Open Sans', verdana, arial, sans-serif; font-size: 12px; fill: rgb(42, 63, 95); fill-opacity: 1; white-space: pre; opacity: 1;\"><tspan class=\"line\" dy=\"0em\" x=\"0\" y=\"333\">May 4</tspan><tspan class=\"line\" dy=\"1.3em\" x=\"0\" y=\"333\">2020</tspan></text></g><g class=\"xtick\"><text text-anchor=\"middle\" x=\"0\" y=\"333\" style=\"font-family: 'Open Sans', verdana, arial, sans-serif; font-size: 12px; fill: rgb(42, 63, 95); fill-opacity: 1; white-space: pre; opacity: 1;\" transform=\"translate(186.67000000000002,0)\">May 5</text></g><g class=\"xtick\"><text text-anchor=\"middle\" x=\"0\" y=\"333\" style=\"font-family: 'Open Sans', verdana, arial, sans-serif; font-size: 12px; fill: rgb(42, 63, 95); fill-opacity: 1; white-space: pre; opacity: 1;\" transform=\"translate(293.33000000000004,0)\">May 6</text></g><g class=\"xtick\"><text text-anchor=\"middle\" x=\"0\" y=\"333\" style=\"font-family: 'Open Sans', verdana, arial, sans-serif; font-size: 12px; fill: rgb(42, 63, 95); fill-opacity: 1; white-space: pre; opacity: 1;\" transform=\"translate(400,0)\">May 7</text></g><g class=\"xtick\"><text text-anchor=\"middle\" x=\"0\" y=\"333\" style=\"font-family: 'Open Sans', verdana, arial, sans-serif; font-size: 12px; fill: rgb(42, 63, 95); fill-opacity: 1; white-space: pre; opacity: 1;\" transform=\"translate(506.67,0)\">May 8</text></g><g class=\"xtick\"><text text-anchor=\"middle\" x=\"0\" y=\"333\" style=\"font-family: 'Open Sans', verdana, arial, sans-serif; font-size: 12px; fill: rgb(42, 63, 95); fill-opacity: 1; white-space: pre; opacity: 1;\" transform=\"translate(613.33,0)\">May 9</text></g><g class=\"xtick\"><text text-anchor=\"middle\" x=\"0\" y=\"333\" style=\"font-family: 'Open Sans', verdana, arial, sans-serif; font-size: 12px; fill: rgb(42, 63, 95); fill-opacity: 1; white-space: pre; opacity: 1;\" transform=\"translate(720,0)\">May 10</text></g></g><g class=\"yaxislayer-above\"><g class=\"ytick\"><text text-anchor=\"end\" x=\"79\" y=\"4.199999999999999\" transform=\"translate(0,318.26)\" style=\"font-family: 'Open Sans', verdana, arial, sans-serif; font-size: 12px; fill: rgb(42, 63, 95); fill-opacity: 1; white-space: pre; opacity: 1;\">0</text></g><g class=\"ytick\"><text text-anchor=\"end\" x=\"79\" y=\"4.199999999999999\" style=\"font-family: 'Open Sans', verdana, arial, sans-serif; font-size: 12px; fill: rgb(42, 63, 95); fill-opacity: 1; white-space: pre; opacity: 1;\" transform=\"translate(0,281.13)\">500</text></g><g class=\"ytick\"><text text-anchor=\"end\" x=\"79\" y=\"4.199999999999999\" style=\"font-family: 'Open Sans', verdana, arial, sans-serif; font-size: 12px; fill: rgb(42, 63, 95); fill-opacity: 1; white-space: pre; opacity: 1;\" transform=\"translate(0,243.99)\">1000</text></g><g class=\"ytick\"><text text-anchor=\"end\" x=\"79\" y=\"4.199999999999999\" style=\"font-family: 'Open Sans', verdana, arial, sans-serif; font-size: 12px; fill: rgb(42, 63, 95); fill-opacity: 1; white-space: pre; opacity: 1;\" transform=\"translate(0,206.86)\">1500</text></g><g class=\"ytick\"><text text-anchor=\"end\" x=\"79\" y=\"4.199999999999999\" style=\"font-family: 'Open Sans', verdana, arial, sans-serif; font-size: 12px; fill: rgb(42, 63, 95); fill-opacity: 1; white-space: pre; opacity: 1;\" transform=\"translate(0,169.73000000000002)\">2000</text></g><g class=\"ytick\"><text text-anchor=\"end\" x=\"79\" y=\"4.199999999999999\" style=\"font-family: 'Open Sans', verdana, arial, sans-serif; font-size: 12px; fill: rgb(42, 63, 95); fill-opacity: 1; white-space: pre; opacity: 1;\" transform=\"translate(0,132.59)\">2500</text></g><g class=\"ytick\"><text text-anchor=\"end\" x=\"79\" y=\"4.199999999999999\" style=\"font-family: 'Open Sans', verdana, arial, sans-serif; font-size: 12px; fill: rgb(42, 63, 95); fill-opacity: 1; white-space: pre; opacity: 1;\" transform=\"translate(0,95.46000000000001)\">3000</text></g></g><g class=\"overaxes-above\"/></g></g><g class=\"polarlayer\"/><g class=\"ternarylayer\"/><g class=\"geolayer\"/><g class=\"funnelarealayer\"/><g class=\"pielayer\"/><g class=\"iciclelayer\"/><g class=\"treemaplayer\"/><g class=\"sunburstlayer\"/><g class=\"glimages\"/><defs id=\"topdefs-4248ee\"><g class=\"clips\"/></defs><g class=\"layer-above\"><g class=\"imagelayer\"/><g class=\"shapelayer\"/></g><g class=\"infolayer\"><g class=\"g-gtitle\"><text class=\"gtitle\" x=\"40\" y=\"30\" text-anchor=\"start\" dy=\"0em\" style=\"font-family: 'Open Sans', verdana, arial, sans-serif; font-size: 17px; fill: rgb(42, 63, 95); opacity: 1; font-weight: normal; white-space: pre;\">Распределение трат на маркетинг в разные дни</text></g><g class=\"g-xtitle\"><text class=\"xtitle\" x=\"400\" y=\"376.409375\" text-anchor=\"middle\" style=\"font-family: 'Open Sans', verdana, arial, sans-serif; font-size: 14px; fill: rgb(42, 63, 95); opacity: 1; font-weight: normal; white-space: pre;\">Дата</text></g><g class=\"g-ytitle\"><text class=\"ytitle\" transform=\"rotate(-90,23.684375000000003,190)\" x=\"23.684375000000003\" y=\"190\" text-anchor=\"middle\" style=\"font-family: 'Open Sans', verdana, arial, sans-serif; font-size: 14px; fill: rgb(42, 63, 95); opacity: 1; font-weight: normal; white-space: pre;\">Траты, $</text></g></g></svg>"
      ]
     },
     "metadata": {},
     "output_type": "display_data"
    }
   ],
   "source": [
    "fig = px.line(costs_group, x='day', y='cost', width=800, height=400)\n",
    "fig.update_layout(\n",
    "    title='Распределение трат на маркетинг в разные дни',\n",
    "    xaxis_title=\"Дата\",\n",
    "    yaxis_title=\"Траты, $\")\n",
    "fig.show('svg')"
   ]
  },
  {
   "cell_type": "markdown",
   "metadata": {},
   "source": [
    "**Вывод:** С каждым днем траты на привлечение новых клиентов уменьшалось и прекратились 10 мая. Сопоставив данный грфик с DAU, можно понять, почему после 10 мая DAU иммеет нисходящий характер - прекратилась работа рекламной компании."
   ]
  },
  {
   "cell_type": "code",
   "execution_count": 26,
   "metadata": {},
   "outputs": [
    {
     "name": "stdout",
     "output_type": "stream",
     "text": [
      "Общая сумма потраченная на маркетинг = 7604 $\n"
     ]
    }
   ],
   "source": [
    "total_cost = ad_costs['cost'].sum()\n",
    "print('Общая сумма потраченная на маркетинг = {:.0f} $'.format(total_cost))"
   ]
  },
  {
   "cell_type": "code",
   "execution_count": 27,
   "metadata": {},
   "outputs": [
    {
     "data": {
      "image/svg+xml": [
       "<svg class=\"main-svg\" xmlns=\"http://www.w3.org/2000/svg\" xmlns:xlink=\"http://www.w3.org/1999/xlink\" width=\"900\" height=\"600\" style=\"\" viewBox=\"0 0 900 600\"><rect x=\"0\" y=\"0\" width=\"900\" height=\"600\" style=\"fill: rgb(255, 255, 255); fill-opacity: 1;\"/><defs id=\"defs-6c7ffe\"><g class=\"clips\"><clipPath id=\"clip6c7ffexyplot\" class=\"plotclip\"><rect width=\"591\" height=\"460\"/></clipPath><clipPath class=\"axesclip\" id=\"clip6c7ffex\"><rect x=\"80\" y=\"0\" width=\"591\" height=\"600\"/></clipPath><clipPath class=\"axesclip\" id=\"clip6c7ffey\"><rect x=\"0\" y=\"60\" width=\"900\" height=\"460\"/></clipPath><clipPath class=\"axesclip\" id=\"clip6c7ffexy\"><rect x=\"80\" y=\"60\" width=\"591\" height=\"460\"/></clipPath></g><g class=\"gradients\"/><g class=\"patterns\"/></defs><g class=\"bglayer\"><rect class=\"bg\" x=\"80\" y=\"60\" width=\"591\" height=\"460\" style=\"fill: rgb(229, 236, 246); fill-opacity: 1; stroke-width: 0;\"/></g><g class=\"layer-below\"><g class=\"imagelayer\"/><g class=\"shapelayer\"/></g><g class=\"cartesianlayer\"><g class=\"subplot xy\"><g class=\"layer-subplot\"><g class=\"shapelayer\"/><g class=\"imagelayer\"/></g><g class=\"gridlayer\"><g class=\"x\"><path class=\"xgrid crisp\" transform=\"translate(178.5,0)\" d=\"M0,60v460\" style=\"stroke: rgb(255, 255, 255); stroke-opacity: 1; stroke-width: 1px;\"/><path class=\"xgrid crisp\" transform=\"translate(277,0)\" d=\"M0,60v460\" style=\"stroke: rgb(255, 255, 255); stroke-opacity: 1; stroke-width: 1px;\"/><path class=\"xgrid crisp\" transform=\"translate(375.5,0)\" d=\"M0,60v460\" style=\"stroke: rgb(255, 255, 255); stroke-opacity: 1; stroke-width: 1px;\"/><path class=\"xgrid crisp\" transform=\"translate(474,0)\" d=\"M0,60v460\" style=\"stroke: rgb(255, 255, 255); stroke-opacity: 1; stroke-width: 1px;\"/><path class=\"xgrid crisp\" transform=\"translate(572.5,0)\" d=\"M0,60v460\" style=\"stroke: rgb(255, 255, 255); stroke-opacity: 1; stroke-width: 1px;\"/></g><g class=\"y\"><path class=\"ygrid crisp\" transform=\"translate(0,419.66)\" d=\"M80,0h591\" style=\"stroke: rgb(255, 255, 255); stroke-opacity: 1; stroke-width: 1px;\"/><path class=\"ygrid crisp\" transform=\"translate(0,332.12)\" d=\"M80,0h591\" style=\"stroke: rgb(255, 255, 255); stroke-opacity: 1; stroke-width: 1px;\"/><path class=\"ygrid crisp\" transform=\"translate(0,244.58)\" d=\"M80,0h591\" style=\"stroke: rgb(255, 255, 255); stroke-opacity: 1; stroke-width: 1px;\"/><path class=\"ygrid crisp\" transform=\"translate(0,157.03)\" d=\"M80,0h591\" style=\"stroke: rgb(255, 255, 255); stroke-opacity: 1; stroke-width: 1px;\"/><path class=\"ygrid crisp\" transform=\"translate(0,69.49)\" d=\"M80,0h591\" style=\"stroke: rgb(255, 255, 255); stroke-opacity: 1; stroke-width: 1px;\"/></g></g><g class=\"zerolinelayer\"><path class=\"yzl zl crisp\" transform=\"translate(0,507.21)\" d=\"M80,0h591\" style=\"stroke: rgb(255, 255, 255); stroke-opacity: 1; stroke-width: 2px;\"/></g><path class=\"xlines-below\"/><path class=\"ylines-below\"/><g class=\"overlines-below\"/><g class=\"xaxislayer-below\"/><g class=\"yaxislayer-below\"/><g class=\"overaxes-below\"/><g class=\"plot\" transform=\"translate(80,60)\" clip-path=\"url(#clip6c7ffexyplot)\"><g class=\"scatterlayer mlayer\"><g class=\"trace scatter trace7185ce\" style=\"stroke-miterlimit: 2; opacity: 1;\"><g class=\"fills\"/><g class=\"errorbars\"/><g class=\"lines\"><path class=\"js-line\" d=\"M0,37.56L98.5,207.18L197,333.32L295.5,369.3L394,398.28L492.5,417.44L591,430.26\" style=\"vector-effect: non-scaling-stroke; fill: none; stroke: rgb(99, 110, 250); stroke-opacity: 1; stroke-width: 2px; opacity: 1;\"/></g><g class=\"points\"/><g class=\"text\"/></g><g class=\"trace scatter tracebce9bf\" style=\"stroke-miterlimit: 2; opacity: 1;\"><g class=\"fills\"/><g class=\"errorbars\"/><g class=\"lines\"><path class=\"js-line\" d=\"M0,34.35L98.5,227.07L197,309.78L295.5,371.45L394,399.09L492.5,415.87L591,426.73\" style=\"vector-effect: non-scaling-stroke; fill: none; stroke: rgb(239, 85, 59); stroke-opacity: 1; stroke-width: 2px; opacity: 1;\"/></g><g class=\"points\"/><g class=\"text\"/></g><g class=\"trace scatter tracecae46d\" style=\"stroke-miterlimit: 2; opacity: 1;\"><g class=\"fills\"/><g class=\"errorbars\"/><g class=\"lines\"><path class=\"js-line\" d=\"M0,23L98.5,204.43L197,312.29L295.5,368.02L394,397.12L492.5,419.65L591,428.48\" style=\"vector-effect: non-scaling-stroke; fill: none; stroke: rgb(0, 204, 150); stroke-opacity: 1; stroke-width: 2px; opacity: 1;\"/></g><g class=\"points\"/><g class=\"text\"/></g><g class=\"trace scatter trace3b4cbd\" style=\"stroke-miterlimit: 2; opacity: 1;\"><g class=\"fills\"/><g class=\"errorbars\"/><g class=\"lines\"><path class=\"js-line\" d=\"M0,248.38L98.5,333.81L197,382.84L295.5,408.46L394,422.81L591,437\" style=\"vector-effect: non-scaling-stroke; fill: none; stroke: rgb(171, 99, 250); stroke-opacity: 1; stroke-width: 2px; opacity: 1;\"/></g><g class=\"points\"/><g class=\"text\"/></g></g></g><g class=\"overplot\"/><path class=\"xlines-above crisp\" d=\"M0,0\" style=\"fill: none;\"/><path class=\"ylines-above crisp\" d=\"M0,0\" style=\"fill: none;\"/><g class=\"overlines-above\"/><g class=\"xaxislayer-above\"><g class=\"xtick\"><text text-anchor=\"middle\" x=\"0\" y=\"533\" transform=\"translate(80,0)\" style=\"font-family: 'Open Sans', verdana, arial, sans-serif; font-size: 12px; fill: rgb(42, 63, 95); fill-opacity: 1; white-space: pre; opacity: 1;\"><tspan class=\"line\" dy=\"0em\" x=\"0\" y=\"533\">May 4</tspan><tspan class=\"line\" dy=\"1.3em\" x=\"0\" y=\"533\">2020</tspan></text></g><g class=\"xtick\"><text text-anchor=\"middle\" x=\"0\" y=\"533\" style=\"font-family: 'Open Sans', verdana, arial, sans-serif; font-size: 12px; fill: rgb(42, 63, 95); fill-opacity: 1; white-space: pre; opacity: 1;\" transform=\"translate(178.5,0)\">May 5</text></g><g class=\"xtick\"><text text-anchor=\"middle\" x=\"0\" y=\"533\" style=\"font-family: 'Open Sans', verdana, arial, sans-serif; font-size: 12px; fill: rgb(42, 63, 95); fill-opacity: 1; white-space: pre; opacity: 1;\" transform=\"translate(277,0)\">May 6</text></g><g class=\"xtick\"><text text-anchor=\"middle\" x=\"0\" y=\"533\" style=\"font-family: 'Open Sans', verdana, arial, sans-serif; font-size: 12px; fill: rgb(42, 63, 95); fill-opacity: 1; white-space: pre; opacity: 1;\" transform=\"translate(375.5,0)\">May 7</text></g><g class=\"xtick\"><text text-anchor=\"middle\" x=\"0\" y=\"533\" style=\"font-family: 'Open Sans', verdana, arial, sans-serif; font-size: 12px; fill: rgb(42, 63, 95); fill-opacity: 1; white-space: pre; opacity: 1;\" transform=\"translate(474,0)\">May 8</text></g><g class=\"xtick\"><text text-anchor=\"middle\" x=\"0\" y=\"533\" style=\"font-family: 'Open Sans', verdana, arial, sans-serif; font-size: 12px; fill: rgb(42, 63, 95); fill-opacity: 1; white-space: pre; opacity: 1;\" transform=\"translate(572.5,0)\">May 9</text></g><g class=\"xtick\"><text text-anchor=\"middle\" x=\"0\" y=\"533\" style=\"font-family: 'Open Sans', verdana, arial, sans-serif; font-size: 12px; fill: rgb(42, 63, 95); fill-opacity: 1; white-space: pre; opacity: 1;\" transform=\"translate(671,0)\">May 10</text></g></g><g class=\"yaxislayer-above\"><g class=\"ytick\"><text text-anchor=\"end\" x=\"79\" y=\"4.199999999999999\" transform=\"translate(0,507.21)\" style=\"font-family: 'Open Sans', verdana, arial, sans-serif; font-size: 12px; fill: rgb(42, 63, 95); fill-opacity: 1; white-space: pre; opacity: 1;\">0</text></g><g class=\"ytick\"><text text-anchor=\"end\" x=\"79\" y=\"4.199999999999999\" style=\"font-family: 'Open Sans', verdana, arial, sans-serif; font-size: 12px; fill: rgb(42, 63, 95); fill-opacity: 1; white-space: pre; opacity: 1;\" transform=\"translate(0,419.66)\">200</text></g><g class=\"ytick\"><text text-anchor=\"end\" x=\"79\" y=\"4.199999999999999\" style=\"font-family: 'Open Sans', verdana, arial, sans-serif; font-size: 12px; fill: rgb(42, 63, 95); fill-opacity: 1; white-space: pre; opacity: 1;\" transform=\"translate(0,332.12)\">400</text></g><g class=\"ytick\"><text text-anchor=\"end\" x=\"79\" y=\"4.199999999999999\" style=\"font-family: 'Open Sans', verdana, arial, sans-serif; font-size: 12px; fill: rgb(42, 63, 95); fill-opacity: 1; white-space: pre; opacity: 1;\" transform=\"translate(0,244.58)\">600</text></g><g class=\"ytick\"><text text-anchor=\"end\" x=\"79\" y=\"4.199999999999999\" style=\"font-family: 'Open Sans', verdana, arial, sans-serif; font-size: 12px; fill: rgb(42, 63, 95); fill-opacity: 1; white-space: pre; opacity: 1;\" transform=\"translate(0,157.03)\">800</text></g><g class=\"ytick\"><text text-anchor=\"end\" x=\"79\" y=\"4.199999999999999\" style=\"font-family: 'Open Sans', verdana, arial, sans-serif; font-size: 12px; fill: rgb(42, 63, 95); fill-opacity: 1; white-space: pre; opacity: 1;\" transform=\"translate(0,69.49)\">1000</text></g></g><g class=\"overaxes-above\"/></g></g><g class=\"polarlayer\"/><g class=\"ternarylayer\"/><g class=\"geolayer\"/><g class=\"funnelarealayer\"/><g class=\"pielayer\"/><g class=\"iciclelayer\"/><g class=\"treemaplayer\"/><g class=\"sunburstlayer\"/><g class=\"glimages\"/><defs id=\"topdefs-6c7ffe\"><g class=\"clips\"/><clipPath id=\"legend6c7ffe\"><rect width=\"205\" height=\"105\" x=\"0\" y=\"0\"/></clipPath></defs><g class=\"layer-above\"><g class=\"imagelayer\"/><g class=\"shapelayer\"/></g><g class=\"infolayer\"><g class=\"legend\" pointer-events=\"all\" transform=\"translate(682.82,60)\"><rect class=\"bg\" shape-rendering=\"crispEdges\" style=\"stroke: rgb(68, 68, 68); stroke-opacity: 1; fill: rgb(255, 255, 255); fill-opacity: 1; stroke-width: 0px;\" width=\"205\" height=\"105\" x=\"0\" y=\"0\"/><g class=\"scrollbox\" transform=\"\" clip-path=\"url(#legend6c7ffe)\"><text class=\"legendtitletext\" text-anchor=\"start\" x=\"2\" y=\"18.2\" style=\"font-family: 'Open Sans', verdana, arial, sans-serif; font-size: 14px; fill: rgb(42, 63, 95); fill-opacity: 1; white-space: pre;\">source</text><g class=\"groups\" transform=\"\"><g class=\"traces\" transform=\"translate(0,32.7)\" style=\"opacity: 1;\"><text class=\"legendtext\" text-anchor=\"start\" x=\"40\" y=\"4.680000000000001\" style=\"font-family: 'Open Sans', verdana, arial, sans-serif; font-size: 12px; fill: rgb(42, 63, 95); fill-opacity: 1; white-space: pre;\">facebook_ads</text><g class=\"layers\" style=\"opacity: 1;\"><g class=\"legendfill\"/><g class=\"legendlines\"><path class=\"js-line\" d=\"M5,0h30\" style=\"fill: none; stroke: rgb(99, 110, 250); stroke-opacity: 1; stroke-width: 2px;\"/></g><g class=\"legendsymbols\"><g class=\"legendpoints\"/></g></g><rect class=\"legendtoggle\" x=\"0\" y=\"-9.5\" width=\"199.515625\" height=\"19\" style=\"fill: rgb(0, 0, 0); fill-opacity: 0;\"/></g></g><g class=\"groups\" transform=\"\"><g class=\"traces\" transform=\"translate(0,51.7)\" style=\"opacity: 1;\"><text class=\"legendtext\" text-anchor=\"start\" x=\"40\" y=\"4.680000000000001\" style=\"font-family: 'Open Sans', verdana, arial, sans-serif; font-size: 12px; fill: rgb(42, 63, 95); fill-opacity: 1; white-space: pre;\">instagram_new_adverts</text><g class=\"layers\" style=\"opacity: 1;\"><g class=\"legendfill\"/><g class=\"legendlines\"><path class=\"js-line\" d=\"M5,0h30\" style=\"fill: none; stroke: rgb(239, 85, 59); stroke-opacity: 1; stroke-width: 2px;\"/></g><g class=\"legendsymbols\"><g class=\"legendpoints\"/></g></g><rect class=\"legendtoggle\" x=\"0\" y=\"-9.5\" width=\"199.515625\" height=\"19\" style=\"fill: rgb(0, 0, 0); fill-opacity: 0;\"/></g></g><g class=\"groups\" transform=\"\"><g class=\"traces\" transform=\"translate(0,70.7)\" style=\"opacity: 1;\"><text class=\"legendtext\" text-anchor=\"start\" x=\"40\" y=\"4.680000000000001\" style=\"font-family: 'Open Sans', verdana, arial, sans-serif; font-size: 12px; fill: rgb(42, 63, 95); fill-opacity: 1; white-space: pre;\">yandex_direct</text><g class=\"layers\" style=\"opacity: 1;\"><g class=\"legendfill\"/><g class=\"legendlines\"><path class=\"js-line\" d=\"M5,0h30\" style=\"fill: none; stroke: rgb(0, 204, 150); stroke-opacity: 1; stroke-width: 2px;\"/></g><g class=\"legendsymbols\"><g class=\"legendpoints\"/></g></g><rect class=\"legendtoggle\" x=\"0\" y=\"-9.5\" width=\"199.515625\" height=\"19\" style=\"fill: rgb(0, 0, 0); fill-opacity: 0;\"/></g></g><g class=\"groups\" transform=\"\"><g class=\"traces\" transform=\"translate(0,89.7)\" style=\"opacity: 1;\"><text class=\"legendtext\" text-anchor=\"start\" x=\"40\" y=\"4.680000000000001\" style=\"font-family: 'Open Sans', verdana, arial, sans-serif; font-size: 12px; fill: rgb(42, 63, 95); fill-opacity: 1; white-space: pre;\">youtube_channel_reklama</text><g class=\"layers\" style=\"opacity: 1;\"><g class=\"legendfill\"/><g class=\"legendlines\"><path class=\"js-line\" d=\"M5,0h30\" style=\"fill: none; stroke: rgb(171, 99, 250); stroke-opacity: 1; stroke-width: 2px;\"/></g><g class=\"legendsymbols\"><g class=\"legendpoints\"/></g></g><rect class=\"legendtoggle\" x=\"0\" y=\"-9.5\" width=\"199.515625\" height=\"19\" style=\"fill: rgb(0, 0, 0); fill-opacity: 0;\"/></g></g></g><rect class=\"scrollbar\" rx=\"20\" ry=\"3\" width=\"0\" height=\"0\" style=\"fill: rgb(128, 139, 164); fill-opacity: 1;\" x=\"0\" y=\"0\"/></g><g class=\"g-gtitle\"><text class=\"gtitle\" x=\"45\" y=\"30\" text-anchor=\"start\" dy=\"0em\" style=\"font-family: 'Open Sans', verdana, arial, sans-serif; font-size: 17px; fill: rgb(42, 63, 95); opacity: 1; font-weight: normal; white-space: pre;\">Распределение трат рекламных источников в разные дни</text></g><g class=\"g-xtitle\"><text class=\"xtitle\" x=\"375.5\" y=\"576.409375\" text-anchor=\"middle\" style=\"font-family: 'Open Sans', verdana, arial, sans-serif; font-size: 14px; fill: rgb(42, 63, 95); opacity: 1; font-weight: normal; white-space: pre;\">Дата</text></g><g class=\"g-ytitle\"><text class=\"ytitle\" transform=\"rotate(-90,23.684375000000003,290)\" x=\"23.684375000000003\" y=\"290\" text-anchor=\"middle\" style=\"font-family: 'Open Sans', verdana, arial, sans-serif; font-size: 14px; fill: rgb(42, 63, 95); opacity: 1; font-weight: normal; white-space: pre;\">Траты, $</text></g></g></svg>"
      ]
     },
     "metadata": {},
     "output_type": "display_data"
    }
   ],
   "source": [
    "fig = px.line(ad_costs, x=\"day\", y=\"cost\", color='source', width=900, height=600)\n",
    "fig.update_layout(\n",
    "    title='Распределение трат рекламных источников в разные дни ',\n",
    "    xaxis_title=\"Дата\",\n",
    "    yaxis_title=\"Траты, $\")\n",
    "fig.show('svg')"
   ]
  },
  {
   "cell_type": "markdown",
   "metadata": {},
   "source": [
    "**Вывод:** Самый маленький бюджет рекламы с Ютуб-каналов. Все остальные источники трафика распределены приблизительно одинаково. "
   ]
  },
  {
   "cell_type": "markdown",
   "metadata": {},
   "source": [
    "## 3.2. САС - стоимость клиента"
   ]
  },
  {
   "cell_type": "markdown",
   "metadata": {},
   "source": [
    "Определим когорты и траты на их привлечение:"
   ]
  },
  {
   "cell_type": "code",
   "execution_count": 28,
   "metadata": {},
   "outputs": [],
   "source": [
    "costs_day = (\n",
    "    ad_costs.groupby('day')\n",
    "    .agg({'cost':'sum'})\n",
    "    .reset_index()\n",
    ")\n",
    "costs_day.columns = ['cohort_group', 'cost']"
   ]
  },
  {
   "cell_type": "code",
   "execution_count": 29,
   "metadata": {
    "scrolled": false
   },
   "outputs": [
    {
     "data": {
      "image/svg+xml": [
       "<svg class=\"main-svg\" xmlns=\"http://www.w3.org/2000/svg\" xmlns:xlink=\"http://www.w3.org/1999/xlink\" width=\"900\" height=\"400\" style=\"\" viewBox=\"0 0 900 400\"><rect x=\"0\" y=\"0\" width=\"900\" height=\"400\" style=\"fill: rgb(255, 255, 255); fill-opacity: 1;\"/><defs id=\"defs-067772\"><g class=\"clips\"><clipPath id=\"clip067772xyplot\" class=\"plotclip\"><rect width=\"740\" height=\"260\"/></clipPath><clipPath class=\"axesclip\" id=\"clip067772x\"><rect x=\"80\" y=\"0\" width=\"740\" height=\"400\"/></clipPath><clipPath class=\"axesclip\" id=\"clip067772y\"><rect x=\"0\" y=\"60\" width=\"900\" height=\"260\"/></clipPath><clipPath class=\"axesclip\" id=\"clip067772xy\"><rect x=\"80\" y=\"60\" width=\"740\" height=\"260\"/></clipPath></g><g class=\"gradients\"/><g class=\"patterns\"/></defs><g class=\"bglayer\"><rect class=\"bg\" x=\"80\" y=\"60\" width=\"740\" height=\"260\" style=\"fill: rgb(229, 236, 246); fill-opacity: 1; stroke-width: 0;\"/></g><g class=\"layer-below\"><g class=\"imagelayer\"/><g class=\"shapelayer\"/></g><g class=\"cartesianlayer\"><g class=\"subplot xy\"><g class=\"layer-subplot\"><g class=\"shapelayer\"/><g class=\"imagelayer\"/></g><g class=\"gridlayer\"><g class=\"x\"><path class=\"xgrid crisp\" transform=\"translate(203.32999999999998,0)\" d=\"M0,60v260\" style=\"stroke: rgb(255, 255, 255); stroke-opacity: 1; stroke-width: 1px;\"/><path class=\"xgrid crisp\" transform=\"translate(326.66999999999996,0)\" d=\"M0,60v260\" style=\"stroke: rgb(255, 255, 255); stroke-opacity: 1; stroke-width: 1px;\"/><path class=\"xgrid crisp\" transform=\"translate(450,0)\" d=\"M0,60v260\" style=\"stroke: rgb(255, 255, 255); stroke-opacity: 1; stroke-width: 1px;\"/><path class=\"xgrid crisp\" transform=\"translate(573.3299999999999,0)\" d=\"M0,60v260\" style=\"stroke: rgb(255, 255, 255); stroke-opacity: 1; stroke-width: 1px;\"/><path class=\"xgrid crisp\" transform=\"translate(696.67,0)\" d=\"M0,60v260\" style=\"stroke: rgb(255, 255, 255); stroke-opacity: 1; stroke-width: 1px;\"/></g><g class=\"y\"><path class=\"ygrid crisp\" transform=\"translate(0,264.22)\" d=\"M80,0h740\" style=\"stroke: rgb(255, 255, 255); stroke-opacity: 1; stroke-width: 1px;\"/><path class=\"ygrid crisp\" transform=\"translate(0,198.52)\" d=\"M80,0h740\" style=\"stroke: rgb(255, 255, 255); stroke-opacity: 1; stroke-width: 1px;\"/><path class=\"ygrid crisp\" transform=\"translate(0,132.82)\" d=\"M80,0h740\" style=\"stroke: rgb(255, 255, 255); stroke-opacity: 1; stroke-width: 1px;\"/><path class=\"ygrid crisp\" transform=\"translate(0,67.12)\" d=\"M80,0h740\" style=\"stroke: rgb(255, 255, 255); stroke-opacity: 1; stroke-width: 1px;\"/></g></g><g class=\"zerolinelayer\"/><path class=\"xlines-below\"/><path class=\"ylines-below\"/><g class=\"overlines-below\"/><g class=\"xaxislayer-below\"/><g class=\"yaxislayer-below\"/><g class=\"overaxes-below\"/><g class=\"plot\" transform=\"translate(80,60)\" clip-path=\"url(#clip067772xyplot)\"><g class=\"scatterlayer mlayer\"><g class=\"trace scatter trace7bea6d\" style=\"stroke-miterlimit: 2; opacity: 1;\"><g class=\"fills\"/><g class=\"errorbars\"/><g class=\"lines\"><path class=\"js-line\" d=\"M0,91.76L123.33,205.59L246.67,173.3L370,145.2L493.33,13L616.67,247L740,146.62\" style=\"vector-effect: non-scaling-stroke; fill: none; stroke: rgb(99, 110, 250); stroke-opacity: 1; stroke-width: 2px; opacity: 1;\"/></g><g class=\"points\"/><g class=\"text\"/></g></g></g><g class=\"overplot\"/><path class=\"xlines-above crisp\" d=\"M0,0\" style=\"fill: none;\"/><path class=\"ylines-above crisp\" d=\"M0,0\" style=\"fill: none;\"/><g class=\"overlines-above\"/><g class=\"xaxislayer-above\"><g class=\"xtick\"><text text-anchor=\"middle\" x=\"0\" y=\"333\" transform=\"translate(80,0)\" style=\"font-family: 'Open Sans', verdana, arial, sans-serif; font-size: 12px; fill: rgb(42, 63, 95); fill-opacity: 1; white-space: pre; opacity: 1;\"><tspan class=\"line\" dy=\"0em\" x=\"0\" y=\"333\">May 4</tspan><tspan class=\"line\" dy=\"1.3em\" x=\"0\" y=\"333\">2020</tspan></text></g><g class=\"xtick\"><text text-anchor=\"middle\" x=\"0\" y=\"333\" style=\"font-family: 'Open Sans', verdana, arial, sans-serif; font-size: 12px; fill: rgb(42, 63, 95); fill-opacity: 1; white-space: pre; opacity: 1;\" transform=\"translate(203.32999999999998,0)\">May 5</text></g><g class=\"xtick\"><text text-anchor=\"middle\" x=\"0\" y=\"333\" style=\"font-family: 'Open Sans', verdana, arial, sans-serif; font-size: 12px; fill: rgb(42, 63, 95); fill-opacity: 1; white-space: pre; opacity: 1;\" transform=\"translate(326.66999999999996,0)\">May 6</text></g><g class=\"xtick\"><text text-anchor=\"middle\" x=\"0\" y=\"333\" style=\"font-family: 'Open Sans', verdana, arial, sans-serif; font-size: 12px; fill: rgb(42, 63, 95); fill-opacity: 1; white-space: pre; opacity: 1;\" transform=\"translate(450,0)\">May 7</text></g><g class=\"xtick\"><text text-anchor=\"middle\" x=\"0\" y=\"333\" style=\"font-family: 'Open Sans', verdana, arial, sans-serif; font-size: 12px; fill: rgb(42, 63, 95); fill-opacity: 1; white-space: pre; opacity: 1;\" transform=\"translate(573.3299999999999,0)\">May 8</text></g><g class=\"xtick\"><text text-anchor=\"middle\" x=\"0\" y=\"333\" style=\"font-family: 'Open Sans', verdana, arial, sans-serif; font-size: 12px; fill: rgb(42, 63, 95); fill-opacity: 1; white-space: pre; opacity: 1;\" transform=\"translate(696.67,0)\">May 9</text></g><g class=\"xtick\"><text text-anchor=\"middle\" x=\"0\" y=\"333\" style=\"font-family: 'Open Sans', verdana, arial, sans-serif; font-size: 12px; fill: rgb(42, 63, 95); fill-opacity: 1; white-space: pre; opacity: 1;\" transform=\"translate(820,0)\">May 10</text></g></g><g class=\"yaxislayer-above\"><g class=\"ytick\"><text text-anchor=\"end\" x=\"79\" y=\"4.199999999999999\" transform=\"translate(0,264.22)\" style=\"font-family: 'Open Sans', verdana, arial, sans-serif; font-size: 12px; fill: rgb(42, 63, 95); fill-opacity: 1; white-space: pre; opacity: 1;\">0.555</text></g><g class=\"ytick\"><text text-anchor=\"end\" x=\"79\" y=\"4.199999999999999\" style=\"font-family: 'Open Sans', verdana, arial, sans-serif; font-size: 12px; fill: rgb(42, 63, 95); fill-opacity: 1; white-space: pre; opacity: 1;\" transform=\"translate(0,198.52)\">0.56</text></g><g class=\"ytick\"><text text-anchor=\"end\" x=\"79\" y=\"4.199999999999999\" style=\"font-family: 'Open Sans', verdana, arial, sans-serif; font-size: 12px; fill: rgb(42, 63, 95); fill-opacity: 1; white-space: pre; opacity: 1;\" transform=\"translate(0,132.82)\">0.565</text></g><g class=\"ytick\"><text text-anchor=\"end\" x=\"79\" y=\"4.199999999999999\" style=\"font-family: 'Open Sans', verdana, arial, sans-serif; font-size: 12px; fill: rgb(42, 63, 95); fill-opacity: 1; white-space: pre; opacity: 1;\" transform=\"translate(0,67.12)\">0.57</text></g></g><g class=\"overaxes-above\"/></g></g><g class=\"polarlayer\"/><g class=\"ternarylayer\"/><g class=\"geolayer\"/><g class=\"funnelarealayer\"/><g class=\"pielayer\"/><g class=\"iciclelayer\"/><g class=\"treemaplayer\"/><g class=\"sunburstlayer\"/><g class=\"glimages\"/><defs id=\"topdefs-067772\"><g class=\"clips\"/></defs><g class=\"layer-above\"><g class=\"imagelayer\"/><g class=\"shapelayer\"/></g><g class=\"infolayer\"><g class=\"g-gtitle\"><text class=\"gtitle\" x=\"45\" y=\"30\" text-anchor=\"start\" dy=\"0em\" style=\"font-family: 'Open Sans', verdana, arial, sans-serif; font-size: 17px; fill: rgb(42, 63, 95); opacity: 1; font-weight: normal; white-space: pre;\">Распределение CAC в разные дни</text></g><g class=\"g-xtitle\"><text class=\"xtitle\" x=\"450\" y=\"376.409375\" text-anchor=\"middle\" style=\"font-family: 'Open Sans', verdana, arial, sans-serif; font-size: 14px; fill: rgb(42, 63, 95); opacity: 1; font-weight: normal; white-space: pre;\">Дата</text></g><g class=\"g-ytitle\"><text class=\"ytitle\" transform=\"rotate(-90,19.309375000000003,190)\" x=\"19.309375000000003\" y=\"190\" text-anchor=\"middle\" style=\"font-family: 'Open Sans', verdana, arial, sans-serif; font-size: 14px; fill: rgb(42, 63, 95); opacity: 1; font-weight: normal; white-space: pre;\">Траты, $</text></g></g></svg>"
      ]
     },
     "metadata": {},
     "output_type": "display_data"
    }
   ],
   "source": [
    "#Смержим данне о количестве пользователей в когорте и их сумму маркетинговых трат\n",
    "orders_costs = initial_users_count.merge(costs_day, on ='cohort_group')\n",
    "#Определим стоимость привлечения одного клиента\n",
    "orders_costs['cac'] = orders_costs['cost'] / orders_costs['cohort_users']\n",
    "\n",
    "fig = px.line(orders_costs, x='cohort_group', y='cac', width=900, height=400)\n",
    "fig.update_layout(\n",
    "    title='Распределение CAC в разные дни',\n",
    "    xaxis_title=\"Дата\",\n",
    "    yaxis_title=\"Траты, $\")\n",
    "fig.show('svg')"
   ]
  },
  {
   "cell_type": "markdown",
   "metadata": {},
   "source": [
    "**Вывод:** 8 мая для компании привлечение клиента стало самым дорогим, 9 мая - самым дешевым."
   ]
  },
  {
   "cell_type": "markdown",
   "metadata": {},
   "source": [
    "## 3.3. САС - стоимость клиента в разрезе источников"
   ]
  },
  {
   "cell_type": "markdown",
   "metadata": {},
   "source": [
    "Смержим таблицу основных данных о пользователях с таблицой источник:"
   ]
  },
  {
   "cell_type": "code",
   "execution_count": 30,
   "metadata": {},
   "outputs": [],
   "source": [
    "game_actions_source = game_actions.merge(user_source, on='user_id')"
   ]
  },
  {
   "cell_type": "markdown",
   "metadata": {},
   "source": [
    "Посчитаем количество пользователей в каждый день: "
   ]
  },
  {
   "cell_type": "code",
   "execution_count": 31,
   "metadata": {},
   "outputs": [],
   "source": [
    "cohorts_source = game_actions_source.groupby(\n",
    "    ['cohort_group','cohort_lifetime','source'], as_index = False).agg({'user_id':'nunique'})"
   ]
  },
  {
   "cell_type": "markdown",
   "metadata": {},
   "source": [
    "Определим количество уникальных пользователей по источникам в каждой когорте:"
   ]
  },
  {
   "cell_type": "code",
   "execution_count": 32,
   "metadata": {},
   "outputs": [],
   "source": [
    "initial_users_count_source = cohorts_source[cohorts_source['cohort_lifetime'] == 0][['cohort_group','source', 'user_id']]\n",
    "initial_users_count_source = initial_users_count_source.rename(columns={'user_id':'cohort_users'}).reset_index(drop=True)"
   ]
  },
  {
   "cell_type": "markdown",
   "metadata": {},
   "source": [
    "Определим траты на рекламу по источникам в каждой когорте и смержим с таблицей о количестве пользователей:"
   ]
  },
  {
   "cell_type": "code",
   "execution_count": 33,
   "metadata": {},
   "outputs": [],
   "source": [
    "costs_day_source = (\n",
    "    ad_costs.groupby(['day','source'])\n",
    "    .agg({'cost':'sum'})\n",
    "    .reset_index()\n",
    ")\n",
    "costs_day_source.columns = ['cohort_group', 'source', 'cost']\n",
    "orders_costs_source = initial_users_count_source.merge(costs_day_source, on =['cohort_group', 'source'])"
   ]
  },
  {
   "cell_type": "markdown",
   "metadata": {},
   "source": [
    "Рассчитаем САС и построим график:"
   ]
  },
  {
   "cell_type": "code",
   "execution_count": 34,
   "metadata": {
    "scrolled": false
   },
   "outputs": [
    {
     "data": {
      "image/svg+xml": [
       "<svg class=\"main-svg\" xmlns=\"http://www.w3.org/2000/svg\" xmlns:xlink=\"http://www.w3.org/1999/xlink\" width=\"900\" height=\"400\" style=\"\" viewBox=\"0 0 900 400\"><rect x=\"0\" y=\"0\" width=\"900\" height=\"400\" style=\"fill: rgb(255, 255, 255); fill-opacity: 1;\"/><defs id=\"defs-250383\"><g class=\"clips\"><clipPath id=\"clip250383xyplot\" class=\"plotclip\"><rect width=\"591\" height=\"260\"/></clipPath><clipPath class=\"axesclip\" id=\"clip250383x\"><rect x=\"80\" y=\"0\" width=\"591\" height=\"400\"/></clipPath><clipPath class=\"axesclip\" id=\"clip250383y\"><rect x=\"0\" y=\"60\" width=\"900\" height=\"260\"/></clipPath><clipPath class=\"axesclip\" id=\"clip250383xy\"><rect x=\"80\" y=\"60\" width=\"591\" height=\"260\"/></clipPath></g><g class=\"gradients\"/><g class=\"patterns\"/></defs><g class=\"bglayer\"><rect class=\"bg\" x=\"80\" y=\"60\" width=\"591\" height=\"260\" style=\"fill: rgb(229, 236, 246); fill-opacity: 1; stroke-width: 0;\"/></g><g class=\"layer-below\"><g class=\"imagelayer\"/><g class=\"shapelayer\"/></g><g class=\"cartesianlayer\"><g class=\"subplot xy\"><g class=\"layer-subplot\"><g class=\"shapelayer\"/><g class=\"imagelayer\"/></g><g class=\"gridlayer\"><g class=\"x\"><path class=\"xgrid crisp\" transform=\"translate(178.5,0)\" d=\"M0,60v260\" style=\"stroke: rgb(255, 255, 255); stroke-opacity: 1; stroke-width: 1px;\"/><path class=\"xgrid crisp\" transform=\"translate(277,0)\" d=\"M0,60v260\" style=\"stroke: rgb(255, 255, 255); stroke-opacity: 1; stroke-width: 1px;\"/><path class=\"xgrid crisp\" transform=\"translate(375.5,0)\" d=\"M0,60v260\" style=\"stroke: rgb(255, 255, 255); stroke-opacity: 1; stroke-width: 1px;\"/><path class=\"xgrid crisp\" transform=\"translate(474,0)\" d=\"M0,60v260\" style=\"stroke: rgb(255, 255, 255); stroke-opacity: 1; stroke-width: 1px;\"/><path class=\"xgrid crisp\" transform=\"translate(572.5,0)\" d=\"M0,60v260\" style=\"stroke: rgb(255, 255, 255); stroke-opacity: 1; stroke-width: 1px;\"/></g><g class=\"y\"><path class=\"ygrid crisp\" transform=\"translate(0,301.84000000000003)\" d=\"M80,0h591\" style=\"stroke: rgb(255, 255, 255); stroke-opacity: 1; stroke-width: 1px;\"/><path class=\"ygrid crisp\" transform=\"translate(0,245.97)\" d=\"M80,0h591\" style=\"stroke: rgb(255, 255, 255); stroke-opacity: 1; stroke-width: 1px;\"/><path class=\"ygrid crisp\" transform=\"translate(0,190.11)\" d=\"M80,0h591\" style=\"stroke: rgb(255, 255, 255); stroke-opacity: 1; stroke-width: 1px;\"/><path class=\"ygrid crisp\" transform=\"translate(0,134.25)\" d=\"M80,0h591\" style=\"stroke: rgb(255, 255, 255); stroke-opacity: 1; stroke-width: 1px;\"/><path class=\"ygrid crisp\" transform=\"translate(0,78.38)\" d=\"M80,0h591\" style=\"stroke: rgb(255, 255, 255); stroke-opacity: 1; stroke-width: 1px;\"/></g></g><g class=\"zerolinelayer\"/><path class=\"xlines-below\"/><path class=\"ylines-below\"/><g class=\"overlines-below\"/><g class=\"xaxislayer-below\"/><g class=\"yaxislayer-below\"/><g class=\"overaxes-below\"/><g class=\"plot\" transform=\"translate(80,60)\" clip-path=\"url(#clip250383xyplot)\"><g class=\"scatterlayer mlayer\"><g class=\"trace scatter tracec693d5\" style=\"stroke-miterlimit: 2; opacity: 1;\"><g class=\"fills\"/><g class=\"errorbars\"/><g class=\"lines\"><path class=\"js-line\" d=\"M0,23.72L98.5,23.89L197,43.99L295.5,21.42L394,16.1L492.5,13L591,79\" style=\"vector-effect: non-scaling-stroke; fill: none; stroke: rgb(99, 110, 250); stroke-opacity: 1; stroke-width: 2px; opacity: 1;\"/></g><g class=\"points\"/><g class=\"text\"/></g><g class=\"trace scatter trace532ea4\" style=\"stroke-miterlimit: 2; opacity: 1;\"><g class=\"fills\"/><g class=\"errorbars\"/><g class=\"lines\"><path class=\"js-line\" d=\"M0,102.41L98.5,112.34L197,93.69L295.5,107.2L394,114.42L492.5,108.27L591,92\" style=\"vector-effect: non-scaling-stroke; fill: none; stroke: rgb(239, 85, 59); stroke-opacity: 1; stroke-width: 2px; opacity: 1;\"/></g><g class=\"points\"/><g class=\"text\"/></g><g class=\"trace scatter trace0fc523\" style=\"stroke-miterlimit: 2; opacity: 1;\"><g class=\"fills\"/><g class=\"errorbars\"/><g class=\"lines\"><path class=\"js-line\" d=\"M0,204.75L98.5,208.79L197,205.97L295.5,209.43L394,197.83L492.5,221.04L591,196.77\" style=\"vector-effect: non-scaling-stroke; fill: none; stroke: rgb(0, 204, 150); stroke-opacity: 1; stroke-width: 2px; opacity: 1;\"/></g><g class=\"points\"/><g class=\"text\"/></g><g class=\"trace scatter tracec1b63e\" style=\"stroke-miterlimit: 2; opacity: 1;\"><g class=\"fills\"/><g class=\"errorbars\"/><g class=\"lines\"><path class=\"js-line\" d=\"M0,243.87L98.5,247L197,240.86L295.5,240.55L394,234.63L492.5,240.62L591,232.71\" style=\"vector-effect: non-scaling-stroke; fill: none; stroke: rgb(171, 99, 250); stroke-opacity: 1; stroke-width: 2px; opacity: 1;\"/></g><g class=\"points\"/><g class=\"text\"/></g></g></g><g class=\"overplot\"/><path class=\"xlines-above crisp\" d=\"M0,0\" style=\"fill: none;\"/><path class=\"ylines-above crisp\" d=\"M0,0\" style=\"fill: none;\"/><g class=\"overlines-above\"/><g class=\"xaxislayer-above\"><g class=\"xtick\"><text text-anchor=\"middle\" x=\"0\" y=\"333\" transform=\"translate(80,0)\" style=\"font-family: 'Open Sans', verdana, arial, sans-serif; font-size: 12px; fill: rgb(42, 63, 95); fill-opacity: 1; white-space: pre; opacity: 1;\"><tspan class=\"line\" dy=\"0em\" x=\"0\" y=\"333\">May 4</tspan><tspan class=\"line\" dy=\"1.3em\" x=\"0\" y=\"333\">2020</tspan></text></g><g class=\"xtick\"><text text-anchor=\"middle\" x=\"0\" y=\"333\" style=\"font-family: 'Open Sans', verdana, arial, sans-serif; font-size: 12px; fill: rgb(42, 63, 95); fill-opacity: 1; white-space: pre; opacity: 1;\" transform=\"translate(178.5,0)\">May 5</text></g><g class=\"xtick\"><text text-anchor=\"middle\" x=\"0\" y=\"333\" style=\"font-family: 'Open Sans', verdana, arial, sans-serif; font-size: 12px; fill: rgb(42, 63, 95); fill-opacity: 1; white-space: pre; opacity: 1;\" transform=\"translate(277,0)\">May 6</text></g><g class=\"xtick\"><text text-anchor=\"middle\" x=\"0\" y=\"333\" style=\"font-family: 'Open Sans', verdana, arial, sans-serif; font-size: 12px; fill: rgb(42, 63, 95); fill-opacity: 1; white-space: pre; opacity: 1;\" transform=\"translate(375.5,0)\">May 7</text></g><g class=\"xtick\"><text text-anchor=\"middle\" x=\"0\" y=\"333\" style=\"font-family: 'Open Sans', verdana, arial, sans-serif; font-size: 12px; fill: rgb(42, 63, 95); fill-opacity: 1; white-space: pre; opacity: 1;\" transform=\"translate(474,0)\">May 8</text></g><g class=\"xtick\"><text text-anchor=\"middle\" x=\"0\" y=\"333\" style=\"font-family: 'Open Sans', verdana, arial, sans-serif; font-size: 12px; fill: rgb(42, 63, 95); fill-opacity: 1; white-space: pre; opacity: 1;\" transform=\"translate(572.5,0)\">May 9</text></g><g class=\"xtick\"><text text-anchor=\"middle\" x=\"0\" y=\"333\" style=\"font-family: 'Open Sans', verdana, arial, sans-serif; font-size: 12px; fill: rgb(42, 63, 95); fill-opacity: 1; white-space: pre; opacity: 1;\" transform=\"translate(671,0)\">May 10</text></g></g><g class=\"yaxislayer-above\"><g class=\"ytick\"><text text-anchor=\"end\" x=\"79\" y=\"4.199999999999999\" transform=\"translate(0,301.84000000000003)\" style=\"font-family: 'Open Sans', verdana, arial, sans-serif; font-size: 12px; fill: rgb(42, 63, 95); fill-opacity: 1; white-space: pre; opacity: 1;\">0.4</text></g><g class=\"ytick\"><text text-anchor=\"end\" x=\"79\" y=\"4.199999999999999\" style=\"font-family: 'Open Sans', verdana, arial, sans-serif; font-size: 12px; fill: rgb(42, 63, 95); fill-opacity: 1; white-space: pre; opacity: 1;\" transform=\"translate(0,245.97)\">0.5</text></g><g class=\"ytick\"><text text-anchor=\"end\" x=\"79\" y=\"4.199999999999999\" style=\"font-family: 'Open Sans', verdana, arial, sans-serif; font-size: 12px; fill: rgb(42, 63, 95); fill-opacity: 1; white-space: pre; opacity: 1;\" transform=\"translate(0,190.11)\">0.6</text></g><g class=\"ytick\"><text text-anchor=\"end\" x=\"79\" y=\"4.199999999999999\" style=\"font-family: 'Open Sans', verdana, arial, sans-serif; font-size: 12px; fill: rgb(42, 63, 95); fill-opacity: 1; white-space: pre; opacity: 1;\" transform=\"translate(0,134.25)\">0.7</text></g><g class=\"ytick\"><text text-anchor=\"end\" x=\"79\" y=\"4.199999999999999\" style=\"font-family: 'Open Sans', verdana, arial, sans-serif; font-size: 12px; fill: rgb(42, 63, 95); fill-opacity: 1; white-space: pre; opacity: 1;\" transform=\"translate(0,78.38)\">0.8</text></g></g><g class=\"overaxes-above\"/></g></g><g class=\"polarlayer\"/><g class=\"ternarylayer\"/><g class=\"geolayer\"/><g class=\"funnelarealayer\"/><g class=\"pielayer\"/><g class=\"iciclelayer\"/><g class=\"treemaplayer\"/><g class=\"sunburstlayer\"/><g class=\"glimages\"/><defs id=\"topdefs-250383\"><g class=\"clips\"/><clipPath id=\"legend250383\"><rect width=\"205\" height=\"105\" x=\"0\" y=\"0\"/></clipPath></defs><g class=\"layer-above\"><g class=\"imagelayer\"/><g class=\"shapelayer\"/></g><g class=\"infolayer\"><g class=\"legend\" pointer-events=\"all\" transform=\"translate(682.82,60)\"><rect class=\"bg\" shape-rendering=\"crispEdges\" width=\"205\" height=\"105\" x=\"0\" y=\"0\" style=\"stroke: rgb(68, 68, 68); stroke-opacity: 1; fill: rgb(255, 255, 255); fill-opacity: 1; stroke-width: 0px;\"/><g class=\"scrollbox\" transform=\"\" clip-path=\"url(#legend250383)\"><text class=\"legendtitletext\" text-anchor=\"start\" x=\"2\" y=\"18.2\" style=\"font-family: 'Open Sans', verdana, arial, sans-serif; font-size: 14px; fill: rgb(42, 63, 95); fill-opacity: 1; white-space: pre;\">source</text><g class=\"groups\" transform=\"\"><g class=\"traces\" transform=\"translate(0,32.7)\" style=\"opacity: 1;\"><text class=\"legendtext\" text-anchor=\"start\" x=\"40\" y=\"4.680000000000001\" style=\"font-family: 'Open Sans', verdana, arial, sans-serif; font-size: 12px; fill: rgb(42, 63, 95); fill-opacity: 1; white-space: pre;\">facebook_ads</text><g class=\"layers\" style=\"opacity: 1;\"><g class=\"legendfill\"/><g class=\"legendlines\"><path class=\"js-line\" d=\"M5,0h30\" style=\"fill: none; stroke: rgb(99, 110, 250); stroke-opacity: 1; stroke-width: 2px;\"/></g><g class=\"legendsymbols\"><g class=\"legendpoints\"/></g></g><rect class=\"legendtoggle\" x=\"0\" y=\"-9.5\" width=\"199.515625\" height=\"19\" style=\"fill: rgb(0, 0, 0); fill-opacity: 0;\"/></g></g><g class=\"groups\" transform=\"\"><g class=\"traces\" transform=\"translate(0,51.7)\" style=\"opacity: 1;\"><text class=\"legendtext\" text-anchor=\"start\" x=\"40\" y=\"4.680000000000001\" style=\"font-family: 'Open Sans', verdana, arial, sans-serif; font-size: 12px; fill: rgb(42, 63, 95); fill-opacity: 1; white-space: pre;\">instagram_new_adverts</text><g class=\"layers\" style=\"opacity: 1;\"><g class=\"legendfill\"/><g class=\"legendlines\"><path class=\"js-line\" d=\"M5,0h30\" style=\"fill: none; stroke: rgb(239, 85, 59); stroke-opacity: 1; stroke-width: 2px;\"/></g><g class=\"legendsymbols\"><g class=\"legendpoints\"/></g></g><rect class=\"legendtoggle\" x=\"0\" y=\"-9.5\" width=\"199.515625\" height=\"19\" style=\"fill: rgb(0, 0, 0); fill-opacity: 0;\"/></g></g><g class=\"groups\" transform=\"\"><g class=\"traces\" transform=\"translate(0,70.7)\" style=\"opacity: 1;\"><text class=\"legendtext\" text-anchor=\"start\" x=\"40\" y=\"4.680000000000001\" style=\"font-family: 'Open Sans', verdana, arial, sans-serif; font-size: 12px; fill: rgb(42, 63, 95); fill-opacity: 1; white-space: pre;\">yandex_direct</text><g class=\"layers\" style=\"opacity: 1;\"><g class=\"legendfill\"/><g class=\"legendlines\"><path class=\"js-line\" d=\"M5,0h30\" style=\"fill: none; stroke: rgb(0, 204, 150); stroke-opacity: 1; stroke-width: 2px;\"/></g><g class=\"legendsymbols\"><g class=\"legendpoints\"/></g></g><rect class=\"legendtoggle\" x=\"0\" y=\"-9.5\" width=\"199.515625\" height=\"19\" style=\"fill: rgb(0, 0, 0); fill-opacity: 0;\"/></g></g><g class=\"groups\" transform=\"\"><g class=\"traces\" transform=\"translate(0,89.7)\" style=\"opacity: 1;\"><text class=\"legendtext\" text-anchor=\"start\" x=\"40\" y=\"4.680000000000001\" style=\"font-family: 'Open Sans', verdana, arial, sans-serif; font-size: 12px; fill: rgb(42, 63, 95); fill-opacity: 1; white-space: pre;\">youtube_channel_reklama</text><g class=\"layers\" style=\"opacity: 1;\"><g class=\"legendfill\"/><g class=\"legendlines\"><path class=\"js-line\" d=\"M5,0h30\" style=\"fill: none; stroke: rgb(171, 99, 250); stroke-opacity: 1; stroke-width: 2px;\"/></g><g class=\"legendsymbols\"><g class=\"legendpoints\"/></g></g><rect class=\"legendtoggle\" x=\"0\" y=\"-9.5\" width=\"199.515625\" height=\"19\" style=\"fill: rgb(0, 0, 0); fill-opacity: 0;\"/></g></g></g><rect class=\"scrollbar\" rx=\"20\" ry=\"3\" width=\"0\" height=\"0\" x=\"0\" y=\"0\" style=\"fill: rgb(128, 139, 164); fill-opacity: 1;\"/></g><g class=\"g-gtitle\"><text class=\"gtitle\" x=\"45\" y=\"30\" text-anchor=\"start\" dy=\"0em\" style=\"font-family: 'Open Sans', verdana, arial, sans-serif; font-size: 17px; fill: rgb(42, 63, 95); opacity: 1; font-weight: normal; white-space: pre;\">Распределение CAC по источникам в разные дни</text></g><g class=\"g-xtitle\"><text class=\"xtitle\" x=\"375.5\" y=\"376.409375\" text-anchor=\"middle\" style=\"font-family: 'Open Sans', verdana, arial, sans-serif; font-size: 14px; fill: rgb(42, 63, 95); opacity: 1; font-weight: normal; white-space: pre;\">Дата</text></g><g class=\"g-ytitle\"><text class=\"ytitle\" transform=\"rotate(-90,34.575,190)\" x=\"34.575\" y=\"190\" text-anchor=\"middle\" style=\"font-family: 'Open Sans', verdana, arial, sans-serif; font-size: 14px; fill: rgb(42, 63, 95); opacity: 1; font-weight: normal; white-space: pre;\">Траты, $</text></g></g></svg>"
      ]
     },
     "metadata": {},
     "output_type": "display_data"
    }
   ],
   "source": [
    "orders_costs_source['cac'] = orders_costs_source['cost'] / orders_costs_source['cohort_users']\n",
    "fig = px.line(orders_costs_source, x='cohort_group', y='cac', color = 'source', width=900, height=400)\n",
    "fig.update_layout(\n",
    "    title='Распределение CAC по источникам в разные дни ',\n",
    "    xaxis_title=\"Дата\",\n",
    "    yaxis_title=\"Траты, $\")\n",
    "fig.show('svg')"
   ]
  },
  {
   "cell_type": "markdown",
   "metadata": {},
   "source": [
    "**Вывод:** Рассмотрев стоимость привлечения клиента с разных источников, увидели, что клиенты с Фейсбука явялются самыми дорогими, в то время, как пользователи с Ютуба явялются самыми дешевыми."
   ]
  },
  {
   "cell_type": "markdown",
   "metadata": {},
   "source": [
    "Определим среднее значение CAC по источникам:"
   ]
  },
  {
   "cell_type": "code",
   "execution_count": 35,
   "metadata": {},
   "outputs": [
    {
     "data": {
      "text/html": [
       "<div>\n",
       "<style scoped>\n",
       "    .dataframe tbody tr th:only-of-type {\n",
       "        vertical-align: middle;\n",
       "    }\n",
       "\n",
       "    .dataframe tbody tr th {\n",
       "        vertical-align: top;\n",
       "    }\n",
       "\n",
       "    .dataframe thead th {\n",
       "        text-align: right;\n",
       "    }\n",
       "</style>\n",
       "<table border=\"1\" class=\"dataframe\">\n",
       "  <thead>\n",
       "    <tr style=\"text-align: right;\">\n",
       "      <th></th>\n",
       "      <th>source</th>\n",
       "      <th>cac</th>\n",
       "    </tr>\n",
       "  </thead>\n",
       "  <tbody>\n",
       "    <tr>\n",
       "      <th>0</th>\n",
       "      <td>facebook_ads</td>\n",
       "      <td>0.776358</td>\n",
       "    </tr>\n",
       "    <tr>\n",
       "      <th>1</th>\n",
       "      <td>instagram_new_adverts</td>\n",
       "      <td>0.646144</td>\n",
       "    </tr>\n",
       "    <tr>\n",
       "      <th>2</th>\n",
       "      <td>yandex_direct</td>\n",
       "      <td>0.463491</td>\n",
       "    </tr>\n",
       "    <tr>\n",
       "      <th>3</th>\n",
       "      <td>youtube_channel_reklama</td>\n",
       "      <td>0.403225</td>\n",
       "    </tr>\n",
       "  </tbody>\n",
       "</table>\n",
       "</div>"
      ],
      "text/plain": [
       "                    source       cac\n",
       "0             facebook_ads  0.776358\n",
       "1    instagram_new_adverts  0.646144\n",
       "2            yandex_direct  0.463491\n",
       "3  youtube_channel_reklama  0.403225"
      ]
     },
     "execution_count": 35,
     "metadata": {},
     "output_type": "execute_result"
    }
   ],
   "source": [
    "orders_costs_source.groupby('source', as_index=False).agg({'cac':'mean'})"
   ]
  },
  {
   "cell_type": "markdown",
   "metadata": {},
   "source": [
    "## 3.4. ROI (LTV) в разрезе источников"
   ]
  },
  {
   "cell_type": "markdown",
   "metadata": {},
   "source": [
    "Предположим, что показ рекламы происходит при выборе типа здания `building_type`. Также предположим, что стоимость показа составит **0.07$**."
   ]
  },
  {
   "cell_type": "markdown",
   "metadata": {},
   "source": [
    "Напишем функцию для упрощения рассчета выбора лучшего варианта монетизации:"
   ]
  },
  {
   "cell_type": "code",
   "execution_count": 36,
   "metadata": {},
   "outputs": [],
   "source": [
    "#Сделаем срез данных, согласно нашему условию монетизации:\n",
    "monetization = game_actions.merge(user_source, on='user_id')\n",
    "monetization = monetization[game_actions['building_type'].isna() == False]"
   ]
  },
  {
   "cell_type": "code",
   "execution_count": 37,
   "metadata": {
    "scrolled": false
   },
   "outputs": [],
   "source": [
    "def mon(monetization, price):    \n",
    "    '''\n",
    "    Функция рассчитывает окупаемость маркетинговых расходов по разным источникам трафика\n",
    "    '''\n",
    "    price=0.07\n",
    "    #Посчитаем количество пользователей по дню и по источнику:\n",
    "    mon_source = monetization.groupby(['session_date', 'source'], as_index = False).agg({'user_id':'count'})\n",
    "    mon_source.rename(columns={'user_id': 'source_n_buyers'}, inplace=True)\n",
    "\n",
    "    #Смержим полученные данные с таблицей расходов на маркетинг:\n",
    "    report_source = mon_source.merge(ad_costs, how='left', left_on=['session_date', 'source'], \\\n",
    "                                                  right_on=['day','source'])\n",
    "\n",
    "    #Для удобства создадим столбец с новый отчетом дат, начиная с 4 мая:\n",
    "    report_source['dt'] = (report_source['session_date'] \\\n",
    "                       - pd.to_datetime('2020-05-04', format='%Y-%m-%d')).astype('timedelta64[D]')\n",
    "    report_source['dt'] = report_source['dt'].astype(int)\n",
    "\n",
    "    #Удалим лишний столбец и заполним пустые значения столбца cost нулями:\n",
    "    report_source = report_source.drop(['day'], axis = 1)\n",
    "    report_source['cost'] = report_source['cost'].fillna(0)\n",
    "\n",
    "    #Посчитаем доход:\n",
    "    report_source['profit'] = round(report_source['source_n_buyers'] * price, 1)\n",
    "\n",
    "    #Посчитаем прибыль:\n",
    "    report_source['income'] = round(report_source['profit'] - report_source['cost'], 1)\n",
    "\n",
    "    #Создадим сводную таблицу и построим пот ней тепловую карту прибыли:\n",
    "    income_source = report_source.pivot_table(index='source', columns='dt', values='income', aggfunc='mean')\n",
    "    income_source = income_source.cumsum(axis=1)\n",
    "    income_source = income_source.T\n",
    "\n",
    "    #График\n",
    "    sns.set(style='white')\n",
    "    plt.figure(figsize=(8, 15))\n",
    "    plt.title('Прибыль', fontsize=16, pad=20)\n",
    "    sns.heatmap(income_source, annot=True, fmt='.1f', linewidths=1, linecolor='gray', cmap= 'coolwarm', cbar=False, vmax = 0);\n",
    "    plt.xlabel('Источник', fontsize=12)\n",
    "    plt.ylabel('День', fontsize=12);\n",
    "\n",
    "    #Рассмотрим прибыль в общей картине:\n",
    "    income = report_source.groupby('dt', as_index = False).agg({'income':'sum'})\n",
    "    income = income.cumsum()\n",
    "\n",
    "    #График\n",
    "    fig = go.Figure()\n",
    "    fig.add_trace(go.Scatter(x=income.index,\n",
    "                             y=income['income'],\n",
    "                             line=dict(color='blue', width=2)))\n",
    "    fig.update_layout(title='График изменения прибыли',\n",
    "                      xaxis_title='День',\n",
    "                      yaxis_title='Прибыль, $')\n",
    "    fig.update_yaxes(zeroline=True, zerolinewidth=2, zerolinecolor='#008000')\n",
    "    fig.show('svg')"
   ]
  },
  {
   "cell_type": "code",
   "execution_count": 38,
   "metadata": {},
   "outputs": [
    {
     "data": {
      "image/svg+xml": [
       "<svg class=\"main-svg\" xmlns=\"http://www.w3.org/2000/svg\" xmlns:xlink=\"http://www.w3.org/1999/xlink\" width=\"700\" height=\"500\" style=\"\" viewBox=\"0 0 700 500\"><rect x=\"0\" y=\"0\" width=\"700\" height=\"500\" style=\"fill: rgb(255, 255, 255); fill-opacity: 1;\"/><defs id=\"defs-b3ba10\"><g class=\"clips\"><clipPath id=\"clipb3ba10xyplot\" class=\"plotclip\"><rect width=\"540\" height=\"320\"/></clipPath><clipPath class=\"axesclip\" id=\"clipb3ba10x\"><rect x=\"80\" y=\"0\" width=\"540\" height=\"500\"/></clipPath><clipPath class=\"axesclip\" id=\"clipb3ba10y\"><rect x=\"0\" y=\"100\" width=\"700\" height=\"320\"/></clipPath><clipPath class=\"axesclip\" id=\"clipb3ba10xy\"><rect x=\"80\" y=\"100\" width=\"540\" height=\"320\"/></clipPath></g><g class=\"gradients\"/><g class=\"patterns\"/></defs><g class=\"bglayer\"><rect class=\"bg\" x=\"80\" y=\"100\" width=\"540\" height=\"320\" style=\"fill: rgb(229, 236, 246); fill-opacity: 1; stroke-width: 0;\"/></g><g class=\"layer-below\"><g class=\"imagelayer\"/><g class=\"shapelayer\"/></g><g class=\"cartesianlayer\"><g class=\"subplot xy\"><g class=\"layer-subplot\"><g class=\"shapelayer\"/><g class=\"imagelayer\"/></g><g class=\"gridlayer\"><g class=\"x\"><path class=\"xgrid crisp\" transform=\"translate(164.38,0)\" d=\"M0,100v320\" style=\"stroke: rgb(255, 255, 255); stroke-opacity: 1; stroke-width: 1px;\"/><path class=\"xgrid crisp\" transform=\"translate(248.75,0)\" d=\"M0,100v320\" style=\"stroke: rgb(255, 255, 255); stroke-opacity: 1; stroke-width: 1px;\"/><path class=\"xgrid crisp\" transform=\"translate(333.13,0)\" d=\"M0,100v320\" style=\"stroke: rgb(255, 255, 255); stroke-opacity: 1; stroke-width: 1px;\"/><path class=\"xgrid crisp\" transform=\"translate(417.5,0)\" d=\"M0,100v320\" style=\"stroke: rgb(255, 255, 255); stroke-opacity: 1; stroke-width: 1px;\"/><path class=\"xgrid crisp\" transform=\"translate(501.88,0)\" d=\"M0,100v320\" style=\"stroke: rgb(255, 255, 255); stroke-opacity: 1; stroke-width: 1px;\"/><path class=\"xgrid crisp\" transform=\"translate(586.25,0)\" d=\"M0,100v320\" style=\"stroke: rgb(255, 255, 255); stroke-opacity: 1; stroke-width: 1px;\"/></g><g class=\"y\"><path class=\"ygrid crisp\" transform=\"translate(0,387.12)\" d=\"M80,0h540\" style=\"stroke: rgb(255, 255, 255); stroke-opacity: 1; stroke-width: 1px;\"/><path class=\"ygrid crisp\" transform=\"translate(0,336.48)\" d=\"M80,0h540\" style=\"stroke: rgb(255, 255, 255); stroke-opacity: 1; stroke-width: 1px;\"/><path class=\"ygrid crisp\" transform=\"translate(0,285.85)\" d=\"M80,0h540\" style=\"stroke: rgb(255, 255, 255); stroke-opacity: 1; stroke-width: 1px;\"/><path class=\"ygrid crisp\" transform=\"translate(0,235.21)\" d=\"M80,0h540\" style=\"stroke: rgb(255, 255, 255); stroke-opacity: 1; stroke-width: 1px;\"/><path class=\"ygrid crisp\" transform=\"translate(0,133.93)\" d=\"M80,0h540\" style=\"stroke: rgb(255, 255, 255); stroke-opacity: 1; stroke-width: 1px;\"/></g></g><g class=\"zerolinelayer\"><path class=\"xzl zl crisp\" transform=\"translate(80,0)\" d=\"M0,100v320\" style=\"stroke: rgb(255, 255, 255); stroke-opacity: 1; stroke-width: 2px;\"/><path class=\"yzl zl crisp\" transform=\"translate(0,184.57)\" d=\"M80,0h540\" style=\"stroke: rgb(0, 128, 0); stroke-opacity: 1; stroke-width: 2px;\"/></g><path class=\"xlines-below\"/><path class=\"ylines-below\"/><g class=\"overlines-below\"/><g class=\"xaxislayer-below\"/><g class=\"yaxislayer-below\"/><g class=\"overaxes-below\"/><g class=\"plot\" transform=\"translate(80,100)\" clip-path=\"url(#clipb3ba10xyplot)\"><g class=\"scatterlayer mlayer\"><g class=\"trace scatter trace0a2626\" style=\"stroke-miterlimit: 2; opacity: 1;\"><g class=\"fills\"/><g class=\"errorbars\"/><g class=\"lines\"><path class=\"js-line\" d=\"M0,222.87L16.88,285.73L33.75,304L50.63,298.86L67.5,278.25L84.38,246.73L101.25,203.69L135,150.03L151.88,124.88L168.75,102.38L185.63,82.81L202.5,66.06L219.38,53.1L236.25,43.79L253.13,36.42L270,30.59L286.88,26.26L320.63,21.04L337.5,19.5L371.25,17.56L388.13,17.02L455.63,16.19L472.5,16.14L540,16\" style=\"vector-effect: non-scaling-stroke; fill: none; stroke: rgb(0, 0, 255); stroke-opacity: 1; stroke-width: 2px; opacity: 1;\"/></g><g class=\"points\"/><g class=\"text\"/></g></g></g><g class=\"overplot\"/><path class=\"xlines-above crisp\" d=\"M0,0\" style=\"fill: none;\"/><path class=\"ylines-above crisp\" d=\"M0,0\" style=\"fill: none;\"/><g class=\"overlines-above\"/><g class=\"xaxislayer-above\"><g class=\"xtick\"><text text-anchor=\"middle\" x=\"0\" y=\"433\" transform=\"translate(80,0)\" style=\"font-family: 'Open Sans', verdana, arial, sans-serif; font-size: 12px; fill: rgb(42, 63, 95); fill-opacity: 1; white-space: pre; opacity: 1;\">0</text></g><g class=\"xtick\"><text text-anchor=\"middle\" x=\"0\" y=\"433\" style=\"font-family: 'Open Sans', verdana, arial, sans-serif; font-size: 12px; fill: rgb(42, 63, 95); fill-opacity: 1; white-space: pre; opacity: 1;\" transform=\"translate(164.38,0)\">5</text></g><g class=\"xtick\"><text text-anchor=\"middle\" x=\"0\" y=\"433\" style=\"font-family: 'Open Sans', verdana, arial, sans-serif; font-size: 12px; fill: rgb(42, 63, 95); fill-opacity: 1; white-space: pre; opacity: 1;\" transform=\"translate(248.75,0)\">10</text></g><g class=\"xtick\"><text text-anchor=\"middle\" x=\"0\" y=\"433\" style=\"font-family: 'Open Sans', verdana, arial, sans-serif; font-size: 12px; fill: rgb(42, 63, 95); fill-opacity: 1; white-space: pre; opacity: 1;\" transform=\"translate(333.13,0)\">15</text></g><g class=\"xtick\"><text text-anchor=\"middle\" x=\"0\" y=\"433\" style=\"font-family: 'Open Sans', verdana, arial, sans-serif; font-size: 12px; fill: rgb(42, 63, 95); fill-opacity: 1; white-space: pre; opacity: 1;\" transform=\"translate(417.5,0)\">20</text></g><g class=\"xtick\"><text text-anchor=\"middle\" x=\"0\" y=\"433\" style=\"font-family: 'Open Sans', verdana, arial, sans-serif; font-size: 12px; fill: rgb(42, 63, 95); fill-opacity: 1; white-space: pre; opacity: 1;\" transform=\"translate(501.88,0)\">25</text></g><g class=\"xtick\"><text text-anchor=\"middle\" x=\"0\" y=\"433\" style=\"font-family: 'Open Sans', verdana, arial, sans-serif; font-size: 12px; fill: rgb(42, 63, 95); fill-opacity: 1; white-space: pre; opacity: 1;\" transform=\"translate(586.25,0)\">30</text></g></g><g class=\"yaxislayer-above\"><g class=\"ytick\"><text text-anchor=\"end\" x=\"79\" y=\"4.199999999999999\" transform=\"translate(0,387.12)\" style=\"font-family: 'Open Sans', verdana, arial, sans-serif; font-size: 12px; fill: rgb(42, 63, 95); fill-opacity: 1; white-space: pre; opacity: 1;\">−4000</text></g><g class=\"ytick\"><text text-anchor=\"end\" x=\"79\" y=\"4.199999999999999\" style=\"font-family: 'Open Sans', verdana, arial, sans-serif; font-size: 12px; fill: rgb(42, 63, 95); fill-opacity: 1; white-space: pre; opacity: 1;\" transform=\"translate(0,336.48)\">−3000</text></g><g class=\"ytick\"><text text-anchor=\"end\" x=\"79\" y=\"4.199999999999999\" style=\"font-family: 'Open Sans', verdana, arial, sans-serif; font-size: 12px; fill: rgb(42, 63, 95); fill-opacity: 1; white-space: pre; opacity: 1;\" transform=\"translate(0,285.85)\">−2000</text></g><g class=\"ytick\"><text text-anchor=\"end\" x=\"79\" y=\"4.199999999999999\" style=\"font-family: 'Open Sans', verdana, arial, sans-serif; font-size: 12px; fill: rgb(42, 63, 95); fill-opacity: 1; white-space: pre; opacity: 1;\" transform=\"translate(0,235.21)\">−1000</text></g><g class=\"ytick\"><text text-anchor=\"end\" x=\"79\" y=\"4.199999999999999\" style=\"font-family: 'Open Sans', verdana, arial, sans-serif; font-size: 12px; fill: rgb(42, 63, 95); fill-opacity: 1; white-space: pre; opacity: 1;\" transform=\"translate(0,184.57)\">0</text></g><g class=\"ytick\"><text text-anchor=\"end\" x=\"79\" y=\"4.199999999999999\" style=\"font-family: 'Open Sans', verdana, arial, sans-serif; font-size: 12px; fill: rgb(42, 63, 95); fill-opacity: 1; white-space: pre; opacity: 1;\" transform=\"translate(0,133.93)\">1000</text></g></g><g class=\"overaxes-above\"/></g></g><g class=\"polarlayer\"/><g class=\"ternarylayer\"/><g class=\"geolayer\"/><g class=\"funnelarealayer\"/><g class=\"pielayer\"/><g class=\"iciclelayer\"/><g class=\"treemaplayer\"/><g class=\"sunburstlayer\"/><g class=\"glimages\"/><defs id=\"topdefs-b3ba10\"><g class=\"clips\"/></defs><g class=\"layer-above\"><g class=\"imagelayer\"/><g class=\"shapelayer\"/></g><g class=\"infolayer\"><g class=\"g-gtitle\"><text class=\"gtitle\" x=\"35\" y=\"50\" text-anchor=\"start\" dy=\"0em\" style=\"font-family: 'Open Sans', verdana, arial, sans-serif; font-size: 17px; fill: rgb(42, 63, 95); opacity: 1; font-weight: normal; white-space: pre;\">График изменения прибыли</text></g><g class=\"g-xtitle\"><text class=\"xtitle\" x=\"350\" y=\"460.8\" text-anchor=\"middle\" style=\"font-family: 'Open Sans', verdana, arial, sans-serif; font-size: 14px; fill: rgb(42, 63, 95); opacity: 1; font-weight: normal; white-space: pre;\">День</text></g><g class=\"g-ytitle\" transform=\"translate(0.1435546875,0)\"><text class=\"ytitle\" transform=\"rotate(-90,13.856250000000003,260)\" x=\"13.856250000000003\" y=\"260\" text-anchor=\"middle\" style=\"font-family: 'Open Sans', verdana, arial, sans-serif; font-size: 14px; fill: rgb(42, 63, 95); opacity: 1; font-weight: normal; white-space: pre;\">Прибыль, $</text></g></g></svg>"
      ]
     },
     "metadata": {},
     "output_type": "display_data"
    },
    {
     "data": {
      "image/png": "[encoded data removed]",
      "text/plain": [
       "<Figure size 576x1080 with 1 Axes>"
      ]
     },
     "metadata": {},
     "output_type": "display_data"
    }
   ],
   "source": [
    "mon(monetization, 0.07)"
   ]
  },
  {
   "cell_type": "markdown",
   "metadata": {},
   "source": [
    "**Вывод:** При данном способе монетизации мы увидели, что окупаемость клиентов, пришедших с разных источников, разная. Пользователи, пришедшие с Ютуба и Яндекса в среднем окупаются за 7-8 день, с Инстаграмма - за 17 дней. Однако пользователи, пришедшие с Фейсбука не окупаются за весь исследуемый период. Такой анализ позволил определить целевую аудиторию. При общей картине(без распределения по источникам) окупаемость составляет 11 дней. "
   ]
  },
  {
   "cell_type": "markdown",
   "metadata": {},
   "source": [
    "## 3.4. New Монетизация"
   ]
  },
  {
   "cell_type": "markdown",
   "metadata": {},
   "source": [
    "Можно предложить **Rewarded Video** (вознаграждающее видео) — видео, за просмотр которого пользователю дают награду. Данный ролик можно запускать для всех пользователей, которые ознакомились с инструкцией. При этом стоимость просмотра должна составлять 0.06$, чтоб иметь прибыль."
   ]
  },
  {
   "cell_type": "code",
   "execution_count": 39,
   "metadata": {},
   "outputs": [
    {
     "data": {
      "image/svg+xml": [
       "<svg class=\"main-svg\" xmlns=\"http://www.w3.org/2000/svg\" xmlns:xlink=\"http://www.w3.org/1999/xlink\" width=\"700\" height=\"500\" style=\"\" viewBox=\"0 0 700 500\"><rect x=\"0\" y=\"0\" width=\"700\" height=\"500\" style=\"fill: rgb(255, 255, 255); fill-opacity: 1;\"/><defs id=\"defs-f3cd69\"><g class=\"clips\"><clipPath id=\"clipf3cd69xyplot\" class=\"plotclip\"><rect width=\"540\" height=\"320\"/></clipPath><clipPath class=\"axesclip\" id=\"clipf3cd69x\"><rect x=\"80\" y=\"0\" width=\"540\" height=\"500\"/></clipPath><clipPath class=\"axesclip\" id=\"clipf3cd69y\"><rect x=\"0\" y=\"100\" width=\"700\" height=\"320\"/></clipPath><clipPath class=\"axesclip\" id=\"clipf3cd69xy\"><rect x=\"80\" y=\"100\" width=\"540\" height=\"320\"/></clipPath></g><g class=\"gradients\"/><g class=\"patterns\"/></defs><g class=\"bglayer\"><rect class=\"bg\" x=\"80\" y=\"100\" width=\"540\" height=\"320\" style=\"fill: rgb(229, 236, 246); fill-opacity: 1; stroke-width: 0;\"/></g><g class=\"layer-below\"><g class=\"imagelayer\"/><g class=\"shapelayer\"/></g><g class=\"cartesianlayer\"><g class=\"subplot xy\"><g class=\"layer-subplot\"><g class=\"shapelayer\"/><g class=\"imagelayer\"/></g><g class=\"gridlayer\"><g class=\"x\"><path class=\"xgrid crisp\" transform=\"translate(164.38,0)\" d=\"M0,100v320\" style=\"stroke: rgb(255, 255, 255); stroke-opacity: 1; stroke-width: 1px;\"/><path class=\"xgrid crisp\" transform=\"translate(248.75,0)\" d=\"M0,100v320\" style=\"stroke: rgb(255, 255, 255); stroke-opacity: 1; stroke-width: 1px;\"/><path class=\"xgrid crisp\" transform=\"translate(333.13,0)\" d=\"M0,100v320\" style=\"stroke: rgb(255, 255, 255); stroke-opacity: 1; stroke-width: 1px;\"/><path class=\"xgrid crisp\" transform=\"translate(417.5,0)\" d=\"M0,100v320\" style=\"stroke: rgb(255, 255, 255); stroke-opacity: 1; stroke-width: 1px;\"/><path class=\"xgrid crisp\" transform=\"translate(501.88,0)\" d=\"M0,100v320\" style=\"stroke: rgb(255, 255, 255); stroke-opacity: 1; stroke-width: 1px;\"/><path class=\"xgrid crisp\" transform=\"translate(586.25,0)\" d=\"M0,100v320\" style=\"stroke: rgb(255, 255, 255); stroke-opacity: 1; stroke-width: 1px;\"/></g><g class=\"y\"><path class=\"ygrid crisp\" transform=\"translate(0,390.22)\" d=\"M80,0h540\" style=\"stroke: rgb(255, 255, 255); stroke-opacity: 1; stroke-width: 1px;\"/><path class=\"ygrid crisp\" transform=\"translate(0,343.68)\" d=\"M80,0h540\" style=\"stroke: rgb(255, 255, 255); stroke-opacity: 1; stroke-width: 1px;\"/><path class=\"ygrid crisp\" transform=\"translate(0,297.14)\" d=\"M80,0h540\" style=\"stroke: rgb(255, 255, 255); stroke-opacity: 1; stroke-width: 1px;\"/><path class=\"ygrid crisp\" transform=\"translate(0,250.6)\" d=\"M80,0h540\" style=\"stroke: rgb(255, 255, 255); stroke-opacity: 1; stroke-width: 1px;\"/><path class=\"ygrid crisp\" transform=\"translate(0,157.53)\" d=\"M80,0h540\" style=\"stroke: rgb(255, 255, 255); stroke-opacity: 1; stroke-width: 1px;\"/><path class=\"ygrid crisp\" transform=\"translate(0,110.99)\" d=\"M80,0h540\" style=\"stroke: rgb(255, 255, 255); stroke-opacity: 1; stroke-width: 1px;\"/></g></g><g class=\"zerolinelayer\"><path class=\"xzl zl crisp\" transform=\"translate(80,0)\" d=\"M0,100v320\" style=\"stroke: rgb(255, 255, 255); stroke-opacity: 1; stroke-width: 2px;\"/><path class=\"yzl zl crisp\" transform=\"translate(0,204.07)\" d=\"M80,0h540\" style=\"stroke: rgb(0, 128, 0); stroke-opacity: 1; stroke-width: 2px;\"/></g><path class=\"xlines-below\"/><path class=\"ylines-below\"/><g class=\"overlines-below\"/><g class=\"xaxislayer-below\"/><g class=\"yaxislayer-below\"/><g class=\"overaxes-below\"/><g class=\"plot\" transform=\"translate(80,100)\" clip-path=\"url(#clipf3cd69xyplot)\"><g class=\"scatterlayer mlayer\"><g class=\"trace scatter trace3e8c74\" style=\"stroke-miterlimit: 2; opacity: 1;\"><g class=\"fills\"/><g class=\"errorbars\"/><g class=\"lines\"><path class=\"js-line\" d=\"M0,231.13L16.88,288.43L33.75,304L50.63,297.51L67.5,276.45L84.38,244.98L101.25,202.49L135,150.03L151.88,125.19L168.75,102.94L185.63,83.55L202.5,66.94L219.38,54.05L236.25,44.77L253.13,37.22L270,31.24L286.88,26.77L303.75,23.69L320.63,21.38L354.38,18.54L371.25,17.68L421.88,16.45L438.75,16.31L540,16\" style=\"vector-effect: non-scaling-stroke; fill: none; stroke: rgb(0, 0, 255); stroke-opacity: 1; stroke-width: 2px; opacity: 1;\"/></g><g class=\"points\"/><g class=\"text\"/></g></g></g><g class=\"overplot\"/><path class=\"xlines-above crisp\" d=\"M0,0\" style=\"fill: none;\"/><path class=\"ylines-above crisp\" d=\"M0,0\" style=\"fill: none;\"/><g class=\"overlines-above\"/><g class=\"xaxislayer-above\"><g class=\"xtick\"><text text-anchor=\"middle\" x=\"0\" y=\"433\" transform=\"translate(80,0)\" style=\"font-family: 'Open Sans', verdana, arial, sans-serif; font-size: 12px; fill: rgb(42, 63, 95); fill-opacity: 1; white-space: pre; opacity: 1;\">0</text></g><g class=\"xtick\"><text text-anchor=\"middle\" x=\"0\" y=\"433\" style=\"font-family: 'Open Sans', verdana, arial, sans-serif; font-size: 12px; fill: rgb(42, 63, 95); fill-opacity: 1; white-space: pre; opacity: 1;\" transform=\"translate(164.38,0)\">5</text></g><g class=\"xtick\"><text text-anchor=\"middle\" x=\"0\" y=\"433\" style=\"font-family: 'Open Sans', verdana, arial, sans-serif; font-size: 12px; fill: rgb(42, 63, 95); fill-opacity: 1; white-space: pre; opacity: 1;\" transform=\"translate(248.75,0)\">10</text></g><g class=\"xtick\"><text text-anchor=\"middle\" x=\"0\" y=\"433\" style=\"font-family: 'Open Sans', verdana, arial, sans-serif; font-size: 12px; fill: rgb(42, 63, 95); fill-opacity: 1; white-space: pre; opacity: 1;\" transform=\"translate(333.13,0)\">15</text></g><g class=\"xtick\"><text text-anchor=\"middle\" x=\"0\" y=\"433\" style=\"font-family: 'Open Sans', verdana, arial, sans-serif; font-size: 12px; fill: rgb(42, 63, 95); fill-opacity: 1; white-space: pre; opacity: 1;\" transform=\"translate(417.5,0)\">20</text></g><g class=\"xtick\"><text text-anchor=\"middle\" x=\"0\" y=\"433\" style=\"font-family: 'Open Sans', verdana, arial, sans-serif; font-size: 12px; fill: rgb(42, 63, 95); fill-opacity: 1; white-space: pre; opacity: 1;\" transform=\"translate(501.88,0)\">25</text></g><g class=\"xtick\"><text text-anchor=\"middle\" x=\"0\" y=\"433\" style=\"font-family: 'Open Sans', verdana, arial, sans-serif; font-size: 12px; fill: rgb(42, 63, 95); fill-opacity: 1; white-space: pre; opacity: 1;\" transform=\"translate(586.25,0)\">30</text></g></g><g class=\"yaxislayer-above\"><g class=\"ytick\"><text text-anchor=\"end\" x=\"79\" y=\"4.199999999999999\" transform=\"translate(0,390.22)\" style=\"font-family: 'Open Sans', verdana, arial, sans-serif; font-size: 12px; fill: rgb(42, 63, 95); fill-opacity: 1; white-space: pre; opacity: 1;\">−4000</text></g><g class=\"ytick\"><text text-anchor=\"end\" x=\"79\" y=\"4.199999999999999\" style=\"font-family: 'Open Sans', verdana, arial, sans-serif; font-size: 12px; fill: rgb(42, 63, 95); fill-opacity: 1; white-space: pre; opacity: 1;\" transform=\"translate(0,343.68)\">−3000</text></g><g class=\"ytick\"><text text-anchor=\"end\" x=\"79\" y=\"4.199999999999999\" style=\"font-family: 'Open Sans', verdana, arial, sans-serif; font-size: 12px; fill: rgb(42, 63, 95); fill-opacity: 1; white-space: pre; opacity: 1;\" transform=\"translate(0,297.14)\">−2000</text></g><g class=\"ytick\"><text text-anchor=\"end\" x=\"79\" y=\"4.199999999999999\" style=\"font-family: 'Open Sans', verdana, arial, sans-serif; font-size: 12px; fill: rgb(42, 63, 95); fill-opacity: 1; white-space: pre; opacity: 1;\" transform=\"translate(0,250.6)\">−1000</text></g><g class=\"ytick\"><text text-anchor=\"end\" x=\"79\" y=\"4.199999999999999\" style=\"font-family: 'Open Sans', verdana, arial, sans-serif; font-size: 12px; fill: rgb(42, 63, 95); fill-opacity: 1; white-space: pre; opacity: 1;\" transform=\"translate(0,204.07)\">0</text></g><g class=\"ytick\"><text text-anchor=\"end\" x=\"79\" y=\"4.199999999999999\" style=\"font-family: 'Open Sans', verdana, arial, sans-serif; font-size: 12px; fill: rgb(42, 63, 95); fill-opacity: 1; white-space: pre; opacity: 1;\" transform=\"translate(0,157.53)\">1000</text></g><g class=\"ytick\"><text text-anchor=\"end\" x=\"79\" y=\"4.199999999999999\" style=\"font-family: 'Open Sans', verdana, arial, sans-serif; font-size: 12px; fill: rgb(42, 63, 95); fill-opacity: 1; white-space: pre; opacity: 1;\" transform=\"translate(0,110.99)\">2000</text></g></g><g class=\"overaxes-above\"/></g></g><g class=\"polarlayer\"/><g class=\"ternarylayer\"/><g class=\"geolayer\"/><g class=\"funnelarealayer\"/><g class=\"pielayer\"/><g class=\"iciclelayer\"/><g class=\"treemaplayer\"/><g class=\"sunburstlayer\"/><g class=\"glimages\"/><defs id=\"topdefs-f3cd69\"><g class=\"clips\"/></defs><g class=\"layer-above\"><g class=\"imagelayer\"/><g class=\"shapelayer\"/></g><g class=\"infolayer\"><g class=\"g-gtitle\"><text class=\"gtitle\" x=\"35\" y=\"50\" text-anchor=\"start\" dy=\"0em\" style=\"font-family: 'Open Sans', verdana, arial, sans-serif; font-size: 17px; fill: rgb(42, 63, 95); opacity: 1; font-weight: normal; white-space: pre;\">График изменения прибыли</text></g><g class=\"g-xtitle\"><text class=\"xtitle\" x=\"350\" y=\"460.8\" text-anchor=\"middle\" style=\"font-family: 'Open Sans', verdana, arial, sans-serif; font-size: 14px; fill: rgb(42, 63, 95); opacity: 1; font-weight: normal; white-space: pre;\">День</text></g><g class=\"g-ytitle\" transform=\"translate(0.1435546875,0)\"><text class=\"ytitle\" transform=\"rotate(-90,13.856250000000003,260)\" x=\"13.856250000000003\" y=\"260\" text-anchor=\"middle\" style=\"font-family: 'Open Sans', verdana, arial, sans-serif; font-size: 14px; fill: rgb(42, 63, 95); opacity: 1; font-weight: normal; white-space: pre;\">Прибыль, $</text></g></g></svg>"
      ]
     },
     "metadata": {},
     "output_type": "display_data"
    },
    {
     "data": {
      "image/png": "[encoded data removed]",
      "text/plain": [
       "<Figure size 576x1080 with 1 Axes>"
      ]
     },
     "metadata": {},
     "output_type": "display_data"
    }
   ],
   "source": [
    "mon(game_actions.merge(user_source, on='user_id'), 0.06)"
   ]
  },
  {
   "cell_type": "markdown",
   "metadata": {},
   "source": [
    "**Вывод:** Окупаемость данной модели монетизации составит 14 дней. "
   ]
  },
  {
   "cell_type": "markdown",
   "metadata": {},
   "source": [
    "# Шаг 4. Статистические гипотезы"
   ]
  },
  {
   "cell_type": "markdown",
   "metadata": {},
   "source": [
    "## 4.1. Гипотеза 1"
   ]
  },
  {
   "cell_type": "markdown",
   "metadata": {},
   "source": [
    "Различие времени прохождения уровня между группами пользователей, которые заканчивают уровень через реализацию проекта, и группой пользователей, которые заканчивают уровень победой над другим игроком."
   ]
  },
  {
   "cell_type": "markdown",
   "metadata": {},
   "source": [
    "Определим разницу времени (в часах) каждого события у пользователя с момента первого посещения:"
   ]
  },
  {
   "cell_type": "code",
   "execution_count": 40,
   "metadata": {},
   "outputs": [],
   "source": [
    "pd.options.mode.chained_assignment = None  # default='warn'\n",
    "\n",
    "first_open = game_actions.groupby('user_id')['event_datetime'].min()\n",
    "first_open.name = 'first_open'\n",
    "game_actions = game_actions.merge(first_open, on='user_id')\n",
    "game_actions['delta_win'] = (game_actions['event_datetime'] - game_actions['first_open']).astype('timedelta64[h]')\n",
    "game_actions['delta_win'] = game_actions['delta_win'].astype(int)"
   ]
  },
  {
   "cell_type": "markdown",
   "metadata": {},
   "source": [
    "Сформируем по условию две группы для статистического анализа. Группа B - пользователи, закончившие уровень через победу над другим игроком, а группа A - через реализацию проекта."
   ]
  },
  {
   "cell_type": "code",
   "execution_count": 41,
   "metadata": {},
   "outputs": [],
   "source": [
    "#Группа А\n",
    "win_A = game_actions[game_actions['event'] == 'project']['delta_win']\n",
    "\n",
    "#Группа В\n",
    "mask = game_actions[(game_actions['event'] == 'finished_stage_1')]['user_id'].isin(\n",
    "    game_actions[game_actions['event'] == 'project']['user_id'])\n",
    "\n",
    "win_B = game_actions[(game_actions['event'] == 'finished_stage_1')].loc[~mask]['delta_win']"
   ]
  },
  {
   "cell_type": "markdown",
   "metadata": {},
   "source": [
    "**Нулевая гипотеза:** среднее время прохождения уровня между пользователями равны <br>\n",
    "**Альтернативная гипотеза:** среднее время прохождения уровня между пользователями различается"
   ]
  },
  {
   "cell_type": "markdown",
   "metadata": {},
   "source": [
    "Выберем альфа = 0.05 - низший уровень статистической значимости, рекомендован для небольших выборок."
   ]
  },
  {
   "cell_type": "code",
   "execution_count": 42,
   "metadata": {},
   "outputs": [
    {
     "name": "stdout",
     "output_type": "stream",
     "text": [
      "P-value = 0.000. Отвергаем нулевую гипотезу\n"
     ]
    }
   ],
   "source": [
    "alpha = 0.05 # критический уровень статистической значимости\n",
    "result_1 = st.ttest_ind(win_A,win_B,equal_var=False) \n",
    "pvalue_1 = result_1.pvalue\n",
    "if pvalue_1 < alpha:\n",
    "    print(\"P-value = {0:.3f}. Отвергаем нулевую гипотезу\".format(pvalue_1))\n",
    "else:\n",
    "    print(\"P-value = {0:.3f}. Не получилось отвергнуть нулевую гипотезу\".format(pvalue_1))"
   ]
  },
  {
   "cell_type": "markdown",
   "metadata": {},
   "source": [
    "**Вывод:** Отвергаем нулевую гипотезу, среднее время прохождения уровня между пользователями, которые заканчивают уровень через реализацию проекта, и пользователями, которые заканчивают уровень победой над другим игроком, разное."
   ]
  },
  {
   "cell_type": "markdown",
   "metadata": {},
   "source": [
    "## 4.1. Гипотеза 2"
   ]
  },
  {
   "cell_type": "markdown",
   "metadata": {},
   "source": [
    "Различие времени прохождения уровня между группами пользователей, которые пришли с Ютуба, и группой пользователей, пришедших с Инстаграмма."
   ]
  },
  {
   "cell_type": "code",
   "execution_count": 43,
   "metadata": {},
   "outputs": [],
   "source": [
    "game_actions_source = game_actions.merge(user_source, on='user_id')"
   ]
  },
  {
   "cell_type": "code",
   "execution_count": 44,
   "metadata": {},
   "outputs": [],
   "source": [
    "win_youtube = game_actions_source[(game_actions_source['event'] == 'finished_stage_1') \\\n",
    "                                    &(game_actions_source['source'] == 'youtube_channel_reklama')]['delta_win']\n",
    "win_facebook = game_actions_source[(game_actions_source['event'] == 'finished_stage_1') \\\n",
    "                                    &(game_actions_source['source'] == 'instagram_new_adverts')]['delta_win']"
   ]
  },
  {
   "cell_type": "markdown",
   "metadata": {},
   "source": [
    "**Нулевая гипотеза:** среднее время прохождения уровня между группами одинаково <br>\n",
    "**Альтернативная гипотеза:** среднее время прохождения уровня между группами различается"
   ]
  },
  {
   "cell_type": "code",
   "execution_count": 45,
   "metadata": {
    "scrolled": true
   },
   "outputs": [
    {
     "name": "stdout",
     "output_type": "stream",
     "text": [
      "P-value = 0.000. Не получилось отвергнуть нулевую гипотезу\n"
     ]
    }
   ],
   "source": [
    "result_2 = st.ttest_ind(win_youtube,win_facebook,equal_var=False) \n",
    "pvalue_2 = result_2.pvalue\n",
    "if pvalue_2 < alpha:\n",
    "    print(\"P-value = {0:.3f}. Отвергаем нулевую гипотезу\".format(pvalue_1))\n",
    "else:\n",
    "    print(\"P-value = {0:.3f}. Не получилось отвергнуть нулевую гипотезу\".format(pvalue_1))"
   ]
  },
  {
   "cell_type": "markdown",
   "metadata": {},
   "source": [
    "**Вывод:** Не получилось отвергнуть нулевую гипотезу, среднее время прохождения уровня между группами пользователей, пришедших с Ютуба и Инстаграмма, равны."
   ]
  },
  {
   "cell_type": "markdown",
   "metadata": {},
   "source": [
    "# Вывод"
   ]
  },
  {
   "cell_type": "markdown",
   "metadata": {},
   "source": [
    "При анализе графика DAU мы увидели резкое снижение активных пользователей. Также об этом свидетельствует Ratention Rate, где резко снижается количество вовлеченных пользователей. Сопоставив графики маркетинговых трат, убедились, что они заканчиваются 10 мая.\n",
    "\n",
    "При одинаковых тратах на рекламу у Яндекс, Фейсбук и Инстаграмм, наибольшее количество пользователей пришло с Яндекса.\n",
    "8 мая для компании привлечение клиента стало самым дорогим, 9 мая - самым дешевым. Рассмотрев стоимость привлечения клиента с разных источников, увидели, что клиенты с Фейсбука являются самыми дорогими, в то время, как пользователи с Ютуба являются самыми дешевыми.\n",
    "\n",
    "Монетизация показа рекламы происходит при выборе типа здания, которая приносит прибыль **0.07$** с одного показа. При данном способе монетизации мы увидели, что окупаемость клиентов, пришедших с разных источников, разная. Пользователи, пришедшие с Ютуба и Яндекса в среднем окупаются за 7-8 дней, с Инстаграмма - за 17 дней. Однако пользователи, пришедшие с Фейсбука не окупаются за весь исследуемый период. Такой анализ позволил определить целевую аудиторию. При общей картине(без распределения по источникам) окупаемость составляет 11 дней. \n",
    "\n",
    "Так же исследовав предоставленные данные мы смогли проверить гипотезы. Эти данные помогли нам опровергнуть гипотезу о том, среднее время прохождения уровня между пользователями, которые заканчивают уровень через реализацию проекта, и пользователями, которые заканчивают уровень победой над другим игроком, равны. А также получилось подтвердить, что среднее время прохождения уровня между пользователями, пришедших с Ютуба и Инстаграмма, равны.\n",
    "\n",
    "**Рекомендация:** При данном способе монетизации стоит гораздо больше выделить средства для трафика с Ютуба. Отказаться, от трафика с Фейсбука. Также можно рассмотреть еще один вид монетизации - Rewarded Video. Данный вариант оправдывает себя при стоимости в **0.06$** за 14 дней."
   ]
  },
  {
   "cell_type": "markdown",
   "metadata": {},
   "source": [
    "# Материалы\n",
    "\n",
    " - Дашборд: <a href='https://public.tableau.com/app/profile/aleksandr3569/viz/FinalBook_16314814329860/Dashboard1?publish=yes'>Ссылка</a>\n",
    " "
   ]
  }
 ],
 "metadata": {
  "ExecuteTimeLog": [
   {
    "duration": 785,
    "start_time": "2021-09-06T16:54:07.213Z"
   },
   {
    "duration": 247,
    "start_time": "2021-09-06T17:07:42.498Z"
   },
   {
    "duration": 172,
    "start_time": "2021-09-06T17:07:56.551Z"
   },
   {
    "duration": 74,
    "start_time": "2021-09-06T17:08:38.320Z"
   },
   {
    "duration": 87,
    "start_time": "2021-09-06T17:09:00.776Z"
   },
   {
    "duration": 108,
    "start_time": "2021-09-06T17:09:15.465Z"
   },
   {
    "duration": 594,
    "start_time": "2021-09-06T17:11:04.779Z"
   },
   {
    "duration": 26,
    "start_time": "2021-09-06T17:11:10.762Z"
   },
   {
    "duration": 32,
    "start_time": "2021-09-06T17:11:19.653Z"
   },
   {
    "duration": 508,
    "start_time": "2021-09-06T17:12:02.225Z"
   },
   {
    "duration": 23,
    "start_time": "2021-09-06T17:12:05.570Z"
   },
   {
    "duration": 33,
    "start_time": "2021-09-06T17:12:53.410Z"
   },
   {
    "duration": 935,
    "start_time": "2021-09-06T17:16:20.428Z"
   },
   {
    "duration": 14,
    "start_time": "2021-09-06T17:16:34.117Z"
   },
   {
    "duration": 9,
    "start_time": "2021-09-06T17:16:49.005Z"
   },
   {
    "duration": 11,
    "start_time": "2021-09-06T17:29:56.921Z"
   },
   {
    "duration": 860,
    "start_time": "2021-09-06T17:30:19.277Z"
   },
   {
    "duration": 12,
    "start_time": "2021-09-06T17:33:17.472Z"
   },
   {
    "duration": 114,
    "start_time": "2021-09-06T17:33:19.934Z"
   },
   {
    "duration": 10,
    "start_time": "2021-09-06T17:34:29.444Z"
   },
   {
    "duration": 107,
    "start_time": "2021-09-06T17:34:31.632Z"
   },
   {
    "duration": 11,
    "start_time": "2021-09-06T17:35:00.510Z"
   },
   {
    "duration": 131,
    "start_time": "2021-09-06T17:35:02.905Z"
   },
   {
    "duration": 10,
    "start_time": "2021-09-06T17:35:43.138Z"
   },
   {
    "duration": 132,
    "start_time": "2021-09-06T17:35:44.981Z"
   },
   {
    "duration": 89,
    "start_time": "2021-09-06T17:40:23.411Z"
   },
   {
    "duration": 68,
    "start_time": "2021-09-06T17:40:39.367Z"
   },
   {
    "duration": 139,
    "start_time": "2021-09-06T17:40:57.197Z"
   },
   {
    "duration": 707,
    "start_time": "2021-09-06T17:41:47.257Z"
   },
   {
    "duration": 802,
    "start_time": "2021-09-06T17:41:47.968Z"
   },
   {
    "duration": 134,
    "start_time": "2021-09-06T17:41:48.774Z"
   },
   {
    "duration": 11,
    "start_time": "2021-09-06T17:41:48.912Z"
   },
   {
    "duration": 844,
    "start_time": "2021-09-06T17:41:48.925Z"
   },
   {
    "duration": 34,
    "start_time": "2021-09-06T18:09:30.046Z"
   },
   {
    "duration": 94,
    "start_time": "2021-09-06T18:09:47.045Z"
   },
   {
    "duration": 11,
    "start_time": "2021-09-06T18:09:50.042Z"
   },
   {
    "duration": 387,
    "start_time": "2021-09-06T18:16:07.732Z"
   },
   {
    "duration": 7,
    "start_time": "2021-09-06T18:17:04.928Z"
   },
   {
    "duration": 15,
    "start_time": "2021-09-06T18:17:10.628Z"
   },
   {
    "duration": 11,
    "start_time": "2021-09-06T18:17:16.577Z"
   },
   {
    "duration": 3,
    "start_time": "2021-09-06T18:18:17.082Z"
   },
   {
    "duration": 26,
    "start_time": "2021-09-06T18:20:19.121Z"
   },
   {
    "duration": 73,
    "start_time": "2021-09-06T18:20:48.364Z"
   },
   {
    "duration": 26,
    "start_time": "2021-09-06T18:20:50.492Z"
   },
   {
    "duration": 247,
    "start_time": "2021-09-06T18:24:36.560Z"
   },
   {
    "duration": 239,
    "start_time": "2021-09-06T18:25:03.398Z"
   },
   {
    "duration": 241,
    "start_time": "2021-09-06T18:25:16.541Z"
   },
   {
    "duration": 90,
    "start_time": "2021-09-06T18:25:37.238Z"
   },
   {
    "duration": 249,
    "start_time": "2021-09-06T18:25:50.305Z"
   },
   {
    "duration": 7,
    "start_time": "2021-09-06T18:25:58.305Z"
   },
   {
    "duration": 235,
    "start_time": "2021-09-06T18:26:10.876Z"
   },
   {
    "duration": 7,
    "start_time": "2021-09-06T18:26:15.520Z"
   },
   {
    "duration": 6,
    "start_time": "2021-09-06T18:26:32.347Z"
   },
   {
    "duration": 6,
    "start_time": "2021-09-06T18:26:38.884Z"
   },
   {
    "duration": 6,
    "start_time": "2021-09-06T18:26:51.357Z"
   },
   {
    "duration": 240,
    "start_time": "2021-09-06T18:26:59.853Z"
   },
   {
    "duration": 7245,
    "start_time": "2021-09-06T18:28:59.829Z"
   },
   {
    "duration": 595,
    "start_time": "2021-09-06T18:29:18.901Z"
   },
   {
    "duration": 6532,
    "start_time": "2021-09-06T18:29:23.407Z"
   },
   {
    "duration": 567,
    "start_time": "2021-09-06T18:29:49.614Z"
   },
   {
    "duration": 534,
    "start_time": "2021-09-06T18:30:16.105Z"
   },
   {
    "duration": 552,
    "start_time": "2021-09-06T18:30:30.205Z"
   },
   {
    "duration": 10,
    "start_time": "2021-09-06T18:43:04.592Z"
   },
   {
    "duration": 3190,
    "start_time": "2021-09-06T18:45:08.739Z"
   },
   {
    "duration": 92,
    "start_time": "2021-09-06T18:45:27.694Z"
   },
   {
    "duration": 220,
    "start_time": "2021-09-06T18:46:38.067Z"
   },
   {
    "duration": 10,
    "start_time": "2021-09-06T18:49:01.113Z"
   },
   {
    "duration": 301,
    "start_time": "2021-09-06T18:49:25.607Z"
   },
   {
    "duration": 6,
    "start_time": "2021-09-06T18:49:42.584Z"
   },
   {
    "duration": 557,
    "start_time": "2021-09-06T18:49:45.210Z"
   },
   {
    "duration": 423,
    "start_time": "2021-09-06T18:51:57.731Z"
   },
   {
    "duration": 401,
    "start_time": "2021-09-06T18:52:53.207Z"
   },
   {
    "duration": 237,
    "start_time": "2021-09-06T18:53:06.707Z"
   },
   {
    "duration": 249,
    "start_time": "2021-09-06T18:53:13.944Z"
   },
   {
    "duration": 244,
    "start_time": "2021-09-06T18:53:23.540Z"
   },
   {
    "duration": 237,
    "start_time": "2021-09-06T18:53:33.437Z"
   },
   {
    "duration": 12989,
    "start_time": "2021-09-07T17:43:56.266Z"
   },
   {
    "duration": 1147,
    "start_time": "2021-09-07T17:44:09.260Z"
   },
   {
    "duration": 574,
    "start_time": "2021-09-07T17:44:10.409Z"
   },
   {
    "duration": 87,
    "start_time": "2021-09-07T17:44:10.985Z"
   },
   {
    "duration": 15,
    "start_time": "2021-09-07T17:44:11.074Z"
   },
   {
    "duration": 1874,
    "start_time": "2021-09-07T17:44:11.091Z"
   },
   {
    "duration": 53,
    "start_time": "2021-09-07T17:44:12.968Z"
   },
   {
    "duration": -291,
    "start_time": "2021-09-07T17:44:13.314Z"
   },
   {
    "duration": -293,
    "start_time": "2021-09-07T17:44:13.318Z"
   },
   {
    "duration": -295,
    "start_time": "2021-09-07T17:44:13.321Z"
   },
   {
    "duration": -297,
    "start_time": "2021-09-07T17:44:13.325Z"
   },
   {
    "duration": -300,
    "start_time": "2021-09-07T17:44:13.329Z"
   },
   {
    "duration": -306,
    "start_time": "2021-09-07T17:44:13.337Z"
   },
   {
    "duration": 2316,
    "start_time": "2021-09-07T17:44:37.239Z"
   },
   {
    "duration": 1150,
    "start_time": "2021-09-07T17:44:39.557Z"
   },
   {
    "duration": 2337,
    "start_time": "2021-09-07T17:44:40.709Z"
   },
   {
    "duration": 85,
    "start_time": "2021-09-07T17:44:43.048Z"
   },
   {
    "duration": 8,
    "start_time": "2021-09-07T17:44:43.135Z"
   },
   {
    "duration": 359,
    "start_time": "2021-09-07T17:44:43.145Z"
   },
   {
    "duration": 25,
    "start_time": "2021-09-07T17:44:43.506Z"
   },
   {
    "duration": 7,
    "start_time": "2021-09-07T17:44:43.534Z"
   },
   {
    "duration": 6,
    "start_time": "2021-09-07T17:44:43.542Z"
   },
   {
    "duration": 68,
    "start_time": "2021-09-07T17:44:43.549Z"
   },
   {
    "duration": -280,
    "start_time": "2021-09-07T17:44:43.899Z"
   },
   {
    "duration": -281,
    "start_time": "2021-09-07T17:44:43.901Z"
   },
   {
    "duration": 173,
    "start_time": "2021-09-07T17:46:15.602Z"
   },
   {
    "duration": 517,
    "start_time": "2021-09-07T17:46:17.006Z"
   },
   {
    "duration": 22,
    "start_time": "2021-09-07T17:57:32.607Z"
   },
   {
    "duration": 353,
    "start_time": "2021-09-07T17:59:24.313Z"
   },
   {
    "duration": 69,
    "start_time": "2021-09-07T18:00:04.812Z"
   },
   {
    "duration": 19,
    "start_time": "2021-09-07T18:07:04.481Z"
   },
   {
    "duration": 982,
    "start_time": "2021-09-07T18:07:41.291Z"
   },
   {
    "duration": 9,
    "start_time": "2021-09-07T18:07:45.607Z"
   },
   {
    "duration": 1002,
    "start_time": "2021-09-07T18:07:58.988Z"
   },
   {
    "duration": 8,
    "start_time": "2021-09-07T18:08:01.837Z"
   },
   {
    "duration": 1014,
    "start_time": "2021-09-07T18:08:51.145Z"
   },
   {
    "duration": 7,
    "start_time": "2021-09-07T18:08:54.911Z"
   },
   {
    "duration": 1097,
    "start_time": "2021-09-07T18:09:23.507Z"
   },
   {
    "duration": 8,
    "start_time": "2021-09-07T18:09:26.197Z"
   },
   {
    "duration": 28,
    "start_time": "2021-09-07T18:09:49.595Z"
   },
   {
    "duration": 16,
    "start_time": "2021-09-07T18:09:55.275Z"
   },
   {
    "duration": 4759,
    "start_time": "2021-09-07T18:13:00.549Z"
   },
   {
    "duration": 381,
    "start_time": "2021-09-07T18:13:14.538Z"
   },
   {
    "duration": 18,
    "start_time": "2021-09-07T18:13:17.275Z"
   },
   {
    "duration": 3,
    "start_time": "2021-09-07T18:20:16.817Z"
   },
   {
    "duration": 18,
    "start_time": "2021-09-07T18:20:22.962Z"
   },
   {
    "duration": 365,
    "start_time": "2021-09-07T18:21:04.862Z"
   },
   {
    "duration": 5,
    "start_time": "2021-09-07T18:21:06.869Z"
   },
   {
    "duration": 18,
    "start_time": "2021-09-07T18:21:09.142Z"
   },
   {
    "duration": 138,
    "start_time": "2021-09-07T18:25:19.021Z"
   },
   {
    "duration": 6,
    "start_time": "2021-09-07T18:26:45.921Z"
   },
   {
    "duration": 9,
    "start_time": "2021-09-07T18:27:16.739Z"
   },
   {
    "duration": 9,
    "start_time": "2021-09-07T18:29:08.811Z"
   },
   {
    "duration": 189,
    "start_time": "2021-09-07T18:29:54.808Z"
   },
   {
    "duration": 8,
    "start_time": "2021-09-07T18:30:01.116Z"
   },
   {
    "duration": 11,
    "start_time": "2021-09-07T18:30:03.276Z"
   },
   {
    "duration": 9,
    "start_time": "2021-09-07T18:36:41.620Z"
   },
   {
    "duration": 123,
    "start_time": "2021-09-07T18:38:11.192Z"
   },
   {
    "duration": 11,
    "start_time": "2021-09-07T18:38:16.428Z"
   },
   {
    "duration": 6,
    "start_time": "2021-09-07T18:38:41.345Z"
   },
   {
    "duration": 9,
    "start_time": "2021-09-07T18:38:44.378Z"
   },
   {
    "duration": 7,
    "start_time": "2021-09-07T18:39:54.709Z"
   },
   {
    "duration": 12,
    "start_time": "2021-09-07T18:40:01.279Z"
   },
   {
    "duration": 7,
    "start_time": "2021-09-07T18:40:56.823Z"
   },
   {
    "duration": 119,
    "start_time": "2021-09-07T18:41:03.037Z"
   },
   {
    "duration": 7,
    "start_time": "2021-09-07T18:41:03.972Z"
   },
   {
    "duration": 6,
    "start_time": "2021-09-07T18:41:04.759Z"
   },
   {
    "duration": 4,
    "start_time": "2021-09-07T18:41:05.549Z"
   },
   {
    "duration": 7,
    "start_time": "2021-09-07T18:41:07.914Z"
   },
   {
    "duration": 12,
    "start_time": "2021-09-07T18:41:11.371Z"
   },
   {
    "duration": 202,
    "start_time": "2021-09-07T18:43:45.040Z"
   },
   {
    "duration": 13,
    "start_time": "2021-09-07T18:43:58.381Z"
   },
   {
    "duration": 20,
    "start_time": "2021-09-07T18:44:02.929Z"
   },
   {
    "duration": 6,
    "start_time": "2021-09-07T18:48:18.061Z"
   },
   {
    "duration": 8,
    "start_time": "2021-09-07T18:48:20.469Z"
   },
   {
    "duration": 6,
    "start_time": "2021-09-07T18:48:38.553Z"
   },
   {
    "duration": 7,
    "start_time": "2021-09-07T18:48:40.637Z"
   },
   {
    "duration": 113,
    "start_time": "2021-09-07T18:53:40.390Z"
   },
   {
    "duration": 10,
    "start_time": "2021-09-07T18:53:44.464Z"
   },
   {
    "duration": 10,
    "start_time": "2021-09-07T18:54:26.590Z"
   },
   {
    "duration": 9,
    "start_time": "2021-09-07T18:54:46.013Z"
   },
   {
    "duration": 6,
    "start_time": "2021-09-07T18:55:46.207Z"
   },
   {
    "duration": 4,
    "start_time": "2021-09-07T18:55:54.772Z"
   },
   {
    "duration": 9,
    "start_time": "2021-09-07T18:55:54.778Z"
   },
   {
    "duration": 1214,
    "start_time": "2021-09-07T18:57:38.474Z"
   },
   {
    "duration": 14379,
    "start_time": "2021-09-08T18:01:08.314Z"
   },
   {
    "duration": 1220,
    "start_time": "2021-09-08T18:01:22.696Z"
   },
   {
    "duration": 824,
    "start_time": "2021-09-08T18:01:23.918Z"
   },
   {
    "duration": 106,
    "start_time": "2021-09-08T18:01:24.744Z"
   },
   {
    "duration": 9,
    "start_time": "2021-09-08T18:01:24.852Z"
   },
   {
    "duration": 2270,
    "start_time": "2021-09-08T18:01:24.863Z"
   },
   {
    "duration": 42,
    "start_time": "2021-09-08T18:01:27.135Z"
   },
   {
    "duration": 8,
    "start_time": "2021-09-08T18:01:27.181Z"
   },
   {
    "duration": 11,
    "start_time": "2021-09-08T18:01:27.191Z"
   },
   {
    "duration": 226,
    "start_time": "2021-09-08T18:01:27.205Z"
   },
   {
    "duration": 658,
    "start_time": "2021-09-08T18:01:27.433Z"
   },
   {
    "duration": 1214,
    "start_time": "2021-09-08T18:01:28.092Z"
   },
   {
    "duration": 26,
    "start_time": "2021-09-08T18:01:29.308Z"
   },
   {
    "duration": 401,
    "start_time": "2021-09-08T18:01:29.336Z"
   },
   {
    "duration": 11,
    "start_time": "2021-09-08T18:01:29.739Z"
   },
   {
    "duration": 150,
    "start_time": "2021-09-08T18:01:29.751Z"
   },
   {
    "duration": 6,
    "start_time": "2021-09-08T18:01:29.903Z"
   },
   {
    "duration": 6,
    "start_time": "2021-09-08T18:01:29.911Z"
   },
   {
    "duration": 7,
    "start_time": "2021-09-08T18:01:29.919Z"
   },
   {
    "duration": 15,
    "start_time": "2021-09-08T18:01:29.927Z"
   },
   {
    "duration": 41,
    "start_time": "2021-09-08T18:01:29.943Z"
   },
   {
    "duration": 1187,
    "start_time": "2021-09-08T18:01:29.985Z"
   },
   {
    "duration": 12,
    "start_time": "2021-09-08T18:05:55.591Z"
   },
   {
    "duration": 19,
    "start_time": "2021-09-08T18:07:15.349Z"
   },
   {
    "duration": 1631,
    "start_time": "2021-09-08T18:08:00.929Z"
   },
   {
    "duration": 116,
    "start_time": "2021-09-08T18:11:59.516Z"
   },
   {
    "duration": 1485,
    "start_time": "2021-09-08T18:12:21.515Z"
   },
   {
    "duration": 3241,
    "start_time": "2021-09-08T18:12:56.228Z"
   },
   {
    "duration": 1400,
    "start_time": "2021-09-08T18:16:02.932Z"
   },
   {
    "duration": 26,
    "start_time": "2021-09-08T18:18:09.136Z"
   },
   {
    "duration": 9,
    "start_time": "2021-09-08T18:18:21.517Z"
   },
   {
    "duration": 15,
    "start_time": "2021-09-08T18:18:33.164Z"
   },
   {
    "duration": 17,
    "start_time": "2021-09-08T18:18:45.657Z"
   },
   {
    "duration": 15,
    "start_time": "2021-09-08T18:19:02.254Z"
   },
   {
    "duration": 18,
    "start_time": "2021-09-08T18:19:28.036Z"
   },
   {
    "duration": 20,
    "start_time": "2021-09-08T18:20:51.258Z"
   },
   {
    "duration": 17,
    "start_time": "2021-09-08T18:23:25.641Z"
   },
   {
    "duration": 9,
    "start_time": "2021-09-08T18:23:39.319Z"
   },
   {
    "duration": 17,
    "start_time": "2021-09-08T18:23:41.143Z"
   },
   {
    "duration": 10,
    "start_time": "2021-09-08T18:24:04.213Z"
   },
   {
    "duration": 19,
    "start_time": "2021-09-08T18:24:08.907Z"
   },
   {
    "duration": 73,
    "start_time": "2021-09-08T18:24:26.444Z"
   },
   {
    "duration": 6,
    "start_time": "2021-09-08T18:24:30.856Z"
   },
   {
    "duration": 6,
    "start_time": "2021-09-08T18:24:33.599Z"
   },
   {
    "duration": 4,
    "start_time": "2021-09-08T18:24:35.926Z"
   },
   {
    "duration": 14,
    "start_time": "2021-09-08T18:24:43.306Z"
   },
   {
    "duration": 9,
    "start_time": "2021-09-08T18:24:45.312Z"
   },
   {
    "duration": 693,
    "start_time": "2021-09-08T18:24:49.974Z"
   },
   {
    "duration": 480,
    "start_time": "2021-09-08T18:25:12.751Z"
   },
   {
    "duration": 476,
    "start_time": "2021-09-08T18:27:41.444Z"
   },
   {
    "duration": 492,
    "start_time": "2021-09-08T18:27:50.428Z"
   },
   {
    "duration": 847,
    "start_time": "2021-09-08T18:30:44.055Z"
   },
   {
    "duration": 777,
    "start_time": "2021-09-08T18:30:53.588Z"
   },
   {
    "duration": 433,
    "start_time": "2021-09-08T18:33:50.746Z"
   },
   {
    "duration": 378,
    "start_time": "2021-09-08T18:36:03.048Z"
   },
   {
    "duration": 10,
    "start_time": "2021-09-08T18:38:20.430Z"
   },
   {
    "duration": 349,
    "start_time": "2021-09-08T18:39:11.700Z"
   },
   {
    "duration": 339,
    "start_time": "2021-09-08T18:39:18.749Z"
   },
   {
    "duration": 7,
    "start_time": "2021-09-08T18:40:09.641Z"
   },
   {
    "duration": 363,
    "start_time": "2021-09-08T18:42:03.838Z"
   },
   {
    "duration": 139,
    "start_time": "2021-09-08T18:53:35.097Z"
   },
   {
    "duration": 175,
    "start_time": "2021-09-08T18:53:45.902Z"
   },
   {
    "duration": 127,
    "start_time": "2021-09-08T18:53:52.229Z"
   },
   {
    "duration": 161,
    "start_time": "2021-09-08T18:53:53.973Z"
   },
   {
    "duration": 28,
    "start_time": "2021-09-08T18:54:00.799Z"
   },
   {
    "duration": 389,
    "start_time": "2021-09-08T18:54:03.272Z"
   },
   {
    "duration": 9,
    "start_time": "2021-09-08T18:54:29.939Z"
   },
   {
    "duration": 2662,
    "start_time": "2021-09-08T18:58:58.944Z"
   },
   {
    "duration": 1254,
    "start_time": "2021-09-08T18:59:01.608Z"
   },
   {
    "duration": 776,
    "start_time": "2021-09-08T18:59:02.864Z"
   },
   {
    "duration": 95,
    "start_time": "2021-09-08T18:59:03.642Z"
   },
   {
    "duration": 6,
    "start_time": "2021-09-08T18:59:03.739Z"
   },
   {
    "duration": 2202,
    "start_time": "2021-09-08T18:59:03.747Z"
   },
   {
    "duration": 29,
    "start_time": "2021-09-08T18:59:05.951Z"
   },
   {
    "duration": 7,
    "start_time": "2021-09-08T18:59:05.983Z"
   },
   {
    "duration": 9,
    "start_time": "2021-09-08T18:59:05.991Z"
   },
   {
    "duration": 142,
    "start_time": "2021-09-08T18:59:06.002Z"
   },
   {
    "duration": 616,
    "start_time": "2021-09-08T18:59:06.146Z"
   },
   {
    "duration": 31,
    "start_time": "2021-09-08T18:59:06.764Z"
   },
   {
    "duration": 8,
    "start_time": "2021-09-08T18:59:06.797Z"
   },
   {
    "duration": 77,
    "start_time": "2021-09-08T18:59:06.806Z"
   },
   {
    "duration": 6,
    "start_time": "2021-09-08T18:59:06.885Z"
   },
   {
    "duration": 6,
    "start_time": "2021-09-08T18:59:06.892Z"
   },
   {
    "duration": 79,
    "start_time": "2021-09-08T18:59:06.900Z"
   },
   {
    "duration": 12,
    "start_time": "2021-09-08T18:59:06.980Z"
   },
   {
    "duration": 85,
    "start_time": "2021-09-08T18:59:06.994Z"
   },
   {
    "duration": 6,
    "start_time": "2021-09-08T18:59:07.081Z"
   },
   {
    "duration": 10,
    "start_time": "2021-09-08T18:59:07.089Z"
   },
   {
    "duration": 14,
    "start_time": "2021-09-08T18:59:07.100Z"
   },
   {
    "duration": 38,
    "start_time": "2021-09-08T18:59:07.116Z"
   },
   {
    "duration": 3,
    "start_time": "2021-09-08T18:59:07.156Z"
   },
   {
    "duration": 552,
    "start_time": "2021-09-08T18:59:07.160Z"
   },
   {
    "duration": 11,
    "start_time": "2021-09-08T19:00:15.833Z"
   },
   {
    "duration": 2252,
    "start_time": "2021-09-08T19:01:09.617Z"
   },
   {
    "duration": 1318,
    "start_time": "2021-09-08T19:01:11.874Z"
   },
   {
    "duration": 2630,
    "start_time": "2021-09-08T19:01:13.194Z"
   },
   {
    "duration": 94,
    "start_time": "2021-09-08T19:01:15.826Z"
   },
   {
    "duration": 8,
    "start_time": "2021-09-08T19:01:15.921Z"
   },
   {
    "duration": 809,
    "start_time": "2021-09-08T19:01:15.931Z"
   },
   {
    "duration": 25,
    "start_time": "2021-09-08T19:01:16.742Z"
   },
   {
    "duration": 7,
    "start_time": "2021-09-08T19:01:16.778Z"
   },
   {
    "duration": 13,
    "start_time": "2021-09-08T19:01:16.787Z"
   },
   {
    "duration": 132,
    "start_time": "2021-09-08T19:01:16.802Z"
   },
   {
    "duration": 633,
    "start_time": "2021-09-08T19:01:16.936Z"
   },
   {
    "duration": 34,
    "start_time": "2021-09-08T19:01:17.570Z"
   },
   {
    "duration": 77,
    "start_time": "2021-09-08T19:01:17.605Z"
   },
   {
    "duration": 8,
    "start_time": "2021-09-08T19:01:17.684Z"
   },
   {
    "duration": 9,
    "start_time": "2021-09-08T19:01:17.694Z"
   },
   {
    "duration": 18,
    "start_time": "2021-09-08T19:01:17.705Z"
   },
   {
    "duration": 106,
    "start_time": "2021-09-08T19:01:17.777Z"
   },
   {
    "duration": 6,
    "start_time": "2021-09-08T19:01:17.885Z"
   },
   {
    "duration": 11,
    "start_time": "2021-09-08T19:01:17.892Z"
   },
   {
    "duration": 5,
    "start_time": "2021-09-08T19:01:17.904Z"
   },
   {
    "duration": 514,
    "start_time": "2021-09-08T19:01:17.911Z"
   },
   {
    "duration": -579,
    "start_time": "2021-09-08T19:01:19.006Z"
   },
   {
    "duration": -585,
    "start_time": "2021-09-08T19:01:19.013Z"
   },
   {
    "duration": -588,
    "start_time": "2021-09-08T19:01:19.017Z"
   },
   {
    "duration": 17,
    "start_time": "2021-09-08T19:01:40.184Z"
   },
   {
    "duration": 520,
    "start_time": "2021-09-08T19:01:42.577Z"
   },
   {
    "duration": 3,
    "start_time": "2021-09-08T19:02:59.075Z"
   },
   {
    "duration": 434,
    "start_time": "2021-09-08T19:03:01.500Z"
   },
   {
    "duration": 21,
    "start_time": "2021-09-08T19:03:18.563Z"
   },
   {
    "duration": 488,
    "start_time": "2021-09-08T19:04:12.047Z"
   },
   {
    "duration": 345,
    "start_time": "2021-09-08T19:04:37.004Z"
   },
   {
    "duration": 4,
    "start_time": "2021-09-08T19:06:13.768Z"
   },
   {
    "duration": 6,
    "start_time": "2021-09-08T19:06:16.923Z"
   },
   {
    "duration": 9736,
    "start_time": "2021-09-08T19:06:18.757Z"
   },
   {
    "duration": 2552,
    "start_time": "2021-09-08T19:06:31.623Z"
   },
   {
    "duration": 1357,
    "start_time": "2021-09-08T19:06:34.178Z"
   },
   {
    "duration": 694,
    "start_time": "2021-09-08T19:06:35.537Z"
   },
   {
    "duration": 103,
    "start_time": "2021-09-08T19:06:36.233Z"
   },
   {
    "duration": 7,
    "start_time": "2021-09-08T19:06:36.338Z"
   },
   {
    "duration": 703,
    "start_time": "2021-09-08T19:06:36.347Z"
   },
   {
    "duration": 32,
    "start_time": "2021-09-08T19:06:37.052Z"
   },
   {
    "duration": 9,
    "start_time": "2021-09-08T19:06:37.088Z"
   },
   {
    "duration": 6,
    "start_time": "2021-09-08T19:06:37.099Z"
   },
   {
    "duration": 153,
    "start_time": "2021-09-08T19:06:37.106Z"
   },
   {
    "duration": 661,
    "start_time": "2021-09-08T19:06:37.260Z"
   },
   {
    "duration": 60,
    "start_time": "2021-09-08T19:06:37.923Z"
   },
   {
    "duration": 31,
    "start_time": "2021-09-08T19:06:37.986Z"
   },
   {
    "duration": 62,
    "start_time": "2021-09-08T19:06:38.019Z"
   },
   {
    "duration": 8,
    "start_time": "2021-09-08T19:06:38.083Z"
   },
   {
    "duration": 14,
    "start_time": "2021-09-08T19:06:38.094Z"
   },
   {
    "duration": 129,
    "start_time": "2021-09-08T19:06:38.110Z"
   },
   {
    "duration": 7,
    "start_time": "2021-09-08T19:06:38.241Z"
   },
   {
    "duration": 28,
    "start_time": "2021-09-08T19:06:38.249Z"
   },
   {
    "duration": 18,
    "start_time": "2021-09-08T19:06:38.280Z"
   },
   {
    "duration": 6,
    "start_time": "2021-09-08T19:06:38.300Z"
   },
   {
    "duration": 18,
    "start_time": "2021-09-08T19:06:38.307Z"
   },
   {
    "duration": 484,
    "start_time": "2021-09-08T19:06:38.328Z"
   },
   {
    "duration": 15,
    "start_time": "2021-09-08T19:08:13.497Z"
   },
   {
    "duration": 7,
    "start_time": "2021-09-08T19:09:53.838Z"
   },
   {
    "duration": 34,
    "start_time": "2021-09-08T19:10:13.288Z"
   },
   {
    "duration": 2448,
    "start_time": "2021-09-08T19:11:33.688Z"
   },
   {
    "duration": 1716,
    "start_time": "2021-09-08T19:11:36.139Z"
   },
   {
    "duration": 822,
    "start_time": "2021-09-08T19:11:37.858Z"
   },
   {
    "duration": 100,
    "start_time": "2021-09-08T19:11:38.683Z"
   },
   {
    "duration": 7,
    "start_time": "2021-09-08T19:11:38.785Z"
   },
   {
    "duration": 2277,
    "start_time": "2021-09-08T19:11:38.793Z"
   },
   {
    "duration": 36,
    "start_time": "2021-09-08T19:11:41.073Z"
   },
   {
    "duration": 10,
    "start_time": "2021-09-08T19:11:41.113Z"
   },
   {
    "duration": 16,
    "start_time": "2021-09-08T19:11:41.126Z"
   },
   {
    "duration": 240,
    "start_time": "2021-09-08T19:11:41.145Z"
   },
   {
    "duration": 899,
    "start_time": "2021-09-08T19:11:41.387Z"
   },
   {
    "duration": 96,
    "start_time": "2021-09-08T19:11:42.288Z"
   },
   {
    "duration": 37,
    "start_time": "2021-09-08T19:11:42.386Z"
   },
   {
    "duration": 7,
    "start_time": "2021-09-08T19:11:42.477Z"
   },
   {
    "duration": 18,
    "start_time": "2021-09-08T19:11:42.486Z"
   },
   {
    "duration": 22,
    "start_time": "2021-09-08T19:11:42.507Z"
   },
   {
    "duration": 149,
    "start_time": "2021-09-08T19:11:42.531Z"
   },
   {
    "duration": 10,
    "start_time": "2021-09-08T19:11:42.682Z"
   },
   {
    "duration": 34,
    "start_time": "2021-09-08T19:11:42.694Z"
   },
   {
    "duration": 13,
    "start_time": "2021-09-08T19:11:42.730Z"
   },
   {
    "duration": 32,
    "start_time": "2021-09-08T19:11:42.745Z"
   },
   {
    "duration": 2,
    "start_time": "2021-09-08T19:11:42.779Z"
   },
   {
    "duration": 18,
    "start_time": "2021-09-08T19:11:42.784Z"
   },
   {
    "duration": 555,
    "start_time": "2021-09-08T19:11:42.804Z"
   },
   {
    "duration": 7,
    "start_time": "2021-09-08T19:12:47.342Z"
   },
   {
    "duration": 6,
    "start_time": "2021-09-08T19:12:54.388Z"
   },
   {
    "duration": 6,
    "start_time": "2021-09-08T19:13:06.831Z"
   },
   {
    "duration": 6,
    "start_time": "2021-09-08T19:13:11.130Z"
   },
   {
    "duration": 4,
    "start_time": "2021-09-08T19:13:21.575Z"
   },
   {
    "duration": 15,
    "start_time": "2021-09-08T19:13:29.734Z"
   },
   {
    "duration": 494,
    "start_time": "2021-09-08T19:13:32.166Z"
   },
   {
    "duration": 70,
    "start_time": "2021-09-08T19:14:24.779Z"
   },
   {
    "duration": 7,
    "start_time": "2021-09-08T19:14:26.442Z"
   },
   {
    "duration": 5,
    "start_time": "2021-09-08T19:14:28.356Z"
   },
   {
    "duration": 4,
    "start_time": "2021-09-08T19:14:30.260Z"
   },
   {
    "duration": 4,
    "start_time": "2021-09-08T19:14:32.176Z"
   },
   {
    "duration": 16,
    "start_time": "2021-09-08T19:14:35.705Z"
   },
   {
    "duration": 383,
    "start_time": "2021-09-08T19:14:37.587Z"
   },
   {
    "duration": 2258,
    "start_time": "2021-09-08T19:15:03.512Z"
   },
   {
    "duration": 1243,
    "start_time": "2021-09-08T19:15:05.773Z"
   },
   {
    "duration": 764,
    "start_time": "2021-09-08T19:15:07.021Z"
   },
   {
    "duration": 100,
    "start_time": "2021-09-08T19:15:07.787Z"
   },
   {
    "duration": 7,
    "start_time": "2021-09-08T19:15:07.888Z"
   },
   {
    "duration": 2254,
    "start_time": "2021-09-08T19:15:07.897Z"
   },
   {
    "duration": 38,
    "start_time": "2021-09-08T19:15:10.154Z"
   },
   {
    "duration": 7,
    "start_time": "2021-09-08T19:15:10.194Z"
   },
   {
    "duration": 6,
    "start_time": "2021-09-08T19:15:10.202Z"
   },
   {
    "duration": 144,
    "start_time": "2021-09-08T19:15:10.210Z"
   },
   {
    "duration": 606,
    "start_time": "2021-09-08T19:15:10.355Z"
   },
   {
    "duration": 31,
    "start_time": "2021-09-08T19:15:10.963Z"
   },
   {
    "duration": 26,
    "start_time": "2021-09-08T19:15:10.996Z"
   },
   {
    "duration": 57,
    "start_time": "2021-09-08T19:15:11.023Z"
   },
   {
    "duration": 6,
    "start_time": "2021-09-08T19:15:11.082Z"
   },
   {
    "duration": 13,
    "start_time": "2021-09-08T19:15:11.090Z"
   },
   {
    "duration": 132,
    "start_time": "2021-09-08T19:15:11.105Z"
   },
   {
    "duration": 7,
    "start_time": "2021-09-08T19:15:11.239Z"
   },
   {
    "duration": 11,
    "start_time": "2021-09-08T19:15:11.248Z"
   },
   {
    "duration": 18,
    "start_time": "2021-09-08T19:15:11.260Z"
   },
   {
    "duration": 6,
    "start_time": "2021-09-08T19:15:11.280Z"
   },
   {
    "duration": 19,
    "start_time": "2021-09-08T19:15:11.289Z"
   },
   {
    "duration": 445,
    "start_time": "2021-09-08T19:15:11.310Z"
   },
   {
    "duration": 6,
    "start_time": "2021-09-08T19:15:48.697Z"
   },
   {
    "duration": 369,
    "start_time": "2021-09-08T19:16:33.926Z"
   },
   {
    "duration": 373,
    "start_time": "2021-09-08T19:16:50.197Z"
   },
   {
    "duration": 368,
    "start_time": "2021-09-08T19:18:37.006Z"
   },
   {
    "duration": 392,
    "start_time": "2021-09-08T19:18:47.556Z"
   },
   {
    "duration": 375,
    "start_time": "2021-09-08T19:18:54.525Z"
   },
   {
    "duration": 431,
    "start_time": "2021-09-08T19:19:13.284Z"
   },
   {
    "duration": 464,
    "start_time": "2021-09-08T19:19:25.832Z"
   },
   {
    "duration": 429,
    "start_time": "2021-09-08T19:19:31.060Z"
   },
   {
    "duration": 778,
    "start_time": "2021-09-08T19:28:49.690Z"
   },
   {
    "duration": 376,
    "start_time": "2021-09-08T19:29:07.096Z"
   },
   {
    "duration": 369,
    "start_time": "2021-09-08T19:29:22.921Z"
   },
   {
    "duration": 421,
    "start_time": "2021-09-08T19:29:29.173Z"
   },
   {
    "duration": 430,
    "start_time": "2021-09-08T19:29:35.349Z"
   },
   {
    "duration": 2304,
    "start_time": "2021-09-08T19:59:16.737Z"
   },
   {
    "duration": 1276,
    "start_time": "2021-09-08T19:59:19.044Z"
   },
   {
    "duration": 2441,
    "start_time": "2021-09-08T19:59:20.325Z"
   },
   {
    "duration": 99,
    "start_time": "2021-09-08T19:59:22.767Z"
   },
   {
    "duration": 12,
    "start_time": "2021-09-08T19:59:22.868Z"
   },
   {
    "duration": 630,
    "start_time": "2021-09-08T19:59:22.882Z"
   },
   {
    "duration": 25,
    "start_time": "2021-09-08T19:59:23.516Z"
   },
   {
    "duration": 34,
    "start_time": "2021-09-08T19:59:23.544Z"
   },
   {
    "duration": 5,
    "start_time": "2021-09-08T19:59:23.580Z"
   },
   {
    "duration": 140,
    "start_time": "2021-09-08T19:59:23.587Z"
   },
   {
    "duration": 626,
    "start_time": "2021-09-08T19:59:23.729Z"
   },
   {
    "duration": 31,
    "start_time": "2021-09-08T19:59:24.357Z"
   },
   {
    "duration": 26,
    "start_time": "2021-09-08T19:59:24.389Z"
   },
   {
    "duration": 62,
    "start_time": "2021-09-08T19:59:24.417Z"
   },
   {
    "duration": 6,
    "start_time": "2021-09-08T19:59:24.482Z"
   },
   {
    "duration": 14,
    "start_time": "2021-09-08T19:59:24.490Z"
   },
   {
    "duration": 144,
    "start_time": "2021-09-08T19:59:24.506Z"
   },
   {
    "duration": 9,
    "start_time": "2021-09-08T19:59:24.653Z"
   },
   {
    "duration": 18,
    "start_time": "2021-09-08T19:59:24.664Z"
   },
   {
    "duration": 5,
    "start_time": "2021-09-08T19:59:24.684Z"
   },
   {
    "duration": 5,
    "start_time": "2021-09-08T19:59:24.691Z"
   },
   {
    "duration": 18,
    "start_time": "2021-09-08T19:59:24.699Z"
   },
   {
    "duration": 628,
    "start_time": "2021-09-08T19:59:24.718Z"
   },
   {
    "duration": 349,
    "start_time": "2021-09-09T16:59:05.760Z"
   },
   {
    "duration": 28402,
    "start_time": "2021-09-09T16:59:11.385Z"
   },
   {
    "duration": 1723,
    "start_time": "2021-09-09T16:59:39.792Z"
   },
   {
    "duration": 1985,
    "start_time": "2021-09-09T16:59:41.518Z"
   },
   {
    "duration": 149,
    "start_time": "2021-09-09T16:59:43.505Z"
   },
   {
    "duration": 16,
    "start_time": "2021-09-09T16:59:43.657Z"
   },
   {
    "duration": 1051,
    "start_time": "2021-09-09T16:59:43.676Z"
   },
   {
    "duration": 58,
    "start_time": "2021-09-09T16:59:44.731Z"
   },
   {
    "duration": 13,
    "start_time": "2021-09-09T16:59:44.793Z"
   },
   {
    "duration": 6,
    "start_time": "2021-09-09T16:59:44.809Z"
   },
   {
    "duration": 226,
    "start_time": "2021-09-09T16:59:44.818Z"
   },
   {
    "duration": 990,
    "start_time": "2021-09-09T16:59:45.046Z"
   },
   {
    "duration": 71,
    "start_time": "2021-09-09T16:59:46.039Z"
   },
   {
    "duration": 93,
    "start_time": "2021-09-09T16:59:46.113Z"
   },
   {
    "duration": 61,
    "start_time": "2021-09-09T16:59:46.209Z"
   },
   {
    "duration": 11,
    "start_time": "2021-09-09T16:59:46.274Z"
   },
   {
    "duration": 22,
    "start_time": "2021-09-09T16:59:46.288Z"
   },
   {
    "duration": 205,
    "start_time": "2021-09-09T16:59:46.313Z"
   },
   {
    "duration": 11,
    "start_time": "2021-09-09T16:59:46.520Z"
   },
   {
    "duration": 10,
    "start_time": "2021-09-09T16:59:46.534Z"
   },
   {
    "duration": 20,
    "start_time": "2021-09-09T16:59:46.547Z"
   },
   {
    "duration": 8,
    "start_time": "2021-09-09T16:59:46.570Z"
   },
   {
    "duration": 33,
    "start_time": "2021-09-09T16:59:46.582Z"
   },
   {
    "duration": 852,
    "start_time": "2021-09-09T16:59:46.618Z"
   },
   {
    "duration": 20,
    "start_time": "2021-09-09T16:59:47.474Z"
   },
   {
    "duration": 7319,
    "start_time": "2021-09-09T17:01:12.957Z"
   },
   {
    "duration": 9,
    "start_time": "2021-09-09T17:01:35.820Z"
   },
   {
    "duration": 279,
    "start_time": "2021-09-09T17:02:57.778Z"
   },
   {
    "duration": 10,
    "start_time": "2021-09-09T17:03:13.418Z"
   },
   {
    "duration": 9,
    "start_time": "2021-09-09T17:03:19.422Z"
   },
   {
    "duration": 14,
    "start_time": "2021-09-09T17:03:21.461Z"
   },
   {
    "duration": 90,
    "start_time": "2021-09-09T17:03:28.063Z"
   },
   {
    "duration": 88,
    "start_time": "2021-09-09T17:04:11.787Z"
   },
   {
    "duration": 5,
    "start_time": "2021-09-09T17:12:25.734Z"
   },
   {
    "duration": 5,
    "start_time": "2021-09-09T17:12:35.086Z"
   },
   {
    "duration": 324,
    "start_time": "2021-09-09T17:16:28.037Z"
   },
   {
    "duration": 27,
    "start_time": "2021-09-09T17:16:40.542Z"
   },
   {
    "duration": 14,
    "start_time": "2021-09-09T17:16:50.186Z"
   },
   {
    "duration": 125,
    "start_time": "2021-09-09T17:23:32.690Z"
   },
   {
    "duration": 122,
    "start_time": "2021-09-09T17:24:49.897Z"
   },
   {
    "duration": 118,
    "start_time": "2021-09-09T17:25:09.909Z"
   },
   {
    "duration": 118,
    "start_time": "2021-09-09T17:25:21.758Z"
   },
   {
    "duration": 3402,
    "start_time": "2021-09-09T17:35:20.603Z"
   },
   {
    "duration": 117,
    "start_time": "2021-09-09T17:36:36.539Z"
   },
   {
    "duration": 4,
    "start_time": "2021-09-09T18:06:06.789Z"
   },
   {
    "duration": 345,
    "start_time": "2021-09-09T18:08:20.315Z"
   },
   {
    "duration": 10,
    "start_time": "2021-09-09T18:08:31.118Z"
   },
   {
    "duration": 18,
    "start_time": "2021-09-09T18:14:35.579Z"
   },
   {
    "duration": 17,
    "start_time": "2021-09-09T18:17:47.838Z"
   },
   {
    "duration": 25,
    "start_time": "2021-09-09T18:18:01.659Z"
   },
   {
    "duration": 10,
    "start_time": "2021-09-09T18:18:49.758Z"
   },
   {
    "duration": 10,
    "start_time": "2021-09-09T18:19:41.252Z"
   },
   {
    "duration": 11,
    "start_time": "2021-09-09T18:19:58.011Z"
   },
   {
    "duration": 3211,
    "start_time": "2021-09-09T18:21:04.541Z"
   },
   {
    "duration": 1689,
    "start_time": "2021-09-09T18:21:07.755Z"
   },
   {
    "duration": 1887,
    "start_time": "2021-09-09T18:21:09.447Z"
   },
   {
    "duration": 160,
    "start_time": "2021-09-09T18:21:11.337Z"
   },
   {
    "duration": 10,
    "start_time": "2021-09-09T18:21:11.500Z"
   },
   {
    "duration": 793,
    "start_time": "2021-09-09T18:21:11.512Z"
   },
   {
    "duration": 37,
    "start_time": "2021-09-09T18:21:12.308Z"
   },
   {
    "duration": 32,
    "start_time": "2021-09-09T18:21:12.349Z"
   },
   {
    "duration": 6,
    "start_time": "2021-09-09T18:21:12.385Z"
   },
   {
    "duration": 226,
    "start_time": "2021-09-09T18:21:12.393Z"
   },
   {
    "duration": 1026,
    "start_time": "2021-09-09T18:21:12.622Z"
   },
   {
    "duration": 63,
    "start_time": "2021-09-09T18:21:13.650Z"
   },
   {
    "duration": 95,
    "start_time": "2021-09-09T18:21:13.715Z"
   },
   {
    "duration": 58,
    "start_time": "2021-09-09T18:21:13.812Z"
   },
   {
    "duration": 21,
    "start_time": "2021-09-09T18:21:13.874Z"
   },
   {
    "duration": 70,
    "start_time": "2021-09-09T18:21:13.899Z"
   },
   {
    "duration": 152,
    "start_time": "2021-09-09T18:21:13.973Z"
   },
   {
    "duration": 10,
    "start_time": "2021-09-09T18:21:14.128Z"
   },
   {
    "duration": 30,
    "start_time": "2021-09-09T18:21:14.141Z"
   },
   {
    "duration": 14,
    "start_time": "2021-09-09T18:21:14.173Z"
   },
   {
    "duration": 15,
    "start_time": "2021-09-09T18:21:14.189Z"
   },
   {
    "duration": 33,
    "start_time": "2021-09-09T18:21:14.206Z"
   },
   {
    "duration": 794,
    "start_time": "2021-09-09T18:21:14.244Z"
   },
   {
    "duration": 8,
    "start_time": "2021-09-09T18:21:15.041Z"
   },
   {
    "duration": 93,
    "start_time": "2021-09-09T18:21:15.067Z"
   },
   {
    "duration": 8,
    "start_time": "2021-09-09T18:21:15.162Z"
   },
   {
    "duration": 146,
    "start_time": "2021-09-09T18:21:15.174Z"
   },
   {
    "duration": 9,
    "start_time": "2021-09-09T18:21:15.323Z"
   },
   {
    "duration": 6697,
    "start_time": "2021-09-09T18:21:15.335Z"
   },
   {
    "duration": -511,
    "start_time": "2021-09-09T18:21:22.546Z"
   },
   {
    "duration": -512,
    "start_time": "2021-09-09T18:21:22.548Z"
   },
   {
    "duration": 8,
    "start_time": "2021-09-09T18:23:05.978Z"
   },
   {
    "duration": 18,
    "start_time": "2021-09-09T18:23:11.848Z"
   },
   {
    "duration": 607,
    "start_time": "2021-09-09T18:25:06.261Z"
   },
   {
    "duration": 615,
    "start_time": "2021-09-09T18:33:03.431Z"
   },
   {
    "duration": 97,
    "start_time": "2021-09-09T18:33:29.533Z"
   },
   {
    "duration": 96,
    "start_time": "2021-09-09T18:33:42.422Z"
   },
   {
    "duration": 16,
    "start_time": "2021-09-09T18:40:27.769Z"
   },
   {
    "duration": 284,
    "start_time": "2021-09-09T18:44:27.243Z"
   },
   {
    "duration": 40,
    "start_time": "2021-09-09T18:44:59.060Z"
   },
   {
    "duration": 307,
    "start_time": "2021-09-09T18:53:33.576Z"
   },
   {
    "duration": 254,
    "start_time": "2021-09-09T18:53:41.758Z"
   },
   {
    "duration": 18,
    "start_time": "2021-09-09T18:54:13.487Z"
   },
   {
    "duration": 36,
    "start_time": "2021-09-09T18:54:18.152Z"
   },
   {
    "duration": 16,
    "start_time": "2021-09-09T19:07:19.005Z"
   },
   {
    "duration": 17,
    "start_time": "2021-09-09T19:07:40.278Z"
   },
   {
    "duration": 34,
    "start_time": "2021-09-09T19:07:47.378Z"
   },
   {
    "duration": 113,
    "start_time": "2021-09-09T19:09:52.377Z"
   },
   {
    "duration": 13,
    "start_time": "2021-09-09T19:09:57.407Z"
   },
   {
    "duration": 5,
    "start_time": "2021-09-09T19:10:52.907Z"
   },
   {
    "duration": 14,
    "start_time": "2021-09-09T19:10:59.350Z"
   },
   {
    "duration": 13,
    "start_time": "2021-09-09T19:12:04.886Z"
   },
   {
    "duration": 13,
    "start_time": "2021-09-09T19:18:00.521Z"
   },
   {
    "duration": 14,
    "start_time": "2021-09-09T19:18:07.200Z"
   },
   {
    "duration": 13,
    "start_time": "2021-09-09T19:18:09.542Z"
   },
   {
    "duration": 102,
    "start_time": "2021-09-09T19:18:10.236Z"
   },
   {
    "duration": 6,
    "start_time": "2021-09-09T19:18:10.766Z"
   },
   {
    "duration": 15,
    "start_time": "2021-09-09T19:18:17.018Z"
   },
   {
    "duration": 19,
    "start_time": "2021-09-09T19:24:14.490Z"
   },
   {
    "duration": 175,
    "start_time": "2021-09-09T19:24:15.729Z"
   },
   {
    "duration": 5,
    "start_time": "2021-09-09T19:24:16.511Z"
   },
   {
    "duration": 29,
    "start_time": "2021-09-09T19:25:05.276Z"
   },
   {
    "duration": 33,
    "start_time": "2021-09-09T19:25:19.915Z"
   },
   {
    "duration": 29,
    "start_time": "2021-09-09T19:27:00.249Z"
   },
   {
    "duration": 34,
    "start_time": "2021-09-09T19:27:02.963Z"
   },
   {
    "duration": 16,
    "start_time": "2021-09-09T19:36:58.614Z"
   },
   {
    "duration": 3,
    "start_time": "2021-09-09T19:41:04.058Z"
   },
   {
    "duration": 30,
    "start_time": "2021-09-09T19:46:15.464Z"
   },
   {
    "duration": 13,
    "start_time": "2021-09-09T19:46:18.420Z"
   },
   {
    "duration": 16,
    "start_time": "2021-09-09T19:46:33.042Z"
   },
   {
    "duration": 64,
    "start_time": "2021-09-09T19:49:54.539Z"
   },
   {
    "duration": 38,
    "start_time": "2021-09-09T19:50:00.275Z"
   },
   {
    "duration": 35,
    "start_time": "2021-09-09T19:52:27.958Z"
   },
   {
    "duration": 309,
    "start_time": "2021-09-09T19:53:48.283Z"
   },
   {
    "duration": 253,
    "start_time": "2021-09-09T19:54:33.448Z"
   },
   {
    "duration": 23,
    "start_time": "2021-09-09T19:54:39.268Z"
   },
   {
    "duration": 151,
    "start_time": "2021-09-09T19:55:49.847Z"
   },
   {
    "duration": 19,
    "start_time": "2021-09-09T19:55:51.634Z"
   },
   {
    "duration": 144,
    "start_time": "2021-09-09T19:57:04.405Z"
   },
   {
    "duration": 18,
    "start_time": "2021-09-09T19:57:06.616Z"
   },
   {
    "duration": 24183,
    "start_time": "2021-09-10T18:09:01.269Z"
   },
   {
    "duration": 2487,
    "start_time": "2021-09-10T18:09:25.454Z"
   },
   {
    "duration": 936,
    "start_time": "2021-09-10T18:09:27.943Z"
   },
   {
    "duration": 200,
    "start_time": "2021-09-10T18:09:28.881Z"
   },
   {
    "duration": 62,
    "start_time": "2021-09-10T18:09:29.082Z"
   },
   {
    "duration": 936,
    "start_time": "2021-09-10T18:09:29.147Z"
   },
   {
    "duration": 28,
    "start_time": "2021-09-10T18:09:30.142Z"
   },
   {
    "duration": 86,
    "start_time": "2021-09-10T18:09:30.172Z"
   },
   {
    "duration": 12,
    "start_time": "2021-09-10T18:09:30.262Z"
   },
   {
    "duration": 295,
    "start_time": "2021-09-10T18:09:30.277Z"
   },
   {
    "duration": 1205,
    "start_time": "2021-09-10T18:09:30.575Z"
   },
   {
    "duration": 174,
    "start_time": "2021-09-10T18:09:31.783Z"
   },
   {
    "duration": 108,
    "start_time": "2021-09-10T18:09:31.960Z"
   },
   {
    "duration": 72,
    "start_time": "2021-09-10T18:09:32.071Z"
   },
   {
    "duration": 7,
    "start_time": "2021-09-10T18:09:32.146Z"
   },
   {
    "duration": 96,
    "start_time": "2021-09-10T18:09:32.155Z"
   },
   {
    "duration": 192,
    "start_time": "2021-09-10T18:09:32.254Z"
   },
   {
    "duration": 9,
    "start_time": "2021-09-10T18:09:32.449Z"
   },
   {
    "duration": 81,
    "start_time": "2021-09-10T18:09:32.460Z"
   },
   {
    "duration": 8,
    "start_time": "2021-09-10T18:09:32.543Z"
   },
   {
    "duration": 8,
    "start_time": "2021-09-10T18:09:32.553Z"
   },
   {
    "duration": 19,
    "start_time": "2021-09-10T18:09:32.563Z"
   },
   {
    "duration": 784,
    "start_time": "2021-09-10T18:09:32.584Z"
   },
   {
    "duration": 15,
    "start_time": "2021-09-10T18:09:33.369Z"
   },
   {
    "duration": 236,
    "start_time": "2021-09-10T18:09:33.441Z"
   },
   {
    "duration": 4,
    "start_time": "2021-09-10T18:09:33.679Z"
   },
   {
    "duration": 55,
    "start_time": "2021-09-10T18:09:33.686Z"
   },
   {
    "duration": 27,
    "start_time": "2021-09-10T18:09:33.744Z"
   },
   {
    "duration": 12,
    "start_time": "2021-09-10T18:09:33.773Z"
   },
   {
    "duration": 65,
    "start_time": "2021-09-10T18:09:33.787Z"
   },
   {
    "duration": 118,
    "start_time": "2021-09-10T18:09:33.854Z"
   },
   {
    "duration": 4,
    "start_time": "2021-09-10T18:09:33.974Z"
   },
   {
    "duration": 273,
    "start_time": "2021-09-10T18:09:33.981Z"
   },
   {
    "duration": 7,
    "start_time": "2021-09-10T18:09:34.256Z"
   },
   {
    "duration": 184,
    "start_time": "2021-09-10T18:09:34.265Z"
   },
   {
    "duration": 103,
    "start_time": "2021-09-10T18:09:34.451Z"
   },
   {
    "duration": 220,
    "start_time": "2021-09-10T18:09:34.556Z"
   },
   {
    "duration": 65,
    "start_time": "2021-09-10T18:09:34.778Z"
   },
   {
    "duration": 98,
    "start_time": "2021-09-10T18:09:34.845Z"
   },
   {
    "duration": 13,
    "start_time": "2021-09-10T18:09:34.946Z"
   },
   {
    "duration": 10,
    "start_time": "2021-09-10T18:09:35.042Z"
   },
   {
    "duration": 8,
    "start_time": "2021-09-10T18:17:26.734Z"
   },
   {
    "duration": 19,
    "start_time": "2021-09-10T18:17:30.840Z"
   },
   {
    "duration": 4,
    "start_time": "2021-09-10T18:18:50.089Z"
   },
   {
    "duration": 14,
    "start_time": "2021-09-10T18:18:54.711Z"
   },
   {
    "duration": 8,
    "start_time": "2021-09-10T18:20:51.417Z"
   },
   {
    "duration": 19,
    "start_time": "2021-09-10T18:20:54.844Z"
   },
   {
    "duration": 6,
    "start_time": "2021-09-10T18:23:51.424Z"
   },
   {
    "duration": 448,
    "start_time": "2021-09-10T18:26:03.128Z"
   },
   {
    "duration": 8458,
    "start_time": "2021-09-10T18:26:19.894Z"
   },
   {
    "duration": 699,
    "start_time": "2021-09-10T19:39:08.490Z"
   },
   {
    "duration": 476,
    "start_time": "2021-09-10T19:39:51.053Z"
   },
   {
    "duration": 4900,
    "start_time": "2021-09-10T19:42:27.561Z"
   },
   {
    "duration": 4866,
    "start_time": "2021-09-10T19:42:43.653Z"
   },
   {
    "duration": 4539,
    "start_time": "2021-09-10T19:44:19.789Z"
   },
   {
    "duration": 4457,
    "start_time": "2021-09-10T19:44:35.428Z"
   },
   {
    "duration": 793,
    "start_time": "2021-09-10T19:45:11.059Z"
   },
   {
    "duration": 4414,
    "start_time": "2021-09-10T19:45:23.757Z"
   },
   {
    "duration": 918,
    "start_time": "2021-09-10T19:45:34.105Z"
   },
   {
    "duration": 4418,
    "start_time": "2021-09-10T19:45:47.427Z"
   },
   {
    "duration": 4498,
    "start_time": "2021-09-10T19:45:55.171Z"
   },
   {
    "duration": 2513,
    "start_time": "2021-09-10T19:53:33.265Z"
   },
   {
    "duration": 1266,
    "start_time": "2021-09-10T19:53:35.780Z"
   },
   {
    "duration": 955,
    "start_time": "2021-09-10T19:53:37.049Z"
   },
   {
    "duration": 122,
    "start_time": "2021-09-10T19:53:38.010Z"
   },
   {
    "duration": 7,
    "start_time": "2021-09-10T19:53:38.134Z"
   },
   {
    "duration": 822,
    "start_time": "2021-09-10T19:53:38.144Z"
   },
   {
    "duration": 26,
    "start_time": "2021-09-10T19:53:38.969Z"
   },
   {
    "duration": 8,
    "start_time": "2021-09-10T19:53:38.998Z"
   },
   {
    "duration": 7,
    "start_time": "2021-09-10T19:53:39.010Z"
   },
   {
    "duration": 230,
    "start_time": "2021-09-10T19:53:39.019Z"
   },
   {
    "duration": 685,
    "start_time": "2021-09-10T19:53:39.251Z"
   },
   {
    "duration": 33,
    "start_time": "2021-09-10T19:53:39.938Z"
   },
   {
    "duration": 71,
    "start_time": "2021-09-10T19:53:39.973Z"
   },
   {
    "duration": 7,
    "start_time": "2021-09-10T19:53:40.046Z"
   },
   {
    "duration": 8,
    "start_time": "2021-09-10T19:53:40.055Z"
   },
   {
    "duration": 17,
    "start_time": "2021-09-10T19:53:40.065Z"
   },
   {
    "duration": 192,
    "start_time": "2021-09-10T19:53:40.084Z"
   },
   {
    "duration": 8,
    "start_time": "2021-09-10T19:53:40.278Z"
   },
   {
    "duration": 10,
    "start_time": "2021-09-10T19:53:40.289Z"
   },
   {
    "duration": 6,
    "start_time": "2021-09-10T19:53:40.301Z"
   },
   {
    "duration": 32,
    "start_time": "2021-09-10T19:53:40.309Z"
   },
   {
    "duration": 16,
    "start_time": "2021-09-10T19:53:40.343Z"
   },
   {
    "duration": 484,
    "start_time": "2021-09-10T19:53:40.360Z"
   },
   {
    "duration": 6,
    "start_time": "2021-09-10T19:53:40.846Z"
   },
   {
    "duration": 55,
    "start_time": "2021-09-10T19:53:40.854Z"
   },
   {
    "duration": 3,
    "start_time": "2021-09-10T19:53:40.911Z"
   },
   {
    "duration": 86,
    "start_time": "2021-09-10T19:53:40.918Z"
   },
   {
    "duration": 7,
    "start_time": "2021-09-10T19:53:41.006Z"
   },
   {
    "duration": 74,
    "start_time": "2021-09-10T19:53:41.015Z"
   },
   {
    "duration": 52,
    "start_time": "2021-09-10T19:53:41.090Z"
   },
   {
    "duration": 121,
    "start_time": "2021-09-10T19:53:41.144Z"
   },
   {
    "duration": 4,
    "start_time": "2021-09-10T19:53:41.267Z"
   },
   {
    "duration": 21,
    "start_time": "2021-09-10T19:53:41.272Z"
   },
   {
    "duration": 16,
    "start_time": "2021-09-10T19:53:41.295Z"
   },
   {
    "duration": 9,
    "start_time": "2021-09-10T19:53:41.312Z"
   },
   {
    "duration": 18,
    "start_time": "2021-09-10T19:53:41.341Z"
   },
   {
    "duration": 6,
    "start_time": "2021-09-10T19:53:41.361Z"
   },
   {
    "duration": 4442,
    "start_time": "2021-09-10T19:53:41.369Z"
   },
   {
    "duration": 22,
    "start_time": "2021-09-10T19:54:38.784Z"
   },
   {
    "duration": 11,
    "start_time": "2021-09-10T19:55:40.251Z"
   },
   {
    "duration": 33,
    "start_time": "2021-09-10T19:55:47.734Z"
   },
   {
    "duration": 11,
    "start_time": "2021-09-10T19:55:54.875Z"
   },
   {
    "duration": 2254,
    "start_time": "2021-09-10T19:56:27.328Z"
   },
   {
    "duration": 1204,
    "start_time": "2021-09-10T19:56:29.585Z"
   },
   {
    "duration": 737,
    "start_time": "2021-09-10T19:56:30.791Z"
   },
   {
    "duration": 97,
    "start_time": "2021-09-10T19:56:31.531Z"
   },
   {
    "duration": 12,
    "start_time": "2021-09-10T19:56:31.629Z"
   },
   {
    "duration": 605,
    "start_time": "2021-09-10T19:56:31.642Z"
   },
   {
    "duration": 26,
    "start_time": "2021-09-10T19:56:32.249Z"
   },
   {
    "duration": 8,
    "start_time": "2021-09-10T19:56:32.276Z"
   },
   {
    "duration": 5,
    "start_time": "2021-09-10T19:56:32.287Z"
   },
   {
    "duration": 166,
    "start_time": "2021-09-10T19:56:32.294Z"
   },
   {
    "duration": 625,
    "start_time": "2021-09-10T19:56:32.462Z"
   },
   {
    "duration": 65,
    "start_time": "2021-09-10T19:56:33.088Z"
   },
   {
    "duration": 27,
    "start_time": "2021-09-10T19:56:33.155Z"
   },
   {
    "duration": 60,
    "start_time": "2021-09-10T19:56:33.184Z"
   },
   {
    "duration": 7,
    "start_time": "2021-09-10T19:56:33.246Z"
   },
   {
    "duration": 14,
    "start_time": "2021-09-10T19:56:33.255Z"
   },
   {
    "duration": 131,
    "start_time": "2021-09-10T19:56:33.270Z"
   },
   {
    "duration": 7,
    "start_time": "2021-09-10T19:56:33.403Z"
   },
   {
    "duration": 14,
    "start_time": "2021-09-10T19:56:33.412Z"
   },
   {
    "duration": 13,
    "start_time": "2021-09-10T19:56:33.428Z"
   },
   {
    "duration": 17,
    "start_time": "2021-09-10T19:56:33.443Z"
   },
   {
    "duration": 17,
    "start_time": "2021-09-10T19:56:33.462Z"
   },
   {
    "duration": 431,
    "start_time": "2021-09-10T19:56:33.481Z"
   },
   {
    "duration": 7,
    "start_time": "2021-09-10T19:56:33.914Z"
   },
   {
    "duration": 65,
    "start_time": "2021-09-10T19:56:33.923Z"
   },
   {
    "duration": 4,
    "start_time": "2021-09-10T19:56:33.990Z"
   },
   {
    "duration": 81,
    "start_time": "2021-09-10T19:56:33.998Z"
   },
   {
    "duration": 7,
    "start_time": "2021-09-10T19:56:34.081Z"
   },
   {
    "duration": 76,
    "start_time": "2021-09-10T19:56:34.090Z"
   },
   {
    "duration": 15,
    "start_time": "2021-09-10T19:56:34.169Z"
   },
   {
    "duration": 63,
    "start_time": "2021-09-10T19:56:34.186Z"
   },
   {
    "duration": 111,
    "start_time": "2021-09-10T19:56:34.251Z"
   },
   {
    "duration": 5,
    "start_time": "2021-09-10T19:56:34.364Z"
   },
   {
    "duration": 11,
    "start_time": "2021-09-10T19:56:34.371Z"
   },
   {
    "duration": 11,
    "start_time": "2021-09-10T19:56:34.384Z"
   },
   {
    "duration": 8,
    "start_time": "2021-09-10T19:56:34.396Z"
   },
   {
    "duration": 4305,
    "start_time": "2021-09-10T19:56:34.406Z"
   },
   {
    "duration": 89,
    "start_time": "2021-09-10T19:58:06.370Z"
   },
   {
    "duration": 16668,
    "start_time": "2021-09-11T08:23:31.134Z"
   },
   {
    "duration": 1347,
    "start_time": "2021-09-11T08:23:47.804Z"
   },
   {
    "duration": 822,
    "start_time": "2021-09-11T08:23:49.153Z"
   },
   {
    "duration": 115,
    "start_time": "2021-09-11T08:23:49.977Z"
   },
   {
    "duration": 8,
    "start_time": "2021-09-11T08:23:50.094Z"
   },
   {
    "duration": 1729,
    "start_time": "2021-09-11T08:23:50.104Z"
   },
   {
    "duration": 42,
    "start_time": "2021-09-11T08:23:51.835Z"
   },
   {
    "duration": 9,
    "start_time": "2021-09-11T08:23:51.880Z"
   },
   {
    "duration": 7,
    "start_time": "2021-09-11T08:23:51.891Z"
   },
   {
    "duration": 159,
    "start_time": "2021-09-11T08:23:51.900Z"
   },
   {
    "duration": 669,
    "start_time": "2021-09-11T08:23:52.061Z"
   },
   {
    "duration": 64,
    "start_time": "2021-09-11T08:23:52.732Z"
   },
   {
    "duration": 81,
    "start_time": "2021-09-11T08:23:52.798Z"
   },
   {
    "duration": 6,
    "start_time": "2021-09-11T08:23:52.881Z"
   },
   {
    "duration": 7,
    "start_time": "2021-09-11T08:23:52.889Z"
   },
   {
    "duration": 14,
    "start_time": "2021-09-11T08:23:52.898Z"
   },
   {
    "duration": 136,
    "start_time": "2021-09-11T08:23:52.914Z"
   },
   {
    "duration": 9,
    "start_time": "2021-09-11T08:23:53.052Z"
   },
   {
    "duration": 15,
    "start_time": "2021-09-11T08:23:53.063Z"
   },
   {
    "duration": 8,
    "start_time": "2021-09-11T08:23:53.080Z"
   },
   {
    "duration": 7,
    "start_time": "2021-09-11T08:23:53.090Z"
   },
   {
    "duration": 17,
    "start_time": "2021-09-11T08:23:53.099Z"
   },
   {
    "duration": 443,
    "start_time": "2021-09-11T08:23:53.120Z"
   },
   {
    "duration": 13,
    "start_time": "2021-09-11T08:23:53.565Z"
   },
   {
    "duration": 57,
    "start_time": "2021-09-11T08:23:53.580Z"
   },
   {
    "duration": 4,
    "start_time": "2021-09-11T08:23:53.639Z"
   },
   {
    "duration": 92,
    "start_time": "2021-09-11T08:23:53.645Z"
   },
   {
    "duration": 6,
    "start_time": "2021-09-11T08:23:53.739Z"
   },
   {
    "duration": 76,
    "start_time": "2021-09-11T08:23:53.747Z"
   },
   {
    "duration": 14,
    "start_time": "2021-09-11T08:23:53.825Z"
   },
   {
    "duration": 57,
    "start_time": "2021-09-11T08:23:53.841Z"
   },
   {
    "duration": 119,
    "start_time": "2021-09-11T08:23:53.900Z"
   },
   {
    "duration": 4,
    "start_time": "2021-09-11T08:23:54.021Z"
   },
   {
    "duration": 11,
    "start_time": "2021-09-11T08:23:54.026Z"
   },
   {
    "duration": 9,
    "start_time": "2021-09-11T08:23:54.039Z"
   },
   {
    "duration": 8,
    "start_time": "2021-09-11T08:23:54.049Z"
   },
   {
    "duration": 4585,
    "start_time": "2021-09-11T08:23:54.076Z"
   },
   {
    "duration": 13,
    "start_time": "2021-09-11T08:27:47.074Z"
   },
   {
    "duration": 15,
    "start_time": "2021-09-11T08:31:59.431Z"
   },
   {
    "duration": 9,
    "start_time": "2021-09-11T08:32:01.865Z"
   },
   {
    "duration": 4929,
    "start_time": "2021-09-11T08:32:10.447Z"
   },
   {
    "duration": 22,
    "start_time": "2021-09-11T08:32:57.752Z"
   },
   {
    "duration": 3,
    "start_time": "2021-09-11T08:33:59.943Z"
   },
   {
    "duration": 4814,
    "start_time": "2021-09-11T08:34:07.945Z"
   },
   {
    "duration": 9,
    "start_time": "2021-09-11T08:47:40.078Z"
   },
   {
    "duration": 1284,
    "start_time": "2021-09-11T08:47:55.043Z"
   },
   {
    "duration": 4,
    "start_time": "2021-09-11T08:50:08.975Z"
   },
   {
    "duration": 10,
    "start_time": "2021-09-11T08:52:47.485Z"
   },
   {
    "duration": 4879,
    "start_time": "2021-09-11T08:52:49.600Z"
   },
   {
    "duration": 11,
    "start_time": "2021-09-11T08:56:28.210Z"
   },
   {
    "duration": 5944,
    "start_time": "2021-09-11T08:56:31.238Z"
   },
   {
    "duration": 12,
    "start_time": "2021-09-11T08:57:26.282Z"
   },
   {
    "duration": 5898,
    "start_time": "2021-09-11T08:57:32.808Z"
   },
   {
    "duration": 12,
    "start_time": "2021-09-11T09:02:55.171Z"
   },
   {
    "duration": 5828,
    "start_time": "2021-09-11T09:02:57.406Z"
   },
   {
    "duration": 12,
    "start_time": "2021-09-11T09:06:55.102Z"
   },
   {
    "duration": 9002,
    "start_time": "2021-09-11T09:06:57.432Z"
   },
   {
    "duration": 12,
    "start_time": "2021-09-11T09:10:01.322Z"
   },
   {
    "duration": 5910,
    "start_time": "2021-09-11T09:10:04.079Z"
   },
   {
    "duration": 12,
    "start_time": "2021-09-11T09:14:52.358Z"
   },
   {
    "duration": 5763,
    "start_time": "2021-09-11T09:14:54.961Z"
   },
   {
    "duration": 12,
    "start_time": "2021-09-11T09:15:52.358Z"
   },
   {
    "duration": 5955,
    "start_time": "2021-09-11T09:15:54.556Z"
   },
   {
    "duration": 17,
    "start_time": "2021-09-11T09:16:41.438Z"
   },
   {
    "duration": 8616,
    "start_time": "2021-09-11T09:16:44.468Z"
   },
   {
    "duration": 10,
    "start_time": "2021-09-11T09:27:41.926Z"
   },
   {
    "duration": 372,
    "start_time": "2021-09-11T09:28:23.888Z"
   },
   {
    "duration": 170,
    "start_time": "2021-09-11T09:28:48.177Z"
   },
   {
    "duration": 167,
    "start_time": "2021-09-11T09:29:50.686Z"
   },
   {
    "duration": 2,
    "start_time": "2021-09-11T09:31:08.851Z"
   },
   {
    "duration": 3,
    "start_time": "2021-09-11T09:39:24.656Z"
   },
   {
    "duration": 3,
    "start_time": "2021-09-11T09:43:20.391Z"
   },
   {
    "duration": 23,
    "start_time": "2021-09-11T09:56:31.633Z"
   },
   {
    "duration": 9,
    "start_time": "2021-09-11T10:04:35.448Z"
   },
   {
    "duration": 10,
    "start_time": "2021-09-11T10:04:42.545Z"
   },
   {
    "duration": 22,
    "start_time": "2021-09-11T10:04:48.721Z"
   },
   {
    "duration": 11,
    "start_time": "2021-09-11T10:15:17.055Z"
   },
   {
    "duration": 8,
    "start_time": "2021-09-11T10:15:20.487Z"
   },
   {
    "duration": 22,
    "start_time": "2021-09-11T10:15:32.150Z"
   },
   {
    "duration": 11,
    "start_time": "2021-09-11T10:16:19.316Z"
   },
   {
    "duration": 24,
    "start_time": "2021-09-11T10:16:40.301Z"
   },
   {
    "duration": 21,
    "start_time": "2021-09-11T10:17:29.007Z"
   },
   {
    "duration": 27,
    "start_time": "2021-09-11T10:17:34.164Z"
   },
   {
    "duration": 25,
    "start_time": "2021-09-11T10:18:14.796Z"
   },
   {
    "duration": 28,
    "start_time": "2021-09-11T10:18:34.670Z"
   },
   {
    "duration": 36,
    "start_time": "2021-09-11T10:18:42.682Z"
   },
   {
    "duration": 18,
    "start_time": "2021-09-11T10:20:46.279Z"
   },
   {
    "duration": 14,
    "start_time": "2021-09-11T10:21:02.991Z"
   },
   {
    "duration": 22,
    "start_time": "2021-09-11T10:21:04.526Z"
   },
   {
    "duration": 22,
    "start_time": "2021-09-11T10:21:09.890Z"
   },
   {
    "duration": 23,
    "start_time": "2021-09-11T10:23:52.903Z"
   },
   {
    "duration": 22,
    "start_time": "2021-09-11T10:23:55.596Z"
   },
   {
    "duration": 11,
    "start_time": "2021-09-11T10:33:40.272Z"
   },
   {
    "duration": 6,
    "start_time": "2021-09-11T10:34:24.762Z"
   },
   {
    "duration": 10,
    "start_time": "2021-09-11T10:34:59.095Z"
   },
   {
    "duration": 7,
    "start_time": "2021-09-11T10:35:00.847Z"
   },
   {
    "duration": 10,
    "start_time": "2021-09-11T10:35:16.531Z"
   },
   {
    "duration": 24,
    "start_time": "2021-09-11T10:35:21.859Z"
   },
   {
    "duration": 73,
    "start_time": "2021-09-11T10:46:36.746Z"
   },
   {
    "duration": 20,
    "start_time": "2021-09-11T10:46:41.946Z"
   },
   {
    "duration": 27,
    "start_time": "2021-09-11T10:46:53.701Z"
   },
   {
    "duration": 24,
    "start_time": "2021-09-11T10:46:58.832Z"
   },
   {
    "duration": 10307,
    "start_time": "2021-09-11T10:47:14.448Z"
   },
   {
    "duration": 105,
    "start_time": "2021-09-11T10:47:26.971Z"
   },
   {
    "duration": 37,
    "start_time": "2021-09-11T10:47:29.890Z"
   },
   {
    "duration": 31,
    "start_time": "2021-09-11T10:47:36.693Z"
   },
   {
    "duration": 41,
    "start_time": "2021-09-11T10:47:38.891Z"
   },
   {
    "duration": 8807,
    "start_time": "2021-09-11T10:47:50.066Z"
   },
   {
    "duration": -556,
    "start_time": "2021-09-11T10:47:59.431Z"
   },
   {
    "duration": -570,
    "start_time": "2021-09-11T10:47:59.446Z"
   },
   {
    "duration": 86,
    "start_time": "2021-09-11T10:48:13.290Z"
   },
   {
    "duration": 18,
    "start_time": "2021-09-11T10:48:15.533Z"
   },
   {
    "duration": 28,
    "start_time": "2021-09-11T10:48:17.667Z"
   },
   {
    "duration": 2647,
    "start_time": "2021-09-11T10:48:52.035Z"
   },
   {
    "duration": 1387,
    "start_time": "2021-09-11T10:48:54.685Z"
   },
   {
    "duration": 878,
    "start_time": "2021-09-11T10:48:56.074Z"
   },
   {
    "duration": 108,
    "start_time": "2021-09-11T10:48:56.955Z"
   },
   {
    "duration": 13,
    "start_time": "2021-09-11T10:48:57.066Z"
   },
   {
    "duration": 2273,
    "start_time": "2021-09-11T10:48:57.082Z"
   },
   {
    "duration": 37,
    "start_time": "2021-09-11T10:48:59.358Z"
   },
   {
    "duration": 8,
    "start_time": "2021-09-11T10:48:59.397Z"
   },
   {
    "duration": 5,
    "start_time": "2021-09-11T10:48:59.408Z"
   },
   {
    "duration": 166,
    "start_time": "2021-09-11T10:48:59.416Z"
   },
   {
    "duration": 671,
    "start_time": "2021-09-11T10:48:59.584Z"
   },
   {
    "duration": 40,
    "start_time": "2021-09-11T10:49:00.257Z"
   },
   {
    "duration": 81,
    "start_time": "2021-09-11T10:49:00.299Z"
   },
   {
    "duration": 6,
    "start_time": "2021-09-11T10:49:00.382Z"
   },
   {
    "duration": 10,
    "start_time": "2021-09-11T10:49:00.390Z"
   },
   {
    "duration": 20,
    "start_time": "2021-09-11T10:49:00.402Z"
   },
   {
    "duration": 123,
    "start_time": "2021-09-11T10:49:00.424Z"
   },
   {
    "duration": 9,
    "start_time": "2021-09-11T10:49:00.577Z"
   },
   {
    "duration": 15,
    "start_time": "2021-09-11T10:49:00.587Z"
   },
   {
    "duration": 11,
    "start_time": "2021-09-11T10:49:00.604Z"
   },
   {
    "duration": 9,
    "start_time": "2021-09-11T10:49:00.617Z"
   },
   {
    "duration": 23,
    "start_time": "2021-09-11T10:49:00.628Z"
   },
   {
    "duration": 496,
    "start_time": "2021-09-11T10:49:00.653Z"
   },
   {
    "duration": 184,
    "start_time": "2021-09-11T10:49:01.151Z"
   },
   {
    "duration": 8,
    "start_time": "2021-09-11T10:49:01.337Z"
   },
   {
    "duration": 80,
    "start_time": "2021-09-11T10:49:01.346Z"
   },
   {
    "duration": 4,
    "start_time": "2021-09-11T10:49:01.429Z"
   },
   {
    "duration": 99,
    "start_time": "2021-09-11T10:49:01.435Z"
   },
   {
    "duration": 7,
    "start_time": "2021-09-11T10:49:01.536Z"
   },
   {
    "duration": 78,
    "start_time": "2021-09-11T10:49:01.545Z"
   },
   {
    "duration": 14,
    "start_time": "2021-09-11T10:49:01.624Z"
   },
   {
    "duration": 12,
    "start_time": "2021-09-11T10:49:01.640Z"
   },
   {
    "duration": 5819,
    "start_time": "2021-09-11T10:49:01.654Z"
   },
   {
    "duration": 122,
    "start_time": "2021-09-11T10:49:07.475Z"
   },
   {
    "duration": 19,
    "start_time": "2021-09-11T10:49:07.600Z"
   },
   {
    "duration": 27,
    "start_time": "2021-09-11T10:49:07.621Z"
   },
   {
    "duration": 43,
    "start_time": "2021-09-11T10:49:07.650Z"
   },
   {
    "duration": 5,
    "start_time": "2021-09-11T10:50:19.367Z"
   },
   {
    "duration": 28,
    "start_time": "2021-09-11T10:50:34.523Z"
   },
   {
    "duration": 14,
    "start_time": "2021-09-11T10:51:41.801Z"
   },
   {
    "duration": 2671,
    "start_time": "2021-09-11T10:51:44.227Z"
   },
   {
    "duration": 357,
    "start_time": "2021-09-11T10:51:50.793Z"
   },
   {
    "duration": 2691,
    "start_time": "2021-09-11T10:51:58.112Z"
   },
   {
    "duration": 27,
    "start_time": "2021-09-11T10:52:05.067Z"
   },
   {
    "duration": 346,
    "start_time": "2021-09-11T10:53:08.391Z"
   },
   {
    "duration": 2606,
    "start_time": "2021-09-11T10:53:12.785Z"
   },
   {
    "duration": 2486,
    "start_time": "2021-09-11T10:55:59.936Z"
   },
   {
    "duration": 11,
    "start_time": "2021-09-11T10:56:11.431Z"
   },
   {
    "duration": 4,
    "start_time": "2021-09-11T10:56:37.062Z"
   },
   {
    "duration": 28,
    "start_time": "2021-09-11T10:57:42.069Z"
   },
   {
    "duration": 4,
    "start_time": "2021-09-11T10:57:54.291Z"
   },
   {
    "duration": 24,
    "start_time": "2021-09-11T10:57:58.276Z"
   },
   {
    "duration": 9626,
    "start_time": "2021-09-11T10:58:40.622Z"
   },
   {
    "duration": 3083,
    "start_time": "2021-09-11T10:58:57.709Z"
   },
   {
    "duration": 1364,
    "start_time": "2021-09-11T10:59:00.795Z"
   },
   {
    "duration": 726,
    "start_time": "2021-09-11T10:59:02.162Z"
   },
   {
    "duration": 106,
    "start_time": "2021-09-11T10:59:02.890Z"
   },
   {
    "duration": 8,
    "start_time": "2021-09-11T10:59:02.998Z"
   },
   {
    "duration": 787,
    "start_time": "2021-09-11T10:59:03.008Z"
   },
   {
    "duration": 27,
    "start_time": "2021-09-11T10:59:03.797Z"
   },
   {
    "duration": 9,
    "start_time": "2021-09-11T10:59:03.826Z"
   },
   {
    "duration": 7,
    "start_time": "2021-09-11T10:59:03.838Z"
   },
   {
    "duration": 169,
    "start_time": "2021-09-11T10:59:03.848Z"
   },
   {
    "duration": 686,
    "start_time": "2021-09-11T10:59:04.019Z"
   },
   {
    "duration": 74,
    "start_time": "2021-09-11T10:59:04.707Z"
   },
   {
    "duration": 30,
    "start_time": "2021-09-11T10:59:04.783Z"
   },
   {
    "duration": 6,
    "start_time": "2021-09-11T10:59:04.815Z"
   },
   {
    "duration": 58,
    "start_time": "2021-09-11T10:59:04.823Z"
   },
   {
    "duration": 17,
    "start_time": "2021-09-11T10:59:04.883Z"
   },
   {
    "duration": 130,
    "start_time": "2021-09-11T10:59:04.902Z"
   },
   {
    "duration": 8,
    "start_time": "2021-09-11T10:59:05.034Z"
   },
   {
    "duration": 18,
    "start_time": "2021-09-11T10:59:05.044Z"
   },
   {
    "duration": 15,
    "start_time": "2021-09-11T10:59:05.064Z"
   },
   {
    "duration": 7,
    "start_time": "2021-09-11T10:59:05.081Z"
   },
   {
    "duration": 22,
    "start_time": "2021-09-11T10:59:05.090Z"
   },
   {
    "duration": 498,
    "start_time": "2021-09-11T10:59:05.114Z"
   },
   {
    "duration": 183,
    "start_time": "2021-09-11T10:59:05.614Z"
   },
   {
    "duration": 7,
    "start_time": "2021-09-11T10:59:05.799Z"
   },
   {
    "duration": 94,
    "start_time": "2021-09-11T10:59:05.808Z"
   },
   {
    "duration": 4,
    "start_time": "2021-09-11T10:59:05.906Z"
   },
   {
    "duration": 86,
    "start_time": "2021-09-11T10:59:05.912Z"
   },
   {
    "duration": 7,
    "start_time": "2021-09-11T10:59:06.000Z"
   },
   {
    "duration": 77,
    "start_time": "2021-09-11T10:59:06.009Z"
   },
   {
    "duration": 14,
    "start_time": "2021-09-11T10:59:06.088Z"
   },
   {
    "duration": 12,
    "start_time": "2021-09-11T10:59:06.103Z"
   },
   {
    "duration": 5774,
    "start_time": "2021-09-11T10:59:06.117Z"
   },
   {
    "duration": 90,
    "start_time": "2021-09-11T10:59:11.893Z"
   },
   {
    "duration": 22,
    "start_time": "2021-09-11T10:59:11.985Z"
   },
   {
    "duration": 28,
    "start_time": "2021-09-11T10:59:12.009Z"
   },
   {
    "duration": 4,
    "start_time": "2021-09-11T11:24:48.298Z"
   },
   {
    "duration": 14,
    "start_time": "2021-09-11T11:35:50.205Z"
   },
   {
    "duration": 6,
    "start_time": "2021-09-11T11:35:51.802Z"
   },
   {
    "duration": 515,
    "start_time": "2021-09-11T11:41:19.012Z"
   },
   {
    "duration": 6,
    "start_time": "2021-09-11T11:41:29.030Z"
   },
   {
    "duration": 387,
    "start_time": "2021-09-11T11:57:03.564Z"
   },
   {
    "duration": 5,
    "start_time": "2021-09-11T11:57:15.465Z"
   },
   {
    "duration": 16200,
    "start_time": "2021-09-11T20:28:42.025Z"
   },
   {
    "duration": 1365,
    "start_time": "2021-09-11T20:28:58.227Z"
   },
   {
    "duration": 2590,
    "start_time": "2021-09-11T20:28:59.594Z"
   },
   {
    "duration": 96,
    "start_time": "2021-09-11T20:29:02.186Z"
   },
   {
    "duration": 7,
    "start_time": "2021-09-11T20:29:02.283Z"
   },
   {
    "duration": 671,
    "start_time": "2021-09-11T20:29:02.292Z"
   },
   {
    "duration": 29,
    "start_time": "2021-09-11T20:29:02.964Z"
   },
   {
    "duration": 7,
    "start_time": "2021-09-11T20:29:02.996Z"
   },
   {
    "duration": 5,
    "start_time": "2021-09-11T20:29:03.005Z"
   },
   {
    "duration": 143,
    "start_time": "2021-09-11T20:29:03.011Z"
   },
   {
    "duration": 648,
    "start_time": "2021-09-11T20:29:03.155Z"
   },
   {
    "duration": 86,
    "start_time": "2021-09-11T20:29:03.806Z"
   },
   {
    "duration": 90,
    "start_time": "2021-09-11T20:29:03.894Z"
   },
   {
    "duration": 8,
    "start_time": "2021-09-11T20:29:03.986Z"
   },
   {
    "duration": 15,
    "start_time": "2021-09-11T20:29:03.996Z"
   },
   {
    "duration": 69,
    "start_time": "2021-09-11T20:29:04.013Z"
   },
   {
    "duration": 120,
    "start_time": "2021-09-11T20:29:04.084Z"
   },
   {
    "duration": 8,
    "start_time": "2021-09-11T20:29:04.206Z"
   },
   {
    "duration": 7,
    "start_time": "2021-09-11T20:29:04.216Z"
   },
   {
    "duration": 10,
    "start_time": "2021-09-11T20:29:04.225Z"
   },
   {
    "duration": 6,
    "start_time": "2021-09-11T20:29:04.236Z"
   },
   {
    "duration": 32,
    "start_time": "2021-09-11T20:29:04.244Z"
   },
   {
    "duration": 437,
    "start_time": "2021-09-11T20:29:04.281Z"
   },
   {
    "duration": 159,
    "start_time": "2021-09-11T20:29:04.721Z"
   },
   {
    "duration": 8,
    "start_time": "2021-09-11T20:29:04.882Z"
   },
   {
    "duration": 100,
    "start_time": "2021-09-11T20:29:04.892Z"
   },
   {
    "duration": 4,
    "start_time": "2021-09-11T20:29:04.994Z"
   },
   {
    "duration": 82,
    "start_time": "2021-09-11T20:29:05.000Z"
   },
   {
    "duration": 8,
    "start_time": "2021-09-11T20:29:05.084Z"
   },
   {
    "duration": 55,
    "start_time": "2021-09-11T20:29:05.094Z"
   },
   {
    "duration": 36,
    "start_time": "2021-09-11T20:29:05.151Z"
   },
   {
    "duration": 12,
    "start_time": "2021-09-11T20:29:05.189Z"
   },
   {
    "duration": 5165,
    "start_time": "2021-09-11T20:29:05.203Z"
   },
   {
    "duration": 72,
    "start_time": "2021-09-11T20:29:10.370Z"
   },
   {
    "duration": 20,
    "start_time": "2021-09-11T20:29:10.443Z"
   },
   {
    "duration": 5,
    "start_time": "2021-09-11T20:29:10.476Z"
   },
   {
    "duration": 23,
    "start_time": "2021-09-11T20:35:21.197Z"
   },
   {
    "duration": 5,
    "start_time": "2021-09-11T20:38:14.389Z"
   },
   {
    "duration": 46,
    "start_time": "2021-09-11T20:38:28.902Z"
   },
   {
    "duration": 23,
    "start_time": "2021-09-11T20:39:19.876Z"
   },
   {
    "duration": 123,
    "start_time": "2021-09-11T20:41:06.055Z"
   },
   {
    "duration": 26,
    "start_time": "2021-09-11T20:41:20.067Z"
   },
   {
    "duration": 25,
    "start_time": "2021-09-11T20:42:32.261Z"
   },
   {
    "duration": 10,
    "start_time": "2021-09-11T20:43:06.817Z"
   },
   {
    "duration": 10,
    "start_time": "2021-09-11T20:43:44.790Z"
   },
   {
    "duration": 113,
    "start_time": "2021-09-11T20:43:51.989Z"
   },
   {
    "duration": 21,
    "start_time": "2021-09-11T20:43:54.404Z"
   },
   {
    "duration": 23,
    "start_time": "2021-09-11T20:44:26.858Z"
   },
   {
    "duration": 8,
    "start_time": "2021-09-11T20:45:15.400Z"
   },
   {
    "duration": 25,
    "start_time": "2021-09-11T20:46:32.838Z"
   },
   {
    "duration": 38,
    "start_time": "2021-09-11T20:52:42.883Z"
   },
   {
    "duration": 57,
    "start_time": "2021-09-11T20:52:46.829Z"
   },
   {
    "duration": 2347,
    "start_time": "2021-09-11T20:54:15.980Z"
   },
   {
    "duration": 2274,
    "start_time": "2021-09-11T20:54:24.502Z"
   },
   {
    "duration": 1231,
    "start_time": "2021-09-11T20:54:26.779Z"
   },
   {
    "duration": 797,
    "start_time": "2021-09-11T20:54:28.014Z"
   },
   {
    "duration": 100,
    "start_time": "2021-09-11T20:54:28.813Z"
   },
   {
    "duration": 6,
    "start_time": "2021-09-11T20:54:28.915Z"
   },
   {
    "duration": 1818,
    "start_time": "2021-09-11T20:54:28.923Z"
   },
   {
    "duration": 34,
    "start_time": "2021-09-11T20:54:30.744Z"
   },
   {
    "duration": 7,
    "start_time": "2021-09-11T20:54:30.780Z"
   },
   {
    "duration": 26,
    "start_time": "2021-09-11T20:54:30.789Z"
   },
   {
    "duration": 159,
    "start_time": "2021-09-11T20:54:30.817Z"
   },
   {
    "duration": 644,
    "start_time": "2021-09-11T20:54:30.978Z"
   },
   {
    "duration": 63,
    "start_time": "2021-09-11T20:54:31.624Z"
   },
   {
    "duration": 25,
    "start_time": "2021-09-11T20:54:31.689Z"
   },
   {
    "duration": 6,
    "start_time": "2021-09-11T20:54:31.716Z"
   },
   {
    "duration": 58,
    "start_time": "2021-09-11T20:54:31.723Z"
   },
   {
    "duration": 20,
    "start_time": "2021-09-11T20:54:31.783Z"
   },
   {
    "duration": 139,
    "start_time": "2021-09-11T20:54:31.806Z"
   },
   {
    "duration": 35,
    "start_time": "2021-09-11T20:54:31.947Z"
   },
   {
    "duration": 22,
    "start_time": "2021-09-11T20:54:31.984Z"
   },
   {
    "duration": 13,
    "start_time": "2021-09-11T20:54:32.008Z"
   },
   {
    "duration": 9,
    "start_time": "2021-09-11T20:54:32.023Z"
   },
   {
    "duration": 17,
    "start_time": "2021-09-11T20:54:32.037Z"
   },
   {
    "duration": 492,
    "start_time": "2021-09-11T20:54:32.057Z"
   },
   {
    "duration": 177,
    "start_time": "2021-09-11T20:54:32.551Z"
   },
   {
    "duration": 6,
    "start_time": "2021-09-11T20:54:32.730Z"
   },
   {
    "duration": 81,
    "start_time": "2021-09-11T20:54:32.738Z"
   },
   {
    "duration": 4,
    "start_time": "2021-09-11T20:54:32.820Z"
   },
   {
    "duration": 85,
    "start_time": "2021-09-11T20:54:32.826Z"
   },
   {
    "duration": 8,
    "start_time": "2021-09-11T20:54:32.913Z"
   },
   {
    "duration": 80,
    "start_time": "2021-09-11T20:54:32.923Z"
   },
   {
    "duration": 15,
    "start_time": "2021-09-11T20:54:33.006Z"
   },
   {
    "duration": 13,
    "start_time": "2021-09-11T20:54:33.023Z"
   },
   {
    "duration": 5595,
    "start_time": "2021-09-11T20:54:33.038Z"
   },
   {
    "duration": 81,
    "start_time": "2021-09-11T20:54:38.635Z"
   },
   {
    "duration": 14,
    "start_time": "2021-09-11T20:54:38.718Z"
   },
   {
    "duration": 5,
    "start_time": "2021-09-11T20:54:38.733Z"
   },
   {
    "duration": 24,
    "start_time": "2021-09-11T20:55:14.438Z"
   },
   {
    "duration": 33,
    "start_time": "2021-09-11T20:55:59.813Z"
   },
   {
    "duration": 26,
    "start_time": "2021-09-11T20:56:03.490Z"
   },
   {
    "duration": 39,
    "start_time": "2021-09-11T21:01:02.637Z"
   },
   {
    "duration": 24,
    "start_time": "2021-09-11T21:01:06.830Z"
   },
   {
    "duration": 22,
    "start_time": "2021-09-11T21:01:13.408Z"
   },
   {
    "duration": 995,
    "start_time": "2021-09-11T21:02:11.026Z"
   },
   {
    "duration": 22,
    "start_time": "2021-09-11T21:02:35.808Z"
   },
   {
    "duration": 5,
    "start_time": "2021-09-11T21:02:37.681Z"
   },
   {
    "duration": 5,
    "start_time": "2021-09-11T21:03:04.300Z"
   },
   {
    "duration": 5,
    "start_time": "2021-09-11T21:03:06.588Z"
   },
   {
    "duration": 6,
    "start_time": "2021-09-11T21:03:18.864Z"
   },
   {
    "duration": 5,
    "start_time": "2021-09-11T21:03:20.831Z"
   },
   {
    "duration": 22,
    "start_time": "2021-09-11T21:06:09.845Z"
   },
   {
    "duration": 7,
    "start_time": "2021-09-11T21:06:12.174Z"
   },
   {
    "duration": 5,
    "start_time": "2021-09-11T21:06:31.395Z"
   },
   {
    "duration": 5,
    "start_time": "2021-09-11T21:06:37.099Z"
   },
   {
    "duration": 5,
    "start_time": "2021-09-11T21:08:23.362Z"
   },
   {
    "duration": 5,
    "start_time": "2021-09-11T21:08:37.618Z"
   },
   {
    "duration": 5,
    "start_time": "2021-09-11T21:08:48.767Z"
   },
   {
    "duration": 6,
    "start_time": "2021-09-11T21:09:03.604Z"
   },
   {
    "duration": 5,
    "start_time": "2021-09-11T21:09:14.136Z"
   },
   {
    "duration": 5,
    "start_time": "2021-09-11T21:09:23.561Z"
   },
   {
    "duration": 8,
    "start_time": "2021-09-11T21:10:42.558Z"
   },
   {
    "duration": 9,
    "start_time": "2021-09-11T21:10:56.110Z"
   },
   {
    "duration": 21,
    "start_time": "2021-09-11T21:11:04.159Z"
   },
   {
    "duration": 5,
    "start_time": "2021-09-11T21:11:09.790Z"
   },
   {
    "duration": 5,
    "start_time": "2021-09-11T21:12:17.481Z"
   },
   {
    "duration": 5,
    "start_time": "2021-09-11T21:12:19.651Z"
   },
   {
    "duration": 10,
    "start_time": "2021-09-11T21:26:30.570Z"
   },
   {
    "duration": 2425,
    "start_time": "2021-09-11T21:39:55.396Z"
   },
   {
    "duration": 1188,
    "start_time": "2021-09-11T21:39:57.823Z"
   },
   {
    "duration": 756,
    "start_time": "2021-09-11T21:39:59.013Z"
   },
   {
    "duration": 98,
    "start_time": "2021-09-11T21:39:59.771Z"
   },
   {
    "duration": 6,
    "start_time": "2021-09-11T21:39:59.871Z"
   },
   {
    "duration": 625,
    "start_time": "2021-09-11T21:39:59.879Z"
   },
   {
    "duration": 26,
    "start_time": "2021-09-11T21:40:00.505Z"
   },
   {
    "duration": 7,
    "start_time": "2021-09-11T21:40:00.534Z"
   },
   {
    "duration": 10,
    "start_time": "2021-09-11T21:40:00.543Z"
   },
   {
    "duration": 147,
    "start_time": "2021-09-11T21:40:00.555Z"
   },
   {
    "duration": 636,
    "start_time": "2021-09-11T21:40:00.704Z"
   },
   {
    "duration": 50,
    "start_time": "2021-09-11T21:40:01.341Z"
   },
   {
    "duration": 27,
    "start_time": "2021-09-11T21:40:01.392Z"
   },
   {
    "duration": 60,
    "start_time": "2021-09-11T21:40:01.421Z"
   },
   {
    "duration": 23,
    "start_time": "2021-09-11T21:40:01.483Z"
   },
   {
    "duration": 31,
    "start_time": "2021-09-11T21:40:01.507Z"
   },
   {
    "duration": 103,
    "start_time": "2021-09-11T21:40:01.539Z"
   },
   {
    "duration": 7,
    "start_time": "2021-09-11T21:40:01.644Z"
   },
   {
    "duration": 15,
    "start_time": "2021-09-11T21:40:01.653Z"
   },
   {
    "duration": 18,
    "start_time": "2021-09-11T21:40:01.670Z"
   },
   {
    "duration": 17,
    "start_time": "2021-09-11T21:40:01.689Z"
   },
   {
    "duration": 28,
    "start_time": "2021-09-11T21:40:01.708Z"
   },
   {
    "duration": 577,
    "start_time": "2021-09-11T21:40:01.739Z"
   },
   {
    "duration": 164,
    "start_time": "2021-09-11T21:40:02.318Z"
   },
   {
    "duration": 7,
    "start_time": "2021-09-11T21:40:02.484Z"
   },
   {
    "duration": 87,
    "start_time": "2021-09-11T21:40:02.493Z"
   },
   {
    "duration": 4,
    "start_time": "2021-09-11T21:40:02.582Z"
   },
   {
    "duration": 89,
    "start_time": "2021-09-11T21:40:02.587Z"
   },
   {
    "duration": 6,
    "start_time": "2021-09-11T21:40:02.678Z"
   },
   {
    "duration": 68,
    "start_time": "2021-09-11T21:40:02.686Z"
   },
   {
    "duration": 17,
    "start_time": "2021-09-11T21:40:02.756Z"
   },
   {
    "duration": 11,
    "start_time": "2021-09-11T21:40:02.777Z"
   },
   {
    "duration": 5347,
    "start_time": "2021-09-11T21:40:02.790Z"
   },
   {
    "duration": 82,
    "start_time": "2021-09-11T21:40:08.138Z"
   },
   {
    "duration": 15,
    "start_time": "2021-09-11T21:40:08.221Z"
   },
   {
    "duration": 7,
    "start_time": "2021-09-11T21:40:08.238Z"
   },
   {
    "duration": 52,
    "start_time": "2021-09-11T21:40:08.247Z"
   },
   {
    "duration": 39,
    "start_time": "2021-09-11T21:40:08.300Z"
   },
   {
    "duration": 5,
    "start_time": "2021-09-11T21:40:08.341Z"
   },
   {
    "duration": 22897,
    "start_time": "2021-09-12T08:43:52.175Z"
   },
   {
    "duration": 1583,
    "start_time": "2021-09-12T08:44:15.075Z"
   },
   {
    "duration": 4238,
    "start_time": "2021-09-12T08:44:16.662Z"
   },
   {
    "duration": 1133,
    "start_time": "2021-09-12T08:44:19.771Z"
   },
   {
    "duration": 1128,
    "start_time": "2021-09-12T08:44:19.777Z"
   },
   {
    "duration": 1126,
    "start_time": "2021-09-12T08:44:19.781Z"
   },
   {
    "duration": 1121,
    "start_time": "2021-09-12T08:44:19.787Z"
   },
   {
    "duration": 1118,
    "start_time": "2021-09-12T08:44:19.791Z"
   },
   {
    "duration": 1114,
    "start_time": "2021-09-12T08:44:19.797Z"
   },
   {
    "duration": 1111,
    "start_time": "2021-09-12T08:44:19.801Z"
   },
   {
    "duration": 1107,
    "start_time": "2021-09-12T08:44:19.806Z"
   },
   {
    "duration": 1104,
    "start_time": "2021-09-12T08:44:19.810Z"
   },
   {
    "duration": 1102,
    "start_time": "2021-09-12T08:44:19.814Z"
   },
   {
    "duration": 1100,
    "start_time": "2021-09-12T08:44:19.817Z"
   },
   {
    "duration": 1098,
    "start_time": "2021-09-12T08:44:19.820Z"
   },
   {
    "duration": 1098,
    "start_time": "2021-09-12T08:44:19.822Z"
   },
   {
    "duration": 1096,
    "start_time": "2021-09-12T08:44:19.825Z"
   },
   {
    "duration": 1095,
    "start_time": "2021-09-12T08:44:19.828Z"
   },
   {
    "duration": 1093,
    "start_time": "2021-09-12T08:44:19.831Z"
   },
   {
    "duration": 1092,
    "start_time": "2021-09-12T08:44:19.834Z"
   },
   {
    "duration": 1087,
    "start_time": "2021-09-12T08:44:19.840Z"
   },
   {
    "duration": 1086,
    "start_time": "2021-09-12T08:44:19.843Z"
   },
   {
    "duration": 1084,
    "start_time": "2021-09-12T08:44:19.846Z"
   },
   {
    "duration": 1084,
    "start_time": "2021-09-12T08:44:19.848Z"
   },
   {
    "duration": 1078,
    "start_time": "2021-09-12T08:44:19.855Z"
   },
   {
    "duration": 1077,
    "start_time": "2021-09-12T08:44:19.857Z"
   },
   {
    "duration": 1076,
    "start_time": "2021-09-12T08:44:19.860Z"
   },
   {
    "duration": 1075,
    "start_time": "2021-09-12T08:44:19.862Z"
   },
   {
    "duration": 1075,
    "start_time": "2021-09-12T08:44:19.864Z"
   },
   {
    "duration": 1075,
    "start_time": "2021-09-12T08:44:19.865Z"
   },
   {
    "duration": 1093,
    "start_time": "2021-09-12T08:44:19.867Z"
   },
   {
    "duration": 1093,
    "start_time": "2021-09-12T08:44:19.869Z"
   },
   {
    "duration": 1093,
    "start_time": "2021-09-12T08:44:19.871Z"
   },
   {
    "duration": 1093,
    "start_time": "2021-09-12T08:44:19.872Z"
   },
   {
    "duration": 1093,
    "start_time": "2021-09-12T08:44:19.874Z"
   },
   {
    "duration": 1093,
    "start_time": "2021-09-12T08:44:19.875Z"
   },
   {
    "duration": 1093,
    "start_time": "2021-09-12T08:44:19.877Z"
   },
   {
    "duration": 1093,
    "start_time": "2021-09-12T08:44:19.878Z"
   },
   {
    "duration": 1092,
    "start_time": "2021-09-12T08:44:19.880Z"
   },
   {
    "duration": 1176,
    "start_time": "2021-09-12T08:45:47.682Z"
   },
   {
    "duration": 4308,
    "start_time": "2021-09-12T08:45:53.993Z"
   },
   {
    "duration": 307,
    "start_time": "2021-09-12T08:46:42.810Z"
   },
   {
    "duration": 3130,
    "start_time": "2021-09-12T08:46:50.078Z"
   },
   {
    "duration": 1525,
    "start_time": "2021-09-12T08:46:53.210Z"
   },
   {
    "duration": 313,
    "start_time": "2021-09-12T08:46:54.739Z"
   },
   {
    "duration": 144,
    "start_time": "2021-09-12T08:46:55.055Z"
   },
   {
    "duration": 10,
    "start_time": "2021-09-12T08:46:55.201Z"
   },
   {
    "duration": 866,
    "start_time": "2021-09-12T08:46:55.214Z"
   },
   {
    "duration": 35,
    "start_time": "2021-09-12T08:46:56.082Z"
   },
   {
    "duration": 10,
    "start_time": "2021-09-12T08:46:56.120Z"
   },
   {
    "duration": 31,
    "start_time": "2021-09-12T08:46:56.135Z"
   },
   {
    "duration": 232,
    "start_time": "2021-09-12T08:46:56.169Z"
   },
   {
    "duration": 919,
    "start_time": "2021-09-12T08:46:56.403Z"
   },
   {
    "duration": 70,
    "start_time": "2021-09-12T08:46:57.325Z"
   },
   {
    "duration": 96,
    "start_time": "2021-09-12T08:46:57.397Z"
   },
   {
    "duration": 7,
    "start_time": "2021-09-12T08:46:57.495Z"
   },
   {
    "duration": 8,
    "start_time": "2021-09-12T08:46:57.504Z"
   },
   {
    "duration": 17,
    "start_time": "2021-09-12T08:46:57.514Z"
   },
   {
    "duration": 137,
    "start_time": "2021-09-12T08:46:57.534Z"
   },
   {
    "duration": 11,
    "start_time": "2021-09-12T08:46:57.674Z"
   },
   {
    "duration": 16,
    "start_time": "2021-09-12T08:46:57.688Z"
   },
   {
    "duration": 11,
    "start_time": "2021-09-12T08:46:57.707Z"
   },
   {
    "duration": 8,
    "start_time": "2021-09-12T08:46:57.721Z"
   },
   {
    "duration": 63,
    "start_time": "2021-09-12T08:46:57.731Z"
   },
   {
    "duration": 901,
    "start_time": "2021-09-12T08:46:57.797Z"
   },
   {
    "duration": 252,
    "start_time": "2021-09-12T08:46:58.700Z"
   },
   {
    "duration": 9,
    "start_time": "2021-09-12T08:46:58.961Z"
   },
   {
    "duration": 112,
    "start_time": "2021-09-12T08:46:58.973Z"
   },
   {
    "duration": 5,
    "start_time": "2021-09-12T08:46:59.090Z"
   },
   {
    "duration": 116,
    "start_time": "2021-09-12T08:46:59.098Z"
   },
   {
    "duration": 13,
    "start_time": "2021-09-12T08:46:59.217Z"
   },
   {
    "duration": 101,
    "start_time": "2021-09-12T08:46:59.232Z"
   },
   {
    "duration": 35,
    "start_time": "2021-09-12T08:46:59.335Z"
   },
   {
    "duration": 16,
    "start_time": "2021-09-12T08:46:59.372Z"
   },
   {
    "duration": 8038,
    "start_time": "2021-09-12T08:46:59.391Z"
   },
   {
    "duration": 119,
    "start_time": "2021-09-12T08:47:07.431Z"
   },
   {
    "duration": 23,
    "start_time": "2021-09-12T08:47:07.552Z"
   },
   {
    "duration": 7,
    "start_time": "2021-09-12T08:47:07.577Z"
   },
   {
    "duration": 46,
    "start_time": "2021-09-12T08:47:07.586Z"
   },
   {
    "duration": 72,
    "start_time": "2021-09-12T08:47:07.634Z"
   },
   {
    "duration": 7,
    "start_time": "2021-09-12T08:47:07.708Z"
   },
   {
    "duration": 13,
    "start_time": "2021-09-12T08:54:10.117Z"
   },
   {
    "duration": 3310,
    "start_time": "2021-09-12T09:23:02.651Z"
   },
   {
    "duration": 2157,
    "start_time": "2021-09-12T09:23:05.963Z"
   },
   {
    "duration": 4605,
    "start_time": "2021-09-12T09:23:08.124Z"
   },
   {
    "duration": 1107,
    "start_time": "2021-09-12T09:23:11.627Z"
   },
   {
    "duration": 1103,
    "start_time": "2021-09-12T09:23:11.632Z"
   },
   {
    "duration": 1093,
    "start_time": "2021-09-12T09:23:11.643Z"
   },
   {
    "duration": 1089,
    "start_time": "2021-09-12T09:23:11.648Z"
   },
   {
    "duration": 1088,
    "start_time": "2021-09-12T09:23:11.651Z"
   },
   {
    "duration": 1081,
    "start_time": "2021-09-12T09:23:11.659Z"
   },
   {
    "duration": 1081,
    "start_time": "2021-09-12T09:23:11.661Z"
   },
   {
    "duration": 1079,
    "start_time": "2021-09-12T09:23:11.664Z"
   },
   {
    "duration": 1077,
    "start_time": "2021-09-12T09:23:11.667Z"
   },
   {
    "duration": 1072,
    "start_time": "2021-09-12T09:23:11.674Z"
   },
   {
    "duration": 1072,
    "start_time": "2021-09-12T09:23:11.675Z"
   },
   {
    "duration": 1071,
    "start_time": "2021-09-12T09:23:11.677Z"
   },
   {
    "duration": 1070,
    "start_time": "2021-09-12T09:23:11.679Z"
   },
   {
    "duration": 1069,
    "start_time": "2021-09-12T09:23:11.682Z"
   },
   {
    "duration": 1068,
    "start_time": "2021-09-12T09:23:11.684Z"
   },
   {
    "duration": 1063,
    "start_time": "2021-09-12T09:23:11.691Z"
   },
   {
    "duration": 1063,
    "start_time": "2021-09-12T09:23:11.692Z"
   },
   {
    "duration": 1062,
    "start_time": "2021-09-12T09:23:11.694Z"
   },
   {
    "duration": 1062,
    "start_time": "2021-09-12T09:23:11.696Z"
   },
   {
    "duration": 1061,
    "start_time": "2021-09-12T09:23:11.698Z"
   },
   {
    "duration": 1060,
    "start_time": "2021-09-12T09:23:11.700Z"
   },
   {
    "duration": 1055,
    "start_time": "2021-09-12T09:23:11.706Z"
   },
   {
    "duration": 1056,
    "start_time": "2021-09-12T09:23:11.707Z"
   },
   {
    "duration": 1055,
    "start_time": "2021-09-12T09:23:11.709Z"
   },
   {
    "duration": 1054,
    "start_time": "2021-09-12T09:23:11.711Z"
   },
   {
    "duration": 1054,
    "start_time": "2021-09-12T09:23:11.712Z"
   },
   {
    "duration": 1054,
    "start_time": "2021-09-12T09:23:11.714Z"
   },
   {
    "duration": 1053,
    "start_time": "2021-09-12T09:23:11.716Z"
   },
   {
    "duration": 1047,
    "start_time": "2021-09-12T09:23:11.723Z"
   },
   {
    "duration": 1046,
    "start_time": "2021-09-12T09:23:11.725Z"
   },
   {
    "duration": 1046,
    "start_time": "2021-09-12T09:23:11.727Z"
   },
   {
    "duration": 1045,
    "start_time": "2021-09-12T09:23:11.729Z"
   },
   {
    "duration": 1044,
    "start_time": "2021-09-12T09:23:11.731Z"
   },
   {
    "duration": 1044,
    "start_time": "2021-09-12T09:23:11.732Z"
   },
   {
    "duration": 1039,
    "start_time": "2021-09-12T09:23:11.738Z"
   },
   {
    "duration": 1039,
    "start_time": "2021-09-12T09:23:11.740Z"
   },
   {
    "duration": 22506,
    "start_time": "2021-09-12T09:42:20.261Z"
   },
   {
    "duration": 1603,
    "start_time": "2021-09-12T09:42:42.770Z"
   },
   {
    "duration": 2656,
    "start_time": "2021-09-12T09:42:44.376Z"
   },
   {
    "duration": 148,
    "start_time": "2021-09-12T09:42:47.035Z"
   },
   {
    "duration": 10,
    "start_time": "2021-09-12T09:42:47.185Z"
   },
   {
    "duration": 737,
    "start_time": "2021-09-12T09:42:47.198Z"
   },
   {
    "duration": 52,
    "start_time": "2021-09-12T09:42:47.937Z"
   },
   {
    "duration": 10,
    "start_time": "2021-09-12T09:42:47.993Z"
   },
   {
    "duration": 9,
    "start_time": "2021-09-12T09:42:48.006Z"
   },
   {
    "duration": 207,
    "start_time": "2021-09-12T09:42:48.017Z"
   },
   {
    "duration": 829,
    "start_time": "2021-09-12T09:42:48.227Z"
   },
   {
    "duration": 45,
    "start_time": "2021-09-12T09:42:49.059Z"
   },
   {
    "duration": 87,
    "start_time": "2021-09-12T09:42:49.106Z"
   },
   {
    "duration": 7,
    "start_time": "2021-09-12T09:42:49.196Z"
   },
   {
    "duration": 65,
    "start_time": "2021-09-12T09:42:49.205Z"
   },
   {
    "duration": 18,
    "start_time": "2021-09-12T09:42:49.273Z"
   },
   {
    "duration": 161,
    "start_time": "2021-09-12T09:42:49.293Z"
   },
   {
    "duration": 14,
    "start_time": "2021-09-12T09:42:49.456Z"
   },
   {
    "duration": 11,
    "start_time": "2021-09-12T09:42:49.472Z"
   },
   {
    "duration": 6,
    "start_time": "2021-09-12T09:42:49.485Z"
   },
   {
    "duration": 10,
    "start_time": "2021-09-12T09:42:49.493Z"
   },
   {
    "duration": 26,
    "start_time": "2021-09-12T09:42:49.505Z"
   },
   {
    "duration": 897,
    "start_time": "2021-09-12T09:42:49.536Z"
   },
   {
    "duration": 268,
    "start_time": "2021-09-12T09:42:50.435Z"
   },
   {
    "duration": 8,
    "start_time": "2021-09-12T09:42:50.706Z"
   },
   {
    "duration": 118,
    "start_time": "2021-09-12T09:42:50.716Z"
   },
   {
    "duration": 5,
    "start_time": "2021-09-12T09:42:50.837Z"
   },
   {
    "duration": 139,
    "start_time": "2021-09-12T09:42:50.844Z"
   },
   {
    "duration": 9,
    "start_time": "2021-09-12T09:42:50.985Z"
   },
   {
    "duration": 109,
    "start_time": "2021-09-12T09:42:50.996Z"
   },
   {
    "duration": 17,
    "start_time": "2021-09-12T09:42:51.107Z"
   },
   {
    "duration": 17,
    "start_time": "2021-09-12T09:42:51.127Z"
   },
   {
    "duration": 8504,
    "start_time": "2021-09-12T09:42:51.166Z"
   },
   {
    "duration": 120,
    "start_time": "2021-09-12T09:42:59.672Z"
   },
   {
    "duration": 18,
    "start_time": "2021-09-12T09:42:59.794Z"
   },
   {
    "duration": 7,
    "start_time": "2021-09-12T09:42:59.814Z"
   },
   {
    "duration": 68,
    "start_time": "2021-09-12T09:42:59.824Z"
   },
   {
    "duration": 51,
    "start_time": "2021-09-12T09:42:59.895Z"
   },
   {
    "duration": 22,
    "start_time": "2021-09-12T09:42:59.948Z"
   },
   {
    "duration": 321,
    "start_time": "2021-09-12T09:47:36.885Z"
   },
   {
    "duration": 127,
    "start_time": "2021-09-12T09:47:39.918Z"
   },
   {
    "duration": 13,
    "start_time": "2021-09-12T09:47:42.237Z"
   },
   {
    "duration": 133,
    "start_time": "2021-09-12T09:47:47.918Z"
   },
   {
    "duration": 80,
    "start_time": "2021-09-12T09:51:52.695Z"
   },
   {
    "duration": 29,
    "start_time": "2021-09-12T10:05:10.337Z"
   },
   {
    "duration": 11,
    "start_time": "2021-09-12T10:08:03.190Z"
   },
   {
    "duration": 43,
    "start_time": "2021-09-12T10:13:31.632Z"
   },
   {
    "duration": 26,
    "start_time": "2021-09-12T10:14:06.061Z"
   },
   {
    "duration": 40,
    "start_time": "2021-09-12T10:14:14.109Z"
   },
   {
    "duration": 15,
    "start_time": "2021-09-12T10:15:07.240Z"
   },
   {
    "duration": 14,
    "start_time": "2021-09-12T10:22:20.200Z"
   },
   {
    "duration": 517,
    "start_time": "2021-09-12T10:22:23.155Z"
   },
   {
    "duration": -366,
    "start_time": "2021-09-12T10:22:24.041Z"
   },
   {
    "duration": 272,
    "start_time": "2021-09-12T10:22:23.710Z"
   },
   {
    "duration": 5,
    "start_time": "2021-09-12T10:22:23.994Z"
   },
   {
    "duration": 3136,
    "start_time": "2021-09-12T10:22:36.479Z"
   },
   {
    "duration": 1613,
    "start_time": "2021-09-12T10:22:39.617Z"
   },
   {
    "duration": 361,
    "start_time": "2021-09-12T10:22:41.234Z"
   },
   {
    "duration": 155,
    "start_time": "2021-09-12T10:22:41.597Z"
   },
   {
    "duration": 15,
    "start_time": "2021-09-12T10:22:41.755Z"
   },
   {
    "duration": 1213,
    "start_time": "2021-09-12T10:22:41.773Z"
   },
   {
    "duration": 36,
    "start_time": "2021-09-12T10:22:42.989Z"
   },
   {
    "duration": 11,
    "start_time": "2021-09-12T10:22:43.029Z"
   },
   {
    "duration": 6,
    "start_time": "2021-09-12T10:22:43.069Z"
   },
   {
    "duration": 211,
    "start_time": "2021-09-12T10:22:43.077Z"
   },
   {
    "duration": 834,
    "start_time": "2021-09-12T10:22:43.290Z"
   },
   {
    "duration": 74,
    "start_time": "2021-09-12T10:22:44.126Z"
   },
   {
    "duration": 108,
    "start_time": "2021-09-12T10:22:44.202Z"
   },
   {
    "duration": 7,
    "start_time": "2021-09-12T10:22:44.367Z"
   },
   {
    "duration": 18,
    "start_time": "2021-09-12T10:22:44.377Z"
   },
   {
    "duration": 24,
    "start_time": "2021-09-12T10:22:44.398Z"
   },
   {
    "duration": 191,
    "start_time": "2021-09-12T10:22:44.424Z"
   },
   {
    "duration": 10,
    "start_time": "2021-09-12T10:22:44.617Z"
   },
   {
    "duration": 15,
    "start_time": "2021-09-12T10:22:44.630Z"
   },
   {
    "duration": 22,
    "start_time": "2021-09-12T10:22:44.648Z"
   },
   {
    "duration": 11,
    "start_time": "2021-09-12T10:22:44.673Z"
   },
   {
    "duration": 31,
    "start_time": "2021-09-12T10:22:44.686Z"
   },
   {
    "duration": 979,
    "start_time": "2021-09-12T10:22:44.722Z"
   },
   {
    "duration": 275,
    "start_time": "2021-09-12T10:22:45.704Z"
   },
   {
    "duration": 9,
    "start_time": "2021-09-12T10:22:45.982Z"
   },
   {
    "duration": 123,
    "start_time": "2021-09-12T10:22:45.993Z"
   },
   {
    "duration": 5,
    "start_time": "2021-09-12T10:22:46.118Z"
   },
   {
    "duration": 125,
    "start_time": "2021-09-12T10:22:46.126Z"
   },
   {
    "duration": 16,
    "start_time": "2021-09-12T10:22:46.253Z"
   },
   {
    "duration": 108,
    "start_time": "2021-09-12T10:22:46.271Z"
   },
   {
    "duration": 17,
    "start_time": "2021-09-12T10:22:46.381Z"
   },
   {
    "duration": 26,
    "start_time": "2021-09-12T10:22:46.400Z"
   },
   {
    "duration": 8425,
    "start_time": "2021-09-12T10:22:46.429Z"
   },
   {
    "duration": 114,
    "start_time": "2021-09-12T10:22:54.857Z"
   },
   {
    "duration": 20,
    "start_time": "2021-09-12T10:22:54.974Z"
   },
   {
    "duration": 9,
    "start_time": "2021-09-12T10:22:54.997Z"
   },
   {
    "duration": 88,
    "start_time": "2021-09-12T10:22:55.008Z"
   },
   {
    "duration": 68,
    "start_time": "2021-09-12T10:22:55.099Z"
   },
   {
    "duration": 8,
    "start_time": "2021-09-12T10:22:55.170Z"
   },
   {
    "duration": 4786,
    "start_time": "2021-09-12T10:23:29.183Z"
   },
   {
    "duration": 1604,
    "start_time": "2021-09-12T10:23:33.972Z"
   },
   {
    "duration": 323,
    "start_time": "2021-09-12T10:23:35.579Z"
   },
   {
    "duration": 140,
    "start_time": "2021-09-12T10:23:35.905Z"
   },
   {
    "duration": 20,
    "start_time": "2021-09-12T10:23:36.048Z"
   },
   {
    "duration": 713,
    "start_time": "2021-09-12T10:23:36.070Z"
   },
   {
    "duration": 35,
    "start_time": "2021-09-12T10:23:36.786Z"
   },
   {
    "duration": 10,
    "start_time": "2021-09-12T10:23:36.826Z"
   },
   {
    "duration": 33,
    "start_time": "2021-09-12T10:23:36.839Z"
   },
   {
    "duration": 213,
    "start_time": "2021-09-12T10:23:36.875Z"
   },
   {
    "duration": 893,
    "start_time": "2021-09-12T10:23:37.091Z"
   },
   {
    "duration": 107,
    "start_time": "2021-09-12T10:23:37.987Z"
   },
   {
    "duration": 107,
    "start_time": "2021-09-12T10:23:38.097Z"
   },
   {
    "duration": 61,
    "start_time": "2021-09-12T10:23:38.207Z"
   },
   {
    "duration": 10,
    "start_time": "2021-09-12T10:23:38.271Z"
   },
   {
    "duration": 11,
    "start_time": "2021-09-12T10:23:38.284Z"
   },
   {
    "duration": 293,
    "start_time": "2021-09-12T10:23:38.298Z"
   },
   {
    "duration": 11,
    "start_time": "2021-09-12T10:23:38.594Z"
   },
   {
    "duration": 12,
    "start_time": "2021-09-12T10:23:38.608Z"
   },
   {
    "duration": 9,
    "start_time": "2021-09-12T10:23:38.623Z"
   },
   {
    "duration": 35,
    "start_time": "2021-09-12T10:23:38.635Z"
   },
   {
    "duration": 25,
    "start_time": "2021-09-12T10:23:38.672Z"
   },
   {
    "duration": 1831,
    "start_time": "2021-09-12T10:23:38.703Z"
   },
   {
    "duration": 272,
    "start_time": "2021-09-12T10:23:40.537Z"
   },
   {
    "duration": 10,
    "start_time": "2021-09-12T10:23:40.811Z"
   },
   {
    "duration": 115,
    "start_time": "2021-09-12T10:23:40.823Z"
   },
   {
    "duration": 5,
    "start_time": "2021-09-12T10:23:40.940Z"
   },
   {
    "duration": 219,
    "start_time": "2021-09-12T10:23:40.968Z"
   },
   {
    "duration": 10,
    "start_time": "2021-09-12T10:23:41.190Z"
   },
   {
    "duration": 109,
    "start_time": "2021-09-12T10:23:41.203Z"
   },
   {
    "duration": 15,
    "start_time": "2021-09-12T10:23:41.314Z"
   },
   {
    "duration": 37,
    "start_time": "2021-09-12T10:23:41.331Z"
   },
   {
    "duration": 8316,
    "start_time": "2021-09-12T10:23:41.370Z"
   },
   {
    "duration": 115,
    "start_time": "2021-09-12T10:23:49.688Z"
   },
   {
    "duration": 18,
    "start_time": "2021-09-12T10:23:49.806Z"
   },
   {
    "duration": 7,
    "start_time": "2021-09-12T10:23:49.826Z"
   },
   {
    "duration": 73,
    "start_time": "2021-09-12T10:23:49.835Z"
   },
   {
    "duration": 69,
    "start_time": "2021-09-12T10:23:49.911Z"
   },
   {
    "duration": 8,
    "start_time": "2021-09-12T10:23:49.983Z"
   },
   {
    "duration": 1784,
    "start_time": "2021-09-12T10:24:06.134Z"
   },
   {
    "duration": 1737,
    "start_time": "2021-09-12T10:24:18.854Z"
   },
   {
    "duration": 1628,
    "start_time": "2021-09-12T10:24:26.816Z"
   },
   {
    "duration": 1658,
    "start_time": "2021-09-12T10:24:41.965Z"
   },
   {
    "duration": 1667,
    "start_time": "2021-09-12T10:24:51.756Z"
   },
   {
    "duration": 1858,
    "start_time": "2021-09-12T10:24:57.303Z"
   },
   {
    "duration": 17,
    "start_time": "2021-09-12T10:36:25.622Z"
   },
   {
    "duration": 11,
    "start_time": "2021-09-12T10:36:41.777Z"
   },
   {
    "duration": 21,
    "start_time": "2021-09-12T10:36:45.509Z"
   },
   {
    "duration": 10,
    "start_time": "2021-09-12T10:37:11.337Z"
   },
   {
    "duration": 9,
    "start_time": "2021-09-12T10:37:33.382Z"
   },
   {
    "duration": 11,
    "start_time": "2021-09-12T10:37:34.922Z"
   },
   {
    "duration": 11,
    "start_time": "2021-09-12T10:38:05.568Z"
   },
   {
    "duration": 11,
    "start_time": "2021-09-12T10:38:07.618Z"
   },
   {
    "duration": 11,
    "start_time": "2021-09-12T10:38:58.855Z"
   },
   {
    "duration": 9,
    "start_time": "2021-09-12T10:40:08.385Z"
   },
   {
    "duration": 48,
    "start_time": "2021-09-12T10:43:51.120Z"
   },
   {
    "duration": 39,
    "start_time": "2021-09-12T10:43:57.205Z"
   },
   {
    "duration": 42,
    "start_time": "2021-09-12T10:46:13.328Z"
   },
   {
    "duration": 20,
    "start_time": "2021-09-12T10:46:42.326Z"
   },
   {
    "duration": 45,
    "start_time": "2021-09-12T10:47:21.340Z"
   },
   {
    "duration": 14,
    "start_time": "2021-09-12T10:47:27.499Z"
   },
   {
    "duration": 528,
    "start_time": "2021-09-12T10:48:44.481Z"
   },
   {
    "duration": 242,
    "start_time": "2021-09-12T10:49:20.839Z"
   },
   {
    "duration": 320,
    "start_time": "2021-09-12T10:49:38.024Z"
   },
   {
    "duration": 11,
    "start_time": "2021-09-12T10:49:57.423Z"
   },
   {
    "duration": 16,
    "start_time": "2021-09-12T10:50:02.925Z"
   },
   {
    "duration": 11,
    "start_time": "2021-09-12T10:50:38.363Z"
   },
   {
    "duration": 11,
    "start_time": "2021-09-12T10:50:46.487Z"
   },
   {
    "duration": 10,
    "start_time": "2021-09-12T10:50:52.673Z"
   },
   {
    "duration": 15,
    "start_time": "2021-09-12T10:50:56.912Z"
   },
   {
    "duration": 33,
    "start_time": "2021-09-12T10:52:17.016Z"
   },
   {
    "duration": 12,
    "start_time": "2021-09-12T10:52:17.575Z"
   },
   {
    "duration": 10,
    "start_time": "2021-09-12T10:52:18.013Z"
   },
   {
    "duration": 252,
    "start_time": "2021-09-12T10:52:18.599Z"
   },
   {
    "duration": 6,
    "start_time": "2021-09-12T10:52:38.523Z"
   },
   {
    "duration": 101,
    "start_time": "2021-09-12T10:53:09.678Z"
   },
   {
    "duration": 106,
    "start_time": "2021-09-12T10:53:14.542Z"
   },
   {
    "duration": 90,
    "start_time": "2021-09-12T11:19:02.999Z"
   },
   {
    "duration": 42,
    "start_time": "2021-09-12T11:21:39.980Z"
   },
   {
    "duration": 144,
    "start_time": "2021-09-12T11:26:46.819Z"
   },
   {
    "duration": 154,
    "start_time": "2021-09-12T11:28:20.059Z"
   },
   {
    "duration": 252,
    "start_time": "2021-09-12T11:28:22.181Z"
   },
   {
    "duration": 145,
    "start_time": "2021-09-12T11:28:43.932Z"
   },
   {
    "duration": 264,
    "start_time": "2021-09-12T11:28:46.201Z"
   },
   {
    "duration": 17,
    "start_time": "2021-09-12T11:29:57.367Z"
   },
   {
    "duration": 44,
    "start_time": "2021-09-12T11:30:57.185Z"
   },
   {
    "duration": 167,
    "start_time": "2021-09-12T11:30:59.399Z"
   },
   {
    "duration": 19,
    "start_time": "2021-09-12T11:31:01.263Z"
   },
   {
    "duration": 9,
    "start_time": "2021-09-12T11:31:06.112Z"
   },
   {
    "duration": 13,
    "start_time": "2021-09-12T11:31:14.083Z"
   },
   {
    "duration": 11,
    "start_time": "2021-09-12T11:31:23.437Z"
   },
   {
    "duration": 11,
    "start_time": "2021-09-12T11:31:27.269Z"
   },
   {
    "duration": 12,
    "start_time": "2021-09-12T11:31:56.238Z"
   },
   {
    "duration": 11,
    "start_time": "2021-09-12T11:31:58.282Z"
   },
   {
    "duration": 6,
    "start_time": "2021-09-12T11:32:02.054Z"
   },
   {
    "duration": 106,
    "start_time": "2021-09-12T11:32:04.705Z"
   },
   {
    "duration": 84,
    "start_time": "2021-09-12T11:32:46.979Z"
   },
   {
    "duration": 103,
    "start_time": "2021-09-12T11:32:57.778Z"
   },
   {
    "duration": 12,
    "start_time": "2021-09-12T11:33:24.248Z"
   },
   {
    "duration": 10,
    "start_time": "2021-09-12T11:33:55.115Z"
   },
   {
    "duration": 14,
    "start_time": "2021-09-12T11:34:49.160Z"
   },
   {
    "duration": 10,
    "start_time": "2021-09-12T11:35:05.967Z"
   },
   {
    "duration": 17,
    "start_time": "2021-09-12T11:36:05.002Z"
   },
   {
    "duration": 498,
    "start_time": "2021-09-12T11:37:21.925Z"
   },
   {
    "duration": 106,
    "start_time": "2021-09-12T11:41:14.458Z"
   },
   {
    "duration": 103,
    "start_time": "2021-09-12T11:42:43.977Z"
   },
   {
    "duration": 35,
    "start_time": "2021-09-12T12:39:04.918Z"
   },
   {
    "duration": 20,
    "start_time": "2021-09-12T12:41:01.589Z"
   },
   {
    "duration": 7,
    "start_time": "2021-09-12T12:41:06.254Z"
   },
   {
    "duration": 8,
    "start_time": "2021-09-12T12:41:14.452Z"
   },
   {
    "duration": 37,
    "start_time": "2021-09-12T12:46:49.156Z"
   },
   {
    "duration": 48,
    "start_time": "2021-09-12T12:47:04.021Z"
   },
   {
    "duration": 37,
    "start_time": "2021-09-12T12:47:25.941Z"
   },
   {
    "duration": 40,
    "start_time": "2021-09-12T12:47:57.821Z"
   },
   {
    "duration": 16,
    "start_time": "2021-09-12T12:50:29.513Z"
   },
   {
    "duration": 6,
    "start_time": "2021-09-12T12:50:33.006Z"
   },
   {
    "duration": 13,
    "start_time": "2021-09-12T12:50:52.566Z"
   },
   {
    "duration": 18,
    "start_time": "2021-09-12T12:51:49.475Z"
   },
   {
    "duration": 8,
    "start_time": "2021-09-12T12:51:52.196Z"
   },
   {
    "duration": 38,
    "start_time": "2021-09-12T12:52:00.319Z"
   },
   {
    "duration": 46,
    "start_time": "2021-09-12T12:52:12.574Z"
   },
   {
    "duration": 42,
    "start_time": "2021-09-12T12:54:04.566Z"
   },
   {
    "duration": 18,
    "start_time": "2021-09-12T12:54:18.987Z"
   },
   {
    "duration": 7,
    "start_time": "2021-09-12T12:54:22.519Z"
   },
   {
    "duration": 102,
    "start_time": "2021-09-12T12:58:51.878Z"
   },
   {
    "duration": 39,
    "start_time": "2021-09-12T12:58:57.979Z"
   },
   {
    "duration": 13,
    "start_time": "2021-09-12T12:59:13.204Z"
   },
   {
    "duration": 38,
    "start_time": "2021-09-12T13:00:29.812Z"
   },
   {
    "duration": 13,
    "start_time": "2021-09-12T13:00:43.496Z"
   },
   {
    "duration": 7,
    "start_time": "2021-09-12T13:03:23.455Z"
   },
   {
    "duration": 6,
    "start_time": "2021-09-12T13:03:31.819Z"
   },
   {
    "duration": 15,
    "start_time": "2021-09-12T13:21:51.830Z"
   },
   {
    "duration": 726,
    "start_time": "2021-09-12T13:22:06.526Z"
   },
   {
    "duration": 11,
    "start_time": "2021-09-12T13:23:36.157Z"
   },
   {
    "duration": 909,
    "start_time": "2021-09-12T13:23:38.367Z"
   },
   {
    "duration": 324,
    "start_time": "2021-09-12T13:24:01.628Z"
   },
   {
    "duration": 11,
    "start_time": "2021-09-12T13:24:32.041Z"
   },
   {
    "duration": 1664,
    "start_time": "2021-09-12T13:24:34.312Z"
   },
   {
    "duration": 11,
    "start_time": "2021-09-12T14:16:46.066Z"
   },
   {
    "duration": 1623,
    "start_time": "2021-09-12T14:16:47.902Z"
   },
   {
    "duration": 12,
    "start_time": "2021-09-12T14:26:02.587Z"
   },
   {
    "duration": 1053,
    "start_time": "2021-09-12T14:26:04.933Z"
   },
   {
    "duration": 12,
    "start_time": "2021-09-12T14:27:06.153Z"
   },
   {
    "duration": 2812,
    "start_time": "2021-09-12T14:27:07.777Z"
   },
   {
    "duration": 13,
    "start_time": "2021-09-12T14:27:24.186Z"
   },
   {
    "duration": 3032,
    "start_time": "2021-09-12T14:27:26.001Z"
   },
   {
    "duration": 34,
    "start_time": "2021-09-12T14:32:27.202Z"
   },
   {
    "duration": 45,
    "start_time": "2021-09-12T14:33:06.410Z"
   },
   {
    "duration": 39,
    "start_time": "2021-09-12T14:33:13.002Z"
   },
   {
    "duration": 16,
    "start_time": "2021-09-12T14:34:51.613Z"
   },
   {
    "duration": 51,
    "start_time": "2021-09-12T14:35:18.044Z"
   },
   {
    "duration": 42,
    "start_time": "2021-09-12T14:35:20.088Z"
   },
   {
    "duration": 2644,
    "start_time": "2021-09-12T14:49:37.629Z"
   },
   {
    "duration": 2766,
    "start_time": "2021-09-12T14:49:45.503Z"
   },
   {
    "duration": 6,
    "start_time": "2021-09-12T14:50:37.303Z"
   },
   {
    "duration": 6,
    "start_time": "2021-09-12T14:51:00.157Z"
   },
   {
    "duration": 10,
    "start_time": "2021-09-12T14:52:22.722Z"
   },
   {
    "duration": 10,
    "start_time": "2021-09-12T14:52:46.037Z"
   },
   {
    "duration": 41,
    "start_time": "2021-09-12T14:52:53.127Z"
   },
   {
    "duration": 23,
    "start_time": "2021-09-12T14:53:00.668Z"
   },
   {
    "duration": 11,
    "start_time": "2021-09-12T14:53:21.668Z"
   },
   {
    "duration": 21,
    "start_time": "2021-09-12T14:53:23.648Z"
   },
   {
    "duration": 40,
    "start_time": "2021-09-12T14:53:30.561Z"
   },
   {
    "duration": 26,
    "start_time": "2021-09-12T14:54:05.354Z"
   },
   {
    "duration": 430,
    "start_time": "2021-09-12T14:54:54.818Z"
   },
   {
    "duration": 14,
    "start_time": "2021-09-12T14:57:53.403Z"
   },
   {
    "duration": 797,
    "start_time": "2021-09-12T15:00:28.336Z"
   },
   {
    "duration": 285,
    "start_time": "2021-09-12T15:01:00.169Z"
   },
   {
    "duration": 329,
    "start_time": "2021-09-12T15:01:17.862Z"
   },
   {
    "duration": 12,
    "start_time": "2021-09-12T15:02:10.004Z"
   },
   {
    "duration": 23,
    "start_time": "2021-09-12T15:02:14.763Z"
   },
   {
    "duration": 295,
    "start_time": "2021-09-12T15:04:59.333Z"
   },
   {
    "duration": 44,
    "start_time": "2021-09-12T15:05:09.905Z"
   },
   {
    "duration": 73,
    "start_time": "2021-09-12T15:05:29.235Z"
   },
   {
    "duration": 58,
    "start_time": "2021-09-12T15:05:44.753Z"
   },
   {
    "duration": 50,
    "start_time": "2021-09-12T15:05:53.050Z"
   },
   {
    "duration": 83,
    "start_time": "2021-09-12T15:06:18.292Z"
   },
   {
    "duration": 41,
    "start_time": "2021-09-12T15:06:23.401Z"
   },
   {
    "duration": 3136,
    "start_time": "2021-09-12T15:06:36.803Z"
   },
   {
    "duration": 1624,
    "start_time": "2021-09-12T15:06:39.943Z"
   },
   {
    "duration": 326,
    "start_time": "2021-09-12T15:06:41.570Z"
   },
   {
    "duration": 151,
    "start_time": "2021-09-12T15:06:41.899Z"
   },
   {
    "duration": 19,
    "start_time": "2021-09-12T15:06:42.053Z"
   },
   {
    "duration": 748,
    "start_time": "2021-09-12T15:06:42.074Z"
   },
   {
    "duration": 50,
    "start_time": "2021-09-12T15:06:42.825Z"
   },
   {
    "duration": 11,
    "start_time": "2021-09-12T15:06:42.879Z"
   },
   {
    "duration": 13,
    "start_time": "2021-09-12T15:06:42.893Z"
   },
   {
    "duration": 204,
    "start_time": "2021-09-12T15:06:42.909Z"
   },
   {
    "duration": 824,
    "start_time": "2021-09-12T15:06:43.115Z"
   },
   {
    "duration": 66,
    "start_time": "2021-09-12T15:06:43.942Z"
   },
   {
    "duration": 92,
    "start_time": "2021-09-12T15:06:44.010Z"
   },
   {
    "duration": 63,
    "start_time": "2021-09-12T15:06:44.105Z"
   },
   {
    "duration": 8,
    "start_time": "2021-09-12T15:06:44.171Z"
   },
   {
    "duration": 5,
    "start_time": "2021-09-12T15:06:44.182Z"
   },
   {
    "duration": 234,
    "start_time": "2021-09-12T15:06:44.190Z"
   },
   {
    "duration": 9,
    "start_time": "2021-09-12T15:06:44.427Z"
   },
   {
    "duration": 12,
    "start_time": "2021-09-12T15:06:44.439Z"
   },
   {
    "duration": 5,
    "start_time": "2021-09-12T15:06:44.467Z"
   },
   {
    "duration": 8,
    "start_time": "2021-09-12T15:06:44.475Z"
   },
   {
    "duration": 21,
    "start_time": "2021-09-12T15:06:44.486Z"
   },
   {
    "duration": 2167,
    "start_time": "2021-09-12T15:06:44.513Z"
   },
   {
    "duration": 284,
    "start_time": "2021-09-12T15:06:46.683Z"
   },
   {
    "duration": 9,
    "start_time": "2021-09-12T15:06:46.969Z"
   },
   {
    "duration": 123,
    "start_time": "2021-09-12T15:06:46.981Z"
   },
   {
    "duration": 5,
    "start_time": "2021-09-12T15:06:47.107Z"
   },
   {
    "duration": 218,
    "start_time": "2021-09-12T15:06:47.115Z"
   },
   {
    "duration": 9,
    "start_time": "2021-09-12T15:06:47.335Z"
   },
   {
    "duration": 100,
    "start_time": "2021-09-12T15:06:47.367Z"
   },
   {
    "duration": 67,
    "start_time": "2021-09-12T15:06:47.470Z"
   },
   {
    "duration": 189,
    "start_time": "2021-09-12T15:06:47.540Z"
   },
   {
    "duration": 8,
    "start_time": "2021-09-12T15:06:47.731Z"
   },
   {
    "duration": 33,
    "start_time": "2021-09-12T15:06:47.742Z"
   },
   {
    "duration": 114,
    "start_time": "2021-09-12T15:06:47.778Z"
   },
   {
    "duration": 15,
    "start_time": "2021-09-12T15:06:47.895Z"
   },
   {
    "duration": 17,
    "start_time": "2021-09-12T15:06:47.912Z"
   },
   {
    "duration": 8457,
    "start_time": "2021-09-12T15:06:47.931Z"
   },
   {
    "duration": 2055,
    "start_time": "2021-09-12T15:06:56.390Z"
   },
   {
    "duration": 67,
    "start_time": "2021-09-12T15:06:58.447Z"
   },
   {
    "duration": 12,
    "start_time": "2021-09-12T15:06:58.516Z"
   },
   {
    "duration": 1010,
    "start_time": "2021-09-12T15:06:58.530Z"
   },
   {
    "duration": -11694,
    "start_time": "2021-09-12T15:07:11.236Z"
   },
   {
    "duration": -11696,
    "start_time": "2021-09-12T15:07:11.240Z"
   },
   {
    "duration": -11699,
    "start_time": "2021-09-12T15:07:11.244Z"
   },
   {
    "duration": -11702,
    "start_time": "2021-09-12T15:07:11.248Z"
   },
   {
    "duration": -11704,
    "start_time": "2021-09-12T15:07:11.252Z"
   },
   {
    "duration": -11705,
    "start_time": "2021-09-12T15:07:11.255Z"
   },
   {
    "duration": -11709,
    "start_time": "2021-09-12T15:07:11.260Z"
   },
   {
    "duration": -11710,
    "start_time": "2021-09-12T15:07:11.263Z"
   },
   {
    "duration": 40,
    "start_time": "2021-09-12T15:07:31.554Z"
   },
   {
    "duration": 3236,
    "start_time": "2021-09-12T15:08:00.201Z"
   },
   {
    "duration": 1646,
    "start_time": "2021-09-12T15:08:03.440Z"
   },
   {
    "duration": 434,
    "start_time": "2021-09-12T15:08:05.089Z"
   },
   {
    "duration": 143,
    "start_time": "2021-09-12T15:08:05.526Z"
   },
   {
    "duration": 11,
    "start_time": "2021-09-12T15:08:05.672Z"
   },
   {
    "duration": 789,
    "start_time": "2021-09-12T15:08:05.685Z"
   },
   {
    "duration": 34,
    "start_time": "2021-09-12T15:08:06.477Z"
   },
   {
    "duration": 11,
    "start_time": "2021-09-12T15:08:06.515Z"
   },
   {
    "duration": 7,
    "start_time": "2021-09-12T15:08:06.529Z"
   },
   {
    "duration": 197,
    "start_time": "2021-09-12T15:08:06.567Z"
   },
   {
    "duration": 966,
    "start_time": "2021-09-12T15:08:06.768Z"
   },
   {
    "duration": 70,
    "start_time": "2021-09-12T15:08:07.737Z"
   },
   {
    "duration": 90,
    "start_time": "2021-09-12T15:08:07.809Z"
   },
   {
    "duration": 8,
    "start_time": "2021-09-12T15:08:07.901Z"
   },
   {
    "duration": 62,
    "start_time": "2021-09-12T15:08:07.911Z"
   },
   {
    "duration": 6,
    "start_time": "2021-09-12T15:08:07.976Z"
   },
   {
    "duration": 239,
    "start_time": "2021-09-12T15:08:07.984Z"
   },
   {
    "duration": 11,
    "start_time": "2021-09-12T15:08:08.226Z"
   },
   {
    "duration": 29,
    "start_time": "2021-09-12T15:08:08.240Z"
   },
   {
    "duration": 9,
    "start_time": "2021-09-12T15:08:08.272Z"
   },
   {
    "duration": 10,
    "start_time": "2021-09-12T15:08:08.284Z"
   },
   {
    "duration": 34,
    "start_time": "2021-09-12T15:08:08.296Z"
   },
   {
    "duration": 1949,
    "start_time": "2021-09-12T15:08:08.332Z"
   },
   {
    "duration": 278,
    "start_time": "2021-09-12T15:08:10.284Z"
   },
   {
    "duration": 8,
    "start_time": "2021-09-12T15:08:10.568Z"
   },
   {
    "duration": 127,
    "start_time": "2021-09-12T15:08:10.582Z"
   },
   {
    "duration": 5,
    "start_time": "2021-09-12T15:08:10.712Z"
   },
   {
    "duration": 220,
    "start_time": "2021-09-12T15:08:10.719Z"
   },
   {
    "duration": 9,
    "start_time": "2021-09-12T15:08:10.942Z"
   },
   {
    "duration": 102,
    "start_time": "2021-09-12T15:08:10.953Z"
   },
   {
    "duration": 62,
    "start_time": "2021-09-12T15:08:11.068Z"
   },
   {
    "duration": 181,
    "start_time": "2021-09-12T15:08:11.132Z"
   },
   {
    "duration": 9,
    "start_time": "2021-09-12T15:08:11.315Z"
   },
   {
    "duration": 41,
    "start_time": "2021-09-12T15:08:11.326Z"
   },
   {
    "duration": 119,
    "start_time": "2021-09-12T15:08:11.370Z"
   },
   {
    "duration": 15,
    "start_time": "2021-09-12T15:08:11.491Z"
   },
   {
    "duration": 16,
    "start_time": "2021-09-12T15:08:11.508Z"
   },
   {
    "duration": 8443,
    "start_time": "2021-09-12T15:08:11.527Z"
   },
   {
    "duration": 2202,
    "start_time": "2021-09-12T15:08:19.973Z"
   },
   {
    "duration": 56,
    "start_time": "2021-09-12T15:08:22.177Z"
   },
   {
    "duration": 37,
    "start_time": "2021-09-12T15:08:22.236Z"
   },
   {
    "duration": 573,
    "start_time": "2021-09-12T15:08:22.276Z"
   },
   {
    "duration": -846,
    "start_time": "2021-09-12T15:08:23.698Z"
   },
   {
    "duration": -857,
    "start_time": "2021-09-12T15:08:23.710Z"
   },
   {
    "duration": -858,
    "start_time": "2021-09-12T15:08:23.713Z"
   },
   {
    "duration": -860,
    "start_time": "2021-09-12T15:08:23.717Z"
   },
   {
    "duration": -869,
    "start_time": "2021-09-12T15:08:23.728Z"
   },
   {
    "duration": -871,
    "start_time": "2021-09-12T15:08:23.731Z"
   },
   {
    "duration": -880,
    "start_time": "2021-09-12T15:08:23.742Z"
   },
   {
    "duration": -882,
    "start_time": "2021-09-12T15:08:23.746Z"
   },
   {
    "duration": 38,
    "start_time": "2021-09-12T15:08:39.607Z"
   },
   {
    "duration": 3169,
    "start_time": "2021-09-12T15:08:58.404Z"
   },
   {
    "duration": 1714,
    "start_time": "2021-09-12T15:09:01.577Z"
   },
   {
    "duration": 338,
    "start_time": "2021-09-12T15:09:03.295Z"
   },
   {
    "duration": 141,
    "start_time": "2021-09-12T15:09:03.636Z"
   },
   {
    "duration": 11,
    "start_time": "2021-09-12T15:09:03.780Z"
   },
   {
    "duration": 732,
    "start_time": "2021-09-12T15:09:03.793Z"
   },
   {
    "duration": 53,
    "start_time": "2021-09-12T15:09:04.528Z"
   },
   {
    "duration": 11,
    "start_time": "2021-09-12T15:09:04.585Z"
   },
   {
    "duration": 17,
    "start_time": "2021-09-12T15:09:04.600Z"
   },
   {
    "duration": 200,
    "start_time": "2021-09-12T15:09:04.619Z"
   },
   {
    "duration": 826,
    "start_time": "2021-09-12T15:09:04.821Z"
   },
   {
    "duration": 131,
    "start_time": "2021-09-12T15:09:05.650Z"
   },
   {
    "duration": 111,
    "start_time": "2021-09-12T15:09:05.784Z"
   },
   {
    "duration": 8,
    "start_time": "2021-09-12T15:09:05.898Z"
   },
   {
    "duration": 61,
    "start_time": "2021-09-12T15:09:05.909Z"
   },
   {
    "duration": 4,
    "start_time": "2021-09-12T15:09:05.973Z"
   },
   {
    "duration": 249,
    "start_time": "2021-09-12T15:09:05.980Z"
   },
   {
    "duration": 11,
    "start_time": "2021-09-12T15:09:06.231Z"
   },
   {
    "duration": 25,
    "start_time": "2021-09-12T15:09:06.244Z"
   },
   {
    "duration": 28,
    "start_time": "2021-09-12T15:09:06.272Z"
   },
   {
    "duration": 18,
    "start_time": "2021-09-12T15:09:06.303Z"
   },
   {
    "duration": 42,
    "start_time": "2021-09-12T15:09:06.324Z"
   },
   {
    "duration": 1808,
    "start_time": "2021-09-12T15:09:06.372Z"
   },
   {
    "duration": 273,
    "start_time": "2021-09-12T15:09:08.183Z"
   },
   {
    "duration": 14,
    "start_time": "2021-09-12T15:09:08.458Z"
   },
   {
    "duration": 129,
    "start_time": "2021-09-12T15:09:08.475Z"
   },
   {
    "duration": 5,
    "start_time": "2021-09-12T15:09:08.606Z"
   },
   {
    "duration": 215,
    "start_time": "2021-09-12T15:09:08.614Z"
   },
   {
    "duration": 11,
    "start_time": "2021-09-12T15:09:08.831Z"
   },
   {
    "duration": 111,
    "start_time": "2021-09-12T15:09:08.845Z"
   },
   {
    "duration": 66,
    "start_time": "2021-09-12T15:09:08.958Z"
   },
   {
    "duration": 178,
    "start_time": "2021-09-12T15:09:09.026Z"
   },
   {
    "duration": 8,
    "start_time": "2021-09-12T15:09:09.207Z"
   },
   {
    "duration": 26,
    "start_time": "2021-09-12T15:09:09.217Z"
   },
   {
    "duration": 127,
    "start_time": "2021-09-12T15:09:09.245Z"
   },
   {
    "duration": 14,
    "start_time": "2021-09-12T15:09:09.374Z"
   },
   {
    "duration": 17,
    "start_time": "2021-09-12T15:09:09.391Z"
   },
   {
    "duration": 8621,
    "start_time": "2021-09-12T15:09:09.411Z"
   },
   {
    "duration": 2035,
    "start_time": "2021-09-12T15:09:18.035Z"
   },
   {
    "duration": 80,
    "start_time": "2021-09-12T15:09:20.072Z"
   },
   {
    "duration": -841,
    "start_time": "2021-09-12T15:09:20.996Z"
   },
   {
    "duration": -843,
    "start_time": "2021-09-12T15:09:21.000Z"
   },
   {
    "duration": -854,
    "start_time": "2021-09-12T15:09:21.013Z"
   },
   {
    "duration": -855,
    "start_time": "2021-09-12T15:09:21.017Z"
   },
   {
    "duration": -857,
    "start_time": "2021-09-12T15:09:21.021Z"
   },
   {
    "duration": -858,
    "start_time": "2021-09-12T15:09:21.024Z"
   },
   {
    "duration": -862,
    "start_time": "2021-09-12T15:09:21.030Z"
   },
   {
    "duration": -864,
    "start_time": "2021-09-12T15:09:21.034Z"
   },
   {
    "duration": -869,
    "start_time": "2021-09-12T15:09:21.041Z"
   },
   {
    "duration": -872,
    "start_time": "2021-09-12T15:09:21.046Z"
   },
   {
    "duration": 54,
    "start_time": "2021-09-12T15:09:30.166Z"
   },
   {
    "duration": 39,
    "start_time": "2021-09-12T15:09:35.189Z"
   },
   {
    "duration": 36,
    "start_time": "2021-09-12T15:09:43.565Z"
   },
   {
    "duration": 34,
    "start_time": "2021-09-12T15:11:26.744Z"
   },
   {
    "duration": 17,
    "start_time": "2021-09-12T15:11:31.292Z"
   },
   {
    "duration": 13,
    "start_time": "2021-09-12T15:13:02.954Z"
   },
   {
    "duration": 23,
    "start_time": "2021-09-12T15:13:06.677Z"
   },
   {
    "duration": 95,
    "start_time": "2021-09-12T15:14:44.884Z"
   },
   {
    "duration": 10,
    "start_time": "2021-09-12T15:14:52.627Z"
   },
   {
    "duration": 24,
    "start_time": "2021-09-12T15:14:56.010Z"
   },
   {
    "duration": 33,
    "start_time": "2021-09-12T15:19:00.799Z"
   },
   {
    "duration": 16,
    "start_time": "2021-09-12T15:19:02.486Z"
   },
   {
    "duration": 11,
    "start_time": "2021-09-12T15:19:08.913Z"
   },
   {
    "duration": 16,
    "start_time": "2021-09-12T15:19:11.329Z"
   },
   {
    "duration": 11,
    "start_time": "2021-09-12T15:22:31.400Z"
   },
   {
    "duration": 21,
    "start_time": "2021-09-12T15:22:38.215Z"
   },
   {
    "duration": 10,
    "start_time": "2021-09-12T15:26:42.002Z"
   },
   {
    "duration": 30,
    "start_time": "2021-09-12T15:27:03.300Z"
   },
   {
    "duration": 9,
    "start_time": "2021-09-12T15:28:05.620Z"
   },
   {
    "duration": 28,
    "start_time": "2021-09-12T15:28:12.064Z"
   },
   {
    "duration": 667,
    "start_time": "2021-09-12T15:30:31.270Z"
   },
   {
    "duration": 3191,
    "start_time": "2021-09-12T15:30:42.454Z"
   },
   {
    "duration": 1612,
    "start_time": "2021-09-12T15:30:45.649Z"
   },
   {
    "duration": 333,
    "start_time": "2021-09-12T15:30:47.264Z"
   },
   {
    "duration": 134,
    "start_time": "2021-09-12T15:30:47.600Z"
   },
   {
    "duration": 11,
    "start_time": "2021-09-12T15:30:47.738Z"
   },
   {
    "duration": 767,
    "start_time": "2021-09-12T15:30:47.752Z"
   },
   {
    "duration": 46,
    "start_time": "2021-09-12T15:30:48.522Z"
   },
   {
    "duration": 11,
    "start_time": "2021-09-12T15:30:48.574Z"
   },
   {
    "duration": 29,
    "start_time": "2021-09-12T15:30:48.588Z"
   },
   {
    "duration": 210,
    "start_time": "2021-09-12T15:30:48.620Z"
   },
   {
    "duration": 842,
    "start_time": "2021-09-12T15:30:48.832Z"
   },
   {
    "duration": 112,
    "start_time": "2021-09-12T15:30:49.676Z"
   },
   {
    "duration": 113,
    "start_time": "2021-09-12T15:30:49.792Z"
   },
   {
    "duration": 62,
    "start_time": "2021-09-12T15:30:49.908Z"
   },
   {
    "duration": 9,
    "start_time": "2021-09-12T15:30:49.973Z"
   },
   {
    "duration": 9,
    "start_time": "2021-09-12T15:30:49.985Z"
   },
   {
    "duration": 276,
    "start_time": "2021-09-12T15:30:49.997Z"
   },
   {
    "duration": 12,
    "start_time": "2021-09-12T15:30:50.276Z"
   },
   {
    "duration": 29,
    "start_time": "2021-09-12T15:30:50.291Z"
   },
   {
    "duration": 21,
    "start_time": "2021-09-12T15:30:50.323Z"
   },
   {
    "duration": 20,
    "start_time": "2021-09-12T15:30:50.346Z"
   },
   {
    "duration": 40,
    "start_time": "2021-09-12T15:30:50.369Z"
   },
   {
    "duration": 1835,
    "start_time": "2021-09-12T15:30:50.415Z"
   },
   {
    "duration": 274,
    "start_time": "2021-09-12T15:30:52.253Z"
   },
   {
    "duration": 8,
    "start_time": "2021-09-12T15:30:52.530Z"
   },
   {
    "duration": 132,
    "start_time": "2021-09-12T15:30:52.540Z"
   },
   {
    "duration": 5,
    "start_time": "2021-09-12T15:30:52.674Z"
   },
   {
    "duration": 218,
    "start_time": "2021-09-12T15:30:52.682Z"
   },
   {
    "duration": 10,
    "start_time": "2021-09-12T15:30:52.902Z"
   },
   {
    "duration": 111,
    "start_time": "2021-09-12T15:30:52.914Z"
   },
   {
    "duration": 78,
    "start_time": "2021-09-12T15:30:53.027Z"
   },
   {
    "duration": 170,
    "start_time": "2021-09-12T15:30:53.108Z"
   },
   {
    "duration": 10,
    "start_time": "2021-09-12T15:30:53.281Z"
   },
   {
    "duration": 30,
    "start_time": "2021-09-12T15:30:53.293Z"
   },
   {
    "duration": 128,
    "start_time": "2021-09-12T15:30:53.325Z"
   },
   {
    "duration": 23,
    "start_time": "2021-09-12T15:30:53.456Z"
   },
   {
    "duration": 17,
    "start_time": "2021-09-12T15:30:53.482Z"
   },
   {
    "duration": 8542,
    "start_time": "2021-09-12T15:30:53.501Z"
   },
   {
    "duration": 2038,
    "start_time": "2021-09-12T15:31:02.046Z"
   },
   {
    "duration": 33,
    "start_time": "2021-09-12T15:31:04.087Z"
   },
   {
    "duration": 9,
    "start_time": "2021-09-12T15:31:04.123Z"
   },
   {
    "duration": 39,
    "start_time": "2021-09-12T15:31:04.135Z"
   },
   {
    "duration": 16,
    "start_time": "2021-09-12T15:31:04.176Z"
   },
   {
    "duration": 493,
    "start_time": "2021-09-12T15:31:04.194Z"
   },
   {
    "duration": -890,
    "start_time": "2021-09-12T15:31:05.580Z"
   },
   {
    "duration": -892,
    "start_time": "2021-09-12T15:31:05.584Z"
   },
   {
    "duration": -895,
    "start_time": "2021-09-12T15:31:05.588Z"
   },
   {
    "duration": -897,
    "start_time": "2021-09-12T15:31:05.592Z"
   },
   {
    "duration": -900,
    "start_time": "2021-09-12T15:31:05.596Z"
   },
   {
    "duration": -902,
    "start_time": "2021-09-12T15:31:05.599Z"
   },
   {
    "duration": -904,
    "start_time": "2021-09-12T15:31:05.603Z"
   },
   {
    "duration": 34,
    "start_time": "2021-09-12T15:31:16.500Z"
   },
   {
    "duration": 11,
    "start_time": "2021-09-12T15:32:14.939Z"
   },
   {
    "duration": 32,
    "start_time": "2021-09-12T15:32:19.199Z"
   },
   {
    "duration": 9,
    "start_time": "2021-09-12T15:34:36.907Z"
   },
   {
    "duration": 30,
    "start_time": "2021-09-12T15:34:38.823Z"
   },
   {
    "duration": 13,
    "start_time": "2021-09-12T15:35:07.703Z"
   },
   {
    "duration": 30,
    "start_time": "2021-09-12T15:35:09.087Z"
   },
   {
    "duration": 22,
    "start_time": "2021-09-12T15:35:37.964Z"
   },
   {
    "duration": 1471,
    "start_time": "2021-09-12T15:36:14.916Z"
   },
   {
    "duration": 1472,
    "start_time": "2021-09-12T15:36:41.755Z"
   },
   {
    "duration": 23,
    "start_time": "2021-09-12T15:38:36.421Z"
   },
   {
    "duration": 1614,
    "start_time": "2021-09-12T15:38:38.277Z"
   },
   {
    "duration": 24,
    "start_time": "2021-09-12T15:39:22.273Z"
   },
   {
    "duration": 1205,
    "start_time": "2021-09-12T15:39:24.627Z"
   },
   {
    "duration": 2520,
    "start_time": "2021-09-12T15:39:40.575Z"
   },
   {
    "duration": 1697,
    "start_time": "2021-09-12T15:40:10.260Z"
   },
   {
    "duration": 1536,
    "start_time": "2021-09-12T15:40:18.645Z"
   },
   {
    "duration": 3319,
    "start_time": "2021-09-12T15:40:32.119Z"
   },
   {
    "duration": 1416,
    "start_time": "2021-09-12T15:40:38.628Z"
   },
   {
    "duration": 23,
    "start_time": "2021-09-12T15:43:30.110Z"
   },
   {
    "duration": 4988,
    "start_time": "2021-09-12T15:43:38.924Z"
   },
   {
    "duration": 61,
    "start_time": "2021-09-12T15:44:00.621Z"
   },
   {
    "duration": 22,
    "start_time": "2021-09-12T15:44:52.854Z"
   },
   {
    "duration": 1338,
    "start_time": "2021-09-12T15:44:55.761Z"
   },
   {
    "duration": 18,
    "start_time": "2021-09-12T15:45:34.236Z"
   },
   {
    "duration": 21,
    "start_time": "2021-09-12T15:45:54.066Z"
   },
   {
    "duration": 30,
    "start_time": "2021-09-12T15:45:57.103Z"
   },
   {
    "duration": 507,
    "start_time": "2021-09-12T15:47:19.123Z"
   },
   {
    "duration": 9,
    "start_time": "2021-09-12T15:47:27.716Z"
   },
   {
    "duration": 10,
    "start_time": "2021-09-12T15:50:16.743Z"
   },
   {
    "duration": 6,
    "start_time": "2021-09-12T15:50:30.301Z"
   },
   {
    "duration": 1003,
    "start_time": "2021-09-12T15:50:37.957Z"
   },
   {
    "duration": 10,
    "start_time": "2021-09-12T15:51:07.135Z"
   },
   {
    "duration": 3188,
    "start_time": "2021-09-12T16:11:02.518Z"
   },
   {
    "duration": 1559,
    "start_time": "2021-09-12T16:11:05.708Z"
   },
   {
    "duration": 320,
    "start_time": "2021-09-12T16:11:07.270Z"
   },
   {
    "duration": 147,
    "start_time": "2021-09-12T16:11:07.593Z"
   },
   {
    "duration": 10,
    "start_time": "2021-09-12T16:11:07.743Z"
   },
   {
    "duration": 753,
    "start_time": "2021-09-12T16:11:07.768Z"
   },
   {
    "duration": 56,
    "start_time": "2021-09-12T16:11:08.524Z"
   },
   {
    "duration": 11,
    "start_time": "2021-09-12T16:11:08.583Z"
   },
   {
    "duration": 9,
    "start_time": "2021-09-12T16:11:08.597Z"
   },
   {
    "duration": 200,
    "start_time": "2021-09-12T16:11:08.608Z"
   },
   {
    "duration": 808,
    "start_time": "2021-09-12T16:11:08.810Z"
   },
   {
    "duration": 73,
    "start_time": "2021-09-12T16:11:09.620Z"
   },
   {
    "duration": 94,
    "start_time": "2021-09-12T16:11:09.695Z"
   },
   {
    "duration": 8,
    "start_time": "2021-09-12T16:11:09.791Z"
   },
   {
    "duration": 67,
    "start_time": "2021-09-12T16:11:09.801Z"
   },
   {
    "duration": 3,
    "start_time": "2021-09-12T16:11:09.871Z"
   },
   {
    "duration": 216,
    "start_time": "2021-09-12T16:11:09.876Z"
   },
   {
    "duration": 11,
    "start_time": "2021-09-12T16:11:10.095Z"
   },
   {
    "duration": 15,
    "start_time": "2021-09-12T16:11:10.108Z"
   },
   {
    "duration": 9,
    "start_time": "2021-09-12T16:11:10.125Z"
   },
   {
    "duration": 11,
    "start_time": "2021-09-12T16:11:10.136Z"
   },
   {
    "duration": 22,
    "start_time": "2021-09-12T16:11:10.168Z"
   },
   {
    "duration": 1901,
    "start_time": "2021-09-12T16:11:10.195Z"
   },
   {
    "duration": 276,
    "start_time": "2021-09-12T16:11:12.099Z"
   },
   {
    "duration": 9,
    "start_time": "2021-09-12T16:11:12.378Z"
   },
   {
    "duration": 129,
    "start_time": "2021-09-12T16:11:12.389Z"
   },
   {
    "duration": 5,
    "start_time": "2021-09-12T16:11:12.520Z"
   },
   {
    "duration": 211,
    "start_time": "2021-09-12T16:11:12.527Z"
   },
   {
    "duration": 9,
    "start_time": "2021-09-12T16:11:12.741Z"
   },
   {
    "duration": 100,
    "start_time": "2021-09-12T16:11:12.767Z"
   },
   {
    "duration": 66,
    "start_time": "2021-09-12T16:11:12.869Z"
   },
   {
    "duration": 183,
    "start_time": "2021-09-12T16:11:12.937Z"
   },
   {
    "duration": 9,
    "start_time": "2021-09-12T16:11:13.123Z"
   },
   {
    "duration": 33,
    "start_time": "2021-09-12T16:11:13.134Z"
   },
   {
    "duration": 128,
    "start_time": "2021-09-12T16:11:13.169Z"
   },
   {
    "duration": 16,
    "start_time": "2021-09-12T16:11:13.299Z"
   },
   {
    "duration": 89,
    "start_time": "2021-09-12T16:11:13.318Z"
   },
   {
    "duration": -16379,
    "start_time": "2021-09-12T16:11:29.789Z"
   },
   {
    "duration": -16381,
    "start_time": "2021-09-12T16:11:29.792Z"
   },
   {
    "duration": -16384,
    "start_time": "2021-09-12T16:11:29.796Z"
   },
   {
    "duration": -16385,
    "start_time": "2021-09-12T16:11:29.799Z"
   },
   {
    "duration": -16388,
    "start_time": "2021-09-12T16:11:29.804Z"
   },
   {
    "duration": -16391,
    "start_time": "2021-09-12T16:11:29.808Z"
   },
   {
    "duration": -16393,
    "start_time": "2021-09-12T16:11:29.811Z"
   },
   {
    "duration": -16394,
    "start_time": "2021-09-12T16:11:29.814Z"
   },
   {
    "duration": -16397,
    "start_time": "2021-09-12T16:11:29.818Z"
   },
   {
    "duration": -16398,
    "start_time": "2021-09-12T16:11:29.821Z"
   },
   {
    "duration": -16401,
    "start_time": "2021-09-12T16:11:29.825Z"
   },
   {
    "duration": -16402,
    "start_time": "2021-09-12T16:11:29.828Z"
   },
   {
    "duration": -16404,
    "start_time": "2021-09-12T16:11:29.831Z"
   },
   {
    "duration": -16406,
    "start_time": "2021-09-12T16:11:29.835Z"
   },
   {
    "duration": -16408,
    "start_time": "2021-09-12T16:11:29.838Z"
   },
   {
    "duration": -16411,
    "start_time": "2021-09-12T16:11:29.842Z"
   },
   {
    "duration": 32,
    "start_time": "2021-09-12T16:11:39.434Z"
   },
   {
    "duration": 96,
    "start_time": "2021-09-12T16:13:30.990Z"
   },
   {
    "duration": 33,
    "start_time": "2021-09-12T16:13:38.203Z"
   },
   {
    "duration": 37,
    "start_time": "2021-09-12T16:17:34.829Z"
   },
   {
    "duration": 15,
    "start_time": "2021-09-12T16:17:40.616Z"
   },
   {
    "duration": 11,
    "start_time": "2021-09-12T16:17:48.932Z"
   },
   {
    "duration": 24,
    "start_time": "2021-09-12T16:17:53.266Z"
   },
   {
    "duration": 11,
    "start_time": "2021-09-12T16:18:56.048Z"
   },
   {
    "duration": 20,
    "start_time": "2021-09-12T16:19:05.558Z"
   },
   {
    "duration": 12,
    "start_time": "2021-09-12T16:28:32.690Z"
   },
   {
    "duration": 14,
    "start_time": "2021-09-12T16:28:54.363Z"
   },
   {
    "duration": 1931,
    "start_time": "2021-09-12T16:28:56.491Z"
   },
   {
    "duration": 14,
    "start_time": "2021-09-12T16:40:12.120Z"
   },
   {
    "duration": 830,
    "start_time": "2021-09-12T16:40:14.307Z"
   },
   {
    "duration": 14,
    "start_time": "2021-09-12T16:40:39.257Z"
   },
   {
    "duration": 2387,
    "start_time": "2021-09-12T16:40:41.456Z"
   },
   {
    "duration": 13,
    "start_time": "2021-09-12T16:40:59.209Z"
   },
   {
    "duration": 1459,
    "start_time": "2021-09-12T16:41:01.536Z"
   },
   {
    "duration": 1458,
    "start_time": "2021-09-12T16:42:56.490Z"
   },
   {
    "duration": 24,
    "start_time": "2021-09-12T16:43:32.575Z"
   },
   {
    "duration": 1445,
    "start_time": "2021-09-12T16:44:22.735Z"
   },
   {
    "duration": 24,
    "start_time": "2021-09-12T16:44:38.859Z"
   },
   {
    "duration": 13,
    "start_time": "2021-09-12T16:44:54.309Z"
   },
   {
    "duration": 1440,
    "start_time": "2021-09-12T16:45:58.217Z"
   },
   {
    "duration": 1528,
    "start_time": "2021-09-12T16:46:29.921Z"
   },
   {
    "duration": 1478,
    "start_time": "2021-09-12T16:47:20.299Z"
   },
   {
    "duration": 14,
    "start_time": "2021-09-12T16:47:32.825Z"
   },
   {
    "duration": 1521,
    "start_time": "2021-09-12T16:48:49.948Z"
   },
   {
    "duration": 1438,
    "start_time": "2021-09-12T16:49:10.525Z"
   },
   {
    "duration": 14,
    "start_time": "2021-09-12T16:49:43.620Z"
   },
   {
    "duration": 25,
    "start_time": "2021-09-12T16:50:40.558Z"
   },
   {
    "duration": 17,
    "start_time": "2021-09-12T16:51:30.133Z"
   },
   {
    "duration": 5149,
    "start_time": "2021-09-12T16:52:17.425Z"
   },
   {
    "duration": 1574,
    "start_time": "2021-09-12T16:54:43.351Z"
   },
   {
    "duration": 14,
    "start_time": "2021-09-12T16:56:04.123Z"
   },
   {
    "duration": 2073,
    "start_time": "2021-09-12T16:56:11.243Z"
   },
   {
    "duration": 32,
    "start_time": "2021-09-12T17:47:20.775Z"
   },
   {
    "duration": 604,
    "start_time": "2021-09-12T18:25:40.079Z"
   },
   {
    "duration": 1427,
    "start_time": "2021-09-12T18:26:35.533Z"
   },
   {
    "duration": 1574,
    "start_time": "2021-09-12T18:27:31.829Z"
   },
   {
    "duration": 13,
    "start_time": "2021-09-12T18:30:13.682Z"
   },
   {
    "duration": 1465,
    "start_time": "2021-09-12T18:30:23.481Z"
   },
   {
    "duration": 1564,
    "start_time": "2021-09-12T18:30:43.327Z"
   },
   {
    "duration": 1659,
    "start_time": "2021-09-12T18:30:54.947Z"
   },
   {
    "duration": 1556,
    "start_time": "2021-09-12T18:31:51.827Z"
   },
   {
    "duration": 1531,
    "start_time": "2021-09-12T18:31:56.466Z"
   },
   {
    "duration": 1537,
    "start_time": "2021-09-12T18:32:01.188Z"
   },
   {
    "duration": 1552,
    "start_time": "2021-09-12T18:32:05.219Z"
   },
   {
    "duration": 749,
    "start_time": "2021-09-12T18:35:31.290Z"
   },
   {
    "duration": 14,
    "start_time": "2021-09-12T20:10:26.105Z"
   },
   {
    "duration": 24,
    "start_time": "2021-09-12T21:00:28.262Z"
   },
   {
    "duration": 25,
    "start_time": "2021-09-12T21:00:57.047Z"
   },
   {
    "duration": 21928,
    "start_time": "2021-09-13T17:46:35.314Z"
   },
   {
    "duration": 1600,
    "start_time": "2021-09-13T17:46:57.245Z"
   },
   {
    "duration": 303,
    "start_time": "2021-09-13T17:46:58.848Z"
   },
   {
    "duration": 124,
    "start_time": "2021-09-13T17:46:59.154Z"
   },
   {
    "duration": 10,
    "start_time": "2021-09-13T17:46:59.280Z"
   },
   {
    "duration": 724,
    "start_time": "2021-09-13T17:46:59.293Z"
   },
   {
    "duration": 44,
    "start_time": "2021-09-13T17:47:00.019Z"
   },
   {
    "duration": 9,
    "start_time": "2021-09-13T17:47:00.067Z"
   },
   {
    "duration": 9,
    "start_time": "2021-09-13T17:47:00.080Z"
   },
   {
    "duration": 201,
    "start_time": "2021-09-13T17:47:00.091Z"
   },
   {
    "duration": 842,
    "start_time": "2021-09-13T17:47:00.295Z"
   },
   {
    "duration": 135,
    "start_time": "2021-09-13T17:47:01.139Z"
   },
   {
    "duration": 99,
    "start_time": "2021-09-13T17:47:01.277Z"
   },
   {
    "duration": 8,
    "start_time": "2021-09-13T17:47:01.379Z"
   },
   {
    "duration": 77,
    "start_time": "2021-09-13T17:47:01.390Z"
   },
   {
    "duration": 4,
    "start_time": "2021-09-13T17:47:01.470Z"
   },
   {
    "duration": 228,
    "start_time": "2021-09-13T17:47:01.478Z"
   },
   {
    "duration": 12,
    "start_time": "2021-09-13T17:47:01.708Z"
   },
   {
    "duration": 33,
    "start_time": "2021-09-13T17:47:01.723Z"
   },
   {
    "duration": 22,
    "start_time": "2021-09-13T17:47:01.759Z"
   },
   {
    "duration": 30,
    "start_time": "2021-09-13T17:47:01.784Z"
   },
   {
    "duration": 33,
    "start_time": "2021-09-13T17:47:01.817Z"
   },
   {
    "duration": 1722,
    "start_time": "2021-09-13T17:47:01.856Z"
   },
   {
    "duration": 266,
    "start_time": "2021-09-13T17:47:03.582Z"
   },
   {
    "duration": 18,
    "start_time": "2021-09-13T17:47:03.851Z"
   },
   {
    "duration": 119,
    "start_time": "2021-09-13T17:47:03.871Z"
   },
   {
    "duration": 6,
    "start_time": "2021-09-13T17:47:03.992Z"
   },
   {
    "duration": 208,
    "start_time": "2021-09-13T17:47:04.000Z"
   },
   {
    "duration": 9,
    "start_time": "2021-09-13T17:47:04.211Z"
   },
   {
    "duration": 103,
    "start_time": "2021-09-13T17:47:04.223Z"
   },
   {
    "duration": 77,
    "start_time": "2021-09-13T17:47:04.329Z"
   },
   {
    "duration": 169,
    "start_time": "2021-09-13T17:47:04.408Z"
   },
   {
    "duration": 10,
    "start_time": "2021-09-13T17:47:04.580Z"
   },
   {
    "duration": 38,
    "start_time": "2021-09-13T17:47:04.593Z"
   },
   {
    "duration": 131,
    "start_time": "2021-09-13T17:47:04.634Z"
   },
   {
    "duration": 107,
    "start_time": "2021-09-13T17:47:04.768Z"
   },
   {
    "duration": 13,
    "start_time": "2021-09-13T17:47:04.877Z"
   },
   {
    "duration": 1404,
    "start_time": "2021-09-13T17:47:04.893Z"
   },
   {
    "duration": 1494,
    "start_time": "2021-09-13T17:47:06.299Z"
   },
   {
    "duration": 122,
    "start_time": "2021-09-13T17:47:07.796Z"
   },
   {
    "duration": 28,
    "start_time": "2021-09-13T17:47:07.920Z"
   },
   {
    "duration": 15,
    "start_time": "2021-09-13T17:47:07.951Z"
   },
   {
    "duration": 51,
    "start_time": "2021-09-13T17:47:07.969Z"
   },
   {
    "duration": 73,
    "start_time": "2021-09-13T17:47:08.022Z"
   },
   {
    "duration": 9,
    "start_time": "2021-09-13T17:47:08.097Z"
   },
   {
    "duration": 22,
    "start_time": "2021-09-13T17:47:08.109Z"
   },
   {
    "duration": 1412,
    "start_time": "2021-09-13T17:50:46.621Z"
   },
   {
    "duration": 18,
    "start_time": "2021-09-13T17:51:53.139Z"
   },
   {
    "duration": 336,
    "start_time": "2021-09-13T17:54:14.786Z"
   },
   {
    "duration": 479,
    "start_time": "2021-09-13T17:55:37.555Z"
   },
   {
    "duration": 1425,
    "start_time": "2021-09-13T17:55:58.543Z"
   },
   {
    "duration": 19,
    "start_time": "2021-09-13T17:56:29.803Z"
   },
   {
    "duration": 24,
    "start_time": "2021-09-13T17:57:41.855Z"
   },
   {
    "duration": 266,
    "start_time": "2021-09-13T17:59:10.165Z"
   },
   {
    "duration": 267,
    "start_time": "2021-09-13T18:02:24.076Z"
   },
   {
    "duration": 15,
    "start_time": "2021-09-13T18:23:09.592Z"
   },
   {
    "duration": 20340,
    "start_time": "2021-09-14T16:55:15.645Z"
   },
   {
    "duration": 1584,
    "start_time": "2021-09-14T16:55:35.988Z"
   },
   {
    "duration": 307,
    "start_time": "2021-09-14T16:55:37.575Z"
   },
   {
    "duration": 136,
    "start_time": "2021-09-14T16:55:37.884Z"
   },
   {
    "duration": 10,
    "start_time": "2021-09-14T16:55:38.022Z"
   },
   {
    "duration": 740,
    "start_time": "2021-09-14T16:55:38.035Z"
   },
   {
    "duration": 34,
    "start_time": "2021-09-14T16:55:38.778Z"
   },
   {
    "duration": 11,
    "start_time": "2021-09-14T16:55:38.815Z"
   },
   {
    "duration": 37,
    "start_time": "2021-09-14T16:55:38.829Z"
   },
   {
    "duration": 190,
    "start_time": "2021-09-14T16:55:38.868Z"
   },
   {
    "duration": 802,
    "start_time": "2021-09-14T16:55:39.060Z"
   },
   {
    "duration": 42,
    "start_time": "2021-09-14T16:55:39.865Z"
   },
   {
    "duration": 89,
    "start_time": "2021-09-14T16:55:39.909Z"
   },
   {
    "duration": 7,
    "start_time": "2021-09-14T16:55:40.000Z"
   },
   {
    "duration": 58,
    "start_time": "2021-09-14T16:55:40.009Z"
   },
   {
    "duration": 23,
    "start_time": "2021-09-14T16:55:40.069Z"
   },
   {
    "duration": 249,
    "start_time": "2021-09-14T16:55:40.094Z"
   },
   {
    "duration": 19,
    "start_time": "2021-09-14T16:55:40.345Z"
   },
   {
    "duration": 22,
    "start_time": "2021-09-14T16:55:40.366Z"
   },
   {
    "duration": 16,
    "start_time": "2021-09-14T16:55:40.391Z"
   },
   {
    "duration": 19,
    "start_time": "2021-09-14T16:55:40.409Z"
   },
   {
    "duration": 38,
    "start_time": "2021-09-14T16:55:40.431Z"
   },
   {
    "duration": 1742,
    "start_time": "2021-09-14T16:55:40.474Z"
   },
   {
    "duration": 361,
    "start_time": "2021-09-14T16:55:42.220Z"
   },
   {
    "duration": 9,
    "start_time": "2021-09-14T16:55:42.583Z"
   },
   {
    "duration": 123,
    "start_time": "2021-09-14T16:55:42.594Z"
   },
   {
    "duration": 15,
    "start_time": "2021-09-14T16:55:42.719Z"
   },
   {
    "duration": 27,
    "start_time": "2021-09-14T16:55:42.737Z"
   },
   {
    "duration": 201,
    "start_time": "2021-09-14T16:55:42.767Z"
   },
   {
    "duration": 9,
    "start_time": "2021-09-14T16:55:42.970Z"
   },
   {
    "duration": 107,
    "start_time": "2021-09-14T16:55:42.982Z"
   },
   {
    "duration": 71,
    "start_time": "2021-09-14T16:55:43.091Z"
   },
   {
    "duration": 170,
    "start_time": "2021-09-14T16:55:43.164Z"
   },
   {
    "duration": 9,
    "start_time": "2021-09-14T16:55:43.336Z"
   },
   {
    "duration": 31,
    "start_time": "2021-09-14T16:55:43.347Z"
   },
   {
    "duration": 22,
    "start_time": "2021-09-14T16:55:43.380Z"
   },
   {
    "duration": 115,
    "start_time": "2021-09-14T16:55:43.405Z"
   },
   {
    "duration": 96,
    "start_time": "2021-09-14T16:55:43.523Z"
   },
   {
    "duration": 445,
    "start_time": "2021-09-14T16:55:43.621Z"
   },
   {
    "duration": -1402,
    "start_time": "2021-09-14T16:55:45.471Z"
   },
   {
    "duration": -1408,
    "start_time": "2021-09-14T16:55:45.478Z"
   },
   {
    "duration": -1414,
    "start_time": "2021-09-14T16:55:45.486Z"
   },
   {
    "duration": -1420,
    "start_time": "2021-09-14T16:55:45.493Z"
   },
   {
    "duration": -1424,
    "start_time": "2021-09-14T16:55:45.499Z"
   },
   {
    "duration": -1428,
    "start_time": "2021-09-14T16:55:45.504Z"
   },
   {
    "duration": -1431,
    "start_time": "2021-09-14T16:55:45.509Z"
   },
   {
    "duration": -1435,
    "start_time": "2021-09-14T16:55:45.514Z"
   },
   {
    "duration": -1438,
    "start_time": "2021-09-14T16:55:45.519Z"
   },
   {
    "duration": 3447,
    "start_time": "2021-09-14T17:03:01.780Z"
   },
   {
    "duration": 1560,
    "start_time": "2021-09-14T17:03:05.230Z"
   },
   {
    "duration": 309,
    "start_time": "2021-09-14T17:03:06.793Z"
   },
   {
    "duration": 166,
    "start_time": "2021-09-14T17:03:07.104Z"
   },
   {
    "duration": 10,
    "start_time": "2021-09-14T17:03:07.273Z"
   },
   {
    "duration": 923,
    "start_time": "2021-09-14T17:03:07.285Z"
   },
   {
    "duration": 50,
    "start_time": "2021-09-14T17:03:08.212Z"
   },
   {
    "duration": 11,
    "start_time": "2021-09-14T17:03:08.266Z"
   },
   {
    "duration": 15,
    "start_time": "2021-09-14T17:03:08.280Z"
   },
   {
    "duration": 201,
    "start_time": "2021-09-14T17:03:08.298Z"
   },
   {
    "duration": 1304,
    "start_time": "2021-09-14T17:03:08.501Z"
   },
   {
    "duration": 71,
    "start_time": "2021-09-14T17:03:09.807Z"
   },
   {
    "duration": 96,
    "start_time": "2021-09-14T17:03:09.880Z"
   },
   {
    "duration": 7,
    "start_time": "2021-09-14T17:03:09.978Z"
   },
   {
    "duration": 7,
    "start_time": "2021-09-14T17:03:09.987Z"
   },
   {
    "duration": 4,
    "start_time": "2021-09-14T17:03:09.997Z"
   },
   {
    "duration": 279,
    "start_time": "2021-09-14T17:03:10.003Z"
   },
   {
    "duration": 11,
    "start_time": "2021-09-14T17:03:10.285Z"
   },
   {
    "duration": 12,
    "start_time": "2021-09-14T17:03:10.299Z"
   },
   {
    "duration": 11,
    "start_time": "2021-09-14T17:03:10.314Z"
   },
   {
    "duration": 33,
    "start_time": "2021-09-14T17:03:10.328Z"
   },
   {
    "duration": 22,
    "start_time": "2021-09-14T17:03:10.364Z"
   },
   {
    "duration": 1662,
    "start_time": "2021-09-14T17:03:10.391Z"
   },
   {
    "duration": 257,
    "start_time": "2021-09-14T17:03:12.062Z"
   },
   {
    "duration": 9,
    "start_time": "2021-09-14T17:03:12.321Z"
   },
   {
    "duration": 105,
    "start_time": "2021-09-14T17:03:12.332Z"
   },
   {
    "duration": 22,
    "start_time": "2021-09-14T17:03:12.462Z"
   },
   {
    "duration": 11,
    "start_time": "2021-09-14T17:03:12.488Z"
   },
   {
    "duration": 229,
    "start_time": "2021-09-14T17:03:12.501Z"
   },
   {
    "duration": 9,
    "start_time": "2021-09-14T17:03:12.732Z"
   },
   {
    "duration": 94,
    "start_time": "2021-09-14T17:03:12.743Z"
   },
   {
    "duration": 77,
    "start_time": "2021-09-14T17:03:12.839Z"
   },
   {
    "duration": 177,
    "start_time": "2021-09-14T17:03:12.918Z"
   },
   {
    "duration": 8,
    "start_time": "2021-09-14T17:03:13.097Z"
   },
   {
    "duration": 31,
    "start_time": "2021-09-14T17:03:13.108Z"
   },
   {
    "duration": 28,
    "start_time": "2021-09-14T17:03:13.141Z"
   },
   {
    "duration": 116,
    "start_time": "2021-09-14T17:03:13.171Z"
   },
   {
    "duration": 93,
    "start_time": "2021-09-14T17:03:13.289Z"
   },
   {
    "duration": 1393,
    "start_time": "2021-09-14T17:03:13.384Z"
   },
   {
    "duration": 3,
    "start_time": "2021-09-14T17:03:14.780Z"
   },
   {
    "duration": 574,
    "start_time": "2021-09-14T17:03:14.785Z"
   },
   {
    "duration": -1413,
    "start_time": "2021-09-14T17:03:16.774Z"
   },
   {
    "duration": -1416,
    "start_time": "2021-09-14T17:03:16.779Z"
   },
   {
    "duration": -1420,
    "start_time": "2021-09-14T17:03:16.784Z"
   },
   {
    "duration": -1424,
    "start_time": "2021-09-14T17:03:16.789Z"
   },
   {
    "duration": -1429,
    "start_time": "2021-09-14T17:03:16.796Z"
   },
   {
    "duration": -1439,
    "start_time": "2021-09-14T17:03:16.807Z"
   },
   {
    "duration": 2607,
    "start_time": "2021-09-14T17:08:58.141Z"
   },
   {
    "duration": 3304,
    "start_time": "2021-09-14T17:25:02.278Z"
   },
   {
    "duration": 1569,
    "start_time": "2021-09-14T17:25:05.585Z"
   },
   {
    "duration": 341,
    "start_time": "2021-09-14T17:25:07.161Z"
   },
   {
    "duration": 196,
    "start_time": "2021-09-14T17:25:07.506Z"
   },
   {
    "duration": 15,
    "start_time": "2021-09-14T17:25:07.705Z"
   },
   {
    "duration": 850,
    "start_time": "2021-09-14T17:25:07.723Z"
   },
   {
    "duration": 37,
    "start_time": "2021-09-14T17:25:08.575Z"
   },
   {
    "duration": 11,
    "start_time": "2021-09-14T17:25:08.614Z"
   },
   {
    "duration": 9,
    "start_time": "2021-09-14T17:25:08.629Z"
   },
   {
    "duration": 194,
    "start_time": "2021-09-14T17:25:08.665Z"
   },
   {
    "duration": 839,
    "start_time": "2021-09-14T17:25:08.862Z"
   },
   {
    "duration": 2270,
    "start_time": "2021-09-14T17:25:09.703Z"
   },
   {
    "duration": 47,
    "start_time": "2021-09-14T17:25:11.976Z"
   },
   {
    "duration": 370,
    "start_time": "2021-09-14T17:25:12.025Z"
   },
   {
    "duration": 6,
    "start_time": "2021-09-14T17:25:12.398Z"
   },
   {
    "duration": 15,
    "start_time": "2021-09-14T17:25:12.407Z"
   },
   {
    "duration": 4,
    "start_time": "2021-09-14T17:25:12.426Z"
   },
   {
    "duration": 293,
    "start_time": "2021-09-14T17:25:12.433Z"
   },
   {
    "duration": 8,
    "start_time": "2021-09-14T17:25:12.729Z"
   },
   {
    "duration": 31,
    "start_time": "2021-09-14T17:25:12.739Z"
   },
   {
    "duration": 10,
    "start_time": "2021-09-14T17:25:12.773Z"
   },
   {
    "duration": 12,
    "start_time": "2021-09-14T17:25:12.786Z"
   },
   {
    "duration": 26,
    "start_time": "2021-09-14T17:25:12.801Z"
   },
   {
    "duration": 1714,
    "start_time": "2021-09-14T17:25:12.830Z"
   },
   {
    "duration": 261,
    "start_time": "2021-09-14T17:25:14.547Z"
   },
   {
    "duration": 13,
    "start_time": "2021-09-14T17:25:14.811Z"
   },
   {
    "duration": 189,
    "start_time": "2021-09-14T17:25:14.832Z"
   },
   {
    "duration": 22,
    "start_time": "2021-09-14T17:25:15.025Z"
   },
   {
    "duration": 18,
    "start_time": "2021-09-14T17:25:15.050Z"
   },
   {
    "duration": 324,
    "start_time": "2021-09-14T17:25:15.071Z"
   },
   {
    "duration": 10,
    "start_time": "2021-09-14T17:25:15.399Z"
   },
   {
    "duration": 118,
    "start_time": "2021-09-14T17:25:15.411Z"
   },
   {
    "duration": 99,
    "start_time": "2021-09-14T17:25:15.534Z"
   },
   {
    "duration": 277,
    "start_time": "2021-09-14T17:25:15.636Z"
   },
   {
    "duration": 13,
    "start_time": "2021-09-14T17:25:15.916Z"
   },
   {
    "duration": 45,
    "start_time": "2021-09-14T17:25:15.932Z"
   },
   {
    "duration": 38,
    "start_time": "2021-09-14T17:25:15.980Z"
   },
   {
    "duration": 123,
    "start_time": "2021-09-14T17:25:16.020Z"
   },
   {
    "duration": 139,
    "start_time": "2021-09-14T17:25:16.146Z"
   },
   {
    "duration": 2124,
    "start_time": "2021-09-14T17:25:16.288Z"
   },
   {
    "duration": 4,
    "start_time": "2021-09-14T17:25:18.416Z"
   },
   {
    "duration": 788,
    "start_time": "2021-09-14T17:25:18.423Z"
   },
   {
    "duration": -11400,
    "start_time": "2021-09-14T17:25:30.615Z"
   },
   {
    "duration": -11404,
    "start_time": "2021-09-14T17:25:30.621Z"
   },
   {
    "duration": -11408,
    "start_time": "2021-09-14T17:25:30.627Z"
   },
   {
    "duration": -11412,
    "start_time": "2021-09-14T17:25:30.633Z"
   },
   {
    "duration": -11417,
    "start_time": "2021-09-14T17:25:30.639Z"
   },
   {
    "duration": -11423,
    "start_time": "2021-09-14T17:25:30.647Z"
   },
   {
    "duration": 4954,
    "start_time": "2021-09-14T17:35:54.729Z"
   },
   {
    "duration": 3612,
    "start_time": "2021-09-14T17:35:59.687Z"
   },
   {
    "duration": 325,
    "start_time": "2021-09-14T17:36:03.302Z"
   },
   {
    "duration": 158,
    "start_time": "2021-09-14T17:36:03.630Z"
   },
   {
    "duration": 12,
    "start_time": "2021-09-14T17:36:03.791Z"
   },
   {
    "duration": 3621,
    "start_time": "2021-09-14T17:36:03.807Z"
   },
   {
    "duration": 64,
    "start_time": "2021-09-14T17:36:07.432Z"
   },
   {
    "duration": 14,
    "start_time": "2021-09-14T17:36:07.502Z"
   },
   {
    "duration": 17,
    "start_time": "2021-09-14T17:36:07.519Z"
   },
   {
    "duration": 195,
    "start_time": "2021-09-14T17:36:07.539Z"
   },
   {
    "duration": 2014,
    "start_time": "2021-09-14T17:36:07.736Z"
   },
   {
    "duration": 2408,
    "start_time": "2021-09-14T17:36:09.753Z"
   },
   {
    "duration": 42,
    "start_time": "2021-09-14T17:36:12.164Z"
   },
   {
    "duration": 390,
    "start_time": "2021-09-14T17:36:12.209Z"
   },
   {
    "duration": 8,
    "start_time": "2021-09-14T17:36:12.601Z"
   },
   {
    "duration": 20,
    "start_time": "2021-09-14T17:36:12.611Z"
   },
   {
    "duration": 15,
    "start_time": "2021-09-14T17:36:12.634Z"
   },
   {
    "duration": 192,
    "start_time": "2021-09-14T17:36:12.651Z"
   },
   {
    "duration": 16,
    "start_time": "2021-09-14T17:36:12.846Z"
   },
   {
    "duration": 8,
    "start_time": "2021-09-14T17:36:12.866Z"
   },
   {
    "duration": 15,
    "start_time": "2021-09-14T17:36:12.877Z"
   },
   {
    "duration": 15,
    "start_time": "2021-09-14T17:36:12.895Z"
   },
   {
    "duration": 33,
    "start_time": "2021-09-14T17:36:12.916Z"
   },
   {
    "duration": 1801,
    "start_time": "2021-09-14T17:36:12.952Z"
   },
   {
    "duration": 269,
    "start_time": "2021-09-14T17:36:14.756Z"
   },
   {
    "duration": 9,
    "start_time": "2021-09-14T17:36:15.027Z"
   },
   {
    "duration": 132,
    "start_time": "2021-09-14T17:36:15.038Z"
   },
   {
    "duration": 4,
    "start_time": "2021-09-14T17:36:15.172Z"
   },
   {
    "duration": 223,
    "start_time": "2021-09-14T17:36:15.179Z"
   },
   {
    "duration": 9,
    "start_time": "2021-09-14T17:36:15.405Z"
   },
   {
    "duration": 108,
    "start_time": "2021-09-14T17:36:15.416Z"
   },
   {
    "duration": 76,
    "start_time": "2021-09-14T17:36:15.527Z"
   },
   {
    "duration": 171,
    "start_time": "2021-09-14T17:36:15.605Z"
   },
   {
    "duration": 9,
    "start_time": "2021-09-14T17:36:15.779Z"
   },
   {
    "duration": 23,
    "start_time": "2021-09-14T17:36:15.790Z"
   },
   {
    "duration": 123,
    "start_time": "2021-09-14T17:36:15.816Z"
   },
   {
    "duration": 103,
    "start_time": "2021-09-14T17:36:15.941Z"
   },
   {
    "duration": 18,
    "start_time": "2021-09-14T17:36:16.047Z"
   },
   {
    "duration": 11,
    "start_time": "2021-09-14T17:36:16.067Z"
   },
   {
    "duration": 1581,
    "start_time": "2021-09-14T17:36:16.081Z"
   },
   {
    "duration": 112,
    "start_time": "2021-09-14T17:36:17.665Z"
   },
   {
    "duration": 28,
    "start_time": "2021-09-14T17:36:17.780Z"
   },
   {
    "duration": 8,
    "start_time": "2021-09-14T17:36:17.811Z"
   },
   {
    "duration": 79,
    "start_time": "2021-09-14T17:36:17.821Z"
   },
   {
    "duration": 45,
    "start_time": "2021-09-14T17:36:17.902Z"
   },
   {
    "duration": 7,
    "start_time": "2021-09-14T17:36:17.963Z"
   },
   {
    "duration": 37,
    "start_time": "2021-09-14T17:37:39.221Z"
   },
   {
    "duration": 3249,
    "start_time": "2021-09-14T20:56:01.532Z"
   },
   {
    "duration": 1877,
    "start_time": "2021-09-14T20:56:04.784Z"
   },
   {
    "duration": 321,
    "start_time": "2021-09-14T20:56:06.664Z"
   },
   {
    "duration": 150,
    "start_time": "2021-09-14T20:56:06.988Z"
   },
   {
    "duration": 10,
    "start_time": "2021-09-14T20:56:07.140Z"
   },
   {
    "duration": 709,
    "start_time": "2021-09-14T20:56:07.161Z"
   },
   {
    "duration": 37,
    "start_time": "2021-09-14T20:56:07.873Z"
   },
   {
    "duration": 11,
    "start_time": "2021-09-14T20:56:07.915Z"
   },
   {
    "duration": 38,
    "start_time": "2021-09-14T20:56:07.930Z"
   },
   {
    "duration": 199,
    "start_time": "2021-09-14T20:56:07.971Z"
   },
   {
    "duration": 811,
    "start_time": "2021-09-14T20:56:08.173Z"
   },
   {
    "duration": 2021,
    "start_time": "2021-09-14T20:56:08.987Z"
   },
   {
    "duration": 46,
    "start_time": "2021-09-14T20:56:11.011Z"
   },
   {
    "duration": 413,
    "start_time": "2021-09-14T20:56:11.060Z"
   },
   {
    "duration": 10,
    "start_time": "2021-09-14T20:56:11.476Z"
   },
   {
    "duration": 13,
    "start_time": "2021-09-14T20:56:11.489Z"
   },
   {
    "duration": 4,
    "start_time": "2021-09-14T20:56:11.505Z"
   },
   {
    "duration": 214,
    "start_time": "2021-09-14T20:56:11.512Z"
   },
   {
    "duration": 9,
    "start_time": "2021-09-14T20:56:11.729Z"
   },
   {
    "duration": 22,
    "start_time": "2021-09-14T20:56:11.740Z"
   },
   {
    "duration": 25,
    "start_time": "2021-09-14T20:56:11.764Z"
   },
   {
    "duration": 17,
    "start_time": "2021-09-14T20:56:11.791Z"
   },
   {
    "duration": 26,
    "start_time": "2021-09-14T20:56:11.813Z"
   },
   {
    "duration": 1745,
    "start_time": "2021-09-14T20:56:11.842Z"
   },
   {
    "duration": 265,
    "start_time": "2021-09-14T20:56:13.589Z"
   },
   {
    "duration": 9,
    "start_time": "2021-09-14T20:56:13.862Z"
   },
   {
    "duration": 120,
    "start_time": "2021-09-14T20:56:13.873Z"
   },
   {
    "duration": 5,
    "start_time": "2021-09-14T20:56:13.996Z"
   },
   {
    "duration": 222,
    "start_time": "2021-09-14T20:56:14.004Z"
   },
   {
    "duration": 11,
    "start_time": "2021-09-14T20:56:14.229Z"
   },
   {
    "duration": 108,
    "start_time": "2021-09-14T20:56:14.243Z"
   },
   {
    "duration": 74,
    "start_time": "2021-09-14T20:56:14.354Z"
   },
   {
    "duration": 186,
    "start_time": "2021-09-14T20:56:14.430Z"
   },
   {
    "duration": 10,
    "start_time": "2021-09-14T20:56:14.619Z"
   },
   {
    "duration": 32,
    "start_time": "2021-09-14T20:56:14.633Z"
   },
   {
    "duration": 121,
    "start_time": "2021-09-14T20:56:14.668Z"
   },
   {
    "duration": 110,
    "start_time": "2021-09-14T20:56:14.792Z"
   },
   {
    "duration": 15,
    "start_time": "2021-09-14T20:56:14.905Z"
   },
   {
    "duration": 1469,
    "start_time": "2021-09-14T20:56:14.923Z"
   },
   {
    "duration": 1656,
    "start_time": "2021-09-14T20:56:16.396Z"
   },
   {
    "duration": 111,
    "start_time": "2021-09-14T20:56:18.063Z"
   },
   {
    "duration": 28,
    "start_time": "2021-09-14T20:56:18.176Z"
   },
   {
    "duration": 9,
    "start_time": "2021-09-14T20:56:18.207Z"
   },
   {
    "duration": 88,
    "start_time": "2021-09-14T20:56:18.218Z"
   },
   {
    "duration": 41,
    "start_time": "2021-09-14T20:56:18.309Z"
   },
   {
    "duration": 7,
    "start_time": "2021-09-14T20:56:18.362Z"
   },
   {
    "duration": 21611,
    "start_time": "2021-09-15T05:23:29.850Z"
   },
   {
    "duration": 1624,
    "start_time": "2021-09-15T05:23:51.463Z"
   },
   {
    "duration": 334,
    "start_time": "2021-09-15T05:23:53.091Z"
   },
   {
    "duration": 133,
    "start_time": "2021-09-15T05:23:53.428Z"
   },
   {
    "duration": 10,
    "start_time": "2021-09-15T05:23:53.564Z"
   },
   {
    "duration": 877,
    "start_time": "2021-09-15T05:23:53.577Z"
   },
   {
    "duration": 36,
    "start_time": "2021-09-15T05:23:54.457Z"
   },
   {
    "duration": 11,
    "start_time": "2021-09-15T05:23:54.497Z"
   },
   {
    "duration": 12,
    "start_time": "2021-09-15T05:23:54.511Z"
   },
   {
    "duration": 218,
    "start_time": "2021-09-15T05:23:54.525Z"
   },
   {
    "duration": 904,
    "start_time": "2021-09-15T05:23:54.745Z"
   },
   {
    "duration": 2239,
    "start_time": "2021-09-15T05:23:55.652Z"
   },
   {
    "duration": 43,
    "start_time": "2021-09-15T05:23:57.895Z"
   },
   {
    "duration": 379,
    "start_time": "2021-09-15T05:23:57.940Z"
   },
   {
    "duration": 7,
    "start_time": "2021-09-15T05:23:58.321Z"
   },
   {
    "duration": 28,
    "start_time": "2021-09-15T05:23:58.330Z"
   },
   {
    "duration": 15,
    "start_time": "2021-09-15T05:23:58.360Z"
   },
   {
    "duration": 193,
    "start_time": "2021-09-15T05:23:58.377Z"
   },
   {
    "duration": 8,
    "start_time": "2021-09-15T05:23:58.573Z"
   },
   {
    "duration": 12,
    "start_time": "2021-09-15T05:23:58.584Z"
   },
   {
    "duration": 14,
    "start_time": "2021-09-15T05:23:58.599Z"
   },
   {
    "duration": 11,
    "start_time": "2021-09-15T05:23:58.616Z"
   },
   {
    "duration": 46,
    "start_time": "2021-09-15T05:23:58.632Z"
   },
   {
    "duration": 1792,
    "start_time": "2021-09-15T05:23:58.681Z"
   },
   {
    "duration": 271,
    "start_time": "2021-09-15T05:24:00.475Z"
   },
   {
    "duration": 18,
    "start_time": "2021-09-15T05:24:00.748Z"
   },
   {
    "duration": 134,
    "start_time": "2021-09-15T05:24:00.769Z"
   },
   {
    "duration": 12,
    "start_time": "2021-09-15T05:24:00.905Z"
   },
   {
    "duration": 222,
    "start_time": "2021-09-15T05:24:00.919Z"
   },
   {
    "duration": 23,
    "start_time": "2021-09-15T05:24:01.144Z"
   },
   {
    "duration": 105,
    "start_time": "2021-09-15T05:24:01.169Z"
   },
   {
    "duration": 86,
    "start_time": "2021-09-15T05:24:01.276Z"
   },
   {
    "duration": 171,
    "start_time": "2021-09-15T05:24:01.364Z"
   },
   {
    "duration": 9,
    "start_time": "2021-09-15T05:24:01.537Z"
   },
   {
    "duration": 46,
    "start_time": "2021-09-15T05:24:01.548Z"
   },
   {
    "duration": 115,
    "start_time": "2021-09-15T05:24:01.597Z"
   },
   {
    "duration": 109,
    "start_time": "2021-09-15T05:24:01.714Z"
   },
   {
    "duration": 14,
    "start_time": "2021-09-15T05:24:01.825Z"
   },
   {
    "duration": 1456,
    "start_time": "2021-09-15T05:24:01.842Z"
   },
   {
    "duration": 1509,
    "start_time": "2021-09-15T05:24:03.300Z"
   },
   {
    "duration": 113,
    "start_time": "2021-09-15T05:24:04.811Z"
   },
   {
    "duration": 40,
    "start_time": "2021-09-15T05:24:04.927Z"
   },
   {
    "duration": 7,
    "start_time": "2021-09-15T05:24:04.969Z"
   },
   {
    "duration": 72,
    "start_time": "2021-09-15T05:24:04.978Z"
   },
   {
    "duration": 47,
    "start_time": "2021-09-15T05:24:05.052Z"
   },
   {
    "duration": 7,
    "start_time": "2021-09-15T05:24:05.101Z"
   },
   {
    "duration": 10,
    "start_time": "2021-09-15T07:15:18.001Z"
   },
   {
    "duration": 18,
    "start_time": "2021-09-15T07:16:59.233Z"
   },
   {
    "duration": 554,
    "start_time": "2021-09-15T07:17:13.832Z"
   },
   {
    "duration": 10,
    "start_time": "2021-09-15T07:17:18.592Z"
   },
   {
    "duration": 10,
    "start_time": "2021-09-15T07:17:26.968Z"
   },
   {
    "duration": 336,
    "start_time": "2021-09-15T07:18:22.936Z"
   },
   {
    "duration": 4799,
    "start_time": "2021-09-15T07:18:29.872Z"
   },
   {
    "duration": 476,
    "start_time": "2021-09-15T07:18:47.952Z"
   },
   {
    "duration": 369,
    "start_time": "2021-09-15T07:18:58.416Z"
   },
   {
    "duration": 576,
    "start_time": "2021-09-15T07:19:45.384Z"
   },
   {
    "duration": 314,
    "start_time": "2021-09-15T07:21:49.839Z"
   },
   {
    "duration": 124,
    "start_time": "2021-09-15T07:21:54.983Z"
   },
   {
    "duration": 184,
    "start_time": "2021-09-15T07:22:04.518Z"
   },
   {
    "duration": 434,
    "start_time": "2021-09-15T07:22:46.696Z"
   },
   {
    "duration": 178,
    "start_time": "2021-09-15T07:22:52.087Z"
   },
   {
    "duration": 119,
    "start_time": "2021-09-15T07:23:02.439Z"
   },
   {
    "duration": 92,
    "start_time": "2021-09-15T07:23:02.732Z"
   },
   {
    "duration": 214,
    "start_time": "2021-09-15T07:24:13.783Z"
   },
   {
    "duration": 136,
    "start_time": "2021-09-15T07:24:24.942Z"
   },
   {
    "duration": 131,
    "start_time": "2021-09-15T07:26:55.756Z"
   },
   {
    "duration": 161,
    "start_time": "2021-09-15T07:28:01.211Z"
   },
   {
    "duration": 146,
    "start_time": "2021-09-15T07:28:37.822Z"
   },
   {
    "duration": 26,
    "start_time": "2021-09-15T07:29:19.333Z"
   },
   {
    "duration": 28,
    "start_time": "2021-09-15T07:29:50.021Z"
   },
   {
    "duration": 33,
    "start_time": "2021-09-15T07:30:15.572Z"
   },
   {
    "duration": 28,
    "start_time": "2021-09-15T07:31:48.076Z"
   },
   {
    "duration": 29,
    "start_time": "2021-09-15T07:31:55.827Z"
   },
   {
    "duration": 37,
    "start_time": "2021-09-15T07:32:14.580Z"
   },
   {
    "duration": 27,
    "start_time": "2021-09-15T07:32:26.861Z"
   },
   {
    "duration": 56,
    "start_time": "2021-09-15T07:35:44.114Z"
   },
   {
    "duration": 27,
    "start_time": "2021-09-15T07:36:17.847Z"
   },
   {
    "duration": 3183,
    "start_time": "2021-09-15T07:51:33.814Z"
   },
   {
    "duration": 1544,
    "start_time": "2021-09-15T07:51:37.000Z"
   },
   {
    "duration": 318,
    "start_time": "2021-09-15T07:51:38.550Z"
   },
   {
    "duration": 130,
    "start_time": "2021-09-15T07:51:38.870Z"
   },
   {
    "duration": 10,
    "start_time": "2021-09-15T07:51:39.002Z"
   },
   {
    "duration": 896,
    "start_time": "2021-09-15T07:51:39.014Z"
   },
   {
    "duration": 33,
    "start_time": "2021-09-15T07:51:39.914Z"
   },
   {
    "duration": 11,
    "start_time": "2021-09-15T07:51:39.964Z"
   },
   {
    "duration": 8,
    "start_time": "2021-09-15T07:51:39.979Z"
   },
   {
    "duration": 203,
    "start_time": "2021-09-15T07:51:39.989Z"
   },
   {
    "duration": 857,
    "start_time": "2021-09-15T07:51:40.195Z"
   },
   {
    "duration": 1907,
    "start_time": "2021-09-15T07:51:41.054Z"
   },
   {
    "duration": 43,
    "start_time": "2021-09-15T07:51:42.964Z"
   },
   {
    "duration": 382,
    "start_time": "2021-09-15T07:51:43.009Z"
   },
   {
    "duration": 7,
    "start_time": "2021-09-15T07:51:43.393Z"
   },
   {
    "duration": 15,
    "start_time": "2021-09-15T07:51:43.402Z"
   },
   {
    "duration": 5,
    "start_time": "2021-09-15T07:51:43.419Z"
   },
   {
    "duration": 194,
    "start_time": "2021-09-15T07:51:43.426Z"
   },
   {
    "duration": 8,
    "start_time": "2021-09-15T07:51:43.623Z"
   },
   {
    "duration": 12,
    "start_time": "2021-09-15T07:51:43.634Z"
   },
   {
    "duration": 5,
    "start_time": "2021-09-15T07:51:43.661Z"
   },
   {
    "duration": 8,
    "start_time": "2021-09-15T07:51:43.671Z"
   },
   {
    "duration": 21,
    "start_time": "2021-09-15T07:51:43.682Z"
   },
   {
    "duration": 1757,
    "start_time": "2021-09-15T07:51:43.705Z"
   },
   {
    "duration": 258,
    "start_time": "2021-09-15T07:51:45.464Z"
   },
   {
    "duration": 8,
    "start_time": "2021-09-15T07:51:45.725Z"
   },
   {
    "duration": 97,
    "start_time": "2021-09-15T07:51:45.736Z"
   },
   {
    "duration": 5,
    "start_time": "2021-09-15T07:51:45.863Z"
   },
   {
    "duration": 229,
    "start_time": "2021-09-15T07:51:45.871Z"
   },
   {
    "duration": 9,
    "start_time": "2021-09-15T07:51:46.102Z"
   },
   {
    "duration": 103,
    "start_time": "2021-09-15T07:51:46.113Z"
   },
   {
    "duration": 84,
    "start_time": "2021-09-15T07:51:46.218Z"
   },
   {
    "duration": 167,
    "start_time": "2021-09-15T07:51:46.304Z"
   },
   {
    "duration": 9,
    "start_time": "2021-09-15T07:51:46.473Z"
   },
   {
    "duration": 25,
    "start_time": "2021-09-15T07:51:46.484Z"
   },
   {
    "duration": 117,
    "start_time": "2021-09-15T07:51:46.511Z"
   },
   {
    "duration": 95,
    "start_time": "2021-09-15T07:51:46.630Z"
   },
   {
    "duration": 15,
    "start_time": "2021-09-15T07:51:46.727Z"
   },
   {
    "duration": 1494,
    "start_time": "2021-09-15T07:51:46.744Z"
   },
   {
    "duration": 1487,
    "start_time": "2021-09-15T07:51:48.240Z"
   },
   {
    "duration": 119,
    "start_time": "2021-09-15T07:51:49.730Z"
   },
   {
    "duration": 27,
    "start_time": "2021-09-15T07:51:49.851Z"
   },
   {
    "duration": 27,
    "start_time": "2021-09-15T07:51:49.880Z"
   },
   {
    "duration": 7,
    "start_time": "2021-09-15T07:51:49.910Z"
   },
   {
    "duration": 86,
    "start_time": "2021-09-15T07:51:49.920Z"
   },
   {
    "duration": 60,
    "start_time": "2021-09-15T07:51:50.009Z"
   },
   {
    "duration": 7,
    "start_time": "2021-09-15T07:51:50.072Z"
   },
   {
    "duration": 18944,
    "start_time": "2021-09-15T17:13:23.505Z"
   },
   {
    "duration": 1595,
    "start_time": "2021-09-15T17:13:42.451Z"
   },
   {
    "duration": 769,
    "start_time": "2021-09-15T17:13:44.048Z"
   },
   {
    "duration": 134,
    "start_time": "2021-09-15T17:13:44.820Z"
   },
   {
    "duration": 10,
    "start_time": "2021-09-15T17:13:44.957Z"
   },
   {
    "duration": 827,
    "start_time": "2021-09-15T17:13:44.969Z"
   },
   {
    "duration": 33,
    "start_time": "2021-09-15T17:13:45.799Z"
   },
   {
    "duration": 26,
    "start_time": "2021-09-15T17:13:45.835Z"
   },
   {
    "duration": 30,
    "start_time": "2021-09-15T17:13:45.865Z"
   },
   {
    "duration": 192,
    "start_time": "2021-09-15T17:13:45.898Z"
   },
   {
    "duration": 820,
    "start_time": "2021-09-15T17:13:46.092Z"
   },
   {
    "duration": 1939,
    "start_time": "2021-09-15T17:13:46.915Z"
   },
   {
    "duration": 48,
    "start_time": "2021-09-15T17:13:48.857Z"
   },
   {
    "duration": 383,
    "start_time": "2021-09-15T17:13:48.908Z"
   },
   {
    "duration": 7,
    "start_time": "2021-09-15T17:13:49.294Z"
   },
   {
    "duration": 12,
    "start_time": "2021-09-15T17:13:49.304Z"
   },
   {
    "duration": 9,
    "start_time": "2021-09-15T17:13:49.319Z"
   },
   {
    "duration": 242,
    "start_time": "2021-09-15T17:13:49.330Z"
   },
   {
    "duration": 12,
    "start_time": "2021-09-15T17:13:49.576Z"
   },
   {
    "duration": 17,
    "start_time": "2021-09-15T17:13:49.590Z"
   },
   {
    "duration": 10,
    "start_time": "2021-09-15T17:13:49.609Z"
   },
   {
    "duration": 33,
    "start_time": "2021-09-15T17:13:49.621Z"
   },
   {
    "duration": 37,
    "start_time": "2021-09-15T17:13:49.660Z"
   },
   {
    "duration": 1799,
    "start_time": "2021-09-15T17:13:49.700Z"
   },
   {
    "duration": 308,
    "start_time": "2021-09-15T17:13:51.502Z"
   },
   {
    "duration": 8,
    "start_time": "2021-09-15T17:13:51.812Z"
   },
   {
    "duration": 107,
    "start_time": "2021-09-15T17:13:51.822Z"
   },
   {
    "duration": 25,
    "start_time": "2021-09-15T17:13:51.932Z"
   },
   {
    "duration": 243,
    "start_time": "2021-09-15T17:13:51.959Z"
   },
   {
    "duration": 9,
    "start_time": "2021-09-15T17:13:52.204Z"
   },
   {
    "duration": 112,
    "start_time": "2021-09-15T17:13:52.216Z"
   },
   {
    "duration": 72,
    "start_time": "2021-09-15T17:13:52.330Z"
   },
   {
    "duration": 171,
    "start_time": "2021-09-15T17:13:52.404Z"
   },
   {
    "duration": 11,
    "start_time": "2021-09-15T17:13:52.577Z"
   },
   {
    "duration": 27,
    "start_time": "2021-09-15T17:13:52.590Z"
   },
   {
    "duration": 222,
    "start_time": "2021-09-15T17:13:52.619Z"
   },
   {
    "duration": 113,
    "start_time": "2021-09-15T17:13:52.844Z"
   },
   {
    "duration": 16,
    "start_time": "2021-09-15T17:13:52.960Z"
   },
   {
    "duration": 1693,
    "start_time": "2021-09-15T17:13:52.978Z"
   },
   {
    "duration": 1655,
    "start_time": "2021-09-15T17:13:54.674Z"
   },
   {
    "duration": 142,
    "start_time": "2021-09-15T17:13:56.332Z"
   },
   {
    "duration": 31,
    "start_time": "2021-09-15T17:13:56.477Z"
   },
   {
    "duration": 26,
    "start_time": "2021-09-15T17:13:56.510Z"
   },
   {
    "duration": 7,
    "start_time": "2021-09-15T17:13:56.556Z"
   },
   {
    "duration": 69,
    "start_time": "2021-09-15T17:13:56.566Z"
   },
   {
    "duration": 49,
    "start_time": "2021-09-15T17:13:56.637Z"
   },
   {
    "duration": 7,
    "start_time": "2021-09-15T17:13:56.689Z"
   },
   {
    "duration": 37,
    "start_time": "2021-09-15T17:14:53.572Z"
   },
   {
    "duration": 40,
    "start_time": "2021-09-15T17:15:25.753Z"
   },
   {
    "duration": 27,
    "start_time": "2021-09-15T17:16:13.501Z"
   },
   {
    "duration": 35,
    "start_time": "2021-09-15T17:16:29.854Z"
   },
   {
    "duration": 49,
    "start_time": "2021-09-15T17:16:37.430Z"
   },
   {
    "duration": 30,
    "start_time": "2021-09-15T17:19:38.934Z"
   },
   {
    "duration": 51,
    "start_time": "2021-09-15T17:19:57.248Z"
   },
   {
    "duration": 16,
    "start_time": "2021-09-15T17:20:12.360Z"
   },
   {
    "duration": 41,
    "start_time": "2021-09-15T17:20:18.582Z"
   },
   {
    "duration": 17,
    "start_time": "2021-09-15T17:43:25.109Z"
   },
   {
    "duration": 18,
    "start_time": "2021-09-15T17:44:04.523Z"
   },
   {
    "duration": 116,
    "start_time": "2021-09-15T17:45:28.740Z"
   },
   {
    "duration": 13,
    "start_time": "2021-09-15T17:46:48.389Z"
   },
   {
    "duration": 1427,
    "start_time": "2021-09-15T17:46:50.710Z"
   },
   {
    "duration": 13,
    "start_time": "2021-09-15T17:48:27.046Z"
   },
   {
    "duration": 1474,
    "start_time": "2021-09-15T17:48:29.102Z"
   },
   {
    "duration": 1429,
    "start_time": "2021-09-15T17:48:41.044Z"
   },
   {
    "duration": 23,
    "start_time": "2021-09-15T17:49:11.583Z"
   },
   {
    "duration": 117,
    "start_time": "2021-09-15T18:05:13.546Z"
   },
   {
    "duration": 12,
    "start_time": "2021-09-15T18:05:36.493Z"
   },
   {
    "duration": 27,
    "start_time": "2021-09-15T18:05:43.493Z"
   },
   {
    "duration": 16,
    "start_time": "2021-09-15T18:10:31.992Z"
   },
   {
    "duration": 127,
    "start_time": "2021-09-15T18:17:27.531Z"
   },
   {
    "duration": 1469,
    "start_time": "2021-09-15T18:17:30.399Z"
   },
   {
    "duration": 39,
    "start_time": "2021-09-15T19:10:11.804Z"
   },
   {
    "duration": 35,
    "start_time": "2021-09-15T19:13:12.900Z"
   },
   {
    "duration": 9,
    "start_time": "2021-09-15T19:36:08.360Z"
   },
   {
    "duration": 37,
    "start_time": "2021-09-15T19:37:10.009Z"
   },
   {
    "duration": 14,
    "start_time": "2021-09-15T19:37:37.476Z"
   },
   {
    "duration": 10,
    "start_time": "2021-09-15T19:37:39.126Z"
   },
   {
    "duration": 14,
    "start_time": "2021-09-15T19:37:45.607Z"
   },
   {
    "duration": 10,
    "start_time": "2021-09-15T19:37:50.063Z"
   },
   {
    "duration": 10,
    "start_time": "2021-09-15T19:37:55.399Z"
   },
   {
    "duration": 14,
    "start_time": "2021-09-15T19:38:03.810Z"
   },
   {
    "duration": 12,
    "start_time": "2021-09-15T19:40:19.970Z"
   },
   {
    "duration": 16,
    "start_time": "2021-09-15T19:40:25.943Z"
   },
   {
    "duration": 15,
    "start_time": "2021-09-15T19:41:27.311Z"
   },
   {
    "duration": 12,
    "start_time": "2021-09-15T19:41:37.231Z"
   },
   {
    "duration": 16,
    "start_time": "2021-09-15T19:41:39.687Z"
   },
   {
    "duration": 143,
    "start_time": "2021-09-15T19:47:06.688Z"
   },
   {
    "duration": 8,
    "start_time": "2021-09-15T19:47:13.235Z"
   },
   {
    "duration": 116,
    "start_time": "2021-09-15T19:48:56.661Z"
   },
   {
    "duration": 101,
    "start_time": "2021-09-15T19:49:26.894Z"
   },
   {
    "duration": 9,
    "start_time": "2021-09-15T19:49:38.839Z"
   },
   {
    "duration": 7,
    "start_time": "2021-09-15T19:49:44.532Z"
   },
   {
    "duration": 8,
    "start_time": "2021-09-15T19:49:59.727Z"
   },
   {
    "duration": 7,
    "start_time": "2021-09-15T19:50:01.923Z"
   },
   {
    "duration": 36,
    "start_time": "2021-09-15T19:51:56.611Z"
   },
   {
    "duration": 100,
    "start_time": "2021-09-15T19:58:14.172Z"
   },
   {
    "duration": 6010,
    "start_time": "2021-09-15T20:03:27.940Z"
   },
   {
    "duration": 35,
    "start_time": "2021-09-15T20:03:52.990Z"
   },
   {
    "duration": 15,
    "start_time": "2021-09-15T20:04:14.447Z"
   },
   {
    "duration": 55,
    "start_time": "2021-09-15T20:05:17.579Z"
   },
   {
    "duration": 22,
    "start_time": "2021-09-15T20:05:47.358Z"
   },
   {
    "duration": 8,
    "start_time": "2021-09-15T20:07:22.520Z"
   },
   {
    "duration": 13,
    "start_time": "2021-09-15T20:07:53.285Z"
   },
   {
    "duration": 7,
    "start_time": "2021-09-15T20:07:55.222Z"
   },
   {
    "duration": 40,
    "start_time": "2021-09-15T20:08:01.784Z"
   },
   {
    "duration": 21,
    "start_time": "2021-09-15T20:13:17.162Z"
   },
   {
    "duration": 626,
    "start_time": "2021-09-15T20:13:24.118Z"
   },
   {
    "duration": 27,
    "start_time": "2021-09-15T20:13:28.668Z"
   },
   {
    "duration": 22,
    "start_time": "2021-09-15T20:13:56.093Z"
   },
   {
    "duration": 7,
    "start_time": "2021-09-15T20:14:01.858Z"
   },
   {
    "duration": 10,
    "start_time": "2021-09-15T20:19:03.995Z"
   },
   {
    "duration": 8,
    "start_time": "2021-09-15T20:19:10.579Z"
   },
   {
    "duration": 3529,
    "start_time": "2021-09-15T20:25:58.468Z"
   },
   {
    "duration": 1987,
    "start_time": "2021-09-15T20:26:02.000Z"
   },
   {
    "duration": 406,
    "start_time": "2021-09-15T20:26:03.990Z"
   },
   {
    "duration": 186,
    "start_time": "2021-09-15T20:26:04.399Z"
   },
   {
    "duration": 14,
    "start_time": "2021-09-15T20:26:04.588Z"
   },
   {
    "duration": 1052,
    "start_time": "2021-09-15T20:26:04.605Z"
   },
   {
    "duration": 36,
    "start_time": "2021-09-15T20:26:05.660Z"
   },
   {
    "duration": 58,
    "start_time": "2021-09-15T20:26:05.699Z"
   },
   {
    "duration": 39,
    "start_time": "2021-09-15T20:26:05.761Z"
   },
   {
    "duration": 242,
    "start_time": "2021-09-15T20:26:05.804Z"
   },
   {
    "duration": 870,
    "start_time": "2021-09-15T20:26:06.048Z"
   },
   {
    "duration": 1978,
    "start_time": "2021-09-15T20:26:06.921Z"
   },
   {
    "duration": 45,
    "start_time": "2021-09-15T20:26:08.901Z"
   },
   {
    "duration": 383,
    "start_time": "2021-09-15T20:26:08.948Z"
   },
   {
    "duration": 10,
    "start_time": "2021-09-15T20:26:09.334Z"
   },
   {
    "duration": 34,
    "start_time": "2021-09-15T20:26:09.346Z"
   },
   {
    "duration": 6,
    "start_time": "2021-09-15T20:26:09.383Z"
   },
   {
    "duration": 221,
    "start_time": "2021-09-15T20:26:09.391Z"
   },
   {
    "duration": 10,
    "start_time": "2021-09-15T20:26:09.615Z"
   },
   {
    "duration": 30,
    "start_time": "2021-09-15T20:26:09.628Z"
   },
   {
    "duration": 20,
    "start_time": "2021-09-15T20:26:09.661Z"
   },
   {
    "duration": 15,
    "start_time": "2021-09-15T20:26:09.684Z"
   },
   {
    "duration": 31,
    "start_time": "2021-09-15T20:26:09.701Z"
   },
   {
    "duration": 1866,
    "start_time": "2021-09-15T20:26:09.734Z"
   },
   {
    "duration": 257,
    "start_time": "2021-09-15T20:26:11.603Z"
   },
   {
    "duration": 9,
    "start_time": "2021-09-15T20:26:11.862Z"
   },
   {
    "duration": 124,
    "start_time": "2021-09-15T20:26:11.876Z"
   },
   {
    "duration": 5,
    "start_time": "2021-09-15T20:26:12.002Z"
   },
   {
    "duration": 203,
    "start_time": "2021-09-15T20:26:12.009Z"
   },
   {
    "duration": 9,
    "start_time": "2021-09-15T20:26:12.214Z"
   },
   {
    "duration": 105,
    "start_time": "2021-09-15T20:26:12.226Z"
   },
   {
    "duration": 68,
    "start_time": "2021-09-15T20:26:12.333Z"
   },
   {
    "duration": 169,
    "start_time": "2021-09-15T20:26:12.404Z"
   },
   {
    "duration": 9,
    "start_time": "2021-09-15T20:26:12.575Z"
   },
   {
    "duration": 39,
    "start_time": "2021-09-15T20:26:12.587Z"
   },
   {
    "duration": 103,
    "start_time": "2021-09-15T20:26:12.628Z"
   },
   {
    "duration": 32,
    "start_time": "2021-09-15T20:26:12.734Z"
   },
   {
    "duration": 108,
    "start_time": "2021-09-15T20:26:12.769Z"
   },
   {
    "duration": 14,
    "start_time": "2021-09-15T20:26:12.880Z"
   },
   {
    "duration": 1636,
    "start_time": "2021-09-15T20:26:12.897Z"
   },
   {
    "duration": 1606,
    "start_time": "2021-09-15T20:26:14.535Z"
   },
   {
    "duration": 126,
    "start_time": "2021-09-15T20:26:16.144Z"
   },
   {
    "duration": 27,
    "start_time": "2021-09-15T20:26:16.273Z"
   },
   {
    "duration": 30,
    "start_time": "2021-09-15T20:26:16.302Z"
   },
   {
    "duration": 17,
    "start_time": "2021-09-15T20:26:16.355Z"
   },
   {
    "duration": 55,
    "start_time": "2021-09-15T20:26:16.375Z"
   },
   {
    "duration": 54,
    "start_time": "2021-09-15T20:26:16.433Z"
   },
   {
    "duration": 7,
    "start_time": "2021-09-15T20:26:16.489Z"
   },
   {
    "duration": 2136,
    "start_time": "2021-09-18T15:55:30.401Z"
   },
   {
    "duration": 1237,
    "start_time": "2021-09-18T15:55:32.539Z"
   },
   {
    "duration": 244,
    "start_time": "2021-09-18T15:55:33.778Z"
   },
   {
    "duration": 95,
    "start_time": "2021-09-18T15:55:34.024Z"
   },
   {
    "duration": 7,
    "start_time": "2021-09-18T15:55:34.121Z"
   },
   {
    "duration": 547,
    "start_time": "2021-09-18T15:55:34.129Z"
   },
   {
    "duration": 25,
    "start_time": "2021-09-18T15:55:34.678Z"
   },
   {
    "duration": 8,
    "start_time": "2021-09-18T15:55:34.707Z"
   },
   {
    "duration": 6,
    "start_time": "2021-09-18T15:55:34.717Z"
   },
   {
    "duration": 154,
    "start_time": "2021-09-18T15:55:34.724Z"
   },
   {
    "duration": 588,
    "start_time": "2021-09-18T15:55:34.880Z"
   },
   {
    "duration": 1437,
    "start_time": "2021-09-18T15:55:35.470Z"
   },
   {
    "duration": 31,
    "start_time": "2021-09-18T15:55:36.909Z"
   },
   {
    "duration": 220,
    "start_time": "2021-09-18T15:55:36.942Z"
   },
   {
    "duration": 6,
    "start_time": "2021-09-18T15:55:37.163Z"
   },
   {
    "duration": 6,
    "start_time": "2021-09-18T15:55:37.170Z"
   },
   {
    "duration": 5,
    "start_time": "2021-09-18T15:55:37.177Z"
   },
   {
    "duration": 124,
    "start_time": "2021-09-18T15:55:37.184Z"
   },
   {
    "duration": 6,
    "start_time": "2021-09-18T15:55:37.310Z"
   },
   {
    "duration": 11,
    "start_time": "2021-09-18T15:55:37.318Z"
   },
   {
    "duration": 6,
    "start_time": "2021-09-18T15:55:37.331Z"
   },
   {
    "duration": 8,
    "start_time": "2021-09-18T15:55:37.339Z"
   },
   {
    "duration": 15,
    "start_time": "2021-09-18T15:55:37.350Z"
   },
   {
    "duration": 1122,
    "start_time": "2021-09-18T15:55:37.367Z"
   },
   {
    "duration": 221,
    "start_time": "2021-09-18T15:55:38.491Z"
   },
   {
    "duration": 6,
    "start_time": "2021-09-18T15:55:38.714Z"
   },
   {
    "duration": 65,
    "start_time": "2021-09-18T15:55:38.722Z"
   },
   {
    "duration": 19,
    "start_time": "2021-09-18T15:55:38.789Z"
   },
   {
    "duration": 212,
    "start_time": "2021-09-18T15:55:38.810Z"
   },
   {
    "duration": 7,
    "start_time": "2021-09-18T15:55:39.050Z"
   },
   {
    "duration": 58,
    "start_time": "2021-09-18T15:55:39.059Z"
   },
   {
    "duration": 75,
    "start_time": "2021-09-18T15:55:39.119Z"
   },
   {
    "duration": 199,
    "start_time": "2021-09-18T15:55:39.196Z"
   },
   {
    "duration": 8,
    "start_time": "2021-09-18T15:55:39.397Z"
   },
   {
    "duration": 19,
    "start_time": "2021-09-18T15:55:39.407Z"
   },
   {
    "duration": 108,
    "start_time": "2021-09-18T15:55:39.428Z"
   },
   {
    "duration": 24,
    "start_time": "2021-09-18T15:55:39.538Z"
   },
   {
    "duration": 89,
    "start_time": "2021-09-18T15:55:39.564Z"
   },
   {
    "duration": 13,
    "start_time": "2021-09-18T15:55:39.656Z"
   },
   {
    "duration": 1302,
    "start_time": "2021-09-18T15:55:39.671Z"
   },
   {
    "duration": 1334,
    "start_time": "2021-09-18T15:55:40.975Z"
   },
   {
    "duration": 113,
    "start_time": "2021-09-18T15:55:42.311Z"
   },
   {
    "duration": 34,
    "start_time": "2021-09-18T15:55:42.426Z"
   },
   {
    "duration": 28,
    "start_time": "2021-09-18T15:55:42.462Z"
   },
   {
    "duration": 5,
    "start_time": "2021-09-18T15:55:42.492Z"
   },
   {
    "duration": 54,
    "start_time": "2021-09-18T15:55:42.499Z"
   },
   {
    "duration": 30,
    "start_time": "2021-09-18T15:55:42.555Z"
   },
   {
    "duration": 4,
    "start_time": "2021-09-18T15:55:42.587Z"
   }
  ],
  "kernelspec": {
   "display_name": "Python 3",
   "language": "python",
   "name": "python3"
  },
  "language_info": {
   "codemirror_mode": {
    "name": "ipython",
    "version": 3
   },
   "file_extension": ".py",
   "mimetype": "text/x-python",
   "name": "python",
   "nbconvert_exporter": "python",
   "pygments_lexer": "ipython3",
   "version": "3.8.5"
  },
  "latex_envs": {
   "LaTeX_envs_menu_present": true,
   "autoclose": false,
   "autocomplete": true,
   "bibliofile": "biblio.bib",
   "cite_by": "apalike",
   "current_citInitial": 1,
   "eqLabelWithNumbers": true,
   "eqNumInitial": 1,
   "hotkeys": {
    "equation": "Ctrl-E",
    "itemize": "Ctrl-I"
   },
   "labels_anchors": false,
   "latex_user_defs": false,
   "report_style_numbering": false,
   "user_envs_cfg": false
  },
  "toc": {
   "base_numbering": 1,
   "nav_menu": {},
   "number_sections": false,
   "sideBar": true,
   "skip_h1_title": false,
   "title_cell": "Table of Contents",
   "title_sidebar": "Contents",
   "toc_cell": false,
   "toc_position": {
    "height": "622.667px",
    "left": "41px",
    "top": "165.778px",
    "width": "214.891px"
   },
   "toc_section_display": true,
   "toc_window_display": true
  },
  "varInspector": {
   "cols": {
    "lenName": 16,
    "lenType": 16,
    "lenVar": 40
   },
   "kernels_config": {
    "python": {
     "delete_cmd_postfix": "",
     "delete_cmd_prefix": "del ",
     "library": "var_list.py",
     "varRefreshCmd": "print(var_dic_list())"
    },
    "r": {
     "delete_cmd_postfix": ") ",
     "delete_cmd_prefix": "rm(",
     "library": "var_list.r",
     "varRefreshCmd": "cat(var_dic_list()) "
    }
   },
   "types_to_exclude": [
    "module",
    "function",
    "builtin_function_or_method",
    "instance",
    "_Feature"
   ],
   "window_display": false
  }
 },
 "nbformat": 4,
 "nbformat_minor": 2
}
