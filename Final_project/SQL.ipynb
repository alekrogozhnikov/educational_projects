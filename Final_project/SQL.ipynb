{
 "cells": [
  {
   "cell_type": "markdown",
   "metadata": {},
   "source": [
    "<b style=\"font-size:34px; line-height:1.2\"><center>SQL</b></center>"
   ]
  },
  {
   "cell_type": "markdown",
   "metadata": {},
   "source": [
    "Компания решила быть на волне и купила крупный сервис для чтения книг по подписке. Первая задача как аналитика — проанализировать базу данных.\n",
    "В ней — информация о книгах, издательствах, авторах, а также пользовательские обзоры книг."
   ]
  },
  {
   "cell_type": "markdown",
   "metadata": {},
   "source": [
    "<b style=\"font-size:20px; line-height:1.2\"><center>Структура данных</b></center>\n",
    "\n",
    "Таблица **books** (содержит данные о книгах):\n",
    "\n",
    "- `book_id` — идентификатор книги;\n",
    "- `author_id` — идентификатор автора;\n",
    "- `title` — название книги;\n",
    "- `num_pages` — количество страниц;\n",
    "- `publication_date` — дата публикации книги;\n",
    "- `publisher_id` — идентификатор издателя.\n",
    "\n",
    "Таблица **authors** (содержит данные об авторах):\n",
    "\n",
    "- `author_id` — идентификатор автора;\n",
    "- `author` — имя автора.\n",
    "\n",
    "Таблица **publishers** (содержит данные об издательствах):\n",
    "\n",
    "- `publisher_id` — идентификатор издательства;\n",
    "- `publisher` — название издательства;\n",
    "\n",
    "Таблица **ratings** (содержит данные о пользовательских оценках книг):\n",
    "\n",
    "- `rating_id` — идентификатор оценки;\n",
    "- `book_id` — идентификатор книги;\n",
    "- `username` — имя пользователя, оставившего оценку;\n",
    "- `rating` — оценка книги.\n",
    "\n",
    "Таблица **reviews** (содержит данные о пользовательских обзорах на книги):\n",
    "\n",
    "- `review_id` — идентификатор обзора;\n",
    "- `book_id` — идентификатор книги;\n",
    "- `username` — имя пользователя, написавшего обзор;\n",
    "- `text` — текст обзора."
   ]
  },
  {
   "cell_type": "markdown",
   "metadata": {},
   "source": [
    "<b style=\"font-size:20px; line-height:1.2\"><center>SQL-запрос</b></center>"
   ]
  },
  {
   "cell_type": "markdown",
   "metadata": {},
   "source": [
    "## 1. Первые строки каждой таблицы:"
   ]
  },
  {
   "cell_type": "markdown",
   "metadata": {},
   "source": [
    " 1. *books*"
   ]
  },
  {
   "cell_type": "code",
   "execution_count": 2,
   "metadata": {},
   "outputs": [
    {
     "data": {
      "text/html": [
       "<div>\n",
       "<style scoped>\n",
       "    .dataframe tbody tr th:only-of-type {\n",
       "        vertical-align: middle;\n",
       "    }\n",
       "\n",
       "    .dataframe tbody tr th {\n",
       "        vertical-align: top;\n",
       "    }\n",
       "\n",
       "    .dataframe thead th {\n",
       "        text-align: right;\n",
       "    }\n",
       "</style>\n",
       "<table border=\"1\" class=\"dataframe\">\n",
       "  <thead>\n",
       "    <tr style=\"text-align: right;\">\n",
       "      <th></th>\n",
       "      <th>book_id</th>\n",
       "      <th>author_id</th>\n",
       "      <th>title</th>\n",
       "      <th>num_pages</th>\n",
       "      <th>publication_date</th>\n",
       "      <th>publisher_id</th>\n",
       "    </tr>\n",
       "  </thead>\n",
       "  <tbody>\n",
       "    <tr>\n",
       "      <td>0</td>\n",
       "      <td>1</td>\n",
       "      <td>546</td>\n",
       "      <td>'Salem's Lot</td>\n",
       "      <td>594</td>\n",
       "      <td>2005-11-01</td>\n",
       "      <td>93</td>\n",
       "    </tr>\n",
       "    <tr>\n",
       "      <td>1</td>\n",
       "      <td>2</td>\n",
       "      <td>465</td>\n",
       "      <td>1 000 Places to See Before You Die</td>\n",
       "      <td>992</td>\n",
       "      <td>2003-05-22</td>\n",
       "      <td>336</td>\n",
       "    </tr>\n",
       "    <tr>\n",
       "      <td>2</td>\n",
       "      <td>3</td>\n",
       "      <td>407</td>\n",
       "      <td>13 Little Blue Envelopes (Little Blue Envelope...</td>\n",
       "      <td>322</td>\n",
       "      <td>2010-12-21</td>\n",
       "      <td>135</td>\n",
       "    </tr>\n",
       "    <tr>\n",
       "      <td>3</td>\n",
       "      <td>4</td>\n",
       "      <td>82</td>\n",
       "      <td>1491: New Revelations of the Americas Before C...</td>\n",
       "      <td>541</td>\n",
       "      <td>2006-10-10</td>\n",
       "      <td>309</td>\n",
       "    </tr>\n",
       "    <tr>\n",
       "      <td>4</td>\n",
       "      <td>5</td>\n",
       "      <td>125</td>\n",
       "      <td>1776</td>\n",
       "      <td>386</td>\n",
       "      <td>2006-07-04</td>\n",
       "      <td>268</td>\n",
       "    </tr>\n",
       "    <tr>\n",
       "      <td>...</td>\n",
       "      <td>...</td>\n",
       "      <td>...</td>\n",
       "      <td>...</td>\n",
       "      <td>...</td>\n",
       "      <td>...</td>\n",
       "      <td>...</td>\n",
       "    </tr>\n",
       "    <tr>\n",
       "      <td>995</td>\n",
       "      <td>996</td>\n",
       "      <td>571</td>\n",
       "      <td>Wyrd Sisters (Discworld  #6; Witches #2)</td>\n",
       "      <td>265</td>\n",
       "      <td>2001-02-06</td>\n",
       "      <td>147</td>\n",
       "    </tr>\n",
       "    <tr>\n",
       "      <td>996</td>\n",
       "      <td>997</td>\n",
       "      <td>454</td>\n",
       "      <td>Xenocide (Ender's Saga  #3)</td>\n",
       "      <td>592</td>\n",
       "      <td>1996-07-15</td>\n",
       "      <td>297</td>\n",
       "    </tr>\n",
       "    <tr>\n",
       "      <td>997</td>\n",
       "      <td>998</td>\n",
       "      <td>201</td>\n",
       "      <td>Year of Wonders</td>\n",
       "      <td>358</td>\n",
       "      <td>2002-04-30</td>\n",
       "      <td>212</td>\n",
       "    </tr>\n",
       "    <tr>\n",
       "      <td>998</td>\n",
       "      <td>999</td>\n",
       "      <td>94</td>\n",
       "      <td>You Suck (A Love Story  #2)</td>\n",
       "      <td>328</td>\n",
       "      <td>2007-01-16</td>\n",
       "      <td>331</td>\n",
       "    </tr>\n",
       "    <tr>\n",
       "      <td>999</td>\n",
       "      <td>1000</td>\n",
       "      <td>509</td>\n",
       "      <td>Zen and the Art of Motorcycle Maintenance: An ...</td>\n",
       "      <td>540</td>\n",
       "      <td>2006-04-25</td>\n",
       "      <td>143</td>\n",
       "    </tr>\n",
       "  </tbody>\n",
       "</table>\n",
       "<p>1000 rows × 6 columns</p>\n",
       "</div>"
      ],
      "text/plain": [
       "     book_id  author_id                                              title  \\\n",
       "0          1        546                                       'Salem's Lot   \n",
       "1          2        465                 1 000 Places to See Before You Die   \n",
       "2          3        407  13 Little Blue Envelopes (Little Blue Envelope...   \n",
       "3          4         82  1491: New Revelations of the Americas Before C...   \n",
       "4          5        125                                               1776   \n",
       "..       ...        ...                                                ...   \n",
       "995      996        571           Wyrd Sisters (Discworld  #6; Witches #2)   \n",
       "996      997        454                        Xenocide (Ender's Saga  #3)   \n",
       "997      998        201                                    Year of Wonders   \n",
       "998      999         94                        You Suck (A Love Story  #2)   \n",
       "999     1000        509  Zen and the Art of Motorcycle Maintenance: An ...   \n",
       "\n",
       "     num_pages publication_date  publisher_id  \n",
       "0          594       2005-11-01            93  \n",
       "1          992       2003-05-22           336  \n",
       "2          322       2010-12-21           135  \n",
       "3          541       2006-10-10           309  \n",
       "4          386       2006-07-04           268  \n",
       "..         ...              ...           ...  \n",
       "995        265       2001-02-06           147  \n",
       "996        592       1996-07-15           297  \n",
       "997        358       2002-04-30           212  \n",
       "998        328       2007-01-16           331  \n",
       "999        540       2006-04-25           143  \n",
       "\n",
       "[1000 rows x 6 columns]"
      ]
     },
     "execution_count": 2,
     "metadata": {},
     "output_type": "execute_result"
    }
   ],
   "source": [
    "query = ''' \n",
    "    SELECT *\n",
    "    FROM\n",
    "        books\n",
    "    '''\n",
    "pd.io.sql.read_sql(query, con = engine)"
   ]
  },
  {
   "cell_type": "markdown",
   "metadata": {},
   "source": [
    " 2. *authors*"
   ]
  },
  {
   "cell_type": "code",
   "execution_count": 3,
   "metadata": {},
   "outputs": [
    {
     "data": {
      "text/html": [
       "<div>\n",
       "<style scoped>\n",
       "    .dataframe tbody tr th:only-of-type {\n",
       "        vertical-align: middle;\n",
       "    }\n",
       "\n",
       "    .dataframe tbody tr th {\n",
       "        vertical-align: top;\n",
       "    }\n",
       "\n",
       "    .dataframe thead th {\n",
       "        text-align: right;\n",
       "    }\n",
       "</style>\n",
       "<table border=\"1\" class=\"dataframe\">\n",
       "  <thead>\n",
       "    <tr style=\"text-align: right;\">\n",
       "      <th></th>\n",
       "      <th>author_id</th>\n",
       "      <th>author</th>\n",
       "    </tr>\n",
       "  </thead>\n",
       "  <tbody>\n",
       "    <tr>\n",
       "      <td>0</td>\n",
       "      <td>1</td>\n",
       "      <td>A.S. Byatt</td>\n",
       "    </tr>\n",
       "    <tr>\n",
       "      <td>1</td>\n",
       "      <td>2</td>\n",
       "      <td>Aesop/Laura Harris/Laura Gibbs</td>\n",
       "    </tr>\n",
       "    <tr>\n",
       "      <td>2</td>\n",
       "      <td>3</td>\n",
       "      <td>Agatha Christie</td>\n",
       "    </tr>\n",
       "  </tbody>\n",
       "</table>\n",
       "</div>"
      ],
      "text/plain": [
       "   author_id                          author\n",
       "0          1                      A.S. Byatt\n",
       "1          2  Aesop/Laura Harris/Laura Gibbs\n",
       "2          3                 Agatha Christie"
      ]
     },
     "execution_count": 3,
     "metadata": {},
     "output_type": "execute_result"
    }
   ],
   "source": [
    "query = ''' \n",
    "    SELECT *\n",
    "    FROM\n",
    "        authors\n",
    "    LIMIT 3\n",
    "    '''\n",
    "pd.io.sql.read_sql(query, con = engine)"
   ]
  },
  {
   "cell_type": "markdown",
   "metadata": {},
   "source": [
    " 3. *publishers*"
   ]
  },
  {
   "cell_type": "code",
   "execution_count": 4,
   "metadata": {},
   "outputs": [
    {
     "data": {
      "text/html": [
       "<div>\n",
       "<style scoped>\n",
       "    .dataframe tbody tr th:only-of-type {\n",
       "        vertical-align: middle;\n",
       "    }\n",
       "\n",
       "    .dataframe tbody tr th {\n",
       "        vertical-align: top;\n",
       "    }\n",
       "\n",
       "    .dataframe thead th {\n",
       "        text-align: right;\n",
       "    }\n",
       "</style>\n",
       "<table border=\"1\" class=\"dataframe\">\n",
       "  <thead>\n",
       "    <tr style=\"text-align: right;\">\n",
       "      <th></th>\n",
       "      <th>publisher_id</th>\n",
       "      <th>publisher</th>\n",
       "    </tr>\n",
       "  </thead>\n",
       "  <tbody>\n",
       "    <tr>\n",
       "      <td>0</td>\n",
       "      <td>1</td>\n",
       "      <td>Ace</td>\n",
       "    </tr>\n",
       "    <tr>\n",
       "      <td>1</td>\n",
       "      <td>2</td>\n",
       "      <td>Ace Book</td>\n",
       "    </tr>\n",
       "    <tr>\n",
       "      <td>2</td>\n",
       "      <td>3</td>\n",
       "      <td>Ace Books</td>\n",
       "    </tr>\n",
       "  </tbody>\n",
       "</table>\n",
       "</div>"
      ],
      "text/plain": [
       "   publisher_id  publisher\n",
       "0             1        Ace\n",
       "1             2   Ace Book\n",
       "2             3  Ace Books"
      ]
     },
     "execution_count": 4,
     "metadata": {},
     "output_type": "execute_result"
    }
   ],
   "source": [
    "query = ''' \n",
    "    SELECT *\n",
    "    FROM\n",
    "        publishers\n",
    "    LIMIT 3\n",
    "    '''\n",
    "pd.io.sql.read_sql(query, con = engine)"
   ]
  },
  {
   "cell_type": "markdown",
   "metadata": {},
   "source": [
    " 4. *ratings*"
   ]
  },
  {
   "cell_type": "code",
   "execution_count": 5,
   "metadata": {},
   "outputs": [
    {
     "data": {
      "text/html": [
       "<div>\n",
       "<style scoped>\n",
       "    .dataframe tbody tr th:only-of-type {\n",
       "        vertical-align: middle;\n",
       "    }\n",
       "\n",
       "    .dataframe tbody tr th {\n",
       "        vertical-align: top;\n",
       "    }\n",
       "\n",
       "    .dataframe thead th {\n",
       "        text-align: right;\n",
       "    }\n",
       "</style>\n",
       "<table border=\"1\" class=\"dataframe\">\n",
       "  <thead>\n",
       "    <tr style=\"text-align: right;\">\n",
       "      <th></th>\n",
       "      <th>rating_id</th>\n",
       "      <th>book_id</th>\n",
       "      <th>username</th>\n",
       "      <th>rating</th>\n",
       "    </tr>\n",
       "  </thead>\n",
       "  <tbody>\n",
       "    <tr>\n",
       "      <td>0</td>\n",
       "      <td>1</td>\n",
       "      <td>1</td>\n",
       "      <td>ryanfranco</td>\n",
       "      <td>4</td>\n",
       "    </tr>\n",
       "    <tr>\n",
       "      <td>1</td>\n",
       "      <td>2</td>\n",
       "      <td>1</td>\n",
       "      <td>grantpatricia</td>\n",
       "      <td>2</td>\n",
       "    </tr>\n",
       "    <tr>\n",
       "      <td>2</td>\n",
       "      <td>3</td>\n",
       "      <td>1</td>\n",
       "      <td>brandtandrea</td>\n",
       "      <td>5</td>\n",
       "    </tr>\n",
       "  </tbody>\n",
       "</table>\n",
       "</div>"
      ],
      "text/plain": [
       "   rating_id  book_id       username  rating\n",
       "0          1        1     ryanfranco       4\n",
       "1          2        1  grantpatricia       2\n",
       "2          3        1   brandtandrea       5"
      ]
     },
     "execution_count": 5,
     "metadata": {},
     "output_type": "execute_result"
    }
   ],
   "source": [
    "query = ''' \n",
    "    SELECT *\n",
    "    FROM\n",
    "        ratings\n",
    "    LIMIT 3\n",
    "    '''\n",
    "pd.io.sql.read_sql(query, con = engine)"
   ]
  },
  {
   "cell_type": "markdown",
   "metadata": {},
   "source": [
    " 5. *reviews*"
   ]
  },
  {
   "cell_type": "code",
   "execution_count": 6,
   "metadata": {},
   "outputs": [
    {
     "data": {
      "text/html": [
       "<div>\n",
       "<style scoped>\n",
       "    .dataframe tbody tr th:only-of-type {\n",
       "        vertical-align: middle;\n",
       "    }\n",
       "\n",
       "    .dataframe tbody tr th {\n",
       "        vertical-align: top;\n",
       "    }\n",
       "\n",
       "    .dataframe thead th {\n",
       "        text-align: right;\n",
       "    }\n",
       "</style>\n",
       "<table border=\"1\" class=\"dataframe\">\n",
       "  <thead>\n",
       "    <tr style=\"text-align: right;\">\n",
       "      <th></th>\n",
       "      <th>review_id</th>\n",
       "      <th>book_id</th>\n",
       "      <th>username</th>\n",
       "      <th>text</th>\n",
       "    </tr>\n",
       "  </thead>\n",
       "  <tbody>\n",
       "    <tr>\n",
       "      <td>0</td>\n",
       "      <td>1</td>\n",
       "      <td>1</td>\n",
       "      <td>brandtandrea</td>\n",
       "      <td>Mention society tell send professor analysis. ...</td>\n",
       "    </tr>\n",
       "    <tr>\n",
       "      <td>1</td>\n",
       "      <td>2</td>\n",
       "      <td>1</td>\n",
       "      <td>ryanfranco</td>\n",
       "      <td>Foot glass pretty audience hit themselves. Amo...</td>\n",
       "    </tr>\n",
       "    <tr>\n",
       "      <td>2</td>\n",
       "      <td>3</td>\n",
       "      <td>2</td>\n",
       "      <td>lorichen</td>\n",
       "      <td>Listen treat keep worry. Miss husband tax but ...</td>\n",
       "    </tr>\n",
       "  </tbody>\n",
       "</table>\n",
       "</div>"
      ],
      "text/plain": [
       "   review_id  book_id      username  \\\n",
       "0          1        1  brandtandrea   \n",
       "1          2        1    ryanfranco   \n",
       "2          3        2      lorichen   \n",
       "\n",
       "                                                text  \n",
       "0  Mention society tell send professor analysis. ...  \n",
       "1  Foot glass pretty audience hit themselves. Amo...  \n",
       "2  Listen treat keep worry. Miss husband tax but ...  "
      ]
     },
     "execution_count": 6,
     "metadata": {},
     "output_type": "execute_result"
    }
   ],
   "source": [
    "query = ''' \n",
    "    SELECT *\n",
    "    FROM\n",
    "        reviews\n",
    "    LIMIT 3\n",
    "    '''\n",
    "pd.io.sql.read_sql(query, con = engine)"
   ]
  },
  {
   "cell_type": "markdown",
   "metadata": {},
   "source": [
    "## 2. Посчитаем сколько книг вышло после 1 января 2000 года:"
   ]
  },
  {
   "cell_type": "markdown",
   "metadata": {},
   "source": [
    "Выполняем запрос и сохраняем результат выполнения в DataFrame:"
   ]
  },
  {
   "cell_type": "code",
   "execution_count": 7,
   "metadata": {},
   "outputs": [
    {
     "name": "stdout",
     "output_type": "stream",
     "text": [
      "Количество книг вышло после 1 января 2000 года: 821\n"
     ]
    }
   ],
   "source": [
    "query = ''' \n",
    "        SELECT COUNT(book_id)\n",
    "        FROM books\n",
    "        WHERE publication_date >= '2000-01-01'\n",
    "        '''\n",
    "count_books = pd.io.sql.read_sql(query, con = engine)\n",
    "print('Количество книг вышло после 1 января 2000 года:', count_books['count'][0])"
   ]
  },
  {
   "cell_type": "markdown",
   "metadata": {},
   "source": [
    "## 3. Для каждой книги посчитаем количество обзоров и среднюю оценку:"
   ]
  },
  {
   "cell_type": "code",
   "execution_count": 8,
   "metadata": {},
   "outputs": [
    {
     "data": {
      "text/html": [
       "<div>\n",
       "<style scoped>\n",
       "    .dataframe tbody tr th:only-of-type {\n",
       "        vertical-align: middle;\n",
       "    }\n",
       "\n",
       "    .dataframe tbody tr th {\n",
       "        vertical-align: top;\n",
       "    }\n",
       "\n",
       "    .dataframe thead th {\n",
       "        text-align: right;\n",
       "    }\n",
       "</style>\n",
       "<table border=\"1\" class=\"dataframe\">\n",
       "  <thead>\n",
       "    <tr style=\"text-align: right;\">\n",
       "      <th></th>\n",
       "      <th>ID книги</th>\n",
       "      <th>Название книги</th>\n",
       "      <th>Оценка</th>\n",
       "      <th>Количество обзоров</th>\n",
       "    </tr>\n",
       "  </thead>\n",
       "  <tbody>\n",
       "    <tr>\n",
       "      <td>0</td>\n",
       "      <td>229</td>\n",
       "      <td>Evil Under the Sun (Hercule Poirot  #24)</td>\n",
       "      <td>5.00</td>\n",
       "      <td>2.0</td>\n",
       "    </tr>\n",
       "    <tr>\n",
       "      <td>1</td>\n",
       "      <td>55</td>\n",
       "      <td>A Woman of Substance (Emma Harte Saga #1)</td>\n",
       "      <td>5.00</td>\n",
       "      <td>2.0</td>\n",
       "    </tr>\n",
       "    <tr>\n",
       "      <td>2</td>\n",
       "      <td>518</td>\n",
       "      <td>Pop Goes the Weasel (Alex Cross  #5)</td>\n",
       "      <td>5.00</td>\n",
       "      <td>2.0</td>\n",
       "    </tr>\n",
       "    <tr>\n",
       "      <td>3</td>\n",
       "      <td>902</td>\n",
       "      <td>The War of Art: Break Through the Blocks &amp; Win...</td>\n",
       "      <td>5.00</td>\n",
       "      <td>2.0</td>\n",
       "    </tr>\n",
       "    <tr>\n",
       "      <td>4</td>\n",
       "      <td>421</td>\n",
       "      <td>Marvel 1602</td>\n",
       "      <td>5.00</td>\n",
       "      <td>2.0</td>\n",
       "    </tr>\n",
       "    <tr>\n",
       "      <td>...</td>\n",
       "      <td>...</td>\n",
       "      <td>...</td>\n",
       "      <td>...</td>\n",
       "      <td>...</td>\n",
       "    </tr>\n",
       "    <tr>\n",
       "      <td>995</td>\n",
       "      <td>915</td>\n",
       "      <td>The World Is Flat: A Brief History of the Twen...</td>\n",
       "      <td>2.25</td>\n",
       "      <td>3.0</td>\n",
       "    </tr>\n",
       "    <tr>\n",
       "      <td>996</td>\n",
       "      <td>371</td>\n",
       "      <td>Junky</td>\n",
       "      <td>2.00</td>\n",
       "      <td>2.0</td>\n",
       "    </tr>\n",
       "    <tr>\n",
       "      <td>997</td>\n",
       "      <td>316</td>\n",
       "      <td>His Excellency: George Washington</td>\n",
       "      <td>2.00</td>\n",
       "      <td>2.0</td>\n",
       "    </tr>\n",
       "    <tr>\n",
       "      <td>998</td>\n",
       "      <td>202</td>\n",
       "      <td>Drowning Ruth</td>\n",
       "      <td>2.00</td>\n",
       "      <td>3.0</td>\n",
       "    </tr>\n",
       "    <tr>\n",
       "      <td>999</td>\n",
       "      <td>303</td>\n",
       "      <td>Harvesting the Heart</td>\n",
       "      <td>1.50</td>\n",
       "      <td>2.0</td>\n",
       "    </tr>\n",
       "  </tbody>\n",
       "</table>\n",
       "<p>1000 rows × 4 columns</p>\n",
       "</div>"
      ],
      "text/plain": [
       "     ID книги                                     Название книги  Оценка  \\\n",
       "0         229           Evil Under the Sun (Hercule Poirot  #24)    5.00   \n",
       "1          55          A Woman of Substance (Emma Harte Saga #1)    5.00   \n",
       "2         518               Pop Goes the Weasel (Alex Cross  #5)    5.00   \n",
       "3         902  The War of Art: Break Through the Blocks & Win...    5.00   \n",
       "4         421                                        Marvel 1602    5.00   \n",
       "..        ...                                                ...     ...   \n",
       "995       915  The World Is Flat: A Brief History of the Twen...    2.25   \n",
       "996       371                                              Junky    2.00   \n",
       "997       316                  His Excellency: George Washington    2.00   \n",
       "998       202                                      Drowning Ruth    2.00   \n",
       "999       303                               Harvesting the Heart    1.50   \n",
       "\n",
       "     Количество обзоров  \n",
       "0                   2.0  \n",
       "1                   2.0  \n",
       "2                   2.0  \n",
       "3                   2.0  \n",
       "4                   2.0  \n",
       "..                  ...  \n",
       "995                 3.0  \n",
       "996                 2.0  \n",
       "997                 2.0  \n",
       "998                 3.0  \n",
       "999                 2.0  \n",
       "\n",
       "[1000 rows x 4 columns]"
      ]
     },
     "execution_count": 8,
     "metadata": {},
     "output_type": "execute_result"
    }
   ],
   "source": [
    "query = ''' \n",
    "        SELECT\n",
    "          book_id as \"ID книги\", \n",
    "          title as \"Название книги\",\n",
    "          ROUND(t_mean_ratings.avg_rating, 2) as \"Оценка\",\n",
    "          t_cnt_review.cnt_review as \"Количество обзоров\"\n",
    "        FROM\n",
    "            books\n",
    "            LEFT JOIN (\n",
    "                SELECT\n",
    "                    AVG(rating) as avg_rating,\n",
    "                    book_id as name_id\n",
    "                FROM\n",
    "                    ratings\n",
    "                GROUP BY\n",
    "                    book_id\n",
    "            ) as t_mean_ratings ON t_mean_ratings.name_id = books.book_id\n",
    "            LEFT JOIN(\n",
    "                SELECT\n",
    "                    COUNT(review_id) as cnt_review,\n",
    "                    book_id as book_id_reviews\n",
    "                FROM\n",
    "                    reviews\n",
    "                GROUP BY\n",
    "                    book_id\n",
    "            ) as t_cnt_review ON t_cnt_review.book_id_reviews = books.book_id\n",
    "        GROUP BY\n",
    "            book_id,\n",
    "            t_mean_ratings.avg_rating,\n",
    "            t_cnt_review.cnt_review\n",
    "        ORDER BY\n",
    "            \"Оценка\" DESC\n",
    "        '''\n",
    "pd.io.sql.read_sql(query, con=engine)"
   ]
  },
  {
   "cell_type": "markdown",
   "metadata": {},
   "source": [
    "## 4. Определить издательство, которое выпустило наибольшее число книг толще 50 страниц — так исключим из анализа брошюры:"
   ]
  },
  {
   "cell_type": "code",
   "execution_count": 9,
   "metadata": {},
   "outputs": [
    {
     "data": {
      "text/html": [
       "<div>\n",
       "<style scoped>\n",
       "    .dataframe tbody tr th:only-of-type {\n",
       "        vertical-align: middle;\n",
       "    }\n",
       "\n",
       "    .dataframe tbody tr th {\n",
       "        vertical-align: top;\n",
       "    }\n",
       "\n",
       "    .dataframe thead th {\n",
       "        text-align: right;\n",
       "    }\n",
       "</style>\n",
       "<table border=\"1\" class=\"dataframe\">\n",
       "  <thead>\n",
       "    <tr style=\"text-align: right;\">\n",
       "      <th></th>\n",
       "      <th>Количество книг</th>\n",
       "      <th>Издательство</th>\n",
       "    </tr>\n",
       "  </thead>\n",
       "  <tbody>\n",
       "    <tr>\n",
       "      <td>0</td>\n",
       "      <td>42</td>\n",
       "      <td>Penguin Books</td>\n",
       "    </tr>\n",
       "  </tbody>\n",
       "</table>\n",
       "</div>"
      ],
      "text/plain": [
       "   Количество книг   Издательство\n",
       "0               42  Penguin Books"
      ]
     },
     "execution_count": 9,
     "metadata": {},
     "output_type": "execute_result"
    }
   ],
   "source": [
    "query = '''\n",
    "    SELECT\n",
    "        count_books as \"Количество книг\",\n",
    "        publisher as \"Издательство\"\n",
    "    FROM (\n",
    "        SELECT\n",
    "            COUNT(num_pages) as count_books,\n",
    "            publisher_id\n",
    "        FROM\n",
    "            books\n",
    "        WHERE\n",
    "            num_pages > 50\n",
    "        GROUP BY\n",
    "            publisher_id) as sub\n",
    "        LEFT JOIN publishers on sub.publisher_id = publishers.publisher_id\n",
    "    WHERE\n",
    "        count_books = (\n",
    "            SELECT\n",
    "                MAX(count_books) as max_cnt\n",
    "            FROM (\n",
    "                    SELECT\n",
    "                        COUNT(num_pages) as count_books,\n",
    "                        publisher_id\n",
    "                    FROM\n",
    "                        books\n",
    "                    WHERE\n",
    "                        num_pages > 50\n",
    "                    GROUP BY\n",
    "                        publisher_id) as sub2\n",
    "        )\n",
    "        '''\n",
    "pd.io.sql.read_sql(query, con=engine)\n"
   ]
  },
  {
   "cell_type": "markdown",
   "metadata": {},
   "source": [
    "# 5. Определить автора с самой высокой средней оценкой книг — учитывайте только книги с 50 и более оценками"
   ]
  },
  {
   "cell_type": "code",
   "execution_count": 28,
   "metadata": {},
   "outputs": [
    {
     "data": {
      "text/html": [
       "<div>\n",
       "<style scoped>\n",
       "    .dataframe tbody tr th:only-of-type {\n",
       "        vertical-align: middle;\n",
       "    }\n",
       "\n",
       "    .dataframe tbody tr th {\n",
       "        vertical-align: top;\n",
       "    }\n",
       "\n",
       "    .dataframe thead th {\n",
       "        text-align: right;\n",
       "    }\n",
       "</style>\n",
       "<table border=\"1\" class=\"dataframe\">\n",
       "  <thead>\n",
       "    <tr style=\"text-align: right;\">\n",
       "      <th></th>\n",
       "      <th>ID автора</th>\n",
       "      <th>Рейтинг</th>\n",
       "      <th>author</th>\n",
       "    </tr>\n",
       "  </thead>\n",
       "  <tbody>\n",
       "    <tr>\n",
       "      <td>0</td>\n",
       "      <td>236</td>\n",
       "      <td>4.284</td>\n",
       "      <td>J.K. Rowling/Mary GrandPré</td>\n",
       "    </tr>\n",
       "  </tbody>\n",
       "</table>\n",
       "</div>"
      ],
      "text/plain": [
       "   ID автора  Рейтинг                      author\n",
       "0        236    4.284  J.K. Rowling/Mary GrandPré"
      ]
     },
     "execution_count": 28,
     "metadata": {},
     "output_type": "execute_result"
    }
   ],
   "source": [
    "query = '''\n",
    "    SELECT\n",
    "        author_id as \"ID автора\",\n",
    "        ROUND(AVG(max_rating.avg_rating), 3) as \"Рейтинг\",\n",
    "        author\n",
    "    FROM\n",
    "        books\n",
    "        RIGHT JOIN(\n",
    "            SELECT\n",
    "                author_id as a_id,\n",
    "                author\n",
    "            FROM\n",
    "                authors\n",
    "                ) as max_author on max_author.a_id = books.author_id\n",
    "        RIGHT JOIN(\n",
    "            SELECT\n",
    "                book_id as b_id,\n",
    "                COUNT(rating_id) as cnt_rating,\n",
    "                AVG(rating) as avg_rating\n",
    "            FROM\n",
    "                ratings\n",
    "            GROUP BY\n",
    "                book_id\n",
    "            HAVING\n",
    "                COUNT(rating_id) >= 50\n",
    "            ORDER BY \n",
    "                avg_rating DESC\n",
    "                ) as max_rating on max_rating.b_id = books.book_id\n",
    "    GROUP BY\n",
    "        author_id,\n",
    "        author\n",
    "    ORDER BY \n",
    "        \"Рейтинг\" DESC\n",
    "    LIMIT 1\n",
    "        '''\n",
    "pd.io.sql.read_sql(query, con=engine)"
   ]
  },
  {
   "cell_type": "markdown",
   "metadata": {},
   "source": [
    "# 6. Cреднее количество обзоров от пользователей, которые поставили больше 50 оценок"
   ]
  },
  {
   "cell_type": "code",
   "execution_count": 11,
   "metadata": {},
   "outputs": [
    {
     "data": {
      "text/html": [
       "<div>\n",
       "<style scoped>\n",
       "    .dataframe tbody tr th:only-of-type {\n",
       "        vertical-align: middle;\n",
       "    }\n",
       "\n",
       "    .dataframe tbody tr th {\n",
       "        vertical-align: top;\n",
       "    }\n",
       "\n",
       "    .dataframe thead th {\n",
       "        text-align: right;\n",
       "    }\n",
       "</style>\n",
       "<table border=\"1\" class=\"dataframe\">\n",
       "  <thead>\n",
       "    <tr style=\"text-align: right;\">\n",
       "      <th></th>\n",
       "      <th>Среднее количество обзоров</th>\n",
       "    </tr>\n",
       "  </thead>\n",
       "  <tbody>\n",
       "    <tr>\n",
       "      <td>0</td>\n",
       "      <td>24.3</td>\n",
       "    </tr>\n",
       "  </tbody>\n",
       "</table>\n",
       "</div>"
      ],
      "text/plain": [
       "   Среднее количество обзоров\n",
       "0                        24.3"
      ]
     },
     "execution_count": 11,
     "metadata": {},
     "output_type": "execute_result"
    }
   ],
   "source": [
    "query = '''\n",
    "    SELECT\n",
    "        ROUND(AVG(cnt.cnt_r), 1) as \"Среднее количество обзоров\"\n",
    "    FROM (\n",
    "        SELECT\n",
    "            COUNT(review_id) as \"cnt_r\"\n",
    "        FROM \n",
    "            reviews\n",
    "            RIGHT JOIN(\n",
    "                SELECT\n",
    "                    username as id,\n",
    "                    COUNT(rating_id) as \"cnt_rating\"\n",
    "                FROM\n",
    "                    ratings\n",
    "                GROUP BY\n",
    "                    username\n",
    "                HAVING\n",
    "                    COUNT(rating_id) > 50\n",
    "                    ) as count_rating on count_rating.id = reviews.username\n",
    "        GROUP BY\n",
    "            username\n",
    "        ORDER BY \n",
    "            cnt_r DESC\n",
    "        ) as cnt\n",
    "        '''\n",
    "pd.io.sql.read_sql(query, con=engine)"
   ]
  }
 ],
 "metadata": {
  "ExecuteTimeLog": [
   {
    "duration": 711,
    "start_time": "2021-09-22T07:55:17.170Z"
   },
   {
    "duration": 278,
    "start_time": "2021-09-22T07:55:17.883Z"
   },
   {
    "duration": 66,
    "start_time": "2021-09-22T07:55:18.164Z"
   },
   {
    "duration": 66,
    "start_time": "2021-09-22T07:55:18.232Z"
   },
   {
    "duration": 66,
    "start_time": "2021-09-22T07:55:18.300Z"
   },
   {
    "duration": 68,
    "start_time": "2021-09-22T07:55:18.368Z"
   },
   {
    "duration": 65,
    "start_time": "2021-09-22T07:55:18.438Z"
   },
   {
    "duration": 74,
    "start_time": "2021-09-22T07:55:18.506Z"
   },
   {
    "duration": 5,
    "start_time": "2021-09-22T07:55:18.582Z"
   },
   {
    "duration": 79,
    "start_time": "2021-09-22T07:55:18.589Z"
   },
   {
    "duration": 72,
    "start_time": "2021-09-22T07:55:18.669Z"
   },
   {
    "duration": 69,
    "start_time": "2021-09-22T07:55:18.743Z"
   },
   {
    "duration": 83,
    "start_time": "2021-09-22T07:58:16.359Z"
   },
   {
    "duration": 85,
    "start_time": "2021-09-22T07:58:21.696Z"
   },
   {
    "duration": 84,
    "start_time": "2021-09-22T07:58:35.533Z"
   },
   {
    "duration": 81,
    "start_time": "2021-09-22T07:59:06.313Z"
   },
   {
    "duration": 314,
    "start_time": "2021-09-22T14:33:07.038Z"
   },
   {
    "duration": 715,
    "start_time": "2021-09-22T14:33:12.816Z"
   },
   {
    "duration": 302,
    "start_time": "2021-09-22T14:33:13.533Z"
   },
   {
    "duration": 74,
    "start_time": "2021-09-22T14:33:13.837Z"
   },
   {
    "duration": 74,
    "start_time": "2021-09-22T14:33:13.913Z"
   },
   {
    "duration": 75,
    "start_time": "2021-09-22T14:33:13.989Z"
   },
   {
    "duration": 75,
    "start_time": "2021-09-22T14:33:14.066Z"
   },
   {
    "duration": 72,
    "start_time": "2021-09-22T14:33:14.143Z"
   },
   {
    "duration": 82,
    "start_time": "2021-09-22T14:33:14.217Z"
   },
   {
    "duration": 5,
    "start_time": "2021-09-22T14:33:14.301Z"
   },
   {
    "duration": 81,
    "start_time": "2021-09-22T14:33:14.307Z"
   },
   {
    "duration": 76,
    "start_time": "2021-09-22T14:33:14.390Z"
   },
   {
    "duration": 76,
    "start_time": "2021-09-22T14:33:14.468Z"
   },
   {
    "duration": 71,
    "start_time": "2021-09-22T14:33:37.512Z"
   },
   {
    "duration": 94,
    "start_time": "2021-09-22T14:46:55.885Z"
   },
   {
    "duration": 91,
    "start_time": "2021-09-22T14:48:17.572Z"
   },
   {
    "duration": 103,
    "start_time": "2021-09-22T14:49:03.512Z"
   },
   {
    "duration": 95,
    "start_time": "2021-09-22T14:49:47.627Z"
   },
   {
    "duration": 93,
    "start_time": "2021-09-22T14:49:55.113Z"
   },
   {
    "duration": 94,
    "start_time": "2021-09-22T14:50:06.014Z"
   },
   {
    "duration": 89,
    "start_time": "2021-09-22T14:52:10.817Z"
   },
   {
    "duration": 425,
    "start_time": "2021-09-22T14:55:11.339Z"
   },
   {
    "duration": 381,
    "start_time": "2021-09-22T14:55:54.685Z"
   },
   {
    "duration": 369,
    "start_time": "2021-09-22T14:56:52.172Z"
   },
   {
    "duration": 429,
    "start_time": "2021-09-22T14:57:31.796Z"
   },
   {
    "duration": 361,
    "start_time": "2021-09-22T14:58:23.592Z"
   },
   {
    "duration": 346,
    "start_time": "2021-09-22T14:58:50.476Z"
   },
   {
    "duration": 331,
    "start_time": "2021-09-22T14:59:08.957Z"
   },
   {
    "duration": 104,
    "start_time": "2021-09-22T15:00:05.652Z"
   },
   {
    "duration": 364,
    "start_time": "2021-09-22T15:04:18.316Z"
   },
   {
    "duration": 357,
    "start_time": "2021-09-22T15:04:52.084Z"
   },
   {
    "duration": 340,
    "start_time": "2021-09-22T15:05:38.212Z"
   },
   {
    "duration": 105,
    "start_time": "2021-09-22T15:08:44.780Z"
   },
   {
    "duration": 107,
    "start_time": "2021-09-22T15:09:20.760Z"
   },
   {
    "duration": 107,
    "start_time": "2021-09-22T15:10:27.374Z"
   },
   {
    "duration": 106,
    "start_time": "2021-09-22T15:10:57.122Z"
   },
   {
    "duration": 393,
    "start_time": "2021-09-22T15:11:19.373Z"
   },
   {
    "duration": 443,
    "start_time": "2021-09-22T15:11:24.305Z"
   },
   {
    "duration": 105,
    "start_time": "2021-09-22T15:11:35.648Z"
   },
   {
    "duration": 106,
    "start_time": "2021-09-22T15:11:54.090Z"
   },
   {
    "duration": 108,
    "start_time": "2021-09-22T15:12:05.272Z"
   },
   {
    "duration": 93,
    "start_time": "2021-09-22T15:13:15.052Z"
   },
   {
    "duration": 78,
    "start_time": "2021-09-22T15:23:51.810Z"
   },
   {
    "duration": 77,
    "start_time": "2021-09-22T15:24:17.635Z"
   },
   {
    "duration": 77,
    "start_time": "2021-09-22T15:24:40.290Z"
   },
   {
    "duration": 144,
    "start_time": "2021-09-22T15:26:16.910Z"
   },
   {
    "duration": 683,
    "start_time": "2021-09-22T15:29:32.246Z"
   },
   {
    "duration": 270,
    "start_time": "2021-09-22T15:29:32.931Z"
   },
   {
    "duration": 67,
    "start_time": "2021-09-22T15:29:33.204Z"
   },
   {
    "duration": 67,
    "start_time": "2021-09-22T15:29:33.272Z"
   },
   {
    "duration": 67,
    "start_time": "2021-09-22T15:29:33.341Z"
   },
   {
    "duration": 72,
    "start_time": "2021-09-22T15:29:33.410Z"
   },
   {
    "duration": 67,
    "start_time": "2021-09-22T15:29:33.485Z"
   },
   {
    "duration": 79,
    "start_time": "2021-09-22T15:29:33.554Z"
   },
   {
    "duration": 68,
    "start_time": "2021-09-22T15:29:33.636Z"
   },
   {
    "duration": 72,
    "start_time": "2021-09-22T15:29:33.706Z"
   },
   {
    "duration": 71,
    "start_time": "2021-09-22T15:29:33.780Z"
   },
   {
    "duration": 97,
    "start_time": "2021-09-22T15:33:40.546Z"
   },
   {
    "duration": 96,
    "start_time": "2021-09-22T15:33:48.840Z"
   },
   {
    "duration": 74,
    "start_time": "2021-09-22T15:35:45.338Z"
   },
   {
    "duration": 497,
    "start_time": "2021-09-23T14:22:24.988Z"
   },
   {
    "duration": 962,
    "start_time": "2021-09-23T14:22:30.881Z"
   },
   {
    "duration": 67,
    "start_time": "2021-09-23T14:22:31.846Z"
   },
   {
    "duration": 15,
    "start_time": "2021-09-23T14:22:31.915Z"
   },
   {
    "duration": 18,
    "start_time": "2021-09-23T14:22:31.932Z"
   },
   {
    "duration": 17,
    "start_time": "2021-09-23T14:22:31.952Z"
   },
   {
    "duration": 16,
    "start_time": "2021-09-23T14:22:31.971Z"
   },
   {
    "duration": 28,
    "start_time": "2021-09-23T14:22:31.989Z"
   },
   {
    "duration": 32,
    "start_time": "2021-09-23T14:22:32.020Z"
   },
   {
    "duration": 16,
    "start_time": "2021-09-23T14:22:32.055Z"
   },
   {
    "duration": 43,
    "start_time": "2021-09-23T14:22:32.073Z"
   },
   {
    "duration": 18,
    "start_time": "2021-09-23T14:22:32.118Z"
   },
   {
    "duration": 577,
    "start_time": "2021-09-23T14:27:39.744Z"
   },
   {
    "duration": 477,
    "start_time": "2021-09-23T14:28:10.426Z"
   },
   {
    "duration": 22,
    "start_time": "2021-09-23T14:28:20.717Z"
   },
   {
    "duration": 733,
    "start_time": "2021-09-23T14:30:04.714Z"
   },
   {
    "duration": 445,
    "start_time": "2021-09-23T14:30:39.380Z"
   },
   {
    "duration": 435,
    "start_time": "2021-09-23T14:31:16.767Z"
   },
   {
    "duration": 457,
    "start_time": "2021-09-23T14:31:30.613Z"
   },
   {
    "duration": 398,
    "start_time": "2021-09-23T14:33:21.538Z"
   },
   {
    "duration": 425,
    "start_time": "2021-09-23T14:33:42.988Z"
   },
   {
    "duration": 455,
    "start_time": "2021-09-23T14:36:51.681Z"
   },
   {
    "duration": 19,
    "start_time": "2021-09-23T14:37:07.220Z"
   },
   {
    "duration": 422,
    "start_time": "2021-09-23T14:37:30.589Z"
   },
   {
    "duration": 438,
    "start_time": "2021-09-23T14:38:27.981Z"
   },
   {
    "duration": 20,
    "start_time": "2021-09-23T14:39:01.594Z"
   },
   {
    "duration": 21,
    "start_time": "2021-09-23T14:39:30.268Z"
   },
   {
    "duration": 18,
    "start_time": "2021-09-23T14:39:44.573Z"
   },
   {
    "duration": 19,
    "start_time": "2021-09-23T14:42:27.185Z"
   },
   {
    "duration": 129,
    "start_time": "2021-09-23T14:44:13.462Z"
   }
  ],
  "kernelspec": {
   "display_name": "Python 3",
   "language": "python",
   "name": "python3"
  },
  "language_info": {
   "codemirror_mode": {
    "name": "ipython",
    "version": 3
   },
   "file_extension": ".py",
   "mimetype": "text/x-python",
   "name": "python",
   "nbconvert_exporter": "python",
   "pygments_lexer": "ipython3",
   "version": "3.8.5"
  },
  "latex_envs": {
   "LaTeX_envs_menu_present": true,
   "autoclose": false,
   "autocomplete": true,
   "bibliofile": "biblio.bib",
   "cite_by": "apalike",
   "current_citInitial": 1,
   "eqLabelWithNumbers": true,
   "eqNumInitial": 1,
   "hotkeys": {
    "equation": "Ctrl-E",
    "itemize": "Ctrl-I"
   },
   "labels_anchors": false,
   "latex_user_defs": false,
   "report_style_numbering": false,
   "user_envs_cfg": false
  },
  "toc": {
   "base_numbering": 1,
   "nav_menu": {},
   "number_sections": false,
   "sideBar": true,
   "skip_h1_title": false,
   "title_cell": "Table of Contents",
   "title_sidebar": "Contents",
   "toc_cell": false,
   "toc_position": {
    "height": "calc(100% - 180px)",
    "left": "10px",
    "top": "150px",
    "width": "255.903px"
   },
   "toc_section_display": true,
   "toc_window_display": false
  },
  "varInspector": {
   "cols": {
    "lenName": 16,
    "lenType": 16,
    "lenVar": 40
   },
   "kernels_config": {
    "python": {
     "delete_cmd_postfix": "",
     "delete_cmd_prefix": "del ",
     "library": "var_list.py",
     "varRefreshCmd": "print(var_dic_list())"
    },
    "r": {
     "delete_cmd_postfix": ") ",
     "delete_cmd_prefix": "rm(",
     "library": "var_list.r",
     "varRefreshCmd": "cat(var_dic_list()) "
    }
   },
   "types_to_exclude": [
    "module",
    "function",
    "builtin_function_or_method",
    "instance",
    "_Feature"
   ],
   "window_display": false
  }
 },
 "nbformat": 4,
 "nbformat_minor": 4
}
